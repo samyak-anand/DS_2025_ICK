{
  "nbformat": 4,
  "nbformat_minor": 0,
  "metadata": {
    "colab": {
      "provenance": [],
      "authorship_tag": "ABX9TyNk6lHGT895uztEzEBeGKOP",
      "include_colab_link": true
    },
    "kernelspec": {
      "name": "python3",
      "display_name": "Python 3"
    },
    "language_info": {
      "name": "python"
    }
  },
  "cells": [
    {
      "cell_type": "markdown",
      "metadata": {
        "id": "view-in-github",
        "colab_type": "text"
      },
      "source": [
        "<a href=\"https://colab.research.google.com/github/samyak-anand/DS_2025_ICK/blob/main/Python_Variables_and_Operators.ipynb\" target=\"_parent\"><img src=\"https://colab.research.google.com/assets/colab-badge.svg\" alt=\"Open In Colab\"/></a>"
      ]
    },
    {
      "cell_type": "markdown",
      "source": [
        "1. Exercise - Data Types\n",
        "1.1 For the given variables, use the type() function in Python to check their data types:\n",
        "\n",
        "x1 = 1.1\n",
        "x2 = \"Ironhack\"\n",
        "x3 = \"1.1\"\n",
        "x4 = True\n",
        "x5 = \"True\"\n",
        "x6 = -1\n",
        "\n",
        "\n",
        "1.2 What is the difference between variables x1 and x3?\n",
        "\n",
        "1.3 What happens if you subtract x3 from x1?\n",
        "\n",
        "1.4 What is the difference between variables x4 and x5?\n",
        "\n",
        "1.5 What happens if you subtract x5 from x4?"
      ],
      "metadata": {
        "id": "109NVAGqcD8J"
      }
    },
    {
      "cell_type": "code",
      "execution_count": 1,
      "metadata": {
        "id": "0BjZZ24BZ7Eg"
      },
      "outputs": [],
      "source": [
        "x1 = 1.1\n",
        "x2 = \"Ironhack\"\n",
        "x3 = \"1.1\"\n",
        "x4 = True\n",
        "x5 = \"True\"\n",
        "x6 = -1"
      ]
    },
    {
      "cell_type": "code",
      "source": [
        "print(type(x1))  # float\n",
        "print(type(x2))  # str\n",
        "print(type(x3))  # str\n",
        "print(type(x4))  # bool\n",
        "print(type(x5))  # str\n",
        "print(type(x6))  # int"
      ],
      "metadata": {
        "colab": {
          "base_uri": "https://localhost:8080/"
        },
        "id": "uykAIDFRcSQe",
        "outputId": "2de33571-4700-4d03-af3e-927cda82c943"
      },
      "execution_count": 2,
      "outputs": [
        {
          "output_type": "stream",
          "name": "stdout",
          "text": [
            "<class 'float'>\n",
            "<class 'str'>\n",
            "<class 'str'>\n",
            "<class 'bool'>\n",
            "<class 'str'>\n",
            "<class 'int'>\n"
          ]
        }
      ]
    },
    {
      "cell_type": "code",
      "source": [
        "# 2.1 Taking user input and checking types\n",
        "x1 = input(\"Please enter an integer number: \")\n",
        "x2 = input(\"Please enter another integer number: \")\n"
      ],
      "metadata": {
        "colab": {
          "base_uri": "https://localhost:8080/"
        },
        "id": "7PQUCy-DcZWi",
        "outputId": "2bf607e9-8a29-4d4d-ff0e-ef6d5facb92a"
      },
      "execution_count": 3,
      "outputs": [
        {
          "name": "stdout",
          "output_type": "stream",
          "text": [
            "Please enter an integer number: 54\n",
            "Please enter another integer number: 45\n"
          ]
        }
      ]
    },
    {
      "cell_type": "code",
      "source": [
        "print(\"You entered:\", x1, \"and\", x2)\n",
        "print(\"Type of x1:\", type(x1))\n",
        "print(\"Type of x2:\", type(x2))\n"
      ],
      "metadata": {
        "colab": {
          "base_uri": "https://localhost:8080/"
        },
        "id": "FDukV1Gjcp_j",
        "outputId": "f28e09b8-0901-4ce0-9979-fdc1ff76d5e6"
      },
      "execution_count": 4,
      "outputs": [
        {
          "output_type": "stream",
          "name": "stdout",
          "text": [
            "You entered: 54 and 45\n",
            "Type of x1: <class 'str'>\n",
            "Type of x2: <class 'str'>\n"
          ]
        }
      ]
    },
    {
      "cell_type": "code",
      "source": [
        "# Converting to integer\n",
        "x1 = int(x1)\n",
        "x2 = int(x2)\n",
        "print(\"After conversion, x1:\", x1, \"type:\", type(x1))\n",
        "print(\"After conversion, x2:\", x2, \"type:\", type(x2))\n",
        "\n"
      ],
      "metadata": {
        "colab": {
          "base_uri": "https://localhost:8080/"
        },
        "id": "mJ9UJbZqcuNu",
        "outputId": "8a10b3a1-fe19-42e2-801f-b68b4ca8dfb4"
      },
      "execution_count": 5,
      "outputs": [
        {
          "output_type": "stream",
          "name": "stdout",
          "text": [
            "After conversion, x1: 54 type: <class 'int'>\n",
            "After conversion, x2: 45 type: <class 'int'>\n"
          ]
        }
      ]
    },
    {
      "cell_type": "code",
      "source": [
        "# 2.2 Comparisons and Arithmetic\n",
        "\n",
        "# Check equality\n",
        "print(\"Are x1 and x2 equal?\", x1 == x2)\n",
        "\n",
        "# Check if x1 > x2\n",
        "print(\"Is x1 greater than x2?\", x1 > x2)\n",
        "\n",
        "# Check if x2 > x1\n",
        "print(\"Is x2 greater than x1?\", x2 > x1)\n",
        "\n",
        "# Check if x1 != x2\n",
        "print(\"Are x1 and x2 not equal?\", x1 != x2)\n",
        "\n",
        "# Store difference\n",
        "x3 = abs(x1 - x2)  # Absolute value to ensure positive difference\n",
        "print(\"Difference between x1 and x2:\", x3)\n",
        "\n",
        "# Increment the smaller variable\n",
        "if x1 < x2:\n",
        "    x1 += x3\n",
        "else:\n",
        "    x2 += x3\n",
        "\n",
        "print(\"After incrementing smaller variable:\")\n",
        "print(\"x1 =\", x1)\n",
        "print(\"x2 =\", x2)\n",
        "print(\"Are x1 and x2 equal now?\", x1 == x2)"
      ],
      "metadata": {
        "colab": {
          "base_uri": "https://localhost:8080/"
        },
        "id": "NwJWG5lbc0hh",
        "outputId": "e0d05af9-50e5-4164-98d7-6a2585911ef1"
      },
      "execution_count": 6,
      "outputs": [
        {
          "output_type": "stream",
          "name": "stdout",
          "text": [
            "Are x1 and x2 equal? False\n",
            "Is x1 greater than x2? True\n",
            "Is x2 greater than x1? False\n",
            "Are x1 and x2 not equal? True\n",
            "Difference between x1 and x2: 9\n",
            "After incrementing smaller variable:\n",
            "x1 = 54\n",
            "x2 = 54\n",
            "Are x1 and x2 equal now? True\n"
          ]
        }
      ]
    },
    {
      "cell_type": "code",
      "source": [
        "# Exercise 3 - Concatenation\n",
        "\n",
        "first_name = input(\"Enter your first name: \")\n",
        "last_name = input(\"Enter your last name: \")\n"
      ],
      "metadata": {
        "colab": {
          "base_uri": "https://localhost:8080/"
        },
        "id": "9V5sTNDWc2FB",
        "outputId": "8871a493-d307-41ec-99ac-abc48ad1e8bc"
      },
      "execution_count": 9,
      "outputs": [
        {
          "name": "stdout",
          "output_type": "stream",
          "text": [
            "Enter your first name: John\n",
            "Enter your last name: Doe\n"
          ]
        }
      ]
    },
    {
      "cell_type": "code",
      "source": [
        "full_name = first_name + \" \" + last_name\n",
        "print(\"Hello,\", full_name + \"!\")"
      ],
      "metadata": {
        "colab": {
          "base_uri": "https://localhost:8080/"
        },
        "id": "aHui_LN4c9mh",
        "outputId": "d8e32581-0f3e-4b71-902a-1e067e9e6ebe"
      },
      "execution_count": 10,
      "outputs": [
        {
          "output_type": "stream",
          "name": "stdout",
          "text": [
            "Hello, John Doe!\n"
          ]
        }
      ]
    },
    {
      "cell_type": "code",
      "source": [],
      "metadata": {
        "id": "yIS5LOrkdJNv"
      },
      "execution_count": null,
      "outputs": []
    }
  ]
}