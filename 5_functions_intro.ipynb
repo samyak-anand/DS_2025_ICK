{
  "nbformat": 4,
  "nbformat_minor": 0,
  "metadata": {
    "colab": {
      "provenance": [],
      "authorship_tag": "ABX9TyO59Wh7O+4VtaVJ9IXkgyE0",
      "include_colab_link": true
    },
    "kernelspec": {
      "name": "python3",
      "display_name": "Python 3"
    },
    "language_info": {
      "name": "python"
    }
  },
  "cells": [
    {
      "cell_type": "markdown",
      "metadata": {
        "id": "view-in-github",
        "colab_type": "text"
      },
      "source": [
        "<a href=\"https://colab.research.google.com/github/samyak-anand/DS_2025_ICK/blob/main/5_functions_intro.ipynb\" target=\"_parent\"><img src=\"https://colab.research.google.com/assets/colab-badge.svg\" alt=\"Open In Colab\"/></a>"
      ]
    },
    {
      "cell_type": "code",
      "source": [
        "# 1. Define the function generation_calculator\n",
        "\n",
        "def generation_calculator(birth_year):\n",
        "    \"\"\"\n",
        "    This function determines the generation based on birth year.\n",
        "    \"\"\"\n",
        "    if birth_year < 1949:\n",
        "        generation = \"Silent Generation\"\n",
        "    elif 1949 <= birth_year <= 1968:\n",
        "        generation = \"Baby Boomer\"\n",
        "    elif 1969 <= birth_year <= 1980:\n",
        "        generation = \"Generation X\"\n",
        "    elif 1981 <= birth_year <= 1993:\n",
        "        generation = \"Millennial\"\n",
        "    elif birth_year >= 1994:\n",
        "        generation = \"Generation Z\"\n",
        "    else:\n",
        "        generation = \"Unknown Generation\"\n",
        "\n",
        "    return generation"
      ],
      "metadata": {
        "id": "miAW3TWMms3g"
      },
      "execution_count": 1,
      "outputs": []
    },
    {
      "cell_type": "code",
      "source": [
        "# 2. Test the function with different birth years\n",
        "years = [1940, 1955, 1975, 1990, 2000]\n",
        "\n",
        "for year in years:\n",
        "    result = generation_calculator(year)\n",
        "    print(f\"Birth Year: {year} → Generation: {result}\")"
      ],
      "metadata": {
        "colab": {
          "base_uri": "https://localhost:8080/"
        },
        "id": "aYX4ya-4mwiN",
        "outputId": "83de1348-ea34-43cd-b21d-05e14cd1bfef"
      },
      "execution_count": 2,
      "outputs": [
        {
          "output_type": "stream",
          "name": "stdout",
          "text": [
            "Birth Year: 1940 → Generation: Silent Generation\n",
            "Birth Year: 1955 → Generation: Baby Boomer\n",
            "Birth Year: 1975 → Generation: Generation X\n",
            "Birth Year: 1990 → Generation: Millennial\n",
            "Birth Year: 2000 → Generation: Generation Z\n"
          ]
        }
      ]
    },
    {
      "cell_type": "code",
      "source": [],
      "metadata": {
        "id": "Ssvi7I0Pm9Jy"
      },
      "execution_count": null,
      "outputs": []
    }
  ]
}