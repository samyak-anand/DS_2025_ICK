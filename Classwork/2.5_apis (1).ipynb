{
 "cells": [
  {
   "cell_type": "markdown",
   "id": "35870f3e-1791-4fc3-ba77-6b01a78bca50",
   "metadata": {},
   "source": [
    "# APIS "
   ]
  },
  {
   "cell_type": "markdown",
   "id": "34841864-ea2a-436e-b85a-5cc871472849",
   "metadata": {},
   "source": [
    "![apis_gif](https://media.giphy.com/media/wepUQluC5smgEd4Qz4/giphy.gif)"
   ]
  },
  {
   "cell_type": "markdown",
   "id": "a6795d4c-fdfe-4f6d-ad6b-2479d9b0826d",
   "metadata": {
    "toc": true
   },
   "source": [
    "<h1>Table of Contents<span class=\"tocSkip\"></span></h1>\n",
    "<div class=\"toc\"><ul class=\"toc-item\"><li><span><a href=\"#APIS\" data-toc-modified-id=\"APIS-1\"><span class=\"toc-item-num\">1&nbsp;&nbsp;</span>APIS</a></span><ul class=\"toc-item\"><li><span><a href=\"#Web-Communication-Fundamentals\" data-toc-modified-id=\"Web-Communication-Fundamentals-1.1\"><span class=\"toc-item-num\">1.1&nbsp;&nbsp;</span>Web Communication Fundamentals</a></span><ul class=\"toc-item\"><li><span><a href=\"#DNS,-IP\" data-toc-modified-id=\"DNS,-IP-1.1.1\"><span class=\"toc-item-num\">1.1.1&nbsp;&nbsp;</span>DNS, IP</a></span></li><li><span><a href=\"#HTTP\" data-toc-modified-id=\"HTTP-1.1.2\"><span class=\"toc-item-num\">1.1.2&nbsp;&nbsp;</span>HTTP</a></span></li><li><span><a href=\"#URL\" data-toc-modified-id=\"URL-1.1.3\"><span class=\"toc-item-num\">1.1.3&nbsp;&nbsp;</span>URL</a></span></li></ul></li><li><span><a href=\"#HTTP-Requests-and-Responses\" data-toc-modified-id=\"HTTP-Requests-and-Responses-1.2\"><span class=\"toc-item-num\">1.2&nbsp;&nbsp;</span>HTTP Requests and Responses</a></span><ul class=\"toc-item\"><li><span><a href=\"#Requests\" data-toc-modified-id=\"Requests-1.2.1\"><span class=\"toc-item-num\">1.2.1&nbsp;&nbsp;</span>Requests</a></span></li><li><span><a href=\"#Response\" data-toc-modified-id=\"Response-1.2.2\"><span class=\"toc-item-num\">1.2.2&nbsp;&nbsp;</span>Response</a></span></li></ul></li><li><span><a href=\"#APIs\" data-toc-modified-id=\"APIs-1.3\"><span class=\"toc-item-num\">1.3&nbsp;&nbsp;</span>APIs</a></span><ul class=\"toc-item\"><li><span><a href=\"#RESTful-APIs\" data-toc-modified-id=\"RESTful-APIs-1.3.1\"><span class=\"toc-item-num\">1.3.1&nbsp;&nbsp;</span>RESTful APIs</a></span></li></ul></li><li><span><a href=\"#Requests-in-Python\" data-toc-modified-id=\"Requests-in-Python-1.4\"><span class=\"toc-item-num\">1.4&nbsp;&nbsp;</span>Requests in Python</a></span><ul class=\"toc-item\"><li><span><a href=\"#GET\" data-toc-modified-id=\"GET-1.4.1\"><span class=\"toc-item-num\">1.4.1&nbsp;&nbsp;</span>GET</a></span><ul class=\"toc-item\"><li><span><a href=\"#Accessing-an-endpoint\" data-toc-modified-id=\"Accessing-an-endpoint-1.4.1.1\"><span class=\"toc-item-num\">1.4.1.1&nbsp;&nbsp;</span>Accessing an endpoint</a></span></li><li><span><a href=\"#Response-headers\" data-toc-modified-id=\"Response-headers-1.4.1.2\"><span class=\"toc-item-num\">1.4.1.2&nbsp;&nbsp;</span>Response headers</a></span></li><li><span><a href=\"#Parameters\" data-toc-modified-id=\"Parameters-1.4.1.3\"><span class=\"toc-item-num\">1.4.1.3&nbsp;&nbsp;</span>Parameters</a></span></li><li><span><a href=\"#Request-Headers\" data-toc-modified-id=\"Request-Headers-1.4.1.4\"><span class=\"toc-item-num\">1.4.1.4&nbsp;&nbsp;</span>Request Headers</a></span></li></ul></li></ul></li><li><span><a href=\"#APIs-examples\" data-toc-modified-id=\"APIs-examples-1.5\"><span class=\"toc-item-num\">1.5&nbsp;&nbsp;</span>APIs examples</a></span><ul class=\"toc-item\"><li><span><a href=\"#NewsAPI\" data-toc-modified-id=\"NewsAPI-1.5.1\"><span class=\"toc-item-num\">1.5.1&nbsp;&nbsp;</span>NewsAPI</a></span><ul class=\"toc-item\"><li><span><a href=\"#💡-Check-for-understanding\" data-toc-modified-id=\"💡-Check-for-understanding-1.5.1.1\"><span class=\"toc-item-num\">1.5.1.1&nbsp;&nbsp;</span>💡 Check for understanding</a></span></li></ul></li><li><span><a href=\"#Pokemon-API\" data-toc-modified-id=\"Pokemon-API-1.5.2\"><span class=\"toc-item-num\">1.5.2&nbsp;&nbsp;</span>Pokemon API</a></span><ul class=\"toc-item\"><li><span><a href=\"#json_normalize()\" data-toc-modified-id=\"json_normalize()-1.5.2.1\"><span class=\"toc-item-num\">1.5.2.1&nbsp;&nbsp;</span>json_normalize()</a></span></li></ul></li><li><span><a href=\"#Coincap-API\" data-toc-modified-id=\"Coincap-API-1.5.3\"><span class=\"toc-item-num\">1.5.3&nbsp;&nbsp;</span>Coincap API</a></span></li><li><span><a href=\"#Api-Jokes\" data-toc-modified-id=\"Api-Jokes-1.5.4\"><span class=\"toc-item-num\">1.5.4&nbsp;&nbsp;</span>Api Jokes</a></span></li><li><span><a href=\"#💡-Check-for-understanding\" data-toc-modified-id=\"💡-Check-for-understanding-1.5.5\"><span class=\"toc-item-num\">1.5.5&nbsp;&nbsp;</span>💡 Check for understanding</a></span></li></ul></li><li><span><a href=\"#API-Wrappers\" data-toc-modified-id=\"API-Wrappers-1.6\"><span class=\"toc-item-num\">1.6&nbsp;&nbsp;</span>API Wrappers</a></span></li><li><span><a href=\"#Summary\" data-toc-modified-id=\"Summary-1.7\"><span class=\"toc-item-num\">1.7&nbsp;&nbsp;</span>Summary</a></span></li><li><span><a href=\"#Glossary\" data-toc-modified-id=\"Glossary-1.8\"><span class=\"toc-item-num\">1.8&nbsp;&nbsp;</span>Glossary</a></span></li><li><span><a href=\"#Further-materials\" data-toc-modified-id=\"Further-materials-1.9\"><span class=\"toc-item-num\">1.9&nbsp;&nbsp;</span>Further materials</a></span></li></ul></li></ul></div>"
   ]
  },
  {
   "cell_type": "markdown",
   "id": "78337d49-bd91-4990-b1d6-fd2d4c03e6df",
   "metadata": {},
   "source": [
    "## Web Communication Fundamentals"
   ]
  },
  {
   "cell_type": "markdown",
   "id": "1f5600c7-4e6b-4b57-986e-740538741ca9",
   "metadata": {},
   "source": [
    "![enjuto](https://www.publico.es/files/article_main/uploads//2014/12/13/548bb18f1d9ef.jpg)"
   ]
  },
  {
   "cell_type": "markdown",
   "id": "582db4b0-9f2d-4847-b52c-f11eb6ae8933",
   "metadata": {},
   "source": [
    "### DNS, IP"
   ]
  },
  {
   "cell_type": "markdown",
   "id": "1e7a9565-1961-4631-a6a1-71735dae6f16",
   "metadata": {},
   "source": [
    "[How do we connect to www.google.com?](https://www.youtube.com/watch?v=sUhEqT_HSBI&ab_channel=ProfeSang)\n",
    "* **DNS (Domain Name System)**: it's essentially the phonebook of the internet. Humans access information online through domain names, like \"google.com\". Web browsers, however, interact through Internet Protocol (IP) addresses. In this example, the DNS maps the internet address www.google.com to the server's IP: 216.58.222.196\n",
    " * **IP**: Server identification. A code that allows information to be sent and received by the correct parties\n",
    " * **Domain Providers**: Sell and purchase Internet domains"
   ]
  },
  {
   "cell_type": "markdown",
   "id": "7d42f993-6f37-42c7-8f04-4c5526c0825e",
   "metadata": {},
   "source": [
    "*When making API calls to specific domains, the DNS translates the human-readable domain name into an IP address.*"
   ]
  },
  {
   "cell_type": "markdown",
   "id": "216e4441-45eb-4a0a-b578-f4f056a724b1",
   "metadata": {},
   "source": [
    "### HTTP"
   ]
  },
  {
   "cell_type": "markdown",
   "id": "6d120e37-ac79-44c9-8fc5-3fe07f4ad7f6",
   "metadata": {},
   "source": [
    "**H**yper **T**ext **T**ransfer **P**rotocol\n",
    "- HTTP is a communications protocol that provides a structure for requests between the client and the server on a network.\n",
    "- For example, the web browser on the user's computer (the client) uses the HTTP protocol to request information from a website on a server.\n",
    "\n",
    "*We will use APIs that employ the **HTTP** protocol as transport.*"
   ]
  },
  {
   "cell_type": "markdown",
   "id": "1b9f3b1b-af11-419a-bd55-771a937b72dc",
   "metadata": {},
   "source": [
    "### URL\n",
    "Contains information about the resource being requested from the **server**."
   ]
  },
  {
   "cell_type": "markdown",
   "id": "c6a7522a-6679-4d2d-9587-6b583c41a55f",
   "metadata": {},
   "source": [
    "![](https://github.com/data-bootcamp-v4/lessons/blob/main/img/http.png?raw=true)"
   ]
  },
  {
   "cell_type": "markdown",
   "id": "246020a7-6a89-4857-98c4-8f29c1d3c827",
   "metadata": {},
   "source": [
    "Examples:\n",
    "\n",
    "- https://www.google.com/webhp?authuser=2\n",
    "- https://www.towardsdatascience.com\n",
    "- https://www.ironhack.com/\n",
    "    - Protocol: https (https == http is the same, but https is encrypted)\n",
    "    - Domain Name --> ironhack\n",
    "    - TLD (Top-Level Domain) --> .com"
   ]
  },
  {
   "cell_type": "markdown",
   "id": "dd726622-8824-4e1f-a166-bb0d7e94fd08",
   "metadata": {},
   "source": [
    "*When calling an API, you specify the URL of the API endpoint, which tells the system where to send the request.*"
   ]
  },
  {
   "cell_type": "markdown",
   "id": "5fd2c3c5-1e3e-44a2-923b-c6dc1bb19f7c",
   "metadata": {},
   "source": [
    "## HTTP Requests and Responses"
   ]
  },
  {
   "cell_type": "markdown",
   "id": "1b658ec7-5230-44ab-b10b-f8cc1c65edab",
   "metadata": {},
   "source": [
    "![](https://github.com/data-bootcamp-v4/lessons/blob/main/img/request-response.png?raw=true)"
   ]
  },
  {
   "cell_type": "markdown",
   "id": "4941c601-e2f2-41bd-a0f3-c5e33fc8e282",
   "metadata": {},
   "source": [
    "**Requests** and **responses** are fundamental components of the client-server communication model."
   ]
  },
  {
   "cell_type": "markdown",
   "id": "b75d6570-aae7-492a-bcd0-86da6d102545",
   "metadata": {},
   "source": [
    "### Requests"
   ]
  },
  {
   "cell_type": "markdown",
   "id": "6d39d707-2230-4f72-af04-8c49abeb413e",
   "metadata": {},
   "source": [
    "These are queries or calls **sent by the client** (such as a web browser or other software) **to the server** in order to receive information (a **response**). \n",
    "\n",
    "A request typically consists of:\n",
    "- A method (such as GET, POST, PUT, DELETE) that defines the action to be performed\n",
    "     * GET: read the information of the resource, without modifying it in any way. Accessing the website from the browser **gets** information.\n",
    "- The URL or endpoint specifying the resource\n",
    "- Optional additional information such as:\n",
    "    - Headers (metadata): User-Agent, Accept-Language\n",
    "    - Parameters\n",
    "    - Body content. \n",
    "    \n",
    "For example, a client might send a GET request to retrieve information from a web page or a POST request to submit form data."
   ]
  },
  {
   "cell_type": "markdown",
   "id": "03152bb9-ab13-458c-94d2-f5cb53117056",
   "metadata": {},
   "source": [
    "### Response"
   ]
  },
  {
   "cell_type": "markdown",
   "id": "fc180f91-d6bf-4cb9-bf07-443d47ba0c4f",
   "metadata": {},
   "source": [
    "These are the answers or data sent **by the server back to the client in reply to a request**. \n",
    "\n",
    "A response typically includes:\n",
    "- A status code that indicates the success or failure of the request\n",
    "- Headers with meta-information about the server's behavior\n",
    "- The actual content or data (if applicable), such as HTML, JSON (similar to a Python dictionary), images, or other media types.\n",
    "\n",
    "An important part of the **header** is the **status code**. This code is a numerical value that indicates the server's result. There are different status codes depending on whether the server has managed to carry out the request or has not managed to do anything. These are some groups of status codes:\n",
    "\n",
    "- **2xx successful**: the request was successfully received, understood, and accepted\n",
    "- **3xx redirection**: more actions are required to complete the request\n",
    "- **4xx client error**: the request contains incorrect syntax or cannot be fulfilled\n",
    "- **5xx server error**: the server has failed to complete an apparently valid request\n",
    "\n",
    "Complete list:\n",
    "https://en.wikipedia.org/wiki/List_of_HTTP_status_codes\n",
    "\n",
    "Much more fun:\n",
    "https://http.cat/"
   ]
  },
  {
   "cell_type": "markdown",
   "id": "1f1ad409-99e9-4701-b879-f81d13ece283",
   "metadata": {
    "tags": []
   },
   "source": [
    "## APIs"
   ]
  },
  {
   "cell_type": "markdown",
   "id": "492c462e-3d81-4330-828f-ff2b027989d8",
   "metadata": {},
   "source": [
    "**A**pplication **P**rogramming **I**nterface\n",
    "\n",
    "- APIs define a set of rules and protocols that allow different software applications to communicate with each other.\n",
    "- The client calls the server through an API, and the server responds.\n",
    "-  Within a project, the backend may want to share information with the frontend without access to the database."
   ]
  },
  {
   "cell_type": "markdown",
   "id": "0849403b-d633-4756-82d2-cb74ac4d254b",
   "metadata": {},
   "source": [
    "![](https://github.com/data-bootcamp-v4/lessons/blob/main/img/api.png?raw=true)"
   ]
  },
  {
   "cell_type": "markdown",
   "id": "b86f18cb-8590-4a6e-896b-c5e465e7719f",
   "metadata": {},
   "source": [
    "### RESTful APIs"
   ]
  },
  {
   "cell_type": "markdown",
   "id": "62891457-6b5c-4443-9fb5-77f901ea7571",
   "metadata": {},
   "source": [
    "As a data analyst, you often need to access data from various sources. RESTful APIs provide a **standardized way** to retrieve, update, or delete data from other systems."
   ]
  },
  {
   "cell_type": "markdown",
   "id": "5c2bea7b-f629-45f3-94b3-6cb6eac1272e",
   "metadata": {},
   "source": [
    "- Usually, **we (the client) send a request, and they (the server) return a response, often in JSON - JavaScript Object Notation - format**. While JSON looks similar to the dictionaries we're used to in Python, it's worth noting that when represented as raw text (e.g., in an API response), the entire JSON structure is a *string*. However, within that structure, JSON can represent various data types like numbers, booleans, and arrays, not just strings.\n",
    "\n",
    "- APIs always need to provide documentation for their various services: **endpoints**.  Each endpoint is a different URL.  \n",
    "- Sometimes we have to pass **parameters** to an API endpoint, similar to when we pass parameters to a Python function.\n",
    "\n",
    "At this point in the Bootcamp, **reading documentation becomes essential**, as each API will \"work\" differently, and to use it, we will need to know what it requires.\n",
    "\n",
    "[Here](https://github.com/public-apis/public-apis) is a repository where you can find several free APIs if you feel like exploring a bit."
   ]
  },
  {
   "cell_type": "markdown",
   "id": "33c6c206-715a-42b8-929c-691d9c66fe4d",
   "metadata": {},
   "source": [
    "## Requests in Python"
   ]
  },
  {
   "cell_type": "markdown",
   "id": "515484d8-81ec-48c1-abad-c778232b583f",
   "metadata": {},
   "source": [
    "You can make requests to RESTful APIs using libraries like `requests`. "
   ]
  },
  {
   "cell_type": "code",
   "execution_count": null,
   "id": "54d23d14-7425-45c6-8ba5-74e5db2c047a",
   "metadata": {},
   "outputs": [],
   "source": [
    "# If you don't have it installed you can do use using pip or pip3\n",
    "\n",
    "#!pip install requests"
   ]
  },
  {
   "cell_type": "code",
   "execution_count": null,
   "id": "9ddac917-8539-46e8-abc9-37111e2fa74c",
   "metadata": {},
   "outputs": [],
   "source": [
    "import requests"
   ]
  },
  {
   "cell_type": "markdown",
   "id": "da5aff9d-8a79-4171-96b1-b7f0d2daf1cd",
   "metadata": {},
   "source": [
    "### GET"
   ]
  },
  {
   "cell_type": "markdown",
   "id": "2018fa77-7bce-437e-a806-69844737210b",
   "metadata": {},
   "source": [
    "Making a `GET request` to the API is simply a call to a `URL` that returns information when provided with the appropriate `parameters`. We will only perform **GET** requests."
   ]
  },
  {
   "cell_type": "markdown",
   "id": "718172e2-5654-4536-bd72-594d80b31f8c",
   "metadata": {},
   "source": [
    "Here is an example on how to make a request with Python:\n",
    "\n",
    "```python\n",
    "url = \"https://api.example.com/products\"\n",
    "response = requests.get(url)\n",
    "\n",
    "if response.status_code == 200:\n",
    "    products = response.json()\n",
    "    # Now you can analyze and work with the products data in Python\n",
    "```"
   ]
  },
  {
   "cell_type": "markdown",
   "id": "307395ef-cfd3-4175-99d5-a6ce6213adb1",
   "metadata": {},
   "source": [
    "#### Accessing an endpoint\n",
    "\n",
    "As we mentioned above, APIs always need to provide documentation for their various services: **endpoints**.  Each endpoint is a different URL.  \n",
    "\n",
    "**Example: ISS API**"
   ]
  },
  {
   "cell_type": "markdown",
   "id": "792140dd-3cda-4355-86bd-dd6732880803",
   "metadata": {},
   "source": [
    "Let's get information from ISS (International Space Station)! We'll start looking at the [ISS API documentation](https://wheretheiss.at/w/developer)"
   ]
  },
  {
   "cell_type": "markdown",
   "id": "a2be4164-137b-411d-a78c-38bdd94ce9ed",
   "metadata": {},
   "source": [
    "This API allows you to access various data related to the International Space Station (ISS), including its current, past, or future position, timezone information for specific coordinates, and more.\n",
    "\n",
    "**Key Features**\n",
    "- **Authentication**: No authentication is currently required, but future endpoints may include this.\n",
    "- **Rate Limiting**: Limited to approximately 1 request per second.\n",
    "- **Responses**: Default to JSON format, with optional parameters to modify response appearance.\n",
    "- **Endpoints**: Several endpoints provide different types of information:\n",
    "    - **satellites**: Information about satellites, including the ISS.\n",
    "    - **satellites/[id]**: Position, velocity, and related information for a satellite.\n",
    "    - **satellites/[id]/positions**: Position data for specific timestamps.\n",
    "    - **satellites/[id]/tles**: TLE (Two-Line Element Set) data in either JSON or text format.\n",
    "    - **coordinates/[lat,lon]**: Timezone information for specific coordinates.\n"
   ]
  },
  {
   "cell_type": "markdown",
   "id": "f1272582-bc6d-4f43-9e39-47d39ffd1bfd",
   "metadata": {},
   "source": [
    "**Examples**\n",
    "- Satellite details: `https://api.wheretheiss.at/v1/satellites`\n",
    "- ISS position: `https://api.wheretheiss.at/v1/satellites/25544`\n",
    "- Coordinates information: `https://api.wheretheiss.at/v1/coordinates/37.795517,-122.393693`\n",
    "\n"
   ]
  },
  {
   "cell_type": "markdown",
   "id": "5ca5b7da-eec0-41ca-924b-67687f794e23",
   "metadata": {},
   "source": [
    "**Endpoint satellites**"
   ]
  },
  {
   "cell_type": "code",
   "execution_count": null,
   "id": "05fad64c-5f20-4b7f-a865-9659b9cc8783",
   "metadata": {},
   "outputs": [],
   "source": [
    "# We'll use the endpoint satellites, we read it gives us information about satellites\n",
    "\n",
    "url = \"https://api.wheretheiss.at/v1/satellites\""
   ]
  },
  {
   "cell_type": "code",
   "execution_count": null,
   "id": "68f33b09-b943-486c-98e0-2d18b25640c5",
   "metadata": {},
   "outputs": [],
   "source": [
    "response = requests.get(url) # We use get method to make the request and get information from the API"
   ]
  },
  {
   "cell_type": "code",
   "execution_count": null,
   "id": "67938f79-0981-471e-9201-89352e99775b",
   "metadata": {},
   "outputs": [],
   "source": [
    "type(response) # Lets look at the type of the response"
   ]
  },
  {
   "cell_type": "code",
   "execution_count": null,
   "id": "310b2c20-4a51-47de-9983-1e266496c951",
   "metadata": {},
   "outputs": [],
   "source": [
    "response.status_code # We can access status code. 200 is OK"
   ]
  },
  {
   "cell_type": "markdown",
   "id": "488cbcbe-2d4d-42c2-b92a-ec76b70b705b",
   "metadata": {},
   "source": [
    "We can access the response content, which returns a string"
   ]
  },
  {
   "cell_type": "code",
   "execution_count": null,
   "id": "5196a512-6690-49c9-971a-bc9cb2383932",
   "metadata": {},
   "outputs": [],
   "source": [
    "response.content"
   ]
  },
  {
   "cell_type": "markdown",
   "id": "820ad33e-4664-46b6-a51a-0b277ba04c4d",
   "metadata": {},
   "source": [
    "If response Content-Type is json, we can access it better with `.json()`"
   ]
  },
  {
   "cell_type": "code",
   "execution_count": null,
   "id": "7f44e27c-7866-4e9c-8965-a20ccaef0e43",
   "metadata": {},
   "outputs": [],
   "source": [
    "info = response.json()"
   ]
  },
  {
   "cell_type": "code",
   "execution_count": null,
   "id": "cd406dbc-74f9-490b-b8c6-73ef02e9b9d4",
   "metadata": {},
   "outputs": [],
   "source": [
    "info"
   ]
  },
  {
   "cell_type": "code",
   "execution_count": null,
   "id": "992d8cf6-8e5c-448d-bb1c-e9416aefe428",
   "metadata": {},
   "outputs": [],
   "source": [
    "type(info) # It returns a list of dictionaries"
   ]
  },
  {
   "cell_type": "code",
   "execution_count": null,
   "id": "1a7d7dc2-f2d7-44a7-9bda-e5cc0490dffe",
   "metadata": {},
   "outputs": [],
   "source": [
    "info[0][\"id\"] # So we can access the id like this"
   ]
  },
  {
   "cell_type": "markdown",
   "id": "903f3024-0998-459d-bb20-60a639def27e",
   "metadata": {},
   "source": [
    "#### Response headers \n",
    "\n",
    "Response headers are part of the HTTP response that a server sends back to the client after a request has been made. These headers provide meta-information about the response and can affect how the client handles the response.\n",
    "\n",
    "Here are some common response headers and what they typically represent:\n",
    "\n",
    "1. **`Date`**: Represents the date and time at which the response was sent.\n",
    "\n",
    "2. **`Server`**: Provides information about the software used by the originating server.\n",
    "\n",
    "3. **`X-Rate-Limit`**: Sometimes used in APIs to inform the client about rate limiting policies, such as the number of allowed requests in a given time frame.\n",
    "\n",
    "4. **`Content-Type`**: Specifies the media type of the resource or data the server is sending back. For example, it could be `application/json` for a JSON object, `text/html` for an HTML page, or `image/png` for an image.\n",
    "\n",
    "And more."
   ]
  },
  {
   "cell_type": "code",
   "execution_count": null,
   "id": "a53d51bc-2346-4139-a23f-49a34dc3b475",
   "metadata": {},
   "outputs": [],
   "source": [
    "response.headers # We can also access the response headers"
   ]
  },
  {
   "cell_type": "markdown",
   "id": "a46967a4-763f-4d4e-bca9-c3a37742f65e",
   "metadata": {},
   "source": [
    "#### Parameters"
   ]
  },
  {
   "cell_type": "markdown",
   "id": "69017232-6063-4ee5-a13c-0eb40f182b1e",
   "metadata": {},
   "source": [
    "As we mentioned above, sometimes we can pass **parameters** to an API endpoint, similar to when we pass parameters to a Python function."
   ]
  },
  {
   "cell_type": "markdown",
   "id": "4dbf1646-5953-44b9-a2e3-a7dbee7f1a4e",
   "metadata": {},
   "source": [
    "In the example above, we didn't use any parameters in the endpoint `satellites` since the [documentation](\"https://wheretheiss.at/w/developer\") said *Parameters: None*."
   ]
  },
  {
   "cell_type": "markdown",
   "id": "ed0d4cf7-fa4d-4c83-8d56-4a25accc3d01",
   "metadata": {},
   "source": [
    "API parameters are specific values that you include in a request to an API endpoint to filter, sort, or detail the data that you want to retrieve. They allow you to customize the request to get exactly the information you need."
   ]
  },
  {
   "cell_type": "markdown",
   "id": "dbf6baed-1967-46ea-908f-bff2fd59dc46",
   "metadata": {},
   "source": [
    "There are several types of parameters that can be used in API requests, such as Path Parameters, Query Parameters, Header Parameters and Request Body Parameters. Let's look at them with an example using another endpoint."
   ]
  },
  {
   "cell_type": "markdown",
   "id": "f854df58-1a0a-4759-9991-30816cf45c92",
   "metadata": {},
   "source": [
    "##### 1. **Path Parameters**\n",
    "\n",
    "These are embedded in the URL path and are used to identify a specific resource. For example, in the URL above `https://api.wheretheiss.at/v1/satellites/25544`, the number `25544` is a path parameter that identifies a specific sattelite."
   ]
  },
  {
   "cell_type": "markdown",
   "id": "df9a0f8c-b363-4ceb-bcc6-04128ec2bffc",
   "metadata": {
    "tags": []
   },
   "source": [
    "**Endpoint satellites/id**"
   ]
  },
  {
   "cell_type": "markdown",
   "id": "f7f1892c-1908-438d-a072-a77fc2214e52",
   "metadata": {},
   "source": [
    "Lets use endpoint satellites/[id] with the id we got from the previous endpoint.\n",
    "Important, we need to provide the whole url for the endpoint as a `string`."
   ]
  },
  {
   "cell_type": "code",
   "execution_count": null,
   "id": "60e19b4e-1476-456c-8272-a3175708368e",
   "metadata": {},
   "outputs": [],
   "source": [
    "url_iss_position = \"https://api.wheretheiss.at/v1/satellites/\"+str(info[0][\"id\"])"
   ]
  },
  {
   "cell_type": "code",
   "execution_count": null,
   "id": "42cb7357-ff48-4f7d-81df-8060c7ed794f",
   "metadata": {},
   "outputs": [],
   "source": [
    "response = requests.get(url_iss_position)"
   ]
  },
  {
   "cell_type": "code",
   "execution_count": null,
   "id": "340a190c-6010-4134-bfd5-f4acc5484e8b",
   "metadata": {},
   "outputs": [],
   "source": [
    "response.status_code"
   ]
  },
  {
   "cell_type": "code",
   "execution_count": null,
   "id": "a9ddae28-476f-4133-8a25-4e35c3fac891",
   "metadata": {},
   "outputs": [],
   "source": [
    "response.json()"
   ]
  },
  {
   "cell_type": "markdown",
   "id": "7c21289e-ed73-4fdf-8ff2-8ec53d1bedbb",
   "metadata": {},
   "source": [
    "Every time we call the endpoint, the information changes since it gives us the current position of the satellite. Let's check that with a loop to gather information at different times."
   ]
  },
  {
   "cell_type": "code",
   "execution_count": null,
   "id": "c02e4902-90b6-4f31-8326-2dcee2478aa8",
   "metadata": {},
   "outputs": [],
   "source": [
    "import time\n",
    "\n",
    "positions = []\n",
    "\n",
    "for i in range(10):\n",
    "    response = requests.get(url_iss_position)\n",
    "    data = response.json()\n",
    "    \n",
    "    positions.append(data)\n",
    "    time.sleep(0.5)"
   ]
  },
  {
   "cell_type": "code",
   "execution_count": null,
   "id": "3801506d-82c7-4c1b-b4ab-81fce6a73b36",
   "metadata": {},
   "outputs": [],
   "source": [
    "type(positions) # We created a list with responses"
   ]
  },
  {
   "cell_type": "code",
   "execution_count": null,
   "id": "5f3da8cc-7ad5-4313-8bbd-71e733359747",
   "metadata": {},
   "outputs": [],
   "source": [
    "type(positions[0]) # Is a list of dictionaries"
   ]
  },
  {
   "cell_type": "code",
   "execution_count": null,
   "id": "8d24d4c8-860c-4a6f-a5ec-db44ed9d4c65",
   "metadata": {},
   "outputs": [],
   "source": [
    "positions[0] # So we can access each dictionary by its position in the list"
   ]
  },
  {
   "cell_type": "code",
   "execution_count": null,
   "id": "b588249b-ef73-4cd0-8c3f-4a7a46c9156f",
   "metadata": {},
   "outputs": [],
   "source": [
    "positions[9]"
   ]
  },
  {
   "cell_type": "markdown",
   "id": "57c55b8a-1b23-4e9e-8f7b-d24b7a1b375e",
   "metadata": {},
   "source": [
    "Let's extract 10 latitudes from the 10 dictionaries in the list, with 2 decimals."
   ]
  },
  {
   "cell_type": "code",
   "execution_count": null,
   "id": "3371418e-6637-4857-913f-01fd244bd687",
   "metadata": {},
   "outputs": [],
   "source": [
    "latitudes = [round(p[\"latitude\"], 2) for p in positions]"
   ]
  },
  {
   "cell_type": "code",
   "execution_count": null,
   "id": "256a7492-b9de-416b-9cad-3b4155f767e4",
   "metadata": {},
   "outputs": [],
   "source": [
    "latitudes"
   ]
  },
  {
   "cell_type": "code",
   "execution_count": null,
   "id": "7b841d34-6a6f-4f31-9764-1d5ac4d2f35f",
   "metadata": {},
   "outputs": [],
   "source": [
    "import pandas as pd\n",
    "pd.DataFrame(positions) # We can create a dataframe from the API response to work with it better"
   ]
  },
  {
   "cell_type": "markdown",
   "id": "204abde8-009b-4217-8295-51fbde187742",
   "metadata": {
    "tags": []
   },
   "source": [
    "\n",
    "##### 2. **Query Parameters**\n",
    "\n",
    "These are added to the end of the URL after a question mark (`?`) and are often used to filter or sort the response. \n",
    "\n",
    "For example, in the ISS documentation, it mentions that there is a parameter `units` that can take values `miles` or `kilometers`. So in the URL `https://api.wheretheiss.at/v1/satellites/25544?units=miles`, we added `units=miles` which is a query parameter that shows the data in \"miles\". \n",
    "\n",
    "In general, we add the parameters like this `?param1=value1&param2=value2...` at the end of the URL."
   ]
  },
  {
   "cell_type": "code",
   "execution_count": null,
   "id": "b252f4b2-f739-4d78-8a14-7933b946c309",
   "metadata": {},
   "outputs": [],
   "source": [
    "url_iss_position"
   ]
  },
  {
   "cell_type": "code",
   "execution_count": null,
   "id": "b8bfc174-f81f-41cc-92f4-eec321e1961a",
   "metadata": {},
   "outputs": [],
   "source": [
    "# We saw in the documentation that we can add a parameter units to use miles or kilometers\n",
    "\n",
    "url_iss_position2 = 'https://api.wheretheiss.at/v1/satellites/25544?units=miles'"
   ]
  },
  {
   "cell_type": "code",
   "execution_count": null,
   "id": "47ead56f-1882-41f4-8850-67a6611fe36d",
   "metadata": {},
   "outputs": [],
   "source": [
    "response = requests.get(url_iss_position2)"
   ]
  },
  {
   "cell_type": "code",
   "execution_count": null,
   "id": "5a032e2c-abab-4c49-97d1-341d74a22c68",
   "metadata": {},
   "outputs": [],
   "source": [
    "response.status_code"
   ]
  },
  {
   "cell_type": "code",
   "execution_count": null,
   "id": "395d4fed-6f83-4c96-8cf5-8523ce297e92",
   "metadata": {},
   "outputs": [],
   "source": [
    "response.json()"
   ]
  },
  {
   "cell_type": "markdown",
   "id": "9c50844d-2d2c-4768-8d8b-703a2cb1875c",
   "metadata": {},
   "source": [
    "We can also do it by passing to the argument `params` a dictionary with the parameters in the `get` method."
   ]
  },
  {
   "cell_type": "code",
   "execution_count": null,
   "id": "cdcdd6f7-628b-4978-8656-23f72ecd5cac",
   "metadata": {},
   "outputs": [],
   "source": [
    "parameters = {\"units\": \"miles\"}"
   ]
  },
  {
   "cell_type": "code",
   "execution_count": null,
   "id": "31d68523-2258-408f-ac24-0836af707cd9",
   "metadata": {},
   "outputs": [],
   "source": [
    "url_iss_position"
   ]
  },
  {
   "cell_type": "code",
   "execution_count": null,
   "id": "2688ca3e-e9ef-44cf-8e28-7c575f2d61be",
   "metadata": {},
   "outputs": [],
   "source": [
    "response = requests.get(\n",
    "    url=url_iss_position,\n",
    "    params=parameters\n",
    ")"
   ]
  },
  {
   "cell_type": "code",
   "execution_count": null,
   "id": "87e3afb1-2e29-4c62-8162-e8b27756be0c",
   "metadata": {},
   "outputs": [],
   "source": [
    "response.json()"
   ]
  },
  {
   "cell_type": "markdown",
   "id": "6aea75ed-be20-475d-98c1-86f4e9d2b1fd",
   "metadata": {},
   "source": [
    "\n",
    "##### 3. **Header Parameters**\n",
    "\n",
    "These are included in the request header and can be used for various purposes, such as authentication (e.g., sending an API key or token), content negotiation (e.g., defining the response format), or custom settings defined by the API. If the API requires authentication, you might include an `Authorization` header with your API key."
   ]
  },
  {
   "cell_type": "markdown",
   "id": "78131fa0-a203-4d64-8fc2-939ee0ebf064",
   "metadata": {},
   "source": [
    "ISS API mentions that *currently there is no authentication required*. So we'll look at an example with a different API of `authentication` in `header parameters`."
   ]
  },
  {
   "cell_type": "markdown",
   "id": "69484a90-65de-44b0-87bb-b591274f27b5",
   "metadata": {},
   "source": [
    "#### Request Headers"
   ]
  },
  {
   "cell_type": "markdown",
   "id": "a5782c9a-84ad-434e-b4a5-5657f17592f1",
   "metadata": {},
   "source": [
    "Request headers are key-value pairs sent in an HTTP request to provide information about the request itself."
   ]
  },
  {
   "cell_type": "markdown",
   "id": "70c5dec7-204a-4c3b-a9e4-8c7bbf516b10",
   "metadata": {},
   "source": [
    "Some request headers are:\n",
    "\n",
    "1. **Content-Type**: Specifies the media type of the resource or data. Common examples include \"application/json\" for JSON data, \"text/html\" for HTML content, and \"application/xml\" for XML data.\n",
    "\n",
    "3. **Authorization**: Contains credentials for authenticating the client with the server, often used with tokens or other forms of authentication.\n",
    "\n",
    "4. **User-Agent**: Provides information about the client (browser or other client), including its version and operating system.\n",
    "\n",
    "\n",
    "In Python's `requests` library, you can include headers in a request by using the `headers` argument, like this:\n",
    "\n",
    "```python\n",
    "headers = {'Content-Type': 'application/json', 'Authorization': 'Bearer YOUR_TOKEN'}\n",
    "response = requests.get(url, headers=headers)\n",
    "```\n"
   ]
  },
  {
   "cell_type": "markdown",
   "id": "a5311048-ef5e-4b04-9e4b-8ed700ab3076",
   "metadata": {},
   "source": [
    "⚠️🚨 ¡Careful with the authentication token! ⚠️🚨  A token is a personal credential for accessing an API, through which your request quota to the API is managed. Therefore, the ideal procedure is to ensure security by storing the token as a variable in an .env file. This way, you can call the environment variable without having to publicly display the token."
   ]
  },
  {
   "cell_type": "markdown",
   "id": "b3cf22bc-d4e1-4e51-876e-f4df41b70f05",
   "metadata": {},
   "source": [
    "**Example: News API**"
   ]
  },
  {
   "cell_type": "markdown",
   "id": "a6b35b6f-4cb4-4b89-af23-3c9c65fb2686",
   "metadata": {},
   "source": [
    "The *News API* lets you locate articles and breaking news headlines from news sources and blogs across the web."
   ]
  },
  {
   "cell_type": "markdown",
   "id": "58123f1a-b5e4-4b20-a02d-47077a4a3635",
   "metadata": {},
   "source": [
    "- Let's look at the [NewsAPI Authentication documentation](https://newsapi.org/docs/authentication). It mentions: \n",
    "```\n",
    "You can attach your API key to a request in one of three ways:\n",
    "\n",
    "- Via the apiKey querystring parameter.\n",
    "- Via the X-Api-Key HTTP header.\n",
    "- Via the Authorization HTTP header. Including Bearer is optional, and be sure not to base 64 encode it like you may have seen in other authentication tutorials.\n",
    "We strongly recommend the either of last two so that your API key isn't visible to others in logs or via request sniffing.\n",
    "\n",
    "If you don't append your API key correctly, or your API key is invalid, you will receive a 401 - Unauthorized HTTP error.\n",
    "```\n",
    "\n",
    "- Let's look at the documentation for the endpoints to see what **parameters** they accept: [NewsAPI endpoints](https://newsapi.org/docs/endpoints). We see we have the endpoint `/v2/top-headlines` – *returns breaking news headlines for countries, categories, and singular publishers. This is perfect for use with news tickers or anywhere you want to use live up-to-date news headlines.*\n",
    "If we look at the [documentation of that endpoint](https://newsapi.org/docs/endpoints/top-headlines) we see we have more parameters we can add such as `country` or `category`."
   ]
  },
  {
   "cell_type": "code",
   "execution_count": null,
   "id": "e2853b7d-09f0-46e3-83df-c1a1b03f6b61",
   "metadata": {},
   "outputs": [],
   "source": [
    "url = \"http://newsapi.org/v2/top-headlines\""
   ]
  },
  {
   "cell_type": "code",
   "execution_count": null,
   "id": "ab2d561c-97fc-4750-9334-f19ce984b2ae",
   "metadata": {},
   "outputs": [],
   "source": [
    "response = requests.get(url)"
   ]
  },
  {
   "cell_type": "code",
   "execution_count": null,
   "id": "1d44b74a-8282-4f74-bcbb-e030a2d0a26a",
   "metadata": {},
   "outputs": [],
   "source": [
    "response.status_code"
   ]
  },
  {
   "cell_type": "markdown",
   "id": "6c01205a-e732-44bc-9fc0-cb3cefdfc76f",
   "metadata": {},
   "source": [
    "Let's try a made up key, using the apiKey querystring parameter. As we read in the documentation, this is not the recommended way."
   ]
  },
  {
   "cell_type": "code",
   "execution_count": null,
   "id": "24d14d50-c5dc-4c20-ab4b-4f65d5e61a61",
   "metadata": {},
   "outputs": [],
   "source": [
    "url = f\"http://newsapi.org/v2/top-headlines?country=us&apiKey=manolonodoesnthavekey\""
   ]
  },
  {
   "cell_type": "code",
   "execution_count": null,
   "id": "2d106abb-06ac-4432-b4ad-2c51fbd90e28",
   "metadata": {},
   "outputs": [],
   "source": [
    "url"
   ]
  },
  {
   "cell_type": "code",
   "execution_count": null,
   "id": "304ff5dd-8d38-4641-9799-8cd7978434d0",
   "metadata": {},
   "outputs": [],
   "source": [
    "response = requests.get(url)"
   ]
  },
  {
   "cell_type": "code",
   "execution_count": null,
   "id": "bb9dc34b-21de-4d00-8544-fc9ea2c23f70",
   "metadata": {},
   "outputs": [],
   "source": [
    "response.status_code"
   ]
  },
  {
   "cell_type": "markdown",
   "id": "e829611f-a4a8-4b3d-90a2-31c1bb04fb2b",
   "metadata": {},
   "source": [
    "**4xx**: client error. This means, it is our error."
   ]
  },
  {
   "cell_type": "markdown",
   "id": "71322103-4234-4105-be5d-037cb6107e26",
   "metadata": {},
   "source": [
    "Lets do with a correct key. You should get your own API key through their website. Once we've saved our key, we'll send it via the X-Api-Key HTTP header."
   ]
  },
  {
   "cell_type": "markdown",
   "id": "a0ae416d-0215-4acd-9479-2ba49dab313b",
   "metadata": {},
   "source": [
    "##### Saving the API Key"
   ]
  },
  {
   "cell_type": "markdown",
   "id": "2c509a90-72f3-4bba-9b29-bc4316bd3111",
   "metadata": {},
   "source": [
    "Storing an API key directly in your code can expose sensitive information, especially if your code is publicly available (e.g., on a public GitHub repository). The best practice for saving and loading an API key in your code involves the following steps:\n",
    "\n",
    "1. **Storing the API Key**:\n",
    "    - **Use Environment Variables**: Store your API key in an environment variable on your system. This keeps the key out of your codebase and allows you to change it without altering your code.\n",
    "\n",
    "\n",
    "    - **Create a .env File**: If you prefer, you can create a `.env` file (just call it `.env` nothing else before the `.`) in your project directory to store the API key. Inside this file, you would have something like:\n",
    "   \n",
    "       ```\n",
    "       API_KEY=your-api-key-here\n",
    "       ```\n",
    "\n",
    "        - **Add .env to .gitignore**: If you're using a version control system like Git, make sure to add the `.env` file to your `.gitignore` file. This prevents the `.env` file (and therefore your API key) from being uploaded to any public repositories. We'll talk about Git and .gitignore in more detail soon.\n",
    "\n",
    "2. **Load the Key in Your Code**: \n",
    "\n",
    "    You can use libraries like `python-dotenv` to load the key into your code. \n",
    "    You would need to install `python-dotenv` first.\n",
    "    ```python \n",
    "    !pip install python-dotenv\n",
    "\n",
    "    from dotenv import load_dotenv\n",
    "    import os\n",
    "\n",
    "    load_dotenv()\n",
    "    api_key = os.getenv(\"API_KEY\")\n",
    "    ```\n",
    "\n",
    "       \n",
    "    Now, `api_key` contains the value of your API key, and you can use it to authenticate your requests to the API.\n",
    "       \n"
   ]
  },
  {
   "cell_type": "markdown",
   "id": "98b7f771-e230-4223-a5a7-4353ee337934",
   "metadata": {},
   "source": [
    "Lets do the second approach. Lets save it in an env file and save it in a variable."
   ]
  },
  {
   "cell_type": "markdown",
   "id": "3766f8a4-3e0a-4b18-8b16-d5e0d64c4dbd",
   "metadata": {},
   "source": [
    "`Make sure your file is named .env and not .env.txt! Is one of the most common errors. If you need, look at the document properties to make sure it doesn't have .txt at the end even if its not showing the .txt when looking at your folder.`"
   ]
  },
  {
   "cell_type": "code",
   "execution_count": null,
   "id": "12fa7d1f-37c7-40a7-b60f-e4e264a43574",
   "metadata": {},
   "outputs": [],
   "source": [
    "#!pip install python-dotenv"
   ]
  },
  {
   "cell_type": "code",
   "execution_count": null,
   "id": "65104c73-28cb-4b84-949b-013d2f0fd1b0",
   "metadata": {},
   "outputs": [],
   "source": [
    "import os\n",
    "from dotenv import load_dotenv, find_dotenv\n",
    "\n",
    "load_dotenv()\n",
    "\n",
    "my_key = os.getenv(\"API_KEY\")"
   ]
  },
  {
   "cell_type": "markdown",
   "id": "c2b8daee-8bbe-4dba-b302-4424bff542ee",
   "metadata": {},
   "source": [
    "If you get an error, make sure you saved the .env file in the same directory as your jupyter notebook. You can use `os.getcwd()` to do so."
   ]
  },
  {
   "cell_type": "code",
   "execution_count": null,
   "id": "2edcbffe-e4b5-464b-8e5b-9efd3a41ed59",
   "metadata": {},
   "outputs": [],
   "source": [
    "os.getcwd()"
   ]
  },
  {
   "cell_type": "markdown",
   "id": "f1e87da8-be8c-4f58-94aa-354b879a7ed6",
   "metadata": {},
   "source": [
    "##### Using the API Key in the Header Parameters"
   ]
  },
  {
   "cell_type": "code",
   "execution_count": null,
   "id": "c2c03dbc-e8b1-4649-9c71-18e61cc61123",
   "metadata": {},
   "outputs": [],
   "source": [
    "url_top_headlines = \"http://newsapi.org/v2/top-headlines\""
   ]
  },
  {
   "cell_type": "code",
   "execution_count": null,
   "id": "262b26fd-e3a8-4bc3-a7cb-38901f474817",
   "metadata": {},
   "outputs": [],
   "source": [
    "parameters = {\"country\": \"us\", \"category\": \"science\"}"
   ]
  },
  {
   "cell_type": "code",
   "execution_count": null,
   "id": "d3f8f790-1a58-4655-99bb-729fccd803eb",
   "metadata": {},
   "outputs": [],
   "source": [
    "headers = {\"X-Api-Key\": my_key}"
   ]
  },
  {
   "cell_type": "code",
   "execution_count": null,
   "id": "85034bf8-bcc1-4e4e-bcb1-a442b2d65711",
   "metadata": {},
   "outputs": [],
   "source": [
    "response = requests.get(\n",
    "    url=url_top_headlines, \n",
    "    params=parameters, \n",
    "    headers=headers\n",
    ")"
   ]
  },
  {
   "cell_type": "code",
   "execution_count": null,
   "id": "ad8de9aa-736e-480a-8a4d-1de84dbade07",
   "metadata": {},
   "outputs": [],
   "source": [
    "response.status_code"
   ]
  },
  {
   "cell_type": "code",
   "execution_count": null,
   "id": "56058048-233a-41f5-a1da-edb8092730de",
   "metadata": {},
   "outputs": [],
   "source": [
    "data = response.json()"
   ]
  },
  {
   "cell_type": "code",
   "execution_count": null,
   "id": "eb07a572-50ca-41b0-b3b3-ec82d0cd3f5f",
   "metadata": {
    "scrolled": true
   },
   "outputs": [],
   "source": [
    "data"
   ]
  },
  {
   "cell_type": "markdown",
   "id": "b6e5c398-c333-4831-b15c-230c63e7ac9c",
   "metadata": {},
   "source": [
    "## APIs examples"
   ]
  },
  {
   "cell_type": "markdown",
   "id": "99d3ab93-1f0f-4c3d-9a4d-ebdf7337641b",
   "metadata": {},
   "source": [
    "### NewsAPI"
   ]
  },
  {
   "cell_type": "code",
   "execution_count": null,
   "id": "f9720542-bc2e-4bd5-af7d-395f6aa420a0",
   "metadata": {},
   "outputs": [],
   "source": [
    "type(data) # response.json() returns a dictionary"
   ]
  },
  {
   "cell_type": "code",
   "execution_count": null,
   "id": "541f1c98-0837-4e79-b3bc-8266486acf2f",
   "metadata": {},
   "outputs": [],
   "source": [
    "data.keys() # we can get the keys with method keys()"
   ]
  },
  {
   "cell_type": "code",
   "execution_count": null,
   "id": "b536335a-008b-41d9-af92-6ff4466da5e9",
   "metadata": {},
   "outputs": [],
   "source": [
    "data.get(\"status\") # we can get a key's value by using get method"
   ]
  },
  {
   "cell_type": "code",
   "execution_count": null,
   "id": "eee49271-cd78-42f5-972d-dfe9728ea730",
   "metadata": {},
   "outputs": [],
   "source": [
    "data[\"totalResults\"] # or by using dictionary notation to access values"
   ]
  },
  {
   "cell_type": "code",
   "execution_count": null,
   "id": "f26b202a-2d95-4e36-87e4-9a52f32a4be9",
   "metadata": {},
   "outputs": [],
   "source": [
    "# this is the same as above\n",
    "data.get(\"totalResults\")"
   ]
  },
  {
   "cell_type": "markdown",
   "id": "61e9315e-c94e-41f8-8794-f255eb5220cc",
   "metadata": {},
   "source": [
    "`dict[key]` raises error if the key does not exits  \n",
    "`dict.get(key)` does not raise an error if the key does not exist"
   ]
  },
  {
   "cell_type": "code",
   "execution_count": null,
   "id": "cc234036-e6d5-450e-9183-76e960220a7f",
   "metadata": {},
   "outputs": [],
   "source": [
    "# lets look at the articles\n",
    "articles = data.get(\"articles\")"
   ]
  },
  {
   "cell_type": "code",
   "execution_count": null,
   "id": "0fac4939-7f00-4fe8-b758-4dc13e2c6b52",
   "metadata": {},
   "outputs": [],
   "source": [
    "type(articles) # lets see what type it is to know how to access it"
   ]
  },
  {
   "cell_type": "code",
   "execution_count": null,
   "id": "5988fdf2-5d2a-4236-927f-e8abd9c0fe93",
   "metadata": {},
   "outputs": [],
   "source": [
    "len(articles)"
   ]
  },
  {
   "cell_type": "code",
   "execution_count": null,
   "id": "2353c5e3-c200-40b5-9529-a4f531dc4d77",
   "metadata": {},
   "outputs": [],
   "source": [
    "articles[0] # since articles is a list, we can access its elements by the index"
   ]
  },
  {
   "cell_type": "code",
   "execution_count": null,
   "id": "a98e38bb-4364-4d3a-817d-6993049f9408",
   "metadata": {},
   "outputs": [],
   "source": [
    "type(articles[0]) # each element inside the list is a dictionary"
   ]
  },
  {
   "cell_type": "code",
   "execution_count": null,
   "id": "18eb15ba-18e3-49c5-997d-050815814e21",
   "metadata": {
    "tags": []
   },
   "outputs": [],
   "source": [
    "[art[\"title\"] for art in articles] # lets get all the titles using list comprehension"
   ]
  },
  {
   "cell_type": "code",
   "execution_count": null,
   "id": "e8422609-6ccf-4ddc-b044-b5a951f49ab6",
   "metadata": {},
   "outputs": [],
   "source": [
    "df = pd.DataFrame(articles) # lets create a dataframe with the articles"
   ]
  },
  {
   "cell_type": "code",
   "execution_count": null,
   "id": "9069dc15-b0e6-4db9-acba-f1b5c0c37a5b",
   "metadata": {
    "scrolled": true
   },
   "outputs": [],
   "source": [
    "df.head()"
   ]
  },
  {
   "cell_type": "markdown",
   "id": "2dc2bab1-1cdc-4a3f-9956-b5d5eb832103",
   "metadata": {},
   "source": [
    "#### 💡 Check for understanding"
   ]
  },
  {
   "cell_type": "markdown",
   "id": "3e21fbb4-6e2d-43ef-a61e-38da7eedc5fe",
   "metadata": {},
   "source": [
    "1. What data type is the column *source*?\n",
    "2. Since the column *source* is not very useful as it is, create a column called *name* that contains only the name inside the column *source*.\n",
    "3. How many times each unique name appears in the \"name\" column?"
   ]
  },
  {
   "cell_type": "code",
   "execution_count": null,
   "id": "f906ed21-be98-436b-816b-c73f5dd5c066",
   "metadata": {},
   "outputs": [],
   "source": [
    "# Your answer goes here"
   ]
  },
  {
   "cell_type": "markdown",
   "id": "48ca730a-10fe-4a69-ad11-01bf8759a938",
   "metadata": {},
   "source": [
    "### Pokemon API"
   ]
  },
  {
   "cell_type": "markdown",
   "id": "be8f6d65-359d-408b-aeb4-64379614377f",
   "metadata": {},
   "source": [
    "[PokeAPI](https://pokeapi.co/) is a full RESTful API linked to an extensive database detailing everything about the Pokémon main game series.\n",
    "\n",
    "In the documentation we see that we can get lot's of data. Let's look at the endpoint *pokemon*: ```https://pokeapi.co/api/v2/pokemon/{id or name}/``` "
   ]
  },
  {
   "cell_type": "code",
   "execution_count": 1,
   "id": "dd9e69c4",
   "metadata": {},
   "outputs": [],
   "source": [
    "import requests"
   ]
  },
  {
   "cell_type": "code",
   "execution_count": 2,
   "id": "b59992ec-a9de-4c14-88ef-177df49393a4",
   "metadata": {},
   "outputs": [
    {
     "data": {
      "text/plain": [
       "200"
      ]
     },
     "execution_count": 2,
     "metadata": {},
     "output_type": "execute_result"
    }
   ],
   "source": [
    "res=requests.get('https://pokeapi.co/api/v2/pokemon/25')\n",
    "res.status_code"
   ]
  },
  {
   "cell_type": "code",
   "execution_count": 4,
   "id": "b180faa9-b8b2-4ec5-804e-d46941f6132c",
   "metadata": {
    "scrolled": true
   },
   "outputs": [
    {
     "data": {
      "text/plain": [
       "{'abilities': [{'ability': {'name': 'static',\n",
       "    'url': 'https://pokeapi.co/api/v2/ability/9/'},\n",
       "   'is_hidden': False,\n",
       "   'slot': 1},\n",
       "  {'ability': {'name': 'lightning-rod',\n",
       "    'url': 'https://pokeapi.co/api/v2/ability/31/'},\n",
       "   'is_hidden': True,\n",
       "   'slot': 3}],\n",
       " 'base_experience': 112,\n",
       " 'cries': {'latest': 'https://raw.githubusercontent.com/PokeAPI/cries/main/cries/pokemon/latest/25.ogg',\n",
       "  'legacy': 'https://raw.githubusercontent.com/PokeAPI/cries/main/cries/pokemon/legacy/25.ogg'},\n",
       " 'forms': [{'name': 'pikachu',\n",
       "   'url': 'https://pokeapi.co/api/v2/pokemon-form/25/'}],\n",
       " 'game_indices': [{'game_index': 84,\n",
       "   'version': {'name': 'red', 'url': 'https://pokeapi.co/api/v2/version/1/'}},\n",
       "  {'game_index': 84,\n",
       "   'version': {'name': 'blue', 'url': 'https://pokeapi.co/api/v2/version/2/'}},\n",
       "  {'game_index': 84,\n",
       "   'version': {'name': 'yellow',\n",
       "    'url': 'https://pokeapi.co/api/v2/version/3/'}},\n",
       "  {'game_index': 25,\n",
       "   'version': {'name': 'gold', 'url': 'https://pokeapi.co/api/v2/version/4/'}},\n",
       "  {'game_index': 25,\n",
       "   'version': {'name': 'silver',\n",
       "    'url': 'https://pokeapi.co/api/v2/version/5/'}},\n",
       "  {'game_index': 25,\n",
       "   'version': {'name': 'crystal',\n",
       "    'url': 'https://pokeapi.co/api/v2/version/6/'}},\n",
       "  {'game_index': 25,\n",
       "   'version': {'name': 'ruby', 'url': 'https://pokeapi.co/api/v2/version/7/'}},\n",
       "  {'game_index': 25,\n",
       "   'version': {'name': 'sapphire',\n",
       "    'url': 'https://pokeapi.co/api/v2/version/8/'}},\n",
       "  {'game_index': 25,\n",
       "   'version': {'name': 'emerald',\n",
       "    'url': 'https://pokeapi.co/api/v2/version/9/'}},\n",
       "  {'game_index': 25,\n",
       "   'version': {'name': 'firered',\n",
       "    'url': 'https://pokeapi.co/api/v2/version/10/'}},\n",
       "  {'game_index': 25,\n",
       "   'version': {'name': 'leafgreen',\n",
       "    'url': 'https://pokeapi.co/api/v2/version/11/'}},\n",
       "  {'game_index': 25,\n",
       "   'version': {'name': 'diamond',\n",
       "    'url': 'https://pokeapi.co/api/v2/version/12/'}},\n",
       "  {'game_index': 25,\n",
       "   'version': {'name': 'pearl',\n",
       "    'url': 'https://pokeapi.co/api/v2/version/13/'}},\n",
       "  {'game_index': 25,\n",
       "   'version': {'name': 'platinum',\n",
       "    'url': 'https://pokeapi.co/api/v2/version/14/'}},\n",
       "  {'game_index': 25,\n",
       "   'version': {'name': 'heartgold',\n",
       "    'url': 'https://pokeapi.co/api/v2/version/15/'}},\n",
       "  {'game_index': 25,\n",
       "   'version': {'name': 'soulsilver',\n",
       "    'url': 'https://pokeapi.co/api/v2/version/16/'}},\n",
       "  {'game_index': 25,\n",
       "   'version': {'name': 'black',\n",
       "    'url': 'https://pokeapi.co/api/v2/version/17/'}},\n",
       "  {'game_index': 25,\n",
       "   'version': {'name': 'white',\n",
       "    'url': 'https://pokeapi.co/api/v2/version/18/'}},\n",
       "  {'game_index': 25,\n",
       "   'version': {'name': 'black-2',\n",
       "    'url': 'https://pokeapi.co/api/v2/version/21/'}},\n",
       "  {'game_index': 25,\n",
       "   'version': {'name': 'white-2',\n",
       "    'url': 'https://pokeapi.co/api/v2/version/22/'}}],\n",
       " 'height': 4,\n",
       " 'held_items': [{'item': {'name': 'oran-berry',\n",
       "    'url': 'https://pokeapi.co/api/v2/item/132/'},\n",
       "   'version_details': [{'rarity': 50,\n",
       "     'version': {'name': 'ruby',\n",
       "      'url': 'https://pokeapi.co/api/v2/version/7/'}},\n",
       "    {'rarity': 50,\n",
       "     'version': {'name': 'sapphire',\n",
       "      'url': 'https://pokeapi.co/api/v2/version/8/'}},\n",
       "    {'rarity': 50,\n",
       "     'version': {'name': 'emerald',\n",
       "      'url': 'https://pokeapi.co/api/v2/version/9/'}},\n",
       "    {'rarity': 50,\n",
       "     'version': {'name': 'diamond',\n",
       "      'url': 'https://pokeapi.co/api/v2/version/12/'}},\n",
       "    {'rarity': 50,\n",
       "     'version': {'name': 'pearl',\n",
       "      'url': 'https://pokeapi.co/api/v2/version/13/'}},\n",
       "    {'rarity': 50,\n",
       "     'version': {'name': 'platinum',\n",
       "      'url': 'https://pokeapi.co/api/v2/version/14/'}},\n",
       "    {'rarity': 50,\n",
       "     'version': {'name': 'heartgold',\n",
       "      'url': 'https://pokeapi.co/api/v2/version/15/'}},\n",
       "    {'rarity': 50,\n",
       "     'version': {'name': 'soulsilver',\n",
       "      'url': 'https://pokeapi.co/api/v2/version/16/'}},\n",
       "    {'rarity': 50,\n",
       "     'version': {'name': 'black',\n",
       "      'url': 'https://pokeapi.co/api/v2/version/17/'}},\n",
       "    {'rarity': 50,\n",
       "     'version': {'name': 'white',\n",
       "      'url': 'https://pokeapi.co/api/v2/version/18/'}}]},\n",
       "  {'item': {'name': 'light-ball',\n",
       "    'url': 'https://pokeapi.co/api/v2/item/213/'},\n",
       "   'version_details': [{'rarity': 5,\n",
       "     'version': {'name': 'ruby',\n",
       "      'url': 'https://pokeapi.co/api/v2/version/7/'}},\n",
       "    {'rarity': 5,\n",
       "     'version': {'name': 'sapphire',\n",
       "      'url': 'https://pokeapi.co/api/v2/version/8/'}},\n",
       "    {'rarity': 5,\n",
       "     'version': {'name': 'emerald',\n",
       "      'url': 'https://pokeapi.co/api/v2/version/9/'}},\n",
       "    {'rarity': 5,\n",
       "     'version': {'name': 'diamond',\n",
       "      'url': 'https://pokeapi.co/api/v2/version/12/'}},\n",
       "    {'rarity': 5,\n",
       "     'version': {'name': 'pearl',\n",
       "      'url': 'https://pokeapi.co/api/v2/version/13/'}},\n",
       "    {'rarity': 5,\n",
       "     'version': {'name': 'platinum',\n",
       "      'url': 'https://pokeapi.co/api/v2/version/14/'}},\n",
       "    {'rarity': 5,\n",
       "     'version': {'name': 'heartgold',\n",
       "      'url': 'https://pokeapi.co/api/v2/version/15/'}},\n",
       "    {'rarity': 5,\n",
       "     'version': {'name': 'soulsilver',\n",
       "      'url': 'https://pokeapi.co/api/v2/version/16/'}},\n",
       "    {'rarity': 1,\n",
       "     'version': {'name': 'black',\n",
       "      'url': 'https://pokeapi.co/api/v2/version/17/'}},\n",
       "    {'rarity': 1,\n",
       "     'version': {'name': 'white',\n",
       "      'url': 'https://pokeapi.co/api/v2/version/18/'}},\n",
       "    {'rarity': 5,\n",
       "     'version': {'name': 'black-2',\n",
       "      'url': 'https://pokeapi.co/api/v2/version/21/'}},\n",
       "    {'rarity': 5,\n",
       "     'version': {'name': 'white-2',\n",
       "      'url': 'https://pokeapi.co/api/v2/version/22/'}},\n",
       "    {'rarity': 5,\n",
       "     'version': {'name': 'x', 'url': 'https://pokeapi.co/api/v2/version/23/'}},\n",
       "    {'rarity': 5,\n",
       "     'version': {'name': 'y', 'url': 'https://pokeapi.co/api/v2/version/24/'}},\n",
       "    {'rarity': 5,\n",
       "     'version': {'name': 'omega-ruby',\n",
       "      'url': 'https://pokeapi.co/api/v2/version/25/'}},\n",
       "    {'rarity': 5,\n",
       "     'version': {'name': 'alpha-sapphire',\n",
       "      'url': 'https://pokeapi.co/api/v2/version/26/'}},\n",
       "    {'rarity': 5,\n",
       "     'version': {'name': 'sun',\n",
       "      'url': 'https://pokeapi.co/api/v2/version/27/'}},\n",
       "    {'rarity': 5,\n",
       "     'version': {'name': 'moon',\n",
       "      'url': 'https://pokeapi.co/api/v2/version/28/'}},\n",
       "    {'rarity': 5,\n",
       "     'version': {'name': 'ultra-sun',\n",
       "      'url': 'https://pokeapi.co/api/v2/version/29/'}},\n",
       "    {'rarity': 5,\n",
       "     'version': {'name': 'ultra-moon',\n",
       "      'url': 'https://pokeapi.co/api/v2/version/30/'}}]}],\n",
       " 'id': 25,\n",
       " 'is_default': True,\n",
       " 'location_area_encounters': 'https://pokeapi.co/api/v2/pokemon/25/encounters',\n",
       " 'moves': [{'move': {'name': 'mega-punch',\n",
       "    'url': 'https://pokeapi.co/api/v2/move/5/'},\n",
       "   'version_group_details': [{'level_learned_at': 0,\n",
       "     'move_learn_method': {'name': 'machine',\n",
       "      'url': 'https://pokeapi.co/api/v2/move-learn-method/4/'},\n",
       "     'order': None,\n",
       "     'version_group': {'name': 'red-blue',\n",
       "      'url': 'https://pokeapi.co/api/v2/version-group/1/'}},\n",
       "    {'level_learned_at': 0,\n",
       "     'move_learn_method': {'name': 'machine',\n",
       "      'url': 'https://pokeapi.co/api/v2/move-learn-method/4/'},\n",
       "     'order': None,\n",
       "     'version_group': {'name': 'yellow',\n",
       "      'url': 'https://pokeapi.co/api/v2/version-group/2/'}},\n",
       "    {'level_learned_at': 0,\n",
       "     'move_learn_method': {'name': 'tutor',\n",
       "      'url': 'https://pokeapi.co/api/v2/move-learn-method/3/'},\n",
       "     'order': None,\n",
       "     'version_group': {'name': 'emerald',\n",
       "      'url': 'https://pokeapi.co/api/v2/version-group/6/'}},\n",
       "    {'level_learned_at': 0,\n",
       "     'move_learn_method': {'name': 'tutor',\n",
       "      'url': 'https://pokeapi.co/api/v2/move-learn-method/3/'},\n",
       "     'order': None,\n",
       "     'version_group': {'name': 'firered-leafgreen',\n",
       "      'url': 'https://pokeapi.co/api/v2/version-group/7/'}},\n",
       "    {'level_learned_at': 0,\n",
       "     'move_learn_method': {'name': 'machine',\n",
       "      'url': 'https://pokeapi.co/api/v2/move-learn-method/4/'},\n",
       "     'order': None,\n",
       "     'version_group': {'name': 'sword-shield',\n",
       "      'url': 'https://pokeapi.co/api/v2/version-group/20/'}}]},\n",
       "  {'move': {'name': 'pay-day', 'url': 'https://pokeapi.co/api/v2/move/6/'},\n",
       "   'version_group_details': [{'level_learned_at': 0,\n",
       "     'move_learn_method': {'name': 'machine',\n",
       "      'url': 'https://pokeapi.co/api/v2/move-learn-method/4/'},\n",
       "     'order': None,\n",
       "     'version_group': {'name': 'red-blue',\n",
       "      'url': 'https://pokeapi.co/api/v2/version-group/1/'}},\n",
       "    {'level_learned_at': 0,\n",
       "     'move_learn_method': {'name': 'machine',\n",
       "      'url': 'https://pokeapi.co/api/v2/move-learn-method/4/'},\n",
       "     'order': None,\n",
       "     'version_group': {'name': 'yellow',\n",
       "      'url': 'https://pokeapi.co/api/v2/version-group/2/'}},\n",
       "    {'level_learned_at': 0,\n",
       "     'move_learn_method': {'name': 'machine',\n",
       "      'url': 'https://pokeapi.co/api/v2/move-learn-method/4/'},\n",
       "     'order': None,\n",
       "     'version_group': {'name': 'lets-go-pikachu-lets-go-eevee',\n",
       "      'url': 'https://pokeapi.co/api/v2/version-group/19/'}},\n",
       "    {'level_learned_at': 0,\n",
       "     'move_learn_method': {'name': 'machine',\n",
       "      'url': 'https://pokeapi.co/api/v2/move-learn-method/4/'},\n",
       "     'order': None,\n",
       "     'version_group': {'name': 'sword-shield',\n",
       "      'url': 'https://pokeapi.co/api/v2/version-group/20/'}}]},\n",
       "  {'move': {'name': 'thunder-punch',\n",
       "    'url': 'https://pokeapi.co/api/v2/move/9/'},\n",
       "   'version_group_details': [{'level_learned_at': 0,\n",
       "     'move_learn_method': {'name': 'machine',\n",
       "      'url': 'https://pokeapi.co/api/v2/move-learn-method/4/'},\n",
       "     'order': None,\n",
       "     'version_group': {'name': 'gold-silver',\n",
       "      'url': 'https://pokeapi.co/api/v2/version-group/3/'}},\n",
       "    {'level_learned_at': 0,\n",
       "     'move_learn_method': {'name': 'machine',\n",
       "      'url': 'https://pokeapi.co/api/v2/move-learn-method/4/'},\n",
       "     'order': None,\n",
       "     'version_group': {'name': 'crystal',\n",
       "      'url': 'https://pokeapi.co/api/v2/version-group/4/'}},\n",
       "    {'level_learned_at': 0,\n",
       "     'move_learn_method': {'name': 'tutor',\n",
       "      'url': 'https://pokeapi.co/api/v2/move-learn-method/3/'},\n",
       "     'order': None,\n",
       "     'version_group': {'name': 'emerald',\n",
       "      'url': 'https://pokeapi.co/api/v2/version-group/6/'}},\n",
       "    {'level_learned_at': 0,\n",
       "     'move_learn_method': {'name': 'tutor',\n",
       "      'url': 'https://pokeapi.co/api/v2/move-learn-method/3/'},\n",
       "     'order': None,\n",
       "     'version_group': {'name': 'platinum',\n",
       "      'url': 'https://pokeapi.co/api/v2/version-group/9/'}},\n",
       "    {'level_learned_at': 0,\n",
       "     'move_learn_method': {'name': 'tutor',\n",
       "      'url': 'https://pokeapi.co/api/v2/move-learn-method/3/'},\n",
       "     'order': None,\n",
       "     'version_group': {'name': 'heartgold-soulsilver',\n",
       "      'url': 'https://pokeapi.co/api/v2/version-group/10/'}},\n",
       "    {'level_learned_at': 0,\n",
       "     'move_learn_method': {'name': 'tutor',\n",
       "      'url': 'https://pokeapi.co/api/v2/move-learn-method/3/'},\n",
       "     'order': None,\n",
       "     'version_group': {'name': 'black-2-white-2',\n",
       "      'url': 'https://pokeapi.co/api/v2/version-group/14/'}},\n",
       "    {'level_learned_at': 0,\n",
       "     'move_learn_method': {'name': 'tutor',\n",
       "      'url': 'https://pokeapi.co/api/v2/move-learn-method/3/'},\n",
       "     'order': None,\n",
       "     'version_group': {'name': 'omega-ruby-alpha-sapphire',\n",
       "      'url': 'https://pokeapi.co/api/v2/version-group/16/'}},\n",
       "    {'level_learned_at': 0,\n",
       "     'move_learn_method': {'name': 'tutor',\n",
       "      'url': 'https://pokeapi.co/api/v2/move-learn-method/3/'},\n",
       "     'order': None,\n",
       "     'version_group': {'name': 'ultra-sun-ultra-moon',\n",
       "      'url': 'https://pokeapi.co/api/v2/version-group/18/'}},\n",
       "    {'level_learned_at': 0,\n",
       "     'move_learn_method': {'name': 'machine',\n",
       "      'url': 'https://pokeapi.co/api/v2/move-learn-method/4/'},\n",
       "     'order': None,\n",
       "     'version_group': {'name': 'lets-go-pikachu-lets-go-eevee',\n",
       "      'url': 'https://pokeapi.co/api/v2/version-group/19/'}},\n",
       "    {'level_learned_at': 0,\n",
       "     'move_learn_method': {'name': 'machine',\n",
       "      'url': 'https://pokeapi.co/api/v2/move-learn-method/4/'},\n",
       "     'order': None,\n",
       "     'version_group': {'name': 'sword-shield',\n",
       "      'url': 'https://pokeapi.co/api/v2/version-group/20/'}},\n",
       "    {'level_learned_at': 0,\n",
       "     'move_learn_method': {'name': 'machine',\n",
       "      'url': 'https://pokeapi.co/api/v2/move-learn-method/4/'},\n",
       "     'order': None,\n",
       "     'version_group': {'name': 'scarlet-violet',\n",
       "      'url': 'https://pokeapi.co/api/v2/version-group/25/'}}]},\n",
       "  {'move': {'name': 'slam', 'url': 'https://pokeapi.co/api/v2/move/21/'},\n",
       "   'version_group_details': [{'level_learned_at': 20,\n",
       "     'move_learn_method': {'name': 'level-up',\n",
       "      'url': 'https://pokeapi.co/api/v2/move-learn-method/1/'},\n",
       "     'order': None,\n",
       "     'version_group': {'name': 'yellow',\n",
       "      'url': 'https://pokeapi.co/api/v2/version-group/2/'}},\n",
       "    {'level_learned_at': 20,\n",
       "     'move_learn_method': {'name': 'level-up',\n",
       "      'url': 'https://pokeapi.co/api/v2/move-learn-method/1/'},\n",
       "     'order': None,\n",
       "     'version_group': {'name': 'gold-silver',\n",
       "      'url': 'https://pokeapi.co/api/v2/version-group/3/'}},\n",
       "    {'level_learned_at': 20,\n",
       "     'move_learn_method': {'name': 'level-up',\n",
       "      'url': 'https://pokeapi.co/api/v2/move-learn-method/1/'},\n",
       "     'order': None,\n",
       "     'version_group': {'name': 'crystal',\n",
       "      'url': 'https://pokeapi.co/api/v2/version-group/4/'}},\n",
       "    {'level_learned_at': 20,\n",
       "     'move_learn_method': {'name': 'level-up',\n",
       "      'url': 'https://pokeapi.co/api/v2/move-learn-method/1/'},\n",
       "     'order': None,\n",
       "     'version_group': {'name': 'ruby-sapphire',\n",
       "      'url': 'https://pokeapi.co/api/v2/version-group/5/'}},\n",
       "    {'level_learned_at': 20,\n",
       "     'move_learn_method': {'name': 'level-up',\n",
       "      'url': 'https://pokeapi.co/api/v2/move-learn-method/1/'},\n",
       "     'order': None,\n",
       "     'version_group': {'name': 'emerald',\n",
       "      'url': 'https://pokeapi.co/api/v2/version-group/6/'}},\n",
       "    {'level_learned_at': 20,\n",
       "     'move_learn_method': {'name': 'level-up',\n",
       "      'url': 'https://pokeapi.co/api/v2/move-learn-method/1/'},\n",
       "     'order': None,\n",
       "     'version_group': {'name': 'firered-leafgreen',\n",
       "      'url': 'https://pokeapi.co/api/v2/version-group/7/'}},\n",
       "    {'level_learned_at': 21,\n",
       "     'move_learn_method': {'name': 'level-up',\n",
       "      'url': 'https://pokeapi.co/api/v2/move-learn-method/1/'},\n",
       "     'order': None,\n",
       "     'version_group': {'name': 'diamond-pearl',\n",
       "      'url': 'https://pokeapi.co/api/v2/version-group/8/'}},\n",
       "    {'level_learned_at': 21,\n",
       "     'move_learn_method': {'name': 'level-up',\n",
       "      'url': 'https://pokeapi.co/api/v2/move-learn-method/1/'},\n",
       "     'order': None,\n",
       "     'version_group': {'name': 'platinum',\n",
       "      'url': 'https://pokeapi.co/api/v2/version-group/9/'}},\n",
       "    {'level_learned_at': 21,\n",
       "     'move_learn_method': {'name': 'level-up',\n",
       "      'url': 'https://pokeapi.co/api/v2/move-learn-method/1/'},\n",
       "     'order': None,\n",
       "     'version_group': {'name': 'heartgold-soulsilver',\n",
       "      'url': 'https://pokeapi.co/api/v2/version-group/10/'}},\n",
       "    {'level_learned_at': 26,\n",
       "     'move_learn_method': {'name': 'level-up',\n",
       "      'url': 'https://pokeapi.co/api/v2/move-learn-method/1/'},\n",
       "     'order': None,\n",
       "     'version_group': {'name': 'black-white',\n",
       "      'url': 'https://pokeapi.co/api/v2/version-group/11/'}},\n",
       "    {'level_learned_at': 20,\n",
       "     'move_learn_method': {'name': 'level-up',\n",
       "      'url': 'https://pokeapi.co/api/v2/move-learn-method/1/'},\n",
       "     'order': None,\n",
       "     'version_group': {'name': 'colosseum',\n",
       "      'url': 'https://pokeapi.co/api/v2/version-group/12/'}},\n",
       "    {'level_learned_at': 20,\n",
       "     'move_learn_method': {'name': 'level-up',\n",
       "      'url': 'https://pokeapi.co/api/v2/move-learn-method/1/'},\n",
       "     'order': None,\n",
       "     'version_group': {'name': 'xd',\n",
       "      'url': 'https://pokeapi.co/api/v2/version-group/13/'}},\n",
       "    {'level_learned_at': 26,\n",
       "     'move_learn_method': {'name': 'level-up',\n",
       "      'url': 'https://pokeapi.co/api/v2/move-learn-method/1/'},\n",
       "     'order': None,\n",
       "     'version_group': {'name': 'black-2-white-2',\n",
       "      'url': 'https://pokeapi.co/api/v2/version-group/14/'}},\n",
       "    {'level_learned_at': 26,\n",
       "     'move_learn_method': {'name': 'level-up',\n",
       "      'url': 'https://pokeapi.co/api/v2/move-learn-method/1/'},\n",
       "     'order': None,\n",
       "     'version_group': {'name': 'x-y',\n",
       "      'url': 'https://pokeapi.co/api/v2/version-group/15/'}},\n",
       "    {'level_learned_at': 37,\n",
       "     'move_learn_method': {'name': 'level-up',\n",
       "      'url': 'https://pokeapi.co/api/v2/move-learn-method/1/'},\n",
       "     'order': None,\n",
       "     'version_group': {'name': 'omega-ruby-alpha-sapphire',\n",
       "      'url': 'https://pokeapi.co/api/v2/version-group/16/'}},\n",
       "    {'level_learned_at': 37,\n",
       "     'move_learn_method': {'name': 'level-up',\n",
       "      'url': 'https://pokeapi.co/api/v2/move-learn-method/1/'},\n",
       "     'order': None,\n",
       "     'version_group': {'name': 'sun-moon',\n",
       "      'url': 'https://pokeapi.co/api/v2/version-group/17/'}},\n",
       "    {'level_learned_at': 37,\n",
       "     'move_learn_method': {'name': 'level-up',\n",
       "      'url': 'https://pokeapi.co/api/v2/move-learn-method/1/'},\n",
       "     'order': None,\n",
       "     'version_group': {'name': 'ultra-sun-ultra-moon',\n",
       "      'url': 'https://pokeapi.co/api/v2/version-group/18/'}},\n",
       "    {'level_learned_at': 24,\n",
       "     'move_learn_method': {'name': 'level-up',\n",
       "      'url': 'https://pokeapi.co/api/v2/move-learn-method/1/'},\n",
       "     'order': None,\n",
       "     'version_group': {'name': 'lets-go-pikachu-lets-go-eevee',\n",
       "      'url': 'https://pokeapi.co/api/v2/version-group/19/'}},\n",
       "    {'level_learned_at': 28,\n",
       "     'move_learn_method': {'name': 'level-up',\n",
       "      'url': 'https://pokeapi.co/api/v2/move-learn-method/1/'},\n",
       "     'order': None,\n",
       "     'version_group': {'name': 'sword-shield',\n",
       "      'url': 'https://pokeapi.co/api/v2/version-group/20/'}},\n",
       "    {'level_learned_at': 28,\n",
       "     'move_learn_method': {'name': 'level-up',\n",
       "      'url': 'https://pokeapi.co/api/v2/move-learn-method/1/'},\n",
       "     'order': None,\n",
       "     'version_group': {'name': 'brilliant-diamond-and-shining-pearl',\n",
       "      'url': 'https://pokeapi.co/api/v2/version-group/23/'}}]},\n",
       "  {'move': {'name': 'double-kick',\n",
       "    'url': 'https://pokeapi.co/api/v2/move/24/'},\n",
       "   'version_group_details': [{'level_learned_at': 9,\n",
       "     'move_learn_method': {'name': 'level-up',\n",
       "      'url': 'https://pokeapi.co/api/v2/move-learn-method/1/'},\n",
       "     'order': None,\n",
       "     'version_group': {'name': 'lets-go-pikachu-lets-go-eevee',\n",
       "      'url': 'https://pokeapi.co/api/v2/version-group/19/'}}]},\n",
       "  {'move': {'name': 'mega-kick', 'url': 'https://pokeapi.co/api/v2/move/25/'},\n",
       "   'version_group_details': [{'level_learned_at': 0,\n",
       "     'move_learn_method': {'name': 'machine',\n",
       "      'url': 'https://pokeapi.co/api/v2/move-learn-method/4/'},\n",
       "     'order': None,\n",
       "     'version_group': {'name': 'red-blue',\n",
       "      'url': 'https://pokeapi.co/api/v2/version-group/1/'}},\n",
       "    {'level_learned_at': 0,\n",
       "     'move_learn_method': {'name': 'machine',\n",
       "      'url': 'https://pokeapi.co/api/v2/move-learn-method/4/'},\n",
       "     'order': None,\n",
       "     'version_group': {'name': 'yellow',\n",
       "      'url': 'https://pokeapi.co/api/v2/version-group/2/'}},\n",
       "    {'level_learned_at': 0,\n",
       "     'move_learn_method': {'name': 'tutor',\n",
       "      'url': 'https://pokeapi.co/api/v2/move-learn-method/3/'},\n",
       "     'order': None,\n",
       "     'version_group': {'name': 'emerald',\n",
       "      'url': 'https://pokeapi.co/api/v2/version-group/6/'}},\n",
       "    {'level_learned_at': 0,\n",
       "     'move_learn_method': {'name': 'tutor',\n",
       "      'url': 'https://pokeapi.co/api/v2/move-learn-method/3/'},\n",
       "     'order': None,\n",
       "     'version_group': {'name': 'firered-leafgreen',\n",
       "      'url': 'https://pokeapi.co/api/v2/version-group/7/'}},\n",
       "    {'level_learned_at': 0,\n",
       "     'move_learn_method': {'name': 'machine',\n",
       "      'url': 'https://pokeapi.co/api/v2/move-learn-method/4/'},\n",
       "     'order': None,\n",
       "     'version_group': {'name': 'sword-shield',\n",
       "      'url': 'https://pokeapi.co/api/v2/version-group/20/'}}]},\n",
       "  {'move': {'name': 'headbutt', 'url': 'https://pokeapi.co/api/v2/move/29/'},\n",
       "   'version_group_details': [{'level_learned_at': 0,\n",
       "     'move_learn_method': {'name': 'machine',\n",
       "      'url': 'https://pokeapi.co/api/v2/move-learn-method/4/'},\n",
       "     'order': None,\n",
       "     'version_group': {'name': 'gold-silver',\n",
       "      'url': 'https://pokeapi.co/api/v2/version-group/3/'}},\n",
       "    {'level_learned_at': 0,\n",
       "     'move_learn_method': {'name': 'machine',\n",
       "      'url': 'https://pokeapi.co/api/v2/move-learn-method/4/'},\n",
       "     'order': None,\n",
       "     'version_group': {'name': 'crystal',\n",
       "      'url': 'https://pokeapi.co/api/v2/version-group/4/'}},\n",
       "    {'level_learned_at': 0,\n",
       "     'move_learn_method': {'name': 'tutor',\n",
       "      'url': 'https://pokeapi.co/api/v2/move-learn-method/3/'},\n",
       "     'order': None,\n",
       "     'version_group': {'name': 'heartgold-soulsilver',\n",
       "      'url': 'https://pokeapi.co/api/v2/version-group/10/'}},\n",
       "    {'level_learned_at': 0,\n",
       "     'move_learn_method': {'name': 'machine',\n",
       "      'url': 'https://pokeapi.co/api/v2/move-learn-method/4/'},\n",
       "     'order': None,\n",
       "     'version_group': {'name': 'lets-go-pikachu-lets-go-eevee',\n",
       "      'url': 'https://pokeapi.co/api/v2/version-group/19/'}}]},\n",
       "  {'move': {'name': 'body-slam', 'url': 'https://pokeapi.co/api/v2/move/34/'},\n",
       "   'version_group_details': [{'level_learned_at': 0,\n",
       "     'move_learn_method': {'name': 'machine',\n",
       "      'url': 'https://pokeapi.co/api/v2/move-learn-method/4/'},\n",
       "     'order': None,\n",
       "     'version_group': {'name': 'red-blue',\n",
       "      'url': 'https://pokeapi.co/api/v2/version-group/1/'}},\n",
       "    {'level_learned_at': 0,\n",
       "     'move_learn_method': {'name': 'machine',\n",
       "      'url': 'https://pokeapi.co/api/v2/move-learn-method/4/'},\n",
       "     'order': None,\n",
       "     'version_group': {'name': 'yellow',\n",
       "      'url': 'https://pokeapi.co/api/v2/version-group/2/'}},\n",
       "    {'level_learned_at': 0,\n",
       "     'move_learn_method': {'name': 'tutor',\n",
       "      'url': 'https://pokeapi.co/api/v2/move-learn-method/3/'},\n",
       "     'order': None,\n",
       "     'version_group': {'name': 'emerald',\n",
       "      'url': 'https://pokeapi.co/api/v2/version-group/6/'}},\n",
       "    {'level_learned_at': 0,\n",
       "     'move_learn_method': {'name': 'tutor',\n",
       "      'url': 'https://pokeapi.co/api/v2/move-learn-method/3/'},\n",
       "     'order': None,\n",
       "     'version_group': {'name': 'firered-leafgreen',\n",
       "      'url': 'https://pokeapi.co/api/v2/version-group/7/'}},\n",
       "    {'level_learned_at': 0,\n",
       "     'move_learn_method': {'name': 'tutor',\n",
       "      'url': 'https://pokeapi.co/api/v2/move-learn-method/3/'},\n",
       "     'order': None,\n",
       "     'version_group': {'name': 'xd',\n",
       "      'url': 'https://pokeapi.co/api/v2/version-group/13/'}},\n",
       "    {'level_learned_at': 0,\n",
       "     'move_learn_method': {'name': 'machine',\n",
       "      'url': 'https://pokeapi.co/api/v2/move-learn-method/4/'},\n",
       "     'order': None,\n",
       "     'version_group': {'name': 'sword-shield',\n",
       "      'url': 'https://pokeapi.co/api/v2/version-group/20/'}},\n",
       "    {'level_learned_at': 0,\n",
       "     'move_learn_method': {'name': 'machine',\n",
       "      'url': 'https://pokeapi.co/api/v2/move-learn-method/4/'},\n",
       "     'order': None,\n",
       "     'version_group': {'name': 'scarlet-violet',\n",
       "      'url': 'https://pokeapi.co/api/v2/version-group/25/'}}]},\n",
       "  {'move': {'name': 'take-down', 'url': 'https://pokeapi.co/api/v2/move/36/'},\n",
       "   'version_group_details': [{'level_learned_at': 0,\n",
       "     'move_learn_method': {'name': 'machine',\n",
       "      'url': 'https://pokeapi.co/api/v2/move-learn-method/4/'},\n",
       "     'order': None,\n",
       "     'version_group': {'name': 'red-blue',\n",
       "      'url': 'https://pokeapi.co/api/v2/version-group/1/'}},\n",
       "    {'level_learned_at': 0,\n",
       "     'move_learn_method': {'name': 'machine',\n",
       "      'url': 'https://pokeapi.co/api/v2/move-learn-method/4/'},\n",
       "     'order': None,\n",
       "     'version_group': {'name': 'yellow',\n",
       "      'url': 'https://pokeapi.co/api/v2/version-group/2/'}},\n",
       "    {'level_learned_at': 0,\n",
       "     'move_learn_method': {'name': 'machine',\n",
       "      'url': 'https://pokeapi.co/api/v2/move-learn-method/4/'},\n",
       "     'order': None,\n",
       "     'version_group': {'name': 'scarlet-violet',\n",
       "      'url': 'https://pokeapi.co/api/v2/version-group/25/'}}]},\n",
       "  {'move': {'name': 'double-edge',\n",
       "    'url': 'https://pokeapi.co/api/v2/move/38/'},\n",
       "   'version_group_details': [{'level_learned_at': 0,\n",
       "     'move_learn_method': {'name': 'machine',\n",
       "      'url': 'https://pokeapi.co/api/v2/move-learn-method/4/'},\n",
       "     'order': None,\n",
       "     'version_group': {'name': 'red-blue',\n",
       "      'url': 'https://pokeapi.co/api/v2/version-group/1/'}},\n",
       "    {'level_learned_at': 0,\n",
       "     'move_learn_method': {'name': 'machine',\n",
       "      'url': 'https://pokeapi.co/api/v2/move-learn-method/4/'},\n",
       "     'order': None,\n",
       "     'version_group': {'name': 'yellow',\n",
       "      'url': 'https://pokeapi.co/api/v2/version-group/2/'}},\n",
       "    {'level_learned_at': 0,\n",
       "     'move_learn_method': {'name': 'tutor',\n",
       "      'url': 'https://pokeapi.co/api/v2/move-learn-method/3/'},\n",
       "     'order': None,\n",
       "     'version_group': {'name': 'emerald',\n",
       "      'url': 'https://pokeapi.co/api/v2/version-group/6/'}},\n",
       "    {'level_learned_at': 0,\n",
       "     'move_learn_method': {'name': 'tutor',\n",
       "      'url': 'https://pokeapi.co/api/v2/move-learn-method/3/'},\n",
       "     'order': None,\n",
       "     'version_group': {'name': 'firered-leafgreen',\n",
       "      'url': 'https://pokeapi.co/api/v2/version-group/7/'}},\n",
       "    {'level_learned_at': 0,\n",
       "     'move_learn_method': {'name': 'tutor',\n",
       "      'url': 'https://pokeapi.co/api/v2/move-learn-method/3/'},\n",
       "     'order': None,\n",
       "     'version_group': {'name': 'xd',\n",
       "      'url': 'https://pokeapi.co/api/v2/version-group/13/'}}]},\n",
       "  {'move': {'name': 'tail-whip', 'url': 'https://pokeapi.co/api/v2/move/39/'},\n",
       "   'version_group_details': [{'level_learned_at': 6,\n",
       "     'move_learn_method': {'name': 'level-up',\n",
       "      'url': 'https://pokeapi.co/api/v2/move-learn-method/1/'},\n",
       "     'order': None,\n",
       "     'version_group': {'name': 'yellow',\n",
       "      'url': 'https://pokeapi.co/api/v2/version-group/2/'}},\n",
       "    {'level_learned_at': 6,\n",
       "     'move_learn_method': {'name': 'level-up',\n",
       "      'url': 'https://pokeapi.co/api/v2/move-learn-method/1/'},\n",
       "     'order': None,\n",
       "     'version_group': {'name': 'gold-silver',\n",
       "      'url': 'https://pokeapi.co/api/v2/version-group/3/'}},\n",
       "    {'level_learned_at': 6,\n",
       "     'move_learn_method': {'name': 'level-up',\n",
       "      'url': 'https://pokeapi.co/api/v2/move-learn-method/1/'},\n",
       "     'order': None,\n",
       "     'version_group': {'name': 'crystal',\n",
       "      'url': 'https://pokeapi.co/api/v2/version-group/4/'}},\n",
       "    {'level_learned_at': 6,\n",
       "     'move_learn_method': {'name': 'level-up',\n",
       "      'url': 'https://pokeapi.co/api/v2/move-learn-method/1/'},\n",
       "     'order': None,\n",
       "     'version_group': {'name': 'ruby-sapphire',\n",
       "      'url': 'https://pokeapi.co/api/v2/version-group/5/'}},\n",
       "    {'level_learned_at': 6,\n",
       "     'move_learn_method': {'name': 'level-up',\n",
       "      'url': 'https://pokeapi.co/api/v2/move-learn-method/1/'},\n",
       "     'order': None,\n",
       "     'version_group': {'name': 'emerald',\n",
       "      'url': 'https://pokeapi.co/api/v2/version-group/6/'}},\n",
       "    {'level_learned_at': 6,\n",
       "     'move_learn_method': {'name': 'level-up',\n",
       "      'url': 'https://pokeapi.co/api/v2/move-learn-method/1/'},\n",
       "     'order': None,\n",
       "     'version_group': {'name': 'firered-leafgreen',\n",
       "      'url': 'https://pokeapi.co/api/v2/version-group/7/'}},\n",
       "    {'level_learned_at': 5,\n",
       "     'move_learn_method': {'name': 'level-up',\n",
       "      'url': 'https://pokeapi.co/api/v2/move-learn-method/1/'},\n",
       "     'order': None,\n",
       "     'version_group': {'name': 'diamond-pearl',\n",
       "      'url': 'https://pokeapi.co/api/v2/version-group/8/'}},\n",
       "    {'level_learned_at': 5,\n",
       "     'move_learn_method': {'name': 'level-up',\n",
       "      'url': 'https://pokeapi.co/api/v2/move-learn-method/1/'},\n",
       "     'order': None,\n",
       "     'version_group': {'name': 'platinum',\n",
       "      'url': 'https://pokeapi.co/api/v2/version-group/9/'}},\n",
       "    {'level_learned_at': 5,\n",
       "     'move_learn_method': {'name': 'level-up',\n",
       "      'url': 'https://pokeapi.co/api/v2/move-learn-method/1/'},\n",
       "     'order': None,\n",
       "     'version_group': {'name': 'heartgold-soulsilver',\n",
       "      'url': 'https://pokeapi.co/api/v2/version-group/10/'}},\n",
       "    {'level_learned_at': 5,\n",
       "     'move_learn_method': {'name': 'level-up',\n",
       "      'url': 'https://pokeapi.co/api/v2/move-learn-method/1/'},\n",
       "     'order': None,\n",
       "     'version_group': {'name': 'black-white',\n",
       "      'url': 'https://pokeapi.co/api/v2/version-group/11/'}},\n",
       "    {'level_learned_at': 6,\n",
       "     'move_learn_method': {'name': 'level-up',\n",
       "      'url': 'https://pokeapi.co/api/v2/move-learn-method/1/'},\n",
       "     'order': None,\n",
       "     'version_group': {'name': 'colosseum',\n",
       "      'url': 'https://pokeapi.co/api/v2/version-group/12/'}},\n",
       "    {'level_learned_at': 6,\n",
       "     'move_learn_method': {'name': 'level-up',\n",
       "      'url': 'https://pokeapi.co/api/v2/move-learn-method/1/'},\n",
       "     'order': None,\n",
       "     'version_group': {'name': 'xd',\n",
       "      'url': 'https://pokeapi.co/api/v2/version-group/13/'}},\n",
       "    {'level_learned_at': 5,\n",
       "     'move_learn_method': {'name': 'level-up',\n",
       "      'url': 'https://pokeapi.co/api/v2/move-learn-method/1/'},\n",
       "     'order': None,\n",
       "     'version_group': {'name': 'black-2-white-2',\n",
       "      'url': 'https://pokeapi.co/api/v2/version-group/14/'}},\n",
       "    {'level_learned_at': 1,\n",
       "     'move_learn_method': {'name': 'level-up',\n",
       "      'url': 'https://pokeapi.co/api/v2/move-learn-method/1/'},\n",
       "     'order': 1,\n",
       "     'version_group': {'name': 'x-y',\n",
       "      'url': 'https://pokeapi.co/api/v2/version-group/15/'}},\n",
       "    {'level_learned_at': 1,\n",
       "     'move_learn_method': {'name': 'level-up',\n",
       "      'url': 'https://pokeapi.co/api/v2/move-learn-method/1/'},\n",
       "     'order': 1,\n",
       "     'version_group': {'name': 'omega-ruby-alpha-sapphire',\n",
       "      'url': 'https://pokeapi.co/api/v2/version-group/16/'}},\n",
       "    {'level_learned_at': 1,\n",
       "     'move_learn_method': {'name': 'level-up',\n",
       "      'url': 'https://pokeapi.co/api/v2/move-learn-method/1/'},\n",
       "     'order': 1,\n",
       "     'version_group': {'name': 'sun-moon',\n",
       "      'url': 'https://pokeapi.co/api/v2/version-group/17/'}},\n",
       "    {'level_learned_at': 1,\n",
       "     'move_learn_method': {'name': 'level-up',\n",
       "      'url': 'https://pokeapi.co/api/v2/move-learn-method/1/'},\n",
       "     'order': 1,\n",
       "     'version_group': {'name': 'ultra-sun-ultra-moon',\n",
       "      'url': 'https://pokeapi.co/api/v2/version-group/18/'}},\n",
       "    {'level_learned_at': 3,\n",
       "     'move_learn_method': {'name': 'level-up',\n",
       "      'url': 'https://pokeapi.co/api/v2/move-learn-method/1/'},\n",
       "     'order': None,\n",
       "     'version_group': {'name': 'lets-go-pikachu-lets-go-eevee',\n",
       "      'url': 'https://pokeapi.co/api/v2/version-group/19/'}},\n",
       "    {'level_learned_at': 1,\n",
       "     'move_learn_method': {'name': 'level-up',\n",
       "      'url': 'https://pokeapi.co/api/v2/move-learn-method/1/'},\n",
       "     'order': 7,\n",
       "     'version_group': {'name': 'sword-shield',\n",
       "      'url': 'https://pokeapi.co/api/v2/version-group/20/'}},\n",
       "    {'level_learned_at': 1,\n",
       "     'move_learn_method': {'name': 'level-up',\n",
       "      'url': 'https://pokeapi.co/api/v2/move-learn-method/1/'},\n",
       "     'order': 8,\n",
       "     'version_group': {'name': 'brilliant-diamond-and-shining-pearl',\n",
       "      'url': 'https://pokeapi.co/api/v2/version-group/23/'}},\n",
       "    {'level_learned_at': 1,\n",
       "     'move_learn_method': {'name': 'level-up',\n",
       "      'url': 'https://pokeapi.co/api/v2/move-learn-method/1/'},\n",
       "     'order': 7,\n",
       "     'version_group': {'name': 'scarlet-violet',\n",
       "      'url': 'https://pokeapi.co/api/v2/version-group/25/'}}]},\n",
       "  {'move': {'name': 'growl', 'url': 'https://pokeapi.co/api/v2/move/45/'},\n",
       "   'version_group_details': [{'level_learned_at': 1,\n",
       "     'move_learn_method': {'name': 'level-up',\n",
       "      'url': 'https://pokeapi.co/api/v2/move-learn-method/1/'},\n",
       "     'order': 2,\n",
       "     'version_group': {'name': 'red-blue',\n",
       "      'url': 'https://pokeapi.co/api/v2/version-group/1/'}},\n",
       "    {'level_learned_at': 1,\n",
       "     'move_learn_method': {'name': 'level-up',\n",
       "      'url': 'https://pokeapi.co/api/v2/move-learn-method/1/'},\n",
       "     'order': 2,\n",
       "     'version_group': {'name': 'yellow',\n",
       "      'url': 'https://pokeapi.co/api/v2/version-group/2/'}},\n",
       "    {'level_learned_at': 1,\n",
       "     'move_learn_method': {'name': 'level-up',\n",
       "      'url': 'https://pokeapi.co/api/v2/move-learn-method/1/'},\n",
       "     'order': 2,\n",
       "     'version_group': {'name': 'gold-silver',\n",
       "      'url': 'https://pokeapi.co/api/v2/version-group/3/'}},\n",
       "    {'level_learned_at': 1,\n",
       "     'move_learn_method': {'name': 'level-up',\n",
       "      'url': 'https://pokeapi.co/api/v2/move-learn-method/1/'},\n",
       "     'order': 2,\n",
       "     'version_group': {'name': 'crystal',\n",
       "      'url': 'https://pokeapi.co/api/v2/version-group/4/'}},\n",
       "    {'level_learned_at': 1,\n",
       "     'move_learn_method': {'name': 'level-up',\n",
       "      'url': 'https://pokeapi.co/api/v2/move-learn-method/1/'},\n",
       "     'order': 2,\n",
       "     'version_group': {'name': 'ruby-sapphire',\n",
       "      'url': 'https://pokeapi.co/api/v2/version-group/5/'}},\n",
       "    {'level_learned_at': 1,\n",
       "     'move_learn_method': {'name': 'level-up',\n",
       "      'url': 'https://pokeapi.co/api/v2/move-learn-method/1/'},\n",
       "     'order': 2,\n",
       "     'version_group': {'name': 'emerald',\n",
       "      'url': 'https://pokeapi.co/api/v2/version-group/6/'}},\n",
       "    {'level_learned_at': 1,\n",
       "     'move_learn_method': {'name': 'level-up',\n",
       "      'url': 'https://pokeapi.co/api/v2/move-learn-method/1/'},\n",
       "     'order': 2,\n",
       "     'version_group': {'name': 'firered-leafgreen',\n",
       "      'url': 'https://pokeapi.co/api/v2/version-group/7/'}},\n",
       "    {'level_learned_at': 1,\n",
       "     'move_learn_method': {'name': 'level-up',\n",
       "      'url': 'https://pokeapi.co/api/v2/move-learn-method/1/'},\n",
       "     'order': 2,\n",
       "     'version_group': {'name': 'diamond-pearl',\n",
       "      'url': 'https://pokeapi.co/api/v2/version-group/8/'}},\n",
       "    {'level_learned_at': 1,\n",
       "     'move_learn_method': {'name': 'level-up',\n",
       "      'url': 'https://pokeapi.co/api/v2/move-learn-method/1/'},\n",
       "     'order': 2,\n",
       "     'version_group': {'name': 'platinum',\n",
       "      'url': 'https://pokeapi.co/api/v2/version-group/9/'}},\n",
       "    {'level_learned_at': 1,\n",
       "     'move_learn_method': {'name': 'level-up',\n",
       "      'url': 'https://pokeapi.co/api/v2/move-learn-method/1/'},\n",
       "     'order': 2,\n",
       "     'version_group': {'name': 'heartgold-soulsilver',\n",
       "      'url': 'https://pokeapi.co/api/v2/version-group/10/'}},\n",
       "    {'level_learned_at': 1,\n",
       "     'move_learn_method': {'name': 'level-up',\n",
       "      'url': 'https://pokeapi.co/api/v2/move-learn-method/1/'},\n",
       "     'order': 1,\n",
       "     'version_group': {'name': 'black-white',\n",
       "      'url': 'https://pokeapi.co/api/v2/version-group/11/'}},\n",
       "    {'level_learned_at': 1,\n",
       "     'move_learn_method': {'name': 'level-up',\n",
       "      'url': 'https://pokeapi.co/api/v2/move-learn-method/1/'},\n",
       "     'order': 2,\n",
       "     'version_group': {'name': 'colosseum',\n",
       "      'url': 'https://pokeapi.co/api/v2/version-group/12/'}},\n",
       "    {'level_learned_at': 1,\n",
       "     'move_learn_method': {'name': 'level-up',\n",
       "      'url': 'https://pokeapi.co/api/v2/move-learn-method/1/'},\n",
       "     'order': 2,\n",
       "     'version_group': {'name': 'xd',\n",
       "      'url': 'https://pokeapi.co/api/v2/version-group/13/'}},\n",
       "    {'level_learned_at': 1,\n",
       "     'move_learn_method': {'name': 'level-up',\n",
       "      'url': 'https://pokeapi.co/api/v2/move-learn-method/1/'},\n",
       "     'order': 1,\n",
       "     'version_group': {'name': 'black-2-white-2',\n",
       "      'url': 'https://pokeapi.co/api/v2/version-group/14/'}},\n",
       "    {'level_learned_at': 5,\n",
       "     'move_learn_method': {'name': 'level-up',\n",
       "      'url': 'https://pokeapi.co/api/v2/move-learn-method/1/'},\n",
       "     'order': None,\n",
       "     'version_group': {'name': 'x-y',\n",
       "      'url': 'https://pokeapi.co/api/v2/version-group/15/'}},\n",
       "    {'level_learned_at': 5,\n",
       "     'move_learn_method': {'name': 'level-up',\n",
       "      'url': 'https://pokeapi.co/api/v2/move-learn-method/1/'},\n",
       "     'order': None,\n",
       "     'version_group': {'name': 'omega-ruby-alpha-sapphire',\n",
       "      'url': 'https://pokeapi.co/api/v2/version-group/16/'}},\n",
       "    {'level_learned_at': 5,\n",
       "     'move_learn_method': {'name': 'level-up',\n",
       "      'url': 'https://pokeapi.co/api/v2/move-learn-method/1/'},\n",
       "     'order': None,\n",
       "     'version_group': {'name': 'sun-moon',\n",
       "      'url': 'https://pokeapi.co/api/v2/version-group/17/'}},\n",
       "    {'level_learned_at': 5,\n",
       "     'move_learn_method': {'name': 'level-up',\n",
       "      'url': 'https://pokeapi.co/api/v2/move-learn-method/1/'},\n",
       "     'order': None,\n",
       "     'version_group': {'name': 'ultra-sun-ultra-moon',\n",
       "      'url': 'https://pokeapi.co/api/v2/version-group/18/'}},\n",
       "    {'level_learned_at': 1,\n",
       "     'move_learn_method': {'name': 'level-up',\n",
       "      'url': 'https://pokeapi.co/api/v2/move-learn-method/1/'},\n",
       "     'order': 2,\n",
       "     'version_group': {'name': 'lets-go-pikachu-lets-go-eevee',\n",
       "      'url': 'https://pokeapi.co/api/v2/version-group/19/'}},\n",
       "    {'level_learned_at': 1,\n",
       "     'move_learn_method': {'name': 'level-up',\n",
       "      'url': 'https://pokeapi.co/api/v2/move-learn-method/1/'},\n",
       "     'order': 8,\n",
       "     'version_group': {'name': 'sword-shield',\n",
       "      'url': 'https://pokeapi.co/api/v2/version-group/20/'}},\n",
       "    {'level_learned_at': 1,\n",
       "     'move_learn_method': {'name': 'level-up',\n",
       "      'url': 'https://pokeapi.co/api/v2/move-learn-method/1/'},\n",
       "     'order': 2,\n",
       "     'version_group': {'name': 'brilliant-diamond-and-shining-pearl',\n",
       "      'url': 'https://pokeapi.co/api/v2/version-group/23/'}},\n",
       "    {'level_learned_at': 1,\n",
       "     'move_learn_method': {'name': 'level-up',\n",
       "      'url': 'https://pokeapi.co/api/v2/move-learn-method/1/'},\n",
       "     'order': 9,\n",
       "     'version_group': {'name': 'scarlet-violet',\n",
       "      'url': 'https://pokeapi.co/api/v2/version-group/25/'}}]},\n",
       "  {'move': {'name': 'surf', 'url': 'https://pokeapi.co/api/v2/move/57/'},\n",
       "   'version_group_details': [{'level_learned_at': 0,\n",
       "     'move_learn_method': {'name': 'stadium-surfing-pikachu',\n",
       "      'url': 'https://pokeapi.co/api/v2/move-learn-method/5/'},\n",
       "     'order': None,\n",
       "     'version_group': {'name': 'red-blue',\n",
       "      'url': 'https://pokeapi.co/api/v2/version-group/1/'}},\n",
       "    {'level_learned_at': 0,\n",
       "     'move_learn_method': {'name': 'stadium-surfing-pikachu',\n",
       "      'url': 'https://pokeapi.co/api/v2/move-learn-method/5/'},\n",
       "     'order': None,\n",
       "     'version_group': {'name': 'yellow',\n",
       "      'url': 'https://pokeapi.co/api/v2/version-group/2/'}},\n",
       "    {'level_learned_at': 0,\n",
       "     'move_learn_method': {'name': 'machine',\n",
       "      'url': 'https://pokeapi.co/api/v2/move-learn-method/4/'},\n",
       "     'order': None,\n",
       "     'version_group': {'name': 'sword-shield',\n",
       "      'url': 'https://pokeapi.co/api/v2/version-group/20/'}},\n",
       "    {'level_learned_at': 0,\n",
       "     'move_learn_method': {'name': 'machine',\n",
       "      'url': 'https://pokeapi.co/api/v2/move-learn-method/4/'},\n",
       "     'order': None,\n",
       "     'version_group': {'name': 'brilliant-diamond-and-shining-pearl',\n",
       "      'url': 'https://pokeapi.co/api/v2/version-group/23/'}},\n",
       "    {'level_learned_at': 0,\n",
       "     'move_learn_method': {'name': 'machine',\n",
       "      'url': 'https://pokeapi.co/api/v2/move-learn-method/4/'},\n",
       "     'order': None,\n",
       "     'version_group': {'name': 'scarlet-violet',\n",
       "      'url': 'https://pokeapi.co/api/v2/version-group/25/'}}]},\n",
       "  {'move': {'name': 'submission', 'url': 'https://pokeapi.co/api/v2/move/66/'},\n",
       "   'version_group_details': [{'level_learned_at': 0,\n",
       "     'move_learn_method': {'name': 'machine',\n",
       "      'url': 'https://pokeapi.co/api/v2/move-learn-method/4/'},\n",
       "     'order': None,\n",
       "     'version_group': {'name': 'red-blue',\n",
       "      'url': 'https://pokeapi.co/api/v2/version-group/1/'}},\n",
       "    {'level_learned_at': 0,\n",
       "     'move_learn_method': {'name': 'machine',\n",
       "      'url': 'https://pokeapi.co/api/v2/move-learn-method/4/'},\n",
       "     'order': None,\n",
       "     'version_group': {'name': 'yellow',\n",
       "      'url': 'https://pokeapi.co/api/v2/version-group/2/'}}]},\n",
       "  {'move': {'name': 'counter', 'url': 'https://pokeapi.co/api/v2/move/68/'},\n",
       "   'version_group_details': [{'level_learned_at': 0,\n",
       "     'move_learn_method': {'name': 'tutor',\n",
       "      'url': 'https://pokeapi.co/api/v2/move-learn-method/3/'},\n",
       "     'order': None,\n",
       "     'version_group': {'name': 'emerald',\n",
       "      'url': 'https://pokeapi.co/api/v2/version-group/6/'}},\n",
       "    {'level_learned_at': 0,\n",
       "     'move_learn_method': {'name': 'tutor',\n",
       "      'url': 'https://pokeapi.co/api/v2/move-learn-method/3/'},\n",
       "     'order': None,\n",
       "     'version_group': {'name': 'firered-leafgreen',\n",
       "      'url': 'https://pokeapi.co/api/v2/version-group/7/'}}]},\n",
       "  {'move': {'name': 'seismic-toss',\n",
       "    'url': 'https://pokeapi.co/api/v2/move/69/'},\n",
       "   'version_group_details': [{'level_learned_at': 0,\n",
       "     'move_learn_method': {'name': 'machine',\n",
       "      'url': 'https://pokeapi.co/api/v2/move-learn-method/4/'},\n",
       "     'order': None,\n",
       "     'version_group': {'name': 'red-blue',\n",
       "      'url': 'https://pokeapi.co/api/v2/version-group/1/'}},\n",
       "    {'level_learned_at': 0,\n",
       "     'move_learn_method': {'name': 'machine',\n",
       "      'url': 'https://pokeapi.co/api/v2/move-learn-method/4/'},\n",
       "     'order': None,\n",
       "     'version_group': {'name': 'yellow',\n",
       "      'url': 'https://pokeapi.co/api/v2/version-group/2/'}},\n",
       "    {'level_learned_at': 0,\n",
       "     'move_learn_method': {'name': 'tutor',\n",
       "      'url': 'https://pokeapi.co/api/v2/move-learn-method/3/'},\n",
       "     'order': None,\n",
       "     'version_group': {'name': 'emerald',\n",
       "      'url': 'https://pokeapi.co/api/v2/version-group/6/'}},\n",
       "    {'level_learned_at': 0,\n",
       "     'move_learn_method': {'name': 'tutor',\n",
       "      'url': 'https://pokeapi.co/api/v2/move-learn-method/3/'},\n",
       "     'order': None,\n",
       "     'version_group': {'name': 'firered-leafgreen',\n",
       "      'url': 'https://pokeapi.co/api/v2/version-group/7/'}},\n",
       "    {'level_learned_at': 0,\n",
       "     'move_learn_method': {'name': 'tutor',\n",
       "      'url': 'https://pokeapi.co/api/v2/move-learn-method/3/'},\n",
       "     'order': None,\n",
       "     'version_group': {'name': 'xd',\n",
       "      'url': 'https://pokeapi.co/api/v2/version-group/13/'}},\n",
       "    {'level_learned_at': 0,\n",
       "     'move_learn_method': {'name': 'machine',\n",
       "      'url': 'https://pokeapi.co/api/v2/move-learn-method/4/'},\n",
       "     'order': None,\n",
       "     'version_group': {'name': 'lets-go-pikachu-lets-go-eevee',\n",
       "      'url': 'https://pokeapi.co/api/v2/version-group/19/'}}]},\n",
       "  {'move': {'name': 'strength', 'url': 'https://pokeapi.co/api/v2/move/70/'},\n",
       "   'version_group_details': [{'level_learned_at': 0,\n",
       "     'move_learn_method': {'name': 'machine',\n",
       "      'url': 'https://pokeapi.co/api/v2/move-learn-method/4/'},\n",
       "     'order': None,\n",
       "     'version_group': {'name': 'gold-silver',\n",
       "      'url': 'https://pokeapi.co/api/v2/version-group/3/'}},\n",
       "    {'level_learned_at': 0,\n",
       "     'move_learn_method': {'name': 'machine',\n",
       "      'url': 'https://pokeapi.co/api/v2/move-learn-method/4/'},\n",
       "     'order': None,\n",
       "     'version_group': {'name': 'crystal',\n",
       "      'url': 'https://pokeapi.co/api/v2/version-group/4/'}},\n",
       "    {'level_learned_at': 0,\n",
       "     'move_learn_method': {'name': 'machine',\n",
       "      'url': 'https://pokeapi.co/api/v2/move-learn-method/4/'},\n",
       "     'order': None,\n",
       "     'version_group': {'name': 'ruby-sapphire',\n",
       "      'url': 'https://pokeapi.co/api/v2/version-group/5/'}},\n",
       "    {'level_learned_at': 0,\n",
       "     'move_learn_method': {'name': 'machine',\n",
       "      'url': 'https://pokeapi.co/api/v2/move-learn-method/4/'},\n",
       "     'order': None,\n",
       "     'version_group': {'name': 'emerald',\n",
       "      'url': 'https://pokeapi.co/api/v2/version-group/6/'}},\n",
       "    {'level_learned_at': 0,\n",
       "     'move_learn_method': {'name': 'machine',\n",
       "      'url': 'https://pokeapi.co/api/v2/move-learn-method/4/'},\n",
       "     'order': None,\n",
       "     'version_group': {'name': 'firered-leafgreen',\n",
       "      'url': 'https://pokeapi.co/api/v2/version-group/7/'}},\n",
       "    {'level_learned_at': 0,\n",
       "     'move_learn_method': {'name': 'machine',\n",
       "      'url': 'https://pokeapi.co/api/v2/move-learn-method/4/'},\n",
       "     'order': None,\n",
       "     'version_group': {'name': 'diamond-pearl',\n",
       "      'url': 'https://pokeapi.co/api/v2/version-group/8/'}},\n",
       "    {'level_learned_at': 0,\n",
       "     'move_learn_method': {'name': 'machine',\n",
       "      'url': 'https://pokeapi.co/api/v2/move-learn-method/4/'},\n",
       "     'order': None,\n",
       "     'version_group': {'name': 'platinum',\n",
       "      'url': 'https://pokeapi.co/api/v2/version-group/9/'}},\n",
       "    {'level_learned_at': 0,\n",
       "     'move_learn_method': {'name': 'machine',\n",
       "      'url': 'https://pokeapi.co/api/v2/move-learn-method/4/'},\n",
       "     'order': None,\n",
       "     'version_group': {'name': 'heartgold-soulsilver',\n",
       "      'url': 'https://pokeapi.co/api/v2/version-group/10/'}},\n",
       "    {'level_learned_at': 0,\n",
       "     'move_learn_method': {'name': 'machine',\n",
       "      'url': 'https://pokeapi.co/api/v2/move-learn-method/4/'},\n",
       "     'order': None,\n",
       "     'version_group': {'name': 'black-white',\n",
       "      'url': 'https://pokeapi.co/api/v2/version-group/11/'}},\n",
       "    {'level_learned_at': 0,\n",
       "     'move_learn_method': {'name': 'machine',\n",
       "      'url': 'https://pokeapi.co/api/v2/move-learn-method/4/'},\n",
       "     'order': None,\n",
       "     'version_group': {'name': 'colosseum',\n",
       "      'url': 'https://pokeapi.co/api/v2/version-group/12/'}},\n",
       "    {'level_learned_at': 0,\n",
       "     'move_learn_method': {'name': 'machine',\n",
       "      'url': 'https://pokeapi.co/api/v2/move-learn-method/4/'},\n",
       "     'order': None,\n",
       "     'version_group': {'name': 'xd',\n",
       "      'url': 'https://pokeapi.co/api/v2/version-group/13/'}},\n",
       "    {'level_learned_at': 0,\n",
       "     'move_learn_method': {'name': 'machine',\n",
       "      'url': 'https://pokeapi.co/api/v2/move-learn-method/4/'},\n",
       "     'order': None,\n",
       "     'version_group': {'name': 'black-2-white-2',\n",
       "      'url': 'https://pokeapi.co/api/v2/version-group/14/'}},\n",
       "    {'level_learned_at': 0,\n",
       "     'move_learn_method': {'name': 'machine',\n",
       "      'url': 'https://pokeapi.co/api/v2/move-learn-method/4/'},\n",
       "     'order': None,\n",
       "     'version_group': {'name': 'x-y',\n",
       "      'url': 'https://pokeapi.co/api/v2/version-group/15/'}},\n",
       "    {'level_learned_at': 0,\n",
       "     'move_learn_method': {'name': 'machine',\n",
       "      'url': 'https://pokeapi.co/api/v2/move-learn-method/4/'},\n",
       "     'order': None,\n",
       "     'version_group': {'name': 'omega-ruby-alpha-sapphire',\n",
       "      'url': 'https://pokeapi.co/api/v2/version-group/16/'}},\n",
       "    {'level_learned_at': 0,\n",
       "     'move_learn_method': {'name': 'machine',\n",
       "      'url': 'https://pokeapi.co/api/v2/move-learn-method/4/'},\n",
       "     'order': None,\n",
       "     'version_group': {'name': 'brilliant-diamond-and-shining-pearl',\n",
       "      'url': 'https://pokeapi.co/api/v2/version-group/23/'}}]},\n",
       "  {'move': {'name': 'thunder-shock',\n",
       "    'url': 'https://pokeapi.co/api/v2/move/84/'},\n",
       "   'version_group_details': [{'level_learned_at': 1,\n",
       "     'move_learn_method': {'name': 'level-up',\n",
       "      'url': 'https://pokeapi.co/api/v2/move-learn-method/1/'},\n",
       "     'order': 1,\n",
       "     'version_group': {'name': 'red-blue',\n",
       "      'url': 'https://pokeapi.co/api/v2/version-group/1/'}},\n",
       "    {'level_learned_at': 1,\n",
       "     'move_learn_method': {'name': 'level-up',\n",
       "      'url': 'https://pokeapi.co/api/v2/move-learn-method/1/'},\n",
       "     'order': 1,\n",
       "     'version_group': {'name': 'yellow',\n",
       "      'url': 'https://pokeapi.co/api/v2/version-group/2/'}},\n",
       "    {'level_learned_at': 1,\n",
       "     'move_learn_method': {'name': 'level-up',\n",
       "      'url': 'https://pokeapi.co/api/v2/move-learn-method/1/'},\n",
       "     'order': 1,\n",
       "     'version_group': {'name': 'gold-silver',\n",
       "      'url': 'https://pokeapi.co/api/v2/version-group/3/'}},\n",
       "    {'level_learned_at': 1,\n",
       "     'move_learn_method': {'name': 'level-up',\n",
       "      'url': 'https://pokeapi.co/api/v2/move-learn-method/1/'},\n",
       "     'order': 1,\n",
       "     'version_group': {'name': 'crystal',\n",
       "      'url': 'https://pokeapi.co/api/v2/version-group/4/'}},\n",
       "    {'level_learned_at': 1,\n",
       "     'move_learn_method': {'name': 'level-up',\n",
       "      'url': 'https://pokeapi.co/api/v2/move-learn-method/1/'},\n",
       "     'order': 1,\n",
       "     'version_group': {'name': 'ruby-sapphire',\n",
       "      'url': 'https://pokeapi.co/api/v2/version-group/5/'}},\n",
       "    {'level_learned_at': 1,\n",
       "     'move_learn_method': {'name': 'level-up',\n",
       "      'url': 'https://pokeapi.co/api/v2/move-learn-method/1/'},\n",
       "     'order': 1,\n",
       "     'version_group': {'name': 'emerald',\n",
       "      'url': 'https://pokeapi.co/api/v2/version-group/6/'}},\n",
       "    {'level_learned_at': 1,\n",
       "     'move_learn_method': {'name': 'level-up',\n",
       "      'url': 'https://pokeapi.co/api/v2/move-learn-method/1/'},\n",
       "     'order': 1,\n",
       "     'version_group': {'name': 'firered-leafgreen',\n",
       "      'url': 'https://pokeapi.co/api/v2/version-group/7/'}},\n",
       "    {'level_learned_at': 1,\n",
       "     'move_learn_method': {'name': 'level-up',\n",
       "      'url': 'https://pokeapi.co/api/v2/move-learn-method/1/'},\n",
       "     'order': 1,\n",
       "     'version_group': {'name': 'diamond-pearl',\n",
       "      'url': 'https://pokeapi.co/api/v2/version-group/8/'}},\n",
       "    {'level_learned_at': 1,\n",
       "     'move_learn_method': {'name': 'level-up',\n",
       "      'url': 'https://pokeapi.co/api/v2/move-learn-method/1/'},\n",
       "     'order': 1,\n",
       "     'version_group': {'name': 'platinum',\n",
       "      'url': 'https://pokeapi.co/api/v2/version-group/9/'}},\n",
       "    {'level_learned_at': 1,\n",
       "     'move_learn_method': {'name': 'level-up',\n",
       "      'url': 'https://pokeapi.co/api/v2/move-learn-method/1/'},\n",
       "     'order': 1,\n",
       "     'version_group': {'name': 'heartgold-soulsilver',\n",
       "      'url': 'https://pokeapi.co/api/v2/version-group/10/'}},\n",
       "    {'level_learned_at': 1,\n",
       "     'move_learn_method': {'name': 'level-up',\n",
       "      'url': 'https://pokeapi.co/api/v2/move-learn-method/1/'},\n",
       "     'order': 2,\n",
       "     'version_group': {'name': 'black-white',\n",
       "      'url': 'https://pokeapi.co/api/v2/version-group/11/'}},\n",
       "    {'level_learned_at': 1,\n",
       "     'move_learn_method': {'name': 'level-up',\n",
       "      'url': 'https://pokeapi.co/api/v2/move-learn-method/1/'},\n",
       "     'order': 1,\n",
       "     'version_group': {'name': 'colosseum',\n",
       "      'url': 'https://pokeapi.co/api/v2/version-group/12/'}},\n",
       "    {'level_learned_at': 1,\n",
       "     'move_learn_method': {'name': 'level-up',\n",
       "      'url': 'https://pokeapi.co/api/v2/move-learn-method/1/'},\n",
       "     'order': 1,\n",
       "     'version_group': {'name': 'xd',\n",
       "      'url': 'https://pokeapi.co/api/v2/version-group/13/'}},\n",
       "    {'level_learned_at': 1,\n",
       "     'move_learn_method': {'name': 'level-up',\n",
       "      'url': 'https://pokeapi.co/api/v2/move-learn-method/1/'},\n",
       "     'order': 2,\n",
       "     'version_group': {'name': 'black-2-white-2',\n",
       "      'url': 'https://pokeapi.co/api/v2/version-group/14/'}},\n",
       "    {'level_learned_at': 1,\n",
       "     'move_learn_method': {'name': 'level-up',\n",
       "      'url': 'https://pokeapi.co/api/v2/move-learn-method/1/'},\n",
       "     'order': 2,\n",
       "     'version_group': {'name': 'x-y',\n",
       "      'url': 'https://pokeapi.co/api/v2/version-group/15/'}},\n",
       "    {'level_learned_at': 1,\n",
       "     'move_learn_method': {'name': 'level-up',\n",
       "      'url': 'https://pokeapi.co/api/v2/move-learn-method/1/'},\n",
       "     'order': 2,\n",
       "     'version_group': {'name': 'omega-ruby-alpha-sapphire',\n",
       "      'url': 'https://pokeapi.co/api/v2/version-group/16/'}},\n",
       "    {'level_learned_at': 1,\n",
       "     'move_learn_method': {'name': 'level-up',\n",
       "      'url': 'https://pokeapi.co/api/v2/move-learn-method/1/'},\n",
       "     'order': 2,\n",
       "     'version_group': {'name': 'sun-moon',\n",
       "      'url': 'https://pokeapi.co/api/v2/version-group/17/'}},\n",
       "    {'level_learned_at': 1,\n",
       "     'move_learn_method': {'name': 'level-up',\n",
       "      'url': 'https://pokeapi.co/api/v2/move-learn-method/1/'},\n",
       "     'order': 2,\n",
       "     'version_group': {'name': 'ultra-sun-ultra-moon',\n",
       "      'url': 'https://pokeapi.co/api/v2/version-group/18/'}},\n",
       "    {'level_learned_at': 1,\n",
       "     'move_learn_method': {'name': 'level-up',\n",
       "      'url': 'https://pokeapi.co/api/v2/move-learn-method/1/'},\n",
       "     'order': 1,\n",
       "     'version_group': {'name': 'lets-go-pikachu-lets-go-eevee',\n",
       "      'url': 'https://pokeapi.co/api/v2/version-group/19/'}},\n",
       "    {'level_learned_at': 1,\n",
       "     'move_learn_method': {'name': 'level-up',\n",
       "      'url': 'https://pokeapi.co/api/v2/move-learn-method/1/'},\n",
       "     'order': 6,\n",
       "     'version_group': {'name': 'sword-shield',\n",
       "      'url': 'https://pokeapi.co/api/v2/version-group/20/'}},\n",
       "    {'level_learned_at': 1,\n",
       "     'move_learn_method': {'name': 'level-up',\n",
       "      'url': 'https://pokeapi.co/api/v2/move-learn-method/1/'},\n",
       "     'order': 9,\n",
       "     'version_group': {'name': 'brilliant-diamond-and-shining-pearl',\n",
       "      'url': 'https://pokeapi.co/api/v2/version-group/23/'}},\n",
       "    {'level_learned_at': 1,\n",
       "     'move_learn_method': {'name': 'level-up',\n",
       "      'url': 'https://pokeapi.co/api/v2/move-learn-method/1/'},\n",
       "     'order': None,\n",
       "     'version_group': {'name': 'legends-arceus',\n",
       "      'url': 'https://pokeapi.co/api/v2/version-group/24/'}},\n",
       "    {'level_learned_at': 1,\n",
       "     'move_learn_method': {'name': 'level-up',\n",
       "      'url': 'https://pokeapi.co/api/v2/move-learn-method/1/'},\n",
       "     'order': 8,\n",
       "     'version_group': {'name': 'scarlet-violet',\n",
       "      'url': 'https://pokeapi.co/api/v2/version-group/25/'}}]},\n",
       "  {'move': {'name': 'thunderbolt',\n",
       "    'url': 'https://pokeapi.co/api/v2/move/85/'},\n",
       "   'version_group_details': [{'level_learned_at': 0,\n",
       "     'move_learn_method': {'name': 'machine',\n",
       "      'url': 'https://pokeapi.co/api/v2/move-learn-method/4/'},\n",
       "     'order': None,\n",
       "     'version_group': {'name': 'red-blue',\n",
       "      'url': 'https://pokeapi.co/api/v2/version-group/1/'}},\n",
       "    {'level_learned_at': 26,\n",
       "     'move_learn_method': {'name': 'level-up',\n",
       "      'url': 'https://pokeapi.co/api/v2/move-learn-method/1/'},\n",
       "     'order': None,\n",
       "     'version_group': {'name': 'yellow',\n",
       "      'url': 'https://pokeapi.co/api/v2/version-group/2/'}},\n",
       "    {'level_learned_at': 0,\n",
       "     'move_learn_method': {'name': 'machine',\n",
       "      'url': 'https://pokeapi.co/api/v2/move-learn-method/4/'},\n",
       "     'order': None,\n",
       "     'version_group': {'name': 'yellow',\n",
       "      'url': 'https://pokeapi.co/api/v2/version-group/2/'}},\n",
       "    {'level_learned_at': 26,\n",
       "     'move_learn_method': {'name': 'level-up',\n",
       "      'url': 'https://pokeapi.co/api/v2/move-learn-method/1/'},\n",
       "     'order': None,\n",
       "     'version_group': {'name': 'gold-silver',\n",
       "      'url': 'https://pokeapi.co/api/v2/version-group/3/'}},\n",
       "    {'level_learned_at': 26,\n",
       "     'move_learn_method': {'name': 'level-up',\n",
       "      'url': 'https://pokeapi.co/api/v2/move-learn-method/1/'},\n",
       "     'order': None,\n",
       "     'version_group': {'name': 'crystal',\n",
       "      'url': 'https://pokeapi.co/api/v2/version-group/4/'}},\n",
       "    {'level_learned_at': 0,\n",
       "     'move_learn_method': {'name': 'tutor',\n",
       "      'url': 'https://pokeapi.co/api/v2/move-learn-method/3/'},\n",
       "     'order': None,\n",
       "     'version_group': {'name': 'crystal',\n",
       "      'url': 'https://pokeapi.co/api/v2/version-group/4/'}},\n",
       "    {'level_learned_at': 26,\n",
       "     'move_learn_method': {'name': 'level-up',\n",
       "      'url': 'https://pokeapi.co/api/v2/move-learn-method/1/'},\n",
       "     'order': None,\n",
       "     'version_group': {'name': 'ruby-sapphire',\n",
       "      'url': 'https://pokeapi.co/api/v2/version-group/5/'}},\n",
       "    {'level_learned_at': 0,\n",
       "     'move_learn_method': {'name': 'machine',\n",
       "      'url': 'https://pokeapi.co/api/v2/move-learn-method/4/'},\n",
       "     'order': None,\n",
       "     'version_group': {'name': 'ruby-sapphire',\n",
       "      'url': 'https://pokeapi.co/api/v2/version-group/5/'}},\n",
       "    {'level_learned_at': 26,\n",
       "     'move_learn_method': {'name': 'level-up',\n",
       "      'url': 'https://pokeapi.co/api/v2/move-learn-method/1/'},\n",
       "     'order': None,\n",
       "     'version_group': {'name': 'emerald',\n",
       "      'url': 'https://pokeapi.co/api/v2/version-group/6/'}},\n",
       "    {'level_learned_at': 0,\n",
       "     'move_learn_method': {'name': 'machine',\n",
       "      'url': 'https://pokeapi.co/api/v2/move-learn-method/4/'},\n",
       "     'order': None,\n",
       "     'version_group': {'name': 'emerald',\n",
       "      'url': 'https://pokeapi.co/api/v2/version-group/6/'}},\n",
       "    {'level_learned_at': 26,\n",
       "     'move_learn_method': {'name': 'level-up',\n",
       "      'url': 'https://pokeapi.co/api/v2/move-learn-method/1/'},\n",
       "     'order': None,\n",
       "     'version_group': {'name': 'firered-leafgreen',\n",
       "      'url': 'https://pokeapi.co/api/v2/version-group/7/'}},\n",
       "    {'level_learned_at': 0,\n",
       "     'move_learn_method': {'name': 'machine',\n",
       "      'url': 'https://pokeapi.co/api/v2/move-learn-method/4/'},\n",
       "     'order': None,\n",
       "     'version_group': {'name': 'firered-leafgreen',\n",
       "      'url': 'https://pokeapi.co/api/v2/version-group/7/'}},\n",
       "    {'level_learned_at': 26,\n",
       "     'move_learn_method': {'name': 'level-up',\n",
       "      'url': 'https://pokeapi.co/api/v2/move-learn-method/1/'},\n",
       "     'order': None,\n",
       "     'version_group': {'name': 'diamond-pearl',\n",
       "      'url': 'https://pokeapi.co/api/v2/version-group/8/'}},\n",
       "    {'level_learned_at': 0,\n",
       "     'move_learn_method': {'name': 'machine',\n",
       "      'url': 'https://pokeapi.co/api/v2/move-learn-method/4/'},\n",
       "     'order': None,\n",
       "     'version_group': {'name': 'diamond-pearl',\n",
       "      'url': 'https://pokeapi.co/api/v2/version-group/8/'}},\n",
       "    {'level_learned_at': 26,\n",
       "     'move_learn_method': {'name': 'level-up',\n",
       "      'url': 'https://pokeapi.co/api/v2/move-learn-method/1/'},\n",
       "     'order': None,\n",
       "     'version_group': {'name': 'platinum',\n",
       "      'url': 'https://pokeapi.co/api/v2/version-group/9/'}},\n",
       "    {'level_learned_at': 0,\n",
       "     'move_learn_method': {'name': 'machine',\n",
       "      'url': 'https://pokeapi.co/api/v2/move-learn-method/4/'},\n",
       "     'order': None,\n",
       "     'version_group': {'name': 'platinum',\n",
       "      'url': 'https://pokeapi.co/api/v2/version-group/9/'}},\n",
       "    {'level_learned_at': 26,\n",
       "     'move_learn_method': {'name': 'level-up',\n",
       "      'url': 'https://pokeapi.co/api/v2/move-learn-method/1/'},\n",
       "     'order': None,\n",
       "     'version_group': {'name': 'heartgold-soulsilver',\n",
       "      'url': 'https://pokeapi.co/api/v2/version-group/10/'}},\n",
       "    {'level_learned_at': 0,\n",
       "     'move_learn_method': {'name': 'machine',\n",
       "      'url': 'https://pokeapi.co/api/v2/move-learn-method/4/'},\n",
       "     'order': None,\n",
       "     'version_group': {'name': 'heartgold-soulsilver',\n",
       "      'url': 'https://pokeapi.co/api/v2/version-group/10/'}},\n",
       "    {'level_learned_at': 29,\n",
       "     'move_learn_method': {'name': 'level-up',\n",
       "      'url': 'https://pokeapi.co/api/v2/move-learn-method/1/'},\n",
       "     'order': None,\n",
       "     'version_group': {'name': 'black-white',\n",
       "      'url': 'https://pokeapi.co/api/v2/version-group/11/'}},\n",
       "    {'level_learned_at': 0,\n",
       "     'move_learn_method': {'name': 'machine',\n",
       "      'url': 'https://pokeapi.co/api/v2/move-learn-method/4/'},\n",
       "     'order': None,\n",
       "     'version_group': {'name': 'black-white',\n",
       "      'url': 'https://pokeapi.co/api/v2/version-group/11/'}},\n",
       "    {'level_learned_at': 26,\n",
       "     'move_learn_method': {'name': 'level-up',\n",
       "      'url': 'https://pokeapi.co/api/v2/move-learn-method/1/'},\n",
       "     'order': None,\n",
       "     'version_group': {'name': 'colosseum',\n",
       "      'url': 'https://pokeapi.co/api/v2/version-group/12/'}},\n",
       "    {'level_learned_at': 0,\n",
       "     'move_learn_method': {'name': 'machine',\n",
       "      'url': 'https://pokeapi.co/api/v2/move-learn-method/4/'},\n",
       "     'order': None,\n",
       "     'version_group': {'name': 'colosseum',\n",
       "      'url': 'https://pokeapi.co/api/v2/version-group/12/'}},\n",
       "    {'level_learned_at': 26,\n",
       "     'move_learn_method': {'name': 'level-up',\n",
       "      'url': 'https://pokeapi.co/api/v2/move-learn-method/1/'},\n",
       "     'order': None,\n",
       "     'version_group': {'name': 'xd',\n",
       "      'url': 'https://pokeapi.co/api/v2/version-group/13/'}},\n",
       "    {'level_learned_at': 0,\n",
       "     'move_learn_method': {'name': 'machine',\n",
       "      'url': 'https://pokeapi.co/api/v2/move-learn-method/4/'},\n",
       "     'order': None,\n",
       "     'version_group': {'name': 'xd',\n",
       "      'url': 'https://pokeapi.co/api/v2/version-group/13/'}},\n",
       "    {'level_learned_at': 29,\n",
       "     'move_learn_method': {'name': 'level-up',\n",
       "      'url': 'https://pokeapi.co/api/v2/move-learn-method/1/'},\n",
       "     'order': None,\n",
       "     'version_group': {'name': 'black-2-white-2',\n",
       "      'url': 'https://pokeapi.co/api/v2/version-group/14/'}},\n",
       "    {'level_learned_at': 0,\n",
       "     'move_learn_method': {'name': 'machine',\n",
       "      'url': 'https://pokeapi.co/api/v2/move-learn-method/4/'},\n",
       "     'order': None,\n",
       "     'version_group': {'name': 'black-2-white-2',\n",
       "      'url': 'https://pokeapi.co/api/v2/version-group/14/'}},\n",
       "    {'level_learned_at': 29,\n",
       "     'move_learn_method': {'name': 'level-up',\n",
       "      'url': 'https://pokeapi.co/api/v2/move-learn-method/1/'},\n",
       "     'order': None,\n",
       "     'version_group': {'name': 'x-y',\n",
       "      'url': 'https://pokeapi.co/api/v2/version-group/15/'}},\n",
       "    {'level_learned_at': 0,\n",
       "     'move_learn_method': {'name': 'machine',\n",
       "      'url': 'https://pokeapi.co/api/v2/move-learn-method/4/'},\n",
       "     'order': None,\n",
       "     'version_group': {'name': 'x-y',\n",
       "      'url': 'https://pokeapi.co/api/v2/version-group/15/'}},\n",
       "    {'level_learned_at': 42,\n",
       "     'move_learn_method': {'name': 'level-up',\n",
       "      'url': 'https://pokeapi.co/api/v2/move-learn-method/1/'},\n",
       "     'order': None,\n",
       "     'version_group': {'name': 'omega-ruby-alpha-sapphire',\n",
       "      'url': 'https://pokeapi.co/api/v2/version-group/16/'}},\n",
       "    {'level_learned_at': 0,\n",
       "     'move_learn_method': {'name': 'machine',\n",
       "      'url': 'https://pokeapi.co/api/v2/move-learn-method/4/'},\n",
       "     'order': None,\n",
       "     'version_group': {'name': 'omega-ruby-alpha-sapphire',\n",
       "      'url': 'https://pokeapi.co/api/v2/version-group/16/'}},\n",
       "    {'level_learned_at': 42,\n",
       "     'move_learn_method': {'name': 'level-up',\n",
       "      'url': 'https://pokeapi.co/api/v2/move-learn-method/1/'},\n",
       "     'order': None,\n",
       "     'version_group': {'name': 'sun-moon',\n",
       "      'url': 'https://pokeapi.co/api/v2/version-group/17/'}},\n",
       "    {'level_learned_at': 0,\n",
       "     'move_learn_method': {'name': 'machine',\n",
       "      'url': 'https://pokeapi.co/api/v2/move-learn-method/4/'},\n",
       "     'order': None,\n",
       "     'version_group': {'name': 'sun-moon',\n",
       "      'url': 'https://pokeapi.co/api/v2/version-group/17/'}},\n",
       "    {'level_learned_at': 42,\n",
       "     'move_learn_method': {'name': 'level-up',\n",
       "      'url': 'https://pokeapi.co/api/v2/move-learn-method/1/'},\n",
       "     'order': None,\n",
       "     'version_group': {'name': 'ultra-sun-ultra-moon',\n",
       "      'url': 'https://pokeapi.co/api/v2/version-group/18/'}},\n",
       "    {'level_learned_at': 0,\n",
       "     'move_learn_method': {'name': 'machine',\n",
       "      'url': 'https://pokeapi.co/api/v2/move-learn-method/4/'},\n",
       "     'order': None,\n",
       "     'version_group': {'name': 'ultra-sun-ultra-moon',\n",
       "      'url': 'https://pokeapi.co/api/v2/version-group/18/'}},\n",
       "    {'level_learned_at': 21,\n",
       "     'move_learn_method': {'name': 'level-up',\n",
       "      'url': 'https://pokeapi.co/api/v2/move-learn-method/1/'},\n",
       "     'order': None,\n",
       "     'version_group': {'name': 'lets-go-pikachu-lets-go-eevee',\n",
       "      'url': 'https://pokeapi.co/api/v2/version-group/19/'}},\n",
       "    {'level_learned_at': 0,\n",
       "     'move_learn_method': {'name': 'machine',\n",
       "      'url': 'https://pokeapi.co/api/v2/move-learn-method/4/'},\n",
       "     'order': None,\n",
       "     'version_group': {'name': 'lets-go-pikachu-lets-go-eevee',\n",
       "      'url': 'https://pokeapi.co/api/v2/version-group/19/'}},\n",
       "    {'level_learned_at': 36,\n",
       "     'move_learn_method': {'name': 'level-up',\n",
       "      'url': 'https://pokeapi.co/api/v2/move-learn-method/1/'},\n",
       "     'order': None,\n",
       "     'version_group': {'name': 'sword-shield',\n",
       "      'url': 'https://pokeapi.co/api/v2/version-group/20/'}},\n",
       "    {'level_learned_at': 0,\n",
       "     'move_learn_method': {'name': 'machine',\n",
       "      'url': 'https://pokeapi.co/api/v2/move-learn-method/4/'},\n",
       "     'order': None,\n",
       "     'version_group': {'name': 'sword-shield',\n",
       "      'url': 'https://pokeapi.co/api/v2/version-group/20/'}},\n",
       "    {'level_learned_at': 36,\n",
       "     'move_learn_method': {'name': 'level-up',\n",
       "      'url': 'https://pokeapi.co/api/v2/move-learn-method/1/'},\n",
       "     'order': None,\n",
       "     'version_group': {'name': 'brilliant-diamond-and-shining-pearl',\n",
       "      'url': 'https://pokeapi.co/api/v2/version-group/23/'}},\n",
       "    {'level_learned_at': 0,\n",
       "     'move_learn_method': {'name': 'machine',\n",
       "      'url': 'https://pokeapi.co/api/v2/move-learn-method/4/'},\n",
       "     'order': None,\n",
       "     'version_group': {'name': 'brilliant-diamond-and-shining-pearl',\n",
       "      'url': 'https://pokeapi.co/api/v2/version-group/23/'}},\n",
       "    {'level_learned_at': 29,\n",
       "     'move_learn_method': {'name': 'level-up',\n",
       "      'url': 'https://pokeapi.co/api/v2/move-learn-method/1/'},\n",
       "     'order': None,\n",
       "     'version_group': {'name': 'legends-arceus',\n",
       "      'url': 'https://pokeapi.co/api/v2/version-group/24/'}},\n",
       "    {'level_learned_at': 36,\n",
       "     'move_learn_method': {'name': 'level-up',\n",
       "      'url': 'https://pokeapi.co/api/v2/move-learn-method/1/'},\n",
       "     'order': None,\n",
       "     'version_group': {'name': 'scarlet-violet',\n",
       "      'url': 'https://pokeapi.co/api/v2/version-group/25/'}},\n",
       "    {'level_learned_at': 0,\n",
       "     'move_learn_method': {'name': 'machine',\n",
       "      'url': 'https://pokeapi.co/api/v2/move-learn-method/4/'},\n",
       "     'order': None,\n",
       "     'version_group': {'name': 'scarlet-violet',\n",
       "      'url': 'https://pokeapi.co/api/v2/version-group/25/'}}]},\n",
       "  {'move': {'name': 'thunder-wave',\n",
       "    'url': 'https://pokeapi.co/api/v2/move/86/'},\n",
       "   'version_group_details': [{'level_learned_at': 9,\n",
       "     'move_learn_method': {'name': 'level-up',\n",
       "      'url': 'https://pokeapi.co/api/v2/move-learn-method/1/'},\n",
       "     'order': None,\n",
       "     'version_group': {'name': 'red-blue',\n",
       "      'url': 'https://pokeapi.co/api/v2/version-group/1/'}},\n",
       "    {'level_learned_at': 0,\n",
       "     'move_learn_method': {'name': 'machine',\n",
       "      'url': 'https://pokeapi.co/api/v2/move-learn-method/4/'},\n",
       "     'order': None,\n",
       "     'version_group': {'name': 'red-blue',\n",
       "      'url': 'https://pokeapi.co/api/v2/version-group/1/'}},\n",
       "    {'level_learned_at': 8,\n",
       "     'move_learn_method': {'name': 'level-up',\n",
       "      'url': 'https://pokeapi.co/api/v2/move-learn-method/1/'},\n",
       "     'order': None,\n",
       "     'version_group': {'name': 'yellow',\n",
       "      'url': 'https://pokeapi.co/api/v2/version-group/2/'}},\n",
       "    {'level_learned_at': 0,\n",
       "     'move_learn_method': {'name': 'machine',\n",
       "      'url': 'https://pokeapi.co/api/v2/move-learn-method/4/'},\n",
       "     'order': None,\n",
       "     'version_group': {'name': 'yellow',\n",
       "      'url': 'https://pokeapi.co/api/v2/version-group/2/'}},\n",
       "    {'level_learned_at': 8,\n",
       "     'move_learn_method': {'name': 'level-up',\n",
       "      'url': 'https://pokeapi.co/api/v2/move-learn-method/1/'},\n",
       "     'order': None,\n",
       "     'version_group': {'name': 'gold-silver',\n",
       "      'url': 'https://pokeapi.co/api/v2/version-group/3/'}},\n",
       "    {'level_learned_at': 8,\n",
       "     'move_learn_method': {'name': 'level-up',\n",
       "      'url': 'https://pokeapi.co/api/v2/move-learn-method/1/'},\n",
       "     'order': None,\n",
       "     'version_group': {'name': 'crystal',\n",
       "      'url': 'https://pokeapi.co/api/v2/version-group/4/'}},\n",
       "    {'level_learned_at': 8,\n",
       "     'move_learn_method': {'name': 'level-up',\n",
       "      'url': 'https://pokeapi.co/api/v2/move-learn-method/1/'},\n",
       "     'order': None,\n",
       "     'version_group': {'name': 'ruby-sapphire',\n",
       "      'url': 'https://pokeapi.co/api/v2/version-group/5/'}},\n",
       "    {'level_learned_at': 8,\n",
       "     'move_learn_method': {'name': 'level-up',\n",
       "      'url': 'https://pokeapi.co/api/v2/move-learn-method/1/'},\n",
       "     'order': None,\n",
       "     'version_group': {'name': 'emerald',\n",
       "      'url': 'https://pokeapi.co/api/v2/version-group/6/'}},\n",
       "    {'level_learned_at': 0,\n",
       "     'move_learn_method': {'name': 'tutor',\n",
       "      'url': 'https://pokeapi.co/api/v2/move-learn-method/3/'},\n",
       "     'order': None,\n",
       "     'version_group': {'name': 'emerald',\n",
       "      'url': 'https://pokeapi.co/api/v2/version-group/6/'}},\n",
       "    {'level_learned_at': 8,\n",
       "     'move_learn_method': {'name': 'level-up',\n",
       "      'url': 'https://pokeapi.co/api/v2/move-learn-method/1/'},\n",
       "     'order': None,\n",
       "     'version_group': {'name': 'firered-leafgreen',\n",
       "      'url': 'https://pokeapi.co/api/v2/version-group/7/'}},\n",
       "    {'level_learned_at': 0,\n",
       "     'move_learn_method': {'name': 'tutor',\n",
       "      'url': 'https://pokeapi.co/api/v2/move-learn-method/3/'},\n",
       "     'order': None,\n",
       "     'version_group': {'name': 'firered-leafgreen',\n",
       "      'url': 'https://pokeapi.co/api/v2/version-group/7/'}},\n",
       "    {'level_learned_at': 10,\n",
       "     'move_learn_method': {'name': 'level-up',\n",
       "      'url': 'https://pokeapi.co/api/v2/move-learn-method/1/'},\n",
       "     'order': None,\n",
       "     'version_group': {'name': 'diamond-pearl',\n",
       "      'url': 'https://pokeapi.co/api/v2/version-group/8/'}},\n",
       "    {'level_learned_at': 0,\n",
       "     'move_learn_method': {'name': 'machine',\n",
       "      'url': 'https://pokeapi.co/api/v2/move-learn-method/4/'},\n",
       "     'order': None,\n",
       "     'version_group': {'name': 'diamond-pearl',\n",
       "      'url': 'https://pokeapi.co/api/v2/version-group/8/'}},\n",
       "    {'level_learned_at': 10,\n",
       "     'move_learn_method': {'name': 'level-up',\n",
       "      'url': 'https://pokeapi.co/api/v2/move-learn-method/1/'},\n",
       "     'order': None,\n",
       "     'version_group': {'name': 'platinum',\n",
       "      'url': 'https://pokeapi.co/api/v2/version-group/9/'}},\n",
       "    {'level_learned_at': 0,\n",
       "     'move_learn_method': {'name': 'machine',\n",
       "      'url': 'https://pokeapi.co/api/v2/move-learn-method/4/'},\n",
       "     'order': None,\n",
       "     'version_group': {'name': 'platinum',\n",
       "      'url': 'https://pokeapi.co/api/v2/version-group/9/'}},\n",
       "    {'level_learned_at': 10,\n",
       "     'move_learn_method': {'name': 'level-up',\n",
       "      'url': 'https://pokeapi.co/api/v2/move-learn-method/1/'},\n",
       "     'order': None,\n",
       "     'version_group': {'name': 'heartgold-soulsilver',\n",
       "      'url': 'https://pokeapi.co/api/v2/version-group/10/'}},\n",
       "    {'level_learned_at': 0,\n",
       "     'move_learn_method': {'name': 'machine',\n",
       "      'url': 'https://pokeapi.co/api/v2/move-learn-method/4/'},\n",
       "     'order': None,\n",
       "     'version_group': {'name': 'heartgold-soulsilver',\n",
       "      'url': 'https://pokeapi.co/api/v2/version-group/10/'}},\n",
       "    {'level_learned_at': 10,\n",
       "     'move_learn_method': {'name': 'level-up',\n",
       "      'url': 'https://pokeapi.co/api/v2/move-learn-method/1/'},\n",
       "     'order': None,\n",
       "     'version_group': {'name': 'black-white',\n",
       "      'url': 'https://pokeapi.co/api/v2/version-group/11/'}},\n",
       "    {'level_learned_at': 0,\n",
       "     'move_learn_method': {'name': 'machine',\n",
       "      'url': 'https://pokeapi.co/api/v2/move-learn-method/4/'},\n",
       "     'order': None,\n",
       "     'version_group': {'name': 'black-white',\n",
       "      'url': 'https://pokeapi.co/api/v2/version-group/11/'}},\n",
       "    {'level_learned_at': 8,\n",
       "     'move_learn_method': {'name': 'level-up',\n",
       "      'url': 'https://pokeapi.co/api/v2/move-learn-method/1/'},\n",
       "     'order': None,\n",
       "     'version_group': {'name': 'colosseum',\n",
       "      'url': 'https://pokeapi.co/api/v2/version-group/12/'}},\n",
       "    {'level_learned_at': 8,\n",
       "     'move_learn_method': {'name': 'level-up',\n",
       "      'url': 'https://pokeapi.co/api/v2/move-learn-method/1/'},\n",
       "     'order': None,\n",
       "     'version_group': {'name': 'xd',\n",
       "      'url': 'https://pokeapi.co/api/v2/version-group/13/'}},\n",
       "    {'level_learned_at': 0,\n",
       "     'move_learn_method': {'name': 'tutor',\n",
       "      'url': 'https://pokeapi.co/api/v2/move-learn-method/3/'},\n",
       "     'order': None,\n",
       "     'version_group': {'name': 'xd',\n",
       "      'url': 'https://pokeapi.co/api/v2/version-group/13/'}},\n",
       "    {'level_learned_at': 10,\n",
       "     'move_learn_method': {'name': 'level-up',\n",
       "      'url': 'https://pokeapi.co/api/v2/move-learn-method/1/'},\n",
       "     'order': None,\n",
       "     'version_group': {'name': 'black-2-white-2',\n",
       "      'url': 'https://pokeapi.co/api/v2/version-group/14/'}},\n",
       "    {'level_learned_at': 0,\n",
       "     'move_learn_method': {'name': 'machine',\n",
       "      'url': 'https://pokeapi.co/api/v2/move-learn-method/4/'},\n",
       "     'order': None,\n",
       "     'version_group': {'name': 'black-2-white-2',\n",
       "      'url': 'https://pokeapi.co/api/v2/version-group/14/'}},\n",
       "    {'level_learned_at': 13,\n",
       "     'move_learn_method': {'name': 'level-up',\n",
       "      'url': 'https://pokeapi.co/api/v2/move-learn-method/1/'},\n",
       "     'order': None,\n",
       "     'version_group': {'name': 'x-y',\n",
       "      'url': 'https://pokeapi.co/api/v2/version-group/15/'}},\n",
       "    {'level_learned_at': 0,\n",
       "     'move_learn_method': {'name': 'machine',\n",
       "      'url': 'https://pokeapi.co/api/v2/move-learn-method/4/'},\n",
       "     'order': None,\n",
       "     'version_group': {'name': 'x-y',\n",
       "      'url': 'https://pokeapi.co/api/v2/version-group/15/'}},\n",
       "    {'level_learned_at': 18,\n",
       "     'move_learn_method': {'name': 'level-up',\n",
       "      'url': 'https://pokeapi.co/api/v2/move-learn-method/1/'},\n",
       "     'order': None,\n",
       "     'version_group': {'name': 'omega-ruby-alpha-sapphire',\n",
       "      'url': 'https://pokeapi.co/api/v2/version-group/16/'}},\n",
       "    {'level_learned_at': 0,\n",
       "     'move_learn_method': {'name': 'machine',\n",
       "      'url': 'https://pokeapi.co/api/v2/move-learn-method/4/'},\n",
       "     'order': None,\n",
       "     'version_group': {'name': 'omega-ruby-alpha-sapphire',\n",
       "      'url': 'https://pokeapi.co/api/v2/version-group/16/'}},\n",
       "    {'level_learned_at': 18,\n",
       "     'move_learn_method': {'name': 'level-up',\n",
       "      'url': 'https://pokeapi.co/api/v2/move-learn-method/1/'},\n",
       "     'order': None,\n",
       "     'version_group': {'name': 'sun-moon',\n",
       "      'url': 'https://pokeapi.co/api/v2/version-group/17/'}},\n",
       "    {'level_learned_at': 0,\n",
       "     'move_learn_method': {'name': 'machine',\n",
       "      'url': 'https://pokeapi.co/api/v2/move-learn-method/4/'},\n",
       "     'order': None,\n",
       "     'version_group': {'name': 'sun-moon',\n",
       "      'url': 'https://pokeapi.co/api/v2/version-group/17/'}},\n",
       "    {'level_learned_at': 18,\n",
       "     'move_learn_method': {'name': 'level-up',\n",
       "      'url': 'https://pokeapi.co/api/v2/move-learn-method/1/'},\n",
       "     'order': None,\n",
       "     'version_group': {'name': 'ultra-sun-ultra-moon',\n",
       "      'url': 'https://pokeapi.co/api/v2/version-group/18/'}},\n",
       "    {'level_learned_at': 0,\n",
       "     'move_learn_method': {'name': 'machine',\n",
       "      'url': 'https://pokeapi.co/api/v2/move-learn-method/4/'},\n",
       "     'order': None,\n",
       "     'version_group': {'name': 'ultra-sun-ultra-moon',\n",
       "      'url': 'https://pokeapi.co/api/v2/version-group/18/'}},\n",
       "    {'level_learned_at': 15,\n",
       "     'move_learn_method': {'name': 'level-up',\n",
       "      'url': 'https://pokeapi.co/api/v2/move-learn-method/1/'},\n",
       "     'order': None,\n",
       "     'version_group': {'name': 'lets-go-pikachu-lets-go-eevee',\n",
       "      'url': 'https://pokeapi.co/api/v2/version-group/19/'}},\n",
       "    {'level_learned_at': 0,\n",
       "     'move_learn_method': {'name': 'machine',\n",
       "      'url': 'https://pokeapi.co/api/v2/move-learn-method/4/'},\n",
       "     'order': None,\n",
       "     'version_group': {'name': 'lets-go-pikachu-lets-go-eevee',\n",
       "      'url': 'https://pokeapi.co/api/v2/version-group/19/'}},\n",
       "    {'level_learned_at': 4,\n",
       "     'move_learn_method': {'name': 'level-up',\n",
       "      'url': 'https://pokeapi.co/api/v2/move-learn-method/1/'},\n",
       "     'order': None,\n",
       "     'version_group': {'name': 'sword-shield',\n",
       "      'url': 'https://pokeapi.co/api/v2/version-group/20/'}},\n",
       "    {'level_learned_at': 0,\n",
       "     'move_learn_method': {'name': 'machine',\n",
       "      'url': 'https://pokeapi.co/api/v2/move-learn-method/4/'},\n",
       "     'order': None,\n",
       "     'version_group': {'name': 'sword-shield',\n",
       "      'url': 'https://pokeapi.co/api/v2/version-group/20/'}},\n",
       "    {'level_learned_at': 4,\n",
       "     'move_learn_method': {'name': 'level-up',\n",
       "      'url': 'https://pokeapi.co/api/v2/move-learn-method/1/'},\n",
       "     'order': None,\n",
       "     'version_group': {'name': 'brilliant-diamond-and-shining-pearl',\n",
       "      'url': 'https://pokeapi.co/api/v2/version-group/23/'}},\n",
       "    {'level_learned_at': 0,\n",
       "     'move_learn_method': {'name': 'machine',\n",
       "      'url': 'https://pokeapi.co/api/v2/move-learn-method/4/'},\n",
       "     'order': None,\n",
       "     'version_group': {'name': 'brilliant-diamond-and-shining-pearl',\n",
       "      'url': 'https://pokeapi.co/api/v2/version-group/23/'}},\n",
       "    {'level_learned_at': 9,\n",
       "     'move_learn_method': {'name': 'level-up',\n",
       "      'url': 'https://pokeapi.co/api/v2/move-learn-method/1/'},\n",
       "     'order': None,\n",
       "     'version_group': {'name': 'legends-arceus',\n",
       "      'url': 'https://pokeapi.co/api/v2/version-group/24/'}},\n",
       "    {'level_learned_at': 4,\n",
       "     'move_learn_method': {'name': 'level-up',\n",
       "      'url': 'https://pokeapi.co/api/v2/move-learn-method/1/'},\n",
       "     'order': None,\n",
       "     'version_group': {'name': 'scarlet-violet',\n",
       "      'url': 'https://pokeapi.co/api/v2/version-group/25/'}},\n",
       "    {'level_learned_at': 0,\n",
       "     'move_learn_method': {'name': 'machine',\n",
       "      'url': 'https://pokeapi.co/api/v2/move-learn-method/4/'},\n",
       "     'order': None,\n",
       "     'version_group': {'name': 'scarlet-violet',\n",
       "      'url': 'https://pokeapi.co/api/v2/version-group/25/'}}]},\n",
       "  {'move': {'name': 'thunder', 'url': 'https://pokeapi.co/api/v2/move/87/'},\n",
       "   'version_group_details': [{'level_learned_at': 43,\n",
       "     'move_learn_method': {'name': 'level-up',\n",
       "      'url': 'https://pokeapi.co/api/v2/move-learn-method/1/'},\n",
       "     'order': None,\n",
       "     'version_group': {'name': 'red-blue',\n",
       "      'url': 'https://pokeapi.co/api/v2/version-group/1/'}},\n",
       "    {'level_learned_at': 0,\n",
       "     'move_learn_method': {'name': 'machine',\n",
       "      'url': 'https://pokeapi.co/api/v2/move-learn-method/4/'},\n",
       "     'order': None,\n",
       "     'version_group': {'name': 'red-blue',\n",
       "      'url': 'https://pokeapi.co/api/v2/version-group/1/'}},\n",
       "    {'level_learned_at': 41,\n",
       "     'move_learn_method': {'name': 'level-up',\n",
       "      'url': 'https://pokeapi.co/api/v2/move-learn-method/1/'},\n",
       "     'order': None,\n",
       "     'version_group': {'name': 'yellow',\n",
       "      'url': 'https://pokeapi.co/api/v2/version-group/2/'}},\n",
       "    {'level_learned_at': 0,\n",
       "     'move_learn_method': {'name': 'machine',\n",
       "      'url': 'https://pokeapi.co/api/v2/move-learn-method/4/'},\n",
       "     'order': None,\n",
       "     'version_group': {'name': 'yellow',\n",
       "      'url': 'https://pokeapi.co/api/v2/version-group/2/'}},\n",
       "    {'level_learned_at': 41,\n",
       "     'move_learn_method': {'name': 'level-up',\n",
       "      'url': 'https://pokeapi.co/api/v2/move-learn-method/1/'},\n",
       "     'order': None,\n",
       "     'version_group': {'name': 'gold-silver',\n",
       "      'url': 'https://pokeapi.co/api/v2/version-group/3/'}},\n",
       "    {'level_learned_at': 0,\n",
       "     'move_learn_method': {'name': 'machine',\n",
       "      'url': 'https://pokeapi.co/api/v2/move-learn-method/4/'},\n",
       "     'order': None,\n",
       "     'version_group': {'name': 'gold-silver',\n",
       "      'url': 'https://pokeapi.co/api/v2/version-group/3/'}},\n",
       "    {'level_learned_at': 41,\n",
       "     'move_learn_method': {'name': 'level-up',\n",
       "      'url': 'https://pokeapi.co/api/v2/move-learn-method/1/'},\n",
       "     'order': None,\n",
       "     'version_group': {'name': 'crystal',\n",
       "      'url': 'https://pokeapi.co/api/v2/version-group/4/'}},\n",
       "    {'level_learned_at': 0,\n",
       "     'move_learn_method': {'name': 'machine',\n",
       "      'url': 'https://pokeapi.co/api/v2/move-learn-method/4/'},\n",
       "     'order': None,\n",
       "     'version_group': {'name': 'crystal',\n",
       "      'url': 'https://pokeapi.co/api/v2/version-group/4/'}},\n",
       "    {'level_learned_at': 41,\n",
       "     'move_learn_method': {'name': 'level-up',\n",
       "      'url': 'https://pokeapi.co/api/v2/move-learn-method/1/'},\n",
       "     'order': None,\n",
       "     'version_group': {'name': 'ruby-sapphire',\n",
       "      'url': 'https://pokeapi.co/api/v2/version-group/5/'}},\n",
       "    {'level_learned_at': 0,\n",
       "     'move_learn_method': {'name': 'machine',\n",
       "      'url': 'https://pokeapi.co/api/v2/move-learn-method/4/'},\n",
       "     'order': None,\n",
       "     'version_group': {'name': 'ruby-sapphire',\n",
       "      'url': 'https://pokeapi.co/api/v2/version-group/5/'}},\n",
       "    {'level_learned_at': 41,\n",
       "     'move_learn_method': {'name': 'level-up',\n",
       "      'url': 'https://pokeapi.co/api/v2/move-learn-method/1/'},\n",
       "     'order': None,\n",
       "     'version_group': {'name': 'emerald',\n",
       "      'url': 'https://pokeapi.co/api/v2/version-group/6/'}},\n",
       "    {'level_learned_at': 0,\n",
       "     'move_learn_method': {'name': 'machine',\n",
       "      'url': 'https://pokeapi.co/api/v2/move-learn-method/4/'},\n",
       "     'order': None,\n",
       "     'version_group': {'name': 'emerald',\n",
       "      'url': 'https://pokeapi.co/api/v2/version-group/6/'}},\n",
       "    {'level_learned_at': 41,\n",
       "     'move_learn_method': {'name': 'level-up',\n",
       "      'url': 'https://pokeapi.co/api/v2/move-learn-method/1/'},\n",
       "     'order': None,\n",
       "     'version_group': {'name': 'firered-leafgreen',\n",
       "      'url': 'https://pokeapi.co/api/v2/version-group/7/'}},\n",
       "    {'level_learned_at': 0,\n",
       "     'move_learn_method': {'name': 'machine',\n",
       "      'url': 'https://pokeapi.co/api/v2/move-learn-method/4/'},\n",
       "     'order': None,\n",
       "     'version_group': {'name': 'firered-leafgreen',\n",
       "      'url': 'https://pokeapi.co/api/v2/version-group/7/'}},\n",
       "    {'level_learned_at': 45,\n",
       "     'move_learn_method': {'name': 'level-up',\n",
       "      'url': 'https://pokeapi.co/api/v2/move-learn-method/1/'},\n",
       "     'order': None,\n",
       "     'version_group': {'name': 'diamond-pearl',\n",
       "      'url': 'https://pokeapi.co/api/v2/version-group/8/'}},\n",
       "    {'level_learned_at': 0,\n",
       "     'move_learn_method': {'name': 'machine',\n",
       "      'url': 'https://pokeapi.co/api/v2/move-learn-method/4/'},\n",
       "     'order': None,\n",
       "     'version_group': {'name': 'diamond-pearl',\n",
       "      'url': 'https://pokeapi.co/api/v2/version-group/8/'}},\n",
       "    {'level_learned_at': 45,\n",
       "     'move_learn_method': {'name': 'level-up',\n",
       "      'url': 'https://pokeapi.co/api/v2/move-learn-method/1/'},\n",
       "     'order': None,\n",
       "     'version_group': {'name': 'platinum',\n",
       "      'url': 'https://pokeapi.co/api/v2/version-group/9/'}},\n",
       "    {'level_learned_at': 0,\n",
       "     'move_learn_method': {'name': 'machine',\n",
       "      'url': 'https://pokeapi.co/api/v2/move-learn-method/4/'},\n",
       "     'order': None,\n",
       "     'version_group': {'name': 'platinum',\n",
       "      'url': 'https://pokeapi.co/api/v2/version-group/9/'}},\n",
       "    {'level_learned_at': 45,\n",
       "     'move_learn_method': {'name': 'level-up',\n",
       "      'url': 'https://pokeapi.co/api/v2/move-learn-method/1/'},\n",
       "     'order': None,\n",
       "     'version_group': {'name': 'heartgold-soulsilver',\n",
       "      'url': 'https://pokeapi.co/api/v2/version-group/10/'}},\n",
       "    {'level_learned_at': 0,\n",
       "     'move_learn_method': {'name': 'machine',\n",
       "      'url': 'https://pokeapi.co/api/v2/move-learn-method/4/'},\n",
       "     'order': None,\n",
       "     'version_group': {'name': 'heartgold-soulsilver',\n",
       "      'url': 'https://pokeapi.co/api/v2/version-group/10/'}},\n",
       "    {'level_learned_at': 50,\n",
       "     'move_learn_method': {'name': 'level-up',\n",
       "      'url': 'https://pokeapi.co/api/v2/move-learn-method/1/'},\n",
       "     'order': None,\n",
       "     'version_group': {'name': 'black-white',\n",
       "      'url': 'https://pokeapi.co/api/v2/version-group/11/'}},\n",
       "    {'level_learned_at': 0,\n",
       "     'move_learn_method': {'name': 'machine',\n",
       "      'url': 'https://pokeapi.co/api/v2/move-learn-method/4/'},\n",
       "     'order': None,\n",
       "     'version_group': {'name': 'black-white',\n",
       "      'url': 'https://pokeapi.co/api/v2/version-group/11/'}},\n",
       "    {'level_learned_at': 41,\n",
       "     'move_learn_method': {'name': 'level-up',\n",
       "      'url': 'https://pokeapi.co/api/v2/move-learn-method/1/'},\n",
       "     'order': None,\n",
       "     'version_group': {'name': 'colosseum',\n",
       "      'url': 'https://pokeapi.co/api/v2/version-group/12/'}},\n",
       "    {'level_learned_at': 0,\n",
       "     'move_learn_method': {'name': 'machine',\n",
       "      'url': 'https://pokeapi.co/api/v2/move-learn-method/4/'},\n",
       "     'order': None,\n",
       "     'version_group': {'name': 'colosseum',\n",
       "      'url': 'https://pokeapi.co/api/v2/version-group/12/'}},\n",
       "    {'level_learned_at': 41,\n",
       "     'move_learn_method': {'name': 'level-up',\n",
       "      'url': 'https://pokeapi.co/api/v2/move-learn-method/1/'},\n",
       "     'order': None,\n",
       "     'version_group': {'name': 'xd',\n",
       "      'url': 'https://pokeapi.co/api/v2/version-group/13/'}},\n",
       "    {'level_learned_at': 0,\n",
       "     'move_learn_method': {'name': 'machine',\n",
       "      'url': 'https://pokeapi.co/api/v2/move-learn-method/4/'},\n",
       "     'order': None,\n",
       "     'version_group': {'name': 'xd',\n",
       "      'url': 'https://pokeapi.co/api/v2/version-group/13/'}},\n",
       "    {'level_learned_at': 50,\n",
       "     'move_learn_method': {'name': 'level-up',\n",
       "      'url': 'https://pokeapi.co/api/v2/move-learn-method/1/'},\n",
       "     'order': None,\n",
       "     'version_group': {'name': 'black-2-white-2',\n",
       "      'url': 'https://pokeapi.co/api/v2/version-group/14/'}},\n",
       "    {'level_learned_at': 0,\n",
       "     'move_learn_method': {'name': 'machine',\n",
       "      'url': 'https://pokeapi.co/api/v2/move-learn-method/4/'},\n",
       "     'order': None,\n",
       "     'version_group': {'name': 'black-2-white-2',\n",
       "      'url': 'https://pokeapi.co/api/v2/version-group/14/'}},\n",
       "    {'level_learned_at': 50,\n",
       "     'move_learn_method': {'name': 'level-up',\n",
       "      'url': 'https://pokeapi.co/api/v2/move-learn-method/1/'},\n",
       "     'order': None,\n",
       "     'version_group': {'name': 'x-y',\n",
       "      'url': 'https://pokeapi.co/api/v2/version-group/15/'}},\n",
       "    {'level_learned_at': 0,\n",
       "     'move_learn_method': {'name': 'machine',\n",
       "      'url': 'https://pokeapi.co/api/v2/move-learn-method/4/'},\n",
       "     'order': None,\n",
       "     'version_group': {'name': 'x-y',\n",
       "      'url': 'https://pokeapi.co/api/v2/version-group/15/'}},\n",
       "    {'level_learned_at': 58,\n",
       "     'move_learn_method': {'name': 'level-up',\n",
       "      'url': 'https://pokeapi.co/api/v2/move-learn-method/1/'},\n",
       "     'order': None,\n",
       "     'version_group': {'name': 'omega-ruby-alpha-sapphire',\n",
       "      'url': 'https://pokeapi.co/api/v2/version-group/16/'}},\n",
       "    {'level_learned_at': 0,\n",
       "     'move_learn_method': {'name': 'machine',\n",
       "      'url': 'https://pokeapi.co/api/v2/move-learn-method/4/'},\n",
       "     'order': None,\n",
       "     'version_group': {'name': 'omega-ruby-alpha-sapphire',\n",
       "      'url': 'https://pokeapi.co/api/v2/version-group/16/'}},\n",
       "    {'level_learned_at': 58,\n",
       "     'move_learn_method': {'name': 'level-up',\n",
       "      'url': 'https://pokeapi.co/api/v2/move-learn-method/1/'},\n",
       "     'order': None,\n",
       "     'version_group': {'name': 'sun-moon',\n",
       "      'url': 'https://pokeapi.co/api/v2/version-group/17/'}},\n",
       "    {'level_learned_at': 0,\n",
       "     'move_learn_method': {'name': 'machine',\n",
       "      'url': 'https://pokeapi.co/api/v2/move-learn-method/4/'},\n",
       "     'order': None,\n",
       "     'version_group': {'name': 'sun-moon',\n",
       "      'url': 'https://pokeapi.co/api/v2/version-group/17/'}},\n",
       "    {'level_learned_at': 58,\n",
       "     'move_learn_method': {'name': 'level-up',\n",
       "      'url': 'https://pokeapi.co/api/v2/move-learn-method/1/'},\n",
       "     'order': None,\n",
       "     'version_group': {'name': 'ultra-sun-ultra-moon',\n",
       "      'url': 'https://pokeapi.co/api/v2/version-group/18/'}},\n",
       "    {'level_learned_at': 0,\n",
       "     'move_learn_method': {'name': 'machine',\n",
       "      'url': 'https://pokeapi.co/api/v2/move-learn-method/4/'},\n",
       "     'order': None,\n",
       "     'version_group': {'name': 'ultra-sun-ultra-moon',\n",
       "      'url': 'https://pokeapi.co/api/v2/version-group/18/'}},\n",
       "    {'level_learned_at': 30,\n",
       "     'move_learn_method': {'name': 'level-up',\n",
       "      'url': 'https://pokeapi.co/api/v2/move-learn-method/1/'},\n",
       "     'order': None,\n",
       "     'version_group': {'name': 'lets-go-pikachu-lets-go-eevee',\n",
       "      'url': 'https://pokeapi.co/api/v2/version-group/19/'}},\n",
       "    {'level_learned_at': 0,\n",
       "     'move_learn_method': {'name': 'machine',\n",
       "      'url': 'https://pokeapi.co/api/v2/move-learn-method/4/'},\n",
       "     'order': None,\n",
       "     'version_group': {'name': 'lets-go-pikachu-lets-go-eevee',\n",
       "      'url': 'https://pokeapi.co/api/v2/version-group/19/'}},\n",
       "    {'level_learned_at': 44,\n",
       "     'move_learn_method': {'name': 'level-up',\n",
       "      'url': 'https://pokeapi.co/api/v2/move-learn-method/1/'},\n",
       "     'order': None,\n",
       "     'version_group': {'name': 'sword-shield',\n",
       "      'url': 'https://pokeapi.co/api/v2/version-group/20/'}},\n",
       "    {'level_learned_at': 0,\n",
       "     'move_learn_method': {'name': 'machine',\n",
       "      'url': 'https://pokeapi.co/api/v2/move-learn-method/4/'},\n",
       "     'order': None,\n",
       "     'version_group': {'name': 'sword-shield',\n",
       "      'url': 'https://pokeapi.co/api/v2/version-group/20/'}},\n",
       "    {'level_learned_at': 44,\n",
       "     'move_learn_method': {'name': 'level-up',\n",
       "      'url': 'https://pokeapi.co/api/v2/move-learn-method/1/'},\n",
       "     'order': None,\n",
       "     'version_group': {'name': 'brilliant-diamond-and-shining-pearl',\n",
       "      'url': 'https://pokeapi.co/api/v2/version-group/23/'}},\n",
       "    {'level_learned_at': 0,\n",
       "     'move_learn_method': {'name': 'machine',\n",
       "      'url': 'https://pokeapi.co/api/v2/move-learn-method/4/'},\n",
       "     'order': None,\n",
       "     'version_group': {'name': 'brilliant-diamond-and-shining-pearl',\n",
       "      'url': 'https://pokeapi.co/api/v2/version-group/23/'}},\n",
       "    {'level_learned_at': 47,\n",
       "     'move_learn_method': {'name': 'level-up',\n",
       "      'url': 'https://pokeapi.co/api/v2/move-learn-method/1/'},\n",
       "     'order': None,\n",
       "     'version_group': {'name': 'legends-arceus',\n",
       "      'url': 'https://pokeapi.co/api/v2/version-group/24/'}},\n",
       "    {'level_learned_at': 44,\n",
       "     'move_learn_method': {'name': 'level-up',\n",
       "      'url': 'https://pokeapi.co/api/v2/move-learn-method/1/'},\n",
       "     'order': None,\n",
       "     'version_group': {'name': 'scarlet-violet',\n",
       "      'url': 'https://pokeapi.co/api/v2/version-group/25/'}},\n",
       "    {'level_learned_at': 0,\n",
       "     'move_learn_method': {'name': 'machine',\n",
       "      'url': 'https://pokeapi.co/api/v2/move-learn-method/4/'},\n",
       "     'order': None,\n",
       "     'version_group': {'name': 'scarlet-violet',\n",
       "      'url': 'https://pokeapi.co/api/v2/version-group/25/'}}]},\n",
       "  {'move': {'name': 'dig', 'url': 'https://pokeapi.co/api/v2/move/91/'},\n",
       "   'version_group_details': [{'level_learned_at': 0,\n",
       "     'move_learn_method': {'name': 'machine',\n",
       "      'url': 'https://pokeapi.co/api/v2/move-learn-method/4/'},\n",
       "     'order': None,\n",
       "     'version_group': {'name': 'ruby-sapphire',\n",
       "      'url': 'https://pokeapi.co/api/v2/version-group/5/'}},\n",
       "    {'level_learned_at': 0,\n",
       "     'move_learn_method': {'name': 'machine',\n",
       "      'url': 'https://pokeapi.co/api/v2/move-learn-method/4/'},\n",
       "     'order': None,\n",
       "     'version_group': {'name': 'emerald',\n",
       "      'url': 'https://pokeapi.co/api/v2/version-group/6/'}},\n",
       "    {'level_learned_at': 0,\n",
       "     'move_learn_method': {'name': 'machine',\n",
       "      'url': 'https://pokeapi.co/api/v2/move-learn-method/4/'},\n",
       "     'order': None,\n",
       "     'version_group': {'name': 'firered-leafgreen',\n",
       "      'url': 'https://pokeapi.co/api/v2/version-group/7/'}},\n",
       "    {'level_learned_at': 0,\n",
       "     'move_learn_method': {'name': 'machine',\n",
       "      'url': 'https://pokeapi.co/api/v2/move-learn-method/4/'},\n",
       "     'order': None,\n",
       "     'version_group': {'name': 'diamond-pearl',\n",
       "      'url': 'https://pokeapi.co/api/v2/version-group/8/'}},\n",
       "    {'level_learned_at': 0,\n",
       "     'move_learn_method': {'name': 'machine',\n",
       "      'url': 'https://pokeapi.co/api/v2/move-learn-method/4/'},\n",
       "     'order': None,\n",
       "     'version_group': {'name': 'platinum',\n",
       "      'url': 'https://pokeapi.co/api/v2/version-group/9/'}},\n",
       "    {'level_learned_at': 0,\n",
       "     'move_learn_method': {'name': 'machine',\n",
       "      'url': 'https://pokeapi.co/api/v2/move-learn-method/4/'},\n",
       "     'order': None,\n",
       "     'version_group': {'name': 'heartgold-soulsilver',\n",
       "      'url': 'https://pokeapi.co/api/v2/version-group/10/'}},\n",
       "    {'level_learned_at': 0,\n",
       "     'move_learn_method': {'name': 'machine',\n",
       "      'url': 'https://pokeapi.co/api/v2/move-learn-method/4/'},\n",
       "     'order': None,\n",
       "     'version_group': {'name': 'black-white',\n",
       "      'url': 'https://pokeapi.co/api/v2/version-group/11/'}},\n",
       "    {'level_learned_at': 0,\n",
       "     'move_learn_method': {'name': 'machine',\n",
       "      'url': 'https://pokeapi.co/api/v2/move-learn-method/4/'},\n",
       "     'order': None,\n",
       "     'version_group': {'name': 'colosseum',\n",
       "      'url': 'https://pokeapi.co/api/v2/version-group/12/'}},\n",
       "    {'level_learned_at': 0,\n",
       "     'move_learn_method': {'name': 'machine',\n",
       "      'url': 'https://pokeapi.co/api/v2/move-learn-method/4/'},\n",
       "     'order': None,\n",
       "     'version_group': {'name': 'xd',\n",
       "      'url': 'https://pokeapi.co/api/v2/version-group/13/'}},\n",
       "    {'level_learned_at': 0,\n",
       "     'move_learn_method': {'name': 'machine',\n",
       "      'url': 'https://pokeapi.co/api/v2/move-learn-method/4/'},\n",
       "     'order': None,\n",
       "     'version_group': {'name': 'black-2-white-2',\n",
       "      'url': 'https://pokeapi.co/api/v2/version-group/14/'}},\n",
       "    {'level_learned_at': 0,\n",
       "     'move_learn_method': {'name': 'machine',\n",
       "      'url': 'https://pokeapi.co/api/v2/move-learn-method/4/'},\n",
       "     'order': None,\n",
       "     'version_group': {'name': 'x-y',\n",
       "      'url': 'https://pokeapi.co/api/v2/version-group/15/'}},\n",
       "    {'level_learned_at': 0,\n",
       "     'move_learn_method': {'name': 'machine',\n",
       "      'url': 'https://pokeapi.co/api/v2/move-learn-method/4/'},\n",
       "     'order': None,\n",
       "     'version_group': {'name': 'omega-ruby-alpha-sapphire',\n",
       "      'url': 'https://pokeapi.co/api/v2/version-group/16/'}},\n",
       "    {'level_learned_at': 0,\n",
       "     'move_learn_method': {'name': 'machine',\n",
       "      'url': 'https://pokeapi.co/api/v2/move-learn-method/4/'},\n",
       "     'order': None,\n",
       "     'version_group': {'name': 'lets-go-pikachu-lets-go-eevee',\n",
       "      'url': 'https://pokeapi.co/api/v2/version-group/19/'}},\n",
       "    {'level_learned_at': 0,\n",
       "     'move_learn_method': {'name': 'machine',\n",
       "      'url': 'https://pokeapi.co/api/v2/move-learn-method/4/'},\n",
       "     'order': None,\n",
       "     'version_group': {'name': 'sword-shield',\n",
       "      'url': 'https://pokeapi.co/api/v2/version-group/20/'}},\n",
       "    {'level_learned_at': 0,\n",
       "     'move_learn_method': {'name': 'machine',\n",
       "      'url': 'https://pokeapi.co/api/v2/move-learn-method/4/'},\n",
       "     'order': None,\n",
       "     'version_group': {'name': 'brilliant-diamond-and-shining-pearl',\n",
       "      'url': 'https://pokeapi.co/api/v2/version-group/23/'}},\n",
       "    {'level_learned_at': 0,\n",
       "     'move_learn_method': {'name': 'machine',\n",
       "      'url': 'https://pokeapi.co/api/v2/move-learn-method/4/'},\n",
       "     'order': None,\n",
       "     'version_group': {'name': 'scarlet-violet',\n",
       "      'url': 'https://pokeapi.co/api/v2/version-group/25/'}}]},\n",
       "  {'move': {'name': 'toxic', 'url': 'https://pokeapi.co/api/v2/move/92/'},\n",
       "   'version_group_details': [{'level_learned_at': 0,\n",
       "     'move_learn_method': {'name': 'machine',\n",
       "      'url': 'https://pokeapi.co/api/v2/move-learn-method/4/'},\n",
       "     'order': None,\n",
       "     'version_group': {'name': 'red-blue',\n",
       "      'url': 'https://pokeapi.co/api/v2/version-group/1/'}},\n",
       "    {'level_learned_at': 0,\n",
       "     'move_learn_method': {'name': 'machine',\n",
       "      'url': 'https://pokeapi.co/api/v2/move-learn-method/4/'},\n",
       "     'order': None,\n",
       "     'version_group': {'name': 'yellow',\n",
       "      'url': 'https://pokeapi.co/api/v2/version-group/2/'}},\n",
       "    {'level_learned_at': 0,\n",
       "     'move_learn_method': {'name': 'machine',\n",
       "      'url': 'https://pokeapi.co/api/v2/move-learn-method/4/'},\n",
       "     'order': None,\n",
       "     'version_group': {'name': 'gold-silver',\n",
       "      'url': 'https://pokeapi.co/api/v2/version-group/3/'}},\n",
       "    {'level_learned_at': 0,\n",
       "     'move_learn_method': {'name': 'machine',\n",
       "      'url': 'https://pokeapi.co/api/v2/move-learn-method/4/'},\n",
       "     'order': None,\n",
       "     'version_group': {'name': 'crystal',\n",
       "      'url': 'https://pokeapi.co/api/v2/version-group/4/'}},\n",
       "    {'level_learned_at': 0,\n",
       "     'move_learn_method': {'name': 'machine',\n",
       "      'url': 'https://pokeapi.co/api/v2/move-learn-method/4/'},\n",
       "     'order': None,\n",
       "     'version_group': {'name': 'ruby-sapphire',\n",
       "      'url': 'https://pokeapi.co/api/v2/version-group/5/'}},\n",
       "    {'level_learned_at': 0,\n",
       "     'move_learn_method': {'name': 'machine',\n",
       "      'url': 'https://pokeapi.co/api/v2/move-learn-method/4/'},\n",
       "     'order': None,\n",
       "     'version_group': {'name': 'emerald',\n",
       "      'url': 'https://pokeapi.co/api/v2/version-group/6/'}},\n",
       "    {'level_learned_at': 0,\n",
       "     'move_learn_method': {'name': 'machine',\n",
       "      'url': 'https://pokeapi.co/api/v2/move-learn-method/4/'},\n",
       "     'order': None,\n",
       "     'version_group': {'name': 'firered-leafgreen',\n",
       "      'url': 'https://pokeapi.co/api/v2/version-group/7/'}},\n",
       "    {'level_learned_at': 0,\n",
       "     'move_learn_method': {'name': 'machine',\n",
       "      'url': 'https://pokeapi.co/api/v2/move-learn-method/4/'},\n",
       "     'order': None,\n",
       "     'version_group': {'name': 'diamond-pearl',\n",
       "      'url': 'https://pokeapi.co/api/v2/version-group/8/'}},\n",
       "    {'level_learned_at': 0,\n",
       "     'move_learn_method': {'name': 'machine',\n",
       "      'url': 'https://pokeapi.co/api/v2/move-learn-method/4/'},\n",
       "     'order': None,\n",
       "     'version_group': {'name': 'platinum',\n",
       "      'url': 'https://pokeapi.co/api/v2/version-group/9/'}},\n",
       "    {'level_learned_at': 0,\n",
       "     'move_learn_method': {'name': 'machine',\n",
       "      'url': 'https://pokeapi.co/api/v2/move-learn-method/4/'},\n",
       "     'order': None,\n",
       "     'version_group': {'name': 'heartgold-soulsilver',\n",
       "      'url': 'https://pokeapi.co/api/v2/version-group/10/'}},\n",
       "    {'level_learned_at': 0,\n",
       "     'move_learn_method': {'name': 'machine',\n",
       "      'url': 'https://pokeapi.co/api/v2/move-learn-method/4/'},\n",
       "     'order': None,\n",
       "     'version_group': {'name': 'black-white',\n",
       "      'url': 'https://pokeapi.co/api/v2/version-group/11/'}},\n",
       "    {'level_learned_at': 0,\n",
       "     'move_learn_method': {'name': 'machine',\n",
       "      'url': 'https://pokeapi.co/api/v2/move-learn-method/4/'},\n",
       "     'order': None,\n",
       "     'version_group': {'name': 'colosseum',\n",
       "      'url': 'https://pokeapi.co/api/v2/version-group/12/'}},\n",
       "    {'level_learned_at': 0,\n",
       "     'move_learn_method': {'name': 'machine',\n",
       "      'url': 'https://pokeapi.co/api/v2/move-learn-method/4/'},\n",
       "     'order': None,\n",
       "     'version_group': {'name': 'xd',\n",
       "      'url': 'https://pokeapi.co/api/v2/version-group/13/'}},\n",
       "    {'level_learned_at': 0,\n",
       "     'move_learn_method': {'name': 'machine',\n",
       "      'url': 'https://pokeapi.co/api/v2/move-learn-method/4/'},\n",
       "     'order': None,\n",
       "     'version_group': {'name': 'black-2-white-2',\n",
       "      'url': 'https://pokeapi.co/api/v2/version-group/14/'}},\n",
       "    {'level_learned_at': 0,\n",
       "     'move_learn_method': {'name': 'machine',\n",
       "      'url': 'https://pokeapi.co/api/v2/move-learn-method/4/'},\n",
       "     'order': None,\n",
       "     'version_group': {'name': 'x-y',\n",
       "      'url': 'https://pokeapi.co/api/v2/version-group/15/'}},\n",
       "    {'level_learned_at': 0,\n",
       "     'move_learn_method': {'name': 'machine',\n",
       "      'url': 'https://pokeapi.co/api/v2/move-learn-method/4/'},\n",
       "     'order': None,\n",
       "     'version_group': {'name': 'omega-ruby-alpha-sapphire',\n",
       "      'url': 'https://pokeapi.co/api/v2/version-group/16/'}},\n",
       "    {'level_learned_at': 0,\n",
       "     'move_learn_method': {'name': 'machine',\n",
       "      'url': 'https://pokeapi.co/api/v2/move-learn-method/4/'},\n",
       "     'order': None,\n",
       "     'version_group': {'name': 'sun-moon',\n",
       "      'url': 'https://pokeapi.co/api/v2/version-group/17/'}},\n",
       "    {'level_learned_at': 0,\n",
       "     'move_learn_method': {'name': 'machine',\n",
       "      'url': 'https://pokeapi.co/api/v2/move-learn-method/4/'},\n",
       "     'order': None,\n",
       "     'version_group': {'name': 'ultra-sun-ultra-moon',\n",
       "      'url': 'https://pokeapi.co/api/v2/version-group/18/'}},\n",
       "    {'level_learned_at': 0,\n",
       "     'move_learn_method': {'name': 'machine',\n",
       "      'url': 'https://pokeapi.co/api/v2/move-learn-method/4/'},\n",
       "     'order': None,\n",
       "     'version_group': {'name': 'lets-go-pikachu-lets-go-eevee',\n",
       "      'url': 'https://pokeapi.co/api/v2/version-group/19/'}}]},\n",
       "  {'move': {'name': 'agility', 'url': 'https://pokeapi.co/api/v2/move/97/'},\n",
       "   'version_group_details': [{'level_learned_at': 33,\n",
       "     'move_learn_method': {'name': 'level-up',\n",
       "      'url': 'https://pokeapi.co/api/v2/move-learn-method/1/'},\n",
       "     'order': None,\n",
       "     'version_group': {'name': 'red-blue',\n",
       "      'url': 'https://pokeapi.co/api/v2/version-group/1/'}},\n",
       "    {'level_learned_at': 33,\n",
       "     'move_learn_method': {'name': 'level-up',\n",
       "      'url': 'https://pokeapi.co/api/v2/move-learn-method/1/'},\n",
       "     'order': None,\n",
       "     'version_group': {'name': 'yellow',\n",
       "      'url': 'https://pokeapi.co/api/v2/version-group/2/'}},\n",
       "    {'level_learned_at': 33,\n",
       "     'move_learn_method': {'name': 'level-up',\n",
       "      'url': 'https://pokeapi.co/api/v2/move-learn-method/1/'},\n",
       "     'order': None,\n",
       "     'version_group': {'name': 'gold-silver',\n",
       "      'url': 'https://pokeapi.co/api/v2/version-group/3/'}},\n",
       "    {'level_learned_at': 33,\n",
       "     'move_learn_method': {'name': 'level-up',\n",
       "      'url': 'https://pokeapi.co/api/v2/move-learn-method/1/'},\n",
       "     'order': None,\n",
       "     'version_group': {'name': 'crystal',\n",
       "      'url': 'https://pokeapi.co/api/v2/version-group/4/'}},\n",
       "    {'level_learned_at': 33,\n",
       "     'move_learn_method': {'name': 'level-up',\n",
       "      'url': 'https://pokeapi.co/api/v2/move-learn-method/1/'},\n",
       "     'order': None,\n",
       "     'version_group': {'name': 'ruby-sapphire',\n",
       "      'url': 'https://pokeapi.co/api/v2/version-group/5/'}},\n",
       "    {'level_learned_at': 33,\n",
       "     'move_learn_method': {'name': 'level-up',\n",
       "      'url': 'https://pokeapi.co/api/v2/move-learn-method/1/'},\n",
       "     'order': None,\n",
       "     'version_group': {'name': 'emerald',\n",
       "      'url': 'https://pokeapi.co/api/v2/version-group/6/'}},\n",
       "    {'level_learned_at': 33,\n",
       "     'move_learn_method': {'name': 'level-up',\n",
       "      'url': 'https://pokeapi.co/api/v2/move-learn-method/1/'},\n",
       "     'order': None,\n",
       "     'version_group': {'name': 'firered-leafgreen',\n",
       "      'url': 'https://pokeapi.co/api/v2/version-group/7/'}},\n",
       "    {'level_learned_at': 34,\n",
       "     'move_learn_method': {'name': 'level-up',\n",
       "      'url': 'https://pokeapi.co/api/v2/move-learn-method/1/'},\n",
       "     'order': None,\n",
       "     'version_group': {'name': 'diamond-pearl',\n",
       "      'url': 'https://pokeapi.co/api/v2/version-group/8/'}},\n",
       "    {'level_learned_at': 34,\n",
       "     'move_learn_method': {'name': 'level-up',\n",
       "      'url': 'https://pokeapi.co/api/v2/move-learn-method/1/'},\n",
       "     'order': None,\n",
       "     'version_group': {'name': 'platinum',\n",
       "      'url': 'https://pokeapi.co/api/v2/version-group/9/'}},\n",
       "    {'level_learned_at': 34,\n",
       "     'move_learn_method': {'name': 'level-up',\n",
       "      'url': 'https://pokeapi.co/api/v2/move-learn-method/1/'},\n",
       "     'order': None,\n",
       "     'version_group': {'name': 'heartgold-soulsilver',\n",
       "      'url': 'https://pokeapi.co/api/v2/version-group/10/'}},\n",
       "    {'level_learned_at': 37,\n",
       "     'move_learn_method': {'name': 'level-up',\n",
       "      'url': 'https://pokeapi.co/api/v2/move-learn-method/1/'},\n",
       "     'order': None,\n",
       "     'version_group': {'name': 'black-white',\n",
       "      'url': 'https://pokeapi.co/api/v2/version-group/11/'}},\n",
       "    {'level_learned_at': 33,\n",
       "     'move_learn_method': {'name': 'level-up',\n",
       "      'url': 'https://pokeapi.co/api/v2/move-learn-method/1/'},\n",
       "     'order': None,\n",
       "     'version_group': {'name': 'colosseum',\n",
       "      'url': 'https://pokeapi.co/api/v2/version-group/12/'}},\n",
       "    {'level_learned_at': 33,\n",
       "     'move_learn_method': {'name': 'level-up',\n",
       "      'url': 'https://pokeapi.co/api/v2/move-learn-method/1/'},\n",
       "     'order': None,\n",
       "     'version_group': {'name': 'xd',\n",
       "      'url': 'https://pokeapi.co/api/v2/version-group/13/'}},\n",
       "    {'level_learned_at': 37,\n",
       "     'move_learn_method': {'name': 'level-up',\n",
       "      'url': 'https://pokeapi.co/api/v2/move-learn-method/1/'},\n",
       "     'order': None,\n",
       "     'version_group': {'name': 'black-2-white-2',\n",
       "      'url': 'https://pokeapi.co/api/v2/version-group/14/'}},\n",
       "    {'level_learned_at': 37,\n",
       "     'move_learn_method': {'name': 'level-up',\n",
       "      'url': 'https://pokeapi.co/api/v2/move-learn-method/1/'},\n",
       "     'order': None,\n",
       "     'version_group': {'name': 'x-y',\n",
       "      'url': 'https://pokeapi.co/api/v2/version-group/15/'}},\n",
       "    {'level_learned_at': 45,\n",
       "     'move_learn_method': {'name': 'level-up',\n",
       "      'url': 'https://pokeapi.co/api/v2/move-learn-method/1/'},\n",
       "     'order': None,\n",
       "     'version_group': {'name': 'omega-ruby-alpha-sapphire',\n",
       "      'url': 'https://pokeapi.co/api/v2/version-group/16/'}},\n",
       "    {'level_learned_at': 45,\n",
       "     'move_learn_method': {'name': 'level-up',\n",
       "      'url': 'https://pokeapi.co/api/v2/move-learn-method/1/'},\n",
       "     'order': None,\n",
       "     'version_group': {'name': 'sun-moon',\n",
       "      'url': 'https://pokeapi.co/api/v2/version-group/17/'}},\n",
       "    {'level_learned_at': 45,\n",
       "     'move_learn_method': {'name': 'level-up',\n",
       "      'url': 'https://pokeapi.co/api/v2/move-learn-method/1/'},\n",
       "     'order': None,\n",
       "     'version_group': {'name': 'ultra-sun-ultra-moon',\n",
       "      'url': 'https://pokeapi.co/api/v2/version-group/18/'}},\n",
       "    {'level_learned_at': 27,\n",
       "     'move_learn_method': {'name': 'level-up',\n",
       "      'url': 'https://pokeapi.co/api/v2/move-learn-method/1/'},\n",
       "     'order': None,\n",
       "     'version_group': {'name': 'lets-go-pikachu-lets-go-eevee',\n",
       "      'url': 'https://pokeapi.co/api/v2/version-group/19/'}},\n",
       "    {'level_learned_at': 24,\n",
       "     'move_learn_method': {'name': 'level-up',\n",
       "      'url': 'https://pokeapi.co/api/v2/move-learn-method/1/'},\n",
       "     'order': None,\n",
       "     'version_group': {'name': 'sword-shield',\n",
       "      'url': 'https://pokeapi.co/api/v2/version-group/20/'}},\n",
       "    {'level_learned_at': 0,\n",
       "     'move_learn_method': {'name': 'machine',\n",
       "      'url': 'https://pokeapi.co/api/v2/move-learn-method/4/'},\n",
       "     'order': None,\n",
       "     'version_group': {'name': 'sword-shield',\n",
       "      'url': 'https://pokeapi.co/api/v2/version-group/20/'}},\n",
       "    {'level_learned_at': 24,\n",
       "     'move_learn_method': {'name': 'level-up',\n",
       "      'url': 'https://pokeapi.co/api/v2/move-learn-method/1/'},\n",
       "     'order': None,\n",
       "     'version_group': {'name': 'brilliant-diamond-and-shining-pearl',\n",
       "      'url': 'https://pokeapi.co/api/v2/version-group/23/'}},\n",
       "    {'level_learned_at': 24,\n",
       "     'move_learn_method': {'name': 'level-up',\n",
       "      'url': 'https://pokeapi.co/api/v2/move-learn-method/1/'},\n",
       "     'order': None,\n",
       "     'version_group': {'name': 'scarlet-violet',\n",
       "      'url': 'https://pokeapi.co/api/v2/version-group/25/'}},\n",
       "    {'level_learned_at': 0,\n",
       "     'move_learn_method': {'name': 'machine',\n",
       "      'url': 'https://pokeapi.co/api/v2/move-learn-method/4/'},\n",
       "     'order': None,\n",
       "     'version_group': {'name': 'scarlet-violet',\n",
       "      'url': 'https://pokeapi.co/api/v2/version-group/25/'}}]},\n",
       "  {'move': {'name': 'quick-attack',\n",
       "    'url': 'https://pokeapi.co/api/v2/move/98/'},\n",
       "   'version_group_details': [{'level_learned_at': 16,\n",
       "     'move_learn_method': {'name': 'level-up',\n",
       "      'url': 'https://pokeapi.co/api/v2/move-learn-method/1/'},\n",
       "     'order': None,\n",
       "     'version_group': {'name': 'red-blue',\n",
       "      'url': 'https://pokeapi.co/api/v2/version-group/1/'}},\n",
       "    {'level_learned_at': 11,\n",
       "     'move_learn_method': {'name': 'level-up',\n",
       "      'url': 'https://pokeapi.co/api/v2/move-learn-method/1/'},\n",
       "     'order': None,\n",
       "     'version_group': {'name': 'yellow',\n",
       "      'url': 'https://pokeapi.co/api/v2/version-group/2/'}},\n",
       "    {'level_learned_at': 11,\n",
       "     'move_learn_method': {'name': 'level-up',\n",
       "      'url': 'https://pokeapi.co/api/v2/move-learn-method/1/'},\n",
       "     'order': None,\n",
       "     'version_group': {'name': 'gold-silver',\n",
       "      'url': 'https://pokeapi.co/api/v2/version-group/3/'}},\n",
       "    {'level_learned_at': 11,\n",
       "     'move_learn_method': {'name': 'level-up',\n",
       "      'url': 'https://pokeapi.co/api/v2/move-learn-method/1/'},\n",
       "     'order': None,\n",
       "     'version_group': {'name': 'crystal',\n",
       "      'url': 'https://pokeapi.co/api/v2/version-group/4/'}},\n",
       "    {'level_learned_at': 11,\n",
       "     'move_learn_method': {'name': 'level-up',\n",
       "      'url': 'https://pokeapi.co/api/v2/move-learn-method/1/'},\n",
       "     'order': None,\n",
       "     'version_group': {'name': 'ruby-sapphire',\n",
       "      'url': 'https://pokeapi.co/api/v2/version-group/5/'}},\n",
       "    {'level_learned_at': 11,\n",
       "     'move_learn_method': {'name': 'level-up',\n",
       "      'url': 'https://pokeapi.co/api/v2/move-learn-method/1/'},\n",
       "     'order': None,\n",
       "     'version_group': {'name': 'emerald',\n",
       "      'url': 'https://pokeapi.co/api/v2/version-group/6/'}},\n",
       "    {'level_learned_at': 11,\n",
       "     'move_learn_method': {'name': 'level-up',\n",
       "      'url': 'https://pokeapi.co/api/v2/move-learn-method/1/'},\n",
       "     'order': None,\n",
       "     'version_group': {'name': 'firered-leafgreen',\n",
       "      'url': 'https://pokeapi.co/api/v2/version-group/7/'}},\n",
       "    {'level_learned_at': 13,\n",
       "     'move_learn_method': {'name': 'level-up',\n",
       "      'url': 'https://pokeapi.co/api/v2/move-learn-method/1/'},\n",
       "     'order': None,\n",
       "     'version_group': {'name': 'diamond-pearl',\n",
       "      'url': 'https://pokeapi.co/api/v2/version-group/8/'}},\n",
       "    {'level_learned_at': 13,\n",
       "     'move_learn_method': {'name': 'level-up',\n",
       "      'url': 'https://pokeapi.co/api/v2/move-learn-method/1/'},\n",
       "     'order': None,\n",
       "     'version_group': {'name': 'platinum',\n",
       "      'url': 'https://pokeapi.co/api/v2/version-group/9/'}},\n",
       "    {'level_learned_at': 13,\n",
       "     'move_learn_method': {'name': 'level-up',\n",
       "      'url': 'https://pokeapi.co/api/v2/move-learn-method/1/'},\n",
       "     'order': None,\n",
       "     'version_group': {'name': 'heartgold-soulsilver',\n",
       "      'url': 'https://pokeapi.co/api/v2/version-group/10/'}},\n",
       "    {'level_learned_at': 13,\n",
       "     'move_learn_method': {'name': 'level-up',\n",
       "      'url': 'https://pokeapi.co/api/v2/move-learn-method/1/'},\n",
       "     'order': None,\n",
       "     'version_group': {'name': 'black-white',\n",
       "      'url': 'https://pokeapi.co/api/v2/version-group/11/'}},\n",
       "    {'level_learned_at': 11,\n",
       "     'move_learn_method': {'name': 'level-up',\n",
       "      'url': 'https://pokeapi.co/api/v2/move-learn-method/1/'},\n",
       "     'order': None,\n",
       "     'version_group': {'name': 'colosseum',\n",
       "      'url': 'https://pokeapi.co/api/v2/version-group/12/'}},\n",
       "    {'level_learned_at': 11,\n",
       "     'move_learn_method': {'name': 'level-up',\n",
       "      'url': 'https://pokeapi.co/api/v2/move-learn-method/1/'},\n",
       "     'order': None,\n",
       "     'version_group': {'name': 'xd',\n",
       "      'url': 'https://pokeapi.co/api/v2/version-group/13/'}},\n",
       "    {'level_learned_at': 13,\n",
       "     'move_learn_method': {'name': 'level-up',\n",
       "      'url': 'https://pokeapi.co/api/v2/move-learn-method/1/'},\n",
       "     'order': None,\n",
       "     'version_group': {'name': 'black-2-white-2',\n",
       "      'url': 'https://pokeapi.co/api/v2/version-group/14/'}},\n",
       "    {'level_learned_at': 10,\n",
       "     'move_learn_method': {'name': 'level-up',\n",
       "      'url': 'https://pokeapi.co/api/v2/move-learn-method/1/'},\n",
       "     'order': None,\n",
       "     'version_group': {'name': 'x-y',\n",
       "      'url': 'https://pokeapi.co/api/v2/version-group/15/'}},\n",
       "    {'level_learned_at': 10,\n",
       "     'move_learn_method': {'name': 'level-up',\n",
       "      'url': 'https://pokeapi.co/api/v2/move-learn-method/1/'},\n",
       "     'order': None,\n",
       "     'version_group': {'name': 'omega-ruby-alpha-sapphire',\n",
       "      'url': 'https://pokeapi.co/api/v2/version-group/16/'}},\n",
       "    {'level_learned_at': 10,\n",
       "     'move_learn_method': {'name': 'level-up',\n",
       "      'url': 'https://pokeapi.co/api/v2/move-learn-method/1/'},\n",
       "     'order': None,\n",
       "     'version_group': {'name': 'sun-moon',\n",
       "      'url': 'https://pokeapi.co/api/v2/version-group/17/'}},\n",
       "    {'level_learned_at': 10,\n",
       "     'move_learn_method': {'name': 'level-up',\n",
       "      'url': 'https://pokeapi.co/api/v2/move-learn-method/1/'},\n",
       "     'order': None,\n",
       "     'version_group': {'name': 'ultra-sun-ultra-moon',\n",
       "      'url': 'https://pokeapi.co/api/v2/version-group/18/'}},\n",
       "    {'level_learned_at': 6,\n",
       "     'move_learn_method': {'name': 'level-up',\n",
       "      'url': 'https://pokeapi.co/api/v2/move-learn-method/1/'},\n",
       "     'order': None,\n",
       "     'version_group': {'name': 'lets-go-pikachu-lets-go-eevee',\n",
       "      'url': 'https://pokeapi.co/api/v2/version-group/19/'}},\n",
       "    {'level_learned_at': 1,\n",
       "     'move_learn_method': {'name': 'level-up',\n",
       "      'url': 'https://pokeapi.co/api/v2/move-learn-method/1/'},\n",
       "     'order': 9,\n",
       "     'version_group': {'name': 'sword-shield',\n",
       "      'url': 'https://pokeapi.co/api/v2/version-group/20/'}},\n",
       "    {'level_learned_at': 1,\n",
       "     'move_learn_method': {'name': 'level-up',\n",
       "      'url': 'https://pokeapi.co/api/v2/move-learn-method/1/'},\n",
       "     'order': 6,\n",
       "     'version_group': {'name': 'brilliant-diamond-and-shining-pearl',\n",
       "      'url': 'https://pokeapi.co/api/v2/version-group/23/'}},\n",
       "    {'level_learned_at': 5,\n",
       "     'move_learn_method': {'name': 'level-up',\n",
       "      'url': 'https://pokeapi.co/api/v2/move-learn-method/1/'},\n",
       "     'order': None,\n",
       "     'version_group': {'name': 'legends-arceus',\n",
       "      'url': 'https://pokeapi.co/api/v2/version-group/24/'}},\n",
       "    {'level_learned_at': 1,\n",
       "     'move_learn_method': {'name': 'level-up',\n",
       "      'url': 'https://pokeapi.co/api/v2/move-learn-method/1/'},\n",
       "     'order': 6,\n",
       "     'version_group': {'name': 'scarlet-violet',\n",
       "      'url': 'https://pokeapi.co/api/v2/version-group/25/'}}]},\n",
       "  {'move': {'name': 'rage', 'url': 'https://pokeapi.co/api/v2/move/99/'},\n",
       "   'version_group_details': [{'level_learned_at': 0,\n",
       "     'move_learn_method': {'name': 'machine',\n",
       "      'url': 'https://pokeapi.co/api/v2/move-learn-method/4/'},\n",
       "     'order': None,\n",
       "     'version_group': {'name': 'red-blue',\n",
       "      'url': 'https://pokeapi.co/api/v2/version-group/1/'}},\n",
       "    {'level_learned_at': 0,\n",
       "     'move_learn_method': {'name': 'machine',\n",
       "      'url': 'https://pokeapi.co/api/v2/move-learn-method/4/'},\n",
       "     'order': None,\n",
       "     'version_group': {'name': 'yellow',\n",
       "      'url': 'https://pokeapi.co/api/v2/version-group/2/'}}]},\n",
       "  {'move': {'name': 'mimic', 'url': 'https://pokeapi.co/api/v2/move/102/'},\n",
       "   'version_group_details': [{'level_learned_at': 0,\n",
       "     'move_learn_method': {'name': 'machine',\n",
       "      'url': 'https://pokeapi.co/api/v2/move-learn-method/4/'},\n",
       "     'order': None,\n",
       "     'version_group': {'name': 'red-blue',\n",
       "      'url': 'https://pokeapi.co/api/v2/version-group/1/'}},\n",
       "    {'level_learned_at': 0,\n",
       "     'move_learn_method': {'name': 'machine',\n",
       "      'url': 'https://pokeapi.co/api/v2/move-learn-method/4/'},\n",
       "     'order': None,\n",
       "     'version_group': {'name': 'yellow',\n",
       "      'url': 'https://pokeapi.co/api/v2/version-group/2/'}},\n",
       "    {'level_learned_at': 0,\n",
       "     'move_learn_method': {'name': 'tutor',\n",
       "      'url': 'https://pokeapi.co/api/v2/move-learn-method/3/'},\n",
       "     'order': None,\n",
       "     'version_group': {'name': 'emerald',\n",
       "      'url': 'https://pokeapi.co/api/v2/version-group/6/'}},\n",
       "    {'level_learned_at': 0,\n",
       "     'move_learn_method': {'name': 'tutor',\n",
       "      'url': 'https://pokeapi.co/api/v2/move-learn-method/3/'},\n",
       "     'order': None,\n",
       "     'version_group': {'name': 'firered-leafgreen',\n",
       "      'url': 'https://pokeapi.co/api/v2/version-group/7/'}},\n",
       "    {'level_learned_at': 0,\n",
       "     'move_learn_method': {'name': 'tutor',\n",
       "      'url': 'https://pokeapi.co/api/v2/move-learn-method/3/'},\n",
       "     'order': None,\n",
       "     'version_group': {'name': 'xd',\n",
       "      'url': 'https://pokeapi.co/api/v2/version-group/13/'}}]},\n",
       "  {'move': {'name': 'double-team',\n",
       "    'url': 'https://pokeapi.co/api/v2/move/104/'},\n",
       "   'version_group_details': [{'level_learned_at': 0,\n",
       "     'move_learn_method': {'name': 'machine',\n",
       "      'url': 'https://pokeapi.co/api/v2/move-learn-method/4/'},\n",
       "     'order': None,\n",
       "     'version_group': {'name': 'red-blue',\n",
       "      'url': 'https://pokeapi.co/api/v2/version-group/1/'}},\n",
       "    {'level_learned_at': 15,\n",
       "     'move_learn_method': {'name': 'level-up',\n",
       "      'url': 'https://pokeapi.co/api/v2/move-learn-method/1/'},\n",
       "     'order': None,\n",
       "     'version_group': {'name': 'yellow',\n",
       "      'url': 'https://pokeapi.co/api/v2/version-group/2/'}},\n",
       "    {'level_learned_at': 0,\n",
       "     'move_learn_method': {'name': 'machine',\n",
       "      'url': 'https://pokeapi.co/api/v2/move-learn-method/4/'},\n",
       "     'order': None,\n",
       "     'version_group': {'name': 'yellow',\n",
       "      'url': 'https://pokeapi.co/api/v2/version-group/2/'}},\n",
       "    {'level_learned_at': 15,\n",
       "     'move_learn_method': {'name': 'level-up',\n",
       "      'url': 'https://pokeapi.co/api/v2/move-learn-method/1/'},\n",
       "     'order': None,\n",
       "     'version_group': {'name': 'gold-silver',\n",
       "      'url': 'https://pokeapi.co/api/v2/version-group/3/'}},\n",
       "    {'level_learned_at': 0,\n",
       "     'move_learn_method': {'name': 'machine',\n",
       "      'url': 'https://pokeapi.co/api/v2/move-learn-method/4/'},\n",
       "     'order': None,\n",
       "     'version_group': {'name': 'gold-silver',\n",
       "      'url': 'https://pokeapi.co/api/v2/version-group/3/'}},\n",
       "    {'level_learned_at': 15,\n",
       "     'move_learn_method': {'name': 'level-up',\n",
       "      'url': 'https://pokeapi.co/api/v2/move-learn-method/1/'},\n",
       "     'order': None,\n",
       "     'version_group': {'name': 'crystal',\n",
       "      'url': 'https://pokeapi.co/api/v2/version-group/4/'}},\n",
       "    {'level_learned_at': 0,\n",
       "     'move_learn_method': {'name': 'machine',\n",
       "      'url': 'https://pokeapi.co/api/v2/move-learn-method/4/'},\n",
       "     'order': None,\n",
       "     'version_group': {'name': 'crystal',\n",
       "      'url': 'https://pokeapi.co/api/v2/version-group/4/'}},\n",
       "    {'level_learned_at': 15,\n",
       "     'move_learn_method': {'name': 'level-up',\n",
       "      'url': 'https://pokeapi.co/api/v2/move-learn-method/1/'},\n",
       "     'order': None,\n",
       "     'version_group': {'name': 'ruby-sapphire',\n",
       "      'url': 'https://pokeapi.co/api/v2/version-group/5/'}},\n",
       "    {'level_learned_at': 0,\n",
       "     'move_learn_method': {'name': 'machine',\n",
       "      'url': 'https://pokeapi.co/api/v2/move-learn-method/4/'},\n",
       "     'order': None,\n",
       "     'version_group': {'name': 'ruby-sapphire',\n",
       "      'url': 'https://pokeapi.co/api/v2/version-group/5/'}},\n",
       "    {'level_learned_at': 15,\n",
       "     'move_learn_method': {'name': 'level-up',\n",
       "      'url': 'https://pokeapi.co/api/v2/move-learn-method/1/'},\n",
       "     'order': None,\n",
       "     'version_group': {'name': 'emerald',\n",
       "      'url': 'https://pokeapi.co/api/v2/version-group/6/'}},\n",
       "    {'level_learned_at': 0,\n",
       "     'move_learn_method': {'name': 'machine',\n",
       "      'url': 'https://pokeapi.co/api/v2/move-learn-method/4/'},\n",
       "     'order': None,\n",
       "     'version_group': {'name': 'emerald',\n",
       "      'url': 'https://pokeapi.co/api/v2/version-group/6/'}},\n",
       "    {'level_learned_at': 15,\n",
       "     'move_learn_method': {'name': 'level-up',\n",
       "      'url': 'https://pokeapi.co/api/v2/move-learn-method/1/'},\n",
       "     'order': None,\n",
       "     'version_group': {'name': 'firered-leafgreen',\n",
       "      'url': 'https://pokeapi.co/api/v2/version-group/7/'}},\n",
       "    {'level_learned_at': 0,\n",
       "     'move_learn_method': {'name': 'machine',\n",
       "      'url': 'https://pokeapi.co/api/v2/move-learn-method/4/'},\n",
       "     'order': None,\n",
       "     'version_group': {'name': 'firered-leafgreen',\n",
       "      'url': 'https://pokeapi.co/api/v2/version-group/7/'}},\n",
       "    {'level_learned_at': 18,\n",
       "     'move_learn_method': {'name': 'level-up',\n",
       "      'url': 'https://pokeapi.co/api/v2/move-learn-method/1/'},\n",
       "     'order': None,\n",
       "     'version_group': {'name': 'diamond-pearl',\n",
       "      'url': 'https://pokeapi.co/api/v2/version-group/8/'}},\n",
       "    {'level_learned_at': 0,\n",
       "     'move_learn_method': {'name': 'machine',\n",
       "      'url': 'https://pokeapi.co/api/v2/move-learn-method/4/'},\n",
       "     'order': None,\n",
       "     'version_group': {'name': 'diamond-pearl',\n",
       "      'url': 'https://pokeapi.co/api/v2/version-group/8/'}},\n",
       "    {'level_learned_at': 18,\n",
       "     'move_learn_method': {'name': 'level-up',\n",
       "      'url': 'https://pokeapi.co/api/v2/move-learn-method/1/'},\n",
       "     'order': None,\n",
       "     'version_group': {'name': 'platinum',\n",
       "      'url': 'https://pokeapi.co/api/v2/version-group/9/'}},\n",
       "    {'level_learned_at': 0,\n",
       "     'move_learn_method': {'name': 'machine',\n",
       "      'url': 'https://pokeapi.co/api/v2/move-learn-method/4/'},\n",
       "     'order': None,\n",
       "     'version_group': {'name': 'platinum',\n",
       "      'url': 'https://pokeapi.co/api/v2/version-group/9/'}},\n",
       "    {'level_learned_at': 18,\n",
       "     'move_learn_method': {'name': 'level-up',\n",
       "      'url': 'https://pokeapi.co/api/v2/move-learn-method/1/'},\n",
       "     'order': None,\n",
       "     'version_group': {'name': 'heartgold-soulsilver',\n",
       "      'url': 'https://pokeapi.co/api/v2/version-group/10/'}},\n",
       "    {'level_learned_at': 0,\n",
       "     'move_learn_method': {'name': 'machine',\n",
       "      'url': 'https://pokeapi.co/api/v2/move-learn-method/4/'},\n",
       "     'order': None,\n",
       "     'version_group': {'name': 'heartgold-soulsilver',\n",
       "      'url': 'https://pokeapi.co/api/v2/version-group/10/'}},\n",
       "    {'level_learned_at': 21,\n",
       "     'move_learn_method': {'name': 'level-up',\n",
       "      'url': 'https://pokeapi.co/api/v2/move-learn-method/1/'},\n",
       "     'order': None,\n",
       "     'version_group': {'name': 'black-white',\n",
       "      'url': 'https://pokeapi.co/api/v2/version-group/11/'}},\n",
       "    {'level_learned_at': 0,\n",
       "     'move_learn_method': {'name': 'machine',\n",
       "      'url': 'https://pokeapi.co/api/v2/move-learn-method/4/'},\n",
       "     'order': None,\n",
       "     'version_group': {'name': 'black-white',\n",
       "      'url': 'https://pokeapi.co/api/v2/version-group/11/'}},\n",
       "    {'level_learned_at': 15,\n",
       "     'move_learn_method': {'name': 'level-up',\n",
       "      'url': 'https://pokeapi.co/api/v2/move-learn-method/1/'},\n",
       "     'order': None,\n",
       "     'version_group': {'name': 'colosseum',\n",
       "      'url': 'https://pokeapi.co/api/v2/version-group/12/'}},\n",
       "    {'level_learned_at': 0,\n",
       "     'move_learn_method': {'name': 'machine',\n",
       "      'url': 'https://pokeapi.co/api/v2/move-learn-method/4/'},\n",
       "     'order': None,\n",
       "     'version_group': {'name': 'colosseum',\n",
       "      'url': 'https://pokeapi.co/api/v2/version-group/12/'}},\n",
       "    {'level_learned_at': 15,\n",
       "     'move_learn_method': {'name': 'level-up',\n",
       "      'url': 'https://pokeapi.co/api/v2/move-learn-method/1/'},\n",
       "     'order': None,\n",
       "     'version_group': {'name': 'xd',\n",
       "      'url': 'https://pokeapi.co/api/v2/version-group/13/'}},\n",
       "    {'level_learned_at': 0,\n",
       "     'move_learn_method': {'name': 'machine',\n",
       "      'url': 'https://pokeapi.co/api/v2/move-learn-method/4/'},\n",
       "     'order': None,\n",
       "     'version_group': {'name': 'xd',\n",
       "      'url': 'https://pokeapi.co/api/v2/version-group/13/'}},\n",
       "    {'level_learned_at': 21,\n",
       "     'move_learn_method': {'name': 'level-up',\n",
       "      'url': 'https://pokeapi.co/api/v2/move-learn-method/1/'},\n",
       "     'order': None,\n",
       "     'version_group': {'name': 'black-2-white-2',\n",
       "      'url': 'https://pokeapi.co/api/v2/version-group/14/'}},\n",
       "    {'level_learned_at': 0,\n",
       "     'move_learn_method': {'name': 'machine',\n",
       "      'url': 'https://pokeapi.co/api/v2/move-learn-method/4/'},\n",
       "     'order': None,\n",
       "     'version_group': {'name': 'black-2-white-2',\n",
       "      'url': 'https://pokeapi.co/api/v2/version-group/14/'}},\n",
       "    {'level_learned_at': 21,\n",
       "     'move_learn_method': {'name': 'level-up',\n",
       "      'url': 'https://pokeapi.co/api/v2/move-learn-method/1/'},\n",
       "     'order': None,\n",
       "     'version_group': {'name': 'x-y',\n",
       "      'url': 'https://pokeapi.co/api/v2/version-group/15/'}},\n",
       "    {'level_learned_at': 0,\n",
       "     'move_learn_method': {'name': 'machine',\n",
       "      'url': 'https://pokeapi.co/api/v2/move-learn-method/4/'},\n",
       "     'order': None,\n",
       "     'version_group': {'name': 'x-y',\n",
       "      'url': 'https://pokeapi.co/api/v2/version-group/15/'}},\n",
       "    {'level_learned_at': 23,\n",
       "     'move_learn_method': {'name': 'level-up',\n",
       "      'url': 'https://pokeapi.co/api/v2/move-learn-method/1/'},\n",
       "     'order': None,\n",
       "     'version_group': {'name': 'omega-ruby-alpha-sapphire',\n",
       "      'url': 'https://pokeapi.co/api/v2/version-group/16/'}},\n",
       "    {'level_learned_at': 0,\n",
       "     'move_learn_method': {'name': 'machine',\n",
       "      'url': 'https://pokeapi.co/api/v2/move-learn-method/4/'},\n",
       "     'order': None,\n",
       "     'version_group': {'name': 'omega-ruby-alpha-sapphire',\n",
       "      'url': 'https://pokeapi.co/api/v2/version-group/16/'}},\n",
       "    {'level_learned_at': 23,\n",
       "     'move_learn_method': {'name': 'level-up',\n",
       "      'url': 'https://pokeapi.co/api/v2/move-learn-method/1/'},\n",
       "     'order': None,\n",
       "     'version_group': {'name': 'sun-moon',\n",
       "      'url': 'https://pokeapi.co/api/v2/version-group/17/'}},\n",
       "    {'level_learned_at': 0,\n",
       "     'move_learn_method': {'name': 'machine',\n",
       "      'url': 'https://pokeapi.co/api/v2/move-learn-method/4/'},\n",
       "     'order': None,\n",
       "     'version_group': {'name': 'sun-moon',\n",
       "      'url': 'https://pokeapi.co/api/v2/version-group/17/'}},\n",
       "    {'level_learned_at': 23,\n",
       "     'move_learn_method': {'name': 'level-up',\n",
       "      'url': 'https://pokeapi.co/api/v2/move-learn-method/1/'},\n",
       "     'order': None,\n",
       "     'version_group': {'name': 'ultra-sun-ultra-moon',\n",
       "      'url': 'https://pokeapi.co/api/v2/version-group/18/'}},\n",
       "    {'level_learned_at': 0,\n",
       "     'move_learn_method': {'name': 'machine',\n",
       "      'url': 'https://pokeapi.co/api/v2/move-learn-method/4/'},\n",
       "     'order': None,\n",
       "     'version_group': {'name': 'ultra-sun-ultra-moon',\n",
       "      'url': 'https://pokeapi.co/api/v2/version-group/18/'}},\n",
       "    {'level_learned_at': 12,\n",
       "     'move_learn_method': {'name': 'level-up',\n",
       "      'url': 'https://pokeapi.co/api/v2/move-learn-method/1/'},\n",
       "     'order': None,\n",
       "     'version_group': {'name': 'lets-go-pikachu-lets-go-eevee',\n",
       "      'url': 'https://pokeapi.co/api/v2/version-group/19/'}},\n",
       "    {'level_learned_at': 8,\n",
       "     'move_learn_method': {'name': 'level-up',\n",
       "      'url': 'https://pokeapi.co/api/v2/move-learn-method/1/'},\n",
       "     'order': None,\n",
       "     'version_group': {'name': 'sword-shield',\n",
       "      'url': 'https://pokeapi.co/api/v2/version-group/20/'}},\n",
       "    {'level_learned_at': 8,\n",
       "     'move_learn_method': {'name': 'level-up',\n",
       "      'url': 'https://pokeapi.co/api/v2/move-learn-method/1/'},\n",
       "     'order': None,\n",
       "     'version_group': {'name': 'brilliant-diamond-and-shining-pearl',\n",
       "      'url': 'https://pokeapi.co/api/v2/version-group/23/'}},\n",
       "    {'level_learned_at': 0,\n",
       "     'move_learn_method': {'name': 'machine',\n",
       "      'url': 'https://pokeapi.co/api/v2/move-learn-method/4/'},\n",
       "     'order': None,\n",
       "     'version_group': {'name': 'brilliant-diamond-and-shining-pearl',\n",
       "      'url': 'https://pokeapi.co/api/v2/version-group/23/'}},\n",
       "    {'level_learned_at': 8,\n",
       "     'move_learn_method': {'name': 'level-up',\n",
       "      'url': 'https://pokeapi.co/api/v2/move-learn-method/1/'},\n",
       "     'order': None,\n",
       "     'version_group': {'name': 'scarlet-violet',\n",
       "      'url': 'https://pokeapi.co/api/v2/version-group/25/'}}]},\n",
       "  {'move': {'name': 'defense-curl',\n",
       "    'url': 'https://pokeapi.co/api/v2/move/111/'},\n",
       "   'version_group_details': [{'level_learned_at': 0,\n",
       "     'move_learn_method': {'name': 'machine',\n",
       "      'url': 'https://pokeapi.co/api/v2/move-learn-method/4/'},\n",
       "     'order': None,\n",
       "     'version_group': {'name': 'gold-silver',\n",
       "      'url': 'https://pokeapi.co/api/v2/version-group/3/'}},\n",
       "    {'level_learned_at': 0,\n",
       "     'move_learn_method': {'name': 'machine',\n",
       "      'url': 'https://pokeapi.co/api/v2/move-learn-method/4/'},\n",
       "     'order': None,\n",
       "     'version_group': {'name': 'crystal',\n",
       "      'url': 'https://pokeapi.co/api/v2/version-group/4/'}},\n",
       "    {'level_learned_at': 0,\n",
       "     'move_learn_method': {'name': 'tutor',\n",
       "      'url': 'https://pokeapi.co/api/v2/move-learn-method/3/'},\n",
       "     'order': None,\n",
       "     'version_group': {'name': 'emerald',\n",
       "      'url': 'https://pokeapi.co/api/v2/version-group/6/'}}]},\n",
       "  {'move': {'name': 'light-screen',\n",
       "    'url': 'https://pokeapi.co/api/v2/move/113/'},\n",
       "   'version_group_details': [{'level_learned_at': 50,\n",
       "     'move_learn_method': {'name': 'level-up',\n",
       "      'url': 'https://pokeapi.co/api/v2/move-learn-method/1/'},\n",
       "     'order': None,\n",
       "     'version_group': {'name': 'yellow',\n",
       "      'url': 'https://pokeapi.co/api/v2/version-group/2/'}},\n",
       "    {'level_learned_at': 50,\n",
       "     'move_learn_method': {'name': 'level-up',\n",
       "      'url': 'https://pokeapi.co/api/v2/move-learn-method/1/'},\n",
       "     'order': None,\n",
       "     'version_group': {'name': 'gold-silver',\n",
       "      'url': 'https://pokeapi.co/api/v2/version-group/3/'}},\n",
       "    {'level_learned_at': 50,\n",
       "     'move_learn_method': {'name': 'level-up',\n",
       "      'url': 'https://pokeapi.co/api/v2/move-learn-method/1/'},\n",
       "     'order': None,\n",
       "     'version_group': {'name': 'crystal',\n",
       "      'url': 'https://pokeapi.co/api/v2/version-group/4/'}},\n",
       "    {'level_learned_at': 50,\n",
       "     'move_learn_method': {'name': 'level-up',\n",
       "      'url': 'https://pokeapi.co/api/v2/move-learn-method/1/'},\n",
       "     'order': None,\n",
       "     'version_group': {'name': 'ruby-sapphire',\n",
       "      'url': 'https://pokeapi.co/api/v2/version-group/5/'}},\n",
       "    {'level_learned_at': 0,\n",
       "     'move_learn_method': {'name': 'machine',\n",
       "      'url': 'https://pokeapi.co/api/v2/move-learn-method/4/'},\n",
       "     'order': None,\n",
       "     'version_group': {'name': 'ruby-sapphire',\n",
       "      'url': 'https://pokeapi.co/api/v2/version-group/5/'}},\n",
       "    {'level_learned_at': 50,\n",
       "     'move_learn_method': {'name': 'level-up',\n",
       "      'url': 'https://pokeapi.co/api/v2/move-learn-method/1/'},\n",
       "     'order': None,\n",
       "     'version_group': {'name': 'emerald',\n",
       "      'url': 'https://pokeapi.co/api/v2/version-group/6/'}},\n",
       "    {'level_learned_at': 0,\n",
       "     'move_learn_method': {'name': 'machine',\n",
       "      'url': 'https://pokeapi.co/api/v2/move-learn-method/4/'},\n",
       "     'order': None,\n",
       "     'version_group': {'name': 'emerald',\n",
       "      'url': 'https://pokeapi.co/api/v2/version-group/6/'}},\n",
       "    {'level_learned_at': 50,\n",
       "     'move_learn_method': {'name': 'level-up',\n",
       "      'url': 'https://pokeapi.co/api/v2/move-learn-method/1/'},\n",
       "     'order': None,\n",
       "     'version_group': {'name': 'firered-leafgreen',\n",
       "      'url': 'https://pokeapi.co/api/v2/version-group/7/'}},\n",
       "    {'level_learned_at': 0,\n",
       "     'move_learn_method': {'name': 'machine',\n",
       "      'url': 'https://pokeapi.co/api/v2/move-learn-method/4/'},\n",
       "     'order': None,\n",
       "     'version_group': {'name': 'firered-leafgreen',\n",
       "      'url': 'https://pokeapi.co/api/v2/version-group/7/'}},\n",
       "    {'level_learned_at': 42,\n",
       "     'move_learn_method': {'name': 'level-up',\n",
       "      'url': 'https://pokeapi.co/api/v2/move-learn-method/1/'},\n",
       "     'order': None,\n",
       "     'version_group': {'name': 'diamond-pearl',\n",
       "      'url': 'https://pokeapi.co/api/v2/version-group/8/'}},\n",
       "    {'level_learned_at': 0,\n",
       "     'move_learn_method': {'name': 'machine',\n",
       "      'url': 'https://pokeapi.co/api/v2/move-learn-method/4/'},\n",
       "     'order': None,\n",
       "     'version_group': {'name': 'diamond-pearl',\n",
       "      'url': 'https://pokeapi.co/api/v2/version-group/8/'}},\n",
       "    {'level_learned_at': 42,\n",
       "     'move_learn_method': {'name': 'level-up',\n",
       "      'url': 'https://pokeapi.co/api/v2/move-learn-method/1/'},\n",
       "     'order': None,\n",
       "     'version_group': {'name': 'platinum',\n",
       "      'url': 'https://pokeapi.co/api/v2/version-group/9/'}},\n",
       "    {'level_learned_at': 0,\n",
       "     'move_learn_method': {'name': 'machine',\n",
       "      'url': 'https://pokeapi.co/api/v2/move-learn-method/4/'},\n",
       "     'order': None,\n",
       "     'version_group': {'name': 'platinum',\n",
       "      'url': 'https://pokeapi.co/api/v2/version-group/9/'}},\n",
       "    {'level_learned_at': 42,\n",
       "     'move_learn_method': {'name': 'level-up',\n",
       "      'url': 'https://pokeapi.co/api/v2/move-learn-method/1/'},\n",
       "     'order': None,\n",
       "     'version_group': {'name': 'heartgold-soulsilver',\n",
       "      'url': 'https://pokeapi.co/api/v2/version-group/10/'}},\n",
       "    {'level_learned_at': 0,\n",
       "     'move_learn_method': {'name': 'machine',\n",
       "      'url': 'https://pokeapi.co/api/v2/move-learn-method/4/'},\n",
       "     'order': None,\n",
       "     'version_group': {'name': 'heartgold-soulsilver',\n",
       "      'url': 'https://pokeapi.co/api/v2/version-group/10/'}},\n",
       "    {'level_learned_at': 45,\n",
       "     'move_learn_method': {'name': 'level-up',\n",
       "      'url': 'https://pokeapi.co/api/v2/move-learn-method/1/'},\n",
       "     'order': None,\n",
       "     'version_group': {'name': 'black-white',\n",
       "      'url': 'https://pokeapi.co/api/v2/version-group/11/'}},\n",
       "    {'level_learned_at': 0,\n",
       "     'move_learn_method': {'name': 'machine',\n",
       "      'url': 'https://pokeapi.co/api/v2/move-learn-method/4/'},\n",
       "     'order': None,\n",
       "     'version_group': {'name': 'black-white',\n",
       "      'url': 'https://pokeapi.co/api/v2/version-group/11/'}},\n",
       "    {'level_learned_at': 50,\n",
       "     'move_learn_method': {'name': 'level-up',\n",
       "      'url': 'https://pokeapi.co/api/v2/move-learn-method/1/'},\n",
       "     'order': None,\n",
       "     'version_group': {'name': 'colosseum',\n",
       "      'url': 'https://pokeapi.co/api/v2/version-group/12/'}},\n",
       "    {'level_learned_at': 0,\n",
       "     'move_learn_method': {'name': 'machine',\n",
       "      'url': 'https://pokeapi.co/api/v2/move-learn-method/4/'},\n",
       "     'order': None,\n",
       "     'version_group': {'name': 'colosseum',\n",
       "      'url': 'https://pokeapi.co/api/v2/version-group/12/'}},\n",
       "    {'level_learned_at': 50,\n",
       "     'move_learn_method': {'name': 'level-up',\n",
       "      'url': 'https://pokeapi.co/api/v2/move-learn-method/1/'},\n",
       "     'order': None,\n",
       "     'version_group': {'name': 'xd',\n",
       "      'url': 'https://pokeapi.co/api/v2/version-group/13/'}},\n",
       "    {'level_learned_at': 0,\n",
       "     'move_learn_method': {'name': 'machine',\n",
       "      'url': 'https://pokeapi.co/api/v2/move-learn-method/4/'},\n",
       "     'order': None,\n",
       "     'version_group': {'name': 'xd',\n",
       "      'url': 'https://pokeapi.co/api/v2/version-group/13/'}},\n",
       "    {'level_learned_at': 45,\n",
       "     'move_learn_method': {'name': 'level-up',\n",
       "      'url': 'https://pokeapi.co/api/v2/move-learn-method/1/'},\n",
       "     'order': None,\n",
       "     'version_group': {'name': 'black-2-white-2',\n",
       "      'url': 'https://pokeapi.co/api/v2/version-group/14/'}},\n",
       "    {'level_learned_at': 0,\n",
       "     'move_learn_method': {'name': 'machine',\n",
       "      'url': 'https://pokeapi.co/api/v2/move-learn-method/4/'},\n",
       "     'order': None,\n",
       "     'version_group': {'name': 'black-2-white-2',\n",
       "      'url': 'https://pokeapi.co/api/v2/version-group/14/'}},\n",
       "    {'level_learned_at': 45,\n",
       "     'move_learn_method': {'name': 'level-up',\n",
       "      'url': 'https://pokeapi.co/api/v2/move-learn-method/1/'},\n",
       "     'order': None,\n",
       "     'version_group': {'name': 'x-y',\n",
       "      'url': 'https://pokeapi.co/api/v2/version-group/15/'}},\n",
       "    {'level_learned_at': 0,\n",
       "     'move_learn_method': {'name': 'machine',\n",
       "      'url': 'https://pokeapi.co/api/v2/move-learn-method/4/'},\n",
       "     'order': None,\n",
       "     'version_group': {'name': 'x-y',\n",
       "      'url': 'https://pokeapi.co/api/v2/version-group/15/'}},\n",
       "    {'level_learned_at': 53,\n",
       "     'move_learn_method': {'name': 'level-up',\n",
       "      'url': 'https://pokeapi.co/api/v2/move-learn-method/1/'},\n",
       "     'order': None,\n",
       "     'version_group': {'name': 'omega-ruby-alpha-sapphire',\n",
       "      'url': 'https://pokeapi.co/api/v2/version-group/16/'}},\n",
       "    {'level_learned_at': 0,\n",
       "     'move_learn_method': {'name': 'machine',\n",
       "      'url': 'https://pokeapi.co/api/v2/move-learn-method/4/'},\n",
       "     'order': None,\n",
       "     'version_group': {'name': 'omega-ruby-alpha-sapphire',\n",
       "      'url': 'https://pokeapi.co/api/v2/version-group/16/'}},\n",
       "    {'level_learned_at': 53,\n",
       "     'move_learn_method': {'name': 'level-up',\n",
       "      'url': 'https://pokeapi.co/api/v2/move-learn-method/1/'},\n",
       "     'order': None,\n",
       "     'version_group': {'name': 'sun-moon',\n",
       "      'url': 'https://pokeapi.co/api/v2/version-group/17/'}},\n",
       "    {'level_learned_at': 0,\n",
       "     'move_learn_method': {'name': 'machine',\n",
       "      'url': 'https://pokeapi.co/api/v2/move-learn-method/4/'},\n",
       "     'order': None,\n",
       "     'version_group': {'name': 'sun-moon',\n",
       "      'url': 'https://pokeapi.co/api/v2/version-group/17/'}},\n",
       "    {'level_learned_at': 53,\n",
       "     'move_learn_method': {'name': 'level-up',\n",
       "      'url': 'https://pokeapi.co/api/v2/move-learn-method/1/'},\n",
       "     'order': None,\n",
       "     'version_group': {'name': 'ultra-sun-ultra-moon',\n",
       "      'url': 'https://pokeapi.co/api/v2/version-group/18/'}},\n",
       "    {'level_learned_at': 0,\n",
       "     'move_learn_method': {'name': 'machine',\n",
       "      'url': 'https://pokeapi.co/api/v2/move-learn-method/4/'},\n",
       "     'order': None,\n",
       "     'version_group': {'name': 'ultra-sun-ultra-moon',\n",
       "      'url': 'https://pokeapi.co/api/v2/version-group/18/'}},\n",
       "    {'level_learned_at': 18,\n",
       "     'move_learn_method': {'name': 'level-up',\n",
       "      'url': 'https://pokeapi.co/api/v2/move-learn-method/1/'},\n",
       "     'order': None,\n",
       "     'version_group': {'name': 'lets-go-pikachu-lets-go-eevee',\n",
       "      'url': 'https://pokeapi.co/api/v2/version-group/19/'}},\n",
       "    {'level_learned_at': 0,\n",
       "     'move_learn_method': {'name': 'machine',\n",
       "      'url': 'https://pokeapi.co/api/v2/move-learn-method/4/'},\n",
       "     'order': None,\n",
       "     'version_group': {'name': 'lets-go-pikachu-lets-go-eevee',\n",
       "      'url': 'https://pokeapi.co/api/v2/version-group/19/'}},\n",
       "    {'level_learned_at': 40,\n",
       "     'move_learn_method': {'name': 'level-up',\n",
       "      'url': 'https://pokeapi.co/api/v2/move-learn-method/1/'},\n",
       "     'order': None,\n",
       "     'version_group': {'name': 'sword-shield',\n",
       "      'url': 'https://pokeapi.co/api/v2/version-group/20/'}},\n",
       "    {'level_learned_at': 0,\n",
       "     'move_learn_method': {'name': 'machine',\n",
       "      'url': 'https://pokeapi.co/api/v2/move-learn-method/4/'},\n",
       "     'order': None,\n",
       "     'version_group': {'name': 'sword-shield',\n",
       "      'url': 'https://pokeapi.co/api/v2/version-group/20/'}},\n",
       "    {'level_learned_at': 40,\n",
       "     'move_learn_method': {'name': 'level-up',\n",
       "      'url': 'https://pokeapi.co/api/v2/move-learn-method/1/'},\n",
       "     'order': None,\n",
       "     'version_group': {'name': 'brilliant-diamond-and-shining-pearl',\n",
       "      'url': 'https://pokeapi.co/api/v2/version-group/23/'}},\n",
       "    {'level_learned_at': 0,\n",
       "     'move_learn_method': {'name': 'machine',\n",
       "      'url': 'https://pokeapi.co/api/v2/move-learn-method/4/'},\n",
       "     'order': None,\n",
       "     'version_group': {'name': 'brilliant-diamond-and-shining-pearl',\n",
       "      'url': 'https://pokeapi.co/api/v2/version-group/23/'}},\n",
       "    {'level_learned_at': 40,\n",
       "     'move_learn_method': {'name': 'level-up',\n",
       "      'url': 'https://pokeapi.co/api/v2/move-learn-method/1/'},\n",
       "     'order': None,\n",
       "     'version_group': {'name': 'scarlet-violet',\n",
       "      'url': 'https://pokeapi.co/api/v2/version-group/25/'}},\n",
       "    {'level_learned_at': 0,\n",
       "     'move_learn_method': {'name': 'machine',\n",
       "      'url': 'https://pokeapi.co/api/v2/move-learn-method/4/'},\n",
       "     'order': None,\n",
       "     'version_group': {'name': 'scarlet-violet',\n",
       "      'url': 'https://pokeapi.co/api/v2/version-group/25/'}}]},\n",
       "  {'move': {'name': 'reflect', 'url': 'https://pokeapi.co/api/v2/move/115/'},\n",
       "   'version_group_details': [{'level_learned_at': 0,\n",
       "     'move_learn_method': {'name': 'machine',\n",
       "      'url': 'https://pokeapi.co/api/v2/move-learn-method/4/'},\n",
       "     'order': None,\n",
       "     'version_group': {'name': 'red-blue',\n",
       "      'url': 'https://pokeapi.co/api/v2/version-group/1/'}},\n",
       "    {'level_learned_at': 0,\n",
       "     'move_learn_method': {'name': 'machine',\n",
       "      'url': 'https://pokeapi.co/api/v2/move-learn-method/4/'},\n",
       "     'order': None,\n",
       "     'version_group': {'name': 'yellow',\n",
       "      'url': 'https://pokeapi.co/api/v2/version-group/2/'}},\n",
       "    {'level_learned_at': 0,\n",
       "     'move_learn_method': {'name': 'machine',\n",
       "      'url': 'https://pokeapi.co/api/v2/move-learn-method/4/'},\n",
       "     'order': None,\n",
       "     'version_group': {'name': 'lets-go-pikachu-lets-go-eevee',\n",
       "      'url': 'https://pokeapi.co/api/v2/version-group/19/'}},\n",
       "    {'level_learned_at': 0,\n",
       "     'move_learn_method': {'name': 'machine',\n",
       "      'url': 'https://pokeapi.co/api/v2/move-learn-method/4/'},\n",
       "     'order': None,\n",
       "     'version_group': {'name': 'sword-shield',\n",
       "      'url': 'https://pokeapi.co/api/v2/version-group/20/'}},\n",
       "    {'level_learned_at': 0,\n",
       "     'move_learn_method': {'name': 'machine',\n",
       "      'url': 'https://pokeapi.co/api/v2/move-learn-method/4/'},\n",
       "     'order': None,\n",
       "     'version_group': {'name': 'brilliant-diamond-and-shining-pearl',\n",
       "      'url': 'https://pokeapi.co/api/v2/version-group/23/'}},\n",
       "    {'level_learned_at': 0,\n",
       "     'move_learn_method': {'name': 'machine',\n",
       "      'url': 'https://pokeapi.co/api/v2/move-learn-method/4/'},\n",
       "     'order': None,\n",
       "     'version_group': {'name': 'scarlet-violet',\n",
       "      'url': 'https://pokeapi.co/api/v2/version-group/25/'}}]},\n",
       "  {'move': {'name': 'bide', 'url': 'https://pokeapi.co/api/v2/move/117/'},\n",
       "   'version_group_details': [{'level_learned_at': 0,\n",
       "     'move_learn_method': {'name': 'machine',\n",
       "      'url': 'https://pokeapi.co/api/v2/move-learn-method/4/'},\n",
       "     'order': None,\n",
       "     'version_group': {'name': 'red-blue',\n",
       "      'url': 'https://pokeapi.co/api/v2/version-group/1/'}},\n",
       "    {'level_learned_at': 0,\n",
       "     'move_learn_method': {'name': 'machine',\n",
       "      'url': 'https://pokeapi.co/api/v2/move-learn-method/4/'},\n",
       "     'order': None,\n",
       "     'version_group': {'name': 'yellow',\n",
       "      'url': 'https://pokeapi.co/api/v2/version-group/2/'}}]},\n",
       "  {'move': {'name': 'swift', 'url': 'https://pokeapi.co/api/v2/move/129/'},\n",
       "   'version_group_details': [{'level_learned_at': 26,\n",
       "     'move_learn_method': {'name': 'level-up',\n",
       "      'url': 'https://pokeapi.co/api/v2/move-learn-method/1/'},\n",
       "     'order': None,\n",
       "     'version_group': {'name': 'red-blue',\n",
       "      'url': 'https://pokeapi.co/api/v2/version-group/1/'}},\n",
       "    {'level_learned_at': 0,\n",
       "     'move_learn_method': {'name': 'machine',\n",
       "      'url': 'https://pokeapi.co/api/v2/move-learn-method/4/'},\n",
       "     'order': None,\n",
       "     'version_group': {'name': 'red-blue',\n",
       "      'url': 'https://pokeapi.co/api/v2/version-group/1/'}},\n",
       "    {'level_learned_at': 0,\n",
       "     'move_learn_method': {'name': 'machine',\n",
       "      'url': 'https://pokeapi.co/api/v2/move-learn-method/4/'},\n",
       "     'order': None,\n",
       "     'version_group': {'name': 'yellow',\n",
       "      'url': 'https://pokeapi.co/api/v2/version-group/2/'}},\n",
       "    {'level_learned_at': 0,\n",
       "     'move_learn_method': {'name': 'machine',\n",
       "      'url': 'https://pokeapi.co/api/v2/move-learn-method/4/'},\n",
       "     'order': None,\n",
       "     'version_group': {'name': 'gold-silver',\n",
       "      'url': 'https://pokeapi.co/api/v2/version-group/3/'}},\n",
       "    {'level_learned_at': 0,\n",
       "     'move_learn_method': {'name': 'machine',\n",
       "      'url': 'https://pokeapi.co/api/v2/move-learn-method/4/'},\n",
       "     'order': None,\n",
       "     'version_group': {'name': 'crystal',\n",
       "      'url': 'https://pokeapi.co/api/v2/version-group/4/'}},\n",
       "    {'level_learned_at': 0,\n",
       "     'move_learn_method': {'name': 'tutor',\n",
       "      'url': 'https://pokeapi.co/api/v2/move-learn-method/3/'},\n",
       "     'order': None,\n",
       "     'version_group': {'name': 'emerald',\n",
       "      'url': 'https://pokeapi.co/api/v2/version-group/6/'}},\n",
       "    {'level_learned_at': 0,\n",
       "     'move_learn_method': {'name': 'tutor',\n",
       "      'url': 'https://pokeapi.co/api/v2/move-learn-method/3/'},\n",
       "     'order': None,\n",
       "     'version_group': {'name': 'platinum',\n",
       "      'url': 'https://pokeapi.co/api/v2/version-group/9/'}},\n",
       "    {'level_learned_at': 0,\n",
       "     'move_learn_method': {'name': 'tutor',\n",
       "      'url': 'https://pokeapi.co/api/v2/move-learn-method/3/'},\n",
       "     'order': None,\n",
       "     'version_group': {'name': 'heartgold-soulsilver',\n",
       "      'url': 'https://pokeapi.co/api/v2/version-group/10/'}},\n",
       "    {'level_learned_at': 0,\n",
       "     'move_learn_method': {'name': 'machine',\n",
       "      'url': 'https://pokeapi.co/api/v2/move-learn-method/4/'},\n",
       "     'order': None,\n",
       "     'version_group': {'name': 'sword-shield',\n",
       "      'url': 'https://pokeapi.co/api/v2/version-group/20/'}},\n",
       "    {'level_learned_at': 15,\n",
       "     'move_learn_method': {'name': 'level-up',\n",
       "      'url': 'https://pokeapi.co/api/v2/move-learn-method/1/'},\n",
       "     'order': None,\n",
       "     'version_group': {'name': 'legends-arceus',\n",
       "      'url': 'https://pokeapi.co/api/v2/version-group/24/'}},\n",
       "    {'level_learned_at': 0,\n",
       "     'move_learn_method': {'name': 'machine',\n",
       "      'url': 'https://pokeapi.co/api/v2/move-learn-method/4/'},\n",
       "     'order': None,\n",
       "     'version_group': {'name': 'scarlet-violet',\n",
       "      'url': 'https://pokeapi.co/api/v2/version-group/25/'}}]},\n",
       "  {'move': {'name': 'skull-bash',\n",
       "    'url': 'https://pokeapi.co/api/v2/move/130/'},\n",
       "   'version_group_details': [{'level_learned_at': 0,\n",
       "     'move_learn_method': {'name': 'machine',\n",
       "      'url': 'https://pokeapi.co/api/v2/move-learn-method/4/'},\n",
       "     'order': None,\n",
       "     'version_group': {'name': 'red-blue',\n",
       "      'url': 'https://pokeapi.co/api/v2/version-group/1/'}},\n",
       "    {'level_learned_at': 0,\n",
       "     'move_learn_method': {'name': 'machine',\n",
       "      'url': 'https://pokeapi.co/api/v2/move-learn-method/4/'},\n",
       "     'order': None,\n",
       "     'version_group': {'name': 'yellow',\n",
       "      'url': 'https://pokeapi.co/api/v2/version-group/2/'}}]},\n",
       "  {'move': {'name': 'flash', 'url': 'https://pokeapi.co/api/v2/move/148/'},\n",
       "   'version_group_details': [{'level_learned_at': 0,\n",
       "     'move_learn_method': {'name': 'machine',\n",
       "      'url': 'https://pokeapi.co/api/v2/move-learn-method/4/'},\n",
       "     'order': None,\n",
       "     'version_group': {'name': 'red-blue',\n",
       "      'url': 'https://pokeapi.co/api/v2/version-group/1/'}},\n",
       "    {'level_learned_at': 0,\n",
       "     'move_learn_method': {'name': 'machine',\n",
       "      'url': 'https://pokeapi.co/api/v2/move-learn-method/4/'},\n",
       "     'order': None,\n",
       "     'version_group': {'name': 'yellow',\n",
       "      'url': 'https://pokeapi.co/api/v2/version-group/2/'}},\n",
       "    {'level_learned_at': 0,\n",
       "     'move_learn_method': {'name': 'machine',\n",
       "      'url': 'https://pokeapi.co/api/v2/move-learn-method/4/'},\n",
       "     'order': None,\n",
       "     'version_group': {'name': 'gold-silver',\n",
       "      'url': 'https://pokeapi.co/api/v2/version-group/3/'}},\n",
       "    {'level_learned_at': 0,\n",
       "     'move_learn_method': {'name': 'machine',\n",
       "      'url': 'https://pokeapi.co/api/v2/move-learn-method/4/'},\n",
       "     'order': None,\n",
       "     'version_group': {'name': 'crystal',\n",
       "      'url': 'https://pokeapi.co/api/v2/version-group/4/'}},\n",
       "    {'level_learned_at': 0,\n",
       "     'move_learn_method': {'name': 'machine',\n",
       "      'url': 'https://pokeapi.co/api/v2/move-learn-method/4/'},\n",
       "     'order': None,\n",
       "     'version_group': {'name': 'ruby-sapphire',\n",
       "      'url': 'https://pokeapi.co/api/v2/version-group/5/'}},\n",
       "    {'level_learned_at': 0,\n",
       "     'move_learn_method': {'name': 'machine',\n",
       "      'url': 'https://pokeapi.co/api/v2/move-learn-method/4/'},\n",
       "     'order': None,\n",
       "     'version_group': {'name': 'emerald',\n",
       "      'url': 'https://pokeapi.co/api/v2/version-group/6/'}},\n",
       "    {'level_learned_at': 0,\n",
       "     'move_learn_method': {'name': 'machine',\n",
       "      'url': 'https://pokeapi.co/api/v2/move-learn-method/4/'},\n",
       "     'order': None,\n",
       "     'version_group': {'name': 'firered-leafgreen',\n",
       "      'url': 'https://pokeapi.co/api/v2/version-group/7/'}},\n",
       "    {'level_learned_at': 0,\n",
       "     'move_learn_method': {'name': 'machine',\n",
       "      'url': 'https://pokeapi.co/api/v2/move-learn-method/4/'},\n",
       "     'order': None,\n",
       "     'version_group': {'name': 'diamond-pearl',\n",
       "      'url': 'https://pokeapi.co/api/v2/version-group/8/'}},\n",
       "    {'level_learned_at': 0,\n",
       "     'move_learn_method': {'name': 'machine',\n",
       "      'url': 'https://pokeapi.co/api/v2/move-learn-method/4/'},\n",
       "     'order': None,\n",
       "     'version_group': {'name': 'platinum',\n",
       "      'url': 'https://pokeapi.co/api/v2/version-group/9/'}},\n",
       "    {'level_learned_at': 0,\n",
       "     'move_learn_method': {'name': 'machine',\n",
       "      'url': 'https://pokeapi.co/api/v2/move-learn-method/4/'},\n",
       "     'order': None,\n",
       "     'version_group': {'name': 'heartgold-soulsilver',\n",
       "      'url': 'https://pokeapi.co/api/v2/version-group/10/'}},\n",
       "    {'level_learned_at': 0,\n",
       "     'move_learn_method': {'name': 'machine',\n",
       "      'url': 'https://pokeapi.co/api/v2/move-learn-method/4/'},\n",
       "     'order': None,\n",
       "     'version_group': {'name': 'black-white',\n",
       "      'url': 'https://pokeapi.co/api/v2/version-group/11/'}},\n",
       "    {'level_learned_at': 0,\n",
       "     'move_learn_method': {'name': 'machine',\n",
       "      'url': 'https://pokeapi.co/api/v2/move-learn-method/4/'},\n",
       "     'order': None,\n",
       "     'version_group': {'name': 'colosseum',\n",
       "      'url': 'https://pokeapi.co/api/v2/version-group/12/'}},\n",
       "    {'level_learned_at': 0,\n",
       "     'move_learn_method': {'name': 'machine',\n",
       "      'url': 'https://pokeapi.co/api/v2/move-learn-method/4/'},\n",
       "     'order': None,\n",
       "     'version_group': {'name': 'xd',\n",
       "      'url': 'https://pokeapi.co/api/v2/version-group/13/'}},\n",
       "    {'level_learned_at': 0,\n",
       "     'move_learn_method': {'name': 'machine',\n",
       "      'url': 'https://pokeapi.co/api/v2/move-learn-method/4/'},\n",
       "     'order': None,\n",
       "     'version_group': {'name': 'black-2-white-2',\n",
       "      'url': 'https://pokeapi.co/api/v2/version-group/14/'}},\n",
       "    {'level_learned_at': 0,\n",
       "     'move_learn_method': {'name': 'machine',\n",
       "      'url': 'https://pokeapi.co/api/v2/move-learn-method/4/'},\n",
       "     'order': None,\n",
       "     'version_group': {'name': 'x-y',\n",
       "      'url': 'https://pokeapi.co/api/v2/version-group/15/'}},\n",
       "    {'level_learned_at': 0,\n",
       "     'move_learn_method': {'name': 'machine',\n",
       "      'url': 'https://pokeapi.co/api/v2/move-learn-method/4/'},\n",
       "     'order': None,\n",
       "     'version_group': {'name': 'omega-ruby-alpha-sapphire',\n",
       "      'url': 'https://pokeapi.co/api/v2/version-group/16/'}},\n",
       "    {'level_learned_at': 0,\n",
       "     'move_learn_method': {'name': 'machine',\n",
       "      'url': 'https://pokeapi.co/api/v2/move-learn-method/4/'},\n",
       "     'order': None,\n",
       "     'version_group': {'name': 'brilliant-diamond-and-shining-pearl',\n",
       "      'url': 'https://pokeapi.co/api/v2/version-group/23/'}}]},\n",
       "  {'move': {'name': 'rest', 'url': 'https://pokeapi.co/api/v2/move/156/'},\n",
       "   'version_group_details': [{'level_learned_at': 0,\n",
       "     'move_learn_method': {'name': 'machine',\n",
       "      'url': 'https://pokeapi.co/api/v2/move-learn-method/4/'},\n",
       "     'order': None,\n",
       "     'version_group': {'name': 'red-blue',\n",
       "      'url': 'https://pokeapi.co/api/v2/version-group/1/'}},\n",
       "    {'level_learned_at': 0,\n",
       "     'move_learn_method': {'name': 'machine',\n",
       "      'url': 'https://pokeapi.co/api/v2/move-learn-method/4/'},\n",
       "     'order': None,\n",
       "     'version_group': {'name': 'yellow',\n",
       "      'url': 'https://pokeapi.co/api/v2/version-group/2/'}},\n",
       "    {'level_learned_at': 0,\n",
       "     'move_learn_method': {'name': 'machine',\n",
       "      'url': 'https://pokeapi.co/api/v2/move-learn-method/4/'},\n",
       "     'order': None,\n",
       "     'version_group': {'name': 'gold-silver',\n",
       "      'url': 'https://pokeapi.co/api/v2/version-group/3/'}},\n",
       "    {'level_learned_at': 0,\n",
       "     'move_learn_method': {'name': 'machine',\n",
       "      'url': 'https://pokeapi.co/api/v2/move-learn-method/4/'},\n",
       "     'order': None,\n",
       "     'version_group': {'name': 'crystal',\n",
       "      'url': 'https://pokeapi.co/api/v2/version-group/4/'}},\n",
       "    {'level_learned_at': 0,\n",
       "     'move_learn_method': {'name': 'machine',\n",
       "      'url': 'https://pokeapi.co/api/v2/move-learn-method/4/'},\n",
       "     'order': None,\n",
       "     'version_group': {'name': 'ruby-sapphire',\n",
       "      'url': 'https://pokeapi.co/api/v2/version-group/5/'}},\n",
       "    {'level_learned_at': 0,\n",
       "     'move_learn_method': {'name': 'machine',\n",
       "      'url': 'https://pokeapi.co/api/v2/move-learn-method/4/'},\n",
       "     'order': None,\n",
       "     'version_group': {'name': 'emerald',\n",
       "      'url': 'https://pokeapi.co/api/v2/version-group/6/'}},\n",
       "    {'level_learned_at': 0,\n",
       "     'move_learn_method': {'name': 'machine',\n",
       "      'url': 'https://pokeapi.co/api/v2/move-learn-method/4/'},\n",
       "     'order': None,\n",
       "     'version_group': {'name': 'firered-leafgreen',\n",
       "      'url': 'https://pokeapi.co/api/v2/version-group/7/'}},\n",
       "    {'level_learned_at': 0,\n",
       "     'move_learn_method': {'name': 'machine',\n",
       "      'url': 'https://pokeapi.co/api/v2/move-learn-method/4/'},\n",
       "     'order': None,\n",
       "     'version_group': {'name': 'diamond-pearl',\n",
       "      'url': 'https://pokeapi.co/api/v2/version-group/8/'}},\n",
       "    {'level_learned_at': 0,\n",
       "     'move_learn_method': {'name': 'machine',\n",
       "      'url': 'https://pokeapi.co/api/v2/move-learn-method/4/'},\n",
       "     'order': None,\n",
       "     'version_group': {'name': 'platinum',\n",
       "      'url': 'https://pokeapi.co/api/v2/version-group/9/'}},\n",
       "    {'level_learned_at': 0,\n",
       "     'move_learn_method': {'name': 'machine',\n",
       "      'url': 'https://pokeapi.co/api/v2/move-learn-method/4/'},\n",
       "     'order': None,\n",
       "     'version_group': {'name': 'heartgold-soulsilver',\n",
       "      'url': 'https://pokeapi.co/api/v2/version-group/10/'}},\n",
       "    {'level_learned_at': 0,\n",
       "     'move_learn_method': {'name': 'machine',\n",
       "      'url': 'https://pokeapi.co/api/v2/move-learn-method/4/'},\n",
       "     'order': None,\n",
       "     'version_group': {'name': 'black-white',\n",
       "      'url': 'https://pokeapi.co/api/v2/version-group/11/'}},\n",
       "    {'level_learned_at': 0,\n",
       "     'move_learn_method': {'name': 'machine',\n",
       "      'url': 'https://pokeapi.co/api/v2/move-learn-method/4/'},\n",
       "     'order': None,\n",
       "     'version_group': {'name': 'colosseum',\n",
       "      'url': 'https://pokeapi.co/api/v2/version-group/12/'}},\n",
       "    {'level_learned_at': 0,\n",
       "     'move_learn_method': {'name': 'machine',\n",
       "      'url': 'https://pokeapi.co/api/v2/move-learn-method/4/'},\n",
       "     'order': None,\n",
       "     'version_group': {'name': 'xd',\n",
       "      'url': 'https://pokeapi.co/api/v2/version-group/13/'}},\n",
       "    {'level_learned_at': 0,\n",
       "     'move_learn_method': {'name': 'machine',\n",
       "      'url': 'https://pokeapi.co/api/v2/move-learn-method/4/'},\n",
       "     'order': None,\n",
       "     'version_group': {'name': 'black-2-white-2',\n",
       "      'url': 'https://pokeapi.co/api/v2/version-group/14/'}},\n",
       "    {'level_learned_at': 0,\n",
       "     'move_learn_method': {'name': 'machine',\n",
       "      'url': 'https://pokeapi.co/api/v2/move-learn-method/4/'},\n",
       "     'order': None,\n",
       "     'version_group': {'name': 'x-y',\n",
       "      'url': 'https://pokeapi.co/api/v2/version-group/15/'}},\n",
       "    {'level_learned_at': 0,\n",
       "     'move_learn_method': {'name': 'machine',\n",
       "      'url': 'https://pokeapi.co/api/v2/move-learn-method/4/'},\n",
       "     'order': None,\n",
       "     'version_group': {'name': 'omega-ruby-alpha-sapphire',\n",
       "      'url': 'https://pokeapi.co/api/v2/version-group/16/'}},\n",
       "    {'level_learned_at': 0,\n",
       "     'move_learn_method': {'name': 'machine',\n",
       "      'url': 'https://pokeapi.co/api/v2/move-learn-method/4/'},\n",
       "     'order': None,\n",
       "     'version_group': {'name': 'sun-moon',\n",
       "      'url': 'https://pokeapi.co/api/v2/version-group/17/'}},\n",
       "    {'level_learned_at': 0,\n",
       "     'move_learn_method': {'name': 'machine',\n",
       "      'url': 'https://pokeapi.co/api/v2/move-learn-method/4/'},\n",
       "     'order': None,\n",
       "     'version_group': {'name': 'ultra-sun-ultra-moon',\n",
       "      'url': 'https://pokeapi.co/api/v2/version-group/18/'}},\n",
       "    {'level_learned_at': 0,\n",
       "     'move_learn_method': {'name': 'machine',\n",
       "      'url': 'https://pokeapi.co/api/v2/move-learn-method/4/'},\n",
       "     'order': None,\n",
       "     'version_group': {'name': 'lets-go-pikachu-lets-go-eevee',\n",
       "      'url': 'https://pokeapi.co/api/v2/version-group/19/'}},\n",
       "    {'level_learned_at': 0,\n",
       "     'move_learn_method': {'name': 'machine',\n",
       "      'url': 'https://pokeapi.co/api/v2/move-learn-method/4/'},\n",
       "     'order': None,\n",
       "     'version_group': {'name': 'sword-shield',\n",
       "      'url': 'https://pokeapi.co/api/v2/version-group/20/'}},\n",
       "    {'level_learned_at': 0,\n",
       "     'move_learn_method': {'name': 'machine',\n",
       "      'url': 'https://pokeapi.co/api/v2/move-learn-method/4/'},\n",
       "     'order': None,\n",
       "     'version_group': {'name': 'brilliant-diamond-and-shining-pearl',\n",
       "      'url': 'https://pokeapi.co/api/v2/version-group/23/'}},\n",
       "    {'level_learned_at': 0,\n",
       "     'move_learn_method': {'name': 'machine',\n",
       "      'url': 'https://pokeapi.co/api/v2/move-learn-method/4/'},\n",
       "     'order': None,\n",
       "     'version_group': {'name': 'scarlet-violet',\n",
       "      'url': 'https://pokeapi.co/api/v2/version-group/25/'}}]},\n",
       "  {'move': {'name': 'substitute',\n",
       "    'url': 'https://pokeapi.co/api/v2/move/164/'},\n",
       "   'version_group_details': [{'level_learned_at': 0,\n",
       "     'move_learn_method': {'name': 'machine',\n",
       "      'url': 'https://pokeapi.co/api/v2/move-learn-method/4/'},\n",
       "     'order': None,\n",
       "     'version_group': {'name': 'red-blue',\n",
       "      'url': 'https://pokeapi.co/api/v2/version-group/1/'}},\n",
       "    {'level_learned_at': 0,\n",
       "     'move_learn_method': {'name': 'machine',\n",
       "      'url': 'https://pokeapi.co/api/v2/move-learn-method/4/'},\n",
       "     'order': None,\n",
       "     'version_group': {'name': 'yellow',\n",
       "      'url': 'https://pokeapi.co/api/v2/version-group/2/'}},\n",
       "    {'level_learned_at': 0,\n",
       "     'move_learn_method': {'name': 'tutor',\n",
       "      'url': 'https://pokeapi.co/api/v2/move-learn-method/3/'},\n",
       "     'order': None,\n",
       "     'version_group': {'name': 'emerald',\n",
       "      'url': 'https://pokeapi.co/api/v2/version-group/6/'}},\n",
       "    {'level_learned_at': 0,\n",
       "     'move_learn_method': {'name': 'tutor',\n",
       "      'url': 'https://pokeapi.co/api/v2/move-learn-method/3/'},\n",
       "     'order': None,\n",
       "     'version_group': {'name': 'firered-leafgreen',\n",
       "      'url': 'https://pokeapi.co/api/v2/version-group/7/'}},\n",
       "    {'level_learned_at': 0,\n",
       "     'move_learn_method': {'name': 'machine',\n",
       "      'url': 'https://pokeapi.co/api/v2/move-learn-method/4/'},\n",
       "     'order': None,\n",
       "     'version_group': {'name': 'diamond-pearl',\n",
       "      'url': 'https://pokeapi.co/api/v2/version-group/8/'}},\n",
       "    {'level_learned_at': 0,\n",
       "     'move_learn_method': {'name': 'machine',\n",
       "      'url': 'https://pokeapi.co/api/v2/move-learn-method/4/'},\n",
       "     'order': None,\n",
       "     'version_group': {'name': 'platinum',\n",
       "      'url': 'https://pokeapi.co/api/v2/version-group/9/'}},\n",
       "    {'level_learned_at': 0,\n",
       "     'move_learn_method': {'name': 'machine',\n",
       "      'url': 'https://pokeapi.co/api/v2/move-learn-method/4/'},\n",
       "     'order': None,\n",
       "     'version_group': {'name': 'heartgold-soulsilver',\n",
       "      'url': 'https://pokeapi.co/api/v2/version-group/10/'}},\n",
       "    {'level_learned_at': 0,\n",
       "     'move_learn_method': {'name': 'machine',\n",
       "      'url': 'https://pokeapi.co/api/v2/move-learn-method/4/'},\n",
       "     'order': None,\n",
       "     'version_group': {'name': 'black-white',\n",
       "      'url': 'https://pokeapi.co/api/v2/version-group/11/'}},\n",
       "    {'level_learned_at': 0,\n",
       "     'move_learn_method': {'name': 'tutor',\n",
       "      'url': 'https://pokeapi.co/api/v2/move-learn-method/3/'},\n",
       "     'order': None,\n",
       "     'version_group': {'name': 'xd',\n",
       "      'url': 'https://pokeapi.co/api/v2/version-group/13/'}},\n",
       "    {'level_learned_at': 0,\n",
       "     'move_learn_method': {'name': 'machine',\n",
       "      'url': 'https://pokeapi.co/api/v2/move-learn-method/4/'},\n",
       "     'order': None,\n",
       "     'version_group': {'name': 'black-2-white-2',\n",
       "      'url': 'https://pokeapi.co/api/v2/version-group/14/'}},\n",
       "    {'level_learned_at': 0,\n",
       "     'move_learn_method': {'name': 'machine',\n",
       "      'url': 'https://pokeapi.co/api/v2/move-learn-method/4/'},\n",
       "     'order': None,\n",
       "     'version_group': {'name': 'x-y',\n",
       "      'url': 'https://pokeapi.co/api/v2/version-group/15/'}},\n",
       "    {'level_learned_at': 0,\n",
       "     'move_learn_method': {'name': 'machine',\n",
       "      'url': 'https://pokeapi.co/api/v2/move-learn-method/4/'},\n",
       "     'order': None,\n",
       "     'version_group': {'name': 'omega-ruby-alpha-sapphire',\n",
       "      'url': 'https://pokeapi.co/api/v2/version-group/16/'}},\n",
       "    {'level_learned_at': 0,\n",
       "     'move_learn_method': {'name': 'machine',\n",
       "      'url': 'https://pokeapi.co/api/v2/move-learn-method/4/'},\n",
       "     'order': None,\n",
       "     'version_group': {'name': 'sun-moon',\n",
       "      'url': 'https://pokeapi.co/api/v2/version-group/17/'}},\n",
       "    {'level_learned_at': 0,\n",
       "     'move_learn_method': {'name': 'machine',\n",
       "      'url': 'https://pokeapi.co/api/v2/move-learn-method/4/'},\n",
       "     'order': None,\n",
       "     'version_group': {'name': 'ultra-sun-ultra-moon',\n",
       "      'url': 'https://pokeapi.co/api/v2/version-group/18/'}},\n",
       "    {'level_learned_at': 0,\n",
       "     'move_learn_method': {'name': 'machine',\n",
       "      'url': 'https://pokeapi.co/api/v2/move-learn-method/4/'},\n",
       "     'order': None,\n",
       "     'version_group': {'name': 'lets-go-pikachu-lets-go-eevee',\n",
       "      'url': 'https://pokeapi.co/api/v2/version-group/19/'}},\n",
       "    {'level_learned_at': 0,\n",
       "     'move_learn_method': {'name': 'machine',\n",
       "      'url': 'https://pokeapi.co/api/v2/move-learn-method/4/'},\n",
       "     'order': None,\n",
       "     'version_group': {'name': 'sword-shield',\n",
       "      'url': 'https://pokeapi.co/api/v2/version-group/20/'}},\n",
       "    {'level_learned_at': 0,\n",
       "     'move_learn_method': {'name': 'machine',\n",
       "      'url': 'https://pokeapi.co/api/v2/move-learn-method/4/'},\n",
       "     'order': None,\n",
       "     'version_group': {'name': 'brilliant-diamond-and-shining-pearl',\n",
       "      'url': 'https://pokeapi.co/api/v2/version-group/23/'}},\n",
       "    {'level_learned_at': 0,\n",
       "     'move_learn_method': {'name': 'machine',\n",
       "      'url': 'https://pokeapi.co/api/v2/move-learn-method/4/'},\n",
       "     'order': None,\n",
       "     'version_group': {'name': 'scarlet-violet',\n",
       "      'url': 'https://pokeapi.co/api/v2/version-group/25/'}}]},\n",
       "  {'move': {'name': 'thief', 'url': 'https://pokeapi.co/api/v2/move/168/'},\n",
       "   'version_group_details': [{'level_learned_at': 0,\n",
       "     'move_learn_method': {'name': 'machine',\n",
       "      'url': 'https://pokeapi.co/api/v2/move-learn-method/4/'},\n",
       "     'order': None,\n",
       "     'version_group': {'name': 'sword-shield',\n",
       "      'url': 'https://pokeapi.co/api/v2/version-group/20/'}},\n",
       "    {'level_learned_at': 0,\n",
       "     'move_learn_method': {'name': 'machine',\n",
       "      'url': 'https://pokeapi.co/api/v2/move-learn-method/4/'},\n",
       "     'order': None,\n",
       "     'version_group': {'name': 'brilliant-diamond-and-shining-pearl',\n",
       "      'url': 'https://pokeapi.co/api/v2/version-group/23/'}},\n",
       "    {'level_learned_at': 0,\n",
       "     'move_learn_method': {'name': 'machine',\n",
       "      'url': 'https://pokeapi.co/api/v2/move-learn-method/4/'},\n",
       "     'order': None,\n",
       "     'version_group': {'name': 'scarlet-violet',\n",
       "      'url': 'https://pokeapi.co/api/v2/version-group/25/'}}]},\n",
       "  {'move': {'name': 'snore', 'url': 'https://pokeapi.co/api/v2/move/173/'},\n",
       "   'version_group_details': [{'level_learned_at': 0,\n",
       "     'move_learn_method': {'name': 'machine',\n",
       "      'url': 'https://pokeapi.co/api/v2/move-learn-method/4/'},\n",
       "     'order': None,\n",
       "     'version_group': {'name': 'gold-silver',\n",
       "      'url': 'https://pokeapi.co/api/v2/version-group/3/'}},\n",
       "    {'level_learned_at': 0,\n",
       "     'move_learn_method': {'name': 'machine',\n",
       "      'url': 'https://pokeapi.co/api/v2/move-learn-method/4/'},\n",
       "     'order': None,\n",
       "     'version_group': {'name': 'crystal',\n",
       "      'url': 'https://pokeapi.co/api/v2/version-group/4/'}},\n",
       "    {'level_learned_at': 0,\n",
       "     'move_learn_method': {'name': 'tutor',\n",
       "      'url': 'https://pokeapi.co/api/v2/move-learn-method/3/'},\n",
       "     'order': None,\n",
       "     'version_group': {'name': 'emerald',\n",
       "      'url': 'https://pokeapi.co/api/v2/version-group/6/'}},\n",
       "    {'level_learned_at': 0,\n",
       "     'move_learn_method': {'name': 'tutor',\n",
       "      'url': 'https://pokeapi.co/api/v2/move-learn-method/3/'},\n",
       "     'order': None,\n",
       "     'version_group': {'name': 'platinum',\n",
       "      'url': 'https://pokeapi.co/api/v2/version-group/9/'}},\n",
       "    {'level_learned_at': 0,\n",
       "     'move_learn_method': {'name': 'tutor',\n",
       "      'url': 'https://pokeapi.co/api/v2/move-learn-method/3/'},\n",
       "     'order': None,\n",
       "     'version_group': {'name': 'heartgold-soulsilver',\n",
       "      'url': 'https://pokeapi.co/api/v2/version-group/10/'}},\n",
       "    {'level_learned_at': 0,\n",
       "     'move_learn_method': {'name': 'tutor',\n",
       "      'url': 'https://pokeapi.co/api/v2/move-learn-method/3/'},\n",
       "     'order': None,\n",
       "     'version_group': {'name': 'black-2-white-2',\n",
       "      'url': 'https://pokeapi.co/api/v2/version-group/14/'}},\n",
       "    {'level_learned_at': 0,\n",
       "     'move_learn_method': {'name': 'tutor',\n",
       "      'url': 'https://pokeapi.co/api/v2/move-learn-method/3/'},\n",
       "     'order': None,\n",
       "     'version_group': {'name': 'omega-ruby-alpha-sapphire',\n",
       "      'url': 'https://pokeapi.co/api/v2/version-group/16/'}},\n",
       "    {'level_learned_at': 0,\n",
       "     'move_learn_method': {'name': 'tutor',\n",
       "      'url': 'https://pokeapi.co/api/v2/move-learn-method/3/'},\n",
       "     'order': None,\n",
       "     'version_group': {'name': 'ultra-sun-ultra-moon',\n",
       "      'url': 'https://pokeapi.co/api/v2/version-group/18/'}},\n",
       "    {'level_learned_at': 0,\n",
       "     'move_learn_method': {'name': 'machine',\n",
       "      'url': 'https://pokeapi.co/api/v2/move-learn-method/4/'},\n",
       "     'order': None,\n",
       "     'version_group': {'name': 'sword-shield',\n",
       "      'url': 'https://pokeapi.co/api/v2/version-group/20/'}}]},\n",
       "  {'move': {'name': 'curse', 'url': 'https://pokeapi.co/api/v2/move/174/'},\n",
       "   'version_group_details': [{'level_learned_at': 0,\n",
       "     'move_learn_method': {'name': 'machine',\n",
       "      'url': 'https://pokeapi.co/api/v2/move-learn-method/4/'},\n",
       "     'order': None,\n",
       "     'version_group': {'name': 'gold-silver',\n",
       "      'url': 'https://pokeapi.co/api/v2/version-group/3/'}},\n",
       "    {'level_learned_at': 0,\n",
       "     'move_learn_method': {'name': 'machine',\n",
       "      'url': 'https://pokeapi.co/api/v2/move-learn-method/4/'},\n",
       "     'order': None,\n",
       "     'version_group': {'name': 'crystal',\n",
       "      'url': 'https://pokeapi.co/api/v2/version-group/4/'}}]},\n",
       "  {'move': {'name': 'reversal', 'url': 'https://pokeapi.co/api/v2/move/179/'},\n",
       "   'version_group_details': [{'level_learned_at': 0,\n",
       "     'move_learn_method': {'name': 'machine',\n",
       "      'url': 'https://pokeapi.co/api/v2/move-learn-method/4/'},\n",
       "     'order': None,\n",
       "     'version_group': {'name': 'sword-shield',\n",
       "      'url': 'https://pokeapi.co/api/v2/version-group/20/'}},\n",
       "    {'level_learned_at': 0,\n",
       "     'move_learn_method': {'name': 'machine',\n",
       "      'url': 'https://pokeapi.co/api/v2/move-learn-method/4/'},\n",
       "     'order': None,\n",
       "     'version_group': {'name': 'scarlet-violet',\n",
       "      'url': 'https://pokeapi.co/api/v2/version-group/25/'}}]},\n",
       "  {'move': {'name': 'protect', 'url': 'https://pokeapi.co/api/v2/move/182/'},\n",
       "   'version_group_details': [{'level_learned_at': 0,\n",
       "     'move_learn_method': {'name': 'machine',\n",
       "      'url': 'https://pokeapi.co/api/v2/move-learn-method/4/'},\n",
       "     'order': None,\n",
       "     'version_group': {'name': 'gold-silver',\n",
       "      'url': 'https://pokeapi.co/api/v2/version-group/3/'}},\n",
       "    {'level_learned_at': 0,\n",
       "     'move_learn_method': {'name': 'machine',\n",
       "      'url': 'https://pokeapi.co/api/v2/move-learn-method/4/'},\n",
       "     'order': None,\n",
       "     'version_group': {'name': 'crystal',\n",
       "      'url': 'https://pokeapi.co/api/v2/version-group/4/'}},\n",
       "    {'level_learned_at': 0,\n",
       "     'move_learn_method': {'name': 'machine',\n",
       "      'url': 'https://pokeapi.co/api/v2/move-learn-method/4/'},\n",
       "     'order': None,\n",
       "     'version_group': {'name': 'ruby-sapphire',\n",
       "      'url': 'https://pokeapi.co/api/v2/version-group/5/'}},\n",
       "    {'level_learned_at': 0,\n",
       "     'move_learn_method': {'name': 'machine',\n",
       "      'url': 'https://pokeapi.co/api/v2/move-learn-method/4/'},\n",
       "     'order': None,\n",
       "     'version_group': {'name': 'emerald',\n",
       "      'url': 'https://pokeapi.co/api/v2/version-group/6/'}},\n",
       "    {'level_learned_at': 0,\n",
       "     'move_learn_method': {'name': 'machine',\n",
       "      'url': 'https://pokeapi.co/api/v2/move-learn-method/4/'},\n",
       "     'order': None,\n",
       "     'version_group': {'name': 'firered-leafgreen',\n",
       "      'url': 'https://pokeapi.co/api/v2/version-group/7/'}},\n",
       "    {'level_learned_at': 0,\n",
       "     'move_learn_method': {'name': 'machine',\n",
       "      'url': 'https://pokeapi.co/api/v2/move-learn-method/4/'},\n",
       "     'order': None,\n",
       "     'version_group': {'name': 'diamond-pearl',\n",
       "      'url': 'https://pokeapi.co/api/v2/version-group/8/'}},\n",
       "    {'level_learned_at': 0,\n",
       "     'move_learn_method': {'name': 'machine',\n",
       "      'url': 'https://pokeapi.co/api/v2/move-learn-method/4/'},\n",
       "     'order': None,\n",
       "     'version_group': {'name': 'platinum',\n",
       "      'url': 'https://pokeapi.co/api/v2/version-group/9/'}},\n",
       "    {'level_learned_at': 0,\n",
       "     'move_learn_method': {'name': 'machine',\n",
       "      'url': 'https://pokeapi.co/api/v2/move-learn-method/4/'},\n",
       "     'order': None,\n",
       "     'version_group': {'name': 'heartgold-soulsilver',\n",
       "      'url': 'https://pokeapi.co/api/v2/version-group/10/'}},\n",
       "    {'level_learned_at': 0,\n",
       "     'move_learn_method': {'name': 'machine',\n",
       "      'url': 'https://pokeapi.co/api/v2/move-learn-method/4/'},\n",
       "     'order': None,\n",
       "     'version_group': {'name': 'black-white',\n",
       "      'url': 'https://pokeapi.co/api/v2/version-group/11/'}},\n",
       "    {'level_learned_at': 0,\n",
       "     'move_learn_method': {'name': 'machine',\n",
       "      'url': 'https://pokeapi.co/api/v2/move-learn-method/4/'},\n",
       "     'order': None,\n",
       "     'version_group': {'name': 'colosseum',\n",
       "      'url': 'https://pokeapi.co/api/v2/version-group/12/'}},\n",
       "    {'level_learned_at': 0,\n",
       "     'move_learn_method': {'name': 'machine',\n",
       "      'url': 'https://pokeapi.co/api/v2/move-learn-method/4/'},\n",
       "     'order': None,\n",
       "     'version_group': {'name': 'xd',\n",
       "      'url': 'https://pokeapi.co/api/v2/version-group/13/'}},\n",
       "    {'level_learned_at': 0,\n",
       "     'move_learn_method': {'name': 'machine',\n",
       "      'url': 'https://pokeapi.co/api/v2/move-learn-method/4/'},\n",
       "     'order': None,\n",
       "     'version_group': {'name': 'black-2-white-2',\n",
       "      'url': 'https://pokeapi.co/api/v2/version-group/14/'}},\n",
       "    {'level_learned_at': 0,\n",
       "     'move_learn_method': {'name': 'machine',\n",
       "      'url': 'https://pokeapi.co/api/v2/move-learn-method/4/'},\n",
       "     'order': None,\n",
       "     'version_group': {'name': 'x-y',\n",
       "      'url': 'https://pokeapi.co/api/v2/version-group/15/'}},\n",
       "    {'level_learned_at': 0,\n",
       "     'move_learn_method': {'name': 'machine',\n",
       "      'url': 'https://pokeapi.co/api/v2/move-learn-method/4/'},\n",
       "     'order': None,\n",
       "     'version_group': {'name': 'omega-ruby-alpha-sapphire',\n",
       "      'url': 'https://pokeapi.co/api/v2/version-group/16/'}},\n",
       "    {'level_learned_at': 0,\n",
       "     'move_learn_method': {'name': 'machine',\n",
       "      'url': 'https://pokeapi.co/api/v2/move-learn-method/4/'},\n",
       "     'order': None,\n",
       "     'version_group': {'name': 'sun-moon',\n",
       "      'url': 'https://pokeapi.co/api/v2/version-group/17/'}},\n",
       "    {'level_learned_at': 0,\n",
       "     'move_learn_method': {'name': 'machine',\n",
       "      'url': 'https://pokeapi.co/api/v2/move-learn-method/4/'},\n",
       "     'order': None,\n",
       "     'version_group': {'name': 'ultra-sun-ultra-moon',\n",
       "      'url': 'https://pokeapi.co/api/v2/version-group/18/'}},\n",
       "    {'level_learned_at': 0,\n",
       "     'move_learn_method': {'name': 'machine',\n",
       "      'url': 'https://pokeapi.co/api/v2/move-learn-method/4/'},\n",
       "     'order': None,\n",
       "     'version_group': {'name': 'lets-go-pikachu-lets-go-eevee',\n",
       "      'url': 'https://pokeapi.co/api/v2/version-group/19/'}},\n",
       "    {'level_learned_at': 0,\n",
       "     'move_learn_method': {'name': 'machine',\n",
       "      'url': 'https://pokeapi.co/api/v2/move-learn-method/4/'},\n",
       "     'order': None,\n",
       "     'version_group': {'name': 'sword-shield',\n",
       "      'url': 'https://pokeapi.co/api/v2/version-group/20/'}},\n",
       "    {'level_learned_at': 0,\n",
       "     'move_learn_method': {'name': 'machine',\n",
       "      'url': 'https://pokeapi.co/api/v2/move-learn-method/4/'},\n",
       "     'order': None,\n",
       "     'version_group': {'name': 'brilliant-diamond-and-shining-pearl',\n",
       "      'url': 'https://pokeapi.co/api/v2/version-group/23/'}},\n",
       "    {'level_learned_at': 0,\n",
       "     'move_learn_method': {'name': 'machine',\n",
       "      'url': 'https://pokeapi.co/api/v2/move-learn-method/4/'},\n",
       "     'order': None,\n",
       "     'version_group': {'name': 'scarlet-violet',\n",
       "      'url': 'https://pokeapi.co/api/v2/version-group/25/'}}]},\n",
       "  {'move': {'name': 'sweet-kiss',\n",
       "    'url': 'https://pokeapi.co/api/v2/move/186/'},\n",
       "   'version_group_details': [{'level_learned_at': 1,\n",
       "     'move_learn_method': {'name': 'level-up',\n",
       "      'url': 'https://pokeapi.co/api/v2/move-learn-method/1/'},\n",
       "     'order': 2,\n",
       "     'version_group': {'name': 'sword-shield',\n",
       "      'url': 'https://pokeapi.co/api/v2/version-group/20/'}},\n",
       "    {'level_learned_at': 1,\n",
       "     'move_learn_method': {'name': 'level-up',\n",
       "      'url': 'https://pokeapi.co/api/v2/move-learn-method/1/'},\n",
       "     'order': 7,\n",
       "     'version_group': {'name': 'brilliant-diamond-and-shining-pearl',\n",
       "      'url': 'https://pokeapi.co/api/v2/version-group/23/'}},\n",
       "    {'level_learned_at': 1,\n",
       "     'move_learn_method': {'name': 'level-up',\n",
       "      'url': 'https://pokeapi.co/api/v2/move-learn-method/1/'},\n",
       "     'order': 4,\n",
       "     'version_group': {'name': 'scarlet-violet',\n",
       "      'url': 'https://pokeapi.co/api/v2/version-group/25/'}}]},\n",
       "  {'move': {'name': 'mud-slap', 'url': 'https://pokeapi.co/api/v2/move/189/'},\n",
       "   'version_group_details': [{'level_learned_at': 0,\n",
       "     'move_learn_method': {'name': 'machine',\n",
       "      'url': 'https://pokeapi.co/api/v2/move-learn-method/4/'},\n",
       "     'order': None,\n",
       "     'version_group': {'name': 'gold-silver',\n",
       "      'url': 'https://pokeapi.co/api/v2/version-group/3/'}},\n",
       "    {'level_learned_at': 0,\n",
       "     'move_learn_method': {'name': 'machine',\n",
       "      'url': 'https://pokeapi.co/api/v2/move-learn-method/4/'},\n",
       "     'order': None,\n",
       "     'version_group': {'name': 'crystal',\n",
       "      'url': 'https://pokeapi.co/api/v2/version-group/4/'}},\n",
       "    {'level_learned_at': 0,\n",
       "     'move_learn_method': {'name': 'tutor',\n",
       "      'url': 'https://pokeapi.co/api/v2/move-learn-method/3/'},\n",
       "     'order': None,\n",
       "     'version_group': {'name': 'emerald',\n",
       "      'url': 'https://pokeapi.co/api/v2/version-group/6/'}},\n",
       "    {'level_learned_at': 0,\n",
       "     'move_learn_method': {'name': 'tutor',\n",
       "      'url': 'https://pokeapi.co/api/v2/move-learn-method/3/'},\n",
       "     'order': None,\n",
       "     'version_group': {'name': 'platinum',\n",
       "      'url': 'https://pokeapi.co/api/v2/version-group/9/'}},\n",
       "    {'level_learned_at': 0,\n",
       "     'move_learn_method': {'name': 'tutor',\n",
       "      'url': 'https://pokeapi.co/api/v2/move-learn-method/3/'},\n",
       "     'order': None,\n",
       "     'version_group': {'name': 'heartgold-soulsilver',\n",
       "      'url': 'https://pokeapi.co/api/v2/version-group/10/'}}]},\n",
       "  {'move': {'name': 'zap-cannon',\n",
       "    'url': 'https://pokeapi.co/api/v2/move/192/'},\n",
       "   'version_group_details': [{'level_learned_at': 0,\n",
       "     'move_learn_method': {'name': 'machine',\n",
       "      'url': 'https://pokeapi.co/api/v2/move-learn-method/4/'},\n",
       "     'order': None,\n",
       "     'version_group': {'name': 'gold-silver',\n",
       "      'url': 'https://pokeapi.co/api/v2/version-group/3/'}},\n",
       "    {'level_learned_at': 0,\n",
       "     'move_learn_method': {'name': 'machine',\n",
       "      'url': 'https://pokeapi.co/api/v2/move-learn-method/4/'},\n",
       "     'order': None,\n",
       "     'version_group': {'name': 'crystal',\n",
       "      'url': 'https://pokeapi.co/api/v2/version-group/4/'}}]},\n",
       "  {'move': {'name': 'detect', 'url': 'https://pokeapi.co/api/v2/move/197/'},\n",
       "   'version_group_details': [{'level_learned_at': 0,\n",
       "     'move_learn_method': {'name': 'machine',\n",
       "      'url': 'https://pokeapi.co/api/v2/move-learn-method/4/'},\n",
       "     'order': None,\n",
       "     'version_group': {'name': 'gold-silver',\n",
       "      'url': 'https://pokeapi.co/api/v2/version-group/3/'}},\n",
       "    {'level_learned_at': 0,\n",
       "     'move_learn_method': {'name': 'machine',\n",
       "      'url': 'https://pokeapi.co/api/v2/move-learn-method/4/'},\n",
       "     'order': None,\n",
       "     'version_group': {'name': 'crystal',\n",
       "      'url': 'https://pokeapi.co/api/v2/version-group/4/'}}]},\n",
       "  {'move': {'name': 'endure', 'url': 'https://pokeapi.co/api/v2/move/203/'},\n",
       "   'version_group_details': [{'level_learned_at': 0,\n",
       "     'move_learn_method': {'name': 'machine',\n",
       "      'url': 'https://pokeapi.co/api/v2/move-learn-method/4/'},\n",
       "     'order': None,\n",
       "     'version_group': {'name': 'gold-silver',\n",
       "      'url': 'https://pokeapi.co/api/v2/version-group/3/'}},\n",
       "    {'level_learned_at': 0,\n",
       "     'move_learn_method': {'name': 'machine',\n",
       "      'url': 'https://pokeapi.co/api/v2/move-learn-method/4/'},\n",
       "     'order': None,\n",
       "     'version_group': {'name': 'crystal',\n",
       "      'url': 'https://pokeapi.co/api/v2/version-group/4/'}},\n",
       "    {'level_learned_at': 0,\n",
       "     'move_learn_method': {'name': 'tutor',\n",
       "      'url': 'https://pokeapi.co/api/v2/move-learn-method/3/'},\n",
       "     'order': None,\n",
       "     'version_group': {'name': 'emerald',\n",
       "      'url': 'https://pokeapi.co/api/v2/version-group/6/'}},\n",
       "    {'level_learned_at': 0,\n",
       "     'move_learn_method': {'name': 'machine',\n",
       "      'url': 'https://pokeapi.co/api/v2/move-learn-method/4/'},\n",
       "     'order': None,\n",
       "     'version_group': {'name': 'diamond-pearl',\n",
       "      'url': 'https://pokeapi.co/api/v2/version-group/8/'}},\n",
       "    {'level_learned_at': 0,\n",
       "     'move_learn_method': {'name': 'machine',\n",
       "      'url': 'https://pokeapi.co/api/v2/move-learn-method/4/'},\n",
       "     'order': None,\n",
       "     'version_group': {'name': 'platinum',\n",
       "      'url': 'https://pokeapi.co/api/v2/version-group/9/'}},\n",
       "    {'level_learned_at': 0,\n",
       "     'move_learn_method': {'name': 'machine',\n",
       "      'url': 'https://pokeapi.co/api/v2/move-learn-method/4/'},\n",
       "     'order': None,\n",
       "     'version_group': {'name': 'heartgold-soulsilver',\n",
       "      'url': 'https://pokeapi.co/api/v2/version-group/10/'}},\n",
       "    {'level_learned_at': 0,\n",
       "     'move_learn_method': {'name': 'machine',\n",
       "      'url': 'https://pokeapi.co/api/v2/move-learn-method/4/'},\n",
       "     'order': None,\n",
       "     'version_group': {'name': 'sword-shield',\n",
       "      'url': 'https://pokeapi.co/api/v2/version-group/20/'}},\n",
       "    {'level_learned_at': 0,\n",
       "     'move_learn_method': {'name': 'machine',\n",
       "      'url': 'https://pokeapi.co/api/v2/move-learn-method/4/'},\n",
       "     'order': None,\n",
       "     'version_group': {'name': 'brilliant-diamond-and-shining-pearl',\n",
       "      'url': 'https://pokeapi.co/api/v2/version-group/23/'}},\n",
       "    {'level_learned_at': 0,\n",
       "     'move_learn_method': {'name': 'machine',\n",
       "      'url': 'https://pokeapi.co/api/v2/move-learn-method/4/'},\n",
       "     'order': None,\n",
       "     'version_group': {'name': 'scarlet-violet',\n",
       "      'url': 'https://pokeapi.co/api/v2/version-group/25/'}}]},\n",
       "  {'move': {'name': 'charm', 'url': 'https://pokeapi.co/api/v2/move/204/'},\n",
       "   'version_group_details': [{'level_learned_at': 1,\n",
       "     'move_learn_method': {'name': 'level-up',\n",
       "      'url': 'https://pokeapi.co/api/v2/move-learn-method/1/'},\n",
       "     'order': 5,\n",
       "     'version_group': {'name': 'sword-shield',\n",
       "      'url': 'https://pokeapi.co/api/v2/version-group/20/'}},\n",
       "    {'level_learned_at': 0,\n",
       "     'move_learn_method': {'name': 'machine',\n",
       "      'url': 'https://pokeapi.co/api/v2/move-learn-method/4/'},\n",
       "     'order': None,\n",
       "     'version_group': {'name': 'sword-shield',\n",
       "      'url': 'https://pokeapi.co/api/v2/version-group/20/'}},\n",
       "    {'level_learned_at': 1,\n",
       "     'move_learn_method': {'name': 'level-up',\n",
       "      'url': 'https://pokeapi.co/api/v2/move-learn-method/1/'},\n",
       "     'order': 1,\n",
       "     'version_group': {'name': 'brilliant-diamond-and-shining-pearl',\n",
       "      'url': 'https://pokeapi.co/api/v2/version-group/23/'}},\n",
       "    {'level_learned_at': 1,\n",
       "     'move_learn_method': {'name': 'level-up',\n",
       "      'url': 'https://pokeapi.co/api/v2/move-learn-method/1/'},\n",
       "     'order': 3,\n",
       "     'version_group': {'name': 'scarlet-violet',\n",
       "      'url': 'https://pokeapi.co/api/v2/version-group/25/'}},\n",
       "    {'level_learned_at': 0,\n",
       "     'move_learn_method': {'name': 'machine',\n",
       "      'url': 'https://pokeapi.co/api/v2/move-learn-method/4/'},\n",
       "     'order': None,\n",
       "     'version_group': {'name': 'scarlet-violet',\n",
       "      'url': 'https://pokeapi.co/api/v2/version-group/25/'}}]},\n",
       "  {'move': {'name': 'rollout', 'url': 'https://pokeapi.co/api/v2/move/205/'},\n",
       "   'version_group_details': [{'level_learned_at': 0,\n",
       "     'move_learn_method': {'name': 'machine',\n",
       "      'url': 'https://pokeapi.co/api/v2/move-learn-method/4/'},\n",
       "     'order': None,\n",
       "     'version_group': {'name': 'gold-silver',\n",
       "      'url': 'https://pokeapi.co/api/v2/version-group/3/'}},\n",
       "    {'level_learned_at': 0,\n",
       "     'move_learn_method': {'name': 'machine',\n",
       "      'url': 'https://pokeapi.co/api/v2/move-learn-method/4/'},\n",
       "     'order': None,\n",
       "     'version_group': {'name': 'crystal',\n",
       "      'url': 'https://pokeapi.co/api/v2/version-group/4/'}},\n",
       "    {'level_learned_at': 0,\n",
       "     'move_learn_method': {'name': 'tutor',\n",
       "      'url': 'https://pokeapi.co/api/v2/move-learn-method/3/'},\n",
       "     'order': None,\n",
       "     'version_group': {'name': 'emerald',\n",
       "      'url': 'https://pokeapi.co/api/v2/version-group/6/'}},\n",
       "    {'level_learned_at': 0,\n",
       "     'move_learn_method': {'name': 'tutor',\n",
       "      'url': 'https://pokeapi.co/api/v2/move-learn-method/3/'},\n",
       "     'order': None,\n",
       "     'version_group': {'name': 'platinum',\n",
       "      'url': 'https://pokeapi.co/api/v2/version-group/9/'}},\n",
       "    {'level_learned_at': 0,\n",
       "     'move_learn_method': {'name': 'tutor',\n",
       "      'url': 'https://pokeapi.co/api/v2/move-learn-method/3/'},\n",
       "     'order': None,\n",
       "     'version_group': {'name': 'heartgold-soulsilver',\n",
       "      'url': 'https://pokeapi.co/api/v2/version-group/10/'}}]},\n",
       "  {'move': {'name': 'swagger', 'url': 'https://pokeapi.co/api/v2/move/207/'},\n",
       "   'version_group_details': [{'level_learned_at': 0,\n",
       "     'move_learn_method': {'name': 'machine',\n",
       "      'url': 'https://pokeapi.co/api/v2/move-learn-method/4/'},\n",
       "     'order': None,\n",
       "     'version_group': {'name': 'gold-silver',\n",
       "      'url': 'https://pokeapi.co/api/v2/version-group/3/'}},\n",
       "    {'level_learned_at': 0,\n",
       "     'move_learn_method': {'name': 'machine',\n",
       "      'url': 'https://pokeapi.co/api/v2/move-learn-method/4/'},\n",
       "     'order': None,\n",
       "     'version_group': {'name': 'crystal',\n",
       "      'url': 'https://pokeapi.co/api/v2/version-group/4/'}},\n",
       "    {'level_learned_at': 0,\n",
       "     'move_learn_method': {'name': 'tutor',\n",
       "      'url': 'https://pokeapi.co/api/v2/move-learn-method/3/'},\n",
       "     'order': None,\n",
       "     'version_group': {'name': 'emerald',\n",
       "      'url': 'https://pokeapi.co/api/v2/version-group/6/'}},\n",
       "    {'level_learned_at': 0,\n",
       "     'move_learn_method': {'name': 'machine',\n",
       "      'url': 'https://pokeapi.co/api/v2/move-learn-method/4/'},\n",
       "     'order': None,\n",
       "     'version_group': {'name': 'diamond-pearl',\n",
       "      'url': 'https://pokeapi.co/api/v2/version-group/8/'}},\n",
       "    {'level_learned_at': 0,\n",
       "     'move_learn_method': {'name': 'machine',\n",
       "      'url': 'https://pokeapi.co/api/v2/move-learn-method/4/'},\n",
       "     'order': None,\n",
       "     'version_group': {'name': 'platinum',\n",
       "      'url': 'https://pokeapi.co/api/v2/version-group/9/'}},\n",
       "    {'level_learned_at': 0,\n",
       "     'move_learn_method': {'name': 'machine',\n",
       "      'url': 'https://pokeapi.co/api/v2/move-learn-method/4/'},\n",
       "     'order': None,\n",
       "     'version_group': {'name': 'heartgold-soulsilver',\n",
       "      'url': 'https://pokeapi.co/api/v2/version-group/10/'}},\n",
       "    {'level_learned_at': 0,\n",
       "     'move_learn_method': {'name': 'machine',\n",
       "      'url': 'https://pokeapi.co/api/v2/move-learn-method/4/'},\n",
       "     'order': None,\n",
       "     'version_group': {'name': 'black-white',\n",
       "      'url': 'https://pokeapi.co/api/v2/version-group/11/'}},\n",
       "    {'level_learned_at': 0,\n",
       "     'move_learn_method': {'name': 'tutor',\n",
       "      'url': 'https://pokeapi.co/api/v2/move-learn-method/3/'},\n",
       "     'order': None,\n",
       "     'version_group': {'name': 'xd',\n",
       "      'url': 'https://pokeapi.co/api/v2/version-group/13/'}},\n",
       "    {'level_learned_at': 0,\n",
       "     'move_learn_method': {'name': 'machine',\n",
       "      'url': 'https://pokeapi.co/api/v2/move-learn-method/4/'},\n",
       "     'order': None,\n",
       "     'version_group': {'name': 'black-2-white-2',\n",
       "      'url': 'https://pokeapi.co/api/v2/version-group/14/'}},\n",
       "    {'level_learned_at': 0,\n",
       "     'move_learn_method': {'name': 'machine',\n",
       "      'url': 'https://pokeapi.co/api/v2/move-learn-method/4/'},\n",
       "     'order': None,\n",
       "     'version_group': {'name': 'x-y',\n",
       "      'url': 'https://pokeapi.co/api/v2/version-group/15/'}},\n",
       "    {'level_learned_at': 0,\n",
       "     'move_learn_method': {'name': 'machine',\n",
       "      'url': 'https://pokeapi.co/api/v2/move-learn-method/4/'},\n",
       "     'order': None,\n",
       "     'version_group': {'name': 'omega-ruby-alpha-sapphire',\n",
       "      'url': 'https://pokeapi.co/api/v2/version-group/16/'}},\n",
       "    {'level_learned_at': 0,\n",
       "     'move_learn_method': {'name': 'machine',\n",
       "      'url': 'https://pokeapi.co/api/v2/move-learn-method/4/'},\n",
       "     'order': None,\n",
       "     'version_group': {'name': 'sun-moon',\n",
       "      'url': 'https://pokeapi.co/api/v2/version-group/17/'}},\n",
       "    {'level_learned_at': 0,\n",
       "     'move_learn_method': {'name': 'machine',\n",
       "      'url': 'https://pokeapi.co/api/v2/move-learn-method/4/'},\n",
       "     'order': None,\n",
       "     'version_group': {'name': 'ultra-sun-ultra-moon',\n",
       "      'url': 'https://pokeapi.co/api/v2/version-group/18/'}},\n",
       "    {'level_learned_at': 0,\n",
       "     'move_learn_method': {'name': 'machine',\n",
       "      'url': 'https://pokeapi.co/api/v2/move-learn-method/4/'},\n",
       "     'order': None,\n",
       "     'version_group': {'name': 'brilliant-diamond-and-shining-pearl',\n",
       "      'url': 'https://pokeapi.co/api/v2/version-group/23/'}}]},\n",
       "  {'move': {'name': 'spark', 'url': 'https://pokeapi.co/api/v2/move/209/'},\n",
       "   'version_group_details': [{'level_learned_at': 26,\n",
       "     'move_learn_method': {'name': 'level-up',\n",
       "      'url': 'https://pokeapi.co/api/v2/move-learn-method/1/'},\n",
       "     'order': None,\n",
       "     'version_group': {'name': 'omega-ruby-alpha-sapphire',\n",
       "      'url': 'https://pokeapi.co/api/v2/version-group/16/'}},\n",
       "    {'level_learned_at': 26,\n",
       "     'move_learn_method': {'name': 'level-up',\n",
       "      'url': 'https://pokeapi.co/api/v2/move-learn-method/1/'},\n",
       "     'order': None,\n",
       "     'version_group': {'name': 'sun-moon',\n",
       "      'url': 'https://pokeapi.co/api/v2/version-group/17/'}},\n",
       "    {'level_learned_at': 26,\n",
       "     'move_learn_method': {'name': 'level-up',\n",
       "      'url': 'https://pokeapi.co/api/v2/move-learn-method/1/'},\n",
       "     'order': None,\n",
       "     'version_group': {'name': 'ultra-sun-ultra-moon',\n",
       "      'url': 'https://pokeapi.co/api/v2/version-group/18/'}},\n",
       "    {'level_learned_at': 20,\n",
       "     'move_learn_method': {'name': 'level-up',\n",
       "      'url': 'https://pokeapi.co/api/v2/move-learn-method/1/'},\n",
       "     'order': None,\n",
       "     'version_group': {'name': 'sword-shield',\n",
       "      'url': 'https://pokeapi.co/api/v2/version-group/20/'}},\n",
       "    {'level_learned_at': 20,\n",
       "     'move_learn_method': {'name': 'level-up',\n",
       "      'url': 'https://pokeapi.co/api/v2/move-learn-method/1/'},\n",
       "     'order': None,\n",
       "     'version_group': {'name': 'brilliant-diamond-and-shining-pearl',\n",
       "      'url': 'https://pokeapi.co/api/v2/version-group/23/'}},\n",
       "    {'level_learned_at': 21,\n",
       "     'move_learn_method': {'name': 'level-up',\n",
       "      'url': 'https://pokeapi.co/api/v2/move-learn-method/1/'},\n",
       "     'order': None,\n",
       "     'version_group': {'name': 'legends-arceus',\n",
       "      'url': 'https://pokeapi.co/api/v2/version-group/24/'}},\n",
       "    {'level_learned_at': 20,\n",
       "     'move_learn_method': {'name': 'level-up',\n",
       "      'url': 'https://pokeapi.co/api/v2/move-learn-method/1/'},\n",
       "     'order': None,\n",
       "     'version_group': {'name': 'scarlet-violet',\n",
       "      'url': 'https://pokeapi.co/api/v2/version-group/25/'}}]},\n",
       "  {'move': {'name': 'attract', 'url': 'https://pokeapi.co/api/v2/move/213/'},\n",
       "   'version_group_details': [{'level_learned_at': 0,\n",
       "     'move_learn_method': {'name': 'machine',\n",
       "      'url': 'https://pokeapi.co/api/v2/move-learn-method/4/'},\n",
       "     'order': None,\n",
       "     'version_group': {'name': 'gold-silver',\n",
       "      'url': 'https://pokeapi.co/api/v2/version-group/3/'}},\n",
       "    {'level_learned_at': 0,\n",
       "     'move_learn_method': {'name': 'machine',\n",
       "      'url': 'https://pokeapi.co/api/v2/move-learn-method/4/'},\n",
       "     'order': None,\n",
       "     'version_group': {'name': 'crystal',\n",
       "      'url': 'https://pokeapi.co/api/v2/version-group/4/'}},\n",
       "    {'level_learned_at': 0,\n",
       "     'move_learn_method': {'name': 'machine',\n",
       "      'url': 'https://pokeapi.co/api/v2/move-learn-method/4/'},\n",
       "     'order': None,\n",
       "     'version_group': {'name': 'ruby-sapphire',\n",
       "      'url': 'https://pokeapi.co/api/v2/version-group/5/'}},\n",
       "    {'level_learned_at': 0,\n",
       "     'move_learn_method': {'name': 'machine',\n",
       "      'url': 'https://pokeapi.co/api/v2/move-learn-method/4/'},\n",
       "     'order': None,\n",
       "     'version_group': {'name': 'emerald',\n",
       "      'url': 'https://pokeapi.co/api/v2/version-group/6/'}},\n",
       "    {'level_learned_at': 0,\n",
       "     'move_learn_method': {'name': 'machine',\n",
       "      'url': 'https://pokeapi.co/api/v2/move-learn-method/4/'},\n",
       "     'order': None,\n",
       "     'version_group': {'name': 'firered-leafgreen',\n",
       "      'url': 'https://pokeapi.co/api/v2/version-group/7/'}},\n",
       "    {'level_learned_at': 0,\n",
       "     'move_learn_method': {'name': 'machine',\n",
       "      'url': 'https://pokeapi.co/api/v2/move-learn-method/4/'},\n",
       "     'order': None,\n",
       "     'version_group': {'name': 'diamond-pearl',\n",
       "      'url': 'https://pokeapi.co/api/v2/version-group/8/'}},\n",
       "    {'level_learned_at': 0,\n",
       "     'move_learn_method': {'name': 'machine',\n",
       "      'url': 'https://pokeapi.co/api/v2/move-learn-method/4/'},\n",
       "     'order': None,\n",
       "     'version_group': {'name': 'platinum',\n",
       "      'url': 'https://pokeapi.co/api/v2/version-group/9/'}},\n",
       "    {'level_learned_at': 0,\n",
       "     'move_learn_method': {'name': 'machine',\n",
       "      'url': 'https://pokeapi.co/api/v2/move-learn-method/4/'},\n",
       "     'order': None,\n",
       "     'version_group': {'name': 'heartgold-soulsilver',\n",
       "      'url': 'https://pokeapi.co/api/v2/version-group/10/'}},\n",
       "    {'level_learned_at': 0,\n",
       "     'move_learn_method': {'name': 'machine',\n",
       "      'url': 'https://pokeapi.co/api/v2/move-learn-method/4/'},\n",
       "     'order': None,\n",
       "     'version_group': {'name': 'black-white',\n",
       "      'url': 'https://pokeapi.co/api/v2/version-group/11/'}},\n",
       "    {'level_learned_at': 0,\n",
       "     'move_learn_method': {'name': 'machine',\n",
       "      'url': 'https://pokeapi.co/api/v2/move-learn-method/4/'},\n",
       "     'order': None,\n",
       "     'version_group': {'name': 'colosseum',\n",
       "      'url': 'https://pokeapi.co/api/v2/version-group/12/'}},\n",
       "    {'level_learned_at': 0,\n",
       "     'move_learn_method': {'name': 'machine',\n",
       "      'url': 'https://pokeapi.co/api/v2/move-learn-method/4/'},\n",
       "     'order': None,\n",
       "     'version_group': {'name': 'xd',\n",
       "      'url': 'https://pokeapi.co/api/v2/version-group/13/'}},\n",
       "    {'level_learned_at': 0,\n",
       "     'move_learn_method': {'name': 'machine',\n",
       "      'url': 'https://pokeapi.co/api/v2/move-learn-method/4/'},\n",
       "     'order': None,\n",
       "     'version_group': {'name': 'black-2-white-2',\n",
       "      'url': 'https://pokeapi.co/api/v2/version-group/14/'}},\n",
       "    {'level_learned_at': 0,\n",
       "     'move_learn_method': {'name': 'machine',\n",
       "      'url': 'https://pokeapi.co/api/v2/move-learn-method/4/'},\n",
       "     'order': None,\n",
       "     'version_group': {'name': 'x-y',\n",
       "      'url': 'https://pokeapi.co/api/v2/version-group/15/'}},\n",
       "    {'level_learned_at': 0,\n",
       "     'move_learn_method': {'name': 'machine',\n",
       "      'url': 'https://pokeapi.co/api/v2/move-learn-method/4/'},\n",
       "     'order': None,\n",
       "     'version_group': {'name': 'omega-ruby-alpha-sapphire',\n",
       "      'url': 'https://pokeapi.co/api/v2/version-group/16/'}},\n",
       "    {'level_learned_at': 0,\n",
       "     'move_learn_method': {'name': 'machine',\n",
       "      'url': 'https://pokeapi.co/api/v2/move-learn-method/4/'},\n",
       "     'order': None,\n",
       "     'version_group': {'name': 'sun-moon',\n",
       "      'url': 'https://pokeapi.co/api/v2/version-group/17/'}},\n",
       "    {'level_learned_at': 0,\n",
       "     'move_learn_method': {'name': 'machine',\n",
       "      'url': 'https://pokeapi.co/api/v2/move-learn-method/4/'},\n",
       "     'order': None,\n",
       "     'version_group': {'name': 'ultra-sun-ultra-moon',\n",
       "      'url': 'https://pokeapi.co/api/v2/version-group/18/'}},\n",
       "    {'level_learned_at': 0,\n",
       "     'move_learn_method': {'name': 'machine',\n",
       "      'url': 'https://pokeapi.co/api/v2/move-learn-method/4/'},\n",
       "     'order': None,\n",
       "     'version_group': {'name': 'sword-shield',\n",
       "      'url': 'https://pokeapi.co/api/v2/version-group/20/'}},\n",
       "    {'level_learned_at': 0,\n",
       "     'move_learn_method': {'name': 'machine',\n",
       "      'url': 'https://pokeapi.co/api/v2/move-learn-method/4/'},\n",
       "     'order': None,\n",
       "     'version_group': {'name': 'brilliant-diamond-and-shining-pearl',\n",
       "      'url': 'https://pokeapi.co/api/v2/version-group/23/'}}]},\n",
       "  {'move': {'name': 'sleep-talk',\n",
       "    'url': 'https://pokeapi.co/api/v2/move/214/'},\n",
       "   'version_group_details': [{'level_learned_at': 0,\n",
       "     'move_learn_method': {'name': 'machine',\n",
       "      'url': 'https://pokeapi.co/api/v2/move-learn-method/4/'},\n",
       "     'order': None,\n",
       "     'version_group': {'name': 'gold-silver',\n",
       "      'url': 'https://pokeapi.co/api/v2/version-group/3/'}},\n",
       "    {'level_learned_at': 0,\n",
       "     'move_learn_method': {'name': 'machine',\n",
       "      'url': 'https://pokeapi.co/api/v2/move-learn-method/4/'},\n",
       "     'order': None,\n",
       "     'version_group': {'name': 'crystal',\n",
       "      'url': 'https://pokeapi.co/api/v2/version-group/4/'}},\n",
       "    {'level_learned_at': 0,\n",
       "     'move_learn_method': {'name': 'tutor',\n",
       "      'url': 'https://pokeapi.co/api/v2/move-learn-method/3/'},\n",
       "     'order': None,\n",
       "     'version_group': {'name': 'emerald',\n",
       "      'url': 'https://pokeapi.co/api/v2/version-group/6/'}},\n",
       "    {'level_learned_at': 0,\n",
       "     'move_learn_method': {'name': 'machine',\n",
       "      'url': 'https://pokeapi.co/api/v2/move-learn-method/4/'},\n",
       "     'order': None,\n",
       "     'version_group': {'name': 'diamond-pearl',\n",
       "      'url': 'https://pokeapi.co/api/v2/version-group/8/'}},\n",
       "    {'level_learned_at': 0,\n",
       "     'move_learn_method': {'name': 'machine',\n",
       "      'url': 'https://pokeapi.co/api/v2/move-learn-method/4/'},\n",
       "     'order': None,\n",
       "     'version_group': {'name': 'platinum',\n",
       "      'url': 'https://pokeapi.co/api/v2/version-group/9/'}},\n",
       "    {'level_learned_at': 0,\n",
       "     'move_learn_method': {'name': 'machine',\n",
       "      'url': 'https://pokeapi.co/api/v2/move-learn-method/4/'},\n",
       "     'order': None,\n",
       "     'version_group': {'name': 'heartgold-soulsilver',\n",
       "      'url': 'https://pokeapi.co/api/v2/version-group/10/'}},\n",
       "    {'level_learned_at': 0,\n",
       "     'move_learn_method': {'name': 'tutor',\n",
       "      'url': 'https://pokeapi.co/api/v2/move-learn-method/3/'},\n",
       "     'order': None,\n",
       "     'version_group': {'name': 'black-2-white-2',\n",
       "      'url': 'https://pokeapi.co/api/v2/version-group/14/'}},\n",
       "    {'level_learned_at': 0,\n",
       "     'move_learn_method': {'name': 'machine',\n",
       "      'url': 'https://pokeapi.co/api/v2/move-learn-method/4/'},\n",
       "     'order': None,\n",
       "     'version_group': {'name': 'x-y',\n",
       "      'url': 'https://pokeapi.co/api/v2/version-group/15/'}},\n",
       "    {'level_learned_at': 0,\n",
       "     'move_learn_method': {'name': 'machine',\n",
       "      'url': 'https://pokeapi.co/api/v2/move-learn-method/4/'},\n",
       "     'order': None,\n",
       "     'version_group': {'name': 'omega-ruby-alpha-sapphire',\n",
       "      'url': 'https://pokeapi.co/api/v2/version-group/16/'}},\n",
       "    {'level_learned_at': 0,\n",
       "     'move_learn_method': {'name': 'machine',\n",
       "      'url': 'https://pokeapi.co/api/v2/move-learn-method/4/'},\n",
       "     'order': None,\n",
       "     'version_group': {'name': 'sun-moon',\n",
       "      'url': 'https://pokeapi.co/api/v2/version-group/17/'}},\n",
       "    {'level_learned_at': 0,\n",
       "     'move_learn_method': {'name': 'machine',\n",
       "      'url': 'https://pokeapi.co/api/v2/move-learn-method/4/'},\n",
       "     'order': None,\n",
       "     'version_group': {'name': 'ultra-sun-ultra-moon',\n",
       "      'url': 'https://pokeapi.co/api/v2/version-group/18/'}},\n",
       "    {'level_learned_at': 0,\n",
       "     'move_learn_method': {'name': 'machine',\n",
       "      'url': 'https://pokeapi.co/api/v2/move-learn-method/4/'},\n",
       "     'order': None,\n",
       "     'version_group': {'name': 'sword-shield',\n",
       "      'url': 'https://pokeapi.co/api/v2/version-group/20/'}},\n",
       "    {'level_learned_at': 0,\n",
       "     'move_learn_method': {'name': 'machine',\n",
       "      'url': 'https://pokeapi.co/api/v2/move-learn-method/4/'},\n",
       "     'order': None,\n",
       "     'version_group': {'name': 'brilliant-diamond-and-shining-pearl',\n",
       "      'url': 'https://pokeapi.co/api/v2/version-group/23/'}},\n",
       "    {'level_learned_at': 0,\n",
       "     'move_learn_method': {'name': 'machine',\n",
       "      'url': 'https://pokeapi.co/api/v2/move-learn-method/4/'},\n",
       "     'order': None,\n",
       "     'version_group': {'name': 'scarlet-violet',\n",
       "      'url': 'https://pokeapi.co/api/v2/version-group/25/'}}]},\n",
       "  {'move': {'name': 'return', 'url': 'https://pokeapi.co/api/v2/move/216/'},\n",
       "   'version_group_details': [{'level_learned_at': 0,\n",
       "     'move_learn_method': {'name': 'machine',\n",
       "      'url': 'https://pokeapi.co/api/v2/move-learn-method/4/'},\n",
       "     'order': None,\n",
       "     'version_group': {'name': 'gold-silver',\n",
       "      'url': 'https://pokeapi.co/api/v2/version-group/3/'}},\n",
       "    {'level_learned_at': 0,\n",
       "     'move_learn_method': {'name': 'machine',\n",
       "      'url': 'https://pokeapi.co/api/v2/move-learn-method/4/'},\n",
       "     'order': None,\n",
       "     'version_group': {'name': 'crystal',\n",
       "      'url': 'https://pokeapi.co/api/v2/version-group/4/'}},\n",
       "    {'level_learned_at': 0,\n",
       "     'move_learn_method': {'name': 'machine',\n",
       "      'url': 'https://pokeapi.co/api/v2/move-learn-method/4/'},\n",
       "     'order': None,\n",
       "     'version_group': {'name': 'ruby-sapphire',\n",
       "      'url': 'https://pokeapi.co/api/v2/version-group/5/'}},\n",
       "    {'level_learned_at': 0,\n",
       "     'move_learn_method': {'name': 'machine',\n",
       "      'url': 'https://pokeapi.co/api/v2/move-learn-method/4/'},\n",
       "     'order': None,\n",
       "     'version_group': {'name': 'emerald',\n",
       "      'url': 'https://pokeapi.co/api/v2/version-group/6/'}},\n",
       "    {'level_learned_at': 0,\n",
       "     'move_learn_method': {'name': 'machine',\n",
       "      'url': 'https://pokeapi.co/api/v2/move-learn-method/4/'},\n",
       "     'order': None,\n",
       "     'version_group': {'name': 'firered-leafgreen',\n",
       "      'url': 'https://pokeapi.co/api/v2/version-group/7/'}},\n",
       "    {'level_learned_at': 0,\n",
       "     'move_learn_method': {'name': 'machine',\n",
       "      'url': 'https://pokeapi.co/api/v2/move-learn-method/4/'},\n",
       "     'order': None,\n",
       "     'version_group': {'name': 'diamond-pearl',\n",
       "      'url': 'https://pokeapi.co/api/v2/version-group/8/'}},\n",
       "    {'level_learned_at': 0,\n",
       "     'move_learn_method': {'name': 'machine',\n",
       "      'url': 'https://pokeapi.co/api/v2/move-learn-method/4/'},\n",
       "     'order': None,\n",
       "     'version_group': {'name': 'platinum',\n",
       "      'url': 'https://pokeapi.co/api/v2/version-group/9/'}},\n",
       "    {'level_learned_at': 0,\n",
       "     'move_learn_method': {'name': 'machine',\n",
       "      'url': 'https://pokeapi.co/api/v2/move-learn-method/4/'},\n",
       "     'order': None,\n",
       "     'version_group': {'name': 'heartgold-soulsilver',\n",
       "      'url': 'https://pokeapi.co/api/v2/version-group/10/'}},\n",
       "    {'level_learned_at': 0,\n",
       "     'move_learn_method': {'name': 'machine',\n",
       "      'url': 'https://pokeapi.co/api/v2/move-learn-method/4/'},\n",
       "     'order': None,\n",
       "     'version_group': {'name': 'black-white',\n",
       "      'url': 'https://pokeapi.co/api/v2/version-group/11/'}},\n",
       "    {'level_learned_at': 0,\n",
       "     'move_learn_method': {'name': 'machine',\n",
       "      'url': 'https://pokeapi.co/api/v2/move-learn-method/4/'},\n",
       "     'order': None,\n",
       "     'version_group': {'name': 'colosseum',\n",
       "      'url': 'https://pokeapi.co/api/v2/version-group/12/'}},\n",
       "    {'level_learned_at': 0,\n",
       "     'move_learn_method': {'name': 'machine',\n",
       "      'url': 'https://pokeapi.co/api/v2/move-learn-method/4/'},\n",
       "     'order': None,\n",
       "     'version_group': {'name': 'xd',\n",
       "      'url': 'https://pokeapi.co/api/v2/version-group/13/'}},\n",
       "    {'level_learned_at': 0,\n",
       "     'move_learn_method': {'name': 'machine',\n",
       "      'url': 'https://pokeapi.co/api/v2/move-learn-method/4/'},\n",
       "     'order': None,\n",
       "     'version_group': {'name': 'black-2-white-2',\n",
       "      'url': 'https://pokeapi.co/api/v2/version-group/14/'}},\n",
       "    {'level_learned_at': 0,\n",
       "     'move_learn_method': {'name': 'machine',\n",
       "      'url': 'https://pokeapi.co/api/v2/move-learn-method/4/'},\n",
       "     'order': None,\n",
       "     'version_group': {'name': 'x-y',\n",
       "      'url': 'https://pokeapi.co/api/v2/version-group/15/'}},\n",
       "    {'level_learned_at': 0,\n",
       "     'move_learn_method': {'name': 'machine',\n",
       "      'url': 'https://pokeapi.co/api/v2/move-learn-method/4/'},\n",
       "     'order': None,\n",
       "     'version_group': {'name': 'omega-ruby-alpha-sapphire',\n",
       "      'url': 'https://pokeapi.co/api/v2/version-group/16/'}},\n",
       "    {'level_learned_at': 0,\n",
       "     'move_learn_method': {'name': 'machine',\n",
       "      'url': 'https://pokeapi.co/api/v2/move-learn-method/4/'},\n",
       "     'order': None,\n",
       "     'version_group': {'name': 'sun-moon',\n",
       "      'url': 'https://pokeapi.co/api/v2/version-group/17/'}},\n",
       "    {'level_learned_at': 0,\n",
       "     'move_learn_method': {'name': 'machine',\n",
       "      'url': 'https://pokeapi.co/api/v2/move-learn-method/4/'},\n",
       "     'order': None,\n",
       "     'version_group': {'name': 'ultra-sun-ultra-moon',\n",
       "      'url': 'https://pokeapi.co/api/v2/version-group/18/'}}]},\n",
       "  {'move': {'name': 'frustration',\n",
       "    'url': 'https://pokeapi.co/api/v2/move/218/'},\n",
       "   'version_group_details': [{'level_learned_at': 0,\n",
       "     'move_learn_method': {'name': 'machine',\n",
       "      'url': 'https://pokeapi.co/api/v2/move-learn-method/4/'},\n",
       "     'order': None,\n",
       "     'version_group': {'name': 'gold-silver',\n",
       "      'url': 'https://pokeapi.co/api/v2/version-group/3/'}},\n",
       "    {'level_learned_at': 0,\n",
       "     'move_learn_method': {'name': 'machine',\n",
       "      'url': 'https://pokeapi.co/api/v2/move-learn-method/4/'},\n",
       "     'order': None,\n",
       "     'version_group': {'name': 'crystal',\n",
       "      'url': 'https://pokeapi.co/api/v2/version-group/4/'}},\n",
       "    {'level_learned_at': 0,\n",
       "     'move_learn_method': {'name': 'machine',\n",
       "      'url': 'https://pokeapi.co/api/v2/move-learn-method/4/'},\n",
       "     'order': None,\n",
       "     'version_group': {'name': 'ruby-sapphire',\n",
       "      'url': 'https://pokeapi.co/api/v2/version-group/5/'}},\n",
       "    {'level_learned_at': 0,\n",
       "     'move_learn_method': {'name': 'machine',\n",
       "      'url': 'https://pokeapi.co/api/v2/move-learn-method/4/'},\n",
       "     'order': None,\n",
       "     'version_group': {'name': 'emerald',\n",
       "      'url': 'https://pokeapi.co/api/v2/version-group/6/'}},\n",
       "    {'level_learned_at': 0,\n",
       "     'move_learn_method': {'name': 'machine',\n",
       "      'url': 'https://pokeapi.co/api/v2/move-learn-method/4/'},\n",
       "     'order': None,\n",
       "     'version_group': {'name': 'firered-leafgreen',\n",
       "      'url': 'https://pokeapi.co/api/v2/version-group/7/'}},\n",
       "    {'level_learned_at': 0,\n",
       "     'move_learn_method': {'name': 'machine',\n",
       "      'url': 'https://pokeapi.co/api/v2/move-learn-method/4/'},\n",
       "     'order': None,\n",
       "     'version_group': {'name': 'diamond-pearl',\n",
       "      'url': 'https://pokeapi.co/api/v2/version-group/8/'}},\n",
       "    {'level_learned_at': 0,\n",
       "     'move_learn_method': {'name': 'machine',\n",
       "      'url': 'https://pokeapi.co/api/v2/move-learn-method/4/'},\n",
       "     'order': None,\n",
       "     'version_group': {'name': 'platinum',\n",
       "      'url': 'https://pokeapi.co/api/v2/version-group/9/'}},\n",
       "    {'level_learned_at': 0,\n",
       "     'move_learn_method': {'name': 'machine',\n",
       "      'url': 'https://pokeapi.co/api/v2/move-learn-method/4/'},\n",
       "     'order': None,\n",
       "     'version_group': {'name': 'heartgold-soulsilver',\n",
       "      'url': 'https://pokeapi.co/api/v2/version-group/10/'}},\n",
       "    {'level_learned_at': 0,\n",
       "     'move_learn_method': {'name': 'machine',\n",
       "      'url': 'https://pokeapi.co/api/v2/move-learn-method/4/'},\n",
       "     'order': None,\n",
       "     'version_group': {'name': 'black-white',\n",
       "      'url': 'https://pokeapi.co/api/v2/version-group/11/'}},\n",
       "    {'level_learned_at': 0,\n",
       "     'move_learn_method': {'name': 'machine',\n",
       "      'url': 'https://pokeapi.co/api/v2/move-learn-method/4/'},\n",
       "     'order': None,\n",
       "     'version_group': {'name': 'colosseum',\n",
       "      'url': 'https://pokeapi.co/api/v2/version-group/12/'}},\n",
       "    {'level_learned_at': 0,\n",
       "     'move_learn_method': {'name': 'machine',\n",
       "      'url': 'https://pokeapi.co/api/v2/move-learn-method/4/'},\n",
       "     'order': None,\n",
       "     'version_group': {'name': 'xd',\n",
       "      'url': 'https://pokeapi.co/api/v2/version-group/13/'}},\n",
       "    {'level_learned_at': 0,\n",
       "     'move_learn_method': {'name': 'machine',\n",
       "      'url': 'https://pokeapi.co/api/v2/move-learn-method/4/'},\n",
       "     'order': None,\n",
       "     'version_group': {'name': 'black-2-white-2',\n",
       "      'url': 'https://pokeapi.co/api/v2/version-group/14/'}},\n",
       "    {'level_learned_at': 0,\n",
       "     'move_learn_method': {'name': 'machine',\n",
       "      'url': 'https://pokeapi.co/api/v2/move-learn-method/4/'},\n",
       "     'order': None,\n",
       "     'version_group': {'name': 'x-y',\n",
       "      'url': 'https://pokeapi.co/api/v2/version-group/15/'}},\n",
       "    {'level_learned_at': 0,\n",
       "     'move_learn_method': {'name': 'machine',\n",
       "      'url': 'https://pokeapi.co/api/v2/move-learn-method/4/'},\n",
       "     'order': None,\n",
       "     'version_group': {'name': 'omega-ruby-alpha-sapphire',\n",
       "      'url': 'https://pokeapi.co/api/v2/version-group/16/'}},\n",
       "    {'level_learned_at': 0,\n",
       "     'move_learn_method': {'name': 'machine',\n",
       "      'url': 'https://pokeapi.co/api/v2/move-learn-method/4/'},\n",
       "     'order': None,\n",
       "     'version_group': {'name': 'sun-moon',\n",
       "      'url': 'https://pokeapi.co/api/v2/version-group/17/'}},\n",
       "    {'level_learned_at': 0,\n",
       "     'move_learn_method': {'name': 'machine',\n",
       "      'url': 'https://pokeapi.co/api/v2/move-learn-method/4/'},\n",
       "     'order': None,\n",
       "     'version_group': {'name': 'ultra-sun-ultra-moon',\n",
       "      'url': 'https://pokeapi.co/api/v2/version-group/18/'}}]},\n",
       "  {'move': {'name': 'dynamic-punch',\n",
       "    'url': 'https://pokeapi.co/api/v2/move/223/'},\n",
       "   'version_group_details': [{'level_learned_at': 0,\n",
       "     'move_learn_method': {'name': 'machine',\n",
       "      'url': 'https://pokeapi.co/api/v2/move-learn-method/4/'},\n",
       "     'order': None,\n",
       "     'version_group': {'name': 'gold-silver',\n",
       "      'url': 'https://pokeapi.co/api/v2/version-group/3/'}},\n",
       "    {'level_learned_at': 0,\n",
       "     'move_learn_method': {'name': 'machine',\n",
       "      'url': 'https://pokeapi.co/api/v2/move-learn-method/4/'},\n",
       "     'order': None,\n",
       "     'version_group': {'name': 'crystal',\n",
       "      'url': 'https://pokeapi.co/api/v2/version-group/4/'}},\n",
       "    {'level_learned_at': 0,\n",
       "     'move_learn_method': {'name': 'tutor',\n",
       "      'url': 'https://pokeapi.co/api/v2/move-learn-method/3/'},\n",
       "     'order': None,\n",
       "     'version_group': {'name': 'emerald',\n",
       "      'url': 'https://pokeapi.co/api/v2/version-group/6/'}}]},\n",
       "  {'move': {'name': 'encore', 'url': 'https://pokeapi.co/api/v2/move/227/'},\n",
       "   'version_group_details': [{'level_learned_at': 0,\n",
       "     'move_learn_method': {'name': 'machine',\n",
       "      'url': 'https://pokeapi.co/api/v2/move-learn-method/4/'},\n",
       "     'order': None,\n",
       "     'version_group': {'name': 'sword-shield',\n",
       "      'url': 'https://pokeapi.co/api/v2/version-group/20/'}},\n",
       "    {'level_learned_at': 0,\n",
       "     'move_learn_method': {'name': 'machine',\n",
       "      'url': 'https://pokeapi.co/api/v2/move-learn-method/4/'},\n",
       "     'order': None,\n",
       "     'version_group': {'name': 'scarlet-violet',\n",
       "      'url': 'https://pokeapi.co/api/v2/version-group/25/'}}]},\n",
       "  {'move': {'name': 'iron-tail', 'url': 'https://pokeapi.co/api/v2/move/231/'},\n",
       "   'version_group_details': [{'level_learned_at': 0,\n",
       "     'move_learn_method': {'name': 'machine',\n",
       "      'url': 'https://pokeapi.co/api/v2/move-learn-method/4/'},\n",
       "     'order': None,\n",
       "     'version_group': {'name': 'gold-silver',\n",
       "      'url': 'https://pokeapi.co/api/v2/version-group/3/'}},\n",
       "    {'level_learned_at': 0,\n",
       "     'move_learn_method': {'name': 'machine',\n",
       "      'url': 'https://pokeapi.co/api/v2/move-learn-method/4/'},\n",
       "     'order': None,\n",
       "     'version_group': {'name': 'crystal',\n",
       "      'url': 'https://pokeapi.co/api/v2/version-group/4/'}},\n",
       "    {'level_learned_at': 0,\n",
       "     'move_learn_method': {'name': 'machine',\n",
       "      'url': 'https://pokeapi.co/api/v2/move-learn-method/4/'},\n",
       "     'order': None,\n",
       "     'version_group': {'name': 'ruby-sapphire',\n",
       "      'url': 'https://pokeapi.co/api/v2/version-group/5/'}},\n",
       "    {'level_learned_at': 0,\n",
       "     'move_learn_method': {'name': 'machine',\n",
       "      'url': 'https://pokeapi.co/api/v2/move-learn-method/4/'},\n",
       "     'order': None,\n",
       "     'version_group': {'name': 'emerald',\n",
       "      'url': 'https://pokeapi.co/api/v2/version-group/6/'}},\n",
       "    {'level_learned_at': 0,\n",
       "     'move_learn_method': {'name': 'machine',\n",
       "      'url': 'https://pokeapi.co/api/v2/move-learn-method/4/'},\n",
       "     'order': None,\n",
       "     'version_group': {'name': 'firered-leafgreen',\n",
       "      'url': 'https://pokeapi.co/api/v2/version-group/7/'}},\n",
       "    {'level_learned_at': 0,\n",
       "     'move_learn_method': {'name': 'machine',\n",
       "      'url': 'https://pokeapi.co/api/v2/move-learn-method/4/'},\n",
       "     'order': None,\n",
       "     'version_group': {'name': 'diamond-pearl',\n",
       "      'url': 'https://pokeapi.co/api/v2/version-group/8/'}},\n",
       "    {'level_learned_at': 0,\n",
       "     'move_learn_method': {'name': 'machine',\n",
       "      'url': 'https://pokeapi.co/api/v2/move-learn-method/4/'},\n",
       "     'order': None,\n",
       "     'version_group': {'name': 'platinum',\n",
       "      'url': 'https://pokeapi.co/api/v2/version-group/9/'}},\n",
       "    {'level_learned_at': 0,\n",
       "     'move_learn_method': {'name': 'machine',\n",
       "      'url': 'https://pokeapi.co/api/v2/move-learn-method/4/'},\n",
       "     'order': None,\n",
       "     'version_group': {'name': 'heartgold-soulsilver',\n",
       "      'url': 'https://pokeapi.co/api/v2/version-group/10/'}},\n",
       "    {'level_learned_at': 0,\n",
       "     'move_learn_method': {'name': 'machine',\n",
       "      'url': 'https://pokeapi.co/api/v2/move-learn-method/4/'},\n",
       "     'order': None,\n",
       "     'version_group': {'name': 'colosseum',\n",
       "      'url': 'https://pokeapi.co/api/v2/version-group/12/'}},\n",
       "    {'level_learned_at': 0,\n",
       "     'move_learn_method': {'name': 'machine',\n",
       "      'url': 'https://pokeapi.co/api/v2/move-learn-method/4/'},\n",
       "     'order': None,\n",
       "     'version_group': {'name': 'xd',\n",
       "      'url': 'https://pokeapi.co/api/v2/version-group/13/'}},\n",
       "    {'level_learned_at': 0,\n",
       "     'move_learn_method': {'name': 'tutor',\n",
       "      'url': 'https://pokeapi.co/api/v2/move-learn-method/3/'},\n",
       "     'order': None,\n",
       "     'version_group': {'name': 'black-2-white-2',\n",
       "      'url': 'https://pokeapi.co/api/v2/version-group/14/'}},\n",
       "    {'level_learned_at': 0,\n",
       "     'move_learn_method': {'name': 'tutor',\n",
       "      'url': 'https://pokeapi.co/api/v2/move-learn-method/3/'},\n",
       "     'order': None,\n",
       "     'version_group': {'name': 'omega-ruby-alpha-sapphire',\n",
       "      'url': 'https://pokeapi.co/api/v2/version-group/16/'}},\n",
       "    {'level_learned_at': 0,\n",
       "     'move_learn_method': {'name': 'tutor',\n",
       "      'url': 'https://pokeapi.co/api/v2/move-learn-method/3/'},\n",
       "     'order': None,\n",
       "     'version_group': {'name': 'ultra-sun-ultra-moon',\n",
       "      'url': 'https://pokeapi.co/api/v2/version-group/18/'}},\n",
       "    {'level_learned_at': 0,\n",
       "     'move_learn_method': {'name': 'machine',\n",
       "      'url': 'https://pokeapi.co/api/v2/move-learn-method/4/'},\n",
       "     'order': None,\n",
       "     'version_group': {'name': 'lets-go-pikachu-lets-go-eevee',\n",
       "      'url': 'https://pokeapi.co/api/v2/version-group/19/'}},\n",
       "    {'level_learned_at': 0,\n",
       "     'move_learn_method': {'name': 'machine',\n",
       "      'url': 'https://pokeapi.co/api/v2/move-learn-method/4/'},\n",
       "     'order': None,\n",
       "     'version_group': {'name': 'sword-shield',\n",
       "      'url': 'https://pokeapi.co/api/v2/version-group/20/'}},\n",
       "    {'level_learned_at': 0,\n",
       "     'move_learn_method': {'name': 'machine',\n",
       "      'url': 'https://pokeapi.co/api/v2/move-learn-method/4/'},\n",
       "     'order': None,\n",
       "     'version_group': {'name': 'brilliant-diamond-and-shining-pearl',\n",
       "      'url': 'https://pokeapi.co/api/v2/version-group/23/'}},\n",
       "    {'level_learned_at': 37,\n",
       "     'move_learn_method': {'name': 'level-up',\n",
       "      'url': 'https://pokeapi.co/api/v2/move-learn-method/1/'},\n",
       "     'order': None,\n",
       "     'version_group': {'name': 'legends-arceus',\n",
       "      'url': 'https://pokeapi.co/api/v2/version-group/24/'}},\n",
       "    {'level_learned_at': 28,\n",
       "     'move_learn_method': {'name': 'level-up',\n",
       "      'url': 'https://pokeapi.co/api/v2/move-learn-method/1/'},\n",
       "     'order': None,\n",
       "     'version_group': {'name': 'scarlet-violet',\n",
       "      'url': 'https://pokeapi.co/api/v2/version-group/25/'}}]},\n",
       "  {'move': {'name': 'hidden-power',\n",
       "    'url': 'https://pokeapi.co/api/v2/move/237/'},\n",
       "   'version_group_details': [{'level_learned_at': 0,\n",
       "     'move_learn_method': {'name': 'machine',\n",
       "      'url': 'https://pokeapi.co/api/v2/move-learn-method/4/'},\n",
       "     'order': None,\n",
       "     'version_group': {'name': 'gold-silver',\n",
       "      'url': 'https://pokeapi.co/api/v2/version-group/3/'}},\n",
       "    {'level_learned_at': 0,\n",
       "     'move_learn_method': {'name': 'machine',\n",
       "      'url': 'https://pokeapi.co/api/v2/move-learn-method/4/'},\n",
       "     'order': None,\n",
       "     'version_group': {'name': 'crystal',\n",
       "      'url': 'https://pokeapi.co/api/v2/version-group/4/'}},\n",
       "    {'level_learned_at': 0,\n",
       "     'move_learn_method': {'name': 'machine',\n",
       "      'url': 'https://pokeapi.co/api/v2/move-learn-method/4/'},\n",
       "     'order': None,\n",
       "     'version_group': {'name': 'ruby-sapphire',\n",
       "      'url': 'https://pokeapi.co/api/v2/version-group/5/'}},\n",
       "    {'level_learned_at': 0,\n",
       "     'move_learn_method': {'name': 'machine',\n",
       "      'url': 'https://pokeapi.co/api/v2/move-learn-method/4/'},\n",
       "     'order': None,\n",
       "     'version_group': {'name': 'emerald',\n",
       "      'url': 'https://pokeapi.co/api/v2/version-group/6/'}},\n",
       "    {'level_learned_at': 0,\n",
       "     'move_learn_method': {'name': 'machine',\n",
       "      'url': 'https://pokeapi.co/api/v2/move-learn-method/4/'},\n",
       "     'order': None,\n",
       "     'version_group': {'name': 'firered-leafgreen',\n",
       "      'url': 'https://pokeapi.co/api/v2/version-group/7/'}},\n",
       "    {'level_learned_at': 0,\n",
       "     'move_learn_method': {'name': 'machine',\n",
       "      'url': 'https://pokeapi.co/api/v2/move-learn-method/4/'},\n",
       "     'order': None,\n",
       "     'version_group': {'name': 'diamond-pearl',\n",
       "      'url': 'https://pokeapi.co/api/v2/version-group/8/'}},\n",
       "    {'level_learned_at': 0,\n",
       "     'move_learn_method': {'name': 'machine',\n",
       "      'url': 'https://pokeapi.co/api/v2/move-learn-method/4/'},\n",
       "     'order': None,\n",
       "     'version_group': {'name': 'platinum',\n",
       "      'url': 'https://pokeapi.co/api/v2/version-group/9/'}},\n",
       "    {'level_learned_at': 0,\n",
       "     'move_learn_method': {'name': 'machine',\n",
       "      'url': 'https://pokeapi.co/api/v2/move-learn-method/4/'},\n",
       "     'order': None,\n",
       "     'version_group': {'name': 'heartgold-soulsilver',\n",
       "      'url': 'https://pokeapi.co/api/v2/version-group/10/'}},\n",
       "    {'level_learned_at': 0,\n",
       "     'move_learn_method': {'name': 'machine',\n",
       "      'url': 'https://pokeapi.co/api/v2/move-learn-method/4/'},\n",
       "     'order': None,\n",
       "     'version_group': {'name': 'black-white',\n",
       "      'url': 'https://pokeapi.co/api/v2/version-group/11/'}},\n",
       "    {'level_learned_at': 0,\n",
       "     'move_learn_method': {'name': 'machine',\n",
       "      'url': 'https://pokeapi.co/api/v2/move-learn-method/4/'},\n",
       "     'order': None,\n",
       "     'version_group': {'name': 'colosseum',\n",
       "      'url': 'https://pokeapi.co/api/v2/version-group/12/'}},\n",
       "    {'level_learned_at': 0,\n",
       "     'move_learn_method': {'name': 'machine',\n",
       "      'url': 'https://pokeapi.co/api/v2/move-learn-method/4/'},\n",
       "     'order': None,\n",
       "     'version_group': {'name': 'xd',\n",
       "      'url': 'https://pokeapi.co/api/v2/version-group/13/'}},\n",
       "    {'level_learned_at': 0,\n",
       "     'move_learn_method': {'name': 'machine',\n",
       "      'url': 'https://pokeapi.co/api/v2/move-learn-method/4/'},\n",
       "     'order': None,\n",
       "     'version_group': {'name': 'black-2-white-2',\n",
       "      'url': 'https://pokeapi.co/api/v2/version-group/14/'}},\n",
       "    {'level_learned_at': 0,\n",
       "     'move_learn_method': {'name': 'machine',\n",
       "      'url': 'https://pokeapi.co/api/v2/move-learn-method/4/'},\n",
       "     'order': None,\n",
       "     'version_group': {'name': 'x-y',\n",
       "      'url': 'https://pokeapi.co/api/v2/version-group/15/'}},\n",
       "    {'level_learned_at': 0,\n",
       "     'move_learn_method': {'name': 'machine',\n",
       "      'url': 'https://pokeapi.co/api/v2/move-learn-method/4/'},\n",
       "     'order': None,\n",
       "     'version_group': {'name': 'omega-ruby-alpha-sapphire',\n",
       "      'url': 'https://pokeapi.co/api/v2/version-group/16/'}},\n",
       "    {'level_learned_at': 0,\n",
       "     'move_learn_method': {'name': 'machine',\n",
       "      'url': 'https://pokeapi.co/api/v2/move-learn-method/4/'},\n",
       "     'order': None,\n",
       "     'version_group': {'name': 'sun-moon',\n",
       "      'url': 'https://pokeapi.co/api/v2/version-group/17/'}},\n",
       "    {'level_learned_at': 0,\n",
       "     'move_learn_method': {'name': 'machine',\n",
       "      'url': 'https://pokeapi.co/api/v2/move-learn-method/4/'},\n",
       "     'order': None,\n",
       "     'version_group': {'name': 'ultra-sun-ultra-moon',\n",
       "      'url': 'https://pokeapi.co/api/v2/version-group/18/'}}]},\n",
       "  {'move': {'name': 'rain-dance',\n",
       "    'url': 'https://pokeapi.co/api/v2/move/240/'},\n",
       "   'version_group_details': [{'level_learned_at': 0,\n",
       "     'move_learn_method': {'name': 'machine',\n",
       "      'url': 'https://pokeapi.co/api/v2/move-learn-method/4/'},\n",
       "     'order': None,\n",
       "     'version_group': {'name': 'gold-silver',\n",
       "      'url': 'https://pokeapi.co/api/v2/version-group/3/'}},\n",
       "    {'level_learned_at': 0,\n",
       "     'move_learn_method': {'name': 'machine',\n",
       "      'url': 'https://pokeapi.co/api/v2/move-learn-method/4/'},\n",
       "     'order': None,\n",
       "     'version_group': {'name': 'crystal',\n",
       "      'url': 'https://pokeapi.co/api/v2/version-group/4/'}},\n",
       "    {'level_learned_at': 0,\n",
       "     'move_learn_method': {'name': 'machine',\n",
       "      'url': 'https://pokeapi.co/api/v2/move-learn-method/4/'},\n",
       "     'order': None,\n",
       "     'version_group': {'name': 'ruby-sapphire',\n",
       "      'url': 'https://pokeapi.co/api/v2/version-group/5/'}},\n",
       "    {'level_learned_at': 0,\n",
       "     'move_learn_method': {'name': 'machine',\n",
       "      'url': 'https://pokeapi.co/api/v2/move-learn-method/4/'},\n",
       "     'order': None,\n",
       "     'version_group': {'name': 'emerald',\n",
       "      'url': 'https://pokeapi.co/api/v2/version-group/6/'}},\n",
       "    {'level_learned_at': 0,\n",
       "     'move_learn_method': {'name': 'machine',\n",
       "      'url': 'https://pokeapi.co/api/v2/move-learn-method/4/'},\n",
       "     'order': None,\n",
       "     'version_group': {'name': 'firered-leafgreen',\n",
       "      'url': 'https://pokeapi.co/api/v2/version-group/7/'}},\n",
       "    {'level_learned_at': 0,\n",
       "     'move_learn_method': {'name': 'machine',\n",
       "      'url': 'https://pokeapi.co/api/v2/move-learn-method/4/'},\n",
       "     'order': None,\n",
       "     'version_group': {'name': 'diamond-pearl',\n",
       "      'url': 'https://pokeapi.co/api/v2/version-group/8/'}},\n",
       "    {'level_learned_at': 0,\n",
       "     'move_learn_method': {'name': 'machine',\n",
       "      'url': 'https://pokeapi.co/api/v2/move-learn-method/4/'},\n",
       "     'order': None,\n",
       "     'version_group': {'name': 'platinum',\n",
       "      'url': 'https://pokeapi.co/api/v2/version-group/9/'}},\n",
       "    {'level_learned_at': 0,\n",
       "     'move_learn_method': {'name': 'machine',\n",
       "      'url': 'https://pokeapi.co/api/v2/move-learn-method/4/'},\n",
       "     'order': None,\n",
       "     'version_group': {'name': 'heartgold-soulsilver',\n",
       "      'url': 'https://pokeapi.co/api/v2/version-group/10/'}},\n",
       "    {'level_learned_at': 0,\n",
       "     'move_learn_method': {'name': 'machine',\n",
       "      'url': 'https://pokeapi.co/api/v2/move-learn-method/4/'},\n",
       "     'order': None,\n",
       "     'version_group': {'name': 'black-white',\n",
       "      'url': 'https://pokeapi.co/api/v2/version-group/11/'}},\n",
       "    {'level_learned_at': 0,\n",
       "     'move_learn_method': {'name': 'machine',\n",
       "      'url': 'https://pokeapi.co/api/v2/move-learn-method/4/'},\n",
       "     'order': None,\n",
       "     'version_group': {'name': 'colosseum',\n",
       "      'url': 'https://pokeapi.co/api/v2/version-group/12/'}},\n",
       "    {'level_learned_at': 0,\n",
       "     'move_learn_method': {'name': 'machine',\n",
       "      'url': 'https://pokeapi.co/api/v2/move-learn-method/4/'},\n",
       "     'order': None,\n",
       "     'version_group': {'name': 'xd',\n",
       "      'url': 'https://pokeapi.co/api/v2/version-group/13/'}},\n",
       "    {'level_learned_at': 0,\n",
       "     'move_learn_method': {'name': 'machine',\n",
       "      'url': 'https://pokeapi.co/api/v2/move-learn-method/4/'},\n",
       "     'order': None,\n",
       "     'version_group': {'name': 'black-2-white-2',\n",
       "      'url': 'https://pokeapi.co/api/v2/version-group/14/'}},\n",
       "    {'level_learned_at': 0,\n",
       "     'move_learn_method': {'name': 'machine',\n",
       "      'url': 'https://pokeapi.co/api/v2/move-learn-method/4/'},\n",
       "     'order': None,\n",
       "     'version_group': {'name': 'x-y',\n",
       "      'url': 'https://pokeapi.co/api/v2/version-group/15/'}},\n",
       "    {'level_learned_at': 0,\n",
       "     'move_learn_method': {'name': 'machine',\n",
       "      'url': 'https://pokeapi.co/api/v2/move-learn-method/4/'},\n",
       "     'order': None,\n",
       "     'version_group': {'name': 'omega-ruby-alpha-sapphire',\n",
       "      'url': 'https://pokeapi.co/api/v2/version-group/16/'}},\n",
       "    {'level_learned_at': 0,\n",
       "     'move_learn_method': {'name': 'machine',\n",
       "      'url': 'https://pokeapi.co/api/v2/move-learn-method/4/'},\n",
       "     'order': None,\n",
       "     'version_group': {'name': 'sun-moon',\n",
       "      'url': 'https://pokeapi.co/api/v2/version-group/17/'}},\n",
       "    {'level_learned_at': 0,\n",
       "     'move_learn_method': {'name': 'machine',\n",
       "      'url': 'https://pokeapi.co/api/v2/move-learn-method/4/'},\n",
       "     'order': None,\n",
       "     'version_group': {'name': 'ultra-sun-ultra-moon',\n",
       "      'url': 'https://pokeapi.co/api/v2/version-group/18/'}},\n",
       "    {'level_learned_at': 0,\n",
       "     'move_learn_method': {'name': 'machine',\n",
       "      'url': 'https://pokeapi.co/api/v2/move-learn-method/4/'},\n",
       "     'order': None,\n",
       "     'version_group': {'name': 'sword-shield',\n",
       "      'url': 'https://pokeapi.co/api/v2/version-group/20/'}},\n",
       "    {'level_learned_at': 0,\n",
       "     'move_learn_method': {'name': 'machine',\n",
       "      'url': 'https://pokeapi.co/api/v2/move-learn-method/4/'},\n",
       "     'order': None,\n",
       "     'version_group': {'name': 'brilliant-diamond-and-shining-pearl',\n",
       "      'url': 'https://pokeapi.co/api/v2/version-group/23/'}},\n",
       "    {'level_learned_at': 0,\n",
       "     'move_learn_method': {'name': 'machine',\n",
       "      'url': 'https://pokeapi.co/api/v2/move-learn-method/4/'},\n",
       "     'order': None,\n",
       "     'version_group': {'name': 'scarlet-violet',\n",
       "      'url': 'https://pokeapi.co/api/v2/version-group/25/'}}]},\n",
       "  {'move': {'name': 'rock-smash',\n",
       "    'url': 'https://pokeapi.co/api/v2/move/249/'},\n",
       "   'version_group_details': [{'level_learned_at': 0,\n",
       "     'move_learn_method': {'name': 'machine',\n",
       "      'url': 'https://pokeapi.co/api/v2/move-learn-method/4/'},\n",
       "     'order': None,\n",
       "     'version_group': {'name': 'ruby-sapphire',\n",
       "      'url': 'https://pokeapi.co/api/v2/version-group/5/'}},\n",
       "    {'level_learned_at': 0,\n",
       "     'move_learn_method': {'name': 'machine',\n",
       "      'url': 'https://pokeapi.co/api/v2/move-learn-method/4/'},\n",
       "     'order': None,\n",
       "     'version_group': {'name': 'emerald',\n",
       "      'url': 'https://pokeapi.co/api/v2/version-group/6/'}},\n",
       "    {'level_learned_at': 0,\n",
       "     'move_learn_method': {'name': 'machine',\n",
       "      'url': 'https://pokeapi.co/api/v2/move-learn-method/4/'},\n",
       "     'order': None,\n",
       "     'version_group': {'name': 'firered-leafgreen',\n",
       "      'url': 'https://pokeapi.co/api/v2/version-group/7/'}},\n",
       "    {'level_learned_at': 0,\n",
       "     'move_learn_method': {'name': 'machine',\n",
       "      'url': 'https://pokeapi.co/api/v2/move-learn-method/4/'},\n",
       "     'order': None,\n",
       "     'version_group': {'name': 'diamond-pearl',\n",
       "      'url': 'https://pokeapi.co/api/v2/version-group/8/'}},\n",
       "    {'level_learned_at': 0,\n",
       "     'move_learn_method': {'name': 'machine',\n",
       "      'url': 'https://pokeapi.co/api/v2/move-learn-method/4/'},\n",
       "     'order': None,\n",
       "     'version_group': {'name': 'platinum',\n",
       "      'url': 'https://pokeapi.co/api/v2/version-group/9/'}},\n",
       "    {'level_learned_at': 0,\n",
       "     'move_learn_method': {'name': 'machine',\n",
       "      'url': 'https://pokeapi.co/api/v2/move-learn-method/4/'},\n",
       "     'order': None,\n",
       "     'version_group': {'name': 'heartgold-soulsilver',\n",
       "      'url': 'https://pokeapi.co/api/v2/version-group/10/'}},\n",
       "    {'level_learned_at': 0,\n",
       "     'move_learn_method': {'name': 'machine',\n",
       "      'url': 'https://pokeapi.co/api/v2/move-learn-method/4/'},\n",
       "     'order': None,\n",
       "     'version_group': {'name': 'black-white',\n",
       "      'url': 'https://pokeapi.co/api/v2/version-group/11/'}},\n",
       "    {'level_learned_at': 0,\n",
       "     'move_learn_method': {'name': 'machine',\n",
       "      'url': 'https://pokeapi.co/api/v2/move-learn-method/4/'},\n",
       "     'order': None,\n",
       "     'version_group': {'name': 'colosseum',\n",
       "      'url': 'https://pokeapi.co/api/v2/version-group/12/'}},\n",
       "    {'level_learned_at': 0,\n",
       "     'move_learn_method': {'name': 'machine',\n",
       "      'url': 'https://pokeapi.co/api/v2/move-learn-method/4/'},\n",
       "     'order': None,\n",
       "     'version_group': {'name': 'xd',\n",
       "      'url': 'https://pokeapi.co/api/v2/version-group/13/'}},\n",
       "    {'level_learned_at': 0,\n",
       "     'move_learn_method': {'name': 'machine',\n",
       "      'url': 'https://pokeapi.co/api/v2/move-learn-method/4/'},\n",
       "     'order': None,\n",
       "     'version_group': {'name': 'black-2-white-2',\n",
       "      'url': 'https://pokeapi.co/api/v2/version-group/14/'}},\n",
       "    {'level_learned_at': 0,\n",
       "     'move_learn_method': {'name': 'machine',\n",
       "      'url': 'https://pokeapi.co/api/v2/move-learn-method/4/'},\n",
       "     'order': None,\n",
       "     'version_group': {'name': 'x-y',\n",
       "      'url': 'https://pokeapi.co/api/v2/version-group/15/'}},\n",
       "    {'level_learned_at': 0,\n",
       "     'move_learn_method': {'name': 'machine',\n",
       "      'url': 'https://pokeapi.co/api/v2/move-learn-method/4/'},\n",
       "     'order': None,\n",
       "     'version_group': {'name': 'omega-ruby-alpha-sapphire',\n",
       "      'url': 'https://pokeapi.co/api/v2/version-group/16/'}},\n",
       "    {'level_learned_at': 0,\n",
       "     'move_learn_method': {'name': 'machine',\n",
       "      'url': 'https://pokeapi.co/api/v2/move-learn-method/4/'},\n",
       "     'order': None,\n",
       "     'version_group': {'name': 'brilliant-diamond-and-shining-pearl',\n",
       "      'url': 'https://pokeapi.co/api/v2/version-group/23/'}}]},\n",
       "  {'move': {'name': 'uproar', 'url': 'https://pokeapi.co/api/v2/move/253/'},\n",
       "   'version_group_details': [{'level_learned_at': 0,\n",
       "     'move_learn_method': {'name': 'machine',\n",
       "      'url': 'https://pokeapi.co/api/v2/move-learn-method/4/'},\n",
       "     'order': None,\n",
       "     'version_group': {'name': 'sword-shield',\n",
       "      'url': 'https://pokeapi.co/api/v2/version-group/20/'}}]},\n",
       "  {'move': {'name': 'facade', 'url': 'https://pokeapi.co/api/v2/move/263/'},\n",
       "   'version_group_details': [{'level_learned_at': 0,\n",
       "     'move_learn_method': {'name': 'machine',\n",
       "      'url': 'https://pokeapi.co/api/v2/move-learn-method/4/'},\n",
       "     'order': None,\n",
       "     'version_group': {'name': 'ruby-sapphire',\n",
       "      'url': 'https://pokeapi.co/api/v2/version-group/5/'}},\n",
       "    {'level_learned_at': 0,\n",
       "     'move_learn_method': {'name': 'machine',\n",
       "      'url': 'https://pokeapi.co/api/v2/move-learn-method/4/'},\n",
       "     'order': None,\n",
       "     'version_group': {'name': 'emerald',\n",
       "      'url': 'https://pokeapi.co/api/v2/version-group/6/'}},\n",
       "    {'level_learned_at': 0,\n",
       "     'move_learn_method': {'name': 'machine',\n",
       "      'url': 'https://pokeapi.co/api/v2/move-learn-method/4/'},\n",
       "     'order': None,\n",
       "     'version_group': {'name': 'firered-leafgreen',\n",
       "      'url': 'https://pokeapi.co/api/v2/version-group/7/'}},\n",
       "    {'level_learned_at': 0,\n",
       "     'move_learn_method': {'name': 'machine',\n",
       "      'url': 'https://pokeapi.co/api/v2/move-learn-method/4/'},\n",
       "     'order': None,\n",
       "     'version_group': {'name': 'diamond-pearl',\n",
       "      'url': 'https://pokeapi.co/api/v2/version-group/8/'}},\n",
       "    {'level_learned_at': 0,\n",
       "     'move_learn_method': {'name': 'machine',\n",
       "      'url': 'https://pokeapi.co/api/v2/move-learn-method/4/'},\n",
       "     'order': None,\n",
       "     'version_group': {'name': 'platinum',\n",
       "      'url': 'https://pokeapi.co/api/v2/version-group/9/'}},\n",
       "    {'level_learned_at': 0,\n",
       "     'move_learn_method': {'name': 'machine',\n",
       "      'url': 'https://pokeapi.co/api/v2/move-learn-method/4/'},\n",
       "     'order': None,\n",
       "     'version_group': {'name': 'heartgold-soulsilver',\n",
       "      'url': 'https://pokeapi.co/api/v2/version-group/10/'}},\n",
       "    {'level_learned_at': 0,\n",
       "     'move_learn_method': {'name': 'machine',\n",
       "      'url': 'https://pokeapi.co/api/v2/move-learn-method/4/'},\n",
       "     'order': None,\n",
       "     'version_group': {'name': 'black-white',\n",
       "      'url': 'https://pokeapi.co/api/v2/version-group/11/'}},\n",
       "    {'level_learned_at': 0,\n",
       "     'move_learn_method': {'name': 'machine',\n",
       "      'url': 'https://pokeapi.co/api/v2/move-learn-method/4/'},\n",
       "     'order': None,\n",
       "     'version_group': {'name': 'colosseum',\n",
       "      'url': 'https://pokeapi.co/api/v2/version-group/12/'}},\n",
       "    {'level_learned_at': 0,\n",
       "     'move_learn_method': {'name': 'machine',\n",
       "      'url': 'https://pokeapi.co/api/v2/move-learn-method/4/'},\n",
       "     'order': None,\n",
       "     'version_group': {'name': 'xd',\n",
       "      'url': 'https://pokeapi.co/api/v2/version-group/13/'}},\n",
       "    {'level_learned_at': 0,\n",
       "     'move_learn_method': {'name': 'machine',\n",
       "      'url': 'https://pokeapi.co/api/v2/move-learn-method/4/'},\n",
       "     'order': None,\n",
       "     'version_group': {'name': 'black-2-white-2',\n",
       "      'url': 'https://pokeapi.co/api/v2/version-group/14/'}},\n",
       "    {'level_learned_at': 0,\n",
       "     'move_learn_method': {'name': 'machine',\n",
       "      'url': 'https://pokeapi.co/api/v2/move-learn-method/4/'},\n",
       "     'order': None,\n",
       "     'version_group': {'name': 'x-y',\n",
       "      'url': 'https://pokeapi.co/api/v2/version-group/15/'}},\n",
       "    {'level_learned_at': 0,\n",
       "     'move_learn_method': {'name': 'machine',\n",
       "      'url': 'https://pokeapi.co/api/v2/move-learn-method/4/'},\n",
       "     'order': None,\n",
       "     'version_group': {'name': 'omega-ruby-alpha-sapphire',\n",
       "      'url': 'https://pokeapi.co/api/v2/version-group/16/'}},\n",
       "    {'level_learned_at': 0,\n",
       "     'move_learn_method': {'name': 'machine',\n",
       "      'url': 'https://pokeapi.co/api/v2/move-learn-method/4/'},\n",
       "     'order': None,\n",
       "     'version_group': {'name': 'sun-moon',\n",
       "      'url': 'https://pokeapi.co/api/v2/version-group/17/'}},\n",
       "    {'level_learned_at': 0,\n",
       "     'move_learn_method': {'name': 'machine',\n",
       "      'url': 'https://pokeapi.co/api/v2/move-learn-method/4/'},\n",
       "     'order': None,\n",
       "     'version_group': {'name': 'ultra-sun-ultra-moon',\n",
       "      'url': 'https://pokeapi.co/api/v2/version-group/18/'}},\n",
       "    {'level_learned_at': 0,\n",
       "     'move_learn_method': {'name': 'machine',\n",
       "      'url': 'https://pokeapi.co/api/v2/move-learn-method/4/'},\n",
       "     'order': None,\n",
       "     'version_group': {'name': 'lets-go-pikachu-lets-go-eevee',\n",
       "      'url': 'https://pokeapi.co/api/v2/version-group/19/'}},\n",
       "    {'level_learned_at': 0,\n",
       "     'move_learn_method': {'name': 'machine',\n",
       "      'url': 'https://pokeapi.co/api/v2/move-learn-method/4/'},\n",
       "     'order': None,\n",
       "     'version_group': {'name': 'sword-shield',\n",
       "      'url': 'https://pokeapi.co/api/v2/version-group/20/'}},\n",
       "    {'level_learned_at': 0,\n",
       "     'move_learn_method': {'name': 'machine',\n",
       "      'url': 'https://pokeapi.co/api/v2/move-learn-method/4/'},\n",
       "     'order': None,\n",
       "     'version_group': {'name': 'brilliant-diamond-and-shining-pearl',\n",
       "      'url': 'https://pokeapi.co/api/v2/version-group/23/'}},\n",
       "    {'level_learned_at': 0,\n",
       "     'move_learn_method': {'name': 'machine',\n",
       "      'url': 'https://pokeapi.co/api/v2/move-learn-method/4/'},\n",
       "     'order': None,\n",
       "     'version_group': {'name': 'scarlet-violet',\n",
       "      'url': 'https://pokeapi.co/api/v2/version-group/25/'}}]},\n",
       "  {'move': {'name': 'focus-punch',\n",
       "    'url': 'https://pokeapi.co/api/v2/move/264/'},\n",
       "   'version_group_details': [{'level_learned_at': 0,\n",
       "     'move_learn_method': {'name': 'machine',\n",
       "      'url': 'https://pokeapi.co/api/v2/move-learn-method/4/'},\n",
       "     'order': None,\n",
       "     'version_group': {'name': 'ruby-sapphire',\n",
       "      'url': 'https://pokeapi.co/api/v2/version-group/5/'}},\n",
       "    {'level_learned_at': 0,\n",
       "     'move_learn_method': {'name': 'machine',\n",
       "      'url': 'https://pokeapi.co/api/v2/move-learn-method/4/'},\n",
       "     'order': None,\n",
       "     'version_group': {'name': 'emerald',\n",
       "      'url': 'https://pokeapi.co/api/v2/version-group/6/'}},\n",
       "    {'level_learned_at': 0,\n",
       "     'move_learn_method': {'name': 'machine',\n",
       "      'url': 'https://pokeapi.co/api/v2/move-learn-method/4/'},\n",
       "     'order': None,\n",
       "     'version_group': {'name': 'firered-leafgreen',\n",
       "      'url': 'https://pokeapi.co/api/v2/version-group/7/'}},\n",
       "    {'level_learned_at': 0,\n",
       "     'move_learn_method': {'name': 'machine',\n",
       "      'url': 'https://pokeapi.co/api/v2/move-learn-method/4/'},\n",
       "     'order': None,\n",
       "     'version_group': {'name': 'diamond-pearl',\n",
       "      'url': 'https://pokeapi.co/api/v2/version-group/8/'}},\n",
       "    {'level_learned_at': 0,\n",
       "     'move_learn_method': {'name': 'machine',\n",
       "      'url': 'https://pokeapi.co/api/v2/move-learn-method/4/'},\n",
       "     'order': None,\n",
       "     'version_group': {'name': 'platinum',\n",
       "      'url': 'https://pokeapi.co/api/v2/version-group/9/'}},\n",
       "    {'level_learned_at': 0,\n",
       "     'move_learn_method': {'name': 'machine',\n",
       "      'url': 'https://pokeapi.co/api/v2/move-learn-method/4/'},\n",
       "     'order': None,\n",
       "     'version_group': {'name': 'heartgold-soulsilver',\n",
       "      'url': 'https://pokeapi.co/api/v2/version-group/10/'}},\n",
       "    {'level_learned_at': 0,\n",
       "     'move_learn_method': {'name': 'machine',\n",
       "      'url': 'https://pokeapi.co/api/v2/move-learn-method/4/'},\n",
       "     'order': None,\n",
       "     'version_group': {'name': 'colosseum',\n",
       "      'url': 'https://pokeapi.co/api/v2/version-group/12/'}},\n",
       "    {'level_learned_at': 0,\n",
       "     'move_learn_method': {'name': 'machine',\n",
       "      'url': 'https://pokeapi.co/api/v2/move-learn-method/4/'},\n",
       "     'order': None,\n",
       "     'version_group': {'name': 'xd',\n",
       "      'url': 'https://pokeapi.co/api/v2/version-group/13/'}},\n",
       "    {'level_learned_at': 0,\n",
       "     'move_learn_method': {'name': 'tutor',\n",
       "      'url': 'https://pokeapi.co/api/v2/move-learn-method/3/'},\n",
       "     'order': None,\n",
       "     'version_group': {'name': 'omega-ruby-alpha-sapphire',\n",
       "      'url': 'https://pokeapi.co/api/v2/version-group/16/'}},\n",
       "    {'level_learned_at': 0,\n",
       "     'move_learn_method': {'name': 'tutor',\n",
       "      'url': 'https://pokeapi.co/api/v2/move-learn-method/3/'},\n",
       "     'order': None,\n",
       "     'version_group': {'name': 'ultra-sun-ultra-moon',\n",
       "      'url': 'https://pokeapi.co/api/v2/version-group/18/'}},\n",
       "    {'level_learned_at': 0,\n",
       "     'move_learn_method': {'name': 'machine',\n",
       "      'url': 'https://pokeapi.co/api/v2/move-learn-method/4/'},\n",
       "     'order': None,\n",
       "     'version_group': {'name': 'brilliant-diamond-and-shining-pearl',\n",
       "      'url': 'https://pokeapi.co/api/v2/version-group/23/'}},\n",
       "    {'level_learned_at': 0,\n",
       "     'move_learn_method': {'name': 'machine',\n",
       "      'url': 'https://pokeapi.co/api/v2/move-learn-method/4/'},\n",
       "     'order': None,\n",
       "     'version_group': {'name': 'scarlet-violet',\n",
       "      'url': 'https://pokeapi.co/api/v2/version-group/25/'}}]},\n",
       "  {'move': {'name': 'charge', 'url': 'https://pokeapi.co/api/v2/move/268/'},\n",
       "   'version_group_details': [{'level_learned_at': 0,\n",
       "     'move_learn_method': {'name': 'machine',\n",
       "      'url': 'https://pokeapi.co/api/v2/move-learn-method/4/'},\n",
       "     'order': None,\n",
       "     'version_group': {'name': 'scarlet-violet',\n",
       "      'url': 'https://pokeapi.co/api/v2/version-group/25/'}}]},\n",
       "  {'move': {'name': 'helping-hand',\n",
       "    'url': 'https://pokeapi.co/api/v2/move/270/'},\n",
       "   'version_group_details': [{'level_learned_at': 0,\n",
       "     'move_learn_method': {'name': 'tutor',\n",
       "      'url': 'https://pokeapi.co/api/v2/move-learn-method/3/'},\n",
       "     'order': None,\n",
       "     'version_group': {'name': 'platinum',\n",
       "      'url': 'https://pokeapi.co/api/v2/version-group/9/'}},\n",
       "    {'level_learned_at': 0,\n",
       "     'move_learn_method': {'name': 'tutor',\n",
       "      'url': 'https://pokeapi.co/api/v2/move-learn-method/3/'},\n",
       "     'order': None,\n",
       "     'version_group': {'name': 'heartgold-soulsilver',\n",
       "      'url': 'https://pokeapi.co/api/v2/version-group/10/'}},\n",
       "    {'level_learned_at': 0,\n",
       "     'move_learn_method': {'name': 'tutor',\n",
       "      'url': 'https://pokeapi.co/api/v2/move-learn-method/3/'},\n",
       "     'order': None,\n",
       "     'version_group': {'name': 'black-2-white-2',\n",
       "      'url': 'https://pokeapi.co/api/v2/version-group/14/'}},\n",
       "    {'level_learned_at': 0,\n",
       "     'move_learn_method': {'name': 'tutor',\n",
       "      'url': 'https://pokeapi.co/api/v2/move-learn-method/3/'},\n",
       "     'order': None,\n",
       "     'version_group': {'name': 'omega-ruby-alpha-sapphire',\n",
       "      'url': 'https://pokeapi.co/api/v2/version-group/16/'}},\n",
       "    {'level_learned_at': 0,\n",
       "     'move_learn_method': {'name': 'tutor',\n",
       "      'url': 'https://pokeapi.co/api/v2/move-learn-method/3/'},\n",
       "     'order': None,\n",
       "     'version_group': {'name': 'ultra-sun-ultra-moon',\n",
       "      'url': 'https://pokeapi.co/api/v2/version-group/18/'}},\n",
       "    {'level_learned_at': 0,\n",
       "     'move_learn_method': {'name': 'machine',\n",
       "      'url': 'https://pokeapi.co/api/v2/move-learn-method/4/'},\n",
       "     'order': None,\n",
       "     'version_group': {'name': 'lets-go-pikachu-lets-go-eevee',\n",
       "      'url': 'https://pokeapi.co/api/v2/version-group/19/'}},\n",
       "    {'level_learned_at': 0,\n",
       "     'move_learn_method': {'name': 'machine',\n",
       "      'url': 'https://pokeapi.co/api/v2/move-learn-method/4/'},\n",
       "     'order': None,\n",
       "     'version_group': {'name': 'sword-shield',\n",
       "      'url': 'https://pokeapi.co/api/v2/version-group/20/'}},\n",
       "    {'level_learned_at': 0,\n",
       "     'move_learn_method': {'name': 'machine',\n",
       "      'url': 'https://pokeapi.co/api/v2/move-learn-method/4/'},\n",
       "     'order': None,\n",
       "     'version_group': {'name': 'scarlet-violet',\n",
       "      'url': 'https://pokeapi.co/api/v2/version-group/25/'}}]},\n",
       "  {'move': {'name': 'brick-break',\n",
       "    'url': 'https://pokeapi.co/api/v2/move/280/'},\n",
       "   'version_group_details': [{'level_learned_at': 0,\n",
       "     'move_learn_method': {'name': 'machine',\n",
       "      'url': 'https://pokeapi.co/api/v2/move-learn-method/4/'},\n",
       "     'order': None,\n",
       "     'version_group': {'name': 'ruby-sapphire',\n",
       "      'url': 'https://pokeapi.co/api/v2/version-group/5/'}},\n",
       "    {'level_learned_at': 0,\n",
       "     'move_learn_method': {'name': 'machine',\n",
       "      'url': 'https://pokeapi.co/api/v2/move-learn-method/4/'},\n",
       "     'order': None,\n",
       "     'version_group': {'name': 'emerald',\n",
       "      'url': 'https://pokeapi.co/api/v2/version-group/6/'}},\n",
       "    {'level_learned_at': 0,\n",
       "     'move_learn_method': {'name': 'machine',\n",
       "      'url': 'https://pokeapi.co/api/v2/move-learn-method/4/'},\n",
       "     'order': None,\n",
       "     'version_group': {'name': 'firered-leafgreen',\n",
       "      'url': 'https://pokeapi.co/api/v2/version-group/7/'}},\n",
       "    {'level_learned_at': 0,\n",
       "     'move_learn_method': {'name': 'machine',\n",
       "      'url': 'https://pokeapi.co/api/v2/move-learn-method/4/'},\n",
       "     'order': None,\n",
       "     'version_group': {'name': 'diamond-pearl',\n",
       "      'url': 'https://pokeapi.co/api/v2/version-group/8/'}},\n",
       "    {'level_learned_at': 0,\n",
       "     'move_learn_method': {'name': 'machine',\n",
       "      'url': 'https://pokeapi.co/api/v2/move-learn-method/4/'},\n",
       "     'order': None,\n",
       "     'version_group': {'name': 'platinum',\n",
       "      'url': 'https://pokeapi.co/api/v2/version-group/9/'}},\n",
       "    {'level_learned_at': 0,\n",
       "     'move_learn_method': {'name': 'machine',\n",
       "      'url': 'https://pokeapi.co/api/v2/move-learn-method/4/'},\n",
       "     'order': None,\n",
       "     'version_group': {'name': 'heartgold-soulsilver',\n",
       "      'url': 'https://pokeapi.co/api/v2/version-group/10/'}},\n",
       "    {'level_learned_at': 0,\n",
       "     'move_learn_method': {'name': 'machine',\n",
       "      'url': 'https://pokeapi.co/api/v2/move-learn-method/4/'},\n",
       "     'order': None,\n",
       "     'version_group': {'name': 'black-white',\n",
       "      'url': 'https://pokeapi.co/api/v2/version-group/11/'}},\n",
       "    {'level_learned_at': 0,\n",
       "     'move_learn_method': {'name': 'machine',\n",
       "      'url': 'https://pokeapi.co/api/v2/move-learn-method/4/'},\n",
       "     'order': None,\n",
       "     'version_group': {'name': 'colosseum',\n",
       "      'url': 'https://pokeapi.co/api/v2/version-group/12/'}},\n",
       "    {'level_learned_at': 0,\n",
       "     'move_learn_method': {'name': 'machine',\n",
       "      'url': 'https://pokeapi.co/api/v2/move-learn-method/4/'},\n",
       "     'order': None,\n",
       "     'version_group': {'name': 'xd',\n",
       "      'url': 'https://pokeapi.co/api/v2/version-group/13/'}},\n",
       "    {'level_learned_at': 0,\n",
       "     'move_learn_method': {'name': 'machine',\n",
       "      'url': 'https://pokeapi.co/api/v2/move-learn-method/4/'},\n",
       "     'order': None,\n",
       "     'version_group': {'name': 'black-2-white-2',\n",
       "      'url': 'https://pokeapi.co/api/v2/version-group/14/'}},\n",
       "    {'level_learned_at': 0,\n",
       "     'move_learn_method': {'name': 'machine',\n",
       "      'url': 'https://pokeapi.co/api/v2/move-learn-method/4/'},\n",
       "     'order': None,\n",
       "     'version_group': {'name': 'x-y',\n",
       "      'url': 'https://pokeapi.co/api/v2/version-group/15/'}},\n",
       "    {'level_learned_at': 0,\n",
       "     'move_learn_method': {'name': 'machine',\n",
       "      'url': 'https://pokeapi.co/api/v2/move-learn-method/4/'},\n",
       "     'order': None,\n",
       "     'version_group': {'name': 'omega-ruby-alpha-sapphire',\n",
       "      'url': 'https://pokeapi.co/api/v2/version-group/16/'}},\n",
       "    {'level_learned_at': 0,\n",
       "     'move_learn_method': {'name': 'machine',\n",
       "      'url': 'https://pokeapi.co/api/v2/move-learn-method/4/'},\n",
       "     'order': None,\n",
       "     'version_group': {'name': 'sun-moon',\n",
       "      'url': 'https://pokeapi.co/api/v2/version-group/17/'}},\n",
       "    {'level_learned_at': 0,\n",
       "     'move_learn_method': {'name': 'machine',\n",
       "      'url': 'https://pokeapi.co/api/v2/move-learn-method/4/'},\n",
       "     'order': None,\n",
       "     'version_group': {'name': 'ultra-sun-ultra-moon',\n",
       "      'url': 'https://pokeapi.co/api/v2/version-group/18/'}},\n",
       "    {'level_learned_at': 0,\n",
       "     'move_learn_method': {'name': 'machine',\n",
       "      'url': 'https://pokeapi.co/api/v2/move-learn-method/4/'},\n",
       "     'order': None,\n",
       "     'version_group': {'name': 'lets-go-pikachu-lets-go-eevee',\n",
       "      'url': 'https://pokeapi.co/api/v2/version-group/19/'}},\n",
       "    {'level_learned_at': 0,\n",
       "     'move_learn_method': {'name': 'machine',\n",
       "      'url': 'https://pokeapi.co/api/v2/move-learn-method/4/'},\n",
       "     'order': None,\n",
       "     'version_group': {'name': 'sword-shield',\n",
       "      'url': 'https://pokeapi.co/api/v2/version-group/20/'}},\n",
       "    {'level_learned_at': 0,\n",
       "     'move_learn_method': {'name': 'machine',\n",
       "      'url': 'https://pokeapi.co/api/v2/move-learn-method/4/'},\n",
       "     'order': None,\n",
       "     'version_group': {'name': 'brilliant-diamond-and-shining-pearl',\n",
       "      'url': 'https://pokeapi.co/api/v2/version-group/23/'}},\n",
       "    {'level_learned_at': 0,\n",
       "     'move_learn_method': {'name': 'machine',\n",
       "      'url': 'https://pokeapi.co/api/v2/move-learn-method/4/'},\n",
       "     'order': None,\n",
       "     'version_group': {'name': 'scarlet-violet',\n",
       "      'url': 'https://pokeapi.co/api/v2/version-group/25/'}}]},\n",
       "  {'move': {'name': 'knock-off', 'url': 'https://pokeapi.co/api/v2/move/282/'},\n",
       "   'version_group_details': [{'level_learned_at': 0,\n",
       "     'move_learn_method': {'name': 'tutor',\n",
       "      'url': 'https://pokeapi.co/api/v2/move-learn-method/3/'},\n",
       "     'order': None,\n",
       "     'version_group': {'name': 'platinum',\n",
       "      'url': 'https://pokeapi.co/api/v2/version-group/9/'}},\n",
       "    {'level_learned_at': 0,\n",
       "     'move_learn_method': {'name': 'tutor',\n",
       "      'url': 'https://pokeapi.co/api/v2/move-learn-method/3/'},\n",
       "     'order': None,\n",
       "     'version_group': {'name': 'heartgold-soulsilver',\n",
       "      'url': 'https://pokeapi.co/api/v2/version-group/10/'}},\n",
       "    {'level_learned_at': 0,\n",
       "     'move_learn_method': {'name': 'tutor',\n",
       "      'url': 'https://pokeapi.co/api/v2/move-learn-method/3/'},\n",
       "     'order': None,\n",
       "     'version_group': {'name': 'black-2-white-2',\n",
       "      'url': 'https://pokeapi.co/api/v2/version-group/14/'}},\n",
       "    {'level_learned_at': 0,\n",
       "     'move_learn_method': {'name': 'tutor',\n",
       "      'url': 'https://pokeapi.co/api/v2/move-learn-method/3/'},\n",
       "     'order': None,\n",
       "     'version_group': {'name': 'omega-ruby-alpha-sapphire',\n",
       "      'url': 'https://pokeapi.co/api/v2/version-group/16/'}},\n",
       "    {'level_learned_at': 0,\n",
       "     'move_learn_method': {'name': 'tutor',\n",
       "      'url': 'https://pokeapi.co/api/v2/move-learn-method/3/'},\n",
       "     'order': None,\n",
       "     'version_group': {'name': 'ultra-sun-ultra-moon',\n",
       "      'url': 'https://pokeapi.co/api/v2/version-group/18/'}},\n",
       "    {'level_learned_at': 0,\n",
       "     'move_learn_method': {'name': 'machine',\n",
       "      'url': 'https://pokeapi.co/api/v2/move-learn-method/4/'},\n",
       "     'order': None,\n",
       "     'version_group': {'name': 'scarlet-violet',\n",
       "      'url': 'https://pokeapi.co/api/v2/version-group/25/'}}]},\n",
       "  {'move': {'name': 'endeavor', 'url': 'https://pokeapi.co/api/v2/move/283/'},\n",
       "   'version_group_details': [{'level_learned_at': 0,\n",
       "     'move_learn_method': {'name': 'machine',\n",
       "      'url': 'https://pokeapi.co/api/v2/move-learn-method/4/'},\n",
       "     'order': None,\n",
       "     'version_group': {'name': 'scarlet-violet',\n",
       "      'url': 'https://pokeapi.co/api/v2/version-group/25/'}}]},\n",
       "  {'move': {'name': 'secret-power',\n",
       "    'url': 'https://pokeapi.co/api/v2/move/290/'},\n",
       "   'version_group_details': [{'level_learned_at': 0,\n",
       "     'move_learn_method': {'name': 'machine',\n",
       "      'url': 'https://pokeapi.co/api/v2/move-learn-method/4/'},\n",
       "     'order': None,\n",
       "     'version_group': {'name': 'ruby-sapphire',\n",
       "      'url': 'https://pokeapi.co/api/v2/version-group/5/'}},\n",
       "    {'level_learned_at': 0,\n",
       "     'move_learn_method': {'name': 'machine',\n",
       "      'url': 'https://pokeapi.co/api/v2/move-learn-method/4/'},\n",
       "     'order': None,\n",
       "     'version_group': {'name': 'emerald',\n",
       "      'url': 'https://pokeapi.co/api/v2/version-group/6/'}},\n",
       "    {'level_learned_at': 0,\n",
       "     'move_learn_method': {'name': 'machine',\n",
       "      'url': 'https://pokeapi.co/api/v2/move-learn-method/4/'},\n",
       "     'order': None,\n",
       "     'version_group': {'name': 'firered-leafgreen',\n",
       "      'url': 'https://pokeapi.co/api/v2/version-group/7/'}},\n",
       "    {'level_learned_at': 0,\n",
       "     'move_learn_method': {'name': 'machine',\n",
       "      'url': 'https://pokeapi.co/api/v2/move-learn-method/4/'},\n",
       "     'order': None,\n",
       "     'version_group': {'name': 'diamond-pearl',\n",
       "      'url': 'https://pokeapi.co/api/v2/version-group/8/'}},\n",
       "    {'level_learned_at': 0,\n",
       "     'move_learn_method': {'name': 'machine',\n",
       "      'url': 'https://pokeapi.co/api/v2/move-learn-method/4/'},\n",
       "     'order': None,\n",
       "     'version_group': {'name': 'platinum',\n",
       "      'url': 'https://pokeapi.co/api/v2/version-group/9/'}},\n",
       "    {'level_learned_at': 0,\n",
       "     'move_learn_method': {'name': 'machine',\n",
       "      'url': 'https://pokeapi.co/api/v2/move-learn-method/4/'},\n",
       "     'order': None,\n",
       "     'version_group': {'name': 'heartgold-soulsilver',\n",
       "      'url': 'https://pokeapi.co/api/v2/version-group/10/'}},\n",
       "    {'level_learned_at': 0,\n",
       "     'move_learn_method': {'name': 'machine',\n",
       "      'url': 'https://pokeapi.co/api/v2/move-learn-method/4/'},\n",
       "     'order': None,\n",
       "     'version_group': {'name': 'colosseum',\n",
       "      'url': 'https://pokeapi.co/api/v2/version-group/12/'}},\n",
       "    {'level_learned_at': 0,\n",
       "     'move_learn_method': {'name': 'machine',\n",
       "      'url': 'https://pokeapi.co/api/v2/move-learn-method/4/'},\n",
       "     'order': None,\n",
       "     'version_group': {'name': 'xd',\n",
       "      'url': 'https://pokeapi.co/api/v2/version-group/13/'}},\n",
       "    {'level_learned_at': 0,\n",
       "     'move_learn_method': {'name': 'machine',\n",
       "      'url': 'https://pokeapi.co/api/v2/move-learn-method/4/'},\n",
       "     'order': None,\n",
       "     'version_group': {'name': 'omega-ruby-alpha-sapphire',\n",
       "      'url': 'https://pokeapi.co/api/v2/version-group/16/'}}]},\n",
       "  {'move': {'name': 'fake-tears',\n",
       "    'url': 'https://pokeapi.co/api/v2/move/313/'},\n",
       "   'version_group_details': [{'level_learned_at': 0,\n",
       "     'move_learn_method': {'name': 'machine',\n",
       "      'url': 'https://pokeapi.co/api/v2/move-learn-method/4/'},\n",
       "     'order': None,\n",
       "     'version_group': {'name': 'scarlet-violet',\n",
       "      'url': 'https://pokeapi.co/api/v2/version-group/25/'}}]},\n",
       "  {'move': {'name': 'signal-beam',\n",
       "    'url': 'https://pokeapi.co/api/v2/move/324/'},\n",
       "   'version_group_details': [{'level_learned_at': 0,\n",
       "     'move_learn_method': {'name': 'tutor',\n",
       "      'url': 'https://pokeapi.co/api/v2/move-learn-method/3/'},\n",
       "     'order': None,\n",
       "     'version_group': {'name': 'platinum',\n",
       "      'url': 'https://pokeapi.co/api/v2/version-group/9/'}},\n",
       "    {'level_learned_at': 0,\n",
       "     'move_learn_method': {'name': 'tutor',\n",
       "      'url': 'https://pokeapi.co/api/v2/move-learn-method/3/'},\n",
       "     'order': None,\n",
       "     'version_group': {'name': 'heartgold-soulsilver',\n",
       "      'url': 'https://pokeapi.co/api/v2/version-group/10/'}},\n",
       "    {'level_learned_at': 0,\n",
       "     'move_learn_method': {'name': 'tutor',\n",
       "      'url': 'https://pokeapi.co/api/v2/move-learn-method/3/'},\n",
       "     'order': None,\n",
       "     'version_group': {'name': 'black-2-white-2',\n",
       "      'url': 'https://pokeapi.co/api/v2/version-group/14/'}},\n",
       "    {'level_learned_at': 0,\n",
       "     'move_learn_method': {'name': 'tutor',\n",
       "      'url': 'https://pokeapi.co/api/v2/move-learn-method/3/'},\n",
       "     'order': None,\n",
       "     'version_group': {'name': 'omega-ruby-alpha-sapphire',\n",
       "      'url': 'https://pokeapi.co/api/v2/version-group/16/'}},\n",
       "    {'level_learned_at': 0,\n",
       "     'move_learn_method': {'name': 'tutor',\n",
       "      'url': 'https://pokeapi.co/api/v2/move-learn-method/3/'},\n",
       "     'order': None,\n",
       "     'version_group': {'name': 'ultra-sun-ultra-moon',\n",
       "      'url': 'https://pokeapi.co/api/v2/version-group/18/'}}]},\n",
       "  {'move': {'name': 'covet', 'url': 'https://pokeapi.co/api/v2/move/343/'},\n",
       "   'version_group_details': [{'level_learned_at': 0,\n",
       "     'move_learn_method': {'name': 'tutor',\n",
       "      'url': 'https://pokeapi.co/api/v2/move-learn-method/3/'},\n",
       "     'order': None,\n",
       "     'version_group': {'name': 'black-2-white-2',\n",
       "      'url': 'https://pokeapi.co/api/v2/version-group/14/'}},\n",
       "    {'level_learned_at': 0,\n",
       "     'move_learn_method': {'name': 'tutor',\n",
       "      'url': 'https://pokeapi.co/api/v2/move-learn-method/3/'},\n",
       "     'order': None,\n",
       "     'version_group': {'name': 'omega-ruby-alpha-sapphire',\n",
       "      'url': 'https://pokeapi.co/api/v2/version-group/16/'}},\n",
       "    {'level_learned_at': 0,\n",
       "     'move_learn_method': {'name': 'tutor',\n",
       "      'url': 'https://pokeapi.co/api/v2/move-learn-method/3/'},\n",
       "     'order': None,\n",
       "     'version_group': {'name': 'ultra-sun-ultra-moon',\n",
       "      'url': 'https://pokeapi.co/api/v2/version-group/18/'}}]},\n",
       "  {'move': {'name': 'volt-tackle',\n",
       "    'url': 'https://pokeapi.co/api/v2/move/344/'},\n",
       "   'version_group_details': [{'level_learned_at': 0,\n",
       "     'move_learn_method': {'name': 'tutor',\n",
       "      'url': 'https://pokeapi.co/api/v2/move-learn-method/3/'},\n",
       "     'order': None,\n",
       "     'version_group': {'name': 'sun-moon',\n",
       "      'url': 'https://pokeapi.co/api/v2/version-group/17/'}},\n",
       "    {'level_learned_at': 0,\n",
       "     'move_learn_method': {'name': 'tutor',\n",
       "      'url': 'https://pokeapi.co/api/v2/move-learn-method/3/'},\n",
       "     'order': None,\n",
       "     'version_group': {'name': 'ultra-sun-ultra-moon',\n",
       "      'url': 'https://pokeapi.co/api/v2/version-group/18/'}}]},\n",
       "  {'move': {'name': 'calm-mind', 'url': 'https://pokeapi.co/api/v2/move/347/'},\n",
       "   'version_group_details': [{'level_learned_at': 0,\n",
       "     'move_learn_method': {'name': 'machine',\n",
       "      'url': 'https://pokeapi.co/api/v2/move-learn-method/4/'},\n",
       "     'order': None,\n",
       "     'version_group': {'name': 'lets-go-pikachu-lets-go-eevee',\n",
       "      'url': 'https://pokeapi.co/api/v2/version-group/19/'}}]},\n",
       "  {'move': {'name': 'shock-wave',\n",
       "    'url': 'https://pokeapi.co/api/v2/move/351/'},\n",
       "   'version_group_details': [{'level_learned_at': 0,\n",
       "     'move_learn_method': {'name': 'machine',\n",
       "      'url': 'https://pokeapi.co/api/v2/move-learn-method/4/'},\n",
       "     'order': None,\n",
       "     'version_group': {'name': 'ruby-sapphire',\n",
       "      'url': 'https://pokeapi.co/api/v2/version-group/5/'}},\n",
       "    {'level_learned_at': 0,\n",
       "     'move_learn_method': {'name': 'machine',\n",
       "      'url': 'https://pokeapi.co/api/v2/move-learn-method/4/'},\n",
       "     'order': None,\n",
       "     'version_group': {'name': 'emerald',\n",
       "      'url': 'https://pokeapi.co/api/v2/version-group/6/'}},\n",
       "    {'level_learned_at': 0,\n",
       "     'move_learn_method': {'name': 'machine',\n",
       "      'url': 'https://pokeapi.co/api/v2/move-learn-method/4/'},\n",
       "     'order': None,\n",
       "     'version_group': {'name': 'firered-leafgreen',\n",
       "      'url': 'https://pokeapi.co/api/v2/version-group/7/'}},\n",
       "    {'level_learned_at': 0,\n",
       "     'move_learn_method': {'name': 'machine',\n",
       "      'url': 'https://pokeapi.co/api/v2/move-learn-method/4/'},\n",
       "     'order': None,\n",
       "     'version_group': {'name': 'diamond-pearl',\n",
       "      'url': 'https://pokeapi.co/api/v2/version-group/8/'}},\n",
       "    {'level_learned_at': 0,\n",
       "     'move_learn_method': {'name': 'machine',\n",
       "      'url': 'https://pokeapi.co/api/v2/move-learn-method/4/'},\n",
       "     'order': None,\n",
       "     'version_group': {'name': 'platinum',\n",
       "      'url': 'https://pokeapi.co/api/v2/version-group/9/'}},\n",
       "    {'level_learned_at': 0,\n",
       "     'move_learn_method': {'name': 'machine',\n",
       "      'url': 'https://pokeapi.co/api/v2/move-learn-method/4/'},\n",
       "     'order': None,\n",
       "     'version_group': {'name': 'heartgold-soulsilver',\n",
       "      'url': 'https://pokeapi.co/api/v2/version-group/10/'}},\n",
       "    {'level_learned_at': 0,\n",
       "     'move_learn_method': {'name': 'machine',\n",
       "      'url': 'https://pokeapi.co/api/v2/move-learn-method/4/'},\n",
       "     'order': None,\n",
       "     'version_group': {'name': 'colosseum',\n",
       "      'url': 'https://pokeapi.co/api/v2/version-group/12/'}},\n",
       "    {'level_learned_at': 0,\n",
       "     'move_learn_method': {'name': 'machine',\n",
       "      'url': 'https://pokeapi.co/api/v2/move-learn-method/4/'},\n",
       "     'order': None,\n",
       "     'version_group': {'name': 'xd',\n",
       "      'url': 'https://pokeapi.co/api/v2/version-group/13/'}},\n",
       "    {'level_learned_at': 0,\n",
       "     'move_learn_method': {'name': 'tutor',\n",
       "      'url': 'https://pokeapi.co/api/v2/move-learn-method/3/'},\n",
       "     'order': None,\n",
       "     'version_group': {'name': 'omega-ruby-alpha-sapphire',\n",
       "      'url': 'https://pokeapi.co/api/v2/version-group/16/'}},\n",
       "    {'level_learned_at': 0,\n",
       "     'move_learn_method': {'name': 'tutor',\n",
       "      'url': 'https://pokeapi.co/api/v2/move-learn-method/3/'},\n",
       "     'order': None,\n",
       "     'version_group': {'name': 'ultra-sun-ultra-moon',\n",
       "      'url': 'https://pokeapi.co/api/v2/version-group/18/'}},\n",
       "    {'level_learned_at': 0,\n",
       "     'move_learn_method': {'name': 'machine',\n",
       "      'url': 'https://pokeapi.co/api/v2/move-learn-method/4/'},\n",
       "     'order': None,\n",
       "     'version_group': {'name': 'brilliant-diamond-and-shining-pearl',\n",
       "      'url': 'https://pokeapi.co/api/v2/version-group/23/'}}]},\n",
       "  {'move': {'name': 'natural-gift',\n",
       "    'url': 'https://pokeapi.co/api/v2/move/363/'},\n",
       "   'version_group_details': [{'level_learned_at': 0,\n",
       "     'move_learn_method': {'name': 'machine',\n",
       "      'url': 'https://pokeapi.co/api/v2/move-learn-method/4/'},\n",
       "     'order': None,\n",
       "     'version_group': {'name': 'diamond-pearl',\n",
       "      'url': 'https://pokeapi.co/api/v2/version-group/8/'}},\n",
       "    {'level_learned_at': 0,\n",
       "     'move_learn_method': {'name': 'machine',\n",
       "      'url': 'https://pokeapi.co/api/v2/move-learn-method/4/'},\n",
       "     'order': None,\n",
       "     'version_group': {'name': 'platinum',\n",
       "      'url': 'https://pokeapi.co/api/v2/version-group/9/'}},\n",
       "    {'level_learned_at': 0,\n",
       "     'move_learn_method': {'name': 'machine',\n",
       "      'url': 'https://pokeapi.co/api/v2/move-learn-method/4/'},\n",
       "     'order': None,\n",
       "     'version_group': {'name': 'heartgold-soulsilver',\n",
       "      'url': 'https://pokeapi.co/api/v2/version-group/10/'}}]},\n",
       "  {'move': {'name': 'feint', 'url': 'https://pokeapi.co/api/v2/move/364/'},\n",
       "   'version_group_details': [{'level_learned_at': 29,\n",
       "     'move_learn_method': {'name': 'level-up',\n",
       "      'url': 'https://pokeapi.co/api/v2/move-learn-method/1/'},\n",
       "     'order': None,\n",
       "     'version_group': {'name': 'diamond-pearl',\n",
       "      'url': 'https://pokeapi.co/api/v2/version-group/8/'}},\n",
       "    {'level_learned_at': 29,\n",
       "     'move_learn_method': {'name': 'level-up',\n",
       "      'url': 'https://pokeapi.co/api/v2/move-learn-method/1/'},\n",
       "     'order': None,\n",
       "     'version_group': {'name': 'platinum',\n",
       "      'url': 'https://pokeapi.co/api/v2/version-group/9/'}},\n",
       "    {'level_learned_at': 29,\n",
       "     'move_learn_method': {'name': 'level-up',\n",
       "      'url': 'https://pokeapi.co/api/v2/move-learn-method/1/'},\n",
       "     'order': None,\n",
       "     'version_group': {'name': 'heartgold-soulsilver',\n",
       "      'url': 'https://pokeapi.co/api/v2/version-group/10/'}},\n",
       "    {'level_learned_at': 34,\n",
       "     'move_learn_method': {'name': 'level-up',\n",
       "      'url': 'https://pokeapi.co/api/v2/move-learn-method/1/'},\n",
       "     'order': None,\n",
       "     'version_group': {'name': 'black-white',\n",
       "      'url': 'https://pokeapi.co/api/v2/version-group/11/'}},\n",
       "    {'level_learned_at': 34,\n",
       "     'move_learn_method': {'name': 'level-up',\n",
       "      'url': 'https://pokeapi.co/api/v2/move-learn-method/1/'},\n",
       "     'order': None,\n",
       "     'version_group': {'name': 'black-2-white-2',\n",
       "      'url': 'https://pokeapi.co/api/v2/version-group/14/'}},\n",
       "    {'level_learned_at': 34,\n",
       "     'move_learn_method': {'name': 'level-up',\n",
       "      'url': 'https://pokeapi.co/api/v2/move-learn-method/1/'},\n",
       "     'order': None,\n",
       "     'version_group': {'name': 'x-y',\n",
       "      'url': 'https://pokeapi.co/api/v2/version-group/15/'}},\n",
       "    {'level_learned_at': 21,\n",
       "     'move_learn_method': {'name': 'level-up',\n",
       "      'url': 'https://pokeapi.co/api/v2/move-learn-method/1/'},\n",
       "     'order': None,\n",
       "     'version_group': {'name': 'omega-ruby-alpha-sapphire',\n",
       "      'url': 'https://pokeapi.co/api/v2/version-group/16/'}},\n",
       "    {'level_learned_at': 21,\n",
       "     'move_learn_method': {'name': 'level-up',\n",
       "      'url': 'https://pokeapi.co/api/v2/move-learn-method/1/'},\n",
       "     'order': None,\n",
       "     'version_group': {'name': 'sun-moon',\n",
       "      'url': 'https://pokeapi.co/api/v2/version-group/17/'}},\n",
       "    {'level_learned_at': 21,\n",
       "     'move_learn_method': {'name': 'level-up',\n",
       "      'url': 'https://pokeapi.co/api/v2/move-learn-method/1/'},\n",
       "     'order': None,\n",
       "     'version_group': {'name': 'ultra-sun-ultra-moon',\n",
       "      'url': 'https://pokeapi.co/api/v2/version-group/18/'}},\n",
       "    {'level_learned_at': 16,\n",
       "     'move_learn_method': {'name': 'level-up',\n",
       "      'url': 'https://pokeapi.co/api/v2/move-learn-method/1/'},\n",
       "     'order': None,\n",
       "     'version_group': {'name': 'sword-shield',\n",
       "      'url': 'https://pokeapi.co/api/v2/version-group/20/'}},\n",
       "    {'level_learned_at': 16,\n",
       "     'move_learn_method': {'name': 'level-up',\n",
       "      'url': 'https://pokeapi.co/api/v2/move-learn-method/1/'},\n",
       "     'order': None,\n",
       "     'version_group': {'name': 'brilliant-diamond-and-shining-pearl',\n",
       "      'url': 'https://pokeapi.co/api/v2/version-group/23/'}},\n",
       "    {'level_learned_at': 16,\n",
       "     'move_learn_method': {'name': 'level-up',\n",
       "      'url': 'https://pokeapi.co/api/v2/move-learn-method/1/'},\n",
       "     'order': None,\n",
       "     'version_group': {'name': 'scarlet-violet',\n",
       "      'url': 'https://pokeapi.co/api/v2/version-group/25/'}}]},\n",
       "  {'move': {'name': 'fling', 'url': 'https://pokeapi.co/api/v2/move/374/'},\n",
       "   'version_group_details': [{'level_learned_at': 0,\n",
       "     'move_learn_method': {'name': 'machine',\n",
       "      'url': 'https://pokeapi.co/api/v2/move-learn-method/4/'},\n",
       "     'order': None,\n",
       "     'version_group': {'name': 'diamond-pearl',\n",
       "      'url': 'https://pokeapi.co/api/v2/version-group/8/'}},\n",
       "    {'level_learned_at': 0,\n",
       "     'move_learn_method': {'name': 'machine',\n",
       "      'url': 'https://pokeapi.co/api/v2/move-learn-method/4/'},\n",
       "     'order': None,\n",
       "     'version_group': {'name': 'platinum',\n",
       "      'url': 'https://pokeapi.co/api/v2/version-group/9/'}},\n",
       "    {'level_learned_at': 0,\n",
       "     'move_learn_method': {'name': 'machine',\n",
       "      'url': 'https://pokeapi.co/api/v2/move-learn-method/4/'},\n",
       "     'order': None,\n",
       "     'version_group': {'name': 'heartgold-soulsilver',\n",
       "      'url': 'https://pokeapi.co/api/v2/version-group/10/'}},\n",
       "    {'level_learned_at': 0,\n",
       "     'move_learn_method': {'name': 'machine',\n",
       "      'url': 'https://pokeapi.co/api/v2/move-learn-method/4/'},\n",
       "     'order': None,\n",
       "     'version_group': {'name': 'black-white',\n",
       "      'url': 'https://pokeapi.co/api/v2/version-group/11/'}},\n",
       "    {'level_learned_at': 0,\n",
       "     'move_learn_method': {'name': 'machine',\n",
       "      'url': 'https://pokeapi.co/api/v2/move-learn-method/4/'},\n",
       "     'order': None,\n",
       "     'version_group': {'name': 'black-2-white-2',\n",
       "      'url': 'https://pokeapi.co/api/v2/version-group/14/'}},\n",
       "    {'level_learned_at': 0,\n",
       "     'move_learn_method': {'name': 'machine',\n",
       "      'url': 'https://pokeapi.co/api/v2/move-learn-method/4/'},\n",
       "     'order': None,\n",
       "     'version_group': {'name': 'x-y',\n",
       "      'url': 'https://pokeapi.co/api/v2/version-group/15/'}},\n",
       "    {'level_learned_at': 0,\n",
       "     'move_learn_method': {'name': 'machine',\n",
       "      'url': 'https://pokeapi.co/api/v2/move-learn-method/4/'},\n",
       "     'order': None,\n",
       "     'version_group': {'name': 'omega-ruby-alpha-sapphire',\n",
       "      'url': 'https://pokeapi.co/api/v2/version-group/16/'}},\n",
       "    {'level_learned_at': 0,\n",
       "     'move_learn_method': {'name': 'machine',\n",
       "      'url': 'https://pokeapi.co/api/v2/move-learn-method/4/'},\n",
       "     'order': None,\n",
       "     'version_group': {'name': 'sun-moon',\n",
       "      'url': 'https://pokeapi.co/api/v2/version-group/17/'}},\n",
       "    {'level_learned_at': 0,\n",
       "     'move_learn_method': {'name': 'machine',\n",
       "      'url': 'https://pokeapi.co/api/v2/move-learn-method/4/'},\n",
       "     'order': None,\n",
       "     'version_group': {'name': 'ultra-sun-ultra-moon',\n",
       "      'url': 'https://pokeapi.co/api/v2/version-group/18/'}},\n",
       "    {'level_learned_at': 0,\n",
       "     'move_learn_method': {'name': 'machine',\n",
       "      'url': 'https://pokeapi.co/api/v2/move-learn-method/4/'},\n",
       "     'order': None,\n",
       "     'version_group': {'name': 'sword-shield',\n",
       "      'url': 'https://pokeapi.co/api/v2/version-group/20/'}},\n",
       "    {'level_learned_at': 0,\n",
       "     'move_learn_method': {'name': 'machine',\n",
       "      'url': 'https://pokeapi.co/api/v2/move-learn-method/4/'},\n",
       "     'order': None,\n",
       "     'version_group': {'name': 'brilliant-diamond-and-shining-pearl',\n",
       "      'url': 'https://pokeapi.co/api/v2/version-group/23/'}},\n",
       "    {'level_learned_at': 0,\n",
       "     'move_learn_method': {'name': 'machine',\n",
       "      'url': 'https://pokeapi.co/api/v2/move-learn-method/4/'},\n",
       "     'order': None,\n",
       "     'version_group': {'name': 'scarlet-violet',\n",
       "      'url': 'https://pokeapi.co/api/v2/version-group/25/'}}]},\n",
       "  {'move': {'name': 'magnet-rise',\n",
       "    'url': 'https://pokeapi.co/api/v2/move/393/'},\n",
       "   'version_group_details': [{'level_learned_at': 0,\n",
       "     'move_learn_method': {'name': 'tutor',\n",
       "      'url': 'https://pokeapi.co/api/v2/move-learn-method/3/'},\n",
       "     'order': None,\n",
       "     'version_group': {'name': 'platinum',\n",
       "      'url': 'https://pokeapi.co/api/v2/version-group/9/'}},\n",
       "    {'level_learned_at': 0,\n",
       "     'move_learn_method': {'name': 'tutor',\n",
       "      'url': 'https://pokeapi.co/api/v2/move-learn-method/3/'},\n",
       "     'order': None,\n",
       "     'version_group': {'name': 'heartgold-soulsilver',\n",
       "      'url': 'https://pokeapi.co/api/v2/version-group/10/'}},\n",
       "    {'level_learned_at': 0,\n",
       "     'move_learn_method': {'name': 'tutor',\n",
       "      'url': 'https://pokeapi.co/api/v2/move-learn-method/3/'},\n",
       "     'order': None,\n",
       "     'version_group': {'name': 'black-2-white-2',\n",
       "      'url': 'https://pokeapi.co/api/v2/version-group/14/'}},\n",
       "    {'level_learned_at': 0,\n",
       "     'move_learn_method': {'name': 'tutor',\n",
       "      'url': 'https://pokeapi.co/api/v2/move-learn-method/3/'},\n",
       "     'order': None,\n",
       "     'version_group': {'name': 'omega-ruby-alpha-sapphire',\n",
       "      'url': 'https://pokeapi.co/api/v2/version-group/16/'}},\n",
       "    {'level_learned_at': 0,\n",
       "     'move_learn_method': {'name': 'tutor',\n",
       "      'url': 'https://pokeapi.co/api/v2/move-learn-method/3/'},\n",
       "     'order': None,\n",
       "     'version_group': {'name': 'ultra-sun-ultra-moon',\n",
       "      'url': 'https://pokeapi.co/api/v2/version-group/18/'}}]},\n",
       "  {'move': {'name': 'nasty-plot',\n",
       "    'url': 'https://pokeapi.co/api/v2/move/417/'},\n",
       "   'version_group_details': [{'level_learned_at': 1,\n",
       "     'move_learn_method': {'name': 'level-up',\n",
       "      'url': 'https://pokeapi.co/api/v2/move-learn-method/1/'},\n",
       "     'order': 4,\n",
       "     'version_group': {'name': 'sword-shield',\n",
       "      'url': 'https://pokeapi.co/api/v2/version-group/20/'}},\n",
       "    {'level_learned_at': 0,\n",
       "     'move_learn_method': {'name': 'machine',\n",
       "      'url': 'https://pokeapi.co/api/v2/move-learn-method/4/'},\n",
       "     'order': None,\n",
       "     'version_group': {'name': 'sword-shield',\n",
       "      'url': 'https://pokeapi.co/api/v2/version-group/20/'}},\n",
       "    {'level_learned_at': 1,\n",
       "     'move_learn_method': {'name': 'level-up',\n",
       "      'url': 'https://pokeapi.co/api/v2/move-learn-method/1/'},\n",
       "     'order': 3,\n",
       "     'version_group': {'name': 'brilliant-diamond-and-shining-pearl',\n",
       "      'url': 'https://pokeapi.co/api/v2/version-group/23/'}},\n",
       "    {'level_learned_at': 0,\n",
       "     'move_learn_method': {'name': 'machine',\n",
       "      'url': 'https://pokeapi.co/api/v2/move-learn-method/4/'},\n",
       "     'order': None,\n",
       "     'version_group': {'name': 'brilliant-diamond-and-shining-pearl',\n",
       "      'url': 'https://pokeapi.co/api/v2/version-group/23/'}},\n",
       "    {'level_learned_at': 1,\n",
       "     'move_learn_method': {'name': 'level-up',\n",
       "      'url': 'https://pokeapi.co/api/v2/move-learn-method/1/'},\n",
       "     'order': 2,\n",
       "     'version_group': {'name': 'scarlet-violet',\n",
       "      'url': 'https://pokeapi.co/api/v2/version-group/25/'}},\n",
       "    {'level_learned_at': 0,\n",
       "     'move_learn_method': {'name': 'machine',\n",
       "      'url': 'https://pokeapi.co/api/v2/move-learn-method/4/'},\n",
       "     'order': None,\n",
       "     'version_group': {'name': 'scarlet-violet',\n",
       "      'url': 'https://pokeapi.co/api/v2/version-group/25/'}}]},\n",
       "  {'move': {'name': 'discharge', 'url': 'https://pokeapi.co/api/v2/move/435/'},\n",
       "   'version_group_details': [{'level_learned_at': 37,\n",
       "     'move_learn_method': {'name': 'level-up',\n",
       "      'url': 'https://pokeapi.co/api/v2/move-learn-method/1/'},\n",
       "     'order': None,\n",
       "     'version_group': {'name': 'diamond-pearl',\n",
       "      'url': 'https://pokeapi.co/api/v2/version-group/8/'}},\n",
       "    {'level_learned_at': 37,\n",
       "     'move_learn_method': {'name': 'level-up',\n",
       "      'url': 'https://pokeapi.co/api/v2/move-learn-method/1/'},\n",
       "     'order': None,\n",
       "     'version_group': {'name': 'platinum',\n",
       "      'url': 'https://pokeapi.co/api/v2/version-group/9/'}},\n",
       "    {'level_learned_at': 37,\n",
       "     'move_learn_method': {'name': 'level-up',\n",
       "      'url': 'https://pokeapi.co/api/v2/move-learn-method/1/'},\n",
       "     'order': None,\n",
       "     'version_group': {'name': 'heartgold-soulsilver',\n",
       "      'url': 'https://pokeapi.co/api/v2/version-group/10/'}},\n",
       "    {'level_learned_at': 42,\n",
       "     'move_learn_method': {'name': 'level-up',\n",
       "      'url': 'https://pokeapi.co/api/v2/move-learn-method/1/'},\n",
       "     'order': None,\n",
       "     'version_group': {'name': 'black-white',\n",
       "      'url': 'https://pokeapi.co/api/v2/version-group/11/'}},\n",
       "    {'level_learned_at': 42,\n",
       "     'move_learn_method': {'name': 'level-up',\n",
       "      'url': 'https://pokeapi.co/api/v2/move-learn-method/1/'},\n",
       "     'order': None,\n",
       "     'version_group': {'name': 'black-2-white-2',\n",
       "      'url': 'https://pokeapi.co/api/v2/version-group/14/'}},\n",
       "    {'level_learned_at': 42,\n",
       "     'move_learn_method': {'name': 'level-up',\n",
       "      'url': 'https://pokeapi.co/api/v2/move-learn-method/1/'},\n",
       "     'order': None,\n",
       "     'version_group': {'name': 'x-y',\n",
       "      'url': 'https://pokeapi.co/api/v2/version-group/15/'}},\n",
       "    {'level_learned_at': 34,\n",
       "     'move_learn_method': {'name': 'level-up',\n",
       "      'url': 'https://pokeapi.co/api/v2/move-learn-method/1/'},\n",
       "     'order': None,\n",
       "     'version_group': {'name': 'omega-ruby-alpha-sapphire',\n",
       "      'url': 'https://pokeapi.co/api/v2/version-group/16/'}},\n",
       "    {'level_learned_at': 34,\n",
       "     'move_learn_method': {'name': 'level-up',\n",
       "      'url': 'https://pokeapi.co/api/v2/move-learn-method/1/'},\n",
       "     'order': None,\n",
       "     'version_group': {'name': 'sun-moon',\n",
       "      'url': 'https://pokeapi.co/api/v2/version-group/17/'}},\n",
       "    {'level_learned_at': 34,\n",
       "     'move_learn_method': {'name': 'level-up',\n",
       "      'url': 'https://pokeapi.co/api/v2/move-learn-method/1/'},\n",
       "     'order': None,\n",
       "     'version_group': {'name': 'ultra-sun-ultra-moon',\n",
       "      'url': 'https://pokeapi.co/api/v2/version-group/18/'}},\n",
       "    {'level_learned_at': 32,\n",
       "     'move_learn_method': {'name': 'level-up',\n",
       "      'url': 'https://pokeapi.co/api/v2/move-learn-method/1/'},\n",
       "     'order': None,\n",
       "     'version_group': {'name': 'sword-shield',\n",
       "      'url': 'https://pokeapi.co/api/v2/version-group/20/'}},\n",
       "    {'level_learned_at': 32,\n",
       "     'move_learn_method': {'name': 'level-up',\n",
       "      'url': 'https://pokeapi.co/api/v2/move-learn-method/1/'},\n",
       "     'order': None,\n",
       "     'version_group': {'name': 'brilliant-diamond-and-shining-pearl',\n",
       "      'url': 'https://pokeapi.co/api/v2/version-group/23/'}},\n",
       "    {'level_learned_at': 32,\n",
       "     'move_learn_method': {'name': 'level-up',\n",
       "      'url': 'https://pokeapi.co/api/v2/move-learn-method/1/'},\n",
       "     'order': None,\n",
       "     'version_group': {'name': 'scarlet-violet',\n",
       "      'url': 'https://pokeapi.co/api/v2/version-group/25/'}}]},\n",
       "  {'move': {'name': 'captivate', 'url': 'https://pokeapi.co/api/v2/move/445/'},\n",
       "   'version_group_details': [{'level_learned_at': 0,\n",
       "     'move_learn_method': {'name': 'machine',\n",
       "      'url': 'https://pokeapi.co/api/v2/move-learn-method/4/'},\n",
       "     'order': None,\n",
       "     'version_group': {'name': 'diamond-pearl',\n",
       "      'url': 'https://pokeapi.co/api/v2/version-group/8/'}},\n",
       "    {'level_learned_at': 0,\n",
       "     'move_learn_method': {'name': 'machine',\n",
       "      'url': 'https://pokeapi.co/api/v2/move-learn-method/4/'},\n",
       "     'order': None,\n",
       "     'version_group': {'name': 'platinum',\n",
       "      'url': 'https://pokeapi.co/api/v2/version-group/9/'}},\n",
       "    {'level_learned_at': 0,\n",
       "     'move_learn_method': {'name': 'machine',\n",
       "      'url': 'https://pokeapi.co/api/v2/move-learn-method/4/'},\n",
       "     'order': None,\n",
       "     'version_group': {'name': 'heartgold-soulsilver',\n",
       "      'url': 'https://pokeapi.co/api/v2/version-group/10/'}}]},\n",
       "  {'move': {'name': 'grass-knot',\n",
       "    'url': 'https://pokeapi.co/api/v2/move/447/'},\n",
       "   'version_group_details': [{'level_learned_at': 0,\n",
       "     'move_learn_method': {'name': 'machine',\n",
       "      'url': 'https://pokeapi.co/api/v2/move-learn-method/4/'},\n",
       "     'order': None,\n",
       "     'version_group': {'name': 'diamond-pearl',\n",
       "      'url': 'https://pokeapi.co/api/v2/version-group/8/'}},\n",
       "    {'level_learned_at': 0,\n",
       "     'move_learn_method': {'name': 'machine',\n",
       "      'url': 'https://pokeapi.co/api/v2/move-learn-method/4/'},\n",
       "     'order': None,\n",
       "     'version_group': {'name': 'platinum',\n",
       "      'url': 'https://pokeapi.co/api/v2/version-group/9/'}},\n",
       "    {'level_learned_at': 0,\n",
       "     'move_learn_method': {'name': 'machine',\n",
       "      'url': 'https://pokeapi.co/api/v2/move-learn-method/4/'},\n",
       "     'order': None,\n",
       "     'version_group': {'name': 'heartgold-soulsilver',\n",
       "      'url': 'https://pokeapi.co/api/v2/version-group/10/'}},\n",
       "    {'level_learned_at': 0,\n",
       "     'move_learn_method': {'name': 'machine',\n",
       "      'url': 'https://pokeapi.co/api/v2/move-learn-method/4/'},\n",
       "     'order': None,\n",
       "     'version_group': {'name': 'black-white',\n",
       "      'url': 'https://pokeapi.co/api/v2/version-group/11/'}},\n",
       "    {'level_learned_at': 0,\n",
       "     'move_learn_method': {'name': 'machine',\n",
       "      'url': 'https://pokeapi.co/api/v2/move-learn-method/4/'},\n",
       "     'order': None,\n",
       "     'version_group': {'name': 'black-2-white-2',\n",
       "      'url': 'https://pokeapi.co/api/v2/version-group/14/'}},\n",
       "    {'level_learned_at': 0,\n",
       "     'move_learn_method': {'name': 'machine',\n",
       "      'url': 'https://pokeapi.co/api/v2/move-learn-method/4/'},\n",
       "     'order': None,\n",
       "     'version_group': {'name': 'x-y',\n",
       "      'url': 'https://pokeapi.co/api/v2/version-group/15/'}},\n",
       "    {'level_learned_at': 0,\n",
       "     'move_learn_method': {'name': 'machine',\n",
       "      'url': 'https://pokeapi.co/api/v2/move-learn-method/4/'},\n",
       "     'order': None,\n",
       "     'version_group': {'name': 'omega-ruby-alpha-sapphire',\n",
       "      'url': 'https://pokeapi.co/api/v2/version-group/16/'}},\n",
       "    {'level_learned_at': 0,\n",
       "     'move_learn_method': {'name': 'machine',\n",
       "      'url': 'https://pokeapi.co/api/v2/move-learn-method/4/'},\n",
       "     'order': None,\n",
       "     'version_group': {'name': 'sun-moon',\n",
       "      'url': 'https://pokeapi.co/api/v2/version-group/17/'}},\n",
       "    {'level_learned_at': 0,\n",
       "     'move_learn_method': {'name': 'machine',\n",
       "      'url': 'https://pokeapi.co/api/v2/move-learn-method/4/'},\n",
       "     'order': None,\n",
       "     'version_group': {'name': 'ultra-sun-ultra-moon',\n",
       "      'url': 'https://pokeapi.co/api/v2/version-group/18/'}},\n",
       "    {'level_learned_at': 0,\n",
       "     'move_learn_method': {'name': 'machine',\n",
       "      'url': 'https://pokeapi.co/api/v2/move-learn-method/4/'},\n",
       "     'order': None,\n",
       "     'version_group': {'name': 'sword-shield',\n",
       "      'url': 'https://pokeapi.co/api/v2/version-group/20/'}},\n",
       "    {'level_learned_at': 0,\n",
       "     'move_learn_method': {'name': 'machine',\n",
       "      'url': 'https://pokeapi.co/api/v2/move-learn-method/4/'},\n",
       "     'order': None,\n",
       "     'version_group': {'name': 'brilliant-diamond-and-shining-pearl',\n",
       "      'url': 'https://pokeapi.co/api/v2/version-group/23/'}},\n",
       "    {'level_learned_at': 0,\n",
       "     'move_learn_method': {'name': 'machine',\n",
       "      'url': 'https://pokeapi.co/api/v2/move-learn-method/4/'},\n",
       "     'order': None,\n",
       "     'version_group': {'name': 'scarlet-violet',\n",
       "      'url': 'https://pokeapi.co/api/v2/version-group/25/'}}]},\n",
       "  {'move': {'name': 'charge-beam',\n",
       "    'url': 'https://pokeapi.co/api/v2/move/451/'},\n",
       "   'version_group_details': [{'level_learned_at': 0,\n",
       "     'move_learn_method': {'name': 'machine',\n",
       "      'url': 'https://pokeapi.co/api/v2/move-learn-method/4/'},\n",
       "     'order': None,\n",
       "     'version_group': {'name': 'diamond-pearl',\n",
       "      'url': 'https://pokeapi.co/api/v2/version-group/8/'}},\n",
       "    {'level_learned_at': 0,\n",
       "     'move_learn_method': {'name': 'machine',\n",
       "      'url': 'https://pokeapi.co/api/v2/move-learn-method/4/'},\n",
       "     'order': None,\n",
       "     'version_group': {'name': 'platinum',\n",
       "      'url': 'https://pokeapi.co/api/v2/version-group/9/'}},\n",
       "    {'level_learned_at': 0,\n",
       "     'move_learn_method': {'name': 'machine',\n",
       "      'url': 'https://pokeapi.co/api/v2/move-learn-method/4/'},\n",
       "     'order': None,\n",
       "     'version_group': {'name': 'heartgold-soulsilver',\n",
       "      'url': 'https://pokeapi.co/api/v2/version-group/10/'}},\n",
       "    {'level_learned_at': 0,\n",
       "     'move_learn_method': {'name': 'machine',\n",
       "      'url': 'https://pokeapi.co/api/v2/move-learn-method/4/'},\n",
       "     'order': None,\n",
       "     'version_group': {'name': 'black-white',\n",
       "      'url': 'https://pokeapi.co/api/v2/version-group/11/'}},\n",
       "    {'level_learned_at': 0,\n",
       "     'move_learn_method': {'name': 'machine',\n",
       "      'url': 'https://pokeapi.co/api/v2/move-learn-method/4/'},\n",
       "     'order': None,\n",
       "     'version_group': {'name': 'black-2-white-2',\n",
       "      'url': 'https://pokeapi.co/api/v2/version-group/14/'}},\n",
       "    {'level_learned_at': 0,\n",
       "     'move_learn_method': {'name': 'machine',\n",
       "      'url': 'https://pokeapi.co/api/v2/move-learn-method/4/'},\n",
       "     'order': None,\n",
       "     'version_group': {'name': 'x-y',\n",
       "      'url': 'https://pokeapi.co/api/v2/version-group/15/'}},\n",
       "    {'level_learned_at': 0,\n",
       "     'move_learn_method': {'name': 'machine',\n",
       "      'url': 'https://pokeapi.co/api/v2/move-learn-method/4/'},\n",
       "     'order': None,\n",
       "     'version_group': {'name': 'omega-ruby-alpha-sapphire',\n",
       "      'url': 'https://pokeapi.co/api/v2/version-group/16/'}},\n",
       "    {'level_learned_at': 0,\n",
       "     'move_learn_method': {'name': 'machine',\n",
       "      'url': 'https://pokeapi.co/api/v2/move-learn-method/4/'},\n",
       "     'order': None,\n",
       "     'version_group': {'name': 'sun-moon',\n",
       "      'url': 'https://pokeapi.co/api/v2/version-group/17/'}},\n",
       "    {'level_learned_at': 0,\n",
       "     'move_learn_method': {'name': 'machine',\n",
       "      'url': 'https://pokeapi.co/api/v2/move-learn-method/4/'},\n",
       "     'order': None,\n",
       "     'version_group': {'name': 'ultra-sun-ultra-moon',\n",
       "      'url': 'https://pokeapi.co/api/v2/version-group/18/'}},\n",
       "    {'level_learned_at': 0,\n",
       "     'move_learn_method': {'name': 'machine',\n",
       "      'url': 'https://pokeapi.co/api/v2/move-learn-method/4/'},\n",
       "     'order': None,\n",
       "     'version_group': {'name': 'brilliant-diamond-and-shining-pearl',\n",
       "      'url': 'https://pokeapi.co/api/v2/version-group/23/'}},\n",
       "    {'level_learned_at': 0,\n",
       "     'move_learn_method': {'name': 'machine',\n",
       "      'url': 'https://pokeapi.co/api/v2/move-learn-method/4/'},\n",
       "     'order': None,\n",
       "     'version_group': {'name': 'scarlet-violet',\n",
       "      'url': 'https://pokeapi.co/api/v2/version-group/25/'}}]},\n",
       "  {'move': {'name': 'electro-ball',\n",
       "    'url': 'https://pokeapi.co/api/v2/move/486/'},\n",
       "   'version_group_details': [{'level_learned_at': 18,\n",
       "     'move_learn_method': {'name': 'level-up',\n",
       "      'url': 'https://pokeapi.co/api/v2/move-learn-method/1/'},\n",
       "     'order': None,\n",
       "     'version_group': {'name': 'black-white',\n",
       "      'url': 'https://pokeapi.co/api/v2/version-group/11/'}},\n",
       "    {'level_learned_at': 18,\n",
       "     'move_learn_method': {'name': 'level-up',\n",
       "      'url': 'https://pokeapi.co/api/v2/move-learn-method/1/'},\n",
       "     'order': None,\n",
       "     'version_group': {'name': 'black-2-white-2',\n",
       "      'url': 'https://pokeapi.co/api/v2/version-group/14/'}},\n",
       "    {'level_learned_at': 18,\n",
       "     'move_learn_method': {'name': 'level-up',\n",
       "      'url': 'https://pokeapi.co/api/v2/move-learn-method/1/'},\n",
       "     'order': None,\n",
       "     'version_group': {'name': 'x-y',\n",
       "      'url': 'https://pokeapi.co/api/v2/version-group/15/'}},\n",
       "    {'level_learned_at': 13,\n",
       "     'move_learn_method': {'name': 'level-up',\n",
       "      'url': 'https://pokeapi.co/api/v2/move-learn-method/1/'},\n",
       "     'order': None,\n",
       "     'version_group': {'name': 'omega-ruby-alpha-sapphire',\n",
       "      'url': 'https://pokeapi.co/api/v2/version-group/16/'}},\n",
       "    {'level_learned_at': 13,\n",
       "     'move_learn_method': {'name': 'level-up',\n",
       "      'url': 'https://pokeapi.co/api/v2/move-learn-method/1/'},\n",
       "     'order': None,\n",
       "     'version_group': {'name': 'sun-moon',\n",
       "      'url': 'https://pokeapi.co/api/v2/version-group/17/'}},\n",
       "    {'level_learned_at': 13,\n",
       "     'move_learn_method': {'name': 'level-up',\n",
       "      'url': 'https://pokeapi.co/api/v2/move-learn-method/1/'},\n",
       "     'order': None,\n",
       "     'version_group': {'name': 'ultra-sun-ultra-moon',\n",
       "      'url': 'https://pokeapi.co/api/v2/version-group/18/'}},\n",
       "    {'level_learned_at': 12,\n",
       "     'move_learn_method': {'name': 'level-up',\n",
       "      'url': 'https://pokeapi.co/api/v2/move-learn-method/1/'},\n",
       "     'order': None,\n",
       "     'version_group': {'name': 'sword-shield',\n",
       "      'url': 'https://pokeapi.co/api/v2/version-group/20/'}},\n",
       "    {'level_learned_at': 0,\n",
       "     'move_learn_method': {'name': 'machine',\n",
       "      'url': 'https://pokeapi.co/api/v2/move-learn-method/4/'},\n",
       "     'order': None,\n",
       "     'version_group': {'name': 'sword-shield',\n",
       "      'url': 'https://pokeapi.co/api/v2/version-group/20/'}},\n",
       "    {'level_learned_at': 12,\n",
       "     'move_learn_method': {'name': 'level-up',\n",
       "      'url': 'https://pokeapi.co/api/v2/move-learn-method/1/'},\n",
       "     'order': None,\n",
       "     'version_group': {'name': 'brilliant-diamond-and-shining-pearl',\n",
       "      'url': 'https://pokeapi.co/api/v2/version-group/23/'}},\n",
       "    {'level_learned_at': 12,\n",
       "     'move_learn_method': {'name': 'level-up',\n",
       "      'url': 'https://pokeapi.co/api/v2/move-learn-method/1/'},\n",
       "     'order': None,\n",
       "     'version_group': {'name': 'scarlet-violet',\n",
       "      'url': 'https://pokeapi.co/api/v2/version-group/25/'}},\n",
       "    {'level_learned_at': 0,\n",
       "     'move_learn_method': {'name': 'machine',\n",
       "      'url': 'https://pokeapi.co/api/v2/move-learn-method/4/'},\n",
       "     'order': None,\n",
       "     'version_group': {'name': 'scarlet-violet',\n",
       "      'url': 'https://pokeapi.co/api/v2/version-group/25/'}}]},\n",
       "  {'move': {'name': 'round', 'url': 'https://pokeapi.co/api/v2/move/496/'},\n",
       "   'version_group_details': [{'level_learned_at': 0,\n",
       "     'move_learn_method': {'name': 'machine',\n",
       "      'url': 'https://pokeapi.co/api/v2/move-learn-method/4/'},\n",
       "     'order': None,\n",
       "     'version_group': {'name': 'black-white',\n",
       "      'url': 'https://pokeapi.co/api/v2/version-group/11/'}},\n",
       "    {'level_learned_at': 0,\n",
       "     'move_learn_method': {'name': 'machine',\n",
       "      'url': 'https://pokeapi.co/api/v2/move-learn-method/4/'},\n",
       "     'order': None,\n",
       "     'version_group': {'name': 'black-2-white-2',\n",
       "      'url': 'https://pokeapi.co/api/v2/version-group/14/'}},\n",
       "    {'level_learned_at': 0,\n",
       "     'move_learn_method': {'name': 'machine',\n",
       "      'url': 'https://pokeapi.co/api/v2/move-learn-method/4/'},\n",
       "     'order': None,\n",
       "     'version_group': {'name': 'x-y',\n",
       "      'url': 'https://pokeapi.co/api/v2/version-group/15/'}},\n",
       "    {'level_learned_at': 0,\n",
       "     'move_learn_method': {'name': 'machine',\n",
       "      'url': 'https://pokeapi.co/api/v2/move-learn-method/4/'},\n",
       "     'order': None,\n",
       "     'version_group': {'name': 'omega-ruby-alpha-sapphire',\n",
       "      'url': 'https://pokeapi.co/api/v2/version-group/16/'}},\n",
       "    {'level_learned_at': 0,\n",
       "     'move_learn_method': {'name': 'machine',\n",
       "      'url': 'https://pokeapi.co/api/v2/move-learn-method/4/'},\n",
       "     'order': None,\n",
       "     'version_group': {'name': 'sun-moon',\n",
       "      'url': 'https://pokeapi.co/api/v2/version-group/17/'}},\n",
       "    {'level_learned_at': 0,\n",
       "     'move_learn_method': {'name': 'machine',\n",
       "      'url': 'https://pokeapi.co/api/v2/move-learn-method/4/'},\n",
       "     'order': None,\n",
       "     'version_group': {'name': 'ultra-sun-ultra-moon',\n",
       "      'url': 'https://pokeapi.co/api/v2/version-group/18/'}},\n",
       "    {'level_learned_at': 0,\n",
       "     'move_learn_method': {'name': 'machine',\n",
       "      'url': 'https://pokeapi.co/api/v2/move-learn-method/4/'},\n",
       "     'order': None,\n",
       "     'version_group': {'name': 'sword-shield',\n",
       "      'url': 'https://pokeapi.co/api/v2/version-group/20/'}}]},\n",
       "  {'move': {'name': 'echoed-voice',\n",
       "    'url': 'https://pokeapi.co/api/v2/move/497/'},\n",
       "   'version_group_details': [{'level_learned_at': 0,\n",
       "     'move_learn_method': {'name': 'machine',\n",
       "      'url': 'https://pokeapi.co/api/v2/move-learn-method/4/'},\n",
       "     'order': None,\n",
       "     'version_group': {'name': 'black-white',\n",
       "      'url': 'https://pokeapi.co/api/v2/version-group/11/'}},\n",
       "    {'level_learned_at': 0,\n",
       "     'move_learn_method': {'name': 'machine',\n",
       "      'url': 'https://pokeapi.co/api/v2/move-learn-method/4/'},\n",
       "     'order': None,\n",
       "     'version_group': {'name': 'black-2-white-2',\n",
       "      'url': 'https://pokeapi.co/api/v2/version-group/14/'}},\n",
       "    {'level_learned_at': 0,\n",
       "     'move_learn_method': {'name': 'machine',\n",
       "      'url': 'https://pokeapi.co/api/v2/move-learn-method/4/'},\n",
       "     'order': None,\n",
       "     'version_group': {'name': 'x-y',\n",
       "      'url': 'https://pokeapi.co/api/v2/version-group/15/'}},\n",
       "    {'level_learned_at': 0,\n",
       "     'move_learn_method': {'name': 'machine',\n",
       "      'url': 'https://pokeapi.co/api/v2/move-learn-method/4/'},\n",
       "     'order': None,\n",
       "     'version_group': {'name': 'omega-ruby-alpha-sapphire',\n",
       "      'url': 'https://pokeapi.co/api/v2/version-group/16/'}},\n",
       "    {'level_learned_at': 0,\n",
       "     'move_learn_method': {'name': 'machine',\n",
       "      'url': 'https://pokeapi.co/api/v2/move-learn-method/4/'},\n",
       "     'order': None,\n",
       "     'version_group': {'name': 'sun-moon',\n",
       "      'url': 'https://pokeapi.co/api/v2/version-group/17/'}},\n",
       "    {'level_learned_at': 0,\n",
       "     'move_learn_method': {'name': 'machine',\n",
       "      'url': 'https://pokeapi.co/api/v2/move-learn-method/4/'},\n",
       "     'order': None,\n",
       "     'version_group': {'name': 'ultra-sun-ultra-moon',\n",
       "      'url': 'https://pokeapi.co/api/v2/version-group/18/'}}]},\n",
       "  {'move': {'name': 'volt-switch',\n",
       "    'url': 'https://pokeapi.co/api/v2/move/521/'},\n",
       "   'version_group_details': [{'level_learned_at': 0,\n",
       "     'move_learn_method': {'name': 'machine',\n",
       "      'url': 'https://pokeapi.co/api/v2/move-learn-method/4/'},\n",
       "     'order': None,\n",
       "     'version_group': {'name': 'black-white',\n",
       "      'url': 'https://pokeapi.co/api/v2/version-group/11/'}},\n",
       "    {'level_learned_at': 0,\n",
       "     'move_learn_method': {'name': 'machine',\n",
       "      'url': 'https://pokeapi.co/api/v2/move-learn-method/4/'},\n",
       "     'order': None,\n",
       "     'version_group': {'name': 'black-2-white-2',\n",
       "      'url': 'https://pokeapi.co/api/v2/version-group/14/'}},\n",
       "    {'level_learned_at': 0,\n",
       "     'move_learn_method': {'name': 'machine',\n",
       "      'url': 'https://pokeapi.co/api/v2/move-learn-method/4/'},\n",
       "     'order': None,\n",
       "     'version_group': {'name': 'x-y',\n",
       "      'url': 'https://pokeapi.co/api/v2/version-group/15/'}},\n",
       "    {'level_learned_at': 0,\n",
       "     'move_learn_method': {'name': 'machine',\n",
       "      'url': 'https://pokeapi.co/api/v2/move-learn-method/4/'},\n",
       "     'order': None,\n",
       "     'version_group': {'name': 'omega-ruby-alpha-sapphire',\n",
       "      'url': 'https://pokeapi.co/api/v2/version-group/16/'}},\n",
       "    {'level_learned_at': 0,\n",
       "     'move_learn_method': {'name': 'machine',\n",
       "      'url': 'https://pokeapi.co/api/v2/move-learn-method/4/'},\n",
       "     'order': None,\n",
       "     'version_group': {'name': 'sun-moon',\n",
       "      'url': 'https://pokeapi.co/api/v2/version-group/17/'}},\n",
       "    {'level_learned_at': 0,\n",
       "     'move_learn_method': {'name': 'machine',\n",
       "      'url': 'https://pokeapi.co/api/v2/move-learn-method/4/'},\n",
       "     'order': None,\n",
       "     'version_group': {'name': 'ultra-sun-ultra-moon',\n",
       "      'url': 'https://pokeapi.co/api/v2/version-group/18/'}},\n",
       "    {'level_learned_at': 0,\n",
       "     'move_learn_method': {'name': 'machine',\n",
       "      'url': 'https://pokeapi.co/api/v2/move-learn-method/4/'},\n",
       "     'order': None,\n",
       "     'version_group': {'name': 'sword-shield',\n",
       "      'url': 'https://pokeapi.co/api/v2/version-group/20/'}},\n",
       "    {'level_learned_at': 0,\n",
       "     'move_learn_method': {'name': 'machine',\n",
       "      'url': 'https://pokeapi.co/api/v2/move-learn-method/4/'},\n",
       "     'order': None,\n",
       "     'version_group': {'name': 'brilliant-diamond-and-shining-pearl',\n",
       "      'url': 'https://pokeapi.co/api/v2/version-group/23/'}},\n",
       "    {'level_learned_at': 0,\n",
       "     'move_learn_method': {'name': 'machine',\n",
       "      'url': 'https://pokeapi.co/api/v2/move-learn-method/4/'},\n",
       "     'order': None,\n",
       "     'version_group': {'name': 'scarlet-violet',\n",
       "      'url': 'https://pokeapi.co/api/v2/version-group/25/'}}]},\n",
       "  {'move': {'name': 'electroweb',\n",
       "    'url': 'https://pokeapi.co/api/v2/move/527/'},\n",
       "   'version_group_details': [{'level_learned_at': 0,\n",
       "     'move_learn_method': {'name': 'tutor',\n",
       "      'url': 'https://pokeapi.co/api/v2/move-learn-method/3/'},\n",
       "     'order': None,\n",
       "     'version_group': {'name': 'omega-ruby-alpha-sapphire',\n",
       "      'url': 'https://pokeapi.co/api/v2/version-group/16/'}},\n",
       "    {'level_learned_at': 0,\n",
       "     'move_learn_method': {'name': 'tutor',\n",
       "      'url': 'https://pokeapi.co/api/v2/move-learn-method/3/'},\n",
       "     'order': None,\n",
       "     'version_group': {'name': 'ultra-sun-ultra-moon',\n",
       "      'url': 'https://pokeapi.co/api/v2/version-group/18/'}},\n",
       "    {'level_learned_at': 0,\n",
       "     'move_learn_method': {'name': 'machine',\n",
       "      'url': 'https://pokeapi.co/api/v2/move-learn-method/4/'},\n",
       "     'order': None,\n",
       "     'version_group': {'name': 'sword-shield',\n",
       "      'url': 'https://pokeapi.co/api/v2/version-group/20/'}},\n",
       "    {'level_learned_at': 0,\n",
       "     'move_learn_method': {'name': 'machine',\n",
       "      'url': 'https://pokeapi.co/api/v2/move-learn-method/4/'},\n",
       "     'order': None,\n",
       "     'version_group': {'name': 'scarlet-violet',\n",
       "      'url': 'https://pokeapi.co/api/v2/version-group/25/'}}]},\n",
       "  {'move': {'name': 'wild-charge',\n",
       "    'url': 'https://pokeapi.co/api/v2/move/528/'},\n",
       "   'version_group_details': [{'level_learned_at': 0,\n",
       "     'move_learn_method': {'name': 'machine',\n",
       "      'url': 'https://pokeapi.co/api/v2/move-learn-method/4/'},\n",
       "     'order': None,\n",
       "     'version_group': {'name': 'black-white',\n",
       "      'url': 'https://pokeapi.co/api/v2/version-group/11/'}},\n",
       "    {'level_learned_at': 0,\n",
       "     'move_learn_method': {'name': 'machine',\n",
       "      'url': 'https://pokeapi.co/api/v2/move-learn-method/4/'},\n",
       "     'order': None,\n",
       "     'version_group': {'name': 'black-2-white-2',\n",
       "      'url': 'https://pokeapi.co/api/v2/version-group/14/'}},\n",
       "    {'level_learned_at': 0,\n",
       "     'move_learn_method': {'name': 'machine',\n",
       "      'url': 'https://pokeapi.co/api/v2/move-learn-method/4/'},\n",
       "     'order': None,\n",
       "     'version_group': {'name': 'x-y',\n",
       "      'url': 'https://pokeapi.co/api/v2/version-group/15/'}},\n",
       "    {'level_learned_at': 50,\n",
       "     'move_learn_method': {'name': 'level-up',\n",
       "      'url': 'https://pokeapi.co/api/v2/move-learn-method/1/'},\n",
       "     'order': None,\n",
       "     'version_group': {'name': 'omega-ruby-alpha-sapphire',\n",
       "      'url': 'https://pokeapi.co/api/v2/version-group/16/'}},\n",
       "    {'level_learned_at': 0,\n",
       "     'move_learn_method': {'name': 'machine',\n",
       "      'url': 'https://pokeapi.co/api/v2/move-learn-method/4/'},\n",
       "     'order': None,\n",
       "     'version_group': {'name': 'omega-ruby-alpha-sapphire',\n",
       "      'url': 'https://pokeapi.co/api/v2/version-group/16/'}},\n",
       "    {'level_learned_at': 50,\n",
       "     'move_learn_method': {'name': 'level-up',\n",
       "      'url': 'https://pokeapi.co/api/v2/move-learn-method/1/'},\n",
       "     'order': None,\n",
       "     'version_group': {'name': 'sun-moon',\n",
       "      'url': 'https://pokeapi.co/api/v2/version-group/17/'}},\n",
       "    {'level_learned_at': 0,\n",
       "     'move_learn_method': {'name': 'machine',\n",
       "      'url': 'https://pokeapi.co/api/v2/move-learn-method/4/'},\n",
       "     'order': None,\n",
       "     'version_group': {'name': 'sun-moon',\n",
       "      'url': 'https://pokeapi.co/api/v2/version-group/17/'}},\n",
       "    {'level_learned_at': 50,\n",
       "     'move_learn_method': {'name': 'level-up',\n",
       "      'url': 'https://pokeapi.co/api/v2/move-learn-method/1/'},\n",
       "     'order': None,\n",
       "     'version_group': {'name': 'ultra-sun-ultra-moon',\n",
       "      'url': 'https://pokeapi.co/api/v2/version-group/18/'}},\n",
       "    {'level_learned_at': 0,\n",
       "     'move_learn_method': {'name': 'machine',\n",
       "      'url': 'https://pokeapi.co/api/v2/move-learn-method/4/'},\n",
       "     'order': None,\n",
       "     'version_group': {'name': 'ultra-sun-ultra-moon',\n",
       "      'url': 'https://pokeapi.co/api/v2/version-group/18/'}},\n",
       "    {'level_learned_at': 0,\n",
       "     'move_learn_method': {'name': 'machine',\n",
       "      'url': 'https://pokeapi.co/api/v2/move-learn-method/4/'},\n",
       "     'order': None,\n",
       "     'version_group': {'name': 'sword-shield',\n",
       "      'url': 'https://pokeapi.co/api/v2/version-group/20/'}},\n",
       "    {'level_learned_at': 0,\n",
       "     'move_learn_method': {'name': 'machine',\n",
       "      'url': 'https://pokeapi.co/api/v2/move-learn-method/4/'},\n",
       "     'order': None,\n",
       "     'version_group': {'name': 'scarlet-violet',\n",
       "      'url': 'https://pokeapi.co/api/v2/version-group/25/'}}]},\n",
       "  {'move': {'name': 'disarming-voice',\n",
       "    'url': 'https://pokeapi.co/api/v2/move/574/'},\n",
       "   'version_group_details': [{'level_learned_at': 0,\n",
       "     'move_learn_method': {'name': 'machine',\n",
       "      'url': 'https://pokeapi.co/api/v2/move-learn-method/4/'},\n",
       "     'order': None,\n",
       "     'version_group': {'name': 'scarlet-violet',\n",
       "      'url': 'https://pokeapi.co/api/v2/version-group/25/'}}]},\n",
       "  {'move': {'name': 'draining-kiss',\n",
       "    'url': 'https://pokeapi.co/api/v2/move/577/'},\n",
       "   'version_group_details': [{'level_learned_at': 0,\n",
       "     'move_learn_method': {'name': 'machine',\n",
       "      'url': 'https://pokeapi.co/api/v2/move-learn-method/4/'},\n",
       "     'order': None,\n",
       "     'version_group': {'name': 'sword-shield',\n",
       "      'url': 'https://pokeapi.co/api/v2/version-group/20/'}},\n",
       "    {'level_learned_at': 0,\n",
       "     'move_learn_method': {'name': 'machine',\n",
       "      'url': 'https://pokeapi.co/api/v2/move-learn-method/4/'},\n",
       "     'order': None,\n",
       "     'version_group': {'name': 'scarlet-violet',\n",
       "      'url': 'https://pokeapi.co/api/v2/version-group/25/'}}]},\n",
       "  {'move': {'name': 'play-rough',\n",
       "    'url': 'https://pokeapi.co/api/v2/move/583/'},\n",
       "   'version_group_details': [{'level_learned_at': 0,\n",
       "     'move_learn_method': {'name': 'machine',\n",
       "      'url': 'https://pokeapi.co/api/v2/move-learn-method/4/'},\n",
       "     'order': None,\n",
       "     'version_group': {'name': 'sword-shield',\n",
       "      'url': 'https://pokeapi.co/api/v2/version-group/20/'}},\n",
       "    {'level_learned_at': 0,\n",
       "     'move_learn_method': {'name': 'machine',\n",
       "      'url': 'https://pokeapi.co/api/v2/move-learn-method/4/'},\n",
       "     'order': None,\n",
       "     'version_group': {'name': 'scarlet-violet',\n",
       "      'url': 'https://pokeapi.co/api/v2/version-group/25/'}}]},\n",
       "  {'move': {'name': 'play-nice', 'url': 'https://pokeapi.co/api/v2/move/589/'},\n",
       "   'version_group_details': [{'level_learned_at': 7,\n",
       "     'move_learn_method': {'name': 'level-up',\n",
       "      'url': 'https://pokeapi.co/api/v2/move-learn-method/1/'},\n",
       "     'order': None,\n",
       "     'version_group': {'name': 'x-y',\n",
       "      'url': 'https://pokeapi.co/api/v2/version-group/15/'}},\n",
       "    {'level_learned_at': 7,\n",
       "     'move_learn_method': {'name': 'level-up',\n",
       "      'url': 'https://pokeapi.co/api/v2/move-learn-method/1/'},\n",
       "     'order': None,\n",
       "     'version_group': {'name': 'omega-ruby-alpha-sapphire',\n",
       "      'url': 'https://pokeapi.co/api/v2/version-group/16/'}},\n",
       "    {'level_learned_at': 7,\n",
       "     'move_learn_method': {'name': 'level-up',\n",
       "      'url': 'https://pokeapi.co/api/v2/move-learn-method/1/'},\n",
       "     'order': None,\n",
       "     'version_group': {'name': 'sun-moon',\n",
       "      'url': 'https://pokeapi.co/api/v2/version-group/17/'}},\n",
       "    {'level_learned_at': 7,\n",
       "     'move_learn_method': {'name': 'level-up',\n",
       "      'url': 'https://pokeapi.co/api/v2/move-learn-method/1/'},\n",
       "     'order': None,\n",
       "     'version_group': {'name': 'ultra-sun-ultra-moon',\n",
       "      'url': 'https://pokeapi.co/api/v2/version-group/18/'}},\n",
       "    {'level_learned_at': 1,\n",
       "     'move_learn_method': {'name': 'level-up',\n",
       "      'url': 'https://pokeapi.co/api/v2/move-learn-method/1/'},\n",
       "     'order': 1,\n",
       "     'version_group': {'name': 'sword-shield',\n",
       "      'url': 'https://pokeapi.co/api/v2/version-group/20/'}},\n",
       "    {'level_learned_at': 1,\n",
       "     'move_learn_method': {'name': 'level-up',\n",
       "      'url': 'https://pokeapi.co/api/v2/move-learn-method/1/'},\n",
       "     'order': 5,\n",
       "     'version_group': {'name': 'brilliant-diamond-and-shining-pearl',\n",
       "      'url': 'https://pokeapi.co/api/v2/version-group/23/'}},\n",
       "    {'level_learned_at': 1,\n",
       "     'move_learn_method': {'name': 'level-up',\n",
       "      'url': 'https://pokeapi.co/api/v2/move-learn-method/1/'},\n",
       "     'order': 5,\n",
       "     'version_group': {'name': 'scarlet-violet',\n",
       "      'url': 'https://pokeapi.co/api/v2/version-group/25/'}}]},\n",
       "  {'move': {'name': 'confide', 'url': 'https://pokeapi.co/api/v2/move/590/'},\n",
       "   'version_group_details': [{'level_learned_at': 0,\n",
       "     'move_learn_method': {'name': 'machine',\n",
       "      'url': 'https://pokeapi.co/api/v2/move-learn-method/4/'},\n",
       "     'order': None,\n",
       "     'version_group': {'name': 'x-y',\n",
       "      'url': 'https://pokeapi.co/api/v2/version-group/15/'}},\n",
       "    {'level_learned_at': 0,\n",
       "     'move_learn_method': {'name': 'machine',\n",
       "      'url': 'https://pokeapi.co/api/v2/move-learn-method/4/'},\n",
       "     'order': None,\n",
       "     'version_group': {'name': 'omega-ruby-alpha-sapphire',\n",
       "      'url': 'https://pokeapi.co/api/v2/version-group/16/'}},\n",
       "    {'level_learned_at': 0,\n",
       "     'move_learn_method': {'name': 'machine',\n",
       "      'url': 'https://pokeapi.co/api/v2/move-learn-method/4/'},\n",
       "     'order': None,\n",
       "     'version_group': {'name': 'sun-moon',\n",
       "      'url': 'https://pokeapi.co/api/v2/version-group/17/'}},\n",
       "    {'level_learned_at': 0,\n",
       "     'move_learn_method': {'name': 'machine',\n",
       "      'url': 'https://pokeapi.co/api/v2/move-learn-method/4/'},\n",
       "     'order': None,\n",
       "     'version_group': {'name': 'ultra-sun-ultra-moon',\n",
       "      'url': 'https://pokeapi.co/api/v2/version-group/18/'}}]},\n",
       "  {'move': {'name': 'eerie-impulse',\n",
       "    'url': 'https://pokeapi.co/api/v2/move/598/'},\n",
       "   'version_group_details': [{'level_learned_at': 0,\n",
       "     'move_learn_method': {'name': 'machine',\n",
       "      'url': 'https://pokeapi.co/api/v2/move-learn-method/4/'},\n",
       "     'order': None,\n",
       "     'version_group': {'name': 'scarlet-violet',\n",
       "      'url': 'https://pokeapi.co/api/v2/version-group/25/'}}]},\n",
       "  {'move': {'name': 'electric-terrain',\n",
       "    'url': 'https://pokeapi.co/api/v2/move/604/'},\n",
       "   'version_group_details': [{'level_learned_at': 0,\n",
       "     'move_learn_method': {'name': 'machine',\n",
       "      'url': 'https://pokeapi.co/api/v2/move-learn-method/4/'},\n",
       "     'order': None,\n",
       "     'version_group': {'name': 'sword-shield',\n",
       "      'url': 'https://pokeapi.co/api/v2/version-group/20/'}},\n",
       "    {'level_learned_at': 0,\n",
       "     'move_learn_method': {'name': 'machine',\n",
       "      'url': 'https://pokeapi.co/api/v2/move-learn-method/4/'},\n",
       "     'order': None,\n",
       "     'version_group': {'name': 'scarlet-violet',\n",
       "      'url': 'https://pokeapi.co/api/v2/version-group/25/'}}]},\n",
       "  {'move': {'name': 'nuzzle', 'url': 'https://pokeapi.co/api/v2/move/609/'},\n",
       "   'version_group_details': [{'level_learned_at': 23,\n",
       "     'move_learn_method': {'name': 'level-up',\n",
       "      'url': 'https://pokeapi.co/api/v2/move-learn-method/1/'},\n",
       "     'order': None,\n",
       "     'version_group': {'name': 'x-y',\n",
       "      'url': 'https://pokeapi.co/api/v2/version-group/15/'}},\n",
       "    {'level_learned_at': 29,\n",
       "     'move_learn_method': {'name': 'level-up',\n",
       "      'url': 'https://pokeapi.co/api/v2/move-learn-method/1/'},\n",
       "     'order': None,\n",
       "     'version_group': {'name': 'omega-ruby-alpha-sapphire',\n",
       "      'url': 'https://pokeapi.co/api/v2/version-group/16/'}},\n",
       "    {'level_learned_at': 29,\n",
       "     'move_learn_method': {'name': 'level-up',\n",
       "      'url': 'https://pokeapi.co/api/v2/move-learn-method/1/'},\n",
       "     'order': None,\n",
       "     'version_group': {'name': 'sun-moon',\n",
       "      'url': 'https://pokeapi.co/api/v2/version-group/17/'}},\n",
       "    {'level_learned_at': 29,\n",
       "     'move_learn_method': {'name': 'level-up',\n",
       "      'url': 'https://pokeapi.co/api/v2/move-learn-method/1/'},\n",
       "     'order': None,\n",
       "     'version_group': {'name': 'ultra-sun-ultra-moon',\n",
       "      'url': 'https://pokeapi.co/api/v2/version-group/18/'}},\n",
       "    {'level_learned_at': 1,\n",
       "     'move_learn_method': {'name': 'level-up',\n",
       "      'url': 'https://pokeapi.co/api/v2/move-learn-method/1/'},\n",
       "     'order': 3,\n",
       "     'version_group': {'name': 'sword-shield',\n",
       "      'url': 'https://pokeapi.co/api/v2/version-group/20/'}},\n",
       "    {'level_learned_at': 1,\n",
       "     'move_learn_method': {'name': 'level-up',\n",
       "      'url': 'https://pokeapi.co/api/v2/move-learn-method/1/'},\n",
       "     'order': 4,\n",
       "     'version_group': {'name': 'brilliant-diamond-and-shining-pearl',\n",
       "      'url': 'https://pokeapi.co/api/v2/version-group/23/'}},\n",
       "    {'level_learned_at': 1,\n",
       "     'move_learn_method': {'name': 'level-up',\n",
       "      'url': 'https://pokeapi.co/api/v2/move-learn-method/1/'},\n",
       "     'order': 1,\n",
       "     'version_group': {'name': 'scarlet-violet',\n",
       "      'url': 'https://pokeapi.co/api/v2/version-group/25/'}}]},\n",
       "  {'move': {'name': 'laser-focus',\n",
       "    'url': 'https://pokeapi.co/api/v2/move/673/'},\n",
       "   'version_group_details': [{'level_learned_at': 0,\n",
       "     'move_learn_method': {'name': 'tutor',\n",
       "      'url': 'https://pokeapi.co/api/v2/move-learn-method/3/'},\n",
       "     'order': None,\n",
       "     'version_group': {'name': 'ultra-sun-ultra-moon',\n",
       "      'url': 'https://pokeapi.co/api/v2/version-group/18/'}}]},\n",
       "  {'move': {'name': 'rising-voltage',\n",
       "    'url': 'https://pokeapi.co/api/v2/move/804/'},\n",
       "   'version_group_details': [{'level_learned_at': 0,\n",
       "     'move_learn_method': {'name': 'tutor',\n",
       "      'url': 'https://pokeapi.co/api/v2/move-learn-method/3/'},\n",
       "     'order': None,\n",
       "     'version_group': {'name': 'sword-shield',\n",
       "      'url': 'https://pokeapi.co/api/v2/version-group/20/'}}]},\n",
       "  {'move': {'name': 'tera-blast',\n",
       "    'url': 'https://pokeapi.co/api/v2/move/851/'},\n",
       "   'version_group_details': [{'level_learned_at': 0,\n",
       "     'move_learn_method': {'name': 'machine',\n",
       "      'url': 'https://pokeapi.co/api/v2/move-learn-method/4/'},\n",
       "     'order': None,\n",
       "     'version_group': {'name': 'scarlet-violet',\n",
       "      'url': 'https://pokeapi.co/api/v2/version-group/25/'}}]},\n",
       "  {'move': {'name': 'trailblaze',\n",
       "    'url': 'https://pokeapi.co/api/v2/move/885/'},\n",
       "   'version_group_details': [{'level_learned_at': 0,\n",
       "     'move_learn_method': {'name': 'machine',\n",
       "      'url': 'https://pokeapi.co/api/v2/move-learn-method/4/'},\n",
       "     'order': None,\n",
       "     'version_group': {'name': 'scarlet-violet',\n",
       "      'url': 'https://pokeapi.co/api/v2/version-group/25/'}}]},\n",
       "  {'move': {'name': 'alluring-voice',\n",
       "    'url': 'https://pokeapi.co/api/v2/move/914/'},\n",
       "   'version_group_details': [{'level_learned_at': 0,\n",
       "     'move_learn_method': {'name': 'machine',\n",
       "      'url': 'https://pokeapi.co/api/v2/move-learn-method/4/'},\n",
       "     'order': None,\n",
       "     'version_group': {'name': 'scarlet-violet',\n",
       "      'url': 'https://pokeapi.co/api/v2/version-group/25/'}}]},\n",
       "  {'move': {'name': 'upper-hand',\n",
       "    'url': 'https://pokeapi.co/api/v2/move/918/'},\n",
       "   'version_group_details': [{'level_learned_at': 0,\n",
       "     'move_learn_method': {'name': 'machine',\n",
       "      'url': 'https://pokeapi.co/api/v2/move-learn-method/4/'},\n",
       "     'order': None,\n",
       "     'version_group': {'name': 'scarlet-violet',\n",
       "      'url': 'https://pokeapi.co/api/v2/version-group/25/'}}]}],\n",
       " 'name': 'pikachu',\n",
       " 'order': 35,\n",
       " 'past_abilities': [{'abilities': [{'ability': None,\n",
       "     'is_hidden': True,\n",
       "     'slot': 3}],\n",
       "   'generation': {'name': 'generation-iv',\n",
       "    'url': 'https://pokeapi.co/api/v2/generation/4/'}}],\n",
       " 'past_types': [],\n",
       " 'species': {'name': 'pikachu',\n",
       "  'url': 'https://pokeapi.co/api/v2/pokemon-species/25/'},\n",
       " 'sprites': {'back_default': 'https://raw.githubusercontent.com/PokeAPI/sprites/master/sprites/pokemon/back/25.png',\n",
       "  'back_female': 'https://raw.githubusercontent.com/PokeAPI/sprites/master/sprites/pokemon/back/female/25.png',\n",
       "  'back_shiny': 'https://raw.githubusercontent.com/PokeAPI/sprites/master/sprites/pokemon/back/shiny/25.png',\n",
       "  'back_shiny_female': 'https://raw.githubusercontent.com/PokeAPI/sprites/master/sprites/pokemon/back/shiny/female/25.png',\n",
       "  'front_default': 'https://raw.githubusercontent.com/PokeAPI/sprites/master/sprites/pokemon/25.png',\n",
       "  'front_female': 'https://raw.githubusercontent.com/PokeAPI/sprites/master/sprites/pokemon/female/25.png',\n",
       "  'front_shiny': 'https://raw.githubusercontent.com/PokeAPI/sprites/master/sprites/pokemon/shiny/25.png',\n",
       "  'front_shiny_female': 'https://raw.githubusercontent.com/PokeAPI/sprites/master/sprites/pokemon/shiny/female/25.png',\n",
       "  'other': {'dream_world': {'front_default': 'https://raw.githubusercontent.com/PokeAPI/sprites/master/sprites/pokemon/other/dream-world/25.svg',\n",
       "    'front_female': None},\n",
       "   'home': {'front_default': 'https://raw.githubusercontent.com/PokeAPI/sprites/master/sprites/pokemon/other/home/25.png',\n",
       "    'front_female': 'https://raw.githubusercontent.com/PokeAPI/sprites/master/sprites/pokemon/other/home/female/25.png',\n",
       "    'front_shiny': 'https://raw.githubusercontent.com/PokeAPI/sprites/master/sprites/pokemon/other/home/shiny/25.png',\n",
       "    'front_shiny_female': 'https://raw.githubusercontent.com/PokeAPI/sprites/master/sprites/pokemon/other/home/shiny/female/25.png'},\n",
       "   'official-artwork': {'front_default': 'https://raw.githubusercontent.com/PokeAPI/sprites/master/sprites/pokemon/other/official-artwork/25.png',\n",
       "    'front_shiny': 'https://raw.githubusercontent.com/PokeAPI/sprites/master/sprites/pokemon/other/official-artwork/shiny/25.png'},\n",
       "   'showdown': {'back_default': 'https://raw.githubusercontent.com/PokeAPI/sprites/master/sprites/pokemon/other/showdown/back/25.gif',\n",
       "    'back_female': 'https://raw.githubusercontent.com/PokeAPI/sprites/master/sprites/pokemon/other/showdown/back/female/25.gif',\n",
       "    'back_shiny': 'https://raw.githubusercontent.com/PokeAPI/sprites/master/sprites/pokemon/other/showdown/back/shiny/25.gif',\n",
       "    'back_shiny_female': None,\n",
       "    'front_default': 'https://raw.githubusercontent.com/PokeAPI/sprites/master/sprites/pokemon/other/showdown/25.gif',\n",
       "    'front_female': 'https://raw.githubusercontent.com/PokeAPI/sprites/master/sprites/pokemon/other/showdown/female/25.gif',\n",
       "    'front_shiny': 'https://raw.githubusercontent.com/PokeAPI/sprites/master/sprites/pokemon/other/showdown/shiny/25.gif',\n",
       "    'front_shiny_female': 'https://raw.githubusercontent.com/PokeAPI/sprites/master/sprites/pokemon/other/showdown/shiny/female/25.gif'}},\n",
       "  'versions': {'generation-i': {'red-blue': {'back_default': 'https://raw.githubusercontent.com/PokeAPI/sprites/master/sprites/pokemon/versions/generation-i/red-blue/back/25.png',\n",
       "     'back_gray': 'https://raw.githubusercontent.com/PokeAPI/sprites/master/sprites/pokemon/versions/generation-i/red-blue/back/gray/25.png',\n",
       "     'back_transparent': 'https://raw.githubusercontent.com/PokeAPI/sprites/master/sprites/pokemon/versions/generation-i/red-blue/transparent/back/25.png',\n",
       "     'front_default': 'https://raw.githubusercontent.com/PokeAPI/sprites/master/sprites/pokemon/versions/generation-i/red-blue/25.png',\n",
       "     'front_gray': 'https://raw.githubusercontent.com/PokeAPI/sprites/master/sprites/pokemon/versions/generation-i/red-blue/gray/25.png',\n",
       "     'front_transparent': 'https://raw.githubusercontent.com/PokeAPI/sprites/master/sprites/pokemon/versions/generation-i/red-blue/transparent/25.png'},\n",
       "    'yellow': {'back_default': 'https://raw.githubusercontent.com/PokeAPI/sprites/master/sprites/pokemon/versions/generation-i/yellow/back/25.png',\n",
       "     'back_gray': 'https://raw.githubusercontent.com/PokeAPI/sprites/master/sprites/pokemon/versions/generation-i/yellow/back/gray/25.png',\n",
       "     'back_transparent': 'https://raw.githubusercontent.com/PokeAPI/sprites/master/sprites/pokemon/versions/generation-i/yellow/transparent/back/25.png',\n",
       "     'front_default': 'https://raw.githubusercontent.com/PokeAPI/sprites/master/sprites/pokemon/versions/generation-i/yellow/25.png',\n",
       "     'front_gray': 'https://raw.githubusercontent.com/PokeAPI/sprites/master/sprites/pokemon/versions/generation-i/yellow/gray/25.png',\n",
       "     'front_transparent': 'https://raw.githubusercontent.com/PokeAPI/sprites/master/sprites/pokemon/versions/generation-i/yellow/transparent/25.png'}},\n",
       "   'generation-ii': {'crystal': {'back_default': 'https://raw.githubusercontent.com/PokeAPI/sprites/master/sprites/pokemon/versions/generation-ii/crystal/back/25.png',\n",
       "     'back_shiny': 'https://raw.githubusercontent.com/PokeAPI/sprites/master/sprites/pokemon/versions/generation-ii/crystal/back/shiny/25.png',\n",
       "     'back_shiny_transparent': 'https://raw.githubusercontent.com/PokeAPI/sprites/master/sprites/pokemon/versions/generation-ii/crystal/transparent/back/shiny/25.png',\n",
       "     'back_transparent': 'https://raw.githubusercontent.com/PokeAPI/sprites/master/sprites/pokemon/versions/generation-ii/crystal/transparent/back/25.png',\n",
       "     'front_default': 'https://raw.githubusercontent.com/PokeAPI/sprites/master/sprites/pokemon/versions/generation-ii/crystal/25.png',\n",
       "     'front_shiny': 'https://raw.githubusercontent.com/PokeAPI/sprites/master/sprites/pokemon/versions/generation-ii/crystal/shiny/25.png',\n",
       "     'front_shiny_transparent': 'https://raw.githubusercontent.com/PokeAPI/sprites/master/sprites/pokemon/versions/generation-ii/crystal/transparent/shiny/25.png',\n",
       "     'front_transparent': 'https://raw.githubusercontent.com/PokeAPI/sprites/master/sprites/pokemon/versions/generation-ii/crystal/transparent/25.png'},\n",
       "    'gold': {'back_default': 'https://raw.githubusercontent.com/PokeAPI/sprites/master/sprites/pokemon/versions/generation-ii/gold/back/25.png',\n",
       "     'back_shiny': 'https://raw.githubusercontent.com/PokeAPI/sprites/master/sprites/pokemon/versions/generation-ii/gold/back/shiny/25.png',\n",
       "     'front_default': 'https://raw.githubusercontent.com/PokeAPI/sprites/master/sprites/pokemon/versions/generation-ii/gold/25.png',\n",
       "     'front_shiny': 'https://raw.githubusercontent.com/PokeAPI/sprites/master/sprites/pokemon/versions/generation-ii/gold/shiny/25.png',\n",
       "     'front_transparent': 'https://raw.githubusercontent.com/PokeAPI/sprites/master/sprites/pokemon/versions/generation-ii/gold/transparent/25.png'},\n",
       "    'silver': {'back_default': 'https://raw.githubusercontent.com/PokeAPI/sprites/master/sprites/pokemon/versions/generation-ii/silver/back/25.png',\n",
       "     'back_shiny': 'https://raw.githubusercontent.com/PokeAPI/sprites/master/sprites/pokemon/versions/generation-ii/silver/back/shiny/25.png',\n",
       "     'front_default': 'https://raw.githubusercontent.com/PokeAPI/sprites/master/sprites/pokemon/versions/generation-ii/silver/25.png',\n",
       "     'front_shiny': 'https://raw.githubusercontent.com/PokeAPI/sprites/master/sprites/pokemon/versions/generation-ii/silver/shiny/25.png',\n",
       "     'front_transparent': 'https://raw.githubusercontent.com/PokeAPI/sprites/master/sprites/pokemon/versions/generation-ii/silver/transparent/25.png'}},\n",
       "   'generation-iii': {'emerald': {'front_default': 'https://raw.githubusercontent.com/PokeAPI/sprites/master/sprites/pokemon/versions/generation-iii/emerald/25.png',\n",
       "     'front_shiny': 'https://raw.githubusercontent.com/PokeAPI/sprites/master/sprites/pokemon/versions/generation-iii/emerald/shiny/25.png'},\n",
       "    'firered-leafgreen': {'back_default': 'https://raw.githubusercontent.com/PokeAPI/sprites/master/sprites/pokemon/versions/generation-iii/firered-leafgreen/back/25.png',\n",
       "     'back_shiny': 'https://raw.githubusercontent.com/PokeAPI/sprites/master/sprites/pokemon/versions/generation-iii/firered-leafgreen/back/shiny/25.png',\n",
       "     'front_default': 'https://raw.githubusercontent.com/PokeAPI/sprites/master/sprites/pokemon/versions/generation-iii/firered-leafgreen/25.png',\n",
       "     'front_shiny': 'https://raw.githubusercontent.com/PokeAPI/sprites/master/sprites/pokemon/versions/generation-iii/firered-leafgreen/shiny/25.png'},\n",
       "    'ruby-sapphire': {'back_default': 'https://raw.githubusercontent.com/PokeAPI/sprites/master/sprites/pokemon/versions/generation-iii/ruby-sapphire/back/25.png',\n",
       "     'back_shiny': 'https://raw.githubusercontent.com/PokeAPI/sprites/master/sprites/pokemon/versions/generation-iii/ruby-sapphire/back/shiny/25.png',\n",
       "     'front_default': 'https://raw.githubusercontent.com/PokeAPI/sprites/master/sprites/pokemon/versions/generation-iii/ruby-sapphire/25.png',\n",
       "     'front_shiny': 'https://raw.githubusercontent.com/PokeAPI/sprites/master/sprites/pokemon/versions/generation-iii/ruby-sapphire/shiny/25.png'}},\n",
       "   'generation-iv': {'diamond-pearl': {'back_default': 'https://raw.githubusercontent.com/PokeAPI/sprites/master/sprites/pokemon/versions/generation-iv/diamond-pearl/back/25.png',\n",
       "     'back_female': 'https://raw.githubusercontent.com/PokeAPI/sprites/master/sprites/pokemon/versions/generation-iv/diamond-pearl/back/female/25.png',\n",
       "     'back_shiny': 'https://raw.githubusercontent.com/PokeAPI/sprites/master/sprites/pokemon/versions/generation-iv/diamond-pearl/back/shiny/25.png',\n",
       "     'back_shiny_female': 'https://raw.githubusercontent.com/PokeAPI/sprites/master/sprites/pokemon/versions/generation-iv/diamond-pearl/back/shiny/female/25.png',\n",
       "     'front_default': 'https://raw.githubusercontent.com/PokeAPI/sprites/master/sprites/pokemon/versions/generation-iv/diamond-pearl/25.png',\n",
       "     'front_female': 'https://raw.githubusercontent.com/PokeAPI/sprites/master/sprites/pokemon/versions/generation-iv/diamond-pearl/female/25.png',\n",
       "     'front_shiny': 'https://raw.githubusercontent.com/PokeAPI/sprites/master/sprites/pokemon/versions/generation-iv/diamond-pearl/shiny/25.png',\n",
       "     'front_shiny_female': 'https://raw.githubusercontent.com/PokeAPI/sprites/master/sprites/pokemon/versions/generation-iv/diamond-pearl/shiny/female/25.png'},\n",
       "    'heartgold-soulsilver': {'back_default': 'https://raw.githubusercontent.com/PokeAPI/sprites/master/sprites/pokemon/versions/generation-iv/heartgold-soulsilver/back/25.png',\n",
       "     'back_female': 'https://raw.githubusercontent.com/PokeAPI/sprites/master/sprites/pokemon/versions/generation-iv/heartgold-soulsilver/back/female/25.png',\n",
       "     'back_shiny': 'https://raw.githubusercontent.com/PokeAPI/sprites/master/sprites/pokemon/versions/generation-iv/heartgold-soulsilver/back/shiny/25.png',\n",
       "     'back_shiny_female': 'https://raw.githubusercontent.com/PokeAPI/sprites/master/sprites/pokemon/versions/generation-iv/heartgold-soulsilver/back/shiny/female/25.png',\n",
       "     'front_default': 'https://raw.githubusercontent.com/PokeAPI/sprites/master/sprites/pokemon/versions/generation-iv/heartgold-soulsilver/25.png',\n",
       "     'front_female': 'https://raw.githubusercontent.com/PokeAPI/sprites/master/sprites/pokemon/versions/generation-iv/heartgold-soulsilver/female/25.png',\n",
       "     'front_shiny': 'https://raw.githubusercontent.com/PokeAPI/sprites/master/sprites/pokemon/versions/generation-iv/heartgold-soulsilver/shiny/25.png',\n",
       "     'front_shiny_female': 'https://raw.githubusercontent.com/PokeAPI/sprites/master/sprites/pokemon/versions/generation-iv/heartgold-soulsilver/shiny/female/25.png'},\n",
       "    'platinum': {'back_default': 'https://raw.githubusercontent.com/PokeAPI/sprites/master/sprites/pokemon/versions/generation-iv/platinum/back/25.png',\n",
       "     'back_female': 'https://raw.githubusercontent.com/PokeAPI/sprites/master/sprites/pokemon/versions/generation-iv/platinum/back/female/25.png',\n",
       "     'back_shiny': 'https://raw.githubusercontent.com/PokeAPI/sprites/master/sprites/pokemon/versions/generation-iv/platinum/back/shiny/25.png',\n",
       "     'back_shiny_female': 'https://raw.githubusercontent.com/PokeAPI/sprites/master/sprites/pokemon/versions/generation-iv/platinum/back/shiny/female/25.png',\n",
       "     'front_default': 'https://raw.githubusercontent.com/PokeAPI/sprites/master/sprites/pokemon/versions/generation-iv/platinum/25.png',\n",
       "     'front_female': 'https://raw.githubusercontent.com/PokeAPI/sprites/master/sprites/pokemon/versions/generation-iv/platinum/female/25.png',\n",
       "     'front_shiny': 'https://raw.githubusercontent.com/PokeAPI/sprites/master/sprites/pokemon/versions/generation-iv/platinum/shiny/25.png',\n",
       "     'front_shiny_female': 'https://raw.githubusercontent.com/PokeAPI/sprites/master/sprites/pokemon/versions/generation-iv/platinum/shiny/female/25.png'}},\n",
       "   'generation-v': {'black-white': {'animated': {'back_default': 'https://raw.githubusercontent.com/PokeAPI/sprites/master/sprites/pokemon/versions/generation-v/black-white/animated/back/25.gif',\n",
       "      'back_female': 'https://raw.githubusercontent.com/PokeAPI/sprites/master/sprites/pokemon/versions/generation-v/black-white/animated/back/female/25.gif',\n",
       "      'back_shiny': 'https://raw.githubusercontent.com/PokeAPI/sprites/master/sprites/pokemon/versions/generation-v/black-white/animated/back/shiny/25.gif',\n",
       "      'back_shiny_female': 'https://raw.githubusercontent.com/PokeAPI/sprites/master/sprites/pokemon/versions/generation-v/black-white/animated/back/shiny/female/25.gif',\n",
       "      'front_default': 'https://raw.githubusercontent.com/PokeAPI/sprites/master/sprites/pokemon/versions/generation-v/black-white/animated/25.gif',\n",
       "      'front_female': 'https://raw.githubusercontent.com/PokeAPI/sprites/master/sprites/pokemon/versions/generation-v/black-white/animated/female/25.gif',\n",
       "      'front_shiny': 'https://raw.githubusercontent.com/PokeAPI/sprites/master/sprites/pokemon/versions/generation-v/black-white/animated/shiny/25.gif',\n",
       "      'front_shiny_female': 'https://raw.githubusercontent.com/PokeAPI/sprites/master/sprites/pokemon/versions/generation-v/black-white/animated/shiny/female/25.gif'},\n",
       "     'back_default': 'https://raw.githubusercontent.com/PokeAPI/sprites/master/sprites/pokemon/versions/generation-v/black-white/back/25.png',\n",
       "     'back_female': 'https://raw.githubusercontent.com/PokeAPI/sprites/master/sprites/pokemon/versions/generation-v/black-white/back/female/25.png',\n",
       "     'back_shiny': 'https://raw.githubusercontent.com/PokeAPI/sprites/master/sprites/pokemon/versions/generation-v/black-white/back/shiny/25.png',\n",
       "     'back_shiny_female': 'https://raw.githubusercontent.com/PokeAPI/sprites/master/sprites/pokemon/versions/generation-v/black-white/back/shiny/female/25.png',\n",
       "     'front_default': 'https://raw.githubusercontent.com/PokeAPI/sprites/master/sprites/pokemon/versions/generation-v/black-white/25.png',\n",
       "     'front_female': 'https://raw.githubusercontent.com/PokeAPI/sprites/master/sprites/pokemon/versions/generation-v/black-white/female/25.png',\n",
       "     'front_shiny': 'https://raw.githubusercontent.com/PokeAPI/sprites/master/sprites/pokemon/versions/generation-v/black-white/shiny/25.png',\n",
       "     'front_shiny_female': 'https://raw.githubusercontent.com/PokeAPI/sprites/master/sprites/pokemon/versions/generation-v/black-white/shiny/female/25.png'}},\n",
       "   'generation-vi': {'omegaruby-alphasapphire': {'front_default': 'https://raw.githubusercontent.com/PokeAPI/sprites/master/sprites/pokemon/versions/generation-vi/omegaruby-alphasapphire/25.png',\n",
       "     'front_female': 'https://raw.githubusercontent.com/PokeAPI/sprites/master/sprites/pokemon/versions/generation-vi/omegaruby-alphasapphire/female/25.png',\n",
       "     'front_shiny': 'https://raw.githubusercontent.com/PokeAPI/sprites/master/sprites/pokemon/versions/generation-vi/omegaruby-alphasapphire/shiny/25.png',\n",
       "     'front_shiny_female': 'https://raw.githubusercontent.com/PokeAPI/sprites/master/sprites/pokemon/versions/generation-vi/omegaruby-alphasapphire/shiny/female/25.png'},\n",
       "    'x-y': {'front_default': 'https://raw.githubusercontent.com/PokeAPI/sprites/master/sprites/pokemon/versions/generation-vi/x-y/25.png',\n",
       "     'front_female': 'https://raw.githubusercontent.com/PokeAPI/sprites/master/sprites/pokemon/versions/generation-vi/x-y/female/25.png',\n",
       "     'front_shiny': 'https://raw.githubusercontent.com/PokeAPI/sprites/master/sprites/pokemon/versions/generation-vi/x-y/shiny/25.png',\n",
       "     'front_shiny_female': 'https://raw.githubusercontent.com/PokeAPI/sprites/master/sprites/pokemon/versions/generation-vi/x-y/shiny/female/25.png'}},\n",
       "   'generation-vii': {'icons': {'front_default': 'https://raw.githubusercontent.com/PokeAPI/sprites/master/sprites/pokemon/versions/generation-vii/icons/25.png',\n",
       "     'front_female': None},\n",
       "    'ultra-sun-ultra-moon': {'front_default': 'https://raw.githubusercontent.com/PokeAPI/sprites/master/sprites/pokemon/versions/generation-vii/ultra-sun-ultra-moon/25.png',\n",
       "     'front_female': 'https://raw.githubusercontent.com/PokeAPI/sprites/master/sprites/pokemon/versions/generation-vii/ultra-sun-ultra-moon/female/25.png',\n",
       "     'front_shiny': 'https://raw.githubusercontent.com/PokeAPI/sprites/master/sprites/pokemon/versions/generation-vii/ultra-sun-ultra-moon/shiny/25.png',\n",
       "     'front_shiny_female': 'https://raw.githubusercontent.com/PokeAPI/sprites/master/sprites/pokemon/versions/generation-vii/ultra-sun-ultra-moon/shiny/female/25.png'}},\n",
       "   'generation-viii': {'icons': {'front_default': 'https://raw.githubusercontent.com/PokeAPI/sprites/master/sprites/pokemon/versions/generation-viii/icons/25.png',\n",
       "     'front_female': 'https://raw.githubusercontent.com/PokeAPI/sprites/master/sprites/pokemon/versions/generation-viii/icons/female/25.png'}}}},\n",
       " 'stats': [{'base_stat': 35,\n",
       "   'effort': 0,\n",
       "   'stat': {'name': 'hp', 'url': 'https://pokeapi.co/api/v2/stat/1/'}},\n",
       "  {'base_stat': 55,\n",
       "   'effort': 0,\n",
       "   'stat': {'name': 'attack', 'url': 'https://pokeapi.co/api/v2/stat/2/'}},\n",
       "  {'base_stat': 40,\n",
       "   'effort': 0,\n",
       "   'stat': {'name': 'defense', 'url': 'https://pokeapi.co/api/v2/stat/3/'}},\n",
       "  {'base_stat': 50,\n",
       "   'effort': 0,\n",
       "   'stat': {'name': 'special-attack',\n",
       "    'url': 'https://pokeapi.co/api/v2/stat/4/'}},\n",
       "  {'base_stat': 50,\n",
       "   'effort': 0,\n",
       "   'stat': {'name': 'special-defense',\n",
       "    'url': 'https://pokeapi.co/api/v2/stat/5/'}},\n",
       "  {'base_stat': 90,\n",
       "   'effort': 2,\n",
       "   'stat': {'name': 'speed', 'url': 'https://pokeapi.co/api/v2/stat/6/'}}],\n",
       " 'types': [{'slot': 1,\n",
       "   'type': {'name': 'electric', 'url': 'https://pokeapi.co/api/v2/type/13/'}}],\n",
       " 'weight': 60}"
      ]
     },
     "execution_count": 4,
     "metadata": {},
     "output_type": "execute_result"
    }
   ],
   "source": [
    "data=res.json()\n",
    "data"
   ]
  },
  {
   "cell_type": "code",
   "execution_count": 5,
   "id": "faa82a7d-35f8-441c-9c65-c4cf34c8ba99",
   "metadata": {},
   "outputs": [
    {
     "data": {
      "text/plain": [
       "dict"
      ]
     },
     "execution_count": 5,
     "metadata": {},
     "output_type": "execute_result"
    }
   ],
   "source": [
    "type(data)"
   ]
  },
  {
   "cell_type": "code",
   "execution_count": 6,
   "id": "a4745456-3fa4-4511-a7be-c6eea20db9df",
   "metadata": {},
   "outputs": [
    {
     "data": {
      "text/plain": [
       "dict_keys(['abilities', 'base_experience', 'cries', 'forms', 'game_indices', 'height', 'held_items', 'id', 'is_default', 'location_area_encounters', 'moves', 'name', 'order', 'past_abilities', 'past_types', 'species', 'sprites', 'stats', 'types', 'weight'])"
      ]
     },
     "execution_count": 6,
     "metadata": {},
     "output_type": "execute_result"
    }
   ],
   "source": [
    "data.keys()"
   ]
  },
  {
   "cell_type": "code",
   "execution_count": 7,
   "id": "9fa671b3-9a78-49e8-bf57-0781a1fa6b70",
   "metadata": {},
   "outputs": [
    {
     "name": "stdout",
     "output_type": "stream",
     "text": [
      "pikachu\n",
      "60\n",
      "{'back_default': 'https://raw.githubusercontent.com/PokeAPI/sprites/master/sprites/pokemon/back/25.png', 'back_female': 'https://raw.githubusercontent.com/PokeAPI/sprites/master/sprites/pokemon/back/female/25.png', 'back_shiny': 'https://raw.githubusercontent.com/PokeAPI/sprites/master/sprites/pokemon/back/shiny/25.png', 'back_shiny_female': 'https://raw.githubusercontent.com/PokeAPI/sprites/master/sprites/pokemon/back/shiny/female/25.png', 'front_default': 'https://raw.githubusercontent.com/PokeAPI/sprites/master/sprites/pokemon/25.png', 'front_female': 'https://raw.githubusercontent.com/PokeAPI/sprites/master/sprites/pokemon/female/25.png', 'front_shiny': 'https://raw.githubusercontent.com/PokeAPI/sprites/master/sprites/pokemon/shiny/25.png', 'front_shiny_female': 'https://raw.githubusercontent.com/PokeAPI/sprites/master/sprites/pokemon/shiny/female/25.png', 'other': {'dream_world': {'front_default': 'https://raw.githubusercontent.com/PokeAPI/sprites/master/sprites/pokemon/other/dream-world/25.svg', 'front_female': None}, 'home': {'front_default': 'https://raw.githubusercontent.com/PokeAPI/sprites/master/sprites/pokemon/other/home/25.png', 'front_female': 'https://raw.githubusercontent.com/PokeAPI/sprites/master/sprites/pokemon/other/home/female/25.png', 'front_shiny': 'https://raw.githubusercontent.com/PokeAPI/sprites/master/sprites/pokemon/other/home/shiny/25.png', 'front_shiny_female': 'https://raw.githubusercontent.com/PokeAPI/sprites/master/sprites/pokemon/other/home/shiny/female/25.png'}, 'official-artwork': {'front_default': 'https://raw.githubusercontent.com/PokeAPI/sprites/master/sprites/pokemon/other/official-artwork/25.png', 'front_shiny': 'https://raw.githubusercontent.com/PokeAPI/sprites/master/sprites/pokemon/other/official-artwork/shiny/25.png'}, 'showdown': {'back_default': 'https://raw.githubusercontent.com/PokeAPI/sprites/master/sprites/pokemon/other/showdown/back/25.gif', 'back_female': 'https://raw.githubusercontent.com/PokeAPI/sprites/master/sprites/pokemon/other/showdown/back/female/25.gif', 'back_shiny': 'https://raw.githubusercontent.com/PokeAPI/sprites/master/sprites/pokemon/other/showdown/back/shiny/25.gif', 'back_shiny_female': None, 'front_default': 'https://raw.githubusercontent.com/PokeAPI/sprites/master/sprites/pokemon/other/showdown/25.gif', 'front_female': 'https://raw.githubusercontent.com/PokeAPI/sprites/master/sprites/pokemon/other/showdown/female/25.gif', 'front_shiny': 'https://raw.githubusercontent.com/PokeAPI/sprites/master/sprites/pokemon/other/showdown/shiny/25.gif', 'front_shiny_female': 'https://raw.githubusercontent.com/PokeAPI/sprites/master/sprites/pokemon/other/showdown/shiny/female/25.gif'}}, 'versions': {'generation-i': {'red-blue': {'back_default': 'https://raw.githubusercontent.com/PokeAPI/sprites/master/sprites/pokemon/versions/generation-i/red-blue/back/25.png', 'back_gray': 'https://raw.githubusercontent.com/PokeAPI/sprites/master/sprites/pokemon/versions/generation-i/red-blue/back/gray/25.png', 'back_transparent': 'https://raw.githubusercontent.com/PokeAPI/sprites/master/sprites/pokemon/versions/generation-i/red-blue/transparent/back/25.png', 'front_default': 'https://raw.githubusercontent.com/PokeAPI/sprites/master/sprites/pokemon/versions/generation-i/red-blue/25.png', 'front_gray': 'https://raw.githubusercontent.com/PokeAPI/sprites/master/sprites/pokemon/versions/generation-i/red-blue/gray/25.png', 'front_transparent': 'https://raw.githubusercontent.com/PokeAPI/sprites/master/sprites/pokemon/versions/generation-i/red-blue/transparent/25.png'}, 'yellow': {'back_default': 'https://raw.githubusercontent.com/PokeAPI/sprites/master/sprites/pokemon/versions/generation-i/yellow/back/25.png', 'back_gray': 'https://raw.githubusercontent.com/PokeAPI/sprites/master/sprites/pokemon/versions/generation-i/yellow/back/gray/25.png', 'back_transparent': 'https://raw.githubusercontent.com/PokeAPI/sprites/master/sprites/pokemon/versions/generation-i/yellow/transparent/back/25.png', 'front_default': 'https://raw.githubusercontent.com/PokeAPI/sprites/master/sprites/pokemon/versions/generation-i/yellow/25.png', 'front_gray': 'https://raw.githubusercontent.com/PokeAPI/sprites/master/sprites/pokemon/versions/generation-i/yellow/gray/25.png', 'front_transparent': 'https://raw.githubusercontent.com/PokeAPI/sprites/master/sprites/pokemon/versions/generation-i/yellow/transparent/25.png'}}, 'generation-ii': {'crystal': {'back_default': 'https://raw.githubusercontent.com/PokeAPI/sprites/master/sprites/pokemon/versions/generation-ii/crystal/back/25.png', 'back_shiny': 'https://raw.githubusercontent.com/PokeAPI/sprites/master/sprites/pokemon/versions/generation-ii/crystal/back/shiny/25.png', 'back_shiny_transparent': 'https://raw.githubusercontent.com/PokeAPI/sprites/master/sprites/pokemon/versions/generation-ii/crystal/transparent/back/shiny/25.png', 'back_transparent': 'https://raw.githubusercontent.com/PokeAPI/sprites/master/sprites/pokemon/versions/generation-ii/crystal/transparent/back/25.png', 'front_default': 'https://raw.githubusercontent.com/PokeAPI/sprites/master/sprites/pokemon/versions/generation-ii/crystal/25.png', 'front_shiny': 'https://raw.githubusercontent.com/PokeAPI/sprites/master/sprites/pokemon/versions/generation-ii/crystal/shiny/25.png', 'front_shiny_transparent': 'https://raw.githubusercontent.com/PokeAPI/sprites/master/sprites/pokemon/versions/generation-ii/crystal/transparent/shiny/25.png', 'front_transparent': 'https://raw.githubusercontent.com/PokeAPI/sprites/master/sprites/pokemon/versions/generation-ii/crystal/transparent/25.png'}, 'gold': {'back_default': 'https://raw.githubusercontent.com/PokeAPI/sprites/master/sprites/pokemon/versions/generation-ii/gold/back/25.png', 'back_shiny': 'https://raw.githubusercontent.com/PokeAPI/sprites/master/sprites/pokemon/versions/generation-ii/gold/back/shiny/25.png', 'front_default': 'https://raw.githubusercontent.com/PokeAPI/sprites/master/sprites/pokemon/versions/generation-ii/gold/25.png', 'front_shiny': 'https://raw.githubusercontent.com/PokeAPI/sprites/master/sprites/pokemon/versions/generation-ii/gold/shiny/25.png', 'front_transparent': 'https://raw.githubusercontent.com/PokeAPI/sprites/master/sprites/pokemon/versions/generation-ii/gold/transparent/25.png'}, 'silver': {'back_default': 'https://raw.githubusercontent.com/PokeAPI/sprites/master/sprites/pokemon/versions/generation-ii/silver/back/25.png', 'back_shiny': 'https://raw.githubusercontent.com/PokeAPI/sprites/master/sprites/pokemon/versions/generation-ii/silver/back/shiny/25.png', 'front_default': 'https://raw.githubusercontent.com/PokeAPI/sprites/master/sprites/pokemon/versions/generation-ii/silver/25.png', 'front_shiny': 'https://raw.githubusercontent.com/PokeAPI/sprites/master/sprites/pokemon/versions/generation-ii/silver/shiny/25.png', 'front_transparent': 'https://raw.githubusercontent.com/PokeAPI/sprites/master/sprites/pokemon/versions/generation-ii/silver/transparent/25.png'}}, 'generation-iii': {'emerald': {'front_default': 'https://raw.githubusercontent.com/PokeAPI/sprites/master/sprites/pokemon/versions/generation-iii/emerald/25.png', 'front_shiny': 'https://raw.githubusercontent.com/PokeAPI/sprites/master/sprites/pokemon/versions/generation-iii/emerald/shiny/25.png'}, 'firered-leafgreen': {'back_default': 'https://raw.githubusercontent.com/PokeAPI/sprites/master/sprites/pokemon/versions/generation-iii/firered-leafgreen/back/25.png', 'back_shiny': 'https://raw.githubusercontent.com/PokeAPI/sprites/master/sprites/pokemon/versions/generation-iii/firered-leafgreen/back/shiny/25.png', 'front_default': 'https://raw.githubusercontent.com/PokeAPI/sprites/master/sprites/pokemon/versions/generation-iii/firered-leafgreen/25.png', 'front_shiny': 'https://raw.githubusercontent.com/PokeAPI/sprites/master/sprites/pokemon/versions/generation-iii/firered-leafgreen/shiny/25.png'}, 'ruby-sapphire': {'back_default': 'https://raw.githubusercontent.com/PokeAPI/sprites/master/sprites/pokemon/versions/generation-iii/ruby-sapphire/back/25.png', 'back_shiny': 'https://raw.githubusercontent.com/PokeAPI/sprites/master/sprites/pokemon/versions/generation-iii/ruby-sapphire/back/shiny/25.png', 'front_default': 'https://raw.githubusercontent.com/PokeAPI/sprites/master/sprites/pokemon/versions/generation-iii/ruby-sapphire/25.png', 'front_shiny': 'https://raw.githubusercontent.com/PokeAPI/sprites/master/sprites/pokemon/versions/generation-iii/ruby-sapphire/shiny/25.png'}}, 'generation-iv': {'diamond-pearl': {'back_default': 'https://raw.githubusercontent.com/PokeAPI/sprites/master/sprites/pokemon/versions/generation-iv/diamond-pearl/back/25.png', 'back_female': 'https://raw.githubusercontent.com/PokeAPI/sprites/master/sprites/pokemon/versions/generation-iv/diamond-pearl/back/female/25.png', 'back_shiny': 'https://raw.githubusercontent.com/PokeAPI/sprites/master/sprites/pokemon/versions/generation-iv/diamond-pearl/back/shiny/25.png', 'back_shiny_female': 'https://raw.githubusercontent.com/PokeAPI/sprites/master/sprites/pokemon/versions/generation-iv/diamond-pearl/back/shiny/female/25.png', 'front_default': 'https://raw.githubusercontent.com/PokeAPI/sprites/master/sprites/pokemon/versions/generation-iv/diamond-pearl/25.png', 'front_female': 'https://raw.githubusercontent.com/PokeAPI/sprites/master/sprites/pokemon/versions/generation-iv/diamond-pearl/female/25.png', 'front_shiny': 'https://raw.githubusercontent.com/PokeAPI/sprites/master/sprites/pokemon/versions/generation-iv/diamond-pearl/shiny/25.png', 'front_shiny_female': 'https://raw.githubusercontent.com/PokeAPI/sprites/master/sprites/pokemon/versions/generation-iv/diamond-pearl/shiny/female/25.png'}, 'heartgold-soulsilver': {'back_default': 'https://raw.githubusercontent.com/PokeAPI/sprites/master/sprites/pokemon/versions/generation-iv/heartgold-soulsilver/back/25.png', 'back_female': 'https://raw.githubusercontent.com/PokeAPI/sprites/master/sprites/pokemon/versions/generation-iv/heartgold-soulsilver/back/female/25.png', 'back_shiny': 'https://raw.githubusercontent.com/PokeAPI/sprites/master/sprites/pokemon/versions/generation-iv/heartgold-soulsilver/back/shiny/25.png', 'back_shiny_female': 'https://raw.githubusercontent.com/PokeAPI/sprites/master/sprites/pokemon/versions/generation-iv/heartgold-soulsilver/back/shiny/female/25.png', 'front_default': 'https://raw.githubusercontent.com/PokeAPI/sprites/master/sprites/pokemon/versions/generation-iv/heartgold-soulsilver/25.png', 'front_female': 'https://raw.githubusercontent.com/PokeAPI/sprites/master/sprites/pokemon/versions/generation-iv/heartgold-soulsilver/female/25.png', 'front_shiny': 'https://raw.githubusercontent.com/PokeAPI/sprites/master/sprites/pokemon/versions/generation-iv/heartgold-soulsilver/shiny/25.png', 'front_shiny_female': 'https://raw.githubusercontent.com/PokeAPI/sprites/master/sprites/pokemon/versions/generation-iv/heartgold-soulsilver/shiny/female/25.png'}, 'platinum': {'back_default': 'https://raw.githubusercontent.com/PokeAPI/sprites/master/sprites/pokemon/versions/generation-iv/platinum/back/25.png', 'back_female': 'https://raw.githubusercontent.com/PokeAPI/sprites/master/sprites/pokemon/versions/generation-iv/platinum/back/female/25.png', 'back_shiny': 'https://raw.githubusercontent.com/PokeAPI/sprites/master/sprites/pokemon/versions/generation-iv/platinum/back/shiny/25.png', 'back_shiny_female': 'https://raw.githubusercontent.com/PokeAPI/sprites/master/sprites/pokemon/versions/generation-iv/platinum/back/shiny/female/25.png', 'front_default': 'https://raw.githubusercontent.com/PokeAPI/sprites/master/sprites/pokemon/versions/generation-iv/platinum/25.png', 'front_female': 'https://raw.githubusercontent.com/PokeAPI/sprites/master/sprites/pokemon/versions/generation-iv/platinum/female/25.png', 'front_shiny': 'https://raw.githubusercontent.com/PokeAPI/sprites/master/sprites/pokemon/versions/generation-iv/platinum/shiny/25.png', 'front_shiny_female': 'https://raw.githubusercontent.com/PokeAPI/sprites/master/sprites/pokemon/versions/generation-iv/platinum/shiny/female/25.png'}}, 'generation-v': {'black-white': {'animated': {'back_default': 'https://raw.githubusercontent.com/PokeAPI/sprites/master/sprites/pokemon/versions/generation-v/black-white/animated/back/25.gif', 'back_female': 'https://raw.githubusercontent.com/PokeAPI/sprites/master/sprites/pokemon/versions/generation-v/black-white/animated/back/female/25.gif', 'back_shiny': 'https://raw.githubusercontent.com/PokeAPI/sprites/master/sprites/pokemon/versions/generation-v/black-white/animated/back/shiny/25.gif', 'back_shiny_female': 'https://raw.githubusercontent.com/PokeAPI/sprites/master/sprites/pokemon/versions/generation-v/black-white/animated/back/shiny/female/25.gif', 'front_default': 'https://raw.githubusercontent.com/PokeAPI/sprites/master/sprites/pokemon/versions/generation-v/black-white/animated/25.gif', 'front_female': 'https://raw.githubusercontent.com/PokeAPI/sprites/master/sprites/pokemon/versions/generation-v/black-white/animated/female/25.gif', 'front_shiny': 'https://raw.githubusercontent.com/PokeAPI/sprites/master/sprites/pokemon/versions/generation-v/black-white/animated/shiny/25.gif', 'front_shiny_female': 'https://raw.githubusercontent.com/PokeAPI/sprites/master/sprites/pokemon/versions/generation-v/black-white/animated/shiny/female/25.gif'}, 'back_default': 'https://raw.githubusercontent.com/PokeAPI/sprites/master/sprites/pokemon/versions/generation-v/black-white/back/25.png', 'back_female': 'https://raw.githubusercontent.com/PokeAPI/sprites/master/sprites/pokemon/versions/generation-v/black-white/back/female/25.png', 'back_shiny': 'https://raw.githubusercontent.com/PokeAPI/sprites/master/sprites/pokemon/versions/generation-v/black-white/back/shiny/25.png', 'back_shiny_female': 'https://raw.githubusercontent.com/PokeAPI/sprites/master/sprites/pokemon/versions/generation-v/black-white/back/shiny/female/25.png', 'front_default': 'https://raw.githubusercontent.com/PokeAPI/sprites/master/sprites/pokemon/versions/generation-v/black-white/25.png', 'front_female': 'https://raw.githubusercontent.com/PokeAPI/sprites/master/sprites/pokemon/versions/generation-v/black-white/female/25.png', 'front_shiny': 'https://raw.githubusercontent.com/PokeAPI/sprites/master/sprites/pokemon/versions/generation-v/black-white/shiny/25.png', 'front_shiny_female': 'https://raw.githubusercontent.com/PokeAPI/sprites/master/sprites/pokemon/versions/generation-v/black-white/shiny/female/25.png'}}, 'generation-vi': {'omegaruby-alphasapphire': {'front_default': 'https://raw.githubusercontent.com/PokeAPI/sprites/master/sprites/pokemon/versions/generation-vi/omegaruby-alphasapphire/25.png', 'front_female': 'https://raw.githubusercontent.com/PokeAPI/sprites/master/sprites/pokemon/versions/generation-vi/omegaruby-alphasapphire/female/25.png', 'front_shiny': 'https://raw.githubusercontent.com/PokeAPI/sprites/master/sprites/pokemon/versions/generation-vi/omegaruby-alphasapphire/shiny/25.png', 'front_shiny_female': 'https://raw.githubusercontent.com/PokeAPI/sprites/master/sprites/pokemon/versions/generation-vi/omegaruby-alphasapphire/shiny/female/25.png'}, 'x-y': {'front_default': 'https://raw.githubusercontent.com/PokeAPI/sprites/master/sprites/pokemon/versions/generation-vi/x-y/25.png', 'front_female': 'https://raw.githubusercontent.com/PokeAPI/sprites/master/sprites/pokemon/versions/generation-vi/x-y/female/25.png', 'front_shiny': 'https://raw.githubusercontent.com/PokeAPI/sprites/master/sprites/pokemon/versions/generation-vi/x-y/shiny/25.png', 'front_shiny_female': 'https://raw.githubusercontent.com/PokeAPI/sprites/master/sprites/pokemon/versions/generation-vi/x-y/shiny/female/25.png'}}, 'generation-vii': {'icons': {'front_default': 'https://raw.githubusercontent.com/PokeAPI/sprites/master/sprites/pokemon/versions/generation-vii/icons/25.png', 'front_female': None}, 'ultra-sun-ultra-moon': {'front_default': 'https://raw.githubusercontent.com/PokeAPI/sprites/master/sprites/pokemon/versions/generation-vii/ultra-sun-ultra-moon/25.png', 'front_female': 'https://raw.githubusercontent.com/PokeAPI/sprites/master/sprites/pokemon/versions/generation-vii/ultra-sun-ultra-moon/female/25.png', 'front_shiny': 'https://raw.githubusercontent.com/PokeAPI/sprites/master/sprites/pokemon/versions/generation-vii/ultra-sun-ultra-moon/shiny/25.png', 'front_shiny_female': 'https://raw.githubusercontent.com/PokeAPI/sprites/master/sprites/pokemon/versions/generation-vii/ultra-sun-ultra-moon/shiny/female/25.png'}}, 'generation-viii': {'icons': {'front_default': 'https://raw.githubusercontent.com/PokeAPI/sprites/master/sprites/pokemon/versions/generation-viii/icons/25.png', 'front_female': 'https://raw.githubusercontent.com/PokeAPI/sprites/master/sprites/pokemon/versions/generation-viii/icons/female/25.png'}}}}\n"
     ]
    }
   ],
   "source": [
    "# Lets look at the following attributes\n",
    "print(data[\"name\"])\n",
    "print(data[\"weight\"])\n",
    "print(data[\"sprites\"])"
   ]
  },
  {
   "cell_type": "code",
   "execution_count": 8,
   "id": "b4ceecb0-9e17-4cfe-a09e-67ae3026652d",
   "metadata": {},
   "outputs": [
    {
     "data": {
      "text/plain": [
       "'https://raw.githubusercontent.com/PokeAPI/sprites/master/sprites/pokemon/25.png'"
      ]
     },
     "execution_count": 8,
     "metadata": {},
     "output_type": "execute_result"
    }
   ],
   "source": [
    "# Lets get the pokemon image from sprites - front_default.\n",
    "# Remember we can read the documentation to understand how to get all the information\n",
    "data['sprites']['front_default']"
   ]
  },
  {
   "cell_type": "markdown",
   "id": "5bdb9958-a049-42b2-8c5c-475c7b90601d",
   "metadata": {},
   "source": [
    "We will define a function, `get_pokemon`, that takes an ID number as input. This function fetches details about a Pokémon from the PokeAPI using the given ID, extracts its name, weight, and front-facing image, and then returns this data in a dictionary format. If the ID is invalid or there's an issue with the request, a ValueError is raised."
   ]
  },
  {
   "cell_type": "code",
   "execution_count": 9,
   "id": "04981f9a-157d-49ae-9e5d-0b382d5ab2fd",
   "metadata": {},
   "outputs": [],
   "source": [
    "def get_pokemon(id_number):\n",
    "    res=requests.get('https://pokeapi.co/api/v2/pokemon/{}'.format(id_number))\n",
    "    \n",
    "    if(res.status_code==200):\n",
    "        data = res.json()\n",
    "        return {\"id\": id_number,'name':data['name'], \"weight\":data[\"weight\"],'image':data['sprites']['front_default']}\n",
    "    else:\n",
    "        raise ValueError(\"Cannot get pokemon, id does not exist\")\n"
   ]
  },
  {
   "cell_type": "code",
   "execution_count": 10,
   "id": "96dbff41-1e63-40ee-b409-aed7cce7e7a7",
   "metadata": {},
   "outputs": [
    {
     "data": {
      "text/plain": [
       "{'id': 25,\n",
       " 'name': 'pikachu',\n",
       " 'weight': 60,\n",
       " 'image': 'https://raw.githubusercontent.com/PokeAPI/sprites/master/sprites/pokemon/25.png'}"
      ]
     },
     "execution_count": 10,
     "metadata": {},
     "output_type": "execute_result"
    }
   ],
   "source": [
    "get_pokemon(25) # Lets use the function for pokemon id 25"
   ]
  },
  {
   "cell_type": "code",
   "execution_count": 11,
   "id": "ebf5de4c-1150-4cab-812a-7b6d9f1e807c",
   "metadata": {},
   "outputs": [
    {
     "data": {
      "text/plain": [
       "[{'id': 1,\n",
       "  'name': 'bulbasaur',\n",
       "  'weight': 69,\n",
       "  'image': 'https://raw.githubusercontent.com/PokeAPI/sprites/master/sprites/pokemon/1.png'},\n",
       " {'id': 2,\n",
       "  'name': 'ivysaur',\n",
       "  'weight': 130,\n",
       "  'image': 'https://raw.githubusercontent.com/PokeAPI/sprites/master/sprites/pokemon/2.png'},\n",
       " {'id': 3,\n",
       "  'name': 'venusaur',\n",
       "  'weight': 1000,\n",
       "  'image': 'https://raw.githubusercontent.com/PokeAPI/sprites/master/sprites/pokemon/3.png'},\n",
       " {'id': 4,\n",
       "  'name': 'charmander',\n",
       "  'weight': 85,\n",
       "  'image': 'https://raw.githubusercontent.com/PokeAPI/sprites/master/sprites/pokemon/4.png'},\n",
       " {'id': 5,\n",
       "  'name': 'charmeleon',\n",
       "  'weight': 190,\n",
       "  'image': 'https://raw.githubusercontent.com/PokeAPI/sprites/master/sprites/pokemon/5.png'}]"
      ]
     },
     "execution_count": 11,
     "metadata": {},
     "output_type": "execute_result"
    }
   ],
   "source": [
    "[get_pokemon(i+1) for i in range(5)] # Lets use list comprehension to gather information for the first 5 pokemons"
   ]
  },
  {
   "cell_type": "markdown",
   "id": "5d419697-cb8a-4737-8b0b-3a742615f16a",
   "metadata": {},
   "source": [
    "We will now define a function, `print_pokemon`, that takes in a Pokémon dictionary and displays its ID, name, weight, and its image. "
   ]
  },
  {
   "cell_type": "code",
   "execution_count": 12,
   "id": "da875adb-e2d1-4e59-8b2e-ce3e00da5f59",
   "metadata": {},
   "outputs": [],
   "source": [
    "from IPython.display import Image\n",
    "\n",
    "def print_pokemon(poke):\n",
    "    print(str(poke[\"id\"])+\" \" +poke[\"name\"]+ \" \"+str(poke[\"weight\"]) + \" kg\")\n",
    "    display(Image(url=poke['image']))\n",
    "    "
   ]
  },
  {
   "cell_type": "markdown",
   "id": "d284e0ef-4d49-42a3-bc50-c1a859a7e41a",
   "metadata": {},
   "source": [
    "After defining this function, we will retrieve and display details for the first 10 Pokémon by iterating through their IDs and using both the `get_pokemon` and `print_pokemon` functions. "
   ]
  },
  {
   "cell_type": "code",
   "execution_count": 14,
   "id": "9e8a778b-bf09-4351-b9d6-6adc759566e5",
   "metadata": {},
   "outputs": [
    {
     "name": "stdout",
     "output_type": "stream",
     "text": [
      "1 bulbasaur 69 kg\n"
     ]
    },
    {
     "data": {
      "text/html": [
       "<img src=\"https://raw.githubusercontent.com/PokeAPI/sprites/master/sprites/pokemon/1.png\"/>"
      ],
      "text/plain": [
       "<IPython.core.display.Image object>"
      ]
     },
     "metadata": {},
     "output_type": "display_data"
    },
    {
     "name": "stdout",
     "output_type": "stream",
     "text": [
      "2 ivysaur 130 kg\n"
     ]
    },
    {
     "data": {
      "text/html": [
       "<img src=\"https://raw.githubusercontent.com/PokeAPI/sprites/master/sprites/pokemon/2.png\"/>"
      ],
      "text/plain": [
       "<IPython.core.display.Image object>"
      ]
     },
     "metadata": {},
     "output_type": "display_data"
    },
    {
     "name": "stdout",
     "output_type": "stream",
     "text": [
      "3 venusaur 1000 kg\n"
     ]
    },
    {
     "data": {
      "text/html": [
       "<img src=\"https://raw.githubusercontent.com/PokeAPI/sprites/master/sprites/pokemon/3.png\"/>"
      ],
      "text/plain": [
       "<IPython.core.display.Image object>"
      ]
     },
     "metadata": {},
     "output_type": "display_data"
    },
    {
     "name": "stdout",
     "output_type": "stream",
     "text": [
      "4 charmander 85 kg\n"
     ]
    },
    {
     "data": {
      "text/html": [
       "<img src=\"https://raw.githubusercontent.com/PokeAPI/sprites/master/sprites/pokemon/4.png\"/>"
      ],
      "text/plain": [
       "<IPython.core.display.Image object>"
      ]
     },
     "metadata": {},
     "output_type": "display_data"
    },
    {
     "name": "stdout",
     "output_type": "stream",
     "text": [
      "5 charmeleon 190 kg\n"
     ]
    },
    {
     "data": {
      "text/html": [
       "<img src=\"https://raw.githubusercontent.com/PokeAPI/sprites/master/sprites/pokemon/5.png\"/>"
      ],
      "text/plain": [
       "<IPython.core.display.Image object>"
      ]
     },
     "metadata": {},
     "output_type": "display_data"
    },
    {
     "name": "stdout",
     "output_type": "stream",
     "text": [
      "6 charizard 905 kg\n"
     ]
    },
    {
     "data": {
      "text/html": [
       "<img src=\"https://raw.githubusercontent.com/PokeAPI/sprites/master/sprites/pokemon/6.png\"/>"
      ],
      "text/plain": [
       "<IPython.core.display.Image object>"
      ]
     },
     "metadata": {},
     "output_type": "display_data"
    },
    {
     "name": "stdout",
     "output_type": "stream",
     "text": [
      "7 squirtle 90 kg\n"
     ]
    },
    {
     "data": {
      "text/html": [
       "<img src=\"https://raw.githubusercontent.com/PokeAPI/sprites/master/sprites/pokemon/7.png\"/>"
      ],
      "text/plain": [
       "<IPython.core.display.Image object>"
      ]
     },
     "metadata": {},
     "output_type": "display_data"
    },
    {
     "name": "stdout",
     "output_type": "stream",
     "text": [
      "8 wartortle 225 kg\n"
     ]
    },
    {
     "data": {
      "text/html": [
       "<img src=\"https://raw.githubusercontent.com/PokeAPI/sprites/master/sprites/pokemon/8.png\"/>"
      ],
      "text/plain": [
       "<IPython.core.display.Image object>"
      ]
     },
     "metadata": {},
     "output_type": "display_data"
    },
    {
     "name": "stdout",
     "output_type": "stream",
     "text": [
      "9 blastoise 855 kg\n"
     ]
    },
    {
     "data": {
      "text/html": [
       "<img src=\"https://raw.githubusercontent.com/PokeAPI/sprites/master/sprites/pokemon/9.png\"/>"
      ],
      "text/plain": [
       "<IPython.core.display.Image object>"
      ]
     },
     "metadata": {},
     "output_type": "display_data"
    },
    {
     "name": "stdout",
     "output_type": "stream",
     "text": [
      "10 caterpie 29 kg\n"
     ]
    },
    {
     "data": {
      "text/html": [
       "<img src=\"https://raw.githubusercontent.com/PokeAPI/sprites/master/sprites/pokemon/10.png\"/>"
      ],
      "text/plain": [
       "<IPython.core.display.Image object>"
      ]
     },
     "metadata": {},
     "output_type": "display_data"
    },
    {
     "name": "stdout",
     "output_type": "stream",
     "text": [
      "11 metapod 99 kg\n"
     ]
    },
    {
     "data": {
      "text/html": [
       "<img src=\"https://raw.githubusercontent.com/PokeAPI/sprites/master/sprites/pokemon/11.png\"/>"
      ],
      "text/plain": [
       "<IPython.core.display.Image object>"
      ]
     },
     "metadata": {},
     "output_type": "display_data"
    },
    {
     "name": "stdout",
     "output_type": "stream",
     "text": [
      "12 butterfree 320 kg\n"
     ]
    },
    {
     "data": {
      "text/html": [
       "<img src=\"https://raw.githubusercontent.com/PokeAPI/sprites/master/sprites/pokemon/12.png\"/>"
      ],
      "text/plain": [
       "<IPython.core.display.Image object>"
      ]
     },
     "metadata": {},
     "output_type": "display_data"
    },
    {
     "name": "stdout",
     "output_type": "stream",
     "text": [
      "13 weedle 32 kg\n"
     ]
    },
    {
     "data": {
      "text/html": [
       "<img src=\"https://raw.githubusercontent.com/PokeAPI/sprites/master/sprites/pokemon/13.png\"/>"
      ],
      "text/plain": [
       "<IPython.core.display.Image object>"
      ]
     },
     "metadata": {},
     "output_type": "display_data"
    },
    {
     "name": "stdout",
     "output_type": "stream",
     "text": [
      "14 kakuna 100 kg\n"
     ]
    },
    {
     "data": {
      "text/html": [
       "<img src=\"https://raw.githubusercontent.com/PokeAPI/sprites/master/sprites/pokemon/14.png\"/>"
      ],
      "text/plain": [
       "<IPython.core.display.Image object>"
      ]
     },
     "metadata": {},
     "output_type": "display_data"
    },
    {
     "name": "stdout",
     "output_type": "stream",
     "text": [
      "15 beedrill 295 kg\n"
     ]
    },
    {
     "data": {
      "text/html": [
       "<img src=\"https://raw.githubusercontent.com/PokeAPI/sprites/master/sprites/pokemon/15.png\"/>"
      ],
      "text/plain": [
       "<IPython.core.display.Image object>"
      ]
     },
     "metadata": {},
     "output_type": "display_data"
    },
    {
     "name": "stdout",
     "output_type": "stream",
     "text": [
      "16 pidgey 18 kg\n"
     ]
    },
    {
     "data": {
      "text/html": [
       "<img src=\"https://raw.githubusercontent.com/PokeAPI/sprites/master/sprites/pokemon/16.png\"/>"
      ],
      "text/plain": [
       "<IPython.core.display.Image object>"
      ]
     },
     "metadata": {},
     "output_type": "display_data"
    },
    {
     "name": "stdout",
     "output_type": "stream",
     "text": [
      "17 pidgeotto 300 kg\n"
     ]
    },
    {
     "data": {
      "text/html": [
       "<img src=\"https://raw.githubusercontent.com/PokeAPI/sprites/master/sprites/pokemon/17.png\"/>"
      ],
      "text/plain": [
       "<IPython.core.display.Image object>"
      ]
     },
     "metadata": {},
     "output_type": "display_data"
    },
    {
     "name": "stdout",
     "output_type": "stream",
     "text": [
      "18 pidgeot 395 kg\n"
     ]
    },
    {
     "data": {
      "text/html": [
       "<img src=\"https://raw.githubusercontent.com/PokeAPI/sprites/master/sprites/pokemon/18.png\"/>"
      ],
      "text/plain": [
       "<IPython.core.display.Image object>"
      ]
     },
     "metadata": {},
     "output_type": "display_data"
    },
    {
     "name": "stdout",
     "output_type": "stream",
     "text": [
      "19 rattata 35 kg\n"
     ]
    },
    {
     "data": {
      "text/html": [
       "<img src=\"https://raw.githubusercontent.com/PokeAPI/sprites/master/sprites/pokemon/19.png\"/>"
      ],
      "text/plain": [
       "<IPython.core.display.Image object>"
      ]
     },
     "metadata": {},
     "output_type": "display_data"
    },
    {
     "name": "stdout",
     "output_type": "stream",
     "text": [
      "20 raticate 185 kg\n"
     ]
    },
    {
     "data": {
      "text/html": [
       "<img src=\"https://raw.githubusercontent.com/PokeAPI/sprites/master/sprites/pokemon/20.png\"/>"
      ],
      "text/plain": [
       "<IPython.core.display.Image object>"
      ]
     },
     "metadata": {},
     "output_type": "display_data"
    },
    {
     "name": "stdout",
     "output_type": "stream",
     "text": [
      "21 spearow 20 kg\n"
     ]
    },
    {
     "data": {
      "text/html": [
       "<img src=\"https://raw.githubusercontent.com/PokeAPI/sprites/master/sprites/pokemon/21.png\"/>"
      ],
      "text/plain": [
       "<IPython.core.display.Image object>"
      ]
     },
     "metadata": {},
     "output_type": "display_data"
    },
    {
     "name": "stdout",
     "output_type": "stream",
     "text": [
      "22 fearow 380 kg\n"
     ]
    },
    {
     "data": {
      "text/html": [
       "<img src=\"https://raw.githubusercontent.com/PokeAPI/sprites/master/sprites/pokemon/22.png\"/>"
      ],
      "text/plain": [
       "<IPython.core.display.Image object>"
      ]
     },
     "metadata": {},
     "output_type": "display_data"
    },
    {
     "name": "stdout",
     "output_type": "stream",
     "text": [
      "23 ekans 69 kg\n"
     ]
    },
    {
     "data": {
      "text/html": [
       "<img src=\"https://raw.githubusercontent.com/PokeAPI/sprites/master/sprites/pokemon/23.png\"/>"
      ],
      "text/plain": [
       "<IPython.core.display.Image object>"
      ]
     },
     "metadata": {},
     "output_type": "display_data"
    },
    {
     "name": "stdout",
     "output_type": "stream",
     "text": [
      "24 arbok 650 kg\n"
     ]
    },
    {
     "data": {
      "text/html": [
       "<img src=\"https://raw.githubusercontent.com/PokeAPI/sprites/master/sprites/pokemon/24.png\"/>"
      ],
      "text/plain": [
       "<IPython.core.display.Image object>"
      ]
     },
     "metadata": {},
     "output_type": "display_data"
    },
    {
     "name": "stdout",
     "output_type": "stream",
     "text": [
      "25 pikachu 60 kg\n"
     ]
    },
    {
     "data": {
      "text/html": [
       "<img src=\"https://raw.githubusercontent.com/PokeAPI/sprites/master/sprites/pokemon/25.png\"/>"
      ],
      "text/plain": [
       "<IPython.core.display.Image object>"
      ]
     },
     "metadata": {},
     "output_type": "display_data"
    },
    {
     "name": "stdout",
     "output_type": "stream",
     "text": [
      "26 raichu 300 kg\n"
     ]
    },
    {
     "data": {
      "text/html": [
       "<img src=\"https://raw.githubusercontent.com/PokeAPI/sprites/master/sprites/pokemon/26.png\"/>"
      ],
      "text/plain": [
       "<IPython.core.display.Image object>"
      ]
     },
     "metadata": {},
     "output_type": "display_data"
    },
    {
     "name": "stdout",
     "output_type": "stream",
     "text": [
      "27 sandshrew 120 kg\n"
     ]
    },
    {
     "data": {
      "text/html": [
       "<img src=\"https://raw.githubusercontent.com/PokeAPI/sprites/master/sprites/pokemon/27.png\"/>"
      ],
      "text/plain": [
       "<IPython.core.display.Image object>"
      ]
     },
     "metadata": {},
     "output_type": "display_data"
    },
    {
     "name": "stdout",
     "output_type": "stream",
     "text": [
      "28 sandslash 295 kg\n"
     ]
    },
    {
     "data": {
      "text/html": [
       "<img src=\"https://raw.githubusercontent.com/PokeAPI/sprites/master/sprites/pokemon/28.png\"/>"
      ],
      "text/plain": [
       "<IPython.core.display.Image object>"
      ]
     },
     "metadata": {},
     "output_type": "display_data"
    },
    {
     "name": "stdout",
     "output_type": "stream",
     "text": [
      "29 nidoran-f 70 kg\n"
     ]
    },
    {
     "data": {
      "text/html": [
       "<img src=\"https://raw.githubusercontent.com/PokeAPI/sprites/master/sprites/pokemon/29.png\"/>"
      ],
      "text/plain": [
       "<IPython.core.display.Image object>"
      ]
     },
     "metadata": {},
     "output_type": "display_data"
    },
    {
     "name": "stdout",
     "output_type": "stream",
     "text": [
      "30 nidorina 200 kg\n"
     ]
    },
    {
     "data": {
      "text/html": [
       "<img src=\"https://raw.githubusercontent.com/PokeAPI/sprites/master/sprites/pokemon/30.png\"/>"
      ],
      "text/plain": [
       "<IPython.core.display.Image object>"
      ]
     },
     "metadata": {},
     "output_type": "display_data"
    },
    {
     "name": "stdout",
     "output_type": "stream",
     "text": [
      "31 nidoqueen 600 kg\n"
     ]
    },
    {
     "data": {
      "text/html": [
       "<img src=\"https://raw.githubusercontent.com/PokeAPI/sprites/master/sprites/pokemon/31.png\"/>"
      ],
      "text/plain": [
       "<IPython.core.display.Image object>"
      ]
     },
     "metadata": {},
     "output_type": "display_data"
    },
    {
     "name": "stdout",
     "output_type": "stream",
     "text": [
      "32 nidoran-m 90 kg\n"
     ]
    },
    {
     "data": {
      "text/html": [
       "<img src=\"https://raw.githubusercontent.com/PokeAPI/sprites/master/sprites/pokemon/32.png\"/>"
      ],
      "text/plain": [
       "<IPython.core.display.Image object>"
      ]
     },
     "metadata": {},
     "output_type": "display_data"
    },
    {
     "name": "stdout",
     "output_type": "stream",
     "text": [
      "33 nidorino 195 kg\n"
     ]
    },
    {
     "data": {
      "text/html": [
       "<img src=\"https://raw.githubusercontent.com/PokeAPI/sprites/master/sprites/pokemon/33.png\"/>"
      ],
      "text/plain": [
       "<IPython.core.display.Image object>"
      ]
     },
     "metadata": {},
     "output_type": "display_data"
    },
    {
     "name": "stdout",
     "output_type": "stream",
     "text": [
      "34 nidoking 620 kg\n"
     ]
    },
    {
     "data": {
      "text/html": [
       "<img src=\"https://raw.githubusercontent.com/PokeAPI/sprites/master/sprites/pokemon/34.png\"/>"
      ],
      "text/plain": [
       "<IPython.core.display.Image object>"
      ]
     },
     "metadata": {},
     "output_type": "display_data"
    },
    {
     "name": "stdout",
     "output_type": "stream",
     "text": [
      "35 clefairy 75 kg\n"
     ]
    },
    {
     "data": {
      "text/html": [
       "<img src=\"https://raw.githubusercontent.com/PokeAPI/sprites/master/sprites/pokemon/35.png\"/>"
      ],
      "text/plain": [
       "<IPython.core.display.Image object>"
      ]
     },
     "metadata": {},
     "output_type": "display_data"
    },
    {
     "name": "stdout",
     "output_type": "stream",
     "text": [
      "36 clefable 400 kg\n"
     ]
    },
    {
     "data": {
      "text/html": [
       "<img src=\"https://raw.githubusercontent.com/PokeAPI/sprites/master/sprites/pokemon/36.png\"/>"
      ],
      "text/plain": [
       "<IPython.core.display.Image object>"
      ]
     },
     "metadata": {},
     "output_type": "display_data"
    },
    {
     "name": "stdout",
     "output_type": "stream",
     "text": [
      "37 vulpix 99 kg\n"
     ]
    },
    {
     "data": {
      "text/html": [
       "<img src=\"https://raw.githubusercontent.com/PokeAPI/sprites/master/sprites/pokemon/37.png\"/>"
      ],
      "text/plain": [
       "<IPython.core.display.Image object>"
      ]
     },
     "metadata": {},
     "output_type": "display_data"
    },
    {
     "name": "stdout",
     "output_type": "stream",
     "text": [
      "38 ninetales 199 kg\n"
     ]
    },
    {
     "data": {
      "text/html": [
       "<img src=\"https://raw.githubusercontent.com/PokeAPI/sprites/master/sprites/pokemon/38.png\"/>"
      ],
      "text/plain": [
       "<IPython.core.display.Image object>"
      ]
     },
     "metadata": {},
     "output_type": "display_data"
    },
    {
     "name": "stdout",
     "output_type": "stream",
     "text": [
      "39 jigglypuff 55 kg\n"
     ]
    },
    {
     "data": {
      "text/html": [
       "<img src=\"https://raw.githubusercontent.com/PokeAPI/sprites/master/sprites/pokemon/39.png\"/>"
      ],
      "text/plain": [
       "<IPython.core.display.Image object>"
      ]
     },
     "metadata": {},
     "output_type": "display_data"
    },
    {
     "name": "stdout",
     "output_type": "stream",
     "text": [
      "40 wigglytuff 120 kg\n"
     ]
    },
    {
     "data": {
      "text/html": [
       "<img src=\"https://raw.githubusercontent.com/PokeAPI/sprites/master/sprites/pokemon/40.png\"/>"
      ],
      "text/plain": [
       "<IPython.core.display.Image object>"
      ]
     },
     "metadata": {},
     "output_type": "display_data"
    },
    {
     "name": "stdout",
     "output_type": "stream",
     "text": [
      "41 zubat 75 kg\n"
     ]
    },
    {
     "data": {
      "text/html": [
       "<img src=\"https://raw.githubusercontent.com/PokeAPI/sprites/master/sprites/pokemon/41.png\"/>"
      ],
      "text/plain": [
       "<IPython.core.display.Image object>"
      ]
     },
     "metadata": {},
     "output_type": "display_data"
    },
    {
     "name": "stdout",
     "output_type": "stream",
     "text": [
      "42 golbat 550 kg\n"
     ]
    },
    {
     "data": {
      "text/html": [
       "<img src=\"https://raw.githubusercontent.com/PokeAPI/sprites/master/sprites/pokemon/42.png\"/>"
      ],
      "text/plain": [
       "<IPython.core.display.Image object>"
      ]
     },
     "metadata": {},
     "output_type": "display_data"
    },
    {
     "name": "stdout",
     "output_type": "stream",
     "text": [
      "43 oddish 54 kg\n"
     ]
    },
    {
     "data": {
      "text/html": [
       "<img src=\"https://raw.githubusercontent.com/PokeAPI/sprites/master/sprites/pokemon/43.png\"/>"
      ],
      "text/plain": [
       "<IPython.core.display.Image object>"
      ]
     },
     "metadata": {},
     "output_type": "display_data"
    },
    {
     "name": "stdout",
     "output_type": "stream",
     "text": [
      "44 gloom 86 kg\n"
     ]
    },
    {
     "data": {
      "text/html": [
       "<img src=\"https://raw.githubusercontent.com/PokeAPI/sprites/master/sprites/pokemon/44.png\"/>"
      ],
      "text/plain": [
       "<IPython.core.display.Image object>"
      ]
     },
     "metadata": {},
     "output_type": "display_data"
    },
    {
     "name": "stdout",
     "output_type": "stream",
     "text": [
      "45 vileplume 186 kg\n"
     ]
    },
    {
     "data": {
      "text/html": [
       "<img src=\"https://raw.githubusercontent.com/PokeAPI/sprites/master/sprites/pokemon/45.png\"/>"
      ],
      "text/plain": [
       "<IPython.core.display.Image object>"
      ]
     },
     "metadata": {},
     "output_type": "display_data"
    },
    {
     "name": "stdout",
     "output_type": "stream",
     "text": [
      "46 paras 54 kg\n"
     ]
    },
    {
     "data": {
      "text/html": [
       "<img src=\"https://raw.githubusercontent.com/PokeAPI/sprites/master/sprites/pokemon/46.png\"/>"
      ],
      "text/plain": [
       "<IPython.core.display.Image object>"
      ]
     },
     "metadata": {},
     "output_type": "display_data"
    },
    {
     "name": "stdout",
     "output_type": "stream",
     "text": [
      "47 parasect 295 kg\n"
     ]
    },
    {
     "data": {
      "text/html": [
       "<img src=\"https://raw.githubusercontent.com/PokeAPI/sprites/master/sprites/pokemon/47.png\"/>"
      ],
      "text/plain": [
       "<IPython.core.display.Image object>"
      ]
     },
     "metadata": {},
     "output_type": "display_data"
    },
    {
     "name": "stdout",
     "output_type": "stream",
     "text": [
      "48 venonat 300 kg\n"
     ]
    },
    {
     "data": {
      "text/html": [
       "<img src=\"https://raw.githubusercontent.com/PokeAPI/sprites/master/sprites/pokemon/48.png\"/>"
      ],
      "text/plain": [
       "<IPython.core.display.Image object>"
      ]
     },
     "metadata": {},
     "output_type": "display_data"
    },
    {
     "name": "stdout",
     "output_type": "stream",
     "text": [
      "49 venomoth 125 kg\n"
     ]
    },
    {
     "data": {
      "text/html": [
       "<img src=\"https://raw.githubusercontent.com/PokeAPI/sprites/master/sprites/pokemon/49.png\"/>"
      ],
      "text/plain": [
       "<IPython.core.display.Image object>"
      ]
     },
     "metadata": {},
     "output_type": "display_data"
    },
    {
     "name": "stdout",
     "output_type": "stream",
     "text": [
      "50 diglett 8 kg\n"
     ]
    },
    {
     "data": {
      "text/html": [
       "<img src=\"https://raw.githubusercontent.com/PokeAPI/sprites/master/sprites/pokemon/50.png\"/>"
      ],
      "text/plain": [
       "<IPython.core.display.Image object>"
      ]
     },
     "metadata": {},
     "output_type": "display_data"
    },
    {
     "name": "stdout",
     "output_type": "stream",
     "text": [
      "51 dugtrio 333 kg\n"
     ]
    },
    {
     "data": {
      "text/html": [
       "<img src=\"https://raw.githubusercontent.com/PokeAPI/sprites/master/sprites/pokemon/51.png\"/>"
      ],
      "text/plain": [
       "<IPython.core.display.Image object>"
      ]
     },
     "metadata": {},
     "output_type": "display_data"
    },
    {
     "name": "stdout",
     "output_type": "stream",
     "text": [
      "52 meowth 42 kg\n"
     ]
    },
    {
     "data": {
      "text/html": [
       "<img src=\"https://raw.githubusercontent.com/PokeAPI/sprites/master/sprites/pokemon/52.png\"/>"
      ],
      "text/plain": [
       "<IPython.core.display.Image object>"
      ]
     },
     "metadata": {},
     "output_type": "display_data"
    },
    {
     "name": "stdout",
     "output_type": "stream",
     "text": [
      "53 persian 320 kg\n"
     ]
    },
    {
     "data": {
      "text/html": [
       "<img src=\"https://raw.githubusercontent.com/PokeAPI/sprites/master/sprites/pokemon/53.png\"/>"
      ],
      "text/plain": [
       "<IPython.core.display.Image object>"
      ]
     },
     "metadata": {},
     "output_type": "display_data"
    },
    {
     "name": "stdout",
     "output_type": "stream",
     "text": [
      "54 psyduck 196 kg\n"
     ]
    },
    {
     "data": {
      "text/html": [
       "<img src=\"https://raw.githubusercontent.com/PokeAPI/sprites/master/sprites/pokemon/54.png\"/>"
      ],
      "text/plain": [
       "<IPython.core.display.Image object>"
      ]
     },
     "metadata": {},
     "output_type": "display_data"
    },
    {
     "name": "stdout",
     "output_type": "stream",
     "text": [
      "55 golduck 766 kg\n"
     ]
    },
    {
     "data": {
      "text/html": [
       "<img src=\"https://raw.githubusercontent.com/PokeAPI/sprites/master/sprites/pokemon/55.png\"/>"
      ],
      "text/plain": [
       "<IPython.core.display.Image object>"
      ]
     },
     "metadata": {},
     "output_type": "display_data"
    },
    {
     "name": "stdout",
     "output_type": "stream",
     "text": [
      "56 mankey 280 kg\n"
     ]
    },
    {
     "data": {
      "text/html": [
       "<img src=\"https://raw.githubusercontent.com/PokeAPI/sprites/master/sprites/pokemon/56.png\"/>"
      ],
      "text/plain": [
       "<IPython.core.display.Image object>"
      ]
     },
     "metadata": {},
     "output_type": "display_data"
    },
    {
     "name": "stdout",
     "output_type": "stream",
     "text": [
      "57 primeape 320 kg\n"
     ]
    },
    {
     "data": {
      "text/html": [
       "<img src=\"https://raw.githubusercontent.com/PokeAPI/sprites/master/sprites/pokemon/57.png\"/>"
      ],
      "text/plain": [
       "<IPython.core.display.Image object>"
      ]
     },
     "metadata": {},
     "output_type": "display_data"
    },
    {
     "name": "stdout",
     "output_type": "stream",
     "text": [
      "58 growlithe 190 kg\n"
     ]
    },
    {
     "data": {
      "text/html": [
       "<img src=\"https://raw.githubusercontent.com/PokeAPI/sprites/master/sprites/pokemon/58.png\"/>"
      ],
      "text/plain": [
       "<IPython.core.display.Image object>"
      ]
     },
     "metadata": {},
     "output_type": "display_data"
    },
    {
     "name": "stdout",
     "output_type": "stream",
     "text": [
      "59 arcanine 1550 kg\n"
     ]
    },
    {
     "data": {
      "text/html": [
       "<img src=\"https://raw.githubusercontent.com/PokeAPI/sprites/master/sprites/pokemon/59.png\"/>"
      ],
      "text/plain": [
       "<IPython.core.display.Image object>"
      ]
     },
     "metadata": {},
     "output_type": "display_data"
    },
    {
     "name": "stdout",
     "output_type": "stream",
     "text": [
      "60 poliwag 124 kg\n"
     ]
    },
    {
     "data": {
      "text/html": [
       "<img src=\"https://raw.githubusercontent.com/PokeAPI/sprites/master/sprites/pokemon/60.png\"/>"
      ],
      "text/plain": [
       "<IPython.core.display.Image object>"
      ]
     },
     "metadata": {},
     "output_type": "display_data"
    },
    {
     "name": "stdout",
     "output_type": "stream",
     "text": [
      "61 poliwhirl 200 kg\n"
     ]
    },
    {
     "data": {
      "text/html": [
       "<img src=\"https://raw.githubusercontent.com/PokeAPI/sprites/master/sprites/pokemon/61.png\"/>"
      ],
      "text/plain": [
       "<IPython.core.display.Image object>"
      ]
     },
     "metadata": {},
     "output_type": "display_data"
    },
    {
     "name": "stdout",
     "output_type": "stream",
     "text": [
      "62 poliwrath 540 kg\n"
     ]
    },
    {
     "data": {
      "text/html": [
       "<img src=\"https://raw.githubusercontent.com/PokeAPI/sprites/master/sprites/pokemon/62.png\"/>"
      ],
      "text/plain": [
       "<IPython.core.display.Image object>"
      ]
     },
     "metadata": {},
     "output_type": "display_data"
    },
    {
     "name": "stdout",
     "output_type": "stream",
     "text": [
      "63 abra 195 kg\n"
     ]
    },
    {
     "data": {
      "text/html": [
       "<img src=\"https://raw.githubusercontent.com/PokeAPI/sprites/master/sprites/pokemon/63.png\"/>"
      ],
      "text/plain": [
       "<IPython.core.display.Image object>"
      ]
     },
     "metadata": {},
     "output_type": "display_data"
    },
    {
     "name": "stdout",
     "output_type": "stream",
     "text": [
      "64 kadabra 565 kg\n"
     ]
    },
    {
     "data": {
      "text/html": [
       "<img src=\"https://raw.githubusercontent.com/PokeAPI/sprites/master/sprites/pokemon/64.png\"/>"
      ],
      "text/plain": [
       "<IPython.core.display.Image object>"
      ]
     },
     "metadata": {},
     "output_type": "display_data"
    },
    {
     "name": "stdout",
     "output_type": "stream",
     "text": [
      "65 alakazam 480 kg\n"
     ]
    },
    {
     "data": {
      "text/html": [
       "<img src=\"https://raw.githubusercontent.com/PokeAPI/sprites/master/sprites/pokemon/65.png\"/>"
      ],
      "text/plain": [
       "<IPython.core.display.Image object>"
      ]
     },
     "metadata": {},
     "output_type": "display_data"
    },
    {
     "name": "stdout",
     "output_type": "stream",
     "text": [
      "66 machop 195 kg\n"
     ]
    },
    {
     "data": {
      "text/html": [
       "<img src=\"https://raw.githubusercontent.com/PokeAPI/sprites/master/sprites/pokemon/66.png\"/>"
      ],
      "text/plain": [
       "<IPython.core.display.Image object>"
      ]
     },
     "metadata": {},
     "output_type": "display_data"
    },
    {
     "name": "stdout",
     "output_type": "stream",
     "text": [
      "67 machoke 705 kg\n"
     ]
    },
    {
     "data": {
      "text/html": [
       "<img src=\"https://raw.githubusercontent.com/PokeAPI/sprites/master/sprites/pokemon/67.png\"/>"
      ],
      "text/plain": [
       "<IPython.core.display.Image object>"
      ]
     },
     "metadata": {},
     "output_type": "display_data"
    },
    {
     "name": "stdout",
     "output_type": "stream",
     "text": [
      "68 machamp 1300 kg\n"
     ]
    },
    {
     "data": {
      "text/html": [
       "<img src=\"https://raw.githubusercontent.com/PokeAPI/sprites/master/sprites/pokemon/68.png\"/>"
      ],
      "text/plain": [
       "<IPython.core.display.Image object>"
      ]
     },
     "metadata": {},
     "output_type": "display_data"
    },
    {
     "name": "stdout",
     "output_type": "stream",
     "text": [
      "69 bellsprout 40 kg\n"
     ]
    },
    {
     "data": {
      "text/html": [
       "<img src=\"https://raw.githubusercontent.com/PokeAPI/sprites/master/sprites/pokemon/69.png\"/>"
      ],
      "text/plain": [
       "<IPython.core.display.Image object>"
      ]
     },
     "metadata": {},
     "output_type": "display_data"
    },
    {
     "name": "stdout",
     "output_type": "stream",
     "text": [
      "70 weepinbell 64 kg\n"
     ]
    },
    {
     "data": {
      "text/html": [
       "<img src=\"https://raw.githubusercontent.com/PokeAPI/sprites/master/sprites/pokemon/70.png\"/>"
      ],
      "text/plain": [
       "<IPython.core.display.Image object>"
      ]
     },
     "metadata": {},
     "output_type": "display_data"
    },
    {
     "name": "stdout",
     "output_type": "stream",
     "text": [
      "71 victreebel 155 kg\n"
     ]
    },
    {
     "data": {
      "text/html": [
       "<img src=\"https://raw.githubusercontent.com/PokeAPI/sprites/master/sprites/pokemon/71.png\"/>"
      ],
      "text/plain": [
       "<IPython.core.display.Image object>"
      ]
     },
     "metadata": {},
     "output_type": "display_data"
    },
    {
     "name": "stdout",
     "output_type": "stream",
     "text": [
      "72 tentacool 455 kg\n"
     ]
    },
    {
     "data": {
      "text/html": [
       "<img src=\"https://raw.githubusercontent.com/PokeAPI/sprites/master/sprites/pokemon/72.png\"/>"
      ],
      "text/plain": [
       "<IPython.core.display.Image object>"
      ]
     },
     "metadata": {},
     "output_type": "display_data"
    },
    {
     "name": "stdout",
     "output_type": "stream",
     "text": [
      "73 tentacruel 550 kg\n"
     ]
    },
    {
     "data": {
      "text/html": [
       "<img src=\"https://raw.githubusercontent.com/PokeAPI/sprites/master/sprites/pokemon/73.png\"/>"
      ],
      "text/plain": [
       "<IPython.core.display.Image object>"
      ]
     },
     "metadata": {},
     "output_type": "display_data"
    },
    {
     "name": "stdout",
     "output_type": "stream",
     "text": [
      "74 geodude 200 kg\n"
     ]
    },
    {
     "data": {
      "text/html": [
       "<img src=\"https://raw.githubusercontent.com/PokeAPI/sprites/master/sprites/pokemon/74.png\"/>"
      ],
      "text/plain": [
       "<IPython.core.display.Image object>"
      ]
     },
     "metadata": {},
     "output_type": "display_data"
    },
    {
     "name": "stdout",
     "output_type": "stream",
     "text": [
      "75 graveler 1050 kg\n"
     ]
    },
    {
     "data": {
      "text/html": [
       "<img src=\"https://raw.githubusercontent.com/PokeAPI/sprites/master/sprites/pokemon/75.png\"/>"
      ],
      "text/plain": [
       "<IPython.core.display.Image object>"
      ]
     },
     "metadata": {},
     "output_type": "display_data"
    },
    {
     "name": "stdout",
     "output_type": "stream",
     "text": [
      "76 golem 3000 kg\n"
     ]
    },
    {
     "data": {
      "text/html": [
       "<img src=\"https://raw.githubusercontent.com/PokeAPI/sprites/master/sprites/pokemon/76.png\"/>"
      ],
      "text/plain": [
       "<IPython.core.display.Image object>"
      ]
     },
     "metadata": {},
     "output_type": "display_data"
    },
    {
     "name": "stdout",
     "output_type": "stream",
     "text": [
      "77 ponyta 300 kg\n"
     ]
    },
    {
     "data": {
      "text/html": [
       "<img src=\"https://raw.githubusercontent.com/PokeAPI/sprites/master/sprites/pokemon/77.png\"/>"
      ],
      "text/plain": [
       "<IPython.core.display.Image object>"
      ]
     },
     "metadata": {},
     "output_type": "display_data"
    },
    {
     "name": "stdout",
     "output_type": "stream",
     "text": [
      "78 rapidash 950 kg\n"
     ]
    },
    {
     "data": {
      "text/html": [
       "<img src=\"https://raw.githubusercontent.com/PokeAPI/sprites/master/sprites/pokemon/78.png\"/>"
      ],
      "text/plain": [
       "<IPython.core.display.Image object>"
      ]
     },
     "metadata": {},
     "output_type": "display_data"
    },
    {
     "name": "stdout",
     "output_type": "stream",
     "text": [
      "79 slowpoke 360 kg\n"
     ]
    },
    {
     "data": {
      "text/html": [
       "<img src=\"https://raw.githubusercontent.com/PokeAPI/sprites/master/sprites/pokemon/79.png\"/>"
      ],
      "text/plain": [
       "<IPython.core.display.Image object>"
      ]
     },
     "metadata": {},
     "output_type": "display_data"
    },
    {
     "name": "stdout",
     "output_type": "stream",
     "text": [
      "80 slowbro 785 kg\n"
     ]
    },
    {
     "data": {
      "text/html": [
       "<img src=\"https://raw.githubusercontent.com/PokeAPI/sprites/master/sprites/pokemon/80.png\"/>"
      ],
      "text/plain": [
       "<IPython.core.display.Image object>"
      ]
     },
     "metadata": {},
     "output_type": "display_data"
    },
    {
     "name": "stdout",
     "output_type": "stream",
     "text": [
      "81 magnemite 60 kg\n"
     ]
    },
    {
     "data": {
      "text/html": [
       "<img src=\"https://raw.githubusercontent.com/PokeAPI/sprites/master/sprites/pokemon/81.png\"/>"
      ],
      "text/plain": [
       "<IPython.core.display.Image object>"
      ]
     },
     "metadata": {},
     "output_type": "display_data"
    },
    {
     "name": "stdout",
     "output_type": "stream",
     "text": [
      "82 magneton 600 kg\n"
     ]
    },
    {
     "data": {
      "text/html": [
       "<img src=\"https://raw.githubusercontent.com/PokeAPI/sprites/master/sprites/pokemon/82.png\"/>"
      ],
      "text/plain": [
       "<IPython.core.display.Image object>"
      ]
     },
     "metadata": {},
     "output_type": "display_data"
    },
    {
     "name": "stdout",
     "output_type": "stream",
     "text": [
      "83 farfetchd 150 kg\n"
     ]
    },
    {
     "data": {
      "text/html": [
       "<img src=\"https://raw.githubusercontent.com/PokeAPI/sprites/master/sprites/pokemon/83.png\"/>"
      ],
      "text/plain": [
       "<IPython.core.display.Image object>"
      ]
     },
     "metadata": {},
     "output_type": "display_data"
    },
    {
     "name": "stdout",
     "output_type": "stream",
     "text": [
      "84 doduo 392 kg\n"
     ]
    },
    {
     "data": {
      "text/html": [
       "<img src=\"https://raw.githubusercontent.com/PokeAPI/sprites/master/sprites/pokemon/84.png\"/>"
      ],
      "text/plain": [
       "<IPython.core.display.Image object>"
      ]
     },
     "metadata": {},
     "output_type": "display_data"
    },
    {
     "name": "stdout",
     "output_type": "stream",
     "text": [
      "85 dodrio 852 kg\n"
     ]
    },
    {
     "data": {
      "text/html": [
       "<img src=\"https://raw.githubusercontent.com/PokeAPI/sprites/master/sprites/pokemon/85.png\"/>"
      ],
      "text/plain": [
       "<IPython.core.display.Image object>"
      ]
     },
     "metadata": {},
     "output_type": "display_data"
    },
    {
     "name": "stdout",
     "output_type": "stream",
     "text": [
      "86 seel 900 kg\n"
     ]
    },
    {
     "data": {
      "text/html": [
       "<img src=\"https://raw.githubusercontent.com/PokeAPI/sprites/master/sprites/pokemon/86.png\"/>"
      ],
      "text/plain": [
       "<IPython.core.display.Image object>"
      ]
     },
     "metadata": {},
     "output_type": "display_data"
    },
    {
     "name": "stdout",
     "output_type": "stream",
     "text": [
      "87 dewgong 1200 kg\n"
     ]
    },
    {
     "data": {
      "text/html": [
       "<img src=\"https://raw.githubusercontent.com/PokeAPI/sprites/master/sprites/pokemon/87.png\"/>"
      ],
      "text/plain": [
       "<IPython.core.display.Image object>"
      ]
     },
     "metadata": {},
     "output_type": "display_data"
    },
    {
     "name": "stdout",
     "output_type": "stream",
     "text": [
      "88 grimer 300 kg\n"
     ]
    },
    {
     "data": {
      "text/html": [
       "<img src=\"https://raw.githubusercontent.com/PokeAPI/sprites/master/sprites/pokemon/88.png\"/>"
      ],
      "text/plain": [
       "<IPython.core.display.Image object>"
      ]
     },
     "metadata": {},
     "output_type": "display_data"
    },
    {
     "name": "stdout",
     "output_type": "stream",
     "text": [
      "89 muk 300 kg\n"
     ]
    },
    {
     "data": {
      "text/html": [
       "<img src=\"https://raw.githubusercontent.com/PokeAPI/sprites/master/sprites/pokemon/89.png\"/>"
      ],
      "text/plain": [
       "<IPython.core.display.Image object>"
      ]
     },
     "metadata": {},
     "output_type": "display_data"
    },
    {
     "name": "stdout",
     "output_type": "stream",
     "text": [
      "90 shellder 40 kg\n"
     ]
    },
    {
     "data": {
      "text/html": [
       "<img src=\"https://raw.githubusercontent.com/PokeAPI/sprites/master/sprites/pokemon/90.png\"/>"
      ],
      "text/plain": [
       "<IPython.core.display.Image object>"
      ]
     },
     "metadata": {},
     "output_type": "display_data"
    },
    {
     "name": "stdout",
     "output_type": "stream",
     "text": [
      "91 cloyster 1325 kg\n"
     ]
    },
    {
     "data": {
      "text/html": [
       "<img src=\"https://raw.githubusercontent.com/PokeAPI/sprites/master/sprites/pokemon/91.png\"/>"
      ],
      "text/plain": [
       "<IPython.core.display.Image object>"
      ]
     },
     "metadata": {},
     "output_type": "display_data"
    },
    {
     "name": "stdout",
     "output_type": "stream",
     "text": [
      "92 gastly 1 kg\n"
     ]
    },
    {
     "data": {
      "text/html": [
       "<img src=\"https://raw.githubusercontent.com/PokeAPI/sprites/master/sprites/pokemon/92.png\"/>"
      ],
      "text/plain": [
       "<IPython.core.display.Image object>"
      ]
     },
     "metadata": {},
     "output_type": "display_data"
    },
    {
     "name": "stdout",
     "output_type": "stream",
     "text": [
      "93 haunter 1 kg\n"
     ]
    },
    {
     "data": {
      "text/html": [
       "<img src=\"https://raw.githubusercontent.com/PokeAPI/sprites/master/sprites/pokemon/93.png\"/>"
      ],
      "text/plain": [
       "<IPython.core.display.Image object>"
      ]
     },
     "metadata": {},
     "output_type": "display_data"
    },
    {
     "name": "stdout",
     "output_type": "stream",
     "text": [
      "94 gengar 405 kg\n"
     ]
    },
    {
     "data": {
      "text/html": [
       "<img src=\"https://raw.githubusercontent.com/PokeAPI/sprites/master/sprites/pokemon/94.png\"/>"
      ],
      "text/plain": [
       "<IPython.core.display.Image object>"
      ]
     },
     "metadata": {},
     "output_type": "display_data"
    },
    {
     "name": "stdout",
     "output_type": "stream",
     "text": [
      "95 onix 2100 kg\n"
     ]
    },
    {
     "data": {
      "text/html": [
       "<img src=\"https://raw.githubusercontent.com/PokeAPI/sprites/master/sprites/pokemon/95.png\"/>"
      ],
      "text/plain": [
       "<IPython.core.display.Image object>"
      ]
     },
     "metadata": {},
     "output_type": "display_data"
    },
    {
     "name": "stdout",
     "output_type": "stream",
     "text": [
      "96 drowzee 324 kg\n"
     ]
    },
    {
     "data": {
      "text/html": [
       "<img src=\"https://raw.githubusercontent.com/PokeAPI/sprites/master/sprites/pokemon/96.png\"/>"
      ],
      "text/plain": [
       "<IPython.core.display.Image object>"
      ]
     },
     "metadata": {},
     "output_type": "display_data"
    },
    {
     "name": "stdout",
     "output_type": "stream",
     "text": [
      "97 hypno 756 kg\n"
     ]
    },
    {
     "data": {
      "text/html": [
       "<img src=\"https://raw.githubusercontent.com/PokeAPI/sprites/master/sprites/pokemon/97.png\"/>"
      ],
      "text/plain": [
       "<IPython.core.display.Image object>"
      ]
     },
     "metadata": {},
     "output_type": "display_data"
    },
    {
     "name": "stdout",
     "output_type": "stream",
     "text": [
      "98 krabby 65 kg\n"
     ]
    },
    {
     "data": {
      "text/html": [
       "<img src=\"https://raw.githubusercontent.com/PokeAPI/sprites/master/sprites/pokemon/98.png\"/>"
      ],
      "text/plain": [
       "<IPython.core.display.Image object>"
      ]
     },
     "metadata": {},
     "output_type": "display_data"
    },
    {
     "name": "stdout",
     "output_type": "stream",
     "text": [
      "99 kingler 600 kg\n"
     ]
    },
    {
     "data": {
      "text/html": [
       "<img src=\"https://raw.githubusercontent.com/PokeAPI/sprites/master/sprites/pokemon/99.png\"/>"
      ],
      "text/plain": [
       "<IPython.core.display.Image object>"
      ]
     },
     "metadata": {},
     "output_type": "display_data"
    },
    {
     "name": "stdout",
     "output_type": "stream",
     "text": [
      "100 voltorb 104 kg\n"
     ]
    },
    {
     "data": {
      "text/html": [
       "<img src=\"https://raw.githubusercontent.com/PokeAPI/sprites/master/sprites/pokemon/100.png\"/>"
      ],
      "text/plain": [
       "<IPython.core.display.Image object>"
      ]
     },
     "metadata": {},
     "output_type": "display_data"
    },
    {
     "name": "stdout",
     "output_type": "stream",
     "text": [
      "101 electrode 666 kg\n"
     ]
    },
    {
     "data": {
      "text/html": [
       "<img src=\"https://raw.githubusercontent.com/PokeAPI/sprites/master/sprites/pokemon/101.png\"/>"
      ],
      "text/plain": [
       "<IPython.core.display.Image object>"
      ]
     },
     "metadata": {},
     "output_type": "display_data"
    },
    {
     "name": "stdout",
     "output_type": "stream",
     "text": [
      "102 exeggcute 25 kg\n"
     ]
    },
    {
     "data": {
      "text/html": [
       "<img src=\"https://raw.githubusercontent.com/PokeAPI/sprites/master/sprites/pokemon/102.png\"/>"
      ],
      "text/plain": [
       "<IPython.core.display.Image object>"
      ]
     },
     "metadata": {},
     "output_type": "display_data"
    },
    {
     "name": "stdout",
     "output_type": "stream",
     "text": [
      "103 exeggutor 1200 kg\n"
     ]
    },
    {
     "data": {
      "text/html": [
       "<img src=\"https://raw.githubusercontent.com/PokeAPI/sprites/master/sprites/pokemon/103.png\"/>"
      ],
      "text/plain": [
       "<IPython.core.display.Image object>"
      ]
     },
     "metadata": {},
     "output_type": "display_data"
    },
    {
     "name": "stdout",
     "output_type": "stream",
     "text": [
      "104 cubone 65 kg\n"
     ]
    },
    {
     "data": {
      "text/html": [
       "<img src=\"https://raw.githubusercontent.com/PokeAPI/sprites/master/sprites/pokemon/104.png\"/>"
      ],
      "text/plain": [
       "<IPython.core.display.Image object>"
      ]
     },
     "metadata": {},
     "output_type": "display_data"
    },
    {
     "name": "stdout",
     "output_type": "stream",
     "text": [
      "105 marowak 450 kg\n"
     ]
    },
    {
     "data": {
      "text/html": [
       "<img src=\"https://raw.githubusercontent.com/PokeAPI/sprites/master/sprites/pokemon/105.png\"/>"
      ],
      "text/plain": [
       "<IPython.core.display.Image object>"
      ]
     },
     "metadata": {},
     "output_type": "display_data"
    },
    {
     "name": "stdout",
     "output_type": "stream",
     "text": [
      "106 hitmonlee 498 kg\n"
     ]
    },
    {
     "data": {
      "text/html": [
       "<img src=\"https://raw.githubusercontent.com/PokeAPI/sprites/master/sprites/pokemon/106.png\"/>"
      ],
      "text/plain": [
       "<IPython.core.display.Image object>"
      ]
     },
     "metadata": {},
     "output_type": "display_data"
    },
    {
     "name": "stdout",
     "output_type": "stream",
     "text": [
      "107 hitmonchan 502 kg\n"
     ]
    },
    {
     "data": {
      "text/html": [
       "<img src=\"https://raw.githubusercontent.com/PokeAPI/sprites/master/sprites/pokemon/107.png\"/>"
      ],
      "text/plain": [
       "<IPython.core.display.Image object>"
      ]
     },
     "metadata": {},
     "output_type": "display_data"
    },
    {
     "name": "stdout",
     "output_type": "stream",
     "text": [
      "108 lickitung 655 kg\n"
     ]
    },
    {
     "data": {
      "text/html": [
       "<img src=\"https://raw.githubusercontent.com/PokeAPI/sprites/master/sprites/pokemon/108.png\"/>"
      ],
      "text/plain": [
       "<IPython.core.display.Image object>"
      ]
     },
     "metadata": {},
     "output_type": "display_data"
    },
    {
     "name": "stdout",
     "output_type": "stream",
     "text": [
      "109 koffing 10 kg\n"
     ]
    },
    {
     "data": {
      "text/html": [
       "<img src=\"https://raw.githubusercontent.com/PokeAPI/sprites/master/sprites/pokemon/109.png\"/>"
      ],
      "text/plain": [
       "<IPython.core.display.Image object>"
      ]
     },
     "metadata": {},
     "output_type": "display_data"
    },
    {
     "name": "stdout",
     "output_type": "stream",
     "text": [
      "110 weezing 95 kg\n"
     ]
    },
    {
     "data": {
      "text/html": [
       "<img src=\"https://raw.githubusercontent.com/PokeAPI/sprites/master/sprites/pokemon/110.png\"/>"
      ],
      "text/plain": [
       "<IPython.core.display.Image object>"
      ]
     },
     "metadata": {},
     "output_type": "display_data"
    },
    {
     "name": "stdout",
     "output_type": "stream",
     "text": [
      "111 rhyhorn 1150 kg\n"
     ]
    },
    {
     "data": {
      "text/html": [
       "<img src=\"https://raw.githubusercontent.com/PokeAPI/sprites/master/sprites/pokemon/111.png\"/>"
      ],
      "text/plain": [
       "<IPython.core.display.Image object>"
      ]
     },
     "metadata": {},
     "output_type": "display_data"
    },
    {
     "name": "stdout",
     "output_type": "stream",
     "text": [
      "112 rhydon 1200 kg\n"
     ]
    },
    {
     "data": {
      "text/html": [
       "<img src=\"https://raw.githubusercontent.com/PokeAPI/sprites/master/sprites/pokemon/112.png\"/>"
      ],
      "text/plain": [
       "<IPython.core.display.Image object>"
      ]
     },
     "metadata": {},
     "output_type": "display_data"
    },
    {
     "name": "stdout",
     "output_type": "stream",
     "text": [
      "113 chansey 346 kg\n"
     ]
    },
    {
     "data": {
      "text/html": [
       "<img src=\"https://raw.githubusercontent.com/PokeAPI/sprites/master/sprites/pokemon/113.png\"/>"
      ],
      "text/plain": [
       "<IPython.core.display.Image object>"
      ]
     },
     "metadata": {},
     "output_type": "display_data"
    },
    {
     "name": "stdout",
     "output_type": "stream",
     "text": [
      "114 tangela 350 kg\n"
     ]
    },
    {
     "data": {
      "text/html": [
       "<img src=\"https://raw.githubusercontent.com/PokeAPI/sprites/master/sprites/pokemon/114.png\"/>"
      ],
      "text/plain": [
       "<IPython.core.display.Image object>"
      ]
     },
     "metadata": {},
     "output_type": "display_data"
    },
    {
     "name": "stdout",
     "output_type": "stream",
     "text": [
      "115 kangaskhan 800 kg\n"
     ]
    },
    {
     "data": {
      "text/html": [
       "<img src=\"https://raw.githubusercontent.com/PokeAPI/sprites/master/sprites/pokemon/115.png\"/>"
      ],
      "text/plain": [
       "<IPython.core.display.Image object>"
      ]
     },
     "metadata": {},
     "output_type": "display_data"
    },
    {
     "name": "stdout",
     "output_type": "stream",
     "text": [
      "116 horsea 80 kg\n"
     ]
    },
    {
     "data": {
      "text/html": [
       "<img src=\"https://raw.githubusercontent.com/PokeAPI/sprites/master/sprites/pokemon/116.png\"/>"
      ],
      "text/plain": [
       "<IPython.core.display.Image object>"
      ]
     },
     "metadata": {},
     "output_type": "display_data"
    },
    {
     "name": "stdout",
     "output_type": "stream",
     "text": [
      "117 seadra 250 kg\n"
     ]
    },
    {
     "data": {
      "text/html": [
       "<img src=\"https://raw.githubusercontent.com/PokeAPI/sprites/master/sprites/pokemon/117.png\"/>"
      ],
      "text/plain": [
       "<IPython.core.display.Image object>"
      ]
     },
     "metadata": {},
     "output_type": "display_data"
    },
    {
     "name": "stdout",
     "output_type": "stream",
     "text": [
      "118 goldeen 150 kg\n"
     ]
    },
    {
     "data": {
      "text/html": [
       "<img src=\"https://raw.githubusercontent.com/PokeAPI/sprites/master/sprites/pokemon/118.png\"/>"
      ],
      "text/plain": [
       "<IPython.core.display.Image object>"
      ]
     },
     "metadata": {},
     "output_type": "display_data"
    },
    {
     "name": "stdout",
     "output_type": "stream",
     "text": [
      "119 seaking 390 kg\n"
     ]
    },
    {
     "data": {
      "text/html": [
       "<img src=\"https://raw.githubusercontent.com/PokeAPI/sprites/master/sprites/pokemon/119.png\"/>"
      ],
      "text/plain": [
       "<IPython.core.display.Image object>"
      ]
     },
     "metadata": {},
     "output_type": "display_data"
    },
    {
     "name": "stdout",
     "output_type": "stream",
     "text": [
      "120 staryu 345 kg\n"
     ]
    },
    {
     "data": {
      "text/html": [
       "<img src=\"https://raw.githubusercontent.com/PokeAPI/sprites/master/sprites/pokemon/120.png\"/>"
      ],
      "text/plain": [
       "<IPython.core.display.Image object>"
      ]
     },
     "metadata": {},
     "output_type": "display_data"
    },
    {
     "name": "stdout",
     "output_type": "stream",
     "text": [
      "121 starmie 800 kg\n"
     ]
    },
    {
     "data": {
      "text/html": [
       "<img src=\"https://raw.githubusercontent.com/PokeAPI/sprites/master/sprites/pokemon/121.png\"/>"
      ],
      "text/plain": [
       "<IPython.core.display.Image object>"
      ]
     },
     "metadata": {},
     "output_type": "display_data"
    },
    {
     "name": "stdout",
     "output_type": "stream",
     "text": [
      "122 mr-mime 545 kg\n"
     ]
    },
    {
     "data": {
      "text/html": [
       "<img src=\"https://raw.githubusercontent.com/PokeAPI/sprites/master/sprites/pokemon/122.png\"/>"
      ],
      "text/plain": [
       "<IPython.core.display.Image object>"
      ]
     },
     "metadata": {},
     "output_type": "display_data"
    },
    {
     "name": "stdout",
     "output_type": "stream",
     "text": [
      "123 scyther 560 kg\n"
     ]
    },
    {
     "data": {
      "text/html": [
       "<img src=\"https://raw.githubusercontent.com/PokeAPI/sprites/master/sprites/pokemon/123.png\"/>"
      ],
      "text/plain": [
       "<IPython.core.display.Image object>"
      ]
     },
     "metadata": {},
     "output_type": "display_data"
    },
    {
     "name": "stdout",
     "output_type": "stream",
     "text": [
      "124 jynx 406 kg\n"
     ]
    },
    {
     "data": {
      "text/html": [
       "<img src=\"https://raw.githubusercontent.com/PokeAPI/sprites/master/sprites/pokemon/124.png\"/>"
      ],
      "text/plain": [
       "<IPython.core.display.Image object>"
      ]
     },
     "metadata": {},
     "output_type": "display_data"
    },
    {
     "name": "stdout",
     "output_type": "stream",
     "text": [
      "125 electabuzz 300 kg\n"
     ]
    },
    {
     "data": {
      "text/html": [
       "<img src=\"https://raw.githubusercontent.com/PokeAPI/sprites/master/sprites/pokemon/125.png\"/>"
      ],
      "text/plain": [
       "<IPython.core.display.Image object>"
      ]
     },
     "metadata": {},
     "output_type": "display_data"
    },
    {
     "name": "stdout",
     "output_type": "stream",
     "text": [
      "126 magmar 445 kg\n"
     ]
    },
    {
     "data": {
      "text/html": [
       "<img src=\"https://raw.githubusercontent.com/PokeAPI/sprites/master/sprites/pokemon/126.png\"/>"
      ],
      "text/plain": [
       "<IPython.core.display.Image object>"
      ]
     },
     "metadata": {},
     "output_type": "display_data"
    },
    {
     "name": "stdout",
     "output_type": "stream",
     "text": [
      "127 pinsir 550 kg\n"
     ]
    },
    {
     "data": {
      "text/html": [
       "<img src=\"https://raw.githubusercontent.com/PokeAPI/sprites/master/sprites/pokemon/127.png\"/>"
      ],
      "text/plain": [
       "<IPython.core.display.Image object>"
      ]
     },
     "metadata": {},
     "output_type": "display_data"
    },
    {
     "name": "stdout",
     "output_type": "stream",
     "text": [
      "128 tauros 884 kg\n"
     ]
    },
    {
     "data": {
      "text/html": [
       "<img src=\"https://raw.githubusercontent.com/PokeAPI/sprites/master/sprites/pokemon/128.png\"/>"
      ],
      "text/plain": [
       "<IPython.core.display.Image object>"
      ]
     },
     "metadata": {},
     "output_type": "display_data"
    },
    {
     "name": "stdout",
     "output_type": "stream",
     "text": [
      "129 magikarp 100 kg\n"
     ]
    },
    {
     "data": {
      "text/html": [
       "<img src=\"https://raw.githubusercontent.com/PokeAPI/sprites/master/sprites/pokemon/129.png\"/>"
      ],
      "text/plain": [
       "<IPython.core.display.Image object>"
      ]
     },
     "metadata": {},
     "output_type": "display_data"
    },
    {
     "name": "stdout",
     "output_type": "stream",
     "text": [
      "130 gyarados 2350 kg\n"
     ]
    },
    {
     "data": {
      "text/html": [
       "<img src=\"https://raw.githubusercontent.com/PokeAPI/sprites/master/sprites/pokemon/130.png\"/>"
      ],
      "text/plain": [
       "<IPython.core.display.Image object>"
      ]
     },
     "metadata": {},
     "output_type": "display_data"
    },
    {
     "name": "stdout",
     "output_type": "stream",
     "text": [
      "131 lapras 2200 kg\n"
     ]
    },
    {
     "data": {
      "text/html": [
       "<img src=\"https://raw.githubusercontent.com/PokeAPI/sprites/master/sprites/pokemon/131.png\"/>"
      ],
      "text/plain": [
       "<IPython.core.display.Image object>"
      ]
     },
     "metadata": {},
     "output_type": "display_data"
    },
    {
     "name": "stdout",
     "output_type": "stream",
     "text": [
      "132 ditto 40 kg\n"
     ]
    },
    {
     "data": {
      "text/html": [
       "<img src=\"https://raw.githubusercontent.com/PokeAPI/sprites/master/sprites/pokemon/132.png\"/>"
      ],
      "text/plain": [
       "<IPython.core.display.Image object>"
      ]
     },
     "metadata": {},
     "output_type": "display_data"
    },
    {
     "name": "stdout",
     "output_type": "stream",
     "text": [
      "133 eevee 65 kg\n"
     ]
    },
    {
     "data": {
      "text/html": [
       "<img src=\"https://raw.githubusercontent.com/PokeAPI/sprites/master/sprites/pokemon/133.png\"/>"
      ],
      "text/plain": [
       "<IPython.core.display.Image object>"
      ]
     },
     "metadata": {},
     "output_type": "display_data"
    },
    {
     "name": "stdout",
     "output_type": "stream",
     "text": [
      "134 vaporeon 290 kg\n"
     ]
    },
    {
     "data": {
      "text/html": [
       "<img src=\"https://raw.githubusercontent.com/PokeAPI/sprites/master/sprites/pokemon/134.png\"/>"
      ],
      "text/plain": [
       "<IPython.core.display.Image object>"
      ]
     },
     "metadata": {},
     "output_type": "display_data"
    },
    {
     "name": "stdout",
     "output_type": "stream",
     "text": [
      "135 jolteon 245 kg\n"
     ]
    },
    {
     "data": {
      "text/html": [
       "<img src=\"https://raw.githubusercontent.com/PokeAPI/sprites/master/sprites/pokemon/135.png\"/>"
      ],
      "text/plain": [
       "<IPython.core.display.Image object>"
      ]
     },
     "metadata": {},
     "output_type": "display_data"
    },
    {
     "name": "stdout",
     "output_type": "stream",
     "text": [
      "136 flareon 250 kg\n"
     ]
    },
    {
     "data": {
      "text/html": [
       "<img src=\"https://raw.githubusercontent.com/PokeAPI/sprites/master/sprites/pokemon/136.png\"/>"
      ],
      "text/plain": [
       "<IPython.core.display.Image object>"
      ]
     },
     "metadata": {},
     "output_type": "display_data"
    },
    {
     "name": "stdout",
     "output_type": "stream",
     "text": [
      "137 porygon 365 kg\n"
     ]
    },
    {
     "data": {
      "text/html": [
       "<img src=\"https://raw.githubusercontent.com/PokeAPI/sprites/master/sprites/pokemon/137.png\"/>"
      ],
      "text/plain": [
       "<IPython.core.display.Image object>"
      ]
     },
     "metadata": {},
     "output_type": "display_data"
    },
    {
     "name": "stdout",
     "output_type": "stream",
     "text": [
      "138 omanyte 75 kg\n"
     ]
    },
    {
     "data": {
      "text/html": [
       "<img src=\"https://raw.githubusercontent.com/PokeAPI/sprites/master/sprites/pokemon/138.png\"/>"
      ],
      "text/plain": [
       "<IPython.core.display.Image object>"
      ]
     },
     "metadata": {},
     "output_type": "display_data"
    },
    {
     "name": "stdout",
     "output_type": "stream",
     "text": [
      "139 omastar 350 kg\n"
     ]
    },
    {
     "data": {
      "text/html": [
       "<img src=\"https://raw.githubusercontent.com/PokeAPI/sprites/master/sprites/pokemon/139.png\"/>"
      ],
      "text/plain": [
       "<IPython.core.display.Image object>"
      ]
     },
     "metadata": {},
     "output_type": "display_data"
    },
    {
     "name": "stdout",
     "output_type": "stream",
     "text": [
      "140 kabuto 115 kg\n"
     ]
    },
    {
     "data": {
      "text/html": [
       "<img src=\"https://raw.githubusercontent.com/PokeAPI/sprites/master/sprites/pokemon/140.png\"/>"
      ],
      "text/plain": [
       "<IPython.core.display.Image object>"
      ]
     },
     "metadata": {},
     "output_type": "display_data"
    },
    {
     "name": "stdout",
     "output_type": "stream",
     "text": [
      "141 kabutops 405 kg\n"
     ]
    },
    {
     "data": {
      "text/html": [
       "<img src=\"https://raw.githubusercontent.com/PokeAPI/sprites/master/sprites/pokemon/141.png\"/>"
      ],
      "text/plain": [
       "<IPython.core.display.Image object>"
      ]
     },
     "metadata": {},
     "output_type": "display_data"
    },
    {
     "name": "stdout",
     "output_type": "stream",
     "text": [
      "142 aerodactyl 590 kg\n"
     ]
    },
    {
     "data": {
      "text/html": [
       "<img src=\"https://raw.githubusercontent.com/PokeAPI/sprites/master/sprites/pokemon/142.png\"/>"
      ],
      "text/plain": [
       "<IPython.core.display.Image object>"
      ]
     },
     "metadata": {},
     "output_type": "display_data"
    },
    {
     "name": "stdout",
     "output_type": "stream",
     "text": [
      "143 snorlax 4600 kg\n"
     ]
    },
    {
     "data": {
      "text/html": [
       "<img src=\"https://raw.githubusercontent.com/PokeAPI/sprites/master/sprites/pokemon/143.png\"/>"
      ],
      "text/plain": [
       "<IPython.core.display.Image object>"
      ]
     },
     "metadata": {},
     "output_type": "display_data"
    },
    {
     "name": "stdout",
     "output_type": "stream",
     "text": [
      "144 articuno 554 kg\n"
     ]
    },
    {
     "data": {
      "text/html": [
       "<img src=\"https://raw.githubusercontent.com/PokeAPI/sprites/master/sprites/pokemon/144.png\"/>"
      ],
      "text/plain": [
       "<IPython.core.display.Image object>"
      ]
     },
     "metadata": {},
     "output_type": "display_data"
    },
    {
     "name": "stdout",
     "output_type": "stream",
     "text": [
      "145 zapdos 526 kg\n"
     ]
    },
    {
     "data": {
      "text/html": [
       "<img src=\"https://raw.githubusercontent.com/PokeAPI/sprites/master/sprites/pokemon/145.png\"/>"
      ],
      "text/plain": [
       "<IPython.core.display.Image object>"
      ]
     },
     "metadata": {},
     "output_type": "display_data"
    },
    {
     "name": "stdout",
     "output_type": "stream",
     "text": [
      "146 moltres 600 kg\n"
     ]
    },
    {
     "data": {
      "text/html": [
       "<img src=\"https://raw.githubusercontent.com/PokeAPI/sprites/master/sprites/pokemon/146.png\"/>"
      ],
      "text/plain": [
       "<IPython.core.display.Image object>"
      ]
     },
     "metadata": {},
     "output_type": "display_data"
    },
    {
     "name": "stdout",
     "output_type": "stream",
     "text": [
      "147 dratini 33 kg\n"
     ]
    },
    {
     "data": {
      "text/html": [
       "<img src=\"https://raw.githubusercontent.com/PokeAPI/sprites/master/sprites/pokemon/147.png\"/>"
      ],
      "text/plain": [
       "<IPython.core.display.Image object>"
      ]
     },
     "metadata": {},
     "output_type": "display_data"
    },
    {
     "name": "stdout",
     "output_type": "stream",
     "text": [
      "148 dragonair 165 kg\n"
     ]
    },
    {
     "data": {
      "text/html": [
       "<img src=\"https://raw.githubusercontent.com/PokeAPI/sprites/master/sprites/pokemon/148.png\"/>"
      ],
      "text/plain": [
       "<IPython.core.display.Image object>"
      ]
     },
     "metadata": {},
     "output_type": "display_data"
    },
    {
     "name": "stdout",
     "output_type": "stream",
     "text": [
      "149 dragonite 2100 kg\n"
     ]
    },
    {
     "data": {
      "text/html": [
       "<img src=\"https://raw.githubusercontent.com/PokeAPI/sprites/master/sprites/pokemon/149.png\"/>"
      ],
      "text/plain": [
       "<IPython.core.display.Image object>"
      ]
     },
     "metadata": {},
     "output_type": "display_data"
    },
    {
     "name": "stdout",
     "output_type": "stream",
     "text": [
      "150 mewtwo 1220 kg\n"
     ]
    },
    {
     "data": {
      "text/html": [
       "<img src=\"https://raw.githubusercontent.com/PokeAPI/sprites/master/sprites/pokemon/150.png\"/>"
      ],
      "text/plain": [
       "<IPython.core.display.Image object>"
      ]
     },
     "metadata": {},
     "output_type": "display_data"
    },
    {
     "name": "stdout",
     "output_type": "stream",
     "text": [
      "151 mew 40 kg\n"
     ]
    },
    {
     "data": {
      "text/html": [
       "<img src=\"https://raw.githubusercontent.com/PokeAPI/sprites/master/sprites/pokemon/151.png\"/>"
      ],
      "text/plain": [
       "<IPython.core.display.Image object>"
      ]
     },
     "metadata": {},
     "output_type": "display_data"
    },
    {
     "name": "stdout",
     "output_type": "stream",
     "text": [
      "152 chikorita 64 kg\n"
     ]
    },
    {
     "data": {
      "text/html": [
       "<img src=\"https://raw.githubusercontent.com/PokeAPI/sprites/master/sprites/pokemon/152.png\"/>"
      ],
      "text/plain": [
       "<IPython.core.display.Image object>"
      ]
     },
     "metadata": {},
     "output_type": "display_data"
    },
    {
     "name": "stdout",
     "output_type": "stream",
     "text": [
      "153 bayleef 158 kg\n"
     ]
    },
    {
     "data": {
      "text/html": [
       "<img src=\"https://raw.githubusercontent.com/PokeAPI/sprites/master/sprites/pokemon/153.png\"/>"
      ],
      "text/plain": [
       "<IPython.core.display.Image object>"
      ]
     },
     "metadata": {},
     "output_type": "display_data"
    },
    {
     "name": "stdout",
     "output_type": "stream",
     "text": [
      "154 meganium 1005 kg\n"
     ]
    },
    {
     "data": {
      "text/html": [
       "<img src=\"https://raw.githubusercontent.com/PokeAPI/sprites/master/sprites/pokemon/154.png\"/>"
      ],
      "text/plain": [
       "<IPython.core.display.Image object>"
      ]
     },
     "metadata": {},
     "output_type": "display_data"
    },
    {
     "name": "stdout",
     "output_type": "stream",
     "text": [
      "155 cyndaquil 79 kg\n"
     ]
    },
    {
     "data": {
      "text/html": [
       "<img src=\"https://raw.githubusercontent.com/PokeAPI/sprites/master/sprites/pokemon/155.png\"/>"
      ],
      "text/plain": [
       "<IPython.core.display.Image object>"
      ]
     },
     "metadata": {},
     "output_type": "display_data"
    },
    {
     "name": "stdout",
     "output_type": "stream",
     "text": [
      "156 quilava 190 kg\n"
     ]
    },
    {
     "data": {
      "text/html": [
       "<img src=\"https://raw.githubusercontent.com/PokeAPI/sprites/master/sprites/pokemon/156.png\"/>"
      ],
      "text/plain": [
       "<IPython.core.display.Image object>"
      ]
     },
     "metadata": {},
     "output_type": "display_data"
    },
    {
     "name": "stdout",
     "output_type": "stream",
     "text": [
      "157 typhlosion 795 kg\n"
     ]
    },
    {
     "data": {
      "text/html": [
       "<img src=\"https://raw.githubusercontent.com/PokeAPI/sprites/master/sprites/pokemon/157.png\"/>"
      ],
      "text/plain": [
       "<IPython.core.display.Image object>"
      ]
     },
     "metadata": {},
     "output_type": "display_data"
    },
    {
     "name": "stdout",
     "output_type": "stream",
     "text": [
      "158 totodile 95 kg\n"
     ]
    },
    {
     "data": {
      "text/html": [
       "<img src=\"https://raw.githubusercontent.com/PokeAPI/sprites/master/sprites/pokemon/158.png\"/>"
      ],
      "text/plain": [
       "<IPython.core.display.Image object>"
      ]
     },
     "metadata": {},
     "output_type": "display_data"
    },
    {
     "name": "stdout",
     "output_type": "stream",
     "text": [
      "159 croconaw 250 kg\n"
     ]
    },
    {
     "data": {
      "text/html": [
       "<img src=\"https://raw.githubusercontent.com/PokeAPI/sprites/master/sprites/pokemon/159.png\"/>"
      ],
      "text/plain": [
       "<IPython.core.display.Image object>"
      ]
     },
     "metadata": {},
     "output_type": "display_data"
    },
    {
     "name": "stdout",
     "output_type": "stream",
     "text": [
      "160 feraligatr 888 kg\n"
     ]
    },
    {
     "data": {
      "text/html": [
       "<img src=\"https://raw.githubusercontent.com/PokeAPI/sprites/master/sprites/pokemon/160.png\"/>"
      ],
      "text/plain": [
       "<IPython.core.display.Image object>"
      ]
     },
     "metadata": {},
     "output_type": "display_data"
    },
    {
     "name": "stdout",
     "output_type": "stream",
     "text": [
      "161 sentret 60 kg\n"
     ]
    },
    {
     "data": {
      "text/html": [
       "<img src=\"https://raw.githubusercontent.com/PokeAPI/sprites/master/sprites/pokemon/161.png\"/>"
      ],
      "text/plain": [
       "<IPython.core.display.Image object>"
      ]
     },
     "metadata": {},
     "output_type": "display_data"
    },
    {
     "name": "stdout",
     "output_type": "stream",
     "text": [
      "162 furret 325 kg\n"
     ]
    },
    {
     "data": {
      "text/html": [
       "<img src=\"https://raw.githubusercontent.com/PokeAPI/sprites/master/sprites/pokemon/162.png\"/>"
      ],
      "text/plain": [
       "<IPython.core.display.Image object>"
      ]
     },
     "metadata": {},
     "output_type": "display_data"
    },
    {
     "name": "stdout",
     "output_type": "stream",
     "text": [
      "163 hoothoot 212 kg\n"
     ]
    },
    {
     "data": {
      "text/html": [
       "<img src=\"https://raw.githubusercontent.com/PokeAPI/sprites/master/sprites/pokemon/163.png\"/>"
      ],
      "text/plain": [
       "<IPython.core.display.Image object>"
      ]
     },
     "metadata": {},
     "output_type": "display_data"
    },
    {
     "name": "stdout",
     "output_type": "stream",
     "text": [
      "164 noctowl 408 kg\n"
     ]
    },
    {
     "data": {
      "text/html": [
       "<img src=\"https://raw.githubusercontent.com/PokeAPI/sprites/master/sprites/pokemon/164.png\"/>"
      ],
      "text/plain": [
       "<IPython.core.display.Image object>"
      ]
     },
     "metadata": {},
     "output_type": "display_data"
    },
    {
     "name": "stdout",
     "output_type": "stream",
     "text": [
      "165 ledyba 108 kg\n"
     ]
    },
    {
     "data": {
      "text/html": [
       "<img src=\"https://raw.githubusercontent.com/PokeAPI/sprites/master/sprites/pokemon/165.png\"/>"
      ],
      "text/plain": [
       "<IPython.core.display.Image object>"
      ]
     },
     "metadata": {},
     "output_type": "display_data"
    },
    {
     "name": "stdout",
     "output_type": "stream",
     "text": [
      "166 ledian 356 kg\n"
     ]
    },
    {
     "data": {
      "text/html": [
       "<img src=\"https://raw.githubusercontent.com/PokeAPI/sprites/master/sprites/pokemon/166.png\"/>"
      ],
      "text/plain": [
       "<IPython.core.display.Image object>"
      ]
     },
     "metadata": {},
     "output_type": "display_data"
    },
    {
     "name": "stdout",
     "output_type": "stream",
     "text": [
      "167 spinarak 85 kg\n"
     ]
    },
    {
     "data": {
      "text/html": [
       "<img src=\"https://raw.githubusercontent.com/PokeAPI/sprites/master/sprites/pokemon/167.png\"/>"
      ],
      "text/plain": [
       "<IPython.core.display.Image object>"
      ]
     },
     "metadata": {},
     "output_type": "display_data"
    },
    {
     "name": "stdout",
     "output_type": "stream",
     "text": [
      "168 ariados 335 kg\n"
     ]
    },
    {
     "data": {
      "text/html": [
       "<img src=\"https://raw.githubusercontent.com/PokeAPI/sprites/master/sprites/pokemon/168.png\"/>"
      ],
      "text/plain": [
       "<IPython.core.display.Image object>"
      ]
     },
     "metadata": {},
     "output_type": "display_data"
    },
    {
     "name": "stdout",
     "output_type": "stream",
     "text": [
      "169 crobat 750 kg\n"
     ]
    },
    {
     "data": {
      "text/html": [
       "<img src=\"https://raw.githubusercontent.com/PokeAPI/sprites/master/sprites/pokemon/169.png\"/>"
      ],
      "text/plain": [
       "<IPython.core.display.Image object>"
      ]
     },
     "metadata": {},
     "output_type": "display_data"
    },
    {
     "name": "stdout",
     "output_type": "stream",
     "text": [
      "170 chinchou 120 kg\n"
     ]
    },
    {
     "data": {
      "text/html": [
       "<img src=\"https://raw.githubusercontent.com/PokeAPI/sprites/master/sprites/pokemon/170.png\"/>"
      ],
      "text/plain": [
       "<IPython.core.display.Image object>"
      ]
     },
     "metadata": {},
     "output_type": "display_data"
    },
    {
     "name": "stdout",
     "output_type": "stream",
     "text": [
      "171 lanturn 225 kg\n"
     ]
    },
    {
     "data": {
      "text/html": [
       "<img src=\"https://raw.githubusercontent.com/PokeAPI/sprites/master/sprites/pokemon/171.png\"/>"
      ],
      "text/plain": [
       "<IPython.core.display.Image object>"
      ]
     },
     "metadata": {},
     "output_type": "display_data"
    },
    {
     "name": "stdout",
     "output_type": "stream",
     "text": [
      "172 pichu 20 kg\n"
     ]
    },
    {
     "data": {
      "text/html": [
       "<img src=\"https://raw.githubusercontent.com/PokeAPI/sprites/master/sprites/pokemon/172.png\"/>"
      ],
      "text/plain": [
       "<IPython.core.display.Image object>"
      ]
     },
     "metadata": {},
     "output_type": "display_data"
    },
    {
     "name": "stdout",
     "output_type": "stream",
     "text": [
      "173 cleffa 30 kg\n"
     ]
    },
    {
     "data": {
      "text/html": [
       "<img src=\"https://raw.githubusercontent.com/PokeAPI/sprites/master/sprites/pokemon/173.png\"/>"
      ],
      "text/plain": [
       "<IPython.core.display.Image object>"
      ]
     },
     "metadata": {},
     "output_type": "display_data"
    },
    {
     "name": "stdout",
     "output_type": "stream",
     "text": [
      "174 igglybuff 10 kg\n"
     ]
    },
    {
     "data": {
      "text/html": [
       "<img src=\"https://raw.githubusercontent.com/PokeAPI/sprites/master/sprites/pokemon/174.png\"/>"
      ],
      "text/plain": [
       "<IPython.core.display.Image object>"
      ]
     },
     "metadata": {},
     "output_type": "display_data"
    },
    {
     "name": "stdout",
     "output_type": "stream",
     "text": [
      "175 togepi 15 kg\n"
     ]
    },
    {
     "data": {
      "text/html": [
       "<img src=\"https://raw.githubusercontent.com/PokeAPI/sprites/master/sprites/pokemon/175.png\"/>"
      ],
      "text/plain": [
       "<IPython.core.display.Image object>"
      ]
     },
     "metadata": {},
     "output_type": "display_data"
    },
    {
     "name": "stdout",
     "output_type": "stream",
     "text": [
      "176 togetic 32 kg\n"
     ]
    },
    {
     "data": {
      "text/html": [
       "<img src=\"https://raw.githubusercontent.com/PokeAPI/sprites/master/sprites/pokemon/176.png\"/>"
      ],
      "text/plain": [
       "<IPython.core.display.Image object>"
      ]
     },
     "metadata": {},
     "output_type": "display_data"
    },
    {
     "name": "stdout",
     "output_type": "stream",
     "text": [
      "177 natu 20 kg\n"
     ]
    },
    {
     "data": {
      "text/html": [
       "<img src=\"https://raw.githubusercontent.com/PokeAPI/sprites/master/sprites/pokemon/177.png\"/>"
      ],
      "text/plain": [
       "<IPython.core.display.Image object>"
      ]
     },
     "metadata": {},
     "output_type": "display_data"
    },
    {
     "name": "stdout",
     "output_type": "stream",
     "text": [
      "178 xatu 150 kg\n"
     ]
    },
    {
     "data": {
      "text/html": [
       "<img src=\"https://raw.githubusercontent.com/PokeAPI/sprites/master/sprites/pokemon/178.png\"/>"
      ],
      "text/plain": [
       "<IPython.core.display.Image object>"
      ]
     },
     "metadata": {},
     "output_type": "display_data"
    },
    {
     "name": "stdout",
     "output_type": "stream",
     "text": [
      "179 mareep 78 kg\n"
     ]
    },
    {
     "data": {
      "text/html": [
       "<img src=\"https://raw.githubusercontent.com/PokeAPI/sprites/master/sprites/pokemon/179.png\"/>"
      ],
      "text/plain": [
       "<IPython.core.display.Image object>"
      ]
     },
     "metadata": {},
     "output_type": "display_data"
    },
    {
     "name": "stdout",
     "output_type": "stream",
     "text": [
      "180 flaaffy 133 kg\n"
     ]
    },
    {
     "data": {
      "text/html": [
       "<img src=\"https://raw.githubusercontent.com/PokeAPI/sprites/master/sprites/pokemon/180.png\"/>"
      ],
      "text/plain": [
       "<IPython.core.display.Image object>"
      ]
     },
     "metadata": {},
     "output_type": "display_data"
    },
    {
     "name": "stdout",
     "output_type": "stream",
     "text": [
      "181 ampharos 615 kg\n"
     ]
    },
    {
     "data": {
      "text/html": [
       "<img src=\"https://raw.githubusercontent.com/PokeAPI/sprites/master/sprites/pokemon/181.png\"/>"
      ],
      "text/plain": [
       "<IPython.core.display.Image object>"
      ]
     },
     "metadata": {},
     "output_type": "display_data"
    },
    {
     "name": "stdout",
     "output_type": "stream",
     "text": [
      "182 bellossom 58 kg\n"
     ]
    },
    {
     "data": {
      "text/html": [
       "<img src=\"https://raw.githubusercontent.com/PokeAPI/sprites/master/sprites/pokemon/182.png\"/>"
      ],
      "text/plain": [
       "<IPython.core.display.Image object>"
      ]
     },
     "metadata": {},
     "output_type": "display_data"
    },
    {
     "name": "stdout",
     "output_type": "stream",
     "text": [
      "183 marill 85 kg\n"
     ]
    },
    {
     "data": {
      "text/html": [
       "<img src=\"https://raw.githubusercontent.com/PokeAPI/sprites/master/sprites/pokemon/183.png\"/>"
      ],
      "text/plain": [
       "<IPython.core.display.Image object>"
      ]
     },
     "metadata": {},
     "output_type": "display_data"
    },
    {
     "name": "stdout",
     "output_type": "stream",
     "text": [
      "184 azumarill 285 kg\n"
     ]
    },
    {
     "data": {
      "text/html": [
       "<img src=\"https://raw.githubusercontent.com/PokeAPI/sprites/master/sprites/pokemon/184.png\"/>"
      ],
      "text/plain": [
       "<IPython.core.display.Image object>"
      ]
     },
     "metadata": {},
     "output_type": "display_data"
    },
    {
     "name": "stdout",
     "output_type": "stream",
     "text": [
      "185 sudowoodo 380 kg\n"
     ]
    },
    {
     "data": {
      "text/html": [
       "<img src=\"https://raw.githubusercontent.com/PokeAPI/sprites/master/sprites/pokemon/185.png\"/>"
      ],
      "text/plain": [
       "<IPython.core.display.Image object>"
      ]
     },
     "metadata": {},
     "output_type": "display_data"
    },
    {
     "name": "stdout",
     "output_type": "stream",
     "text": [
      "186 politoed 339 kg\n"
     ]
    },
    {
     "data": {
      "text/html": [
       "<img src=\"https://raw.githubusercontent.com/PokeAPI/sprites/master/sprites/pokemon/186.png\"/>"
      ],
      "text/plain": [
       "<IPython.core.display.Image object>"
      ]
     },
     "metadata": {},
     "output_type": "display_data"
    },
    {
     "name": "stdout",
     "output_type": "stream",
     "text": [
      "187 hoppip 5 kg\n"
     ]
    },
    {
     "data": {
      "text/html": [
       "<img src=\"https://raw.githubusercontent.com/PokeAPI/sprites/master/sprites/pokemon/187.png\"/>"
      ],
      "text/plain": [
       "<IPython.core.display.Image object>"
      ]
     },
     "metadata": {},
     "output_type": "display_data"
    },
    {
     "name": "stdout",
     "output_type": "stream",
     "text": [
      "188 skiploom 10 kg\n"
     ]
    },
    {
     "data": {
      "text/html": [
       "<img src=\"https://raw.githubusercontent.com/PokeAPI/sprites/master/sprites/pokemon/188.png\"/>"
      ],
      "text/plain": [
       "<IPython.core.display.Image object>"
      ]
     },
     "metadata": {},
     "output_type": "display_data"
    },
    {
     "name": "stdout",
     "output_type": "stream",
     "text": [
      "189 jumpluff 30 kg\n"
     ]
    },
    {
     "data": {
      "text/html": [
       "<img src=\"https://raw.githubusercontent.com/PokeAPI/sprites/master/sprites/pokemon/189.png\"/>"
      ],
      "text/plain": [
       "<IPython.core.display.Image object>"
      ]
     },
     "metadata": {},
     "output_type": "display_data"
    },
    {
     "name": "stdout",
     "output_type": "stream",
     "text": [
      "190 aipom 115 kg\n"
     ]
    },
    {
     "data": {
      "text/html": [
       "<img src=\"https://raw.githubusercontent.com/PokeAPI/sprites/master/sprites/pokemon/190.png\"/>"
      ],
      "text/plain": [
       "<IPython.core.display.Image object>"
      ]
     },
     "metadata": {},
     "output_type": "display_data"
    },
    {
     "name": "stdout",
     "output_type": "stream",
     "text": [
      "191 sunkern 18 kg\n"
     ]
    },
    {
     "data": {
      "text/html": [
       "<img src=\"https://raw.githubusercontent.com/PokeAPI/sprites/master/sprites/pokemon/191.png\"/>"
      ],
      "text/plain": [
       "<IPython.core.display.Image object>"
      ]
     },
     "metadata": {},
     "output_type": "display_data"
    },
    {
     "name": "stdout",
     "output_type": "stream",
     "text": [
      "192 sunflora 85 kg\n"
     ]
    },
    {
     "data": {
      "text/html": [
       "<img src=\"https://raw.githubusercontent.com/PokeAPI/sprites/master/sprites/pokemon/192.png\"/>"
      ],
      "text/plain": [
       "<IPython.core.display.Image object>"
      ]
     },
     "metadata": {},
     "output_type": "display_data"
    },
    {
     "name": "stdout",
     "output_type": "stream",
     "text": [
      "193 yanma 380 kg\n"
     ]
    },
    {
     "data": {
      "text/html": [
       "<img src=\"https://raw.githubusercontent.com/PokeAPI/sprites/master/sprites/pokemon/193.png\"/>"
      ],
      "text/plain": [
       "<IPython.core.display.Image object>"
      ]
     },
     "metadata": {},
     "output_type": "display_data"
    },
    {
     "name": "stdout",
     "output_type": "stream",
     "text": [
      "194 wooper 85 kg\n"
     ]
    },
    {
     "data": {
      "text/html": [
       "<img src=\"https://raw.githubusercontent.com/PokeAPI/sprites/master/sprites/pokemon/194.png\"/>"
      ],
      "text/plain": [
       "<IPython.core.display.Image object>"
      ]
     },
     "metadata": {},
     "output_type": "display_data"
    },
    {
     "name": "stdout",
     "output_type": "stream",
     "text": [
      "195 quagsire 750 kg\n"
     ]
    },
    {
     "data": {
      "text/html": [
       "<img src=\"https://raw.githubusercontent.com/PokeAPI/sprites/master/sprites/pokemon/195.png\"/>"
      ],
      "text/plain": [
       "<IPython.core.display.Image object>"
      ]
     },
     "metadata": {},
     "output_type": "display_data"
    },
    {
     "name": "stdout",
     "output_type": "stream",
     "text": [
      "196 espeon 265 kg\n"
     ]
    },
    {
     "data": {
      "text/html": [
       "<img src=\"https://raw.githubusercontent.com/PokeAPI/sprites/master/sprites/pokemon/196.png\"/>"
      ],
      "text/plain": [
       "<IPython.core.display.Image object>"
      ]
     },
     "metadata": {},
     "output_type": "display_data"
    },
    {
     "name": "stdout",
     "output_type": "stream",
     "text": [
      "197 umbreon 270 kg\n"
     ]
    },
    {
     "data": {
      "text/html": [
       "<img src=\"https://raw.githubusercontent.com/PokeAPI/sprites/master/sprites/pokemon/197.png\"/>"
      ],
      "text/plain": [
       "<IPython.core.display.Image object>"
      ]
     },
     "metadata": {},
     "output_type": "display_data"
    },
    {
     "name": "stdout",
     "output_type": "stream",
     "text": [
      "198 murkrow 21 kg\n"
     ]
    },
    {
     "data": {
      "text/html": [
       "<img src=\"https://raw.githubusercontent.com/PokeAPI/sprites/master/sprites/pokemon/198.png\"/>"
      ],
      "text/plain": [
       "<IPython.core.display.Image object>"
      ]
     },
     "metadata": {},
     "output_type": "display_data"
    },
    {
     "name": "stdout",
     "output_type": "stream",
     "text": [
      "199 slowking 795 kg\n"
     ]
    },
    {
     "data": {
      "text/html": [
       "<img src=\"https://raw.githubusercontent.com/PokeAPI/sprites/master/sprites/pokemon/199.png\"/>"
      ],
      "text/plain": [
       "<IPython.core.display.Image object>"
      ]
     },
     "metadata": {},
     "output_type": "display_data"
    },
    {
     "name": "stdout",
     "output_type": "stream",
     "text": [
      "200 misdreavus 10 kg\n"
     ]
    },
    {
     "data": {
      "text/html": [
       "<img src=\"https://raw.githubusercontent.com/PokeAPI/sprites/master/sprites/pokemon/200.png\"/>"
      ],
      "text/plain": [
       "<IPython.core.display.Image object>"
      ]
     },
     "metadata": {},
     "output_type": "display_data"
    },
    {
     "name": "stdout",
     "output_type": "stream",
     "text": [
      "201 unown 50 kg\n"
     ]
    },
    {
     "data": {
      "text/html": [
       "<img src=\"https://raw.githubusercontent.com/PokeAPI/sprites/master/sprites/pokemon/201.png\"/>"
      ],
      "text/plain": [
       "<IPython.core.display.Image object>"
      ]
     },
     "metadata": {},
     "output_type": "display_data"
    },
    {
     "name": "stdout",
     "output_type": "stream",
     "text": [
      "202 wobbuffet 285 kg\n"
     ]
    },
    {
     "data": {
      "text/html": [
       "<img src=\"https://raw.githubusercontent.com/PokeAPI/sprites/master/sprites/pokemon/202.png\"/>"
      ],
      "text/plain": [
       "<IPython.core.display.Image object>"
      ]
     },
     "metadata": {},
     "output_type": "display_data"
    },
    {
     "name": "stdout",
     "output_type": "stream",
     "text": [
      "203 girafarig 415 kg\n"
     ]
    },
    {
     "data": {
      "text/html": [
       "<img src=\"https://raw.githubusercontent.com/PokeAPI/sprites/master/sprites/pokemon/203.png\"/>"
      ],
      "text/plain": [
       "<IPython.core.display.Image object>"
      ]
     },
     "metadata": {},
     "output_type": "display_data"
    },
    {
     "name": "stdout",
     "output_type": "stream",
     "text": [
      "204 pineco 72 kg\n"
     ]
    },
    {
     "data": {
      "text/html": [
       "<img src=\"https://raw.githubusercontent.com/PokeAPI/sprites/master/sprites/pokemon/204.png\"/>"
      ],
      "text/plain": [
       "<IPython.core.display.Image object>"
      ]
     },
     "metadata": {},
     "output_type": "display_data"
    },
    {
     "name": "stdout",
     "output_type": "stream",
     "text": [
      "205 forretress 1258 kg\n"
     ]
    },
    {
     "data": {
      "text/html": [
       "<img src=\"https://raw.githubusercontent.com/PokeAPI/sprites/master/sprites/pokemon/205.png\"/>"
      ],
      "text/plain": [
       "<IPython.core.display.Image object>"
      ]
     },
     "metadata": {},
     "output_type": "display_data"
    },
    {
     "name": "stdout",
     "output_type": "stream",
     "text": [
      "206 dunsparce 140 kg\n"
     ]
    },
    {
     "data": {
      "text/html": [
       "<img src=\"https://raw.githubusercontent.com/PokeAPI/sprites/master/sprites/pokemon/206.png\"/>"
      ],
      "text/plain": [
       "<IPython.core.display.Image object>"
      ]
     },
     "metadata": {},
     "output_type": "display_data"
    },
    {
     "name": "stdout",
     "output_type": "stream",
     "text": [
      "207 gligar 648 kg\n"
     ]
    },
    {
     "data": {
      "text/html": [
       "<img src=\"https://raw.githubusercontent.com/PokeAPI/sprites/master/sprites/pokemon/207.png\"/>"
      ],
      "text/plain": [
       "<IPython.core.display.Image object>"
      ]
     },
     "metadata": {},
     "output_type": "display_data"
    },
    {
     "name": "stdout",
     "output_type": "stream",
     "text": [
      "208 steelix 4000 kg\n"
     ]
    },
    {
     "data": {
      "text/html": [
       "<img src=\"https://raw.githubusercontent.com/PokeAPI/sprites/master/sprites/pokemon/208.png\"/>"
      ],
      "text/plain": [
       "<IPython.core.display.Image object>"
      ]
     },
     "metadata": {},
     "output_type": "display_data"
    },
    {
     "name": "stdout",
     "output_type": "stream",
     "text": [
      "209 snubbull 78 kg\n"
     ]
    },
    {
     "data": {
      "text/html": [
       "<img src=\"https://raw.githubusercontent.com/PokeAPI/sprites/master/sprites/pokemon/209.png\"/>"
      ],
      "text/plain": [
       "<IPython.core.display.Image object>"
      ]
     },
     "metadata": {},
     "output_type": "display_data"
    },
    {
     "name": "stdout",
     "output_type": "stream",
     "text": [
      "210 granbull 487 kg\n"
     ]
    },
    {
     "data": {
      "text/html": [
       "<img src=\"https://raw.githubusercontent.com/PokeAPI/sprites/master/sprites/pokemon/210.png\"/>"
      ],
      "text/plain": [
       "<IPython.core.display.Image object>"
      ]
     },
     "metadata": {},
     "output_type": "display_data"
    },
    {
     "name": "stdout",
     "output_type": "stream",
     "text": [
      "211 qwilfish 39 kg\n"
     ]
    },
    {
     "data": {
      "text/html": [
       "<img src=\"https://raw.githubusercontent.com/PokeAPI/sprites/master/sprites/pokemon/211.png\"/>"
      ],
      "text/plain": [
       "<IPython.core.display.Image object>"
      ]
     },
     "metadata": {},
     "output_type": "display_data"
    },
    {
     "name": "stdout",
     "output_type": "stream",
     "text": [
      "212 scizor 1180 kg\n"
     ]
    },
    {
     "data": {
      "text/html": [
       "<img src=\"https://raw.githubusercontent.com/PokeAPI/sprites/master/sprites/pokemon/212.png\"/>"
      ],
      "text/plain": [
       "<IPython.core.display.Image object>"
      ]
     },
     "metadata": {},
     "output_type": "display_data"
    },
    {
     "name": "stdout",
     "output_type": "stream",
     "text": [
      "213 shuckle 205 kg\n"
     ]
    },
    {
     "data": {
      "text/html": [
       "<img src=\"https://raw.githubusercontent.com/PokeAPI/sprites/master/sprites/pokemon/213.png\"/>"
      ],
      "text/plain": [
       "<IPython.core.display.Image object>"
      ]
     },
     "metadata": {},
     "output_type": "display_data"
    },
    {
     "name": "stdout",
     "output_type": "stream",
     "text": [
      "214 heracross 540 kg\n"
     ]
    },
    {
     "data": {
      "text/html": [
       "<img src=\"https://raw.githubusercontent.com/PokeAPI/sprites/master/sprites/pokemon/214.png\"/>"
      ],
      "text/plain": [
       "<IPython.core.display.Image object>"
      ]
     },
     "metadata": {},
     "output_type": "display_data"
    },
    {
     "name": "stdout",
     "output_type": "stream",
     "text": [
      "215 sneasel 280 kg\n"
     ]
    },
    {
     "data": {
      "text/html": [
       "<img src=\"https://raw.githubusercontent.com/PokeAPI/sprites/master/sprites/pokemon/215.png\"/>"
      ],
      "text/plain": [
       "<IPython.core.display.Image object>"
      ]
     },
     "metadata": {},
     "output_type": "display_data"
    },
    {
     "name": "stdout",
     "output_type": "stream",
     "text": [
      "216 teddiursa 88 kg\n"
     ]
    },
    {
     "data": {
      "text/html": [
       "<img src=\"https://raw.githubusercontent.com/PokeAPI/sprites/master/sprites/pokemon/216.png\"/>"
      ],
      "text/plain": [
       "<IPython.core.display.Image object>"
      ]
     },
     "metadata": {},
     "output_type": "display_data"
    },
    {
     "name": "stdout",
     "output_type": "stream",
     "text": [
      "217 ursaring 1258 kg\n"
     ]
    },
    {
     "data": {
      "text/html": [
       "<img src=\"https://raw.githubusercontent.com/PokeAPI/sprites/master/sprites/pokemon/217.png\"/>"
      ],
      "text/plain": [
       "<IPython.core.display.Image object>"
      ]
     },
     "metadata": {},
     "output_type": "display_data"
    },
    {
     "name": "stdout",
     "output_type": "stream",
     "text": [
      "218 slugma 350 kg\n"
     ]
    },
    {
     "data": {
      "text/html": [
       "<img src=\"https://raw.githubusercontent.com/PokeAPI/sprites/master/sprites/pokemon/218.png\"/>"
      ],
      "text/plain": [
       "<IPython.core.display.Image object>"
      ]
     },
     "metadata": {},
     "output_type": "display_data"
    },
    {
     "name": "stdout",
     "output_type": "stream",
     "text": [
      "219 magcargo 550 kg\n"
     ]
    },
    {
     "data": {
      "text/html": [
       "<img src=\"https://raw.githubusercontent.com/PokeAPI/sprites/master/sprites/pokemon/219.png\"/>"
      ],
      "text/plain": [
       "<IPython.core.display.Image object>"
      ]
     },
     "metadata": {},
     "output_type": "display_data"
    },
    {
     "name": "stdout",
     "output_type": "stream",
     "text": [
      "220 swinub 65 kg\n"
     ]
    },
    {
     "data": {
      "text/html": [
       "<img src=\"https://raw.githubusercontent.com/PokeAPI/sprites/master/sprites/pokemon/220.png\"/>"
      ],
      "text/plain": [
       "<IPython.core.display.Image object>"
      ]
     },
     "metadata": {},
     "output_type": "display_data"
    },
    {
     "name": "stdout",
     "output_type": "stream",
     "text": [
      "221 piloswine 558 kg\n"
     ]
    },
    {
     "data": {
      "text/html": [
       "<img src=\"https://raw.githubusercontent.com/PokeAPI/sprites/master/sprites/pokemon/221.png\"/>"
      ],
      "text/plain": [
       "<IPython.core.display.Image object>"
      ]
     },
     "metadata": {},
     "output_type": "display_data"
    },
    {
     "name": "stdout",
     "output_type": "stream",
     "text": [
      "222 corsola 50 kg\n"
     ]
    },
    {
     "data": {
      "text/html": [
       "<img src=\"https://raw.githubusercontent.com/PokeAPI/sprites/master/sprites/pokemon/222.png\"/>"
      ],
      "text/plain": [
       "<IPython.core.display.Image object>"
      ]
     },
     "metadata": {},
     "output_type": "display_data"
    },
    {
     "name": "stdout",
     "output_type": "stream",
     "text": [
      "223 remoraid 120 kg\n"
     ]
    },
    {
     "data": {
      "text/html": [
       "<img src=\"https://raw.githubusercontent.com/PokeAPI/sprites/master/sprites/pokemon/223.png\"/>"
      ],
      "text/plain": [
       "<IPython.core.display.Image object>"
      ]
     },
     "metadata": {},
     "output_type": "display_data"
    },
    {
     "name": "stdout",
     "output_type": "stream",
     "text": [
      "224 octillery 285 kg\n"
     ]
    },
    {
     "data": {
      "text/html": [
       "<img src=\"https://raw.githubusercontent.com/PokeAPI/sprites/master/sprites/pokemon/224.png\"/>"
      ],
      "text/plain": [
       "<IPython.core.display.Image object>"
      ]
     },
     "metadata": {},
     "output_type": "display_data"
    },
    {
     "name": "stdout",
     "output_type": "stream",
     "text": [
      "225 delibird 160 kg\n"
     ]
    },
    {
     "data": {
      "text/html": [
       "<img src=\"https://raw.githubusercontent.com/PokeAPI/sprites/master/sprites/pokemon/225.png\"/>"
      ],
      "text/plain": [
       "<IPython.core.display.Image object>"
      ]
     },
     "metadata": {},
     "output_type": "display_data"
    },
    {
     "name": "stdout",
     "output_type": "stream",
     "text": [
      "226 mantine 2200 kg\n"
     ]
    },
    {
     "data": {
      "text/html": [
       "<img src=\"https://raw.githubusercontent.com/PokeAPI/sprites/master/sprites/pokemon/226.png\"/>"
      ],
      "text/plain": [
       "<IPython.core.display.Image object>"
      ]
     },
     "metadata": {},
     "output_type": "display_data"
    },
    {
     "name": "stdout",
     "output_type": "stream",
     "text": [
      "227 skarmory 505 kg\n"
     ]
    },
    {
     "data": {
      "text/html": [
       "<img src=\"https://raw.githubusercontent.com/PokeAPI/sprites/master/sprites/pokemon/227.png\"/>"
      ],
      "text/plain": [
       "<IPython.core.display.Image object>"
      ]
     },
     "metadata": {},
     "output_type": "display_data"
    },
    {
     "name": "stdout",
     "output_type": "stream",
     "text": [
      "228 houndour 108 kg\n"
     ]
    },
    {
     "data": {
      "text/html": [
       "<img src=\"https://raw.githubusercontent.com/PokeAPI/sprites/master/sprites/pokemon/228.png\"/>"
      ],
      "text/plain": [
       "<IPython.core.display.Image object>"
      ]
     },
     "metadata": {},
     "output_type": "display_data"
    },
    {
     "name": "stdout",
     "output_type": "stream",
     "text": [
      "229 houndoom 350 kg\n"
     ]
    },
    {
     "data": {
      "text/html": [
       "<img src=\"https://raw.githubusercontent.com/PokeAPI/sprites/master/sprites/pokemon/229.png\"/>"
      ],
      "text/plain": [
       "<IPython.core.display.Image object>"
      ]
     },
     "metadata": {},
     "output_type": "display_data"
    },
    {
     "name": "stdout",
     "output_type": "stream",
     "text": [
      "230 kingdra 1520 kg\n"
     ]
    },
    {
     "data": {
      "text/html": [
       "<img src=\"https://raw.githubusercontent.com/PokeAPI/sprites/master/sprites/pokemon/230.png\"/>"
      ],
      "text/plain": [
       "<IPython.core.display.Image object>"
      ]
     },
     "metadata": {},
     "output_type": "display_data"
    },
    {
     "name": "stdout",
     "output_type": "stream",
     "text": [
      "231 phanpy 335 kg\n"
     ]
    },
    {
     "data": {
      "text/html": [
       "<img src=\"https://raw.githubusercontent.com/PokeAPI/sprites/master/sprites/pokemon/231.png\"/>"
      ],
      "text/plain": [
       "<IPython.core.display.Image object>"
      ]
     },
     "metadata": {},
     "output_type": "display_data"
    },
    {
     "name": "stdout",
     "output_type": "stream",
     "text": [
      "232 donphan 1200 kg\n"
     ]
    },
    {
     "data": {
      "text/html": [
       "<img src=\"https://raw.githubusercontent.com/PokeAPI/sprites/master/sprites/pokemon/232.png\"/>"
      ],
      "text/plain": [
       "<IPython.core.display.Image object>"
      ]
     },
     "metadata": {},
     "output_type": "display_data"
    },
    {
     "name": "stdout",
     "output_type": "stream",
     "text": [
      "233 porygon2 325 kg\n"
     ]
    },
    {
     "data": {
      "text/html": [
       "<img src=\"https://raw.githubusercontent.com/PokeAPI/sprites/master/sprites/pokemon/233.png\"/>"
      ],
      "text/plain": [
       "<IPython.core.display.Image object>"
      ]
     },
     "metadata": {},
     "output_type": "display_data"
    },
    {
     "name": "stdout",
     "output_type": "stream",
     "text": [
      "234 stantler 712 kg\n"
     ]
    },
    {
     "data": {
      "text/html": [
       "<img src=\"https://raw.githubusercontent.com/PokeAPI/sprites/master/sprites/pokemon/234.png\"/>"
      ],
      "text/plain": [
       "<IPython.core.display.Image object>"
      ]
     },
     "metadata": {},
     "output_type": "display_data"
    },
    {
     "name": "stdout",
     "output_type": "stream",
     "text": [
      "235 smeargle 580 kg\n"
     ]
    },
    {
     "data": {
      "text/html": [
       "<img src=\"https://raw.githubusercontent.com/PokeAPI/sprites/master/sprites/pokemon/235.png\"/>"
      ],
      "text/plain": [
       "<IPython.core.display.Image object>"
      ]
     },
     "metadata": {},
     "output_type": "display_data"
    },
    {
     "name": "stdout",
     "output_type": "stream",
     "text": [
      "236 tyrogue 210 kg\n"
     ]
    },
    {
     "data": {
      "text/html": [
       "<img src=\"https://raw.githubusercontent.com/PokeAPI/sprites/master/sprites/pokemon/236.png\"/>"
      ],
      "text/plain": [
       "<IPython.core.display.Image object>"
      ]
     },
     "metadata": {},
     "output_type": "display_data"
    },
    {
     "name": "stdout",
     "output_type": "stream",
     "text": [
      "237 hitmontop 480 kg\n"
     ]
    },
    {
     "data": {
      "text/html": [
       "<img src=\"https://raw.githubusercontent.com/PokeAPI/sprites/master/sprites/pokemon/237.png\"/>"
      ],
      "text/plain": [
       "<IPython.core.display.Image object>"
      ]
     },
     "metadata": {},
     "output_type": "display_data"
    },
    {
     "name": "stdout",
     "output_type": "stream",
     "text": [
      "238 smoochum 60 kg\n"
     ]
    },
    {
     "data": {
      "text/html": [
       "<img src=\"https://raw.githubusercontent.com/PokeAPI/sprites/master/sprites/pokemon/238.png\"/>"
      ],
      "text/plain": [
       "<IPython.core.display.Image object>"
      ]
     },
     "metadata": {},
     "output_type": "display_data"
    },
    {
     "name": "stdout",
     "output_type": "stream",
     "text": [
      "239 elekid 235 kg\n"
     ]
    },
    {
     "data": {
      "text/html": [
       "<img src=\"https://raw.githubusercontent.com/PokeAPI/sprites/master/sprites/pokemon/239.png\"/>"
      ],
      "text/plain": [
       "<IPython.core.display.Image object>"
      ]
     },
     "metadata": {},
     "output_type": "display_data"
    },
    {
     "name": "stdout",
     "output_type": "stream",
     "text": [
      "240 magby 214 kg\n"
     ]
    },
    {
     "data": {
      "text/html": [
       "<img src=\"https://raw.githubusercontent.com/PokeAPI/sprites/master/sprites/pokemon/240.png\"/>"
      ],
      "text/plain": [
       "<IPython.core.display.Image object>"
      ]
     },
     "metadata": {},
     "output_type": "display_data"
    },
    {
     "name": "stdout",
     "output_type": "stream",
     "text": [
      "241 miltank 755 kg\n"
     ]
    },
    {
     "data": {
      "text/html": [
       "<img src=\"https://raw.githubusercontent.com/PokeAPI/sprites/master/sprites/pokemon/241.png\"/>"
      ],
      "text/plain": [
       "<IPython.core.display.Image object>"
      ]
     },
     "metadata": {},
     "output_type": "display_data"
    },
    {
     "name": "stdout",
     "output_type": "stream",
     "text": [
      "242 blissey 468 kg\n"
     ]
    },
    {
     "data": {
      "text/html": [
       "<img src=\"https://raw.githubusercontent.com/PokeAPI/sprites/master/sprites/pokemon/242.png\"/>"
      ],
      "text/plain": [
       "<IPython.core.display.Image object>"
      ]
     },
     "metadata": {},
     "output_type": "display_data"
    },
    {
     "name": "stdout",
     "output_type": "stream",
     "text": [
      "243 raikou 1780 kg\n"
     ]
    },
    {
     "data": {
      "text/html": [
       "<img src=\"https://raw.githubusercontent.com/PokeAPI/sprites/master/sprites/pokemon/243.png\"/>"
      ],
      "text/plain": [
       "<IPython.core.display.Image object>"
      ]
     },
     "metadata": {},
     "output_type": "display_data"
    },
    {
     "name": "stdout",
     "output_type": "stream",
     "text": [
      "244 entei 1980 kg\n"
     ]
    },
    {
     "data": {
      "text/html": [
       "<img src=\"https://raw.githubusercontent.com/PokeAPI/sprites/master/sprites/pokemon/244.png\"/>"
      ],
      "text/plain": [
       "<IPython.core.display.Image object>"
      ]
     },
     "metadata": {},
     "output_type": "display_data"
    },
    {
     "name": "stdout",
     "output_type": "stream",
     "text": [
      "245 suicune 1870 kg\n"
     ]
    },
    {
     "data": {
      "text/html": [
       "<img src=\"https://raw.githubusercontent.com/PokeAPI/sprites/master/sprites/pokemon/245.png\"/>"
      ],
      "text/plain": [
       "<IPython.core.display.Image object>"
      ]
     },
     "metadata": {},
     "output_type": "display_data"
    },
    {
     "name": "stdout",
     "output_type": "stream",
     "text": [
      "246 larvitar 720 kg\n"
     ]
    },
    {
     "data": {
      "text/html": [
       "<img src=\"https://raw.githubusercontent.com/PokeAPI/sprites/master/sprites/pokemon/246.png\"/>"
      ],
      "text/plain": [
       "<IPython.core.display.Image object>"
      ]
     },
     "metadata": {},
     "output_type": "display_data"
    },
    {
     "name": "stdout",
     "output_type": "stream",
     "text": [
      "247 pupitar 1520 kg\n"
     ]
    },
    {
     "data": {
      "text/html": [
       "<img src=\"https://raw.githubusercontent.com/PokeAPI/sprites/master/sprites/pokemon/247.png\"/>"
      ],
      "text/plain": [
       "<IPython.core.display.Image object>"
      ]
     },
     "metadata": {},
     "output_type": "display_data"
    },
    {
     "name": "stdout",
     "output_type": "stream",
     "text": [
      "248 tyranitar 2020 kg\n"
     ]
    },
    {
     "data": {
      "text/html": [
       "<img src=\"https://raw.githubusercontent.com/PokeAPI/sprites/master/sprites/pokemon/248.png\"/>"
      ],
      "text/plain": [
       "<IPython.core.display.Image object>"
      ]
     },
     "metadata": {},
     "output_type": "display_data"
    },
    {
     "name": "stdout",
     "output_type": "stream",
     "text": [
      "249 lugia 2160 kg\n"
     ]
    },
    {
     "data": {
      "text/html": [
       "<img src=\"https://raw.githubusercontent.com/PokeAPI/sprites/master/sprites/pokemon/249.png\"/>"
      ],
      "text/plain": [
       "<IPython.core.display.Image object>"
      ]
     },
     "metadata": {},
     "output_type": "display_data"
    },
    {
     "name": "stdout",
     "output_type": "stream",
     "text": [
      "250 ho-oh 1990 kg\n"
     ]
    },
    {
     "data": {
      "text/html": [
       "<img src=\"https://raw.githubusercontent.com/PokeAPI/sprites/master/sprites/pokemon/250.png\"/>"
      ],
      "text/plain": [
       "<IPython.core.display.Image object>"
      ]
     },
     "metadata": {},
     "output_type": "display_data"
    },
    {
     "name": "stdout",
     "output_type": "stream",
     "text": [
      "251 celebi 50 kg\n"
     ]
    },
    {
     "data": {
      "text/html": [
       "<img src=\"https://raw.githubusercontent.com/PokeAPI/sprites/master/sprites/pokemon/251.png\"/>"
      ],
      "text/plain": [
       "<IPython.core.display.Image object>"
      ]
     },
     "metadata": {},
     "output_type": "display_data"
    },
    {
     "name": "stdout",
     "output_type": "stream",
     "text": [
      "252 treecko 50 kg\n"
     ]
    },
    {
     "data": {
      "text/html": [
       "<img src=\"https://raw.githubusercontent.com/PokeAPI/sprites/master/sprites/pokemon/252.png\"/>"
      ],
      "text/plain": [
       "<IPython.core.display.Image object>"
      ]
     },
     "metadata": {},
     "output_type": "display_data"
    },
    {
     "name": "stdout",
     "output_type": "stream",
     "text": [
      "253 grovyle 216 kg\n"
     ]
    },
    {
     "data": {
      "text/html": [
       "<img src=\"https://raw.githubusercontent.com/PokeAPI/sprites/master/sprites/pokemon/253.png\"/>"
      ],
      "text/plain": [
       "<IPython.core.display.Image object>"
      ]
     },
     "metadata": {},
     "output_type": "display_data"
    },
    {
     "name": "stdout",
     "output_type": "stream",
     "text": [
      "254 sceptile 522 kg\n"
     ]
    },
    {
     "data": {
      "text/html": [
       "<img src=\"https://raw.githubusercontent.com/PokeAPI/sprites/master/sprites/pokemon/254.png\"/>"
      ],
      "text/plain": [
       "<IPython.core.display.Image object>"
      ]
     },
     "metadata": {},
     "output_type": "display_data"
    },
    {
     "name": "stdout",
     "output_type": "stream",
     "text": [
      "255 torchic 25 kg\n"
     ]
    },
    {
     "data": {
      "text/html": [
       "<img src=\"https://raw.githubusercontent.com/PokeAPI/sprites/master/sprites/pokemon/255.png\"/>"
      ],
      "text/plain": [
       "<IPython.core.display.Image object>"
      ]
     },
     "metadata": {},
     "output_type": "display_data"
    },
    {
     "name": "stdout",
     "output_type": "stream",
     "text": [
      "256 combusken 195 kg\n"
     ]
    },
    {
     "data": {
      "text/html": [
       "<img src=\"https://raw.githubusercontent.com/PokeAPI/sprites/master/sprites/pokemon/256.png\"/>"
      ],
      "text/plain": [
       "<IPython.core.display.Image object>"
      ]
     },
     "metadata": {},
     "output_type": "display_data"
    },
    {
     "name": "stdout",
     "output_type": "stream",
     "text": [
      "257 blaziken 520 kg\n"
     ]
    },
    {
     "data": {
      "text/html": [
       "<img src=\"https://raw.githubusercontent.com/PokeAPI/sprites/master/sprites/pokemon/257.png\"/>"
      ],
      "text/plain": [
       "<IPython.core.display.Image object>"
      ]
     },
     "metadata": {},
     "output_type": "display_data"
    },
    {
     "name": "stdout",
     "output_type": "stream",
     "text": [
      "258 mudkip 76 kg\n"
     ]
    },
    {
     "data": {
      "text/html": [
       "<img src=\"https://raw.githubusercontent.com/PokeAPI/sprites/master/sprites/pokemon/258.png\"/>"
      ],
      "text/plain": [
       "<IPython.core.display.Image object>"
      ]
     },
     "metadata": {},
     "output_type": "display_data"
    },
    {
     "name": "stdout",
     "output_type": "stream",
     "text": [
      "259 marshtomp 280 kg\n"
     ]
    },
    {
     "data": {
      "text/html": [
       "<img src=\"https://raw.githubusercontent.com/PokeAPI/sprites/master/sprites/pokemon/259.png\"/>"
      ],
      "text/plain": [
       "<IPython.core.display.Image object>"
      ]
     },
     "metadata": {},
     "output_type": "display_data"
    },
    {
     "name": "stdout",
     "output_type": "stream",
     "text": [
      "260 swampert 819 kg\n"
     ]
    },
    {
     "data": {
      "text/html": [
       "<img src=\"https://raw.githubusercontent.com/PokeAPI/sprites/master/sprites/pokemon/260.png\"/>"
      ],
      "text/plain": [
       "<IPython.core.display.Image object>"
      ]
     },
     "metadata": {},
     "output_type": "display_data"
    },
    {
     "name": "stdout",
     "output_type": "stream",
     "text": [
      "261 poochyena 136 kg\n"
     ]
    },
    {
     "data": {
      "text/html": [
       "<img src=\"https://raw.githubusercontent.com/PokeAPI/sprites/master/sprites/pokemon/261.png\"/>"
      ],
      "text/plain": [
       "<IPython.core.display.Image object>"
      ]
     },
     "metadata": {},
     "output_type": "display_data"
    },
    {
     "name": "stdout",
     "output_type": "stream",
     "text": [
      "262 mightyena 370 kg\n"
     ]
    },
    {
     "data": {
      "text/html": [
       "<img src=\"https://raw.githubusercontent.com/PokeAPI/sprites/master/sprites/pokemon/262.png\"/>"
      ],
      "text/plain": [
       "<IPython.core.display.Image object>"
      ]
     },
     "metadata": {},
     "output_type": "display_data"
    },
    {
     "name": "stdout",
     "output_type": "stream",
     "text": [
      "263 zigzagoon 175 kg\n"
     ]
    },
    {
     "data": {
      "text/html": [
       "<img src=\"https://raw.githubusercontent.com/PokeAPI/sprites/master/sprites/pokemon/263.png\"/>"
      ],
      "text/plain": [
       "<IPython.core.display.Image object>"
      ]
     },
     "metadata": {},
     "output_type": "display_data"
    },
    {
     "name": "stdout",
     "output_type": "stream",
     "text": [
      "264 linoone 325 kg\n"
     ]
    },
    {
     "data": {
      "text/html": [
       "<img src=\"https://raw.githubusercontent.com/PokeAPI/sprites/master/sprites/pokemon/264.png\"/>"
      ],
      "text/plain": [
       "<IPython.core.display.Image object>"
      ]
     },
     "metadata": {},
     "output_type": "display_data"
    },
    {
     "name": "stdout",
     "output_type": "stream",
     "text": [
      "265 wurmple 36 kg\n"
     ]
    },
    {
     "data": {
      "text/html": [
       "<img src=\"https://raw.githubusercontent.com/PokeAPI/sprites/master/sprites/pokemon/265.png\"/>"
      ],
      "text/plain": [
       "<IPython.core.display.Image object>"
      ]
     },
     "metadata": {},
     "output_type": "display_data"
    },
    {
     "name": "stdout",
     "output_type": "stream",
     "text": [
      "266 silcoon 100 kg\n"
     ]
    },
    {
     "data": {
      "text/html": [
       "<img src=\"https://raw.githubusercontent.com/PokeAPI/sprites/master/sprites/pokemon/266.png\"/>"
      ],
      "text/plain": [
       "<IPython.core.display.Image object>"
      ]
     },
     "metadata": {},
     "output_type": "display_data"
    },
    {
     "name": "stdout",
     "output_type": "stream",
     "text": [
      "267 beautifly 284 kg\n"
     ]
    },
    {
     "data": {
      "text/html": [
       "<img src=\"https://raw.githubusercontent.com/PokeAPI/sprites/master/sprites/pokemon/267.png\"/>"
      ],
      "text/plain": [
       "<IPython.core.display.Image object>"
      ]
     },
     "metadata": {},
     "output_type": "display_data"
    },
    {
     "name": "stdout",
     "output_type": "stream",
     "text": [
      "268 cascoon 115 kg\n"
     ]
    },
    {
     "data": {
      "text/html": [
       "<img src=\"https://raw.githubusercontent.com/PokeAPI/sprites/master/sprites/pokemon/268.png\"/>"
      ],
      "text/plain": [
       "<IPython.core.display.Image object>"
      ]
     },
     "metadata": {},
     "output_type": "display_data"
    },
    {
     "name": "stdout",
     "output_type": "stream",
     "text": [
      "269 dustox 316 kg\n"
     ]
    },
    {
     "data": {
      "text/html": [
       "<img src=\"https://raw.githubusercontent.com/PokeAPI/sprites/master/sprites/pokemon/269.png\"/>"
      ],
      "text/plain": [
       "<IPython.core.display.Image object>"
      ]
     },
     "metadata": {},
     "output_type": "display_data"
    },
    {
     "name": "stdout",
     "output_type": "stream",
     "text": [
      "270 lotad 26 kg\n"
     ]
    },
    {
     "data": {
      "text/html": [
       "<img src=\"https://raw.githubusercontent.com/PokeAPI/sprites/master/sprites/pokemon/270.png\"/>"
      ],
      "text/plain": [
       "<IPython.core.display.Image object>"
      ]
     },
     "metadata": {},
     "output_type": "display_data"
    },
    {
     "name": "stdout",
     "output_type": "stream",
     "text": [
      "271 lombre 325 kg\n"
     ]
    },
    {
     "data": {
      "text/html": [
       "<img src=\"https://raw.githubusercontent.com/PokeAPI/sprites/master/sprites/pokemon/271.png\"/>"
      ],
      "text/plain": [
       "<IPython.core.display.Image object>"
      ]
     },
     "metadata": {},
     "output_type": "display_data"
    },
    {
     "name": "stdout",
     "output_type": "stream",
     "text": [
      "272 ludicolo 550 kg\n"
     ]
    },
    {
     "data": {
      "text/html": [
       "<img src=\"https://raw.githubusercontent.com/PokeAPI/sprites/master/sprites/pokemon/272.png\"/>"
      ],
      "text/plain": [
       "<IPython.core.display.Image object>"
      ]
     },
     "metadata": {},
     "output_type": "display_data"
    },
    {
     "name": "stdout",
     "output_type": "stream",
     "text": [
      "273 seedot 40 kg\n"
     ]
    },
    {
     "data": {
      "text/html": [
       "<img src=\"https://raw.githubusercontent.com/PokeAPI/sprites/master/sprites/pokemon/273.png\"/>"
      ],
      "text/plain": [
       "<IPython.core.display.Image object>"
      ]
     },
     "metadata": {},
     "output_type": "display_data"
    },
    {
     "name": "stdout",
     "output_type": "stream",
     "text": [
      "274 nuzleaf 280 kg\n"
     ]
    },
    {
     "data": {
      "text/html": [
       "<img src=\"https://raw.githubusercontent.com/PokeAPI/sprites/master/sprites/pokemon/274.png\"/>"
      ],
      "text/plain": [
       "<IPython.core.display.Image object>"
      ]
     },
     "metadata": {},
     "output_type": "display_data"
    },
    {
     "name": "stdout",
     "output_type": "stream",
     "text": [
      "275 shiftry 596 kg\n"
     ]
    },
    {
     "data": {
      "text/html": [
       "<img src=\"https://raw.githubusercontent.com/PokeAPI/sprites/master/sprites/pokemon/275.png\"/>"
      ],
      "text/plain": [
       "<IPython.core.display.Image object>"
      ]
     },
     "metadata": {},
     "output_type": "display_data"
    },
    {
     "name": "stdout",
     "output_type": "stream",
     "text": [
      "276 taillow 23 kg\n"
     ]
    },
    {
     "data": {
      "text/html": [
       "<img src=\"https://raw.githubusercontent.com/PokeAPI/sprites/master/sprites/pokemon/276.png\"/>"
      ],
      "text/plain": [
       "<IPython.core.display.Image object>"
      ]
     },
     "metadata": {},
     "output_type": "display_data"
    },
    {
     "name": "stdout",
     "output_type": "stream",
     "text": [
      "277 swellow 198 kg\n"
     ]
    },
    {
     "data": {
      "text/html": [
       "<img src=\"https://raw.githubusercontent.com/PokeAPI/sprites/master/sprites/pokemon/277.png\"/>"
      ],
      "text/plain": [
       "<IPython.core.display.Image object>"
      ]
     },
     "metadata": {},
     "output_type": "display_data"
    },
    {
     "name": "stdout",
     "output_type": "stream",
     "text": [
      "278 wingull 95 kg\n"
     ]
    },
    {
     "data": {
      "text/html": [
       "<img src=\"https://raw.githubusercontent.com/PokeAPI/sprites/master/sprites/pokemon/278.png\"/>"
      ],
      "text/plain": [
       "<IPython.core.display.Image object>"
      ]
     },
     "metadata": {},
     "output_type": "display_data"
    },
    {
     "name": "stdout",
     "output_type": "stream",
     "text": [
      "279 pelipper 280 kg\n"
     ]
    },
    {
     "data": {
      "text/html": [
       "<img src=\"https://raw.githubusercontent.com/PokeAPI/sprites/master/sprites/pokemon/279.png\"/>"
      ],
      "text/plain": [
       "<IPython.core.display.Image object>"
      ]
     },
     "metadata": {},
     "output_type": "display_data"
    },
    {
     "name": "stdout",
     "output_type": "stream",
     "text": [
      "280 ralts 66 kg\n"
     ]
    },
    {
     "data": {
      "text/html": [
       "<img src=\"https://raw.githubusercontent.com/PokeAPI/sprites/master/sprites/pokemon/280.png\"/>"
      ],
      "text/plain": [
       "<IPython.core.display.Image object>"
      ]
     },
     "metadata": {},
     "output_type": "display_data"
    },
    {
     "name": "stdout",
     "output_type": "stream",
     "text": [
      "281 kirlia 202 kg\n"
     ]
    },
    {
     "data": {
      "text/html": [
       "<img src=\"https://raw.githubusercontent.com/PokeAPI/sprites/master/sprites/pokemon/281.png\"/>"
      ],
      "text/plain": [
       "<IPython.core.display.Image object>"
      ]
     },
     "metadata": {},
     "output_type": "display_data"
    },
    {
     "name": "stdout",
     "output_type": "stream",
     "text": [
      "282 gardevoir 484 kg\n"
     ]
    },
    {
     "data": {
      "text/html": [
       "<img src=\"https://raw.githubusercontent.com/PokeAPI/sprites/master/sprites/pokemon/282.png\"/>"
      ],
      "text/plain": [
       "<IPython.core.display.Image object>"
      ]
     },
     "metadata": {},
     "output_type": "display_data"
    },
    {
     "name": "stdout",
     "output_type": "stream",
     "text": [
      "283 surskit 17 kg\n"
     ]
    },
    {
     "data": {
      "text/html": [
       "<img src=\"https://raw.githubusercontent.com/PokeAPI/sprites/master/sprites/pokemon/283.png\"/>"
      ],
      "text/plain": [
       "<IPython.core.display.Image object>"
      ]
     },
     "metadata": {},
     "output_type": "display_data"
    },
    {
     "name": "stdout",
     "output_type": "stream",
     "text": [
      "284 masquerain 36 kg\n"
     ]
    },
    {
     "data": {
      "text/html": [
       "<img src=\"https://raw.githubusercontent.com/PokeAPI/sprites/master/sprites/pokemon/284.png\"/>"
      ],
      "text/plain": [
       "<IPython.core.display.Image object>"
      ]
     },
     "metadata": {},
     "output_type": "display_data"
    },
    {
     "name": "stdout",
     "output_type": "stream",
     "text": [
      "285 shroomish 45 kg\n"
     ]
    },
    {
     "data": {
      "text/html": [
       "<img src=\"https://raw.githubusercontent.com/PokeAPI/sprites/master/sprites/pokemon/285.png\"/>"
      ],
      "text/plain": [
       "<IPython.core.display.Image object>"
      ]
     },
     "metadata": {},
     "output_type": "display_data"
    },
    {
     "name": "stdout",
     "output_type": "stream",
     "text": [
      "286 breloom 392 kg\n"
     ]
    },
    {
     "data": {
      "text/html": [
       "<img src=\"https://raw.githubusercontent.com/PokeAPI/sprites/master/sprites/pokemon/286.png\"/>"
      ],
      "text/plain": [
       "<IPython.core.display.Image object>"
      ]
     },
     "metadata": {},
     "output_type": "display_data"
    },
    {
     "name": "stdout",
     "output_type": "stream",
     "text": [
      "287 slakoth 240 kg\n"
     ]
    },
    {
     "data": {
      "text/html": [
       "<img src=\"https://raw.githubusercontent.com/PokeAPI/sprites/master/sprites/pokemon/287.png\"/>"
      ],
      "text/plain": [
       "<IPython.core.display.Image object>"
      ]
     },
     "metadata": {},
     "output_type": "display_data"
    },
    {
     "name": "stdout",
     "output_type": "stream",
     "text": [
      "288 vigoroth 465 kg\n"
     ]
    },
    {
     "data": {
      "text/html": [
       "<img src=\"https://raw.githubusercontent.com/PokeAPI/sprites/master/sprites/pokemon/288.png\"/>"
      ],
      "text/plain": [
       "<IPython.core.display.Image object>"
      ]
     },
     "metadata": {},
     "output_type": "display_data"
    },
    {
     "name": "stdout",
     "output_type": "stream",
     "text": [
      "289 slaking 1305 kg\n"
     ]
    },
    {
     "data": {
      "text/html": [
       "<img src=\"https://raw.githubusercontent.com/PokeAPI/sprites/master/sprites/pokemon/289.png\"/>"
      ],
      "text/plain": [
       "<IPython.core.display.Image object>"
      ]
     },
     "metadata": {},
     "output_type": "display_data"
    },
    {
     "name": "stdout",
     "output_type": "stream",
     "text": [
      "290 nincada 55 kg\n"
     ]
    },
    {
     "data": {
      "text/html": [
       "<img src=\"https://raw.githubusercontent.com/PokeAPI/sprites/master/sprites/pokemon/290.png\"/>"
      ],
      "text/plain": [
       "<IPython.core.display.Image object>"
      ]
     },
     "metadata": {},
     "output_type": "display_data"
    },
    {
     "name": "stdout",
     "output_type": "stream",
     "text": [
      "291 ninjask 120 kg\n"
     ]
    },
    {
     "data": {
      "text/html": [
       "<img src=\"https://raw.githubusercontent.com/PokeAPI/sprites/master/sprites/pokemon/291.png\"/>"
      ],
      "text/plain": [
       "<IPython.core.display.Image object>"
      ]
     },
     "metadata": {},
     "output_type": "display_data"
    },
    {
     "name": "stdout",
     "output_type": "stream",
     "text": [
      "292 shedinja 12 kg\n"
     ]
    },
    {
     "data": {
      "text/html": [
       "<img src=\"https://raw.githubusercontent.com/PokeAPI/sprites/master/sprites/pokemon/292.png\"/>"
      ],
      "text/plain": [
       "<IPython.core.display.Image object>"
      ]
     },
     "metadata": {},
     "output_type": "display_data"
    },
    {
     "name": "stdout",
     "output_type": "stream",
     "text": [
      "293 whismur 163 kg\n"
     ]
    },
    {
     "data": {
      "text/html": [
       "<img src=\"https://raw.githubusercontent.com/PokeAPI/sprites/master/sprites/pokemon/293.png\"/>"
      ],
      "text/plain": [
       "<IPython.core.display.Image object>"
      ]
     },
     "metadata": {},
     "output_type": "display_data"
    },
    {
     "name": "stdout",
     "output_type": "stream",
     "text": [
      "294 loudred 405 kg\n"
     ]
    },
    {
     "data": {
      "text/html": [
       "<img src=\"https://raw.githubusercontent.com/PokeAPI/sprites/master/sprites/pokemon/294.png\"/>"
      ],
      "text/plain": [
       "<IPython.core.display.Image object>"
      ]
     },
     "metadata": {},
     "output_type": "display_data"
    },
    {
     "name": "stdout",
     "output_type": "stream",
     "text": [
      "295 exploud 840 kg\n"
     ]
    },
    {
     "data": {
      "text/html": [
       "<img src=\"https://raw.githubusercontent.com/PokeAPI/sprites/master/sprites/pokemon/295.png\"/>"
      ],
      "text/plain": [
       "<IPython.core.display.Image object>"
      ]
     },
     "metadata": {},
     "output_type": "display_data"
    },
    {
     "name": "stdout",
     "output_type": "stream",
     "text": [
      "296 makuhita 864 kg\n"
     ]
    },
    {
     "data": {
      "text/html": [
       "<img src=\"https://raw.githubusercontent.com/PokeAPI/sprites/master/sprites/pokemon/296.png\"/>"
      ],
      "text/plain": [
       "<IPython.core.display.Image object>"
      ]
     },
     "metadata": {},
     "output_type": "display_data"
    },
    {
     "name": "stdout",
     "output_type": "stream",
     "text": [
      "297 hariyama 2538 kg\n"
     ]
    },
    {
     "data": {
      "text/html": [
       "<img src=\"https://raw.githubusercontent.com/PokeAPI/sprites/master/sprites/pokemon/297.png\"/>"
      ],
      "text/plain": [
       "<IPython.core.display.Image object>"
      ]
     },
     "metadata": {},
     "output_type": "display_data"
    },
    {
     "name": "stdout",
     "output_type": "stream",
     "text": [
      "298 azurill 20 kg\n"
     ]
    },
    {
     "data": {
      "text/html": [
       "<img src=\"https://raw.githubusercontent.com/PokeAPI/sprites/master/sprites/pokemon/298.png\"/>"
      ],
      "text/plain": [
       "<IPython.core.display.Image object>"
      ]
     },
     "metadata": {},
     "output_type": "display_data"
    },
    {
     "name": "stdout",
     "output_type": "stream",
     "text": [
      "299 nosepass 970 kg\n"
     ]
    },
    {
     "data": {
      "text/html": [
       "<img src=\"https://raw.githubusercontent.com/PokeAPI/sprites/master/sprites/pokemon/299.png\"/>"
      ],
      "text/plain": [
       "<IPython.core.display.Image object>"
      ]
     },
     "metadata": {},
     "output_type": "display_data"
    },
    {
     "name": "stdout",
     "output_type": "stream",
     "text": [
      "300 skitty 110 kg\n"
     ]
    },
    {
     "data": {
      "text/html": [
       "<img src=\"https://raw.githubusercontent.com/PokeAPI/sprites/master/sprites/pokemon/300.png\"/>"
      ],
      "text/plain": [
       "<IPython.core.display.Image object>"
      ]
     },
     "metadata": {},
     "output_type": "display_data"
    },
    {
     "name": "stdout",
     "output_type": "stream",
     "text": [
      "301 delcatty 326 kg\n"
     ]
    },
    {
     "data": {
      "text/html": [
       "<img src=\"https://raw.githubusercontent.com/PokeAPI/sprites/master/sprites/pokemon/301.png\"/>"
      ],
      "text/plain": [
       "<IPython.core.display.Image object>"
      ]
     },
     "metadata": {},
     "output_type": "display_data"
    },
    {
     "name": "stdout",
     "output_type": "stream",
     "text": [
      "302 sableye 110 kg\n"
     ]
    },
    {
     "data": {
      "text/html": [
       "<img src=\"https://raw.githubusercontent.com/PokeAPI/sprites/master/sprites/pokemon/302.png\"/>"
      ],
      "text/plain": [
       "<IPython.core.display.Image object>"
      ]
     },
     "metadata": {},
     "output_type": "display_data"
    },
    {
     "name": "stdout",
     "output_type": "stream",
     "text": [
      "303 mawile 115 kg\n"
     ]
    },
    {
     "data": {
      "text/html": [
       "<img src=\"https://raw.githubusercontent.com/PokeAPI/sprites/master/sprites/pokemon/303.png\"/>"
      ],
      "text/plain": [
       "<IPython.core.display.Image object>"
      ]
     },
     "metadata": {},
     "output_type": "display_data"
    },
    {
     "name": "stdout",
     "output_type": "stream",
     "text": [
      "304 aron 600 kg\n"
     ]
    },
    {
     "data": {
      "text/html": [
       "<img src=\"https://raw.githubusercontent.com/PokeAPI/sprites/master/sprites/pokemon/304.png\"/>"
      ],
      "text/plain": [
       "<IPython.core.display.Image object>"
      ]
     },
     "metadata": {},
     "output_type": "display_data"
    },
    {
     "name": "stdout",
     "output_type": "stream",
     "text": [
      "305 lairon 1200 kg\n"
     ]
    },
    {
     "data": {
      "text/html": [
       "<img src=\"https://raw.githubusercontent.com/PokeAPI/sprites/master/sprites/pokemon/305.png\"/>"
      ],
      "text/plain": [
       "<IPython.core.display.Image object>"
      ]
     },
     "metadata": {},
     "output_type": "display_data"
    },
    {
     "name": "stdout",
     "output_type": "stream",
     "text": [
      "306 aggron 3600 kg\n"
     ]
    },
    {
     "data": {
      "text/html": [
       "<img src=\"https://raw.githubusercontent.com/PokeAPI/sprites/master/sprites/pokemon/306.png\"/>"
      ],
      "text/plain": [
       "<IPython.core.display.Image object>"
      ]
     },
     "metadata": {},
     "output_type": "display_data"
    },
    {
     "name": "stdout",
     "output_type": "stream",
     "text": [
      "307 meditite 112 kg\n"
     ]
    },
    {
     "data": {
      "text/html": [
       "<img src=\"https://raw.githubusercontent.com/PokeAPI/sprites/master/sprites/pokemon/307.png\"/>"
      ],
      "text/plain": [
       "<IPython.core.display.Image object>"
      ]
     },
     "metadata": {},
     "output_type": "display_data"
    },
    {
     "name": "stdout",
     "output_type": "stream",
     "text": [
      "308 medicham 315 kg\n"
     ]
    },
    {
     "data": {
      "text/html": [
       "<img src=\"https://raw.githubusercontent.com/PokeAPI/sprites/master/sprites/pokemon/308.png\"/>"
      ],
      "text/plain": [
       "<IPython.core.display.Image object>"
      ]
     },
     "metadata": {},
     "output_type": "display_data"
    },
    {
     "name": "stdout",
     "output_type": "stream",
     "text": [
      "309 electrike 152 kg\n"
     ]
    },
    {
     "data": {
      "text/html": [
       "<img src=\"https://raw.githubusercontent.com/PokeAPI/sprites/master/sprites/pokemon/309.png\"/>"
      ],
      "text/plain": [
       "<IPython.core.display.Image object>"
      ]
     },
     "metadata": {},
     "output_type": "display_data"
    },
    {
     "name": "stdout",
     "output_type": "stream",
     "text": [
      "310 manectric 402 kg\n"
     ]
    },
    {
     "data": {
      "text/html": [
       "<img src=\"https://raw.githubusercontent.com/PokeAPI/sprites/master/sprites/pokemon/310.png\"/>"
      ],
      "text/plain": [
       "<IPython.core.display.Image object>"
      ]
     },
     "metadata": {},
     "output_type": "display_data"
    },
    {
     "name": "stdout",
     "output_type": "stream",
     "text": [
      "311 plusle 42 kg\n"
     ]
    },
    {
     "data": {
      "text/html": [
       "<img src=\"https://raw.githubusercontent.com/PokeAPI/sprites/master/sprites/pokemon/311.png\"/>"
      ],
      "text/plain": [
       "<IPython.core.display.Image object>"
      ]
     },
     "metadata": {},
     "output_type": "display_data"
    },
    {
     "name": "stdout",
     "output_type": "stream",
     "text": [
      "312 minun 42 kg\n"
     ]
    },
    {
     "data": {
      "text/html": [
       "<img src=\"https://raw.githubusercontent.com/PokeAPI/sprites/master/sprites/pokemon/312.png\"/>"
      ],
      "text/plain": [
       "<IPython.core.display.Image object>"
      ]
     },
     "metadata": {},
     "output_type": "display_data"
    },
    {
     "name": "stdout",
     "output_type": "stream",
     "text": [
      "313 volbeat 177 kg\n"
     ]
    },
    {
     "data": {
      "text/html": [
       "<img src=\"https://raw.githubusercontent.com/PokeAPI/sprites/master/sprites/pokemon/313.png\"/>"
      ],
      "text/plain": [
       "<IPython.core.display.Image object>"
      ]
     },
     "metadata": {},
     "output_type": "display_data"
    },
    {
     "name": "stdout",
     "output_type": "stream",
     "text": [
      "314 illumise 177 kg\n"
     ]
    },
    {
     "data": {
      "text/html": [
       "<img src=\"https://raw.githubusercontent.com/PokeAPI/sprites/master/sprites/pokemon/314.png\"/>"
      ],
      "text/plain": [
       "<IPython.core.display.Image object>"
      ]
     },
     "metadata": {},
     "output_type": "display_data"
    },
    {
     "name": "stdout",
     "output_type": "stream",
     "text": [
      "315 roselia 20 kg\n"
     ]
    },
    {
     "data": {
      "text/html": [
       "<img src=\"https://raw.githubusercontent.com/PokeAPI/sprites/master/sprites/pokemon/315.png\"/>"
      ],
      "text/plain": [
       "<IPython.core.display.Image object>"
      ]
     },
     "metadata": {},
     "output_type": "display_data"
    },
    {
     "name": "stdout",
     "output_type": "stream",
     "text": [
      "316 gulpin 103 kg\n"
     ]
    },
    {
     "data": {
      "text/html": [
       "<img src=\"https://raw.githubusercontent.com/PokeAPI/sprites/master/sprites/pokemon/316.png\"/>"
      ],
      "text/plain": [
       "<IPython.core.display.Image object>"
      ]
     },
     "metadata": {},
     "output_type": "display_data"
    },
    {
     "name": "stdout",
     "output_type": "stream",
     "text": [
      "317 swalot 800 kg\n"
     ]
    },
    {
     "data": {
      "text/html": [
       "<img src=\"https://raw.githubusercontent.com/PokeAPI/sprites/master/sprites/pokemon/317.png\"/>"
      ],
      "text/plain": [
       "<IPython.core.display.Image object>"
      ]
     },
     "metadata": {},
     "output_type": "display_data"
    },
    {
     "name": "stdout",
     "output_type": "stream",
     "text": [
      "318 carvanha 208 kg\n"
     ]
    },
    {
     "data": {
      "text/html": [
       "<img src=\"https://raw.githubusercontent.com/PokeAPI/sprites/master/sprites/pokemon/318.png\"/>"
      ],
      "text/plain": [
       "<IPython.core.display.Image object>"
      ]
     },
     "metadata": {},
     "output_type": "display_data"
    },
    {
     "name": "stdout",
     "output_type": "stream",
     "text": [
      "319 sharpedo 888 kg\n"
     ]
    },
    {
     "data": {
      "text/html": [
       "<img src=\"https://raw.githubusercontent.com/PokeAPI/sprites/master/sprites/pokemon/319.png\"/>"
      ],
      "text/plain": [
       "<IPython.core.display.Image object>"
      ]
     },
     "metadata": {},
     "output_type": "display_data"
    },
    {
     "name": "stdout",
     "output_type": "stream",
     "text": [
      "320 wailmer 1300 kg\n"
     ]
    },
    {
     "data": {
      "text/html": [
       "<img src=\"https://raw.githubusercontent.com/PokeAPI/sprites/master/sprites/pokemon/320.png\"/>"
      ],
      "text/plain": [
       "<IPython.core.display.Image object>"
      ]
     },
     "metadata": {},
     "output_type": "display_data"
    },
    {
     "name": "stdout",
     "output_type": "stream",
     "text": [
      "321 wailord 3980 kg\n"
     ]
    },
    {
     "data": {
      "text/html": [
       "<img src=\"https://raw.githubusercontent.com/PokeAPI/sprites/master/sprites/pokemon/321.png\"/>"
      ],
      "text/plain": [
       "<IPython.core.display.Image object>"
      ]
     },
     "metadata": {},
     "output_type": "display_data"
    },
    {
     "name": "stdout",
     "output_type": "stream",
     "text": [
      "322 numel 240 kg\n"
     ]
    },
    {
     "data": {
      "text/html": [
       "<img src=\"https://raw.githubusercontent.com/PokeAPI/sprites/master/sprites/pokemon/322.png\"/>"
      ],
      "text/plain": [
       "<IPython.core.display.Image object>"
      ]
     },
     "metadata": {},
     "output_type": "display_data"
    },
    {
     "name": "stdout",
     "output_type": "stream",
     "text": [
      "323 camerupt 2200 kg\n"
     ]
    },
    {
     "data": {
      "text/html": [
       "<img src=\"https://raw.githubusercontent.com/PokeAPI/sprites/master/sprites/pokemon/323.png\"/>"
      ],
      "text/plain": [
       "<IPython.core.display.Image object>"
      ]
     },
     "metadata": {},
     "output_type": "display_data"
    },
    {
     "name": "stdout",
     "output_type": "stream",
     "text": [
      "324 torkoal 804 kg\n"
     ]
    },
    {
     "data": {
      "text/html": [
       "<img src=\"https://raw.githubusercontent.com/PokeAPI/sprites/master/sprites/pokemon/324.png\"/>"
      ],
      "text/plain": [
       "<IPython.core.display.Image object>"
      ]
     },
     "metadata": {},
     "output_type": "display_data"
    },
    {
     "name": "stdout",
     "output_type": "stream",
     "text": [
      "325 spoink 306 kg\n"
     ]
    },
    {
     "data": {
      "text/html": [
       "<img src=\"https://raw.githubusercontent.com/PokeAPI/sprites/master/sprites/pokemon/325.png\"/>"
      ],
      "text/plain": [
       "<IPython.core.display.Image object>"
      ]
     },
     "metadata": {},
     "output_type": "display_data"
    },
    {
     "name": "stdout",
     "output_type": "stream",
     "text": [
      "326 grumpig 715 kg\n"
     ]
    },
    {
     "data": {
      "text/html": [
       "<img src=\"https://raw.githubusercontent.com/PokeAPI/sprites/master/sprites/pokemon/326.png\"/>"
      ],
      "text/plain": [
       "<IPython.core.display.Image object>"
      ]
     },
     "metadata": {},
     "output_type": "display_data"
    },
    {
     "name": "stdout",
     "output_type": "stream",
     "text": [
      "327 spinda 50 kg\n"
     ]
    },
    {
     "data": {
      "text/html": [
       "<img src=\"https://raw.githubusercontent.com/PokeAPI/sprites/master/sprites/pokemon/327.png\"/>"
      ],
      "text/plain": [
       "<IPython.core.display.Image object>"
      ]
     },
     "metadata": {},
     "output_type": "display_data"
    },
    {
     "name": "stdout",
     "output_type": "stream",
     "text": [
      "328 trapinch 150 kg\n"
     ]
    },
    {
     "data": {
      "text/html": [
       "<img src=\"https://raw.githubusercontent.com/PokeAPI/sprites/master/sprites/pokemon/328.png\"/>"
      ],
      "text/plain": [
       "<IPython.core.display.Image object>"
      ]
     },
     "metadata": {},
     "output_type": "display_data"
    },
    {
     "name": "stdout",
     "output_type": "stream",
     "text": [
      "329 vibrava 153 kg\n"
     ]
    },
    {
     "data": {
      "text/html": [
       "<img src=\"https://raw.githubusercontent.com/PokeAPI/sprites/master/sprites/pokemon/329.png\"/>"
      ],
      "text/plain": [
       "<IPython.core.display.Image object>"
      ]
     },
     "metadata": {},
     "output_type": "display_data"
    },
    {
     "name": "stdout",
     "output_type": "stream",
     "text": [
      "330 flygon 820 kg\n"
     ]
    },
    {
     "data": {
      "text/html": [
       "<img src=\"https://raw.githubusercontent.com/PokeAPI/sprites/master/sprites/pokemon/330.png\"/>"
      ],
      "text/plain": [
       "<IPython.core.display.Image object>"
      ]
     },
     "metadata": {},
     "output_type": "display_data"
    },
    {
     "name": "stdout",
     "output_type": "stream",
     "text": [
      "331 cacnea 513 kg\n"
     ]
    },
    {
     "data": {
      "text/html": [
       "<img src=\"https://raw.githubusercontent.com/PokeAPI/sprites/master/sprites/pokemon/331.png\"/>"
      ],
      "text/plain": [
       "<IPython.core.display.Image object>"
      ]
     },
     "metadata": {},
     "output_type": "display_data"
    },
    {
     "name": "stdout",
     "output_type": "stream",
     "text": [
      "332 cacturne 774 kg\n"
     ]
    },
    {
     "data": {
      "text/html": [
       "<img src=\"https://raw.githubusercontent.com/PokeAPI/sprites/master/sprites/pokemon/332.png\"/>"
      ],
      "text/plain": [
       "<IPython.core.display.Image object>"
      ]
     },
     "metadata": {},
     "output_type": "display_data"
    },
    {
     "name": "stdout",
     "output_type": "stream",
     "text": [
      "333 swablu 12 kg\n"
     ]
    },
    {
     "data": {
      "text/html": [
       "<img src=\"https://raw.githubusercontent.com/PokeAPI/sprites/master/sprites/pokemon/333.png\"/>"
      ],
      "text/plain": [
       "<IPython.core.display.Image object>"
      ]
     },
     "metadata": {},
     "output_type": "display_data"
    },
    {
     "name": "stdout",
     "output_type": "stream",
     "text": [
      "334 altaria 206 kg\n"
     ]
    },
    {
     "data": {
      "text/html": [
       "<img src=\"https://raw.githubusercontent.com/PokeAPI/sprites/master/sprites/pokemon/334.png\"/>"
      ],
      "text/plain": [
       "<IPython.core.display.Image object>"
      ]
     },
     "metadata": {},
     "output_type": "display_data"
    },
    {
     "name": "stdout",
     "output_type": "stream",
     "text": [
      "335 zangoose 403 kg\n"
     ]
    },
    {
     "data": {
      "text/html": [
       "<img src=\"https://raw.githubusercontent.com/PokeAPI/sprites/master/sprites/pokemon/335.png\"/>"
      ],
      "text/plain": [
       "<IPython.core.display.Image object>"
      ]
     },
     "metadata": {},
     "output_type": "display_data"
    },
    {
     "name": "stdout",
     "output_type": "stream",
     "text": [
      "336 seviper 525 kg\n"
     ]
    },
    {
     "data": {
      "text/html": [
       "<img src=\"https://raw.githubusercontent.com/PokeAPI/sprites/master/sprites/pokemon/336.png\"/>"
      ],
      "text/plain": [
       "<IPython.core.display.Image object>"
      ]
     },
     "metadata": {},
     "output_type": "display_data"
    },
    {
     "name": "stdout",
     "output_type": "stream",
     "text": [
      "337 lunatone 1680 kg\n"
     ]
    },
    {
     "data": {
      "text/html": [
       "<img src=\"https://raw.githubusercontent.com/PokeAPI/sprites/master/sprites/pokemon/337.png\"/>"
      ],
      "text/plain": [
       "<IPython.core.display.Image object>"
      ]
     },
     "metadata": {},
     "output_type": "display_data"
    },
    {
     "name": "stdout",
     "output_type": "stream",
     "text": [
      "338 solrock 1540 kg\n"
     ]
    },
    {
     "data": {
      "text/html": [
       "<img src=\"https://raw.githubusercontent.com/PokeAPI/sprites/master/sprites/pokemon/338.png\"/>"
      ],
      "text/plain": [
       "<IPython.core.display.Image object>"
      ]
     },
     "metadata": {},
     "output_type": "display_data"
    },
    {
     "name": "stdout",
     "output_type": "stream",
     "text": [
      "339 barboach 19 kg\n"
     ]
    },
    {
     "data": {
      "text/html": [
       "<img src=\"https://raw.githubusercontent.com/PokeAPI/sprites/master/sprites/pokemon/339.png\"/>"
      ],
      "text/plain": [
       "<IPython.core.display.Image object>"
      ]
     },
     "metadata": {},
     "output_type": "display_data"
    },
    {
     "name": "stdout",
     "output_type": "stream",
     "text": [
      "340 whiscash 236 kg\n"
     ]
    },
    {
     "data": {
      "text/html": [
       "<img src=\"https://raw.githubusercontent.com/PokeAPI/sprites/master/sprites/pokemon/340.png\"/>"
      ],
      "text/plain": [
       "<IPython.core.display.Image object>"
      ]
     },
     "metadata": {},
     "output_type": "display_data"
    },
    {
     "name": "stdout",
     "output_type": "stream",
     "text": [
      "341 corphish 115 kg\n"
     ]
    },
    {
     "data": {
      "text/html": [
       "<img src=\"https://raw.githubusercontent.com/PokeAPI/sprites/master/sprites/pokemon/341.png\"/>"
      ],
      "text/plain": [
       "<IPython.core.display.Image object>"
      ]
     },
     "metadata": {},
     "output_type": "display_data"
    },
    {
     "name": "stdout",
     "output_type": "stream",
     "text": [
      "342 crawdaunt 328 kg\n"
     ]
    },
    {
     "data": {
      "text/html": [
       "<img src=\"https://raw.githubusercontent.com/PokeAPI/sprites/master/sprites/pokemon/342.png\"/>"
      ],
      "text/plain": [
       "<IPython.core.display.Image object>"
      ]
     },
     "metadata": {},
     "output_type": "display_data"
    },
    {
     "name": "stdout",
     "output_type": "stream",
     "text": [
      "343 baltoy 215 kg\n"
     ]
    },
    {
     "data": {
      "text/html": [
       "<img src=\"https://raw.githubusercontent.com/PokeAPI/sprites/master/sprites/pokemon/343.png\"/>"
      ],
      "text/plain": [
       "<IPython.core.display.Image object>"
      ]
     },
     "metadata": {},
     "output_type": "display_data"
    },
    {
     "name": "stdout",
     "output_type": "stream",
     "text": [
      "344 claydol 1080 kg\n"
     ]
    },
    {
     "data": {
      "text/html": [
       "<img src=\"https://raw.githubusercontent.com/PokeAPI/sprites/master/sprites/pokemon/344.png\"/>"
      ],
      "text/plain": [
       "<IPython.core.display.Image object>"
      ]
     },
     "metadata": {},
     "output_type": "display_data"
    },
    {
     "name": "stdout",
     "output_type": "stream",
     "text": [
      "345 lileep 238 kg\n"
     ]
    },
    {
     "data": {
      "text/html": [
       "<img src=\"https://raw.githubusercontent.com/PokeAPI/sprites/master/sprites/pokemon/345.png\"/>"
      ],
      "text/plain": [
       "<IPython.core.display.Image object>"
      ]
     },
     "metadata": {},
     "output_type": "display_data"
    },
    {
     "name": "stdout",
     "output_type": "stream",
     "text": [
      "346 cradily 604 kg\n"
     ]
    },
    {
     "data": {
      "text/html": [
       "<img src=\"https://raw.githubusercontent.com/PokeAPI/sprites/master/sprites/pokemon/346.png\"/>"
      ],
      "text/plain": [
       "<IPython.core.display.Image object>"
      ]
     },
     "metadata": {},
     "output_type": "display_data"
    },
    {
     "name": "stdout",
     "output_type": "stream",
     "text": [
      "347 anorith 125 kg\n"
     ]
    },
    {
     "data": {
      "text/html": [
       "<img src=\"https://raw.githubusercontent.com/PokeAPI/sprites/master/sprites/pokemon/347.png\"/>"
      ],
      "text/plain": [
       "<IPython.core.display.Image object>"
      ]
     },
     "metadata": {},
     "output_type": "display_data"
    },
    {
     "name": "stdout",
     "output_type": "stream",
     "text": [
      "348 armaldo 682 kg\n"
     ]
    },
    {
     "data": {
      "text/html": [
       "<img src=\"https://raw.githubusercontent.com/PokeAPI/sprites/master/sprites/pokemon/348.png\"/>"
      ],
      "text/plain": [
       "<IPython.core.display.Image object>"
      ]
     },
     "metadata": {},
     "output_type": "display_data"
    },
    {
     "name": "stdout",
     "output_type": "stream",
     "text": [
      "349 feebas 74 kg\n"
     ]
    },
    {
     "data": {
      "text/html": [
       "<img src=\"https://raw.githubusercontent.com/PokeAPI/sprites/master/sprites/pokemon/349.png\"/>"
      ],
      "text/plain": [
       "<IPython.core.display.Image object>"
      ]
     },
     "metadata": {},
     "output_type": "display_data"
    },
    {
     "name": "stdout",
     "output_type": "stream",
     "text": [
      "350 milotic 1620 kg\n"
     ]
    },
    {
     "data": {
      "text/html": [
       "<img src=\"https://raw.githubusercontent.com/PokeAPI/sprites/master/sprites/pokemon/350.png\"/>"
      ],
      "text/plain": [
       "<IPython.core.display.Image object>"
      ]
     },
     "metadata": {},
     "output_type": "display_data"
    },
    {
     "name": "stdout",
     "output_type": "stream",
     "text": [
      "351 castform 8 kg\n"
     ]
    },
    {
     "data": {
      "text/html": [
       "<img src=\"https://raw.githubusercontent.com/PokeAPI/sprites/master/sprites/pokemon/351.png\"/>"
      ],
      "text/plain": [
       "<IPython.core.display.Image object>"
      ]
     },
     "metadata": {},
     "output_type": "display_data"
    },
    {
     "name": "stdout",
     "output_type": "stream",
     "text": [
      "352 kecleon 220 kg\n"
     ]
    },
    {
     "data": {
      "text/html": [
       "<img src=\"https://raw.githubusercontent.com/PokeAPI/sprites/master/sprites/pokemon/352.png\"/>"
      ],
      "text/plain": [
       "<IPython.core.display.Image object>"
      ]
     },
     "metadata": {},
     "output_type": "display_data"
    },
    {
     "name": "stdout",
     "output_type": "stream",
     "text": [
      "353 shuppet 23 kg\n"
     ]
    },
    {
     "data": {
      "text/html": [
       "<img src=\"https://raw.githubusercontent.com/PokeAPI/sprites/master/sprites/pokemon/353.png\"/>"
      ],
      "text/plain": [
       "<IPython.core.display.Image object>"
      ]
     },
     "metadata": {},
     "output_type": "display_data"
    },
    {
     "name": "stdout",
     "output_type": "stream",
     "text": [
      "354 banette 125 kg\n"
     ]
    },
    {
     "data": {
      "text/html": [
       "<img src=\"https://raw.githubusercontent.com/PokeAPI/sprites/master/sprites/pokemon/354.png\"/>"
      ],
      "text/plain": [
       "<IPython.core.display.Image object>"
      ]
     },
     "metadata": {},
     "output_type": "display_data"
    },
    {
     "name": "stdout",
     "output_type": "stream",
     "text": [
      "355 duskull 150 kg\n"
     ]
    },
    {
     "data": {
      "text/html": [
       "<img src=\"https://raw.githubusercontent.com/PokeAPI/sprites/master/sprites/pokemon/355.png\"/>"
      ],
      "text/plain": [
       "<IPython.core.display.Image object>"
      ]
     },
     "metadata": {},
     "output_type": "display_data"
    },
    {
     "name": "stdout",
     "output_type": "stream",
     "text": [
      "356 dusclops 306 kg\n"
     ]
    },
    {
     "data": {
      "text/html": [
       "<img src=\"https://raw.githubusercontent.com/PokeAPI/sprites/master/sprites/pokemon/356.png\"/>"
      ],
      "text/plain": [
       "<IPython.core.display.Image object>"
      ]
     },
     "metadata": {},
     "output_type": "display_data"
    },
    {
     "name": "stdout",
     "output_type": "stream",
     "text": [
      "357 tropius 1000 kg\n"
     ]
    },
    {
     "data": {
      "text/html": [
       "<img src=\"https://raw.githubusercontent.com/PokeAPI/sprites/master/sprites/pokemon/357.png\"/>"
      ],
      "text/plain": [
       "<IPython.core.display.Image object>"
      ]
     },
     "metadata": {},
     "output_type": "display_data"
    },
    {
     "name": "stdout",
     "output_type": "stream",
     "text": [
      "358 chimecho 10 kg\n"
     ]
    },
    {
     "data": {
      "text/html": [
       "<img src=\"https://raw.githubusercontent.com/PokeAPI/sprites/master/sprites/pokemon/358.png\"/>"
      ],
      "text/plain": [
       "<IPython.core.display.Image object>"
      ]
     },
     "metadata": {},
     "output_type": "display_data"
    },
    {
     "name": "stdout",
     "output_type": "stream",
     "text": [
      "359 absol 470 kg\n"
     ]
    },
    {
     "data": {
      "text/html": [
       "<img src=\"https://raw.githubusercontent.com/PokeAPI/sprites/master/sprites/pokemon/359.png\"/>"
      ],
      "text/plain": [
       "<IPython.core.display.Image object>"
      ]
     },
     "metadata": {},
     "output_type": "display_data"
    },
    {
     "name": "stdout",
     "output_type": "stream",
     "text": [
      "360 wynaut 140 kg\n"
     ]
    },
    {
     "data": {
      "text/html": [
       "<img src=\"https://raw.githubusercontent.com/PokeAPI/sprites/master/sprites/pokemon/360.png\"/>"
      ],
      "text/plain": [
       "<IPython.core.display.Image object>"
      ]
     },
     "metadata": {},
     "output_type": "display_data"
    },
    {
     "name": "stdout",
     "output_type": "stream",
     "text": [
      "361 snorunt 168 kg\n"
     ]
    },
    {
     "data": {
      "text/html": [
       "<img src=\"https://raw.githubusercontent.com/PokeAPI/sprites/master/sprites/pokemon/361.png\"/>"
      ],
      "text/plain": [
       "<IPython.core.display.Image object>"
      ]
     },
     "metadata": {},
     "output_type": "display_data"
    },
    {
     "name": "stdout",
     "output_type": "stream",
     "text": [
      "362 glalie 2565 kg\n"
     ]
    },
    {
     "data": {
      "text/html": [
       "<img src=\"https://raw.githubusercontent.com/PokeAPI/sprites/master/sprites/pokemon/362.png\"/>"
      ],
      "text/plain": [
       "<IPython.core.display.Image object>"
      ]
     },
     "metadata": {},
     "output_type": "display_data"
    },
    {
     "name": "stdout",
     "output_type": "stream",
     "text": [
      "363 spheal 395 kg\n"
     ]
    },
    {
     "data": {
      "text/html": [
       "<img src=\"https://raw.githubusercontent.com/PokeAPI/sprites/master/sprites/pokemon/363.png\"/>"
      ],
      "text/plain": [
       "<IPython.core.display.Image object>"
      ]
     },
     "metadata": {},
     "output_type": "display_data"
    },
    {
     "name": "stdout",
     "output_type": "stream",
     "text": [
      "364 sealeo 876 kg\n"
     ]
    },
    {
     "data": {
      "text/html": [
       "<img src=\"https://raw.githubusercontent.com/PokeAPI/sprites/master/sprites/pokemon/364.png\"/>"
      ],
      "text/plain": [
       "<IPython.core.display.Image object>"
      ]
     },
     "metadata": {},
     "output_type": "display_data"
    },
    {
     "name": "stdout",
     "output_type": "stream",
     "text": [
      "365 walrein 1506 kg\n"
     ]
    },
    {
     "data": {
      "text/html": [
       "<img src=\"https://raw.githubusercontent.com/PokeAPI/sprites/master/sprites/pokemon/365.png\"/>"
      ],
      "text/plain": [
       "<IPython.core.display.Image object>"
      ]
     },
     "metadata": {},
     "output_type": "display_data"
    },
    {
     "name": "stdout",
     "output_type": "stream",
     "text": [
      "366 clamperl 525 kg\n"
     ]
    },
    {
     "data": {
      "text/html": [
       "<img src=\"https://raw.githubusercontent.com/PokeAPI/sprites/master/sprites/pokemon/366.png\"/>"
      ],
      "text/plain": [
       "<IPython.core.display.Image object>"
      ]
     },
     "metadata": {},
     "output_type": "display_data"
    },
    {
     "name": "stdout",
     "output_type": "stream",
     "text": [
      "367 huntail 270 kg\n"
     ]
    },
    {
     "data": {
      "text/html": [
       "<img src=\"https://raw.githubusercontent.com/PokeAPI/sprites/master/sprites/pokemon/367.png\"/>"
      ],
      "text/plain": [
       "<IPython.core.display.Image object>"
      ]
     },
     "metadata": {},
     "output_type": "display_data"
    },
    {
     "name": "stdout",
     "output_type": "stream",
     "text": [
      "368 gorebyss 226 kg\n"
     ]
    },
    {
     "data": {
      "text/html": [
       "<img src=\"https://raw.githubusercontent.com/PokeAPI/sprites/master/sprites/pokemon/368.png\"/>"
      ],
      "text/plain": [
       "<IPython.core.display.Image object>"
      ]
     },
     "metadata": {},
     "output_type": "display_data"
    },
    {
     "name": "stdout",
     "output_type": "stream",
     "text": [
      "369 relicanth 234 kg\n"
     ]
    },
    {
     "data": {
      "text/html": [
       "<img src=\"https://raw.githubusercontent.com/PokeAPI/sprites/master/sprites/pokemon/369.png\"/>"
      ],
      "text/plain": [
       "<IPython.core.display.Image object>"
      ]
     },
     "metadata": {},
     "output_type": "display_data"
    },
    {
     "name": "stdout",
     "output_type": "stream",
     "text": [
      "370 luvdisc 87 kg\n"
     ]
    },
    {
     "data": {
      "text/html": [
       "<img src=\"https://raw.githubusercontent.com/PokeAPI/sprites/master/sprites/pokemon/370.png\"/>"
      ],
      "text/plain": [
       "<IPython.core.display.Image object>"
      ]
     },
     "metadata": {},
     "output_type": "display_data"
    },
    {
     "name": "stdout",
     "output_type": "stream",
     "text": [
      "371 bagon 421 kg\n"
     ]
    },
    {
     "data": {
      "text/html": [
       "<img src=\"https://raw.githubusercontent.com/PokeAPI/sprites/master/sprites/pokemon/371.png\"/>"
      ],
      "text/plain": [
       "<IPython.core.display.Image object>"
      ]
     },
     "metadata": {},
     "output_type": "display_data"
    },
    {
     "name": "stdout",
     "output_type": "stream",
     "text": [
      "372 shelgon 1105 kg\n"
     ]
    },
    {
     "data": {
      "text/html": [
       "<img src=\"https://raw.githubusercontent.com/PokeAPI/sprites/master/sprites/pokemon/372.png\"/>"
      ],
      "text/plain": [
       "<IPython.core.display.Image object>"
      ]
     },
     "metadata": {},
     "output_type": "display_data"
    },
    {
     "name": "stdout",
     "output_type": "stream",
     "text": [
      "373 salamence 1026 kg\n"
     ]
    },
    {
     "data": {
      "text/html": [
       "<img src=\"https://raw.githubusercontent.com/PokeAPI/sprites/master/sprites/pokemon/373.png\"/>"
      ],
      "text/plain": [
       "<IPython.core.display.Image object>"
      ]
     },
     "metadata": {},
     "output_type": "display_data"
    },
    {
     "name": "stdout",
     "output_type": "stream",
     "text": [
      "374 beldum 952 kg\n"
     ]
    },
    {
     "data": {
      "text/html": [
       "<img src=\"https://raw.githubusercontent.com/PokeAPI/sprites/master/sprites/pokemon/374.png\"/>"
      ],
      "text/plain": [
       "<IPython.core.display.Image object>"
      ]
     },
     "metadata": {},
     "output_type": "display_data"
    },
    {
     "name": "stdout",
     "output_type": "stream",
     "text": [
      "375 metang 2025 kg\n"
     ]
    },
    {
     "data": {
      "text/html": [
       "<img src=\"https://raw.githubusercontent.com/PokeAPI/sprites/master/sprites/pokemon/375.png\"/>"
      ],
      "text/plain": [
       "<IPython.core.display.Image object>"
      ]
     },
     "metadata": {},
     "output_type": "display_data"
    },
    {
     "name": "stdout",
     "output_type": "stream",
     "text": [
      "376 metagross 5500 kg\n"
     ]
    },
    {
     "data": {
      "text/html": [
       "<img src=\"https://raw.githubusercontent.com/PokeAPI/sprites/master/sprites/pokemon/376.png\"/>"
      ],
      "text/plain": [
       "<IPython.core.display.Image object>"
      ]
     },
     "metadata": {},
     "output_type": "display_data"
    },
    {
     "name": "stdout",
     "output_type": "stream",
     "text": [
      "377 regirock 2300 kg\n"
     ]
    },
    {
     "data": {
      "text/html": [
       "<img src=\"https://raw.githubusercontent.com/PokeAPI/sprites/master/sprites/pokemon/377.png\"/>"
      ],
      "text/plain": [
       "<IPython.core.display.Image object>"
      ]
     },
     "metadata": {},
     "output_type": "display_data"
    },
    {
     "name": "stdout",
     "output_type": "stream",
     "text": [
      "378 regice 1750 kg\n"
     ]
    },
    {
     "data": {
      "text/html": [
       "<img src=\"https://raw.githubusercontent.com/PokeAPI/sprites/master/sprites/pokemon/378.png\"/>"
      ],
      "text/plain": [
       "<IPython.core.display.Image object>"
      ]
     },
     "metadata": {},
     "output_type": "display_data"
    },
    {
     "name": "stdout",
     "output_type": "stream",
     "text": [
      "379 registeel 2050 kg\n"
     ]
    },
    {
     "data": {
      "text/html": [
       "<img src=\"https://raw.githubusercontent.com/PokeAPI/sprites/master/sprites/pokemon/379.png\"/>"
      ],
      "text/plain": [
       "<IPython.core.display.Image object>"
      ]
     },
     "metadata": {},
     "output_type": "display_data"
    },
    {
     "name": "stdout",
     "output_type": "stream",
     "text": [
      "380 latias 400 kg\n"
     ]
    },
    {
     "data": {
      "text/html": [
       "<img src=\"https://raw.githubusercontent.com/PokeAPI/sprites/master/sprites/pokemon/380.png\"/>"
      ],
      "text/plain": [
       "<IPython.core.display.Image object>"
      ]
     },
     "metadata": {},
     "output_type": "display_data"
    },
    {
     "name": "stdout",
     "output_type": "stream",
     "text": [
      "381 latios 600 kg\n"
     ]
    },
    {
     "data": {
      "text/html": [
       "<img src=\"https://raw.githubusercontent.com/PokeAPI/sprites/master/sprites/pokemon/381.png\"/>"
      ],
      "text/plain": [
       "<IPython.core.display.Image object>"
      ]
     },
     "metadata": {},
     "output_type": "display_data"
    },
    {
     "name": "stdout",
     "output_type": "stream",
     "text": [
      "382 kyogre 3520 kg\n"
     ]
    },
    {
     "data": {
      "text/html": [
       "<img src=\"https://raw.githubusercontent.com/PokeAPI/sprites/master/sprites/pokemon/382.png\"/>"
      ],
      "text/plain": [
       "<IPython.core.display.Image object>"
      ]
     },
     "metadata": {},
     "output_type": "display_data"
    },
    {
     "name": "stdout",
     "output_type": "stream",
     "text": [
      "383 groudon 9500 kg\n"
     ]
    },
    {
     "data": {
      "text/html": [
       "<img src=\"https://raw.githubusercontent.com/PokeAPI/sprites/master/sprites/pokemon/383.png\"/>"
      ],
      "text/plain": [
       "<IPython.core.display.Image object>"
      ]
     },
     "metadata": {},
     "output_type": "display_data"
    },
    {
     "name": "stdout",
     "output_type": "stream",
     "text": [
      "384 rayquaza 2065 kg\n"
     ]
    },
    {
     "data": {
      "text/html": [
       "<img src=\"https://raw.githubusercontent.com/PokeAPI/sprites/master/sprites/pokemon/384.png\"/>"
      ],
      "text/plain": [
       "<IPython.core.display.Image object>"
      ]
     },
     "metadata": {},
     "output_type": "display_data"
    },
    {
     "name": "stdout",
     "output_type": "stream",
     "text": [
      "385 jirachi 11 kg\n"
     ]
    },
    {
     "data": {
      "text/html": [
       "<img src=\"https://raw.githubusercontent.com/PokeAPI/sprites/master/sprites/pokemon/385.png\"/>"
      ],
      "text/plain": [
       "<IPython.core.display.Image object>"
      ]
     },
     "metadata": {},
     "output_type": "display_data"
    },
    {
     "name": "stdout",
     "output_type": "stream",
     "text": [
      "386 deoxys-normal 608 kg\n"
     ]
    },
    {
     "data": {
      "text/html": [
       "<img src=\"https://raw.githubusercontent.com/PokeAPI/sprites/master/sprites/pokemon/386.png\"/>"
      ],
      "text/plain": [
       "<IPython.core.display.Image object>"
      ]
     },
     "metadata": {},
     "output_type": "display_data"
    },
    {
     "name": "stdout",
     "output_type": "stream",
     "text": [
      "387 turtwig 102 kg\n"
     ]
    },
    {
     "data": {
      "text/html": [
       "<img src=\"https://raw.githubusercontent.com/PokeAPI/sprites/master/sprites/pokemon/387.png\"/>"
      ],
      "text/plain": [
       "<IPython.core.display.Image object>"
      ]
     },
     "metadata": {},
     "output_type": "display_data"
    },
    {
     "name": "stdout",
     "output_type": "stream",
     "text": [
      "388 grotle 970 kg\n"
     ]
    },
    {
     "data": {
      "text/html": [
       "<img src=\"https://raw.githubusercontent.com/PokeAPI/sprites/master/sprites/pokemon/388.png\"/>"
      ],
      "text/plain": [
       "<IPython.core.display.Image object>"
      ]
     },
     "metadata": {},
     "output_type": "display_data"
    },
    {
     "name": "stdout",
     "output_type": "stream",
     "text": [
      "389 torterra 3100 kg\n"
     ]
    },
    {
     "data": {
      "text/html": [
       "<img src=\"https://raw.githubusercontent.com/PokeAPI/sprites/master/sprites/pokemon/389.png\"/>"
      ],
      "text/plain": [
       "<IPython.core.display.Image object>"
      ]
     },
     "metadata": {},
     "output_type": "display_data"
    },
    {
     "name": "stdout",
     "output_type": "stream",
     "text": [
      "390 chimchar 62 kg\n"
     ]
    },
    {
     "data": {
      "text/html": [
       "<img src=\"https://raw.githubusercontent.com/PokeAPI/sprites/master/sprites/pokemon/390.png\"/>"
      ],
      "text/plain": [
       "<IPython.core.display.Image object>"
      ]
     },
     "metadata": {},
     "output_type": "display_data"
    },
    {
     "name": "stdout",
     "output_type": "stream",
     "text": [
      "391 monferno 220 kg\n"
     ]
    },
    {
     "data": {
      "text/html": [
       "<img src=\"https://raw.githubusercontent.com/PokeAPI/sprites/master/sprites/pokemon/391.png\"/>"
      ],
      "text/plain": [
       "<IPython.core.display.Image object>"
      ]
     },
     "metadata": {},
     "output_type": "display_data"
    },
    {
     "name": "stdout",
     "output_type": "stream",
     "text": [
      "392 infernape 550 kg\n"
     ]
    },
    {
     "data": {
      "text/html": [
       "<img src=\"https://raw.githubusercontent.com/PokeAPI/sprites/master/sprites/pokemon/392.png\"/>"
      ],
      "text/plain": [
       "<IPython.core.display.Image object>"
      ]
     },
     "metadata": {},
     "output_type": "display_data"
    },
    {
     "name": "stdout",
     "output_type": "stream",
     "text": [
      "393 piplup 52 kg\n"
     ]
    },
    {
     "data": {
      "text/html": [
       "<img src=\"https://raw.githubusercontent.com/PokeAPI/sprites/master/sprites/pokemon/393.png\"/>"
      ],
      "text/plain": [
       "<IPython.core.display.Image object>"
      ]
     },
     "metadata": {},
     "output_type": "display_data"
    },
    {
     "name": "stdout",
     "output_type": "stream",
     "text": [
      "394 prinplup 230 kg\n"
     ]
    },
    {
     "data": {
      "text/html": [
       "<img src=\"https://raw.githubusercontent.com/PokeAPI/sprites/master/sprites/pokemon/394.png\"/>"
      ],
      "text/plain": [
       "<IPython.core.display.Image object>"
      ]
     },
     "metadata": {},
     "output_type": "display_data"
    },
    {
     "name": "stdout",
     "output_type": "stream",
     "text": [
      "395 empoleon 845 kg\n"
     ]
    },
    {
     "data": {
      "text/html": [
       "<img src=\"https://raw.githubusercontent.com/PokeAPI/sprites/master/sprites/pokemon/395.png\"/>"
      ],
      "text/plain": [
       "<IPython.core.display.Image object>"
      ]
     },
     "metadata": {},
     "output_type": "display_data"
    },
    {
     "name": "stdout",
     "output_type": "stream",
     "text": [
      "396 starly 20 kg\n"
     ]
    },
    {
     "data": {
      "text/html": [
       "<img src=\"https://raw.githubusercontent.com/PokeAPI/sprites/master/sprites/pokemon/396.png\"/>"
      ],
      "text/plain": [
       "<IPython.core.display.Image object>"
      ]
     },
     "metadata": {},
     "output_type": "display_data"
    },
    {
     "name": "stdout",
     "output_type": "stream",
     "text": [
      "397 staravia 155 kg\n"
     ]
    },
    {
     "data": {
      "text/html": [
       "<img src=\"https://raw.githubusercontent.com/PokeAPI/sprites/master/sprites/pokemon/397.png\"/>"
      ],
      "text/plain": [
       "<IPython.core.display.Image object>"
      ]
     },
     "metadata": {},
     "output_type": "display_data"
    },
    {
     "name": "stdout",
     "output_type": "stream",
     "text": [
      "398 staraptor 249 kg\n"
     ]
    },
    {
     "data": {
      "text/html": [
       "<img src=\"https://raw.githubusercontent.com/PokeAPI/sprites/master/sprites/pokemon/398.png\"/>"
      ],
      "text/plain": [
       "<IPython.core.display.Image object>"
      ]
     },
     "metadata": {},
     "output_type": "display_data"
    },
    {
     "name": "stdout",
     "output_type": "stream",
     "text": [
      "399 bidoof 200 kg\n"
     ]
    },
    {
     "data": {
      "text/html": [
       "<img src=\"https://raw.githubusercontent.com/PokeAPI/sprites/master/sprites/pokemon/399.png\"/>"
      ],
      "text/plain": [
       "<IPython.core.display.Image object>"
      ]
     },
     "metadata": {},
     "output_type": "display_data"
    },
    {
     "name": "stdout",
     "output_type": "stream",
     "text": [
      "400 bibarel 315 kg\n"
     ]
    },
    {
     "data": {
      "text/html": [
       "<img src=\"https://raw.githubusercontent.com/PokeAPI/sprites/master/sprites/pokemon/400.png\"/>"
      ],
      "text/plain": [
       "<IPython.core.display.Image object>"
      ]
     },
     "metadata": {},
     "output_type": "display_data"
    },
    {
     "name": "stdout",
     "output_type": "stream",
     "text": [
      "401 kricketot 22 kg\n"
     ]
    },
    {
     "data": {
      "text/html": [
       "<img src=\"https://raw.githubusercontent.com/PokeAPI/sprites/master/sprites/pokemon/401.png\"/>"
      ],
      "text/plain": [
       "<IPython.core.display.Image object>"
      ]
     },
     "metadata": {},
     "output_type": "display_data"
    },
    {
     "name": "stdout",
     "output_type": "stream",
     "text": [
      "402 kricketune 255 kg\n"
     ]
    },
    {
     "data": {
      "text/html": [
       "<img src=\"https://raw.githubusercontent.com/PokeAPI/sprites/master/sprites/pokemon/402.png\"/>"
      ],
      "text/plain": [
       "<IPython.core.display.Image object>"
      ]
     },
     "metadata": {},
     "output_type": "display_data"
    },
    {
     "name": "stdout",
     "output_type": "stream",
     "text": [
      "403 shinx 95 kg\n"
     ]
    },
    {
     "data": {
      "text/html": [
       "<img src=\"https://raw.githubusercontent.com/PokeAPI/sprites/master/sprites/pokemon/403.png\"/>"
      ],
      "text/plain": [
       "<IPython.core.display.Image object>"
      ]
     },
     "metadata": {},
     "output_type": "display_data"
    },
    {
     "name": "stdout",
     "output_type": "stream",
     "text": [
      "404 luxio 305 kg\n"
     ]
    },
    {
     "data": {
      "text/html": [
       "<img src=\"https://raw.githubusercontent.com/PokeAPI/sprites/master/sprites/pokemon/404.png\"/>"
      ],
      "text/plain": [
       "<IPython.core.display.Image object>"
      ]
     },
     "metadata": {},
     "output_type": "display_data"
    },
    {
     "name": "stdout",
     "output_type": "stream",
     "text": [
      "405 luxray 420 kg\n"
     ]
    },
    {
     "data": {
      "text/html": [
       "<img src=\"https://raw.githubusercontent.com/PokeAPI/sprites/master/sprites/pokemon/405.png\"/>"
      ],
      "text/plain": [
       "<IPython.core.display.Image object>"
      ]
     },
     "metadata": {},
     "output_type": "display_data"
    },
    {
     "name": "stdout",
     "output_type": "stream",
     "text": [
      "406 budew 12 kg\n"
     ]
    },
    {
     "data": {
      "text/html": [
       "<img src=\"https://raw.githubusercontent.com/PokeAPI/sprites/master/sprites/pokemon/406.png\"/>"
      ],
      "text/plain": [
       "<IPython.core.display.Image object>"
      ]
     },
     "metadata": {},
     "output_type": "display_data"
    },
    {
     "name": "stdout",
     "output_type": "stream",
     "text": [
      "407 roserade 145 kg\n"
     ]
    },
    {
     "data": {
      "text/html": [
       "<img src=\"https://raw.githubusercontent.com/PokeAPI/sprites/master/sprites/pokemon/407.png\"/>"
      ],
      "text/plain": [
       "<IPython.core.display.Image object>"
      ]
     },
     "metadata": {},
     "output_type": "display_data"
    },
    {
     "name": "stdout",
     "output_type": "stream",
     "text": [
      "408 cranidos 315 kg\n"
     ]
    },
    {
     "data": {
      "text/html": [
       "<img src=\"https://raw.githubusercontent.com/PokeAPI/sprites/master/sprites/pokemon/408.png\"/>"
      ],
      "text/plain": [
       "<IPython.core.display.Image object>"
      ]
     },
     "metadata": {},
     "output_type": "display_data"
    },
    {
     "name": "stdout",
     "output_type": "stream",
     "text": [
      "409 rampardos 1025 kg\n"
     ]
    },
    {
     "data": {
      "text/html": [
       "<img src=\"https://raw.githubusercontent.com/PokeAPI/sprites/master/sprites/pokemon/409.png\"/>"
      ],
      "text/plain": [
       "<IPython.core.display.Image object>"
      ]
     },
     "metadata": {},
     "output_type": "display_data"
    },
    {
     "name": "stdout",
     "output_type": "stream",
     "text": [
      "410 shieldon 570 kg\n"
     ]
    },
    {
     "data": {
      "text/html": [
       "<img src=\"https://raw.githubusercontent.com/PokeAPI/sprites/master/sprites/pokemon/410.png\"/>"
      ],
      "text/plain": [
       "<IPython.core.display.Image object>"
      ]
     },
     "metadata": {},
     "output_type": "display_data"
    },
    {
     "name": "stdout",
     "output_type": "stream",
     "text": [
      "411 bastiodon 1495 kg\n"
     ]
    },
    {
     "data": {
      "text/html": [
       "<img src=\"https://raw.githubusercontent.com/PokeAPI/sprites/master/sprites/pokemon/411.png\"/>"
      ],
      "text/plain": [
       "<IPython.core.display.Image object>"
      ]
     },
     "metadata": {},
     "output_type": "display_data"
    },
    {
     "name": "stdout",
     "output_type": "stream",
     "text": [
      "412 burmy 34 kg\n"
     ]
    },
    {
     "data": {
      "text/html": [
       "<img src=\"https://raw.githubusercontent.com/PokeAPI/sprites/master/sprites/pokemon/412.png\"/>"
      ],
      "text/plain": [
       "<IPython.core.display.Image object>"
      ]
     },
     "metadata": {},
     "output_type": "display_data"
    },
    {
     "name": "stdout",
     "output_type": "stream",
     "text": [
      "413 wormadam-plant 65 kg\n"
     ]
    },
    {
     "data": {
      "text/html": [
       "<img src=\"https://raw.githubusercontent.com/PokeAPI/sprites/master/sprites/pokemon/413.png\"/>"
      ],
      "text/plain": [
       "<IPython.core.display.Image object>"
      ]
     },
     "metadata": {},
     "output_type": "display_data"
    },
    {
     "name": "stdout",
     "output_type": "stream",
     "text": [
      "414 mothim 233 kg\n"
     ]
    },
    {
     "data": {
      "text/html": [
       "<img src=\"https://raw.githubusercontent.com/PokeAPI/sprites/master/sprites/pokemon/414.png\"/>"
      ],
      "text/plain": [
       "<IPython.core.display.Image object>"
      ]
     },
     "metadata": {},
     "output_type": "display_data"
    },
    {
     "name": "stdout",
     "output_type": "stream",
     "text": [
      "415 combee 55 kg\n"
     ]
    },
    {
     "data": {
      "text/html": [
       "<img src=\"https://raw.githubusercontent.com/PokeAPI/sprites/master/sprites/pokemon/415.png\"/>"
      ],
      "text/plain": [
       "<IPython.core.display.Image object>"
      ]
     },
     "metadata": {},
     "output_type": "display_data"
    },
    {
     "name": "stdout",
     "output_type": "stream",
     "text": [
      "416 vespiquen 385 kg\n"
     ]
    },
    {
     "data": {
      "text/html": [
       "<img src=\"https://raw.githubusercontent.com/PokeAPI/sprites/master/sprites/pokemon/416.png\"/>"
      ],
      "text/plain": [
       "<IPython.core.display.Image object>"
      ]
     },
     "metadata": {},
     "output_type": "display_data"
    },
    {
     "name": "stdout",
     "output_type": "stream",
     "text": [
      "417 pachirisu 39 kg\n"
     ]
    },
    {
     "data": {
      "text/html": [
       "<img src=\"https://raw.githubusercontent.com/PokeAPI/sprites/master/sprites/pokemon/417.png\"/>"
      ],
      "text/plain": [
       "<IPython.core.display.Image object>"
      ]
     },
     "metadata": {},
     "output_type": "display_data"
    },
    {
     "name": "stdout",
     "output_type": "stream",
     "text": [
      "418 buizel 295 kg\n"
     ]
    },
    {
     "data": {
      "text/html": [
       "<img src=\"https://raw.githubusercontent.com/PokeAPI/sprites/master/sprites/pokemon/418.png\"/>"
      ],
      "text/plain": [
       "<IPython.core.display.Image object>"
      ]
     },
     "metadata": {},
     "output_type": "display_data"
    },
    {
     "name": "stdout",
     "output_type": "stream",
     "text": [
      "419 floatzel 335 kg\n"
     ]
    },
    {
     "data": {
      "text/html": [
       "<img src=\"https://raw.githubusercontent.com/PokeAPI/sprites/master/sprites/pokemon/419.png\"/>"
      ],
      "text/plain": [
       "<IPython.core.display.Image object>"
      ]
     },
     "metadata": {},
     "output_type": "display_data"
    },
    {
     "name": "stdout",
     "output_type": "stream",
     "text": [
      "420 cherubi 33 kg\n"
     ]
    },
    {
     "data": {
      "text/html": [
       "<img src=\"https://raw.githubusercontent.com/PokeAPI/sprites/master/sprites/pokemon/420.png\"/>"
      ],
      "text/plain": [
       "<IPython.core.display.Image object>"
      ]
     },
     "metadata": {},
     "output_type": "display_data"
    },
    {
     "name": "stdout",
     "output_type": "stream",
     "text": [
      "421 cherrim 93 kg\n"
     ]
    },
    {
     "data": {
      "text/html": [
       "<img src=\"https://raw.githubusercontent.com/PokeAPI/sprites/master/sprites/pokemon/421.png\"/>"
      ],
      "text/plain": [
       "<IPython.core.display.Image object>"
      ]
     },
     "metadata": {},
     "output_type": "display_data"
    },
    {
     "name": "stdout",
     "output_type": "stream",
     "text": [
      "422 shellos 63 kg\n"
     ]
    },
    {
     "data": {
      "text/html": [
       "<img src=\"https://raw.githubusercontent.com/PokeAPI/sprites/master/sprites/pokemon/422.png\"/>"
      ],
      "text/plain": [
       "<IPython.core.display.Image object>"
      ]
     },
     "metadata": {},
     "output_type": "display_data"
    },
    {
     "name": "stdout",
     "output_type": "stream",
     "text": [
      "423 gastrodon 299 kg\n"
     ]
    },
    {
     "data": {
      "text/html": [
       "<img src=\"https://raw.githubusercontent.com/PokeAPI/sprites/master/sprites/pokemon/423.png\"/>"
      ],
      "text/plain": [
       "<IPython.core.display.Image object>"
      ]
     },
     "metadata": {},
     "output_type": "display_data"
    },
    {
     "name": "stdout",
     "output_type": "stream",
     "text": [
      "424 ambipom 203 kg\n"
     ]
    },
    {
     "data": {
      "text/html": [
       "<img src=\"https://raw.githubusercontent.com/PokeAPI/sprites/master/sprites/pokemon/424.png\"/>"
      ],
      "text/plain": [
       "<IPython.core.display.Image object>"
      ]
     },
     "metadata": {},
     "output_type": "display_data"
    },
    {
     "name": "stdout",
     "output_type": "stream",
     "text": [
      "425 drifloon 12 kg\n"
     ]
    },
    {
     "data": {
      "text/html": [
       "<img src=\"https://raw.githubusercontent.com/PokeAPI/sprites/master/sprites/pokemon/425.png\"/>"
      ],
      "text/plain": [
       "<IPython.core.display.Image object>"
      ]
     },
     "metadata": {},
     "output_type": "display_data"
    },
    {
     "name": "stdout",
     "output_type": "stream",
     "text": [
      "426 drifblim 150 kg\n"
     ]
    },
    {
     "data": {
      "text/html": [
       "<img src=\"https://raw.githubusercontent.com/PokeAPI/sprites/master/sprites/pokemon/426.png\"/>"
      ],
      "text/plain": [
       "<IPython.core.display.Image object>"
      ]
     },
     "metadata": {},
     "output_type": "display_data"
    },
    {
     "name": "stdout",
     "output_type": "stream",
     "text": [
      "427 buneary 55 kg\n"
     ]
    },
    {
     "data": {
      "text/html": [
       "<img src=\"https://raw.githubusercontent.com/PokeAPI/sprites/master/sprites/pokemon/427.png\"/>"
      ],
      "text/plain": [
       "<IPython.core.display.Image object>"
      ]
     },
     "metadata": {},
     "output_type": "display_data"
    },
    {
     "name": "stdout",
     "output_type": "stream",
     "text": [
      "428 lopunny 333 kg\n"
     ]
    },
    {
     "data": {
      "text/html": [
       "<img src=\"https://raw.githubusercontent.com/PokeAPI/sprites/master/sprites/pokemon/428.png\"/>"
      ],
      "text/plain": [
       "<IPython.core.display.Image object>"
      ]
     },
     "metadata": {},
     "output_type": "display_data"
    },
    {
     "name": "stdout",
     "output_type": "stream",
     "text": [
      "429 mismagius 44 kg\n"
     ]
    },
    {
     "data": {
      "text/html": [
       "<img src=\"https://raw.githubusercontent.com/PokeAPI/sprites/master/sprites/pokemon/429.png\"/>"
      ],
      "text/plain": [
       "<IPython.core.display.Image object>"
      ]
     },
     "metadata": {},
     "output_type": "display_data"
    },
    {
     "name": "stdout",
     "output_type": "stream",
     "text": [
      "430 honchkrow 273 kg\n"
     ]
    },
    {
     "data": {
      "text/html": [
       "<img src=\"https://raw.githubusercontent.com/PokeAPI/sprites/master/sprites/pokemon/430.png\"/>"
      ],
      "text/plain": [
       "<IPython.core.display.Image object>"
      ]
     },
     "metadata": {},
     "output_type": "display_data"
    },
    {
     "name": "stdout",
     "output_type": "stream",
     "text": [
      "431 glameow 39 kg\n"
     ]
    },
    {
     "data": {
      "text/html": [
       "<img src=\"https://raw.githubusercontent.com/PokeAPI/sprites/master/sprites/pokemon/431.png\"/>"
      ],
      "text/plain": [
       "<IPython.core.display.Image object>"
      ]
     },
     "metadata": {},
     "output_type": "display_data"
    },
    {
     "name": "stdout",
     "output_type": "stream",
     "text": [
      "432 purugly 438 kg\n"
     ]
    },
    {
     "data": {
      "text/html": [
       "<img src=\"https://raw.githubusercontent.com/PokeAPI/sprites/master/sprites/pokemon/432.png\"/>"
      ],
      "text/plain": [
       "<IPython.core.display.Image object>"
      ]
     },
     "metadata": {},
     "output_type": "display_data"
    },
    {
     "name": "stdout",
     "output_type": "stream",
     "text": [
      "433 chingling 6 kg\n"
     ]
    },
    {
     "data": {
      "text/html": [
       "<img src=\"https://raw.githubusercontent.com/PokeAPI/sprites/master/sprites/pokemon/433.png\"/>"
      ],
      "text/plain": [
       "<IPython.core.display.Image object>"
      ]
     },
     "metadata": {},
     "output_type": "display_data"
    },
    {
     "name": "stdout",
     "output_type": "stream",
     "text": [
      "434 stunky 192 kg\n"
     ]
    },
    {
     "data": {
      "text/html": [
       "<img src=\"https://raw.githubusercontent.com/PokeAPI/sprites/master/sprites/pokemon/434.png\"/>"
      ],
      "text/plain": [
       "<IPython.core.display.Image object>"
      ]
     },
     "metadata": {},
     "output_type": "display_data"
    },
    {
     "name": "stdout",
     "output_type": "stream",
     "text": [
      "435 skuntank 380 kg\n"
     ]
    },
    {
     "data": {
      "text/html": [
       "<img src=\"https://raw.githubusercontent.com/PokeAPI/sprites/master/sprites/pokemon/435.png\"/>"
      ],
      "text/plain": [
       "<IPython.core.display.Image object>"
      ]
     },
     "metadata": {},
     "output_type": "display_data"
    },
    {
     "name": "stdout",
     "output_type": "stream",
     "text": [
      "436 bronzor 605 kg\n"
     ]
    },
    {
     "data": {
      "text/html": [
       "<img src=\"https://raw.githubusercontent.com/PokeAPI/sprites/master/sprites/pokemon/436.png\"/>"
      ],
      "text/plain": [
       "<IPython.core.display.Image object>"
      ]
     },
     "metadata": {},
     "output_type": "display_data"
    },
    {
     "name": "stdout",
     "output_type": "stream",
     "text": [
      "437 bronzong 1870 kg\n"
     ]
    },
    {
     "data": {
      "text/html": [
       "<img src=\"https://raw.githubusercontent.com/PokeAPI/sprites/master/sprites/pokemon/437.png\"/>"
      ],
      "text/plain": [
       "<IPython.core.display.Image object>"
      ]
     },
     "metadata": {},
     "output_type": "display_data"
    },
    {
     "name": "stdout",
     "output_type": "stream",
     "text": [
      "438 bonsly 150 kg\n"
     ]
    },
    {
     "data": {
      "text/html": [
       "<img src=\"https://raw.githubusercontent.com/PokeAPI/sprites/master/sprites/pokemon/438.png\"/>"
      ],
      "text/plain": [
       "<IPython.core.display.Image object>"
      ]
     },
     "metadata": {},
     "output_type": "display_data"
    },
    {
     "name": "stdout",
     "output_type": "stream",
     "text": [
      "439 mime-jr 130 kg\n"
     ]
    },
    {
     "data": {
      "text/html": [
       "<img src=\"https://raw.githubusercontent.com/PokeAPI/sprites/master/sprites/pokemon/439.png\"/>"
      ],
      "text/plain": [
       "<IPython.core.display.Image object>"
      ]
     },
     "metadata": {},
     "output_type": "display_data"
    },
    {
     "name": "stdout",
     "output_type": "stream",
     "text": [
      "440 happiny 244 kg\n"
     ]
    },
    {
     "data": {
      "text/html": [
       "<img src=\"https://raw.githubusercontent.com/PokeAPI/sprites/master/sprites/pokemon/440.png\"/>"
      ],
      "text/plain": [
       "<IPython.core.display.Image object>"
      ]
     },
     "metadata": {},
     "output_type": "display_data"
    },
    {
     "name": "stdout",
     "output_type": "stream",
     "text": [
      "441 chatot 19 kg\n"
     ]
    },
    {
     "data": {
      "text/html": [
       "<img src=\"https://raw.githubusercontent.com/PokeAPI/sprites/master/sprites/pokemon/441.png\"/>"
      ],
      "text/plain": [
       "<IPython.core.display.Image object>"
      ]
     },
     "metadata": {},
     "output_type": "display_data"
    },
    {
     "name": "stdout",
     "output_type": "stream",
     "text": [
      "442 spiritomb 1080 kg\n"
     ]
    },
    {
     "data": {
      "text/html": [
       "<img src=\"https://raw.githubusercontent.com/PokeAPI/sprites/master/sprites/pokemon/442.png\"/>"
      ],
      "text/plain": [
       "<IPython.core.display.Image object>"
      ]
     },
     "metadata": {},
     "output_type": "display_data"
    },
    {
     "name": "stdout",
     "output_type": "stream",
     "text": [
      "443 gible 205 kg\n"
     ]
    },
    {
     "data": {
      "text/html": [
       "<img src=\"https://raw.githubusercontent.com/PokeAPI/sprites/master/sprites/pokemon/443.png\"/>"
      ],
      "text/plain": [
       "<IPython.core.display.Image object>"
      ]
     },
     "metadata": {},
     "output_type": "display_data"
    },
    {
     "name": "stdout",
     "output_type": "stream",
     "text": [
      "444 gabite 560 kg\n"
     ]
    },
    {
     "data": {
      "text/html": [
       "<img src=\"https://raw.githubusercontent.com/PokeAPI/sprites/master/sprites/pokemon/444.png\"/>"
      ],
      "text/plain": [
       "<IPython.core.display.Image object>"
      ]
     },
     "metadata": {},
     "output_type": "display_data"
    },
    {
     "name": "stdout",
     "output_type": "stream",
     "text": [
      "445 garchomp 950 kg\n"
     ]
    },
    {
     "data": {
      "text/html": [
       "<img src=\"https://raw.githubusercontent.com/PokeAPI/sprites/master/sprites/pokemon/445.png\"/>"
      ],
      "text/plain": [
       "<IPython.core.display.Image object>"
      ]
     },
     "metadata": {},
     "output_type": "display_data"
    },
    {
     "name": "stdout",
     "output_type": "stream",
     "text": [
      "446 munchlax 1050 kg\n"
     ]
    },
    {
     "data": {
      "text/html": [
       "<img src=\"https://raw.githubusercontent.com/PokeAPI/sprites/master/sprites/pokemon/446.png\"/>"
      ],
      "text/plain": [
       "<IPython.core.display.Image object>"
      ]
     },
     "metadata": {},
     "output_type": "display_data"
    },
    {
     "name": "stdout",
     "output_type": "stream",
     "text": [
      "447 riolu 202 kg\n"
     ]
    },
    {
     "data": {
      "text/html": [
       "<img src=\"https://raw.githubusercontent.com/PokeAPI/sprites/master/sprites/pokemon/447.png\"/>"
      ],
      "text/plain": [
       "<IPython.core.display.Image object>"
      ]
     },
     "metadata": {},
     "output_type": "display_data"
    },
    {
     "name": "stdout",
     "output_type": "stream",
     "text": [
      "448 lucario 540 kg\n"
     ]
    },
    {
     "data": {
      "text/html": [
       "<img src=\"https://raw.githubusercontent.com/PokeAPI/sprites/master/sprites/pokemon/448.png\"/>"
      ],
      "text/plain": [
       "<IPython.core.display.Image object>"
      ]
     },
     "metadata": {},
     "output_type": "display_data"
    },
    {
     "name": "stdout",
     "output_type": "stream",
     "text": [
      "449 hippopotas 495 kg\n"
     ]
    },
    {
     "data": {
      "text/html": [
       "<img src=\"https://raw.githubusercontent.com/PokeAPI/sprites/master/sprites/pokemon/449.png\"/>"
      ],
      "text/plain": [
       "<IPython.core.display.Image object>"
      ]
     },
     "metadata": {},
     "output_type": "display_data"
    },
    {
     "name": "stdout",
     "output_type": "stream",
     "text": [
      "450 hippowdon 3000 kg\n"
     ]
    },
    {
     "data": {
      "text/html": [
       "<img src=\"https://raw.githubusercontent.com/PokeAPI/sprites/master/sprites/pokemon/450.png\"/>"
      ],
      "text/plain": [
       "<IPython.core.display.Image object>"
      ]
     },
     "metadata": {},
     "output_type": "display_data"
    },
    {
     "name": "stdout",
     "output_type": "stream",
     "text": [
      "451 skorupi 120 kg\n"
     ]
    },
    {
     "data": {
      "text/html": [
       "<img src=\"https://raw.githubusercontent.com/PokeAPI/sprites/master/sprites/pokemon/451.png\"/>"
      ],
      "text/plain": [
       "<IPython.core.display.Image object>"
      ]
     },
     "metadata": {},
     "output_type": "display_data"
    },
    {
     "name": "stdout",
     "output_type": "stream",
     "text": [
      "452 drapion 615 kg\n"
     ]
    },
    {
     "data": {
      "text/html": [
       "<img src=\"https://raw.githubusercontent.com/PokeAPI/sprites/master/sprites/pokemon/452.png\"/>"
      ],
      "text/plain": [
       "<IPython.core.display.Image object>"
      ]
     },
     "metadata": {},
     "output_type": "display_data"
    },
    {
     "name": "stdout",
     "output_type": "stream",
     "text": [
      "453 croagunk 230 kg\n"
     ]
    },
    {
     "data": {
      "text/html": [
       "<img src=\"https://raw.githubusercontent.com/PokeAPI/sprites/master/sprites/pokemon/453.png\"/>"
      ],
      "text/plain": [
       "<IPython.core.display.Image object>"
      ]
     },
     "metadata": {},
     "output_type": "display_data"
    },
    {
     "name": "stdout",
     "output_type": "stream",
     "text": [
      "454 toxicroak 444 kg\n"
     ]
    },
    {
     "data": {
      "text/html": [
       "<img src=\"https://raw.githubusercontent.com/PokeAPI/sprites/master/sprites/pokemon/454.png\"/>"
      ],
      "text/plain": [
       "<IPython.core.display.Image object>"
      ]
     },
     "metadata": {},
     "output_type": "display_data"
    },
    {
     "name": "stdout",
     "output_type": "stream",
     "text": [
      "455 carnivine 270 kg\n"
     ]
    },
    {
     "data": {
      "text/html": [
       "<img src=\"https://raw.githubusercontent.com/PokeAPI/sprites/master/sprites/pokemon/455.png\"/>"
      ],
      "text/plain": [
       "<IPython.core.display.Image object>"
      ]
     },
     "metadata": {},
     "output_type": "display_data"
    },
    {
     "name": "stdout",
     "output_type": "stream",
     "text": [
      "456 finneon 70 kg\n"
     ]
    },
    {
     "data": {
      "text/html": [
       "<img src=\"https://raw.githubusercontent.com/PokeAPI/sprites/master/sprites/pokemon/456.png\"/>"
      ],
      "text/plain": [
       "<IPython.core.display.Image object>"
      ]
     },
     "metadata": {},
     "output_type": "display_data"
    },
    {
     "name": "stdout",
     "output_type": "stream",
     "text": [
      "457 lumineon 240 kg\n"
     ]
    },
    {
     "data": {
      "text/html": [
       "<img src=\"https://raw.githubusercontent.com/PokeAPI/sprites/master/sprites/pokemon/457.png\"/>"
      ],
      "text/plain": [
       "<IPython.core.display.Image object>"
      ]
     },
     "metadata": {},
     "output_type": "display_data"
    },
    {
     "name": "stdout",
     "output_type": "stream",
     "text": [
      "458 mantyke 650 kg\n"
     ]
    },
    {
     "data": {
      "text/html": [
       "<img src=\"https://raw.githubusercontent.com/PokeAPI/sprites/master/sprites/pokemon/458.png\"/>"
      ],
      "text/plain": [
       "<IPython.core.display.Image object>"
      ]
     },
     "metadata": {},
     "output_type": "display_data"
    },
    {
     "name": "stdout",
     "output_type": "stream",
     "text": [
      "459 snover 505 kg\n"
     ]
    },
    {
     "data": {
      "text/html": [
       "<img src=\"https://raw.githubusercontent.com/PokeAPI/sprites/master/sprites/pokemon/459.png\"/>"
      ],
      "text/plain": [
       "<IPython.core.display.Image object>"
      ]
     },
     "metadata": {},
     "output_type": "display_data"
    },
    {
     "name": "stdout",
     "output_type": "stream",
     "text": [
      "460 abomasnow 1355 kg\n"
     ]
    },
    {
     "data": {
      "text/html": [
       "<img src=\"https://raw.githubusercontent.com/PokeAPI/sprites/master/sprites/pokemon/460.png\"/>"
      ],
      "text/plain": [
       "<IPython.core.display.Image object>"
      ]
     },
     "metadata": {},
     "output_type": "display_data"
    },
    {
     "name": "stdout",
     "output_type": "stream",
     "text": [
      "461 weavile 340 kg\n"
     ]
    },
    {
     "data": {
      "text/html": [
       "<img src=\"https://raw.githubusercontent.com/PokeAPI/sprites/master/sprites/pokemon/461.png\"/>"
      ],
      "text/plain": [
       "<IPython.core.display.Image object>"
      ]
     },
     "metadata": {},
     "output_type": "display_data"
    },
    {
     "name": "stdout",
     "output_type": "stream",
     "text": [
      "462 magnezone 1800 kg\n"
     ]
    },
    {
     "data": {
      "text/html": [
       "<img src=\"https://raw.githubusercontent.com/PokeAPI/sprites/master/sprites/pokemon/462.png\"/>"
      ],
      "text/plain": [
       "<IPython.core.display.Image object>"
      ]
     },
     "metadata": {},
     "output_type": "display_data"
    },
    {
     "name": "stdout",
     "output_type": "stream",
     "text": [
      "463 lickilicky 1400 kg\n"
     ]
    },
    {
     "data": {
      "text/html": [
       "<img src=\"https://raw.githubusercontent.com/PokeAPI/sprites/master/sprites/pokemon/463.png\"/>"
      ],
      "text/plain": [
       "<IPython.core.display.Image object>"
      ]
     },
     "metadata": {},
     "output_type": "display_data"
    },
    {
     "name": "stdout",
     "output_type": "stream",
     "text": [
      "464 rhyperior 2828 kg\n"
     ]
    },
    {
     "data": {
      "text/html": [
       "<img src=\"https://raw.githubusercontent.com/PokeAPI/sprites/master/sprites/pokemon/464.png\"/>"
      ],
      "text/plain": [
       "<IPython.core.display.Image object>"
      ]
     },
     "metadata": {},
     "output_type": "display_data"
    },
    {
     "name": "stdout",
     "output_type": "stream",
     "text": [
      "465 tangrowth 1286 kg\n"
     ]
    },
    {
     "data": {
      "text/html": [
       "<img src=\"https://raw.githubusercontent.com/PokeAPI/sprites/master/sprites/pokemon/465.png\"/>"
      ],
      "text/plain": [
       "<IPython.core.display.Image object>"
      ]
     },
     "metadata": {},
     "output_type": "display_data"
    },
    {
     "name": "stdout",
     "output_type": "stream",
     "text": [
      "466 electivire 1386 kg\n"
     ]
    },
    {
     "data": {
      "text/html": [
       "<img src=\"https://raw.githubusercontent.com/PokeAPI/sprites/master/sprites/pokemon/466.png\"/>"
      ],
      "text/plain": [
       "<IPython.core.display.Image object>"
      ]
     },
     "metadata": {},
     "output_type": "display_data"
    },
    {
     "name": "stdout",
     "output_type": "stream",
     "text": [
      "467 magmortar 680 kg\n"
     ]
    },
    {
     "data": {
      "text/html": [
       "<img src=\"https://raw.githubusercontent.com/PokeAPI/sprites/master/sprites/pokemon/467.png\"/>"
      ],
      "text/plain": [
       "<IPython.core.display.Image object>"
      ]
     },
     "metadata": {},
     "output_type": "display_data"
    },
    {
     "name": "stdout",
     "output_type": "stream",
     "text": [
      "468 togekiss 380 kg\n"
     ]
    },
    {
     "data": {
      "text/html": [
       "<img src=\"https://raw.githubusercontent.com/PokeAPI/sprites/master/sprites/pokemon/468.png\"/>"
      ],
      "text/plain": [
       "<IPython.core.display.Image object>"
      ]
     },
     "metadata": {},
     "output_type": "display_data"
    },
    {
     "name": "stdout",
     "output_type": "stream",
     "text": [
      "469 yanmega 515 kg\n"
     ]
    },
    {
     "data": {
      "text/html": [
       "<img src=\"https://raw.githubusercontent.com/PokeAPI/sprites/master/sprites/pokemon/469.png\"/>"
      ],
      "text/plain": [
       "<IPython.core.display.Image object>"
      ]
     },
     "metadata": {},
     "output_type": "display_data"
    },
    {
     "name": "stdout",
     "output_type": "stream",
     "text": [
      "470 leafeon 255 kg\n"
     ]
    },
    {
     "data": {
      "text/html": [
       "<img src=\"https://raw.githubusercontent.com/PokeAPI/sprites/master/sprites/pokemon/470.png\"/>"
      ],
      "text/plain": [
       "<IPython.core.display.Image object>"
      ]
     },
     "metadata": {},
     "output_type": "display_data"
    },
    {
     "name": "stdout",
     "output_type": "stream",
     "text": [
      "471 glaceon 259 kg\n"
     ]
    },
    {
     "data": {
      "text/html": [
       "<img src=\"https://raw.githubusercontent.com/PokeAPI/sprites/master/sprites/pokemon/471.png\"/>"
      ],
      "text/plain": [
       "<IPython.core.display.Image object>"
      ]
     },
     "metadata": {},
     "output_type": "display_data"
    },
    {
     "name": "stdout",
     "output_type": "stream",
     "text": [
      "472 gliscor 425 kg\n"
     ]
    },
    {
     "data": {
      "text/html": [
       "<img src=\"https://raw.githubusercontent.com/PokeAPI/sprites/master/sprites/pokemon/472.png\"/>"
      ],
      "text/plain": [
       "<IPython.core.display.Image object>"
      ]
     },
     "metadata": {},
     "output_type": "display_data"
    },
    {
     "name": "stdout",
     "output_type": "stream",
     "text": [
      "473 mamoswine 2910 kg\n"
     ]
    },
    {
     "data": {
      "text/html": [
       "<img src=\"https://raw.githubusercontent.com/PokeAPI/sprites/master/sprites/pokemon/473.png\"/>"
      ],
      "text/plain": [
       "<IPython.core.display.Image object>"
      ]
     },
     "metadata": {},
     "output_type": "display_data"
    },
    {
     "name": "stdout",
     "output_type": "stream",
     "text": [
      "474 porygon-z 340 kg\n"
     ]
    },
    {
     "data": {
      "text/html": [
       "<img src=\"https://raw.githubusercontent.com/PokeAPI/sprites/master/sprites/pokemon/474.png\"/>"
      ],
      "text/plain": [
       "<IPython.core.display.Image object>"
      ]
     },
     "metadata": {},
     "output_type": "display_data"
    },
    {
     "name": "stdout",
     "output_type": "stream",
     "text": [
      "475 gallade 520 kg\n"
     ]
    },
    {
     "data": {
      "text/html": [
       "<img src=\"https://raw.githubusercontent.com/PokeAPI/sprites/master/sprites/pokemon/475.png\"/>"
      ],
      "text/plain": [
       "<IPython.core.display.Image object>"
      ]
     },
     "metadata": {},
     "output_type": "display_data"
    },
    {
     "name": "stdout",
     "output_type": "stream",
     "text": [
      "476 probopass 3400 kg\n"
     ]
    },
    {
     "data": {
      "text/html": [
       "<img src=\"https://raw.githubusercontent.com/PokeAPI/sprites/master/sprites/pokemon/476.png\"/>"
      ],
      "text/plain": [
       "<IPython.core.display.Image object>"
      ]
     },
     "metadata": {},
     "output_type": "display_data"
    },
    {
     "name": "stdout",
     "output_type": "stream",
     "text": [
      "477 dusknoir 1066 kg\n"
     ]
    },
    {
     "data": {
      "text/html": [
       "<img src=\"https://raw.githubusercontent.com/PokeAPI/sprites/master/sprites/pokemon/477.png\"/>"
      ],
      "text/plain": [
       "<IPython.core.display.Image object>"
      ]
     },
     "metadata": {},
     "output_type": "display_data"
    },
    {
     "name": "stdout",
     "output_type": "stream",
     "text": [
      "478 froslass 266 kg\n"
     ]
    },
    {
     "data": {
      "text/html": [
       "<img src=\"https://raw.githubusercontent.com/PokeAPI/sprites/master/sprites/pokemon/478.png\"/>"
      ],
      "text/plain": [
       "<IPython.core.display.Image object>"
      ]
     },
     "metadata": {},
     "output_type": "display_data"
    },
    {
     "name": "stdout",
     "output_type": "stream",
     "text": [
      "479 rotom 3 kg\n"
     ]
    },
    {
     "data": {
      "text/html": [
       "<img src=\"https://raw.githubusercontent.com/PokeAPI/sprites/master/sprites/pokemon/479.png\"/>"
      ],
      "text/plain": [
       "<IPython.core.display.Image object>"
      ]
     },
     "metadata": {},
     "output_type": "display_data"
    },
    {
     "name": "stdout",
     "output_type": "stream",
     "text": [
      "480 uxie 3 kg\n"
     ]
    },
    {
     "data": {
      "text/html": [
       "<img src=\"https://raw.githubusercontent.com/PokeAPI/sprites/master/sprites/pokemon/480.png\"/>"
      ],
      "text/plain": [
       "<IPython.core.display.Image object>"
      ]
     },
     "metadata": {},
     "output_type": "display_data"
    },
    {
     "name": "stdout",
     "output_type": "stream",
     "text": [
      "481 mesprit 3 kg\n"
     ]
    },
    {
     "data": {
      "text/html": [
       "<img src=\"https://raw.githubusercontent.com/PokeAPI/sprites/master/sprites/pokemon/481.png\"/>"
      ],
      "text/plain": [
       "<IPython.core.display.Image object>"
      ]
     },
     "metadata": {},
     "output_type": "display_data"
    },
    {
     "name": "stdout",
     "output_type": "stream",
     "text": [
      "482 azelf 3 kg\n"
     ]
    },
    {
     "data": {
      "text/html": [
       "<img src=\"https://raw.githubusercontent.com/PokeAPI/sprites/master/sprites/pokemon/482.png\"/>"
      ],
      "text/plain": [
       "<IPython.core.display.Image object>"
      ]
     },
     "metadata": {},
     "output_type": "display_data"
    },
    {
     "name": "stdout",
     "output_type": "stream",
     "text": [
      "483 dialga 6830 kg\n"
     ]
    },
    {
     "data": {
      "text/html": [
       "<img src=\"https://raw.githubusercontent.com/PokeAPI/sprites/master/sprites/pokemon/483.png\"/>"
      ],
      "text/plain": [
       "<IPython.core.display.Image object>"
      ]
     },
     "metadata": {},
     "output_type": "display_data"
    },
    {
     "name": "stdout",
     "output_type": "stream",
     "text": [
      "484 palkia 3360 kg\n"
     ]
    },
    {
     "data": {
      "text/html": [
       "<img src=\"https://raw.githubusercontent.com/PokeAPI/sprites/master/sprites/pokemon/484.png\"/>"
      ],
      "text/plain": [
       "<IPython.core.display.Image object>"
      ]
     },
     "metadata": {},
     "output_type": "display_data"
    },
    {
     "name": "stdout",
     "output_type": "stream",
     "text": [
      "485 heatran 4300 kg\n"
     ]
    },
    {
     "data": {
      "text/html": [
       "<img src=\"https://raw.githubusercontent.com/PokeAPI/sprites/master/sprites/pokemon/485.png\"/>"
      ],
      "text/plain": [
       "<IPython.core.display.Image object>"
      ]
     },
     "metadata": {},
     "output_type": "display_data"
    },
    {
     "name": "stdout",
     "output_type": "stream",
     "text": [
      "486 regigigas 4200 kg\n"
     ]
    },
    {
     "data": {
      "text/html": [
       "<img src=\"https://raw.githubusercontent.com/PokeAPI/sprites/master/sprites/pokemon/486.png\"/>"
      ],
      "text/plain": [
       "<IPython.core.display.Image object>"
      ]
     },
     "metadata": {},
     "output_type": "display_data"
    },
    {
     "name": "stdout",
     "output_type": "stream",
     "text": [
      "487 giratina-altered 7500 kg\n"
     ]
    },
    {
     "data": {
      "text/html": [
       "<img src=\"https://raw.githubusercontent.com/PokeAPI/sprites/master/sprites/pokemon/487.png\"/>"
      ],
      "text/plain": [
       "<IPython.core.display.Image object>"
      ]
     },
     "metadata": {},
     "output_type": "display_data"
    },
    {
     "name": "stdout",
     "output_type": "stream",
     "text": [
      "488 cresselia 856 kg\n"
     ]
    },
    {
     "data": {
      "text/html": [
       "<img src=\"https://raw.githubusercontent.com/PokeAPI/sprites/master/sprites/pokemon/488.png\"/>"
      ],
      "text/plain": [
       "<IPython.core.display.Image object>"
      ]
     },
     "metadata": {},
     "output_type": "display_data"
    },
    {
     "name": "stdout",
     "output_type": "stream",
     "text": [
      "489 phione 31 kg\n"
     ]
    },
    {
     "data": {
      "text/html": [
       "<img src=\"https://raw.githubusercontent.com/PokeAPI/sprites/master/sprites/pokemon/489.png\"/>"
      ],
      "text/plain": [
       "<IPython.core.display.Image object>"
      ]
     },
     "metadata": {},
     "output_type": "display_data"
    },
    {
     "name": "stdout",
     "output_type": "stream",
     "text": [
      "490 manaphy 14 kg\n"
     ]
    },
    {
     "data": {
      "text/html": [
       "<img src=\"https://raw.githubusercontent.com/PokeAPI/sprites/master/sprites/pokemon/490.png\"/>"
      ],
      "text/plain": [
       "<IPython.core.display.Image object>"
      ]
     },
     "metadata": {},
     "output_type": "display_data"
    },
    {
     "name": "stdout",
     "output_type": "stream",
     "text": [
      "491 darkrai 505 kg\n"
     ]
    },
    {
     "data": {
      "text/html": [
       "<img src=\"https://raw.githubusercontent.com/PokeAPI/sprites/master/sprites/pokemon/491.png\"/>"
      ],
      "text/plain": [
       "<IPython.core.display.Image object>"
      ]
     },
     "metadata": {},
     "output_type": "display_data"
    },
    {
     "name": "stdout",
     "output_type": "stream",
     "text": [
      "492 shaymin-land 21 kg\n"
     ]
    },
    {
     "data": {
      "text/html": [
       "<img src=\"https://raw.githubusercontent.com/PokeAPI/sprites/master/sprites/pokemon/492.png\"/>"
      ],
      "text/plain": [
       "<IPython.core.display.Image object>"
      ]
     },
     "metadata": {},
     "output_type": "display_data"
    },
    {
     "name": "stdout",
     "output_type": "stream",
     "text": [
      "493 arceus 3200 kg\n"
     ]
    },
    {
     "data": {
      "text/html": [
       "<img src=\"https://raw.githubusercontent.com/PokeAPI/sprites/master/sprites/pokemon/493.png\"/>"
      ],
      "text/plain": [
       "<IPython.core.display.Image object>"
      ]
     },
     "metadata": {},
     "output_type": "display_data"
    },
    {
     "name": "stdout",
     "output_type": "stream",
     "text": [
      "494 victini 40 kg\n"
     ]
    },
    {
     "data": {
      "text/html": [
       "<img src=\"https://raw.githubusercontent.com/PokeAPI/sprites/master/sprites/pokemon/494.png\"/>"
      ],
      "text/plain": [
       "<IPython.core.display.Image object>"
      ]
     },
     "metadata": {},
     "output_type": "display_data"
    },
    {
     "name": "stdout",
     "output_type": "stream",
     "text": [
      "495 snivy 81 kg\n"
     ]
    },
    {
     "data": {
      "text/html": [
       "<img src=\"https://raw.githubusercontent.com/PokeAPI/sprites/master/sprites/pokemon/495.png\"/>"
      ],
      "text/plain": [
       "<IPython.core.display.Image object>"
      ]
     },
     "metadata": {},
     "output_type": "display_data"
    },
    {
     "name": "stdout",
     "output_type": "stream",
     "text": [
      "496 servine 160 kg\n"
     ]
    },
    {
     "data": {
      "text/html": [
       "<img src=\"https://raw.githubusercontent.com/PokeAPI/sprites/master/sprites/pokemon/496.png\"/>"
      ],
      "text/plain": [
       "<IPython.core.display.Image object>"
      ]
     },
     "metadata": {},
     "output_type": "display_data"
    },
    {
     "name": "stdout",
     "output_type": "stream",
     "text": [
      "497 serperior 630 kg\n"
     ]
    },
    {
     "data": {
      "text/html": [
       "<img src=\"https://raw.githubusercontent.com/PokeAPI/sprites/master/sprites/pokemon/497.png\"/>"
      ],
      "text/plain": [
       "<IPython.core.display.Image object>"
      ]
     },
     "metadata": {},
     "output_type": "display_data"
    },
    {
     "name": "stdout",
     "output_type": "stream",
     "text": [
      "498 tepig 99 kg\n"
     ]
    },
    {
     "data": {
      "text/html": [
       "<img src=\"https://raw.githubusercontent.com/PokeAPI/sprites/master/sprites/pokemon/498.png\"/>"
      ],
      "text/plain": [
       "<IPython.core.display.Image object>"
      ]
     },
     "metadata": {},
     "output_type": "display_data"
    },
    {
     "name": "stdout",
     "output_type": "stream",
     "text": [
      "499 pignite 555 kg\n"
     ]
    },
    {
     "data": {
      "text/html": [
       "<img src=\"https://raw.githubusercontent.com/PokeAPI/sprites/master/sprites/pokemon/499.png\"/>"
      ],
      "text/plain": [
       "<IPython.core.display.Image object>"
      ]
     },
     "metadata": {},
     "output_type": "display_data"
    },
    {
     "name": "stdout",
     "output_type": "stream",
     "text": [
      "500 emboar 1500 kg\n"
     ]
    },
    {
     "data": {
      "text/html": [
       "<img src=\"https://raw.githubusercontent.com/PokeAPI/sprites/master/sprites/pokemon/500.png\"/>"
      ],
      "text/plain": [
       "<IPython.core.display.Image object>"
      ]
     },
     "metadata": {},
     "output_type": "display_data"
    },
    {
     "name": "stdout",
     "output_type": "stream",
     "text": [
      "501 oshawott 59 kg\n"
     ]
    },
    {
     "data": {
      "text/html": [
       "<img src=\"https://raw.githubusercontent.com/PokeAPI/sprites/master/sprites/pokemon/501.png\"/>"
      ],
      "text/plain": [
       "<IPython.core.display.Image object>"
      ]
     },
     "metadata": {},
     "output_type": "display_data"
    },
    {
     "name": "stdout",
     "output_type": "stream",
     "text": [
      "502 dewott 245 kg\n"
     ]
    },
    {
     "data": {
      "text/html": [
       "<img src=\"https://raw.githubusercontent.com/PokeAPI/sprites/master/sprites/pokemon/502.png\"/>"
      ],
      "text/plain": [
       "<IPython.core.display.Image object>"
      ]
     },
     "metadata": {},
     "output_type": "display_data"
    },
    {
     "name": "stdout",
     "output_type": "stream",
     "text": [
      "503 samurott 946 kg\n"
     ]
    },
    {
     "data": {
      "text/html": [
       "<img src=\"https://raw.githubusercontent.com/PokeAPI/sprites/master/sprites/pokemon/503.png\"/>"
      ],
      "text/plain": [
       "<IPython.core.display.Image object>"
      ]
     },
     "metadata": {},
     "output_type": "display_data"
    },
    {
     "name": "stdout",
     "output_type": "stream",
     "text": [
      "504 patrat 116 kg\n"
     ]
    },
    {
     "data": {
      "text/html": [
       "<img src=\"https://raw.githubusercontent.com/PokeAPI/sprites/master/sprites/pokemon/504.png\"/>"
      ],
      "text/plain": [
       "<IPython.core.display.Image object>"
      ]
     },
     "metadata": {},
     "output_type": "display_data"
    },
    {
     "name": "stdout",
     "output_type": "stream",
     "text": [
      "505 watchog 270 kg\n"
     ]
    },
    {
     "data": {
      "text/html": [
       "<img src=\"https://raw.githubusercontent.com/PokeAPI/sprites/master/sprites/pokemon/505.png\"/>"
      ],
      "text/plain": [
       "<IPython.core.display.Image object>"
      ]
     },
     "metadata": {},
     "output_type": "display_data"
    },
    {
     "name": "stdout",
     "output_type": "stream",
     "text": [
      "506 lillipup 41 kg\n"
     ]
    },
    {
     "data": {
      "text/html": [
       "<img src=\"https://raw.githubusercontent.com/PokeAPI/sprites/master/sprites/pokemon/506.png\"/>"
      ],
      "text/plain": [
       "<IPython.core.display.Image object>"
      ]
     },
     "metadata": {},
     "output_type": "display_data"
    },
    {
     "name": "stdout",
     "output_type": "stream",
     "text": [
      "507 herdier 147 kg\n"
     ]
    },
    {
     "data": {
      "text/html": [
       "<img src=\"https://raw.githubusercontent.com/PokeAPI/sprites/master/sprites/pokemon/507.png\"/>"
      ],
      "text/plain": [
       "<IPython.core.display.Image object>"
      ]
     },
     "metadata": {},
     "output_type": "display_data"
    },
    {
     "name": "stdout",
     "output_type": "stream",
     "text": [
      "508 stoutland 610 kg\n"
     ]
    },
    {
     "data": {
      "text/html": [
       "<img src=\"https://raw.githubusercontent.com/PokeAPI/sprites/master/sprites/pokemon/508.png\"/>"
      ],
      "text/plain": [
       "<IPython.core.display.Image object>"
      ]
     },
     "metadata": {},
     "output_type": "display_data"
    },
    {
     "name": "stdout",
     "output_type": "stream",
     "text": [
      "509 purrloin 101 kg\n"
     ]
    },
    {
     "data": {
      "text/html": [
       "<img src=\"https://raw.githubusercontent.com/PokeAPI/sprites/master/sprites/pokemon/509.png\"/>"
      ],
      "text/plain": [
       "<IPython.core.display.Image object>"
      ]
     },
     "metadata": {},
     "output_type": "display_data"
    },
    {
     "name": "stdout",
     "output_type": "stream",
     "text": [
      "510 liepard 375 kg\n"
     ]
    },
    {
     "data": {
      "text/html": [
       "<img src=\"https://raw.githubusercontent.com/PokeAPI/sprites/master/sprites/pokemon/510.png\"/>"
      ],
      "text/plain": [
       "<IPython.core.display.Image object>"
      ]
     },
     "metadata": {},
     "output_type": "display_data"
    },
    {
     "name": "stdout",
     "output_type": "stream",
     "text": [
      "511 pansage 105 kg\n"
     ]
    },
    {
     "data": {
      "text/html": [
       "<img src=\"https://raw.githubusercontent.com/PokeAPI/sprites/master/sprites/pokemon/511.png\"/>"
      ],
      "text/plain": [
       "<IPython.core.display.Image object>"
      ]
     },
     "metadata": {},
     "output_type": "display_data"
    },
    {
     "name": "stdout",
     "output_type": "stream",
     "text": [
      "512 simisage 305 kg\n"
     ]
    },
    {
     "data": {
      "text/html": [
       "<img src=\"https://raw.githubusercontent.com/PokeAPI/sprites/master/sprites/pokemon/512.png\"/>"
      ],
      "text/plain": [
       "<IPython.core.display.Image object>"
      ]
     },
     "metadata": {},
     "output_type": "display_data"
    },
    {
     "name": "stdout",
     "output_type": "stream",
     "text": [
      "513 pansear 110 kg\n"
     ]
    },
    {
     "data": {
      "text/html": [
       "<img src=\"https://raw.githubusercontent.com/PokeAPI/sprites/master/sprites/pokemon/513.png\"/>"
      ],
      "text/plain": [
       "<IPython.core.display.Image object>"
      ]
     },
     "metadata": {},
     "output_type": "display_data"
    },
    {
     "name": "stdout",
     "output_type": "stream",
     "text": [
      "514 simisear 280 kg\n"
     ]
    },
    {
     "data": {
      "text/html": [
       "<img src=\"https://raw.githubusercontent.com/PokeAPI/sprites/master/sprites/pokemon/514.png\"/>"
      ],
      "text/plain": [
       "<IPython.core.display.Image object>"
      ]
     },
     "metadata": {},
     "output_type": "display_data"
    },
    {
     "name": "stdout",
     "output_type": "stream",
     "text": [
      "515 panpour 135 kg\n"
     ]
    },
    {
     "data": {
      "text/html": [
       "<img src=\"https://raw.githubusercontent.com/PokeAPI/sprites/master/sprites/pokemon/515.png\"/>"
      ],
      "text/plain": [
       "<IPython.core.display.Image object>"
      ]
     },
     "metadata": {},
     "output_type": "display_data"
    },
    {
     "name": "stdout",
     "output_type": "stream",
     "text": [
      "516 simipour 290 kg\n"
     ]
    },
    {
     "data": {
      "text/html": [
       "<img src=\"https://raw.githubusercontent.com/PokeAPI/sprites/master/sprites/pokemon/516.png\"/>"
      ],
      "text/plain": [
       "<IPython.core.display.Image object>"
      ]
     },
     "metadata": {},
     "output_type": "display_data"
    },
    {
     "name": "stdout",
     "output_type": "stream",
     "text": [
      "517 munna 233 kg\n"
     ]
    },
    {
     "data": {
      "text/html": [
       "<img src=\"https://raw.githubusercontent.com/PokeAPI/sprites/master/sprites/pokemon/517.png\"/>"
      ],
      "text/plain": [
       "<IPython.core.display.Image object>"
      ]
     },
     "metadata": {},
     "output_type": "display_data"
    },
    {
     "name": "stdout",
     "output_type": "stream",
     "text": [
      "518 musharna 605 kg\n"
     ]
    },
    {
     "data": {
      "text/html": [
       "<img src=\"https://raw.githubusercontent.com/PokeAPI/sprites/master/sprites/pokemon/518.png\"/>"
      ],
      "text/plain": [
       "<IPython.core.display.Image object>"
      ]
     },
     "metadata": {},
     "output_type": "display_data"
    },
    {
     "name": "stdout",
     "output_type": "stream",
     "text": [
      "519 pidove 21 kg\n"
     ]
    },
    {
     "data": {
      "text/html": [
       "<img src=\"https://raw.githubusercontent.com/PokeAPI/sprites/master/sprites/pokemon/519.png\"/>"
      ],
      "text/plain": [
       "<IPython.core.display.Image object>"
      ]
     },
     "metadata": {},
     "output_type": "display_data"
    },
    {
     "name": "stdout",
     "output_type": "stream",
     "text": [
      "520 tranquill 150 kg\n"
     ]
    },
    {
     "data": {
      "text/html": [
       "<img src=\"https://raw.githubusercontent.com/PokeAPI/sprites/master/sprites/pokemon/520.png\"/>"
      ],
      "text/plain": [
       "<IPython.core.display.Image object>"
      ]
     },
     "metadata": {},
     "output_type": "display_data"
    },
    {
     "name": "stdout",
     "output_type": "stream",
     "text": [
      "521 unfezant 290 kg\n"
     ]
    },
    {
     "data": {
      "text/html": [
       "<img src=\"https://raw.githubusercontent.com/PokeAPI/sprites/master/sprites/pokemon/521.png\"/>"
      ],
      "text/plain": [
       "<IPython.core.display.Image object>"
      ]
     },
     "metadata": {},
     "output_type": "display_data"
    },
    {
     "name": "stdout",
     "output_type": "stream",
     "text": [
      "522 blitzle 298 kg\n"
     ]
    },
    {
     "data": {
      "text/html": [
       "<img src=\"https://raw.githubusercontent.com/PokeAPI/sprites/master/sprites/pokemon/522.png\"/>"
      ],
      "text/plain": [
       "<IPython.core.display.Image object>"
      ]
     },
     "metadata": {},
     "output_type": "display_data"
    },
    {
     "name": "stdout",
     "output_type": "stream",
     "text": [
      "523 zebstrika 795 kg\n"
     ]
    },
    {
     "data": {
      "text/html": [
       "<img src=\"https://raw.githubusercontent.com/PokeAPI/sprites/master/sprites/pokemon/523.png\"/>"
      ],
      "text/plain": [
       "<IPython.core.display.Image object>"
      ]
     },
     "metadata": {},
     "output_type": "display_data"
    },
    {
     "name": "stdout",
     "output_type": "stream",
     "text": [
      "524 roggenrola 180 kg\n"
     ]
    },
    {
     "data": {
      "text/html": [
       "<img src=\"https://raw.githubusercontent.com/PokeAPI/sprites/master/sprites/pokemon/524.png\"/>"
      ],
      "text/plain": [
       "<IPython.core.display.Image object>"
      ]
     },
     "metadata": {},
     "output_type": "display_data"
    },
    {
     "name": "stdout",
     "output_type": "stream",
     "text": [
      "525 boldore 1020 kg\n"
     ]
    },
    {
     "data": {
      "text/html": [
       "<img src=\"https://raw.githubusercontent.com/PokeAPI/sprites/master/sprites/pokemon/525.png\"/>"
      ],
      "text/plain": [
       "<IPython.core.display.Image object>"
      ]
     },
     "metadata": {},
     "output_type": "display_data"
    },
    {
     "name": "stdout",
     "output_type": "stream",
     "text": [
      "526 gigalith 2600 kg\n"
     ]
    },
    {
     "data": {
      "text/html": [
       "<img src=\"https://raw.githubusercontent.com/PokeAPI/sprites/master/sprites/pokemon/526.png\"/>"
      ],
      "text/plain": [
       "<IPython.core.display.Image object>"
      ]
     },
     "metadata": {},
     "output_type": "display_data"
    },
    {
     "name": "stdout",
     "output_type": "stream",
     "text": [
      "527 woobat 21 kg\n"
     ]
    },
    {
     "data": {
      "text/html": [
       "<img src=\"https://raw.githubusercontent.com/PokeAPI/sprites/master/sprites/pokemon/527.png\"/>"
      ],
      "text/plain": [
       "<IPython.core.display.Image object>"
      ]
     },
     "metadata": {},
     "output_type": "display_data"
    },
    {
     "name": "stdout",
     "output_type": "stream",
     "text": [
      "528 swoobat 105 kg\n"
     ]
    },
    {
     "data": {
      "text/html": [
       "<img src=\"https://raw.githubusercontent.com/PokeAPI/sprites/master/sprites/pokemon/528.png\"/>"
      ],
      "text/plain": [
       "<IPython.core.display.Image object>"
      ]
     },
     "metadata": {},
     "output_type": "display_data"
    },
    {
     "name": "stdout",
     "output_type": "stream",
     "text": [
      "529 drilbur 85 kg\n"
     ]
    },
    {
     "data": {
      "text/html": [
       "<img src=\"https://raw.githubusercontent.com/PokeAPI/sprites/master/sprites/pokemon/529.png\"/>"
      ],
      "text/plain": [
       "<IPython.core.display.Image object>"
      ]
     },
     "metadata": {},
     "output_type": "display_data"
    },
    {
     "name": "stdout",
     "output_type": "stream",
     "text": [
      "530 excadrill 404 kg\n"
     ]
    },
    {
     "data": {
      "text/html": [
       "<img src=\"https://raw.githubusercontent.com/PokeAPI/sprites/master/sprites/pokemon/530.png\"/>"
      ],
      "text/plain": [
       "<IPython.core.display.Image object>"
      ]
     },
     "metadata": {},
     "output_type": "display_data"
    },
    {
     "name": "stdout",
     "output_type": "stream",
     "text": [
      "531 audino 310 kg\n"
     ]
    },
    {
     "data": {
      "text/html": [
       "<img src=\"https://raw.githubusercontent.com/PokeAPI/sprites/master/sprites/pokemon/531.png\"/>"
      ],
      "text/plain": [
       "<IPython.core.display.Image object>"
      ]
     },
     "metadata": {},
     "output_type": "display_data"
    },
    {
     "name": "stdout",
     "output_type": "stream",
     "text": [
      "532 timburr 125 kg\n"
     ]
    },
    {
     "data": {
      "text/html": [
       "<img src=\"https://raw.githubusercontent.com/PokeAPI/sprites/master/sprites/pokemon/532.png\"/>"
      ],
      "text/plain": [
       "<IPython.core.display.Image object>"
      ]
     },
     "metadata": {},
     "output_type": "display_data"
    },
    {
     "name": "stdout",
     "output_type": "stream",
     "text": [
      "533 gurdurr 400 kg\n"
     ]
    },
    {
     "data": {
      "text/html": [
       "<img src=\"https://raw.githubusercontent.com/PokeAPI/sprites/master/sprites/pokemon/533.png\"/>"
      ],
      "text/plain": [
       "<IPython.core.display.Image object>"
      ]
     },
     "metadata": {},
     "output_type": "display_data"
    },
    {
     "name": "stdout",
     "output_type": "stream",
     "text": [
      "534 conkeldurr 870 kg\n"
     ]
    },
    {
     "data": {
      "text/html": [
       "<img src=\"https://raw.githubusercontent.com/PokeAPI/sprites/master/sprites/pokemon/534.png\"/>"
      ],
      "text/plain": [
       "<IPython.core.display.Image object>"
      ]
     },
     "metadata": {},
     "output_type": "display_data"
    },
    {
     "name": "stdout",
     "output_type": "stream",
     "text": [
      "535 tympole 45 kg\n"
     ]
    },
    {
     "data": {
      "text/html": [
       "<img src=\"https://raw.githubusercontent.com/PokeAPI/sprites/master/sprites/pokemon/535.png\"/>"
      ],
      "text/plain": [
       "<IPython.core.display.Image object>"
      ]
     },
     "metadata": {},
     "output_type": "display_data"
    },
    {
     "name": "stdout",
     "output_type": "stream",
     "text": [
      "536 palpitoad 170 kg\n"
     ]
    },
    {
     "data": {
      "text/html": [
       "<img src=\"https://raw.githubusercontent.com/PokeAPI/sprites/master/sprites/pokemon/536.png\"/>"
      ],
      "text/plain": [
       "<IPython.core.display.Image object>"
      ]
     },
     "metadata": {},
     "output_type": "display_data"
    },
    {
     "name": "stdout",
     "output_type": "stream",
     "text": [
      "537 seismitoad 620 kg\n"
     ]
    },
    {
     "data": {
      "text/html": [
       "<img src=\"https://raw.githubusercontent.com/PokeAPI/sprites/master/sprites/pokemon/537.png\"/>"
      ],
      "text/plain": [
       "<IPython.core.display.Image object>"
      ]
     },
     "metadata": {},
     "output_type": "display_data"
    },
    {
     "name": "stdout",
     "output_type": "stream",
     "text": [
      "538 throh 555 kg\n"
     ]
    },
    {
     "data": {
      "text/html": [
       "<img src=\"https://raw.githubusercontent.com/PokeAPI/sprites/master/sprites/pokemon/538.png\"/>"
      ],
      "text/plain": [
       "<IPython.core.display.Image object>"
      ]
     },
     "metadata": {},
     "output_type": "display_data"
    },
    {
     "name": "stdout",
     "output_type": "stream",
     "text": [
      "539 sawk 510 kg\n"
     ]
    },
    {
     "data": {
      "text/html": [
       "<img src=\"https://raw.githubusercontent.com/PokeAPI/sprites/master/sprites/pokemon/539.png\"/>"
      ],
      "text/plain": [
       "<IPython.core.display.Image object>"
      ]
     },
     "metadata": {},
     "output_type": "display_data"
    },
    {
     "name": "stdout",
     "output_type": "stream",
     "text": [
      "540 sewaddle 25 kg\n"
     ]
    },
    {
     "data": {
      "text/html": [
       "<img src=\"https://raw.githubusercontent.com/PokeAPI/sprites/master/sprites/pokemon/540.png\"/>"
      ],
      "text/plain": [
       "<IPython.core.display.Image object>"
      ]
     },
     "metadata": {},
     "output_type": "display_data"
    },
    {
     "name": "stdout",
     "output_type": "stream",
     "text": [
      "541 swadloon 73 kg\n"
     ]
    },
    {
     "data": {
      "text/html": [
       "<img src=\"https://raw.githubusercontent.com/PokeAPI/sprites/master/sprites/pokemon/541.png\"/>"
      ],
      "text/plain": [
       "<IPython.core.display.Image object>"
      ]
     },
     "metadata": {},
     "output_type": "display_data"
    },
    {
     "name": "stdout",
     "output_type": "stream",
     "text": [
      "542 leavanny 205 kg\n"
     ]
    },
    {
     "data": {
      "text/html": [
       "<img src=\"https://raw.githubusercontent.com/PokeAPI/sprites/master/sprites/pokemon/542.png\"/>"
      ],
      "text/plain": [
       "<IPython.core.display.Image object>"
      ]
     },
     "metadata": {},
     "output_type": "display_data"
    },
    {
     "name": "stdout",
     "output_type": "stream",
     "text": [
      "543 venipede 53 kg\n"
     ]
    },
    {
     "data": {
      "text/html": [
       "<img src=\"https://raw.githubusercontent.com/PokeAPI/sprites/master/sprites/pokemon/543.png\"/>"
      ],
      "text/plain": [
       "<IPython.core.display.Image object>"
      ]
     },
     "metadata": {},
     "output_type": "display_data"
    },
    {
     "name": "stdout",
     "output_type": "stream",
     "text": [
      "544 whirlipede 585 kg\n"
     ]
    },
    {
     "data": {
      "text/html": [
       "<img src=\"https://raw.githubusercontent.com/PokeAPI/sprites/master/sprites/pokemon/544.png\"/>"
      ],
      "text/plain": [
       "<IPython.core.display.Image object>"
      ]
     },
     "metadata": {},
     "output_type": "display_data"
    },
    {
     "name": "stdout",
     "output_type": "stream",
     "text": [
      "545 scolipede 2005 kg\n"
     ]
    },
    {
     "data": {
      "text/html": [
       "<img src=\"https://raw.githubusercontent.com/PokeAPI/sprites/master/sprites/pokemon/545.png\"/>"
      ],
      "text/plain": [
       "<IPython.core.display.Image object>"
      ]
     },
     "metadata": {},
     "output_type": "display_data"
    },
    {
     "name": "stdout",
     "output_type": "stream",
     "text": [
      "546 cottonee 6 kg\n"
     ]
    },
    {
     "data": {
      "text/html": [
       "<img src=\"https://raw.githubusercontent.com/PokeAPI/sprites/master/sprites/pokemon/546.png\"/>"
      ],
      "text/plain": [
       "<IPython.core.display.Image object>"
      ]
     },
     "metadata": {},
     "output_type": "display_data"
    },
    {
     "name": "stdout",
     "output_type": "stream",
     "text": [
      "547 whimsicott 66 kg\n"
     ]
    },
    {
     "data": {
      "text/html": [
       "<img src=\"https://raw.githubusercontent.com/PokeAPI/sprites/master/sprites/pokemon/547.png\"/>"
      ],
      "text/plain": [
       "<IPython.core.display.Image object>"
      ]
     },
     "metadata": {},
     "output_type": "display_data"
    },
    {
     "name": "stdout",
     "output_type": "stream",
     "text": [
      "548 petilil 66 kg\n"
     ]
    },
    {
     "data": {
      "text/html": [
       "<img src=\"https://raw.githubusercontent.com/PokeAPI/sprites/master/sprites/pokemon/548.png\"/>"
      ],
      "text/plain": [
       "<IPython.core.display.Image object>"
      ]
     },
     "metadata": {},
     "output_type": "display_data"
    },
    {
     "name": "stdout",
     "output_type": "stream",
     "text": [
      "549 lilligant 163 kg\n"
     ]
    },
    {
     "data": {
      "text/html": [
       "<img src=\"https://raw.githubusercontent.com/PokeAPI/sprites/master/sprites/pokemon/549.png\"/>"
      ],
      "text/plain": [
       "<IPython.core.display.Image object>"
      ]
     },
     "metadata": {},
     "output_type": "display_data"
    },
    {
     "name": "stdout",
     "output_type": "stream",
     "text": [
      "550 basculin-red-striped 180 kg\n"
     ]
    },
    {
     "data": {
      "text/html": [
       "<img src=\"https://raw.githubusercontent.com/PokeAPI/sprites/master/sprites/pokemon/550.png\"/>"
      ],
      "text/plain": [
       "<IPython.core.display.Image object>"
      ]
     },
     "metadata": {},
     "output_type": "display_data"
    },
    {
     "name": "stdout",
     "output_type": "stream",
     "text": [
      "551 sandile 152 kg\n"
     ]
    },
    {
     "data": {
      "text/html": [
       "<img src=\"https://raw.githubusercontent.com/PokeAPI/sprites/master/sprites/pokemon/551.png\"/>"
      ],
      "text/plain": [
       "<IPython.core.display.Image object>"
      ]
     },
     "metadata": {},
     "output_type": "display_data"
    },
    {
     "name": "stdout",
     "output_type": "stream",
     "text": [
      "552 krokorok 334 kg\n"
     ]
    },
    {
     "data": {
      "text/html": [
       "<img src=\"https://raw.githubusercontent.com/PokeAPI/sprites/master/sprites/pokemon/552.png\"/>"
      ],
      "text/plain": [
       "<IPython.core.display.Image object>"
      ]
     },
     "metadata": {},
     "output_type": "display_data"
    },
    {
     "name": "stdout",
     "output_type": "stream",
     "text": [
      "553 krookodile 963 kg\n"
     ]
    },
    {
     "data": {
      "text/html": [
       "<img src=\"https://raw.githubusercontent.com/PokeAPI/sprites/master/sprites/pokemon/553.png\"/>"
      ],
      "text/plain": [
       "<IPython.core.display.Image object>"
      ]
     },
     "metadata": {},
     "output_type": "display_data"
    },
    {
     "name": "stdout",
     "output_type": "stream",
     "text": [
      "554 darumaka 375 kg\n"
     ]
    },
    {
     "data": {
      "text/html": [
       "<img src=\"https://raw.githubusercontent.com/PokeAPI/sprites/master/sprites/pokemon/554.png\"/>"
      ],
      "text/plain": [
       "<IPython.core.display.Image object>"
      ]
     },
     "metadata": {},
     "output_type": "display_data"
    },
    {
     "name": "stdout",
     "output_type": "stream",
     "text": [
      "555 darmanitan-standard 929 kg\n"
     ]
    },
    {
     "data": {
      "text/html": [
       "<img src=\"https://raw.githubusercontent.com/PokeAPI/sprites/master/sprites/pokemon/555.png\"/>"
      ],
      "text/plain": [
       "<IPython.core.display.Image object>"
      ]
     },
     "metadata": {},
     "output_type": "display_data"
    },
    {
     "name": "stdout",
     "output_type": "stream",
     "text": [
      "556 maractus 280 kg\n"
     ]
    },
    {
     "data": {
      "text/html": [
       "<img src=\"https://raw.githubusercontent.com/PokeAPI/sprites/master/sprites/pokemon/556.png\"/>"
      ],
      "text/plain": [
       "<IPython.core.display.Image object>"
      ]
     },
     "metadata": {},
     "output_type": "display_data"
    },
    {
     "name": "stdout",
     "output_type": "stream",
     "text": [
      "557 dwebble 145 kg\n"
     ]
    },
    {
     "data": {
      "text/html": [
       "<img src=\"https://raw.githubusercontent.com/PokeAPI/sprites/master/sprites/pokemon/557.png\"/>"
      ],
      "text/plain": [
       "<IPython.core.display.Image object>"
      ]
     },
     "metadata": {},
     "output_type": "display_data"
    },
    {
     "name": "stdout",
     "output_type": "stream",
     "text": [
      "558 crustle 2000 kg\n"
     ]
    },
    {
     "data": {
      "text/html": [
       "<img src=\"https://raw.githubusercontent.com/PokeAPI/sprites/master/sprites/pokemon/558.png\"/>"
      ],
      "text/plain": [
       "<IPython.core.display.Image object>"
      ]
     },
     "metadata": {},
     "output_type": "display_data"
    },
    {
     "name": "stdout",
     "output_type": "stream",
     "text": [
      "559 scraggy 118 kg\n"
     ]
    },
    {
     "data": {
      "text/html": [
       "<img src=\"https://raw.githubusercontent.com/PokeAPI/sprites/master/sprites/pokemon/559.png\"/>"
      ],
      "text/plain": [
       "<IPython.core.display.Image object>"
      ]
     },
     "metadata": {},
     "output_type": "display_data"
    },
    {
     "name": "stdout",
     "output_type": "stream",
     "text": [
      "560 scrafty 300 kg\n"
     ]
    },
    {
     "data": {
      "text/html": [
       "<img src=\"https://raw.githubusercontent.com/PokeAPI/sprites/master/sprites/pokemon/560.png\"/>"
      ],
      "text/plain": [
       "<IPython.core.display.Image object>"
      ]
     },
     "metadata": {},
     "output_type": "display_data"
    },
    {
     "name": "stdout",
     "output_type": "stream",
     "text": [
      "561 sigilyph 140 kg\n"
     ]
    },
    {
     "data": {
      "text/html": [
       "<img src=\"https://raw.githubusercontent.com/PokeAPI/sprites/master/sprites/pokemon/561.png\"/>"
      ],
      "text/plain": [
       "<IPython.core.display.Image object>"
      ]
     },
     "metadata": {},
     "output_type": "display_data"
    },
    {
     "name": "stdout",
     "output_type": "stream",
     "text": [
      "562 yamask 15 kg\n"
     ]
    },
    {
     "data": {
      "text/html": [
       "<img src=\"https://raw.githubusercontent.com/PokeAPI/sprites/master/sprites/pokemon/562.png\"/>"
      ],
      "text/plain": [
       "<IPython.core.display.Image object>"
      ]
     },
     "metadata": {},
     "output_type": "display_data"
    },
    {
     "name": "stdout",
     "output_type": "stream",
     "text": [
      "563 cofagrigus 765 kg\n"
     ]
    },
    {
     "data": {
      "text/html": [
       "<img src=\"https://raw.githubusercontent.com/PokeAPI/sprites/master/sprites/pokemon/563.png\"/>"
      ],
      "text/plain": [
       "<IPython.core.display.Image object>"
      ]
     },
     "metadata": {},
     "output_type": "display_data"
    },
    {
     "name": "stdout",
     "output_type": "stream",
     "text": [
      "564 tirtouga 165 kg\n"
     ]
    },
    {
     "data": {
      "text/html": [
       "<img src=\"https://raw.githubusercontent.com/PokeAPI/sprites/master/sprites/pokemon/564.png\"/>"
      ],
      "text/plain": [
       "<IPython.core.display.Image object>"
      ]
     },
     "metadata": {},
     "output_type": "display_data"
    },
    {
     "name": "stdout",
     "output_type": "stream",
     "text": [
      "565 carracosta 810 kg\n"
     ]
    },
    {
     "data": {
      "text/html": [
       "<img src=\"https://raw.githubusercontent.com/PokeAPI/sprites/master/sprites/pokemon/565.png\"/>"
      ],
      "text/plain": [
       "<IPython.core.display.Image object>"
      ]
     },
     "metadata": {},
     "output_type": "display_data"
    },
    {
     "name": "stdout",
     "output_type": "stream",
     "text": [
      "566 archen 95 kg\n"
     ]
    },
    {
     "data": {
      "text/html": [
       "<img src=\"https://raw.githubusercontent.com/PokeAPI/sprites/master/sprites/pokemon/566.png\"/>"
      ],
      "text/plain": [
       "<IPython.core.display.Image object>"
      ]
     },
     "metadata": {},
     "output_type": "display_data"
    },
    {
     "name": "stdout",
     "output_type": "stream",
     "text": [
      "567 archeops 320 kg\n"
     ]
    },
    {
     "data": {
      "text/html": [
       "<img src=\"https://raw.githubusercontent.com/PokeAPI/sprites/master/sprites/pokemon/567.png\"/>"
      ],
      "text/plain": [
       "<IPython.core.display.Image object>"
      ]
     },
     "metadata": {},
     "output_type": "display_data"
    },
    {
     "name": "stdout",
     "output_type": "stream",
     "text": [
      "568 trubbish 310 kg\n"
     ]
    },
    {
     "data": {
      "text/html": [
       "<img src=\"https://raw.githubusercontent.com/PokeAPI/sprites/master/sprites/pokemon/568.png\"/>"
      ],
      "text/plain": [
       "<IPython.core.display.Image object>"
      ]
     },
     "metadata": {},
     "output_type": "display_data"
    },
    {
     "name": "stdout",
     "output_type": "stream",
     "text": [
      "569 garbodor 1073 kg\n"
     ]
    },
    {
     "data": {
      "text/html": [
       "<img src=\"https://raw.githubusercontent.com/PokeAPI/sprites/master/sprites/pokemon/569.png\"/>"
      ],
      "text/plain": [
       "<IPython.core.display.Image object>"
      ]
     },
     "metadata": {},
     "output_type": "display_data"
    },
    {
     "name": "stdout",
     "output_type": "stream",
     "text": [
      "570 zorua 125 kg\n"
     ]
    },
    {
     "data": {
      "text/html": [
       "<img src=\"https://raw.githubusercontent.com/PokeAPI/sprites/master/sprites/pokemon/570.png\"/>"
      ],
      "text/plain": [
       "<IPython.core.display.Image object>"
      ]
     },
     "metadata": {},
     "output_type": "display_data"
    },
    {
     "name": "stdout",
     "output_type": "stream",
     "text": [
      "571 zoroark 811 kg\n"
     ]
    },
    {
     "data": {
      "text/html": [
       "<img src=\"https://raw.githubusercontent.com/PokeAPI/sprites/master/sprites/pokemon/571.png\"/>"
      ],
      "text/plain": [
       "<IPython.core.display.Image object>"
      ]
     },
     "metadata": {},
     "output_type": "display_data"
    },
    {
     "name": "stdout",
     "output_type": "stream",
     "text": [
      "572 minccino 58 kg\n"
     ]
    },
    {
     "data": {
      "text/html": [
       "<img src=\"https://raw.githubusercontent.com/PokeAPI/sprites/master/sprites/pokemon/572.png\"/>"
      ],
      "text/plain": [
       "<IPython.core.display.Image object>"
      ]
     },
     "metadata": {},
     "output_type": "display_data"
    },
    {
     "name": "stdout",
     "output_type": "stream",
     "text": [
      "573 cinccino 75 kg\n"
     ]
    },
    {
     "data": {
      "text/html": [
       "<img src=\"https://raw.githubusercontent.com/PokeAPI/sprites/master/sprites/pokemon/573.png\"/>"
      ],
      "text/plain": [
       "<IPython.core.display.Image object>"
      ]
     },
     "metadata": {},
     "output_type": "display_data"
    },
    {
     "name": "stdout",
     "output_type": "stream",
     "text": [
      "574 gothita 58 kg\n"
     ]
    },
    {
     "data": {
      "text/html": [
       "<img src=\"https://raw.githubusercontent.com/PokeAPI/sprites/master/sprites/pokemon/574.png\"/>"
      ],
      "text/plain": [
       "<IPython.core.display.Image object>"
      ]
     },
     "metadata": {},
     "output_type": "display_data"
    },
    {
     "name": "stdout",
     "output_type": "stream",
     "text": [
      "575 gothorita 180 kg\n"
     ]
    },
    {
     "data": {
      "text/html": [
       "<img src=\"https://raw.githubusercontent.com/PokeAPI/sprites/master/sprites/pokemon/575.png\"/>"
      ],
      "text/plain": [
       "<IPython.core.display.Image object>"
      ]
     },
     "metadata": {},
     "output_type": "display_data"
    },
    {
     "name": "stdout",
     "output_type": "stream",
     "text": [
      "576 gothitelle 440 kg\n"
     ]
    },
    {
     "data": {
      "text/html": [
       "<img src=\"https://raw.githubusercontent.com/PokeAPI/sprites/master/sprites/pokemon/576.png\"/>"
      ],
      "text/plain": [
       "<IPython.core.display.Image object>"
      ]
     },
     "metadata": {},
     "output_type": "display_data"
    },
    {
     "name": "stdout",
     "output_type": "stream",
     "text": [
      "577 solosis 10 kg\n"
     ]
    },
    {
     "data": {
      "text/html": [
       "<img src=\"https://raw.githubusercontent.com/PokeAPI/sprites/master/sprites/pokemon/577.png\"/>"
      ],
      "text/plain": [
       "<IPython.core.display.Image object>"
      ]
     },
     "metadata": {},
     "output_type": "display_data"
    },
    {
     "name": "stdout",
     "output_type": "stream",
     "text": [
      "578 duosion 80 kg\n"
     ]
    },
    {
     "data": {
      "text/html": [
       "<img src=\"https://raw.githubusercontent.com/PokeAPI/sprites/master/sprites/pokemon/578.png\"/>"
      ],
      "text/plain": [
       "<IPython.core.display.Image object>"
      ]
     },
     "metadata": {},
     "output_type": "display_data"
    },
    {
     "name": "stdout",
     "output_type": "stream",
     "text": [
      "579 reuniclus 201 kg\n"
     ]
    },
    {
     "data": {
      "text/html": [
       "<img src=\"https://raw.githubusercontent.com/PokeAPI/sprites/master/sprites/pokemon/579.png\"/>"
      ],
      "text/plain": [
       "<IPython.core.display.Image object>"
      ]
     },
     "metadata": {},
     "output_type": "display_data"
    },
    {
     "name": "stdout",
     "output_type": "stream",
     "text": [
      "580 ducklett 55 kg\n"
     ]
    },
    {
     "data": {
      "text/html": [
       "<img src=\"https://raw.githubusercontent.com/PokeAPI/sprites/master/sprites/pokemon/580.png\"/>"
      ],
      "text/plain": [
       "<IPython.core.display.Image object>"
      ]
     },
     "metadata": {},
     "output_type": "display_data"
    },
    {
     "name": "stdout",
     "output_type": "stream",
     "text": [
      "581 swanna 242 kg\n"
     ]
    },
    {
     "data": {
      "text/html": [
       "<img src=\"https://raw.githubusercontent.com/PokeAPI/sprites/master/sprites/pokemon/581.png\"/>"
      ],
      "text/plain": [
       "<IPython.core.display.Image object>"
      ]
     },
     "metadata": {},
     "output_type": "display_data"
    },
    {
     "name": "stdout",
     "output_type": "stream",
     "text": [
      "582 vanillite 57 kg\n"
     ]
    },
    {
     "data": {
      "text/html": [
       "<img src=\"https://raw.githubusercontent.com/PokeAPI/sprites/master/sprites/pokemon/582.png\"/>"
      ],
      "text/plain": [
       "<IPython.core.display.Image object>"
      ]
     },
     "metadata": {},
     "output_type": "display_data"
    },
    {
     "name": "stdout",
     "output_type": "stream",
     "text": [
      "583 vanillish 410 kg\n"
     ]
    },
    {
     "data": {
      "text/html": [
       "<img src=\"https://raw.githubusercontent.com/PokeAPI/sprites/master/sprites/pokemon/583.png\"/>"
      ],
      "text/plain": [
       "<IPython.core.display.Image object>"
      ]
     },
     "metadata": {},
     "output_type": "display_data"
    },
    {
     "name": "stdout",
     "output_type": "stream",
     "text": [
      "584 vanilluxe 575 kg\n"
     ]
    },
    {
     "data": {
      "text/html": [
       "<img src=\"https://raw.githubusercontent.com/PokeAPI/sprites/master/sprites/pokemon/584.png\"/>"
      ],
      "text/plain": [
       "<IPython.core.display.Image object>"
      ]
     },
     "metadata": {},
     "output_type": "display_data"
    },
    {
     "name": "stdout",
     "output_type": "stream",
     "text": [
      "585 deerling 195 kg\n"
     ]
    },
    {
     "data": {
      "text/html": [
       "<img src=\"https://raw.githubusercontent.com/PokeAPI/sprites/master/sprites/pokemon/585.png\"/>"
      ],
      "text/plain": [
       "<IPython.core.display.Image object>"
      ]
     },
     "metadata": {},
     "output_type": "display_data"
    },
    {
     "name": "stdout",
     "output_type": "stream",
     "text": [
      "586 sawsbuck 925 kg\n"
     ]
    },
    {
     "data": {
      "text/html": [
       "<img src=\"https://raw.githubusercontent.com/PokeAPI/sprites/master/sprites/pokemon/586.png\"/>"
      ],
      "text/plain": [
       "<IPython.core.display.Image object>"
      ]
     },
     "metadata": {},
     "output_type": "display_data"
    },
    {
     "name": "stdout",
     "output_type": "stream",
     "text": [
      "587 emolga 50 kg\n"
     ]
    },
    {
     "data": {
      "text/html": [
       "<img src=\"https://raw.githubusercontent.com/PokeAPI/sprites/master/sprites/pokemon/587.png\"/>"
      ],
      "text/plain": [
       "<IPython.core.display.Image object>"
      ]
     },
     "metadata": {},
     "output_type": "display_data"
    },
    {
     "name": "stdout",
     "output_type": "stream",
     "text": [
      "588 karrablast 59 kg\n"
     ]
    },
    {
     "data": {
      "text/html": [
       "<img src=\"https://raw.githubusercontent.com/PokeAPI/sprites/master/sprites/pokemon/588.png\"/>"
      ],
      "text/plain": [
       "<IPython.core.display.Image object>"
      ]
     },
     "metadata": {},
     "output_type": "display_data"
    },
    {
     "name": "stdout",
     "output_type": "stream",
     "text": [
      "589 escavalier 330 kg\n"
     ]
    },
    {
     "data": {
      "text/html": [
       "<img src=\"https://raw.githubusercontent.com/PokeAPI/sprites/master/sprites/pokemon/589.png\"/>"
      ],
      "text/plain": [
       "<IPython.core.display.Image object>"
      ]
     },
     "metadata": {},
     "output_type": "display_data"
    },
    {
     "name": "stdout",
     "output_type": "stream",
     "text": [
      "590 foongus 10 kg\n"
     ]
    },
    {
     "data": {
      "text/html": [
       "<img src=\"https://raw.githubusercontent.com/PokeAPI/sprites/master/sprites/pokemon/590.png\"/>"
      ],
      "text/plain": [
       "<IPython.core.display.Image object>"
      ]
     },
     "metadata": {},
     "output_type": "display_data"
    },
    {
     "name": "stdout",
     "output_type": "stream",
     "text": [
      "591 amoonguss 105 kg\n"
     ]
    },
    {
     "data": {
      "text/html": [
       "<img src=\"https://raw.githubusercontent.com/PokeAPI/sprites/master/sprites/pokemon/591.png\"/>"
      ],
      "text/plain": [
       "<IPython.core.display.Image object>"
      ]
     },
     "metadata": {},
     "output_type": "display_data"
    },
    {
     "name": "stdout",
     "output_type": "stream",
     "text": [
      "592 frillish 330 kg\n"
     ]
    },
    {
     "data": {
      "text/html": [
       "<img src=\"https://raw.githubusercontent.com/PokeAPI/sprites/master/sprites/pokemon/592.png\"/>"
      ],
      "text/plain": [
       "<IPython.core.display.Image object>"
      ]
     },
     "metadata": {},
     "output_type": "display_data"
    },
    {
     "name": "stdout",
     "output_type": "stream",
     "text": [
      "593 jellicent 1350 kg\n"
     ]
    },
    {
     "data": {
      "text/html": [
       "<img src=\"https://raw.githubusercontent.com/PokeAPI/sprites/master/sprites/pokemon/593.png\"/>"
      ],
      "text/plain": [
       "<IPython.core.display.Image object>"
      ]
     },
     "metadata": {},
     "output_type": "display_data"
    },
    {
     "name": "stdout",
     "output_type": "stream",
     "text": [
      "594 alomomola 316 kg\n"
     ]
    },
    {
     "data": {
      "text/html": [
       "<img src=\"https://raw.githubusercontent.com/PokeAPI/sprites/master/sprites/pokemon/594.png\"/>"
      ],
      "text/plain": [
       "<IPython.core.display.Image object>"
      ]
     },
     "metadata": {},
     "output_type": "display_data"
    },
    {
     "name": "stdout",
     "output_type": "stream",
     "text": [
      "595 joltik 6 kg\n"
     ]
    },
    {
     "data": {
      "text/html": [
       "<img src=\"https://raw.githubusercontent.com/PokeAPI/sprites/master/sprites/pokemon/595.png\"/>"
      ],
      "text/plain": [
       "<IPython.core.display.Image object>"
      ]
     },
     "metadata": {},
     "output_type": "display_data"
    },
    {
     "name": "stdout",
     "output_type": "stream",
     "text": [
      "596 galvantula 143 kg\n"
     ]
    },
    {
     "data": {
      "text/html": [
       "<img src=\"https://raw.githubusercontent.com/PokeAPI/sprites/master/sprites/pokemon/596.png\"/>"
      ],
      "text/plain": [
       "<IPython.core.display.Image object>"
      ]
     },
     "metadata": {},
     "output_type": "display_data"
    },
    {
     "name": "stdout",
     "output_type": "stream",
     "text": [
      "597 ferroseed 188 kg\n"
     ]
    },
    {
     "data": {
      "text/html": [
       "<img src=\"https://raw.githubusercontent.com/PokeAPI/sprites/master/sprites/pokemon/597.png\"/>"
      ],
      "text/plain": [
       "<IPython.core.display.Image object>"
      ]
     },
     "metadata": {},
     "output_type": "display_data"
    },
    {
     "name": "stdout",
     "output_type": "stream",
     "text": [
      "598 ferrothorn 1100 kg\n"
     ]
    },
    {
     "data": {
      "text/html": [
       "<img src=\"https://raw.githubusercontent.com/PokeAPI/sprites/master/sprites/pokemon/598.png\"/>"
      ],
      "text/plain": [
       "<IPython.core.display.Image object>"
      ]
     },
     "metadata": {},
     "output_type": "display_data"
    },
    {
     "name": "stdout",
     "output_type": "stream",
     "text": [
      "599 klink 210 kg\n"
     ]
    },
    {
     "data": {
      "text/html": [
       "<img src=\"https://raw.githubusercontent.com/PokeAPI/sprites/master/sprites/pokemon/599.png\"/>"
      ],
      "text/plain": [
       "<IPython.core.display.Image object>"
      ]
     },
     "metadata": {},
     "output_type": "display_data"
    },
    {
     "name": "stdout",
     "output_type": "stream",
     "text": [
      "600 klang 510 kg\n"
     ]
    },
    {
     "data": {
      "text/html": [
       "<img src=\"https://raw.githubusercontent.com/PokeAPI/sprites/master/sprites/pokemon/600.png\"/>"
      ],
      "text/plain": [
       "<IPython.core.display.Image object>"
      ]
     },
     "metadata": {},
     "output_type": "display_data"
    },
    {
     "name": "stdout",
     "output_type": "stream",
     "text": [
      "601 klinklang 810 kg\n"
     ]
    },
    {
     "data": {
      "text/html": [
       "<img src=\"https://raw.githubusercontent.com/PokeAPI/sprites/master/sprites/pokemon/601.png\"/>"
      ],
      "text/plain": [
       "<IPython.core.display.Image object>"
      ]
     },
     "metadata": {},
     "output_type": "display_data"
    },
    {
     "name": "stdout",
     "output_type": "stream",
     "text": [
      "602 tynamo 3 kg\n"
     ]
    },
    {
     "data": {
      "text/html": [
       "<img src=\"https://raw.githubusercontent.com/PokeAPI/sprites/master/sprites/pokemon/602.png\"/>"
      ],
      "text/plain": [
       "<IPython.core.display.Image object>"
      ]
     },
     "metadata": {},
     "output_type": "display_data"
    },
    {
     "name": "stdout",
     "output_type": "stream",
     "text": [
      "603 eelektrik 220 kg\n"
     ]
    },
    {
     "data": {
      "text/html": [
       "<img src=\"https://raw.githubusercontent.com/PokeAPI/sprites/master/sprites/pokemon/603.png\"/>"
      ],
      "text/plain": [
       "<IPython.core.display.Image object>"
      ]
     },
     "metadata": {},
     "output_type": "display_data"
    },
    {
     "name": "stdout",
     "output_type": "stream",
     "text": [
      "604 eelektross 805 kg\n"
     ]
    },
    {
     "data": {
      "text/html": [
       "<img src=\"https://raw.githubusercontent.com/PokeAPI/sprites/master/sprites/pokemon/604.png\"/>"
      ],
      "text/plain": [
       "<IPython.core.display.Image object>"
      ]
     },
     "metadata": {},
     "output_type": "display_data"
    },
    {
     "name": "stdout",
     "output_type": "stream",
     "text": [
      "605 elgyem 90 kg\n"
     ]
    },
    {
     "data": {
      "text/html": [
       "<img src=\"https://raw.githubusercontent.com/PokeAPI/sprites/master/sprites/pokemon/605.png\"/>"
      ],
      "text/plain": [
       "<IPython.core.display.Image object>"
      ]
     },
     "metadata": {},
     "output_type": "display_data"
    },
    {
     "name": "stdout",
     "output_type": "stream",
     "text": [
      "606 beheeyem 345 kg\n"
     ]
    },
    {
     "data": {
      "text/html": [
       "<img src=\"https://raw.githubusercontent.com/PokeAPI/sprites/master/sprites/pokemon/606.png\"/>"
      ],
      "text/plain": [
       "<IPython.core.display.Image object>"
      ]
     },
     "metadata": {},
     "output_type": "display_data"
    },
    {
     "name": "stdout",
     "output_type": "stream",
     "text": [
      "607 litwick 31 kg\n"
     ]
    },
    {
     "data": {
      "text/html": [
       "<img src=\"https://raw.githubusercontent.com/PokeAPI/sprites/master/sprites/pokemon/607.png\"/>"
      ],
      "text/plain": [
       "<IPython.core.display.Image object>"
      ]
     },
     "metadata": {},
     "output_type": "display_data"
    },
    {
     "name": "stdout",
     "output_type": "stream",
     "text": [
      "608 lampent 130 kg\n"
     ]
    },
    {
     "data": {
      "text/html": [
       "<img src=\"https://raw.githubusercontent.com/PokeAPI/sprites/master/sprites/pokemon/608.png\"/>"
      ],
      "text/plain": [
       "<IPython.core.display.Image object>"
      ]
     },
     "metadata": {},
     "output_type": "display_data"
    },
    {
     "name": "stdout",
     "output_type": "stream",
     "text": [
      "609 chandelure 343 kg\n"
     ]
    },
    {
     "data": {
      "text/html": [
       "<img src=\"https://raw.githubusercontent.com/PokeAPI/sprites/master/sprites/pokemon/609.png\"/>"
      ],
      "text/plain": [
       "<IPython.core.display.Image object>"
      ]
     },
     "metadata": {},
     "output_type": "display_data"
    },
    {
     "name": "stdout",
     "output_type": "stream",
     "text": [
      "610 axew 180 kg\n"
     ]
    },
    {
     "data": {
      "text/html": [
       "<img src=\"https://raw.githubusercontent.com/PokeAPI/sprites/master/sprites/pokemon/610.png\"/>"
      ],
      "text/plain": [
       "<IPython.core.display.Image object>"
      ]
     },
     "metadata": {},
     "output_type": "display_data"
    },
    {
     "name": "stdout",
     "output_type": "stream",
     "text": [
      "611 fraxure 360 kg\n"
     ]
    },
    {
     "data": {
      "text/html": [
       "<img src=\"https://raw.githubusercontent.com/PokeAPI/sprites/master/sprites/pokemon/611.png\"/>"
      ],
      "text/plain": [
       "<IPython.core.display.Image object>"
      ]
     },
     "metadata": {},
     "output_type": "display_data"
    },
    {
     "name": "stdout",
     "output_type": "stream",
     "text": [
      "612 haxorus 1055 kg\n"
     ]
    },
    {
     "data": {
      "text/html": [
       "<img src=\"https://raw.githubusercontent.com/PokeAPI/sprites/master/sprites/pokemon/612.png\"/>"
      ],
      "text/plain": [
       "<IPython.core.display.Image object>"
      ]
     },
     "metadata": {},
     "output_type": "display_data"
    },
    {
     "name": "stdout",
     "output_type": "stream",
     "text": [
      "613 cubchoo 85 kg\n"
     ]
    },
    {
     "data": {
      "text/html": [
       "<img src=\"https://raw.githubusercontent.com/PokeAPI/sprites/master/sprites/pokemon/613.png\"/>"
      ],
      "text/plain": [
       "<IPython.core.display.Image object>"
      ]
     },
     "metadata": {},
     "output_type": "display_data"
    },
    {
     "name": "stdout",
     "output_type": "stream",
     "text": [
      "614 beartic 2600 kg\n"
     ]
    },
    {
     "data": {
      "text/html": [
       "<img src=\"https://raw.githubusercontent.com/PokeAPI/sprites/master/sprites/pokemon/614.png\"/>"
      ],
      "text/plain": [
       "<IPython.core.display.Image object>"
      ]
     },
     "metadata": {},
     "output_type": "display_data"
    },
    {
     "name": "stdout",
     "output_type": "stream",
     "text": [
      "615 cryogonal 1480 kg\n"
     ]
    },
    {
     "data": {
      "text/html": [
       "<img src=\"https://raw.githubusercontent.com/PokeAPI/sprites/master/sprites/pokemon/615.png\"/>"
      ],
      "text/plain": [
       "<IPython.core.display.Image object>"
      ]
     },
     "metadata": {},
     "output_type": "display_data"
    },
    {
     "name": "stdout",
     "output_type": "stream",
     "text": [
      "616 shelmet 77 kg\n"
     ]
    },
    {
     "data": {
      "text/html": [
       "<img src=\"https://raw.githubusercontent.com/PokeAPI/sprites/master/sprites/pokemon/616.png\"/>"
      ],
      "text/plain": [
       "<IPython.core.display.Image object>"
      ]
     },
     "metadata": {},
     "output_type": "display_data"
    },
    {
     "name": "stdout",
     "output_type": "stream",
     "text": [
      "617 accelgor 253 kg\n"
     ]
    },
    {
     "data": {
      "text/html": [
       "<img src=\"https://raw.githubusercontent.com/PokeAPI/sprites/master/sprites/pokemon/617.png\"/>"
      ],
      "text/plain": [
       "<IPython.core.display.Image object>"
      ]
     },
     "metadata": {},
     "output_type": "display_data"
    },
    {
     "name": "stdout",
     "output_type": "stream",
     "text": [
      "618 stunfisk 110 kg\n"
     ]
    },
    {
     "data": {
      "text/html": [
       "<img src=\"https://raw.githubusercontent.com/PokeAPI/sprites/master/sprites/pokemon/618.png\"/>"
      ],
      "text/plain": [
       "<IPython.core.display.Image object>"
      ]
     },
     "metadata": {},
     "output_type": "display_data"
    },
    {
     "name": "stdout",
     "output_type": "stream",
     "text": [
      "619 mienfoo 200 kg\n"
     ]
    },
    {
     "data": {
      "text/html": [
       "<img src=\"https://raw.githubusercontent.com/PokeAPI/sprites/master/sprites/pokemon/619.png\"/>"
      ],
      "text/plain": [
       "<IPython.core.display.Image object>"
      ]
     },
     "metadata": {},
     "output_type": "display_data"
    },
    {
     "name": "stdout",
     "output_type": "stream",
     "text": [
      "620 mienshao 355 kg\n"
     ]
    },
    {
     "data": {
      "text/html": [
       "<img src=\"https://raw.githubusercontent.com/PokeAPI/sprites/master/sprites/pokemon/620.png\"/>"
      ],
      "text/plain": [
       "<IPython.core.display.Image object>"
      ]
     },
     "metadata": {},
     "output_type": "display_data"
    },
    {
     "name": "stdout",
     "output_type": "stream",
     "text": [
      "621 druddigon 1390 kg\n"
     ]
    },
    {
     "data": {
      "text/html": [
       "<img src=\"https://raw.githubusercontent.com/PokeAPI/sprites/master/sprites/pokemon/621.png\"/>"
      ],
      "text/plain": [
       "<IPython.core.display.Image object>"
      ]
     },
     "metadata": {},
     "output_type": "display_data"
    },
    {
     "name": "stdout",
     "output_type": "stream",
     "text": [
      "622 golett 920 kg\n"
     ]
    },
    {
     "data": {
      "text/html": [
       "<img src=\"https://raw.githubusercontent.com/PokeAPI/sprites/master/sprites/pokemon/622.png\"/>"
      ],
      "text/plain": [
       "<IPython.core.display.Image object>"
      ]
     },
     "metadata": {},
     "output_type": "display_data"
    },
    {
     "name": "stdout",
     "output_type": "stream",
     "text": [
      "623 golurk 3300 kg\n"
     ]
    },
    {
     "data": {
      "text/html": [
       "<img src=\"https://raw.githubusercontent.com/PokeAPI/sprites/master/sprites/pokemon/623.png\"/>"
      ],
      "text/plain": [
       "<IPython.core.display.Image object>"
      ]
     },
     "metadata": {},
     "output_type": "display_data"
    },
    {
     "name": "stdout",
     "output_type": "stream",
     "text": [
      "624 pawniard 102 kg\n"
     ]
    },
    {
     "data": {
      "text/html": [
       "<img src=\"https://raw.githubusercontent.com/PokeAPI/sprites/master/sprites/pokemon/624.png\"/>"
      ],
      "text/plain": [
       "<IPython.core.display.Image object>"
      ]
     },
     "metadata": {},
     "output_type": "display_data"
    },
    {
     "name": "stdout",
     "output_type": "stream",
     "text": [
      "625 bisharp 700 kg\n"
     ]
    },
    {
     "data": {
      "text/html": [
       "<img src=\"https://raw.githubusercontent.com/PokeAPI/sprites/master/sprites/pokemon/625.png\"/>"
      ],
      "text/plain": [
       "<IPython.core.display.Image object>"
      ]
     },
     "metadata": {},
     "output_type": "display_data"
    },
    {
     "name": "stdout",
     "output_type": "stream",
     "text": [
      "626 bouffalant 946 kg\n"
     ]
    },
    {
     "data": {
      "text/html": [
       "<img src=\"https://raw.githubusercontent.com/PokeAPI/sprites/master/sprites/pokemon/626.png\"/>"
      ],
      "text/plain": [
       "<IPython.core.display.Image object>"
      ]
     },
     "metadata": {},
     "output_type": "display_data"
    },
    {
     "name": "stdout",
     "output_type": "stream",
     "text": [
      "627 rufflet 105 kg\n"
     ]
    },
    {
     "data": {
      "text/html": [
       "<img src=\"https://raw.githubusercontent.com/PokeAPI/sprites/master/sprites/pokemon/627.png\"/>"
      ],
      "text/plain": [
       "<IPython.core.display.Image object>"
      ]
     },
     "metadata": {},
     "output_type": "display_data"
    },
    {
     "name": "stdout",
     "output_type": "stream",
     "text": [
      "628 braviary 410 kg\n"
     ]
    },
    {
     "data": {
      "text/html": [
       "<img src=\"https://raw.githubusercontent.com/PokeAPI/sprites/master/sprites/pokemon/628.png\"/>"
      ],
      "text/plain": [
       "<IPython.core.display.Image object>"
      ]
     },
     "metadata": {},
     "output_type": "display_data"
    },
    {
     "name": "stdout",
     "output_type": "stream",
     "text": [
      "629 vullaby 90 kg\n"
     ]
    },
    {
     "data": {
      "text/html": [
       "<img src=\"https://raw.githubusercontent.com/PokeAPI/sprites/master/sprites/pokemon/629.png\"/>"
      ],
      "text/plain": [
       "<IPython.core.display.Image object>"
      ]
     },
     "metadata": {},
     "output_type": "display_data"
    },
    {
     "name": "stdout",
     "output_type": "stream",
     "text": [
      "630 mandibuzz 395 kg\n"
     ]
    },
    {
     "data": {
      "text/html": [
       "<img src=\"https://raw.githubusercontent.com/PokeAPI/sprites/master/sprites/pokemon/630.png\"/>"
      ],
      "text/plain": [
       "<IPython.core.display.Image object>"
      ]
     },
     "metadata": {},
     "output_type": "display_data"
    },
    {
     "name": "stdout",
     "output_type": "stream",
     "text": [
      "631 heatmor 580 kg\n"
     ]
    },
    {
     "data": {
      "text/html": [
       "<img src=\"https://raw.githubusercontent.com/PokeAPI/sprites/master/sprites/pokemon/631.png\"/>"
      ],
      "text/plain": [
       "<IPython.core.display.Image object>"
      ]
     },
     "metadata": {},
     "output_type": "display_data"
    },
    {
     "name": "stdout",
     "output_type": "stream",
     "text": [
      "632 durant 330 kg\n"
     ]
    },
    {
     "data": {
      "text/html": [
       "<img src=\"https://raw.githubusercontent.com/PokeAPI/sprites/master/sprites/pokemon/632.png\"/>"
      ],
      "text/plain": [
       "<IPython.core.display.Image object>"
      ]
     },
     "metadata": {},
     "output_type": "display_data"
    },
    {
     "name": "stdout",
     "output_type": "stream",
     "text": [
      "633 deino 173 kg\n"
     ]
    },
    {
     "data": {
      "text/html": [
       "<img src=\"https://raw.githubusercontent.com/PokeAPI/sprites/master/sprites/pokemon/633.png\"/>"
      ],
      "text/plain": [
       "<IPython.core.display.Image object>"
      ]
     },
     "metadata": {},
     "output_type": "display_data"
    },
    {
     "name": "stdout",
     "output_type": "stream",
     "text": [
      "634 zweilous 500 kg\n"
     ]
    },
    {
     "data": {
      "text/html": [
       "<img src=\"https://raw.githubusercontent.com/PokeAPI/sprites/master/sprites/pokemon/634.png\"/>"
      ],
      "text/plain": [
       "<IPython.core.display.Image object>"
      ]
     },
     "metadata": {},
     "output_type": "display_data"
    },
    {
     "name": "stdout",
     "output_type": "stream",
     "text": [
      "635 hydreigon 1600 kg\n"
     ]
    },
    {
     "data": {
      "text/html": [
       "<img src=\"https://raw.githubusercontent.com/PokeAPI/sprites/master/sprites/pokemon/635.png\"/>"
      ],
      "text/plain": [
       "<IPython.core.display.Image object>"
      ]
     },
     "metadata": {},
     "output_type": "display_data"
    },
    {
     "name": "stdout",
     "output_type": "stream",
     "text": [
      "636 larvesta 288 kg\n"
     ]
    },
    {
     "data": {
      "text/html": [
       "<img src=\"https://raw.githubusercontent.com/PokeAPI/sprites/master/sprites/pokemon/636.png\"/>"
      ],
      "text/plain": [
       "<IPython.core.display.Image object>"
      ]
     },
     "metadata": {},
     "output_type": "display_data"
    },
    {
     "name": "stdout",
     "output_type": "stream",
     "text": [
      "637 volcarona 460 kg\n"
     ]
    },
    {
     "data": {
      "text/html": [
       "<img src=\"https://raw.githubusercontent.com/PokeAPI/sprites/master/sprites/pokemon/637.png\"/>"
      ],
      "text/plain": [
       "<IPython.core.display.Image object>"
      ]
     },
     "metadata": {},
     "output_type": "display_data"
    },
    {
     "name": "stdout",
     "output_type": "stream",
     "text": [
      "638 cobalion 2500 kg\n"
     ]
    },
    {
     "data": {
      "text/html": [
       "<img src=\"https://raw.githubusercontent.com/PokeAPI/sprites/master/sprites/pokemon/638.png\"/>"
      ],
      "text/plain": [
       "<IPython.core.display.Image object>"
      ]
     },
     "metadata": {},
     "output_type": "display_data"
    },
    {
     "name": "stdout",
     "output_type": "stream",
     "text": [
      "639 terrakion 2600 kg\n"
     ]
    },
    {
     "data": {
      "text/html": [
       "<img src=\"https://raw.githubusercontent.com/PokeAPI/sprites/master/sprites/pokemon/639.png\"/>"
      ],
      "text/plain": [
       "<IPython.core.display.Image object>"
      ]
     },
     "metadata": {},
     "output_type": "display_data"
    },
    {
     "name": "stdout",
     "output_type": "stream",
     "text": [
      "640 virizion 2000 kg\n"
     ]
    },
    {
     "data": {
      "text/html": [
       "<img src=\"https://raw.githubusercontent.com/PokeAPI/sprites/master/sprites/pokemon/640.png\"/>"
      ],
      "text/plain": [
       "<IPython.core.display.Image object>"
      ]
     },
     "metadata": {},
     "output_type": "display_data"
    },
    {
     "name": "stdout",
     "output_type": "stream",
     "text": [
      "641 tornadus-incarnate 630 kg\n"
     ]
    },
    {
     "data": {
      "text/html": [
       "<img src=\"https://raw.githubusercontent.com/PokeAPI/sprites/master/sprites/pokemon/641.png\"/>"
      ],
      "text/plain": [
       "<IPython.core.display.Image object>"
      ]
     },
     "metadata": {},
     "output_type": "display_data"
    },
    {
     "name": "stdout",
     "output_type": "stream",
     "text": [
      "642 thundurus-incarnate 610 kg\n"
     ]
    },
    {
     "data": {
      "text/html": [
       "<img src=\"https://raw.githubusercontent.com/PokeAPI/sprites/master/sprites/pokemon/642.png\"/>"
      ],
      "text/plain": [
       "<IPython.core.display.Image object>"
      ]
     },
     "metadata": {},
     "output_type": "display_data"
    },
    {
     "name": "stdout",
     "output_type": "stream",
     "text": [
      "643 reshiram 3300 kg\n"
     ]
    },
    {
     "data": {
      "text/html": [
       "<img src=\"https://raw.githubusercontent.com/PokeAPI/sprites/master/sprites/pokemon/643.png\"/>"
      ],
      "text/plain": [
       "<IPython.core.display.Image object>"
      ]
     },
     "metadata": {},
     "output_type": "display_data"
    },
    {
     "name": "stdout",
     "output_type": "stream",
     "text": [
      "644 zekrom 3450 kg\n"
     ]
    },
    {
     "data": {
      "text/html": [
       "<img src=\"https://raw.githubusercontent.com/PokeAPI/sprites/master/sprites/pokemon/644.png\"/>"
      ],
      "text/plain": [
       "<IPython.core.display.Image object>"
      ]
     },
     "metadata": {},
     "output_type": "display_data"
    },
    {
     "name": "stdout",
     "output_type": "stream",
     "text": [
      "645 landorus-incarnate 680 kg\n"
     ]
    },
    {
     "data": {
      "text/html": [
       "<img src=\"https://raw.githubusercontent.com/PokeAPI/sprites/master/sprites/pokemon/645.png\"/>"
      ],
      "text/plain": [
       "<IPython.core.display.Image object>"
      ]
     },
     "metadata": {},
     "output_type": "display_data"
    },
    {
     "name": "stdout",
     "output_type": "stream",
     "text": [
      "646 kyurem 3250 kg\n"
     ]
    },
    {
     "data": {
      "text/html": [
       "<img src=\"https://raw.githubusercontent.com/PokeAPI/sprites/master/sprites/pokemon/646.png\"/>"
      ],
      "text/plain": [
       "<IPython.core.display.Image object>"
      ]
     },
     "metadata": {},
     "output_type": "display_data"
    },
    {
     "name": "stdout",
     "output_type": "stream",
     "text": [
      "647 keldeo-ordinary 485 kg\n"
     ]
    },
    {
     "data": {
      "text/html": [
       "<img src=\"https://raw.githubusercontent.com/PokeAPI/sprites/master/sprites/pokemon/647.png\"/>"
      ],
      "text/plain": [
       "<IPython.core.display.Image object>"
      ]
     },
     "metadata": {},
     "output_type": "display_data"
    },
    {
     "name": "stdout",
     "output_type": "stream",
     "text": [
      "648 meloetta-aria 65 kg\n"
     ]
    },
    {
     "data": {
      "text/html": [
       "<img src=\"https://raw.githubusercontent.com/PokeAPI/sprites/master/sprites/pokemon/648.png\"/>"
      ],
      "text/plain": [
       "<IPython.core.display.Image object>"
      ]
     },
     "metadata": {},
     "output_type": "display_data"
    },
    {
     "name": "stdout",
     "output_type": "stream",
     "text": [
      "649 genesect 825 kg\n"
     ]
    },
    {
     "data": {
      "text/html": [
       "<img src=\"https://raw.githubusercontent.com/PokeAPI/sprites/master/sprites/pokemon/649.png\"/>"
      ],
      "text/plain": [
       "<IPython.core.display.Image object>"
      ]
     },
     "metadata": {},
     "output_type": "display_data"
    },
    {
     "name": "stdout",
     "output_type": "stream",
     "text": [
      "650 chespin 90 kg\n"
     ]
    },
    {
     "data": {
      "text/html": [
       "<img src=\"https://raw.githubusercontent.com/PokeAPI/sprites/master/sprites/pokemon/650.png\"/>"
      ],
      "text/plain": [
       "<IPython.core.display.Image object>"
      ]
     },
     "metadata": {},
     "output_type": "display_data"
    },
    {
     "name": "stdout",
     "output_type": "stream",
     "text": [
      "651 quilladin 290 kg\n"
     ]
    },
    {
     "data": {
      "text/html": [
       "<img src=\"https://raw.githubusercontent.com/PokeAPI/sprites/master/sprites/pokemon/651.png\"/>"
      ],
      "text/plain": [
       "<IPython.core.display.Image object>"
      ]
     },
     "metadata": {},
     "output_type": "display_data"
    },
    {
     "name": "stdout",
     "output_type": "stream",
     "text": [
      "652 chesnaught 900 kg\n"
     ]
    },
    {
     "data": {
      "text/html": [
       "<img src=\"https://raw.githubusercontent.com/PokeAPI/sprites/master/sprites/pokemon/652.png\"/>"
      ],
      "text/plain": [
       "<IPython.core.display.Image object>"
      ]
     },
     "metadata": {},
     "output_type": "display_data"
    },
    {
     "name": "stdout",
     "output_type": "stream",
     "text": [
      "653 fennekin 94 kg\n"
     ]
    },
    {
     "data": {
      "text/html": [
       "<img src=\"https://raw.githubusercontent.com/PokeAPI/sprites/master/sprites/pokemon/653.png\"/>"
      ],
      "text/plain": [
       "<IPython.core.display.Image object>"
      ]
     },
     "metadata": {},
     "output_type": "display_data"
    },
    {
     "name": "stdout",
     "output_type": "stream",
     "text": [
      "654 braixen 145 kg\n"
     ]
    },
    {
     "data": {
      "text/html": [
       "<img src=\"https://raw.githubusercontent.com/PokeAPI/sprites/master/sprites/pokemon/654.png\"/>"
      ],
      "text/plain": [
       "<IPython.core.display.Image object>"
      ]
     },
     "metadata": {},
     "output_type": "display_data"
    },
    {
     "name": "stdout",
     "output_type": "stream",
     "text": [
      "655 delphox 390 kg\n"
     ]
    },
    {
     "data": {
      "text/html": [
       "<img src=\"https://raw.githubusercontent.com/PokeAPI/sprites/master/sprites/pokemon/655.png\"/>"
      ],
      "text/plain": [
       "<IPython.core.display.Image object>"
      ]
     },
     "metadata": {},
     "output_type": "display_data"
    },
    {
     "name": "stdout",
     "output_type": "stream",
     "text": [
      "656 froakie 70 kg\n"
     ]
    },
    {
     "data": {
      "text/html": [
       "<img src=\"https://raw.githubusercontent.com/PokeAPI/sprites/master/sprites/pokemon/656.png\"/>"
      ],
      "text/plain": [
       "<IPython.core.display.Image object>"
      ]
     },
     "metadata": {},
     "output_type": "display_data"
    },
    {
     "name": "stdout",
     "output_type": "stream",
     "text": [
      "657 frogadier 109 kg\n"
     ]
    },
    {
     "data": {
      "text/html": [
       "<img src=\"https://raw.githubusercontent.com/PokeAPI/sprites/master/sprites/pokemon/657.png\"/>"
      ],
      "text/plain": [
       "<IPython.core.display.Image object>"
      ]
     },
     "metadata": {},
     "output_type": "display_data"
    },
    {
     "name": "stdout",
     "output_type": "stream",
     "text": [
      "658 greninja 400 kg\n"
     ]
    },
    {
     "data": {
      "text/html": [
       "<img src=\"https://raw.githubusercontent.com/PokeAPI/sprites/master/sprites/pokemon/658.png\"/>"
      ],
      "text/plain": [
       "<IPython.core.display.Image object>"
      ]
     },
     "metadata": {},
     "output_type": "display_data"
    },
    {
     "name": "stdout",
     "output_type": "stream",
     "text": [
      "659 bunnelby 50 kg\n"
     ]
    },
    {
     "data": {
      "text/html": [
       "<img src=\"https://raw.githubusercontent.com/PokeAPI/sprites/master/sprites/pokemon/659.png\"/>"
      ],
      "text/plain": [
       "<IPython.core.display.Image object>"
      ]
     },
     "metadata": {},
     "output_type": "display_data"
    },
    {
     "name": "stdout",
     "output_type": "stream",
     "text": [
      "660 diggersby 424 kg\n"
     ]
    },
    {
     "data": {
      "text/html": [
       "<img src=\"https://raw.githubusercontent.com/PokeAPI/sprites/master/sprites/pokemon/660.png\"/>"
      ],
      "text/plain": [
       "<IPython.core.display.Image object>"
      ]
     },
     "metadata": {},
     "output_type": "display_data"
    },
    {
     "name": "stdout",
     "output_type": "stream",
     "text": [
      "661 fletchling 17 kg\n"
     ]
    },
    {
     "data": {
      "text/html": [
       "<img src=\"https://raw.githubusercontent.com/PokeAPI/sprites/master/sprites/pokemon/661.png\"/>"
      ],
      "text/plain": [
       "<IPython.core.display.Image object>"
      ]
     },
     "metadata": {},
     "output_type": "display_data"
    },
    {
     "name": "stdout",
     "output_type": "stream",
     "text": [
      "662 fletchinder 160 kg\n"
     ]
    },
    {
     "data": {
      "text/html": [
       "<img src=\"https://raw.githubusercontent.com/PokeAPI/sprites/master/sprites/pokemon/662.png\"/>"
      ],
      "text/plain": [
       "<IPython.core.display.Image object>"
      ]
     },
     "metadata": {},
     "output_type": "display_data"
    },
    {
     "name": "stdout",
     "output_type": "stream",
     "text": [
      "663 talonflame 245 kg\n"
     ]
    },
    {
     "data": {
      "text/html": [
       "<img src=\"https://raw.githubusercontent.com/PokeAPI/sprites/master/sprites/pokemon/663.png\"/>"
      ],
      "text/plain": [
       "<IPython.core.display.Image object>"
      ]
     },
     "metadata": {},
     "output_type": "display_data"
    },
    {
     "name": "stdout",
     "output_type": "stream",
     "text": [
      "664 scatterbug 25 kg\n"
     ]
    },
    {
     "data": {
      "text/html": [
       "<img src=\"https://raw.githubusercontent.com/PokeAPI/sprites/master/sprites/pokemon/664.png\"/>"
      ],
      "text/plain": [
       "<IPython.core.display.Image object>"
      ]
     },
     "metadata": {},
     "output_type": "display_data"
    },
    {
     "name": "stdout",
     "output_type": "stream",
     "text": [
      "665 spewpa 84 kg\n"
     ]
    },
    {
     "data": {
      "text/html": [
       "<img src=\"https://raw.githubusercontent.com/PokeAPI/sprites/master/sprites/pokemon/665.png\"/>"
      ],
      "text/plain": [
       "<IPython.core.display.Image object>"
      ]
     },
     "metadata": {},
     "output_type": "display_data"
    },
    {
     "name": "stdout",
     "output_type": "stream",
     "text": [
      "666 vivillon 170 kg\n"
     ]
    },
    {
     "data": {
      "text/html": [
       "<img src=\"https://raw.githubusercontent.com/PokeAPI/sprites/master/sprites/pokemon/666.png\"/>"
      ],
      "text/plain": [
       "<IPython.core.display.Image object>"
      ]
     },
     "metadata": {},
     "output_type": "display_data"
    },
    {
     "name": "stdout",
     "output_type": "stream",
     "text": [
      "667 litleo 135 kg\n"
     ]
    },
    {
     "data": {
      "text/html": [
       "<img src=\"https://raw.githubusercontent.com/PokeAPI/sprites/master/sprites/pokemon/667.png\"/>"
      ],
      "text/plain": [
       "<IPython.core.display.Image object>"
      ]
     },
     "metadata": {},
     "output_type": "display_data"
    },
    {
     "name": "stdout",
     "output_type": "stream",
     "text": [
      "668 pyroar 815 kg\n"
     ]
    },
    {
     "data": {
      "text/html": [
       "<img src=\"https://raw.githubusercontent.com/PokeAPI/sprites/master/sprites/pokemon/668.png\"/>"
      ],
      "text/plain": [
       "<IPython.core.display.Image object>"
      ]
     },
     "metadata": {},
     "output_type": "display_data"
    },
    {
     "name": "stdout",
     "output_type": "stream",
     "text": [
      "669 flabebe 1 kg\n"
     ]
    },
    {
     "data": {
      "text/html": [
       "<img src=\"https://raw.githubusercontent.com/PokeAPI/sprites/master/sprites/pokemon/669.png\"/>"
      ],
      "text/plain": [
       "<IPython.core.display.Image object>"
      ]
     },
     "metadata": {},
     "output_type": "display_data"
    },
    {
     "name": "stdout",
     "output_type": "stream",
     "text": [
      "670 floette 9 kg\n"
     ]
    },
    {
     "data": {
      "text/html": [
       "<img src=\"https://raw.githubusercontent.com/PokeAPI/sprites/master/sprites/pokemon/670.png\"/>"
      ],
      "text/plain": [
       "<IPython.core.display.Image object>"
      ]
     },
     "metadata": {},
     "output_type": "display_data"
    },
    {
     "name": "stdout",
     "output_type": "stream",
     "text": [
      "671 florges 100 kg\n"
     ]
    },
    {
     "data": {
      "text/html": [
       "<img src=\"https://raw.githubusercontent.com/PokeAPI/sprites/master/sprites/pokemon/671.png\"/>"
      ],
      "text/plain": [
       "<IPython.core.display.Image object>"
      ]
     },
     "metadata": {},
     "output_type": "display_data"
    },
    {
     "name": "stdout",
     "output_type": "stream",
     "text": [
      "672 skiddo 310 kg\n"
     ]
    },
    {
     "data": {
      "text/html": [
       "<img src=\"https://raw.githubusercontent.com/PokeAPI/sprites/master/sprites/pokemon/672.png\"/>"
      ],
      "text/plain": [
       "<IPython.core.display.Image object>"
      ]
     },
     "metadata": {},
     "output_type": "display_data"
    },
    {
     "name": "stdout",
     "output_type": "stream",
     "text": [
      "673 gogoat 910 kg\n"
     ]
    },
    {
     "data": {
      "text/html": [
       "<img src=\"https://raw.githubusercontent.com/PokeAPI/sprites/master/sprites/pokemon/673.png\"/>"
      ],
      "text/plain": [
       "<IPython.core.display.Image object>"
      ]
     },
     "metadata": {},
     "output_type": "display_data"
    },
    {
     "name": "stdout",
     "output_type": "stream",
     "text": [
      "674 pancham 80 kg\n"
     ]
    },
    {
     "data": {
      "text/html": [
       "<img src=\"https://raw.githubusercontent.com/PokeAPI/sprites/master/sprites/pokemon/674.png\"/>"
      ],
      "text/plain": [
       "<IPython.core.display.Image object>"
      ]
     },
     "metadata": {},
     "output_type": "display_data"
    },
    {
     "name": "stdout",
     "output_type": "stream",
     "text": [
      "675 pangoro 1360 kg\n"
     ]
    },
    {
     "data": {
      "text/html": [
       "<img src=\"https://raw.githubusercontent.com/PokeAPI/sprites/master/sprites/pokemon/675.png\"/>"
      ],
      "text/plain": [
       "<IPython.core.display.Image object>"
      ]
     },
     "metadata": {},
     "output_type": "display_data"
    },
    {
     "name": "stdout",
     "output_type": "stream",
     "text": [
      "676 furfrou 280 kg\n"
     ]
    },
    {
     "data": {
      "text/html": [
       "<img src=\"https://raw.githubusercontent.com/PokeAPI/sprites/master/sprites/pokemon/676.png\"/>"
      ],
      "text/plain": [
       "<IPython.core.display.Image object>"
      ]
     },
     "metadata": {},
     "output_type": "display_data"
    },
    {
     "name": "stdout",
     "output_type": "stream",
     "text": [
      "677 espurr 35 kg\n"
     ]
    },
    {
     "data": {
      "text/html": [
       "<img src=\"https://raw.githubusercontent.com/PokeAPI/sprites/master/sprites/pokemon/677.png\"/>"
      ],
      "text/plain": [
       "<IPython.core.display.Image object>"
      ]
     },
     "metadata": {},
     "output_type": "display_data"
    },
    {
     "name": "stdout",
     "output_type": "stream",
     "text": [
      "678 meowstic-male 85 kg\n"
     ]
    },
    {
     "data": {
      "text/html": [
       "<img src=\"https://raw.githubusercontent.com/PokeAPI/sprites/master/sprites/pokemon/678.png\"/>"
      ],
      "text/plain": [
       "<IPython.core.display.Image object>"
      ]
     },
     "metadata": {},
     "output_type": "display_data"
    },
    {
     "name": "stdout",
     "output_type": "stream",
     "text": [
      "679 honedge 20 kg\n"
     ]
    },
    {
     "data": {
      "text/html": [
       "<img src=\"https://raw.githubusercontent.com/PokeAPI/sprites/master/sprites/pokemon/679.png\"/>"
      ],
      "text/plain": [
       "<IPython.core.display.Image object>"
      ]
     },
     "metadata": {},
     "output_type": "display_data"
    },
    {
     "name": "stdout",
     "output_type": "stream",
     "text": [
      "680 doublade 45 kg\n"
     ]
    },
    {
     "data": {
      "text/html": [
       "<img src=\"https://raw.githubusercontent.com/PokeAPI/sprites/master/sprites/pokemon/680.png\"/>"
      ],
      "text/plain": [
       "<IPython.core.display.Image object>"
      ]
     },
     "metadata": {},
     "output_type": "display_data"
    },
    {
     "name": "stdout",
     "output_type": "stream",
     "text": [
      "681 aegislash-shield 530 kg\n"
     ]
    },
    {
     "data": {
      "text/html": [
       "<img src=\"https://raw.githubusercontent.com/PokeAPI/sprites/master/sprites/pokemon/681.png\"/>"
      ],
      "text/plain": [
       "<IPython.core.display.Image object>"
      ]
     },
     "metadata": {},
     "output_type": "display_data"
    },
    {
     "name": "stdout",
     "output_type": "stream",
     "text": [
      "682 spritzee 5 kg\n"
     ]
    },
    {
     "data": {
      "text/html": [
       "<img src=\"https://raw.githubusercontent.com/PokeAPI/sprites/master/sprites/pokemon/682.png\"/>"
      ],
      "text/plain": [
       "<IPython.core.display.Image object>"
      ]
     },
     "metadata": {},
     "output_type": "display_data"
    },
    {
     "name": "stdout",
     "output_type": "stream",
     "text": [
      "683 aromatisse 155 kg\n"
     ]
    },
    {
     "data": {
      "text/html": [
       "<img src=\"https://raw.githubusercontent.com/PokeAPI/sprites/master/sprites/pokemon/683.png\"/>"
      ],
      "text/plain": [
       "<IPython.core.display.Image object>"
      ]
     },
     "metadata": {},
     "output_type": "display_data"
    },
    {
     "name": "stdout",
     "output_type": "stream",
     "text": [
      "684 swirlix 35 kg\n"
     ]
    },
    {
     "data": {
      "text/html": [
       "<img src=\"https://raw.githubusercontent.com/PokeAPI/sprites/master/sprites/pokemon/684.png\"/>"
      ],
      "text/plain": [
       "<IPython.core.display.Image object>"
      ]
     },
     "metadata": {},
     "output_type": "display_data"
    },
    {
     "name": "stdout",
     "output_type": "stream",
     "text": [
      "685 slurpuff 50 kg\n"
     ]
    },
    {
     "data": {
      "text/html": [
       "<img src=\"https://raw.githubusercontent.com/PokeAPI/sprites/master/sprites/pokemon/685.png\"/>"
      ],
      "text/plain": [
       "<IPython.core.display.Image object>"
      ]
     },
     "metadata": {},
     "output_type": "display_data"
    },
    {
     "name": "stdout",
     "output_type": "stream",
     "text": [
      "686 inkay 35 kg\n"
     ]
    },
    {
     "data": {
      "text/html": [
       "<img src=\"https://raw.githubusercontent.com/PokeAPI/sprites/master/sprites/pokemon/686.png\"/>"
      ],
      "text/plain": [
       "<IPython.core.display.Image object>"
      ]
     },
     "metadata": {},
     "output_type": "display_data"
    },
    {
     "ename": "KeyboardInterrupt",
     "evalue": "",
     "output_type": "error",
     "traceback": [
      "\u001b[31m---------------------------------------------------------------------------\u001b[39m",
      "\u001b[31mKeyboardInterrupt\u001b[39m                         Traceback (most recent call last)",
      "\u001b[36mCell\u001b[39m\u001b[36m \u001b[39m\u001b[32mIn[14]\u001b[39m\u001b[32m, line 1\u001b[39m\n\u001b[32m----> \u001b[39m\u001b[32m1\u001b[39m [print_pokemon(\u001b[43mget_pokemon\u001b[49m\u001b[43m(\u001b[49m\u001b[43mi\u001b[49m\u001b[43m+\u001b[49m\u001b[32;43m1\u001b[39;49m\u001b[43m)\u001b[49m) \u001b[38;5;28;01mfor\u001b[39;00m i \u001b[38;5;129;01min\u001b[39;00m \u001b[38;5;28mrange\u001b[39m(\u001b[32m1000\u001b[39m)]\n",
      "\u001b[36mCell\u001b[39m\u001b[36m \u001b[39m\u001b[32mIn[9]\u001b[39m\u001b[32m, line 2\u001b[39m, in \u001b[36mget_pokemon\u001b[39m\u001b[34m(id_number)\u001b[39m\n\u001b[32m      1\u001b[39m \u001b[38;5;28;01mdef\u001b[39;00m\u001b[38;5;250m \u001b[39m\u001b[34mget_pokemon\u001b[39m(id_number):\n\u001b[32m----> \u001b[39m\u001b[32m2\u001b[39m     res=\u001b[43mrequests\u001b[49m\u001b[43m.\u001b[49m\u001b[43mget\u001b[49m\u001b[43m(\u001b[49m\u001b[33;43m'\u001b[39;49m\u001b[33;43mhttps://pokeapi.co/api/v2/pokemon/\u001b[39;49m\u001b[38;5;132;43;01m{}\u001b[39;49;00m\u001b[33;43m'\u001b[39;49m\u001b[43m.\u001b[49m\u001b[43mformat\u001b[49m\u001b[43m(\u001b[49m\u001b[43mid_number\u001b[49m\u001b[43m)\u001b[49m\u001b[43m)\u001b[49m\n\u001b[32m      4\u001b[39m     \u001b[38;5;28;01mif\u001b[39;00m(res.status_code==\u001b[32m200\u001b[39m):\n\u001b[32m      5\u001b[39m         data = res.json()\n",
      "\u001b[36mFile \u001b[39m\u001b[32m~/PycharmProjects/DS_2025_ICK/.venv/lib/python3.12/site-packages/requests/api.py:73\u001b[39m, in \u001b[36mget\u001b[39m\u001b[34m(url, params, **kwargs)\u001b[39m\n\u001b[32m     62\u001b[39m \u001b[38;5;28;01mdef\u001b[39;00m\u001b[38;5;250m \u001b[39m\u001b[34mget\u001b[39m(url, params=\u001b[38;5;28;01mNone\u001b[39;00m, **kwargs):\n\u001b[32m     63\u001b[39m \u001b[38;5;250m    \u001b[39m\u001b[33mr\u001b[39m\u001b[33;03m\"\"\"Sends a GET request.\u001b[39;00m\n\u001b[32m     64\u001b[39m \n\u001b[32m     65\u001b[39m \u001b[33;03m    :param url: URL for the new :class:`Request` object.\u001b[39;00m\n\u001b[32m   (...)\u001b[39m\u001b[32m     70\u001b[39m \u001b[33;03m    :rtype: requests.Response\u001b[39;00m\n\u001b[32m     71\u001b[39m \u001b[33;03m    \"\"\"\u001b[39;00m\n\u001b[32m---> \u001b[39m\u001b[32m73\u001b[39m     \u001b[38;5;28;01mreturn\u001b[39;00m \u001b[43mrequest\u001b[49m\u001b[43m(\u001b[49m\u001b[33;43m\"\u001b[39;49m\u001b[33;43mget\u001b[39;49m\u001b[33;43m\"\u001b[39;49m\u001b[43m,\u001b[49m\u001b[43m \u001b[49m\u001b[43murl\u001b[49m\u001b[43m,\u001b[49m\u001b[43m \u001b[49m\u001b[43mparams\u001b[49m\u001b[43m=\u001b[49m\u001b[43mparams\u001b[49m\u001b[43m,\u001b[49m\u001b[43m \u001b[49m\u001b[43m*\u001b[49m\u001b[43m*\u001b[49m\u001b[43mkwargs\u001b[49m\u001b[43m)\u001b[49m\n",
      "\u001b[36mFile \u001b[39m\u001b[32m~/PycharmProjects/DS_2025_ICK/.venv/lib/python3.12/site-packages/requests/api.py:59\u001b[39m, in \u001b[36mrequest\u001b[39m\u001b[34m(method, url, **kwargs)\u001b[39m\n\u001b[32m     55\u001b[39m \u001b[38;5;66;03m# By using the 'with' statement we are sure the session is closed, thus we\u001b[39;00m\n\u001b[32m     56\u001b[39m \u001b[38;5;66;03m# avoid leaving sockets open which can trigger a ResourceWarning in some\u001b[39;00m\n\u001b[32m     57\u001b[39m \u001b[38;5;66;03m# cases, and look like a memory leak in others.\u001b[39;00m\n\u001b[32m     58\u001b[39m \u001b[38;5;28;01mwith\u001b[39;00m sessions.Session() \u001b[38;5;28;01mas\u001b[39;00m session:\n\u001b[32m---> \u001b[39m\u001b[32m59\u001b[39m     \u001b[38;5;28;01mreturn\u001b[39;00m \u001b[43msession\u001b[49m\u001b[43m.\u001b[49m\u001b[43mrequest\u001b[49m\u001b[43m(\u001b[49m\u001b[43mmethod\u001b[49m\u001b[43m=\u001b[49m\u001b[43mmethod\u001b[49m\u001b[43m,\u001b[49m\u001b[43m \u001b[49m\u001b[43murl\u001b[49m\u001b[43m=\u001b[49m\u001b[43murl\u001b[49m\u001b[43m,\u001b[49m\u001b[43m \u001b[49m\u001b[43m*\u001b[49m\u001b[43m*\u001b[49m\u001b[43mkwargs\u001b[49m\u001b[43m)\u001b[49m\n",
      "\u001b[36mFile \u001b[39m\u001b[32m~/PycharmProjects/DS_2025_ICK/.venv/lib/python3.12/site-packages/requests/sessions.py:589\u001b[39m, in \u001b[36mSession.request\u001b[39m\u001b[34m(self, method, url, params, data, headers, cookies, files, auth, timeout, allow_redirects, proxies, hooks, stream, verify, cert, json)\u001b[39m\n\u001b[32m    584\u001b[39m send_kwargs = {\n\u001b[32m    585\u001b[39m     \u001b[33m\"\u001b[39m\u001b[33mtimeout\u001b[39m\u001b[33m\"\u001b[39m: timeout,\n\u001b[32m    586\u001b[39m     \u001b[33m\"\u001b[39m\u001b[33mallow_redirects\u001b[39m\u001b[33m\"\u001b[39m: allow_redirects,\n\u001b[32m    587\u001b[39m }\n\u001b[32m    588\u001b[39m send_kwargs.update(settings)\n\u001b[32m--> \u001b[39m\u001b[32m589\u001b[39m resp = \u001b[38;5;28;43mself\u001b[39;49m\u001b[43m.\u001b[49m\u001b[43msend\u001b[49m\u001b[43m(\u001b[49m\u001b[43mprep\u001b[49m\u001b[43m,\u001b[49m\u001b[43m \u001b[49m\u001b[43m*\u001b[49m\u001b[43m*\u001b[49m\u001b[43msend_kwargs\u001b[49m\u001b[43m)\u001b[49m\n\u001b[32m    591\u001b[39m \u001b[38;5;28;01mreturn\u001b[39;00m resp\n",
      "\u001b[36mFile \u001b[39m\u001b[32m~/PycharmProjects/DS_2025_ICK/.venv/lib/python3.12/site-packages/requests/sessions.py:703\u001b[39m, in \u001b[36mSession.send\u001b[39m\u001b[34m(self, request, **kwargs)\u001b[39m\n\u001b[32m    700\u001b[39m start = preferred_clock()\n\u001b[32m    702\u001b[39m \u001b[38;5;66;03m# Send the request\u001b[39;00m\n\u001b[32m--> \u001b[39m\u001b[32m703\u001b[39m r = \u001b[43madapter\u001b[49m\u001b[43m.\u001b[49m\u001b[43msend\u001b[49m\u001b[43m(\u001b[49m\u001b[43mrequest\u001b[49m\u001b[43m,\u001b[49m\u001b[43m \u001b[49m\u001b[43m*\u001b[49m\u001b[43m*\u001b[49m\u001b[43mkwargs\u001b[49m\u001b[43m)\u001b[49m\n\u001b[32m    705\u001b[39m \u001b[38;5;66;03m# Total elapsed time of the request (approximately)\u001b[39;00m\n\u001b[32m    706\u001b[39m elapsed = preferred_clock() - start\n",
      "\u001b[36mFile \u001b[39m\u001b[32m~/PycharmProjects/DS_2025_ICK/.venv/lib/python3.12/site-packages/requests/adapters.py:667\u001b[39m, in \u001b[36mHTTPAdapter.send\u001b[39m\u001b[34m(self, request, stream, timeout, verify, cert, proxies)\u001b[39m\n\u001b[32m    664\u001b[39m     timeout = TimeoutSauce(connect=timeout, read=timeout)\n\u001b[32m    666\u001b[39m \u001b[38;5;28;01mtry\u001b[39;00m:\n\u001b[32m--> \u001b[39m\u001b[32m667\u001b[39m     resp = \u001b[43mconn\u001b[49m\u001b[43m.\u001b[49m\u001b[43murlopen\u001b[49m\u001b[43m(\u001b[49m\n\u001b[32m    668\u001b[39m \u001b[43m        \u001b[49m\u001b[43mmethod\u001b[49m\u001b[43m=\u001b[49m\u001b[43mrequest\u001b[49m\u001b[43m.\u001b[49m\u001b[43mmethod\u001b[49m\u001b[43m,\u001b[49m\n\u001b[32m    669\u001b[39m \u001b[43m        \u001b[49m\u001b[43murl\u001b[49m\u001b[43m=\u001b[49m\u001b[43murl\u001b[49m\u001b[43m,\u001b[49m\n\u001b[32m    670\u001b[39m \u001b[43m        \u001b[49m\u001b[43mbody\u001b[49m\u001b[43m=\u001b[49m\u001b[43mrequest\u001b[49m\u001b[43m.\u001b[49m\u001b[43mbody\u001b[49m\u001b[43m,\u001b[49m\n\u001b[32m    671\u001b[39m \u001b[43m        \u001b[49m\u001b[43mheaders\u001b[49m\u001b[43m=\u001b[49m\u001b[43mrequest\u001b[49m\u001b[43m.\u001b[49m\u001b[43mheaders\u001b[49m\u001b[43m,\u001b[49m\n\u001b[32m    672\u001b[39m \u001b[43m        \u001b[49m\u001b[43mredirect\u001b[49m\u001b[43m=\u001b[49m\u001b[38;5;28;43;01mFalse\u001b[39;49;00m\u001b[43m,\u001b[49m\n\u001b[32m    673\u001b[39m \u001b[43m        \u001b[49m\u001b[43massert_same_host\u001b[49m\u001b[43m=\u001b[49m\u001b[38;5;28;43;01mFalse\u001b[39;49;00m\u001b[43m,\u001b[49m\n\u001b[32m    674\u001b[39m \u001b[43m        \u001b[49m\u001b[43mpreload_content\u001b[49m\u001b[43m=\u001b[49m\u001b[38;5;28;43;01mFalse\u001b[39;49;00m\u001b[43m,\u001b[49m\n\u001b[32m    675\u001b[39m \u001b[43m        \u001b[49m\u001b[43mdecode_content\u001b[49m\u001b[43m=\u001b[49m\u001b[38;5;28;43;01mFalse\u001b[39;49;00m\u001b[43m,\u001b[49m\n\u001b[32m    676\u001b[39m \u001b[43m        \u001b[49m\u001b[43mretries\u001b[49m\u001b[43m=\u001b[49m\u001b[38;5;28;43mself\u001b[39;49m\u001b[43m.\u001b[49m\u001b[43mmax_retries\u001b[49m\u001b[43m,\u001b[49m\n\u001b[32m    677\u001b[39m \u001b[43m        \u001b[49m\u001b[43mtimeout\u001b[49m\u001b[43m=\u001b[49m\u001b[43mtimeout\u001b[49m\u001b[43m,\u001b[49m\n\u001b[32m    678\u001b[39m \u001b[43m        \u001b[49m\u001b[43mchunked\u001b[49m\u001b[43m=\u001b[49m\u001b[43mchunked\u001b[49m\u001b[43m,\u001b[49m\n\u001b[32m    679\u001b[39m \u001b[43m    \u001b[49m\u001b[43m)\u001b[49m\n\u001b[32m    681\u001b[39m \u001b[38;5;28;01mexcept\u001b[39;00m (ProtocolError, \u001b[38;5;167;01mOSError\u001b[39;00m) \u001b[38;5;28;01mas\u001b[39;00m err:\n\u001b[32m    682\u001b[39m     \u001b[38;5;28;01mraise\u001b[39;00m \u001b[38;5;167;01mConnectionError\u001b[39;00m(err, request=request)\n",
      "\u001b[36mFile \u001b[39m\u001b[32m~/PycharmProjects/DS_2025_ICK/.venv/lib/python3.12/site-packages/urllib3/connectionpool.py:787\u001b[39m, in \u001b[36mHTTPConnectionPool.urlopen\u001b[39m\u001b[34m(self, method, url, body, headers, retries, redirect, assert_same_host, timeout, pool_timeout, release_conn, chunked, body_pos, preload_content, decode_content, **response_kw)\u001b[39m\n\u001b[32m    784\u001b[39m response_conn = conn \u001b[38;5;28;01mif\u001b[39;00m \u001b[38;5;129;01mnot\u001b[39;00m release_conn \u001b[38;5;28;01melse\u001b[39;00m \u001b[38;5;28;01mNone\u001b[39;00m\n\u001b[32m    786\u001b[39m \u001b[38;5;66;03m# Make the request on the HTTPConnection object\u001b[39;00m\n\u001b[32m--> \u001b[39m\u001b[32m787\u001b[39m response = \u001b[38;5;28;43mself\u001b[39;49m\u001b[43m.\u001b[49m\u001b[43m_make_request\u001b[49m\u001b[43m(\u001b[49m\n\u001b[32m    788\u001b[39m \u001b[43m    \u001b[49m\u001b[43mconn\u001b[49m\u001b[43m,\u001b[49m\n\u001b[32m    789\u001b[39m \u001b[43m    \u001b[49m\u001b[43mmethod\u001b[49m\u001b[43m,\u001b[49m\n\u001b[32m    790\u001b[39m \u001b[43m    \u001b[49m\u001b[43murl\u001b[49m\u001b[43m,\u001b[49m\n\u001b[32m    791\u001b[39m \u001b[43m    \u001b[49m\u001b[43mtimeout\u001b[49m\u001b[43m=\u001b[49m\u001b[43mtimeout_obj\u001b[49m\u001b[43m,\u001b[49m\n\u001b[32m    792\u001b[39m \u001b[43m    \u001b[49m\u001b[43mbody\u001b[49m\u001b[43m=\u001b[49m\u001b[43mbody\u001b[49m\u001b[43m,\u001b[49m\n\u001b[32m    793\u001b[39m \u001b[43m    \u001b[49m\u001b[43mheaders\u001b[49m\u001b[43m=\u001b[49m\u001b[43mheaders\u001b[49m\u001b[43m,\u001b[49m\n\u001b[32m    794\u001b[39m \u001b[43m    \u001b[49m\u001b[43mchunked\u001b[49m\u001b[43m=\u001b[49m\u001b[43mchunked\u001b[49m\u001b[43m,\u001b[49m\n\u001b[32m    795\u001b[39m \u001b[43m    \u001b[49m\u001b[43mretries\u001b[49m\u001b[43m=\u001b[49m\u001b[43mretries\u001b[49m\u001b[43m,\u001b[49m\n\u001b[32m    796\u001b[39m \u001b[43m    \u001b[49m\u001b[43mresponse_conn\u001b[49m\u001b[43m=\u001b[49m\u001b[43mresponse_conn\u001b[49m\u001b[43m,\u001b[49m\n\u001b[32m    797\u001b[39m \u001b[43m    \u001b[49m\u001b[43mpreload_content\u001b[49m\u001b[43m=\u001b[49m\u001b[43mpreload_content\u001b[49m\u001b[43m,\u001b[49m\n\u001b[32m    798\u001b[39m \u001b[43m    \u001b[49m\u001b[43mdecode_content\u001b[49m\u001b[43m=\u001b[49m\u001b[43mdecode_content\u001b[49m\u001b[43m,\u001b[49m\n\u001b[32m    799\u001b[39m \u001b[43m    \u001b[49m\u001b[43m*\u001b[49m\u001b[43m*\u001b[49m\u001b[43mresponse_kw\u001b[49m\u001b[43m,\u001b[49m\n\u001b[32m    800\u001b[39m \u001b[43m\u001b[49m\u001b[43m)\u001b[49m\n\u001b[32m    802\u001b[39m \u001b[38;5;66;03m# Everything went great!\u001b[39;00m\n\u001b[32m    803\u001b[39m clean_exit = \u001b[38;5;28;01mTrue\u001b[39;00m\n",
      "\u001b[36mFile \u001b[39m\u001b[32m~/PycharmProjects/DS_2025_ICK/.venv/lib/python3.12/site-packages/urllib3/connectionpool.py:464\u001b[39m, in \u001b[36mHTTPConnectionPool._make_request\u001b[39m\u001b[34m(self, conn, method, url, body, headers, retries, timeout, chunked, response_conn, preload_content, decode_content, enforce_content_length)\u001b[39m\n\u001b[32m    461\u001b[39m \u001b[38;5;28;01mtry\u001b[39;00m:\n\u001b[32m    462\u001b[39m     \u001b[38;5;66;03m# Trigger any extra validation we need to do.\u001b[39;00m\n\u001b[32m    463\u001b[39m     \u001b[38;5;28;01mtry\u001b[39;00m:\n\u001b[32m--> \u001b[39m\u001b[32m464\u001b[39m         \u001b[38;5;28;43mself\u001b[39;49m\u001b[43m.\u001b[49m\u001b[43m_validate_conn\u001b[49m\u001b[43m(\u001b[49m\u001b[43mconn\u001b[49m\u001b[43m)\u001b[49m\n\u001b[32m    465\u001b[39m     \u001b[38;5;28;01mexcept\u001b[39;00m (SocketTimeout, BaseSSLError) \u001b[38;5;28;01mas\u001b[39;00m e:\n\u001b[32m    466\u001b[39m         \u001b[38;5;28mself\u001b[39m._raise_timeout(err=e, url=url, timeout_value=conn.timeout)\n",
      "\u001b[36mFile \u001b[39m\u001b[32m~/PycharmProjects/DS_2025_ICK/.venv/lib/python3.12/site-packages/urllib3/connectionpool.py:1093\u001b[39m, in \u001b[36mHTTPSConnectionPool._validate_conn\u001b[39m\u001b[34m(self, conn)\u001b[39m\n\u001b[32m   1091\u001b[39m \u001b[38;5;66;03m# Force connect early to allow us to validate the connection.\u001b[39;00m\n\u001b[32m   1092\u001b[39m \u001b[38;5;28;01mif\u001b[39;00m conn.is_closed:\n\u001b[32m-> \u001b[39m\u001b[32m1093\u001b[39m     \u001b[43mconn\u001b[49m\u001b[43m.\u001b[49m\u001b[43mconnect\u001b[49m\u001b[43m(\u001b[49m\u001b[43m)\u001b[49m\n\u001b[32m   1095\u001b[39m \u001b[38;5;66;03m# TODO revise this, see https://github.com/urllib3/urllib3/issues/2791\u001b[39;00m\n\u001b[32m   1096\u001b[39m \u001b[38;5;28;01mif\u001b[39;00m \u001b[38;5;129;01mnot\u001b[39;00m conn.is_verified \u001b[38;5;129;01mand\u001b[39;00m \u001b[38;5;129;01mnot\u001b[39;00m conn.proxy_is_verified:\n",
      "\u001b[36mFile \u001b[39m\u001b[32m~/PycharmProjects/DS_2025_ICK/.venv/lib/python3.12/site-packages/urllib3/connection.py:741\u001b[39m, in \u001b[36mHTTPSConnection.connect\u001b[39m\u001b[34m(self)\u001b[39m\n\u001b[32m    738\u001b[39m     \u001b[38;5;66;03m# Remove trailing '.' from fqdn hostnames to allow certificate validation\u001b[39;00m\n\u001b[32m    739\u001b[39m     server_hostname_rm_dot = server_hostname.rstrip(\u001b[33m\"\u001b[39m\u001b[33m.\u001b[39m\u001b[33m\"\u001b[39m)\n\u001b[32m--> \u001b[39m\u001b[32m741\u001b[39m     sock_and_verified = \u001b[43m_ssl_wrap_socket_and_match_hostname\u001b[49m\u001b[43m(\u001b[49m\n\u001b[32m    742\u001b[39m \u001b[43m        \u001b[49m\u001b[43msock\u001b[49m\u001b[43m=\u001b[49m\u001b[43msock\u001b[49m\u001b[43m,\u001b[49m\n\u001b[32m    743\u001b[39m \u001b[43m        \u001b[49m\u001b[43mcert_reqs\u001b[49m\u001b[43m=\u001b[49m\u001b[38;5;28;43mself\u001b[39;49m\u001b[43m.\u001b[49m\u001b[43mcert_reqs\u001b[49m\u001b[43m,\u001b[49m\n\u001b[32m    744\u001b[39m \u001b[43m        \u001b[49m\u001b[43mssl_version\u001b[49m\u001b[43m=\u001b[49m\u001b[38;5;28;43mself\u001b[39;49m\u001b[43m.\u001b[49m\u001b[43mssl_version\u001b[49m\u001b[43m,\u001b[49m\n\u001b[32m    745\u001b[39m \u001b[43m        \u001b[49m\u001b[43mssl_minimum_version\u001b[49m\u001b[43m=\u001b[49m\u001b[38;5;28;43mself\u001b[39;49m\u001b[43m.\u001b[49m\u001b[43mssl_minimum_version\u001b[49m\u001b[43m,\u001b[49m\n\u001b[32m    746\u001b[39m \u001b[43m        \u001b[49m\u001b[43mssl_maximum_version\u001b[49m\u001b[43m=\u001b[49m\u001b[38;5;28;43mself\u001b[39;49m\u001b[43m.\u001b[49m\u001b[43mssl_maximum_version\u001b[49m\u001b[43m,\u001b[49m\n\u001b[32m    747\u001b[39m \u001b[43m        \u001b[49m\u001b[43mca_certs\u001b[49m\u001b[43m=\u001b[49m\u001b[38;5;28;43mself\u001b[39;49m\u001b[43m.\u001b[49m\u001b[43mca_certs\u001b[49m\u001b[43m,\u001b[49m\n\u001b[32m    748\u001b[39m \u001b[43m        \u001b[49m\u001b[43mca_cert_dir\u001b[49m\u001b[43m=\u001b[49m\u001b[38;5;28;43mself\u001b[39;49m\u001b[43m.\u001b[49m\u001b[43mca_cert_dir\u001b[49m\u001b[43m,\u001b[49m\n\u001b[32m    749\u001b[39m \u001b[43m        \u001b[49m\u001b[43mca_cert_data\u001b[49m\u001b[43m=\u001b[49m\u001b[38;5;28;43mself\u001b[39;49m\u001b[43m.\u001b[49m\u001b[43mca_cert_data\u001b[49m\u001b[43m,\u001b[49m\n\u001b[32m    750\u001b[39m \u001b[43m        \u001b[49m\u001b[43mcert_file\u001b[49m\u001b[43m=\u001b[49m\u001b[38;5;28;43mself\u001b[39;49m\u001b[43m.\u001b[49m\u001b[43mcert_file\u001b[49m\u001b[43m,\u001b[49m\n\u001b[32m    751\u001b[39m \u001b[43m        \u001b[49m\u001b[43mkey_file\u001b[49m\u001b[43m=\u001b[49m\u001b[38;5;28;43mself\u001b[39;49m\u001b[43m.\u001b[49m\u001b[43mkey_file\u001b[49m\u001b[43m,\u001b[49m\n\u001b[32m    752\u001b[39m \u001b[43m        \u001b[49m\u001b[43mkey_password\u001b[49m\u001b[43m=\u001b[49m\u001b[38;5;28;43mself\u001b[39;49m\u001b[43m.\u001b[49m\u001b[43mkey_password\u001b[49m\u001b[43m,\u001b[49m\n\u001b[32m    753\u001b[39m \u001b[43m        \u001b[49m\u001b[43mserver_hostname\u001b[49m\u001b[43m=\u001b[49m\u001b[43mserver_hostname_rm_dot\u001b[49m\u001b[43m,\u001b[49m\n\u001b[32m    754\u001b[39m \u001b[43m        \u001b[49m\u001b[43mssl_context\u001b[49m\u001b[43m=\u001b[49m\u001b[38;5;28;43mself\u001b[39;49m\u001b[43m.\u001b[49m\u001b[43mssl_context\u001b[49m\u001b[43m,\u001b[49m\n\u001b[32m    755\u001b[39m \u001b[43m        \u001b[49m\u001b[43mtls_in_tls\u001b[49m\u001b[43m=\u001b[49m\u001b[43mtls_in_tls\u001b[49m\u001b[43m,\u001b[49m\n\u001b[32m    756\u001b[39m \u001b[43m        \u001b[49m\u001b[43massert_hostname\u001b[49m\u001b[43m=\u001b[49m\u001b[38;5;28;43mself\u001b[39;49m\u001b[43m.\u001b[49m\u001b[43massert_hostname\u001b[49m\u001b[43m,\u001b[49m\n\u001b[32m    757\u001b[39m \u001b[43m        \u001b[49m\u001b[43massert_fingerprint\u001b[49m\u001b[43m=\u001b[49m\u001b[38;5;28;43mself\u001b[39;49m\u001b[43m.\u001b[49m\u001b[43massert_fingerprint\u001b[49m\u001b[43m,\u001b[49m\n\u001b[32m    758\u001b[39m \u001b[43m    \u001b[49m\u001b[43m)\u001b[49m\n\u001b[32m    759\u001b[39m     \u001b[38;5;28mself\u001b[39m.sock = sock_and_verified.socket\n\u001b[32m    761\u001b[39m \u001b[38;5;66;03m# If an error occurs during connection/handshake we may need to release\u001b[39;00m\n\u001b[32m    762\u001b[39m \u001b[38;5;66;03m# our lock so another connection can probe the origin.\u001b[39;00m\n",
      "\u001b[36mFile \u001b[39m\u001b[32m~/PycharmProjects/DS_2025_ICK/.venv/lib/python3.12/site-packages/urllib3/connection.py:920\u001b[39m, in \u001b[36m_ssl_wrap_socket_and_match_hostname\u001b[39m\u001b[34m(sock, cert_reqs, ssl_version, ssl_minimum_version, ssl_maximum_version, cert_file, key_file, key_password, ca_certs, ca_cert_dir, ca_cert_data, assert_hostname, assert_fingerprint, server_hostname, ssl_context, tls_in_tls)\u001b[39m\n\u001b[32m    917\u001b[39m     \u001b[38;5;28;01mif\u001b[39;00m is_ipaddress(normalized):\n\u001b[32m    918\u001b[39m         server_hostname = normalized\n\u001b[32m--> \u001b[39m\u001b[32m920\u001b[39m ssl_sock = \u001b[43mssl_wrap_socket\u001b[49m\u001b[43m(\u001b[49m\n\u001b[32m    921\u001b[39m \u001b[43m    \u001b[49m\u001b[43msock\u001b[49m\u001b[43m=\u001b[49m\u001b[43msock\u001b[49m\u001b[43m,\u001b[49m\n\u001b[32m    922\u001b[39m \u001b[43m    \u001b[49m\u001b[43mkeyfile\u001b[49m\u001b[43m=\u001b[49m\u001b[43mkey_file\u001b[49m\u001b[43m,\u001b[49m\n\u001b[32m    923\u001b[39m \u001b[43m    \u001b[49m\u001b[43mcertfile\u001b[49m\u001b[43m=\u001b[49m\u001b[43mcert_file\u001b[49m\u001b[43m,\u001b[49m\n\u001b[32m    924\u001b[39m \u001b[43m    \u001b[49m\u001b[43mkey_password\u001b[49m\u001b[43m=\u001b[49m\u001b[43mkey_password\u001b[49m\u001b[43m,\u001b[49m\n\u001b[32m    925\u001b[39m \u001b[43m    \u001b[49m\u001b[43mca_certs\u001b[49m\u001b[43m=\u001b[49m\u001b[43mca_certs\u001b[49m\u001b[43m,\u001b[49m\n\u001b[32m    926\u001b[39m \u001b[43m    \u001b[49m\u001b[43mca_cert_dir\u001b[49m\u001b[43m=\u001b[49m\u001b[43mca_cert_dir\u001b[49m\u001b[43m,\u001b[49m\n\u001b[32m    927\u001b[39m \u001b[43m    \u001b[49m\u001b[43mca_cert_data\u001b[49m\u001b[43m=\u001b[49m\u001b[43mca_cert_data\u001b[49m\u001b[43m,\u001b[49m\n\u001b[32m    928\u001b[39m \u001b[43m    \u001b[49m\u001b[43mserver_hostname\u001b[49m\u001b[43m=\u001b[49m\u001b[43mserver_hostname\u001b[49m\u001b[43m,\u001b[49m\n\u001b[32m    929\u001b[39m \u001b[43m    \u001b[49m\u001b[43mssl_context\u001b[49m\u001b[43m=\u001b[49m\u001b[43mcontext\u001b[49m\u001b[43m,\u001b[49m\n\u001b[32m    930\u001b[39m \u001b[43m    \u001b[49m\u001b[43mtls_in_tls\u001b[49m\u001b[43m=\u001b[49m\u001b[43mtls_in_tls\u001b[49m\u001b[43m,\u001b[49m\n\u001b[32m    931\u001b[39m \u001b[43m\u001b[49m\u001b[43m)\u001b[49m\n\u001b[32m    933\u001b[39m \u001b[38;5;28;01mtry\u001b[39;00m:\n\u001b[32m    934\u001b[39m     \u001b[38;5;28;01mif\u001b[39;00m assert_fingerprint:\n",
      "\u001b[36mFile \u001b[39m\u001b[32m~/PycharmProjects/DS_2025_ICK/.venv/lib/python3.12/site-packages/urllib3/util/ssl_.py:480\u001b[39m, in \u001b[36mssl_wrap_socket\u001b[39m\u001b[34m(sock, keyfile, certfile, cert_reqs, ca_certs, server_hostname, ssl_version, ciphers, ssl_context, ca_cert_dir, key_password, ca_cert_data, tls_in_tls)\u001b[39m\n\u001b[32m    476\u001b[39m         context.load_cert_chain(certfile, keyfile, key_password)\n\u001b[32m    478\u001b[39m context.set_alpn_protocols(ALPN_PROTOCOLS)\n\u001b[32m--> \u001b[39m\u001b[32m480\u001b[39m ssl_sock = \u001b[43m_ssl_wrap_socket_impl\u001b[49m\u001b[43m(\u001b[49m\u001b[43msock\u001b[49m\u001b[43m,\u001b[49m\u001b[43m \u001b[49m\u001b[43mcontext\u001b[49m\u001b[43m,\u001b[49m\u001b[43m \u001b[49m\u001b[43mtls_in_tls\u001b[49m\u001b[43m,\u001b[49m\u001b[43m \u001b[49m\u001b[43mserver_hostname\u001b[49m\u001b[43m)\u001b[49m\n\u001b[32m    481\u001b[39m \u001b[38;5;28;01mreturn\u001b[39;00m ssl_sock\n",
      "\u001b[36mFile \u001b[39m\u001b[32m~/PycharmProjects/DS_2025_ICK/.venv/lib/python3.12/site-packages/urllib3/util/ssl_.py:524\u001b[39m, in \u001b[36m_ssl_wrap_socket_impl\u001b[39m\u001b[34m(sock, ssl_context, tls_in_tls, server_hostname)\u001b[39m\n\u001b[32m    521\u001b[39m     SSLTransport._validate_ssl_context_for_tls_in_tls(ssl_context)\n\u001b[32m    522\u001b[39m     \u001b[38;5;28;01mreturn\u001b[39;00m SSLTransport(sock, ssl_context, server_hostname)\n\u001b[32m--> \u001b[39m\u001b[32m524\u001b[39m \u001b[38;5;28;01mreturn\u001b[39;00m \u001b[43mssl_context\u001b[49m\u001b[43m.\u001b[49m\u001b[43mwrap_socket\u001b[49m\u001b[43m(\u001b[49m\u001b[43msock\u001b[49m\u001b[43m,\u001b[49m\u001b[43m \u001b[49m\u001b[43mserver_hostname\u001b[49m\u001b[43m=\u001b[49m\u001b[43mserver_hostname\u001b[49m\u001b[43m)\u001b[49m\n",
      "\u001b[36mFile \u001b[39m\u001b[32m/usr/lib/python3.12/ssl.py:455\u001b[39m, in \u001b[36mSSLContext.wrap_socket\u001b[39m\u001b[34m(self, sock, server_side, do_handshake_on_connect, suppress_ragged_eofs, server_hostname, session)\u001b[39m\n\u001b[32m    449\u001b[39m \u001b[38;5;28;01mdef\u001b[39;00m\u001b[38;5;250m \u001b[39m\u001b[34mwrap_socket\u001b[39m(\u001b[38;5;28mself\u001b[39m, sock, server_side=\u001b[38;5;28;01mFalse\u001b[39;00m,\n\u001b[32m    450\u001b[39m                 do_handshake_on_connect=\u001b[38;5;28;01mTrue\u001b[39;00m,\n\u001b[32m    451\u001b[39m                 suppress_ragged_eofs=\u001b[38;5;28;01mTrue\u001b[39;00m,\n\u001b[32m    452\u001b[39m                 server_hostname=\u001b[38;5;28;01mNone\u001b[39;00m, session=\u001b[38;5;28;01mNone\u001b[39;00m):\n\u001b[32m    453\u001b[39m     \u001b[38;5;66;03m# SSLSocket class handles server_hostname encoding before it calls\u001b[39;00m\n\u001b[32m    454\u001b[39m     \u001b[38;5;66;03m# ctx._wrap_socket()\u001b[39;00m\n\u001b[32m--> \u001b[39m\u001b[32m455\u001b[39m     \u001b[38;5;28;01mreturn\u001b[39;00m \u001b[38;5;28;43mself\u001b[39;49m\u001b[43m.\u001b[49m\u001b[43msslsocket_class\u001b[49m\u001b[43m.\u001b[49m\u001b[43m_create\u001b[49m\u001b[43m(\u001b[49m\n\u001b[32m    456\u001b[39m \u001b[43m        \u001b[49m\u001b[43msock\u001b[49m\u001b[43m=\u001b[49m\u001b[43msock\u001b[49m\u001b[43m,\u001b[49m\n\u001b[32m    457\u001b[39m \u001b[43m        \u001b[49m\u001b[43mserver_side\u001b[49m\u001b[43m=\u001b[49m\u001b[43mserver_side\u001b[49m\u001b[43m,\u001b[49m\n\u001b[32m    458\u001b[39m \u001b[43m        \u001b[49m\u001b[43mdo_handshake_on_connect\u001b[49m\u001b[43m=\u001b[49m\u001b[43mdo_handshake_on_connect\u001b[49m\u001b[43m,\u001b[49m\n\u001b[32m    459\u001b[39m \u001b[43m        \u001b[49m\u001b[43msuppress_ragged_eofs\u001b[49m\u001b[43m=\u001b[49m\u001b[43msuppress_ragged_eofs\u001b[49m\u001b[43m,\u001b[49m\n\u001b[32m    460\u001b[39m \u001b[43m        \u001b[49m\u001b[43mserver_hostname\u001b[49m\u001b[43m=\u001b[49m\u001b[43mserver_hostname\u001b[49m\u001b[43m,\u001b[49m\n\u001b[32m    461\u001b[39m \u001b[43m        \u001b[49m\u001b[43mcontext\u001b[49m\u001b[43m=\u001b[49m\u001b[38;5;28;43mself\u001b[39;49m\u001b[43m,\u001b[49m\n\u001b[32m    462\u001b[39m \u001b[43m        \u001b[49m\u001b[43msession\u001b[49m\u001b[43m=\u001b[49m\u001b[43msession\u001b[49m\n\u001b[32m    463\u001b[39m \u001b[43m    \u001b[49m\u001b[43m)\u001b[49m\n",
      "\u001b[36mFile \u001b[39m\u001b[32m/usr/lib/python3.12/ssl.py:1042\u001b[39m, in \u001b[36mSSLSocket._create\u001b[39m\u001b[34m(cls, sock, server_side, do_handshake_on_connect, suppress_ragged_eofs, server_hostname, context, session)\u001b[39m\n\u001b[32m   1039\u001b[39m             \u001b[38;5;28;01mif\u001b[39;00m timeout == \u001b[32m0.0\u001b[39m:\n\u001b[32m   1040\u001b[39m                 \u001b[38;5;66;03m# non-blocking\u001b[39;00m\n\u001b[32m   1041\u001b[39m                 \u001b[38;5;28;01mraise\u001b[39;00m \u001b[38;5;167;01mValueError\u001b[39;00m(\u001b[33m\"\u001b[39m\u001b[33mdo_handshake_on_connect should not be specified for non-blocking sockets\u001b[39m\u001b[33m\"\u001b[39m)\n\u001b[32m-> \u001b[39m\u001b[32m1042\u001b[39m             \u001b[38;5;28;43mself\u001b[39;49m\u001b[43m.\u001b[49m\u001b[43mdo_handshake\u001b[49m\u001b[43m(\u001b[49m\u001b[43m)\u001b[49m\n\u001b[32m   1043\u001b[39m \u001b[38;5;28;01mexcept\u001b[39;00m:\n\u001b[32m   1044\u001b[39m     \u001b[38;5;28;01mtry\u001b[39;00m:\n",
      "\u001b[36mFile \u001b[39m\u001b[32m/usr/lib/python3.12/ssl.py:1320\u001b[39m, in \u001b[36mSSLSocket.do_handshake\u001b[39m\u001b[34m(self, block)\u001b[39m\n\u001b[32m   1318\u001b[39m     \u001b[38;5;28;01mif\u001b[39;00m timeout == \u001b[32m0.0\u001b[39m \u001b[38;5;129;01mand\u001b[39;00m block:\n\u001b[32m   1319\u001b[39m         \u001b[38;5;28mself\u001b[39m.settimeout(\u001b[38;5;28;01mNone\u001b[39;00m)\n\u001b[32m-> \u001b[39m\u001b[32m1320\u001b[39m     \u001b[38;5;28;43mself\u001b[39;49m\u001b[43m.\u001b[49m\u001b[43m_sslobj\u001b[49m\u001b[43m.\u001b[49m\u001b[43mdo_handshake\u001b[49m\u001b[43m(\u001b[49m\u001b[43m)\u001b[49m\n\u001b[32m   1321\u001b[39m \u001b[38;5;28;01mfinally\u001b[39;00m:\n\u001b[32m   1322\u001b[39m     \u001b[38;5;28mself\u001b[39m.settimeout(timeout)\n",
      "\u001b[31mKeyboardInterrupt\u001b[39m: "
     ]
    }
   ],
   "source": [
    "[print_pokemon(get_pokemon(i+1)) for i in range(1000)]"
   ]
  },
  {
   "cell_type": "markdown",
   "id": "8ee586a7-a55f-4c14-b3cf-55745308fe84",
   "metadata": {},
   "source": [
    "#### json_normalize()"
   ]
  },
  {
   "cell_type": "markdown",
   "id": "8ca157cb-530d-49de-9286-f072b3e295e4",
   "metadata": {},
   "source": [
    "Want the data as a DataFrame instead of a dictionary?"
   ]
  },
  {
   "cell_type": "markdown",
   "id": "9672696a-3e67-4af5-af41-10270e1209b1",
   "metadata": {},
   "source": [
    "The following line creates a DataFrame from the items of the dictionary data. Each key-value pair will be treated as a row, with two columns: the first for the key and the second for the value."
   ]
  },
  {
   "cell_type": "code",
   "execution_count": null,
   "id": "5455a1bd-a158-4111-9841-750add5b2708",
   "metadata": {},
   "outputs": [],
   "source": [
    "df = pd.DataFrame(data.items())\n",
    "df"
   ]
  },
  {
   "cell_type": "markdown",
   "id": "175094a5-2fcd-4956-8fb4-e0d59f701ffe",
   "metadata": {},
   "source": [
    "That format is still very hard to work with. Lets use `json_normalize` instead. `json_normalize` is used to normalize semi-structured JSON data into a flat table (DataFrame). It's particularly useful when dealing with nested dictionaries or lists inside JSON."
   ]
  },
  {
   "cell_type": "code",
   "execution_count": null,
   "id": "def72654-66aa-41cd-900b-d55fae54894d",
   "metadata": {},
   "outputs": [],
   "source": [
    "df = pd.json_normalize(data)\n",
    "df"
   ]
  },
  {
   "cell_type": "markdown",
   "id": "a879ab4b-1a2e-42f7-8a4b-4bf2c4e8687c",
   "metadata": {},
   "source": [
    "A lot better, even though we still have nested dictionaries or lists inside the dataframe.\n",
    "\n",
    "Let's see again the difference between creating a dataframe directly or using `json_normalize` by using `data[\"abilities\"]`."
   ]
  },
  {
   "cell_type": "code",
   "execution_count": null,
   "id": "96389cbb-ee4f-4495-ae45-91de38ccc1fa",
   "metadata": {},
   "outputs": [],
   "source": [
    "pd.DataFrame(data[\"abilities\"])"
   ]
  },
  {
   "cell_type": "code",
   "execution_count": null,
   "id": "04997d49-0438-40e5-b0cf-6244405aa55e",
   "metadata": {},
   "outputs": [],
   "source": [
    "pd.json_normalize(data[\"abilities\"])"
   ]
  },
  {
   "cell_type": "markdown",
   "id": "4680fda5-270d-45e9-ab0f-abebcfe09088",
   "metadata": {},
   "source": [
    "### Coincap API"
   ]
  },
  {
   "cell_type": "markdown",
   "id": "d43ce6fe-baf5-42da-9e40-d31f2c8e3b27",
   "metadata": {},
   "source": [
    "CoinCap is a useful tool for real-time pricing and market activity for over 1,000 cryptocurrencies. Check the documentation at https://docs.coincap.io/"
   ]
  },
  {
   "cell_type": "code",
   "execution_count": null,
   "id": "bdfda195-9de8-4e2c-8b01-63161db18060",
   "metadata": {},
   "outputs": [],
   "source": [
    "url = \"http://api.coincap.io/v2/assets\""
   ]
  },
  {
   "cell_type": "code",
   "execution_count": null,
   "id": "8cdd990d-cf9b-4bdc-bbd9-cb038685efd5",
   "metadata": {},
   "outputs": [],
   "source": [
    "response = requests.get(url)"
   ]
  },
  {
   "cell_type": "code",
   "execution_count": null,
   "id": "1ea53c95-0868-4440-80ba-13f492e4da6f",
   "metadata": {},
   "outputs": [],
   "source": [
    "print(response)"
   ]
  },
  {
   "cell_type": "code",
   "execution_count": null,
   "id": "8873ba49-0849-40f9-903d-9e49451de9ee",
   "metadata": {},
   "outputs": [],
   "source": [
    "res = response.json()"
   ]
  },
  {
   "cell_type": "code",
   "execution_count": null,
   "id": "17605693-433c-4581-813a-136209c382e3",
   "metadata": {},
   "outputs": [],
   "source": [
    "res # it returns a dictionary with all the data"
   ]
  },
  {
   "cell_type": "code",
   "execution_count": null,
   "id": "b56de457-e978-468c-b752-97000ce71baa",
   "metadata": {},
   "outputs": [],
   "source": [
    "# Again, let's try to have it as a dataframe\n",
    "data = pd.DataFrame(res[\"data\"])\n",
    "data.head()"
   ]
  },
  {
   "cell_type": "code",
   "execution_count": null,
   "id": "2e264ce5-5f90-49f2-8888-78b64808a3ba",
   "metadata": {},
   "outputs": [],
   "source": [
    "# Lets see if the result would differ in this case using json_normalize\n",
    "pd.json_normalize(res[\"data\"])"
   ]
  },
  {
   "cell_type": "markdown",
   "id": "52dfaadb-dd5f-4b7d-a832-c101e4d7c80a",
   "metadata": {},
   "source": [
    "### Api Jokes\n",
    "\n",
    "JokeAPI is a REST API that serves uniformly and well formatted jokes.\n",
    "It can be used without any API token, membership, registration or payment.\n",
    "It supports a variety of filters that can be applied to get just the right jokes you need.\n",
    "Check the documentation here: https://jokeapi.dev/ "
   ]
  },
  {
   "cell_type": "code",
   "execution_count": null,
   "id": "e897b2d9-088c-47fd-9d58-fefec4332150",
   "metadata": {},
   "outputs": [],
   "source": [
    "url_random_joke = \"https://v2.jokeapi.dev/joke/dark?amount=3\"\n",
    "request = requests.get(url_random_joke).json()\n",
    "request"
   ]
  },
  {
   "cell_type": "markdown",
   "id": "bd07c567-1d95-428a-8ac9-9f9909457c49",
   "metadata": {
    "lang": "en"
   },
   "source": [
    "### 💡 Check for understanding\n"
   ]
  },
  {
   "cell_type": "markdown",
   "id": "08d0de37-f0e9-4249-a1f2-3e9c091f83da",
   "metadata": {},
   "source": [
    "Choose one API from the [Public APIs list](https://github.com/public-apis/public-apis). Attempt to call your selected API, either with or without parameters, and retrieve some valuable information. Document your findings."
   ]
  },
  {
   "cell_type": "code",
   "execution_count": null,
   "id": "c8f7e8a5-31b7-4444-a80f-8a94dd85e2eb",
   "metadata": {},
   "outputs": [],
   "source": [
    "# Your answer goes here"
   ]
  },
  {
   "cell_type": "markdown",
   "id": "10d38405-f1bd-464f-a319-4a5f29a4cdc2",
   "metadata": {},
   "source": [
    "## API Wrappers\n",
    "\n",
    "A Python wrapper is a Python library or module that provides a more convenient or more \"Pythonic\" interface to another software component, such as a library in another language, a system tool, or a web API. It \"wraps\" the functionality of that component in a way that abstracts away its complexities and makes it easier to use in a Python context. 🙌🏻\n",
    "\n",
    "One example is the `tweepy` library, which makes obtaining data from Twitter's API relatively straightforward."
   ]
  },
  {
   "cell_type": "markdown",
   "id": "796f214d-01cc-46d1-a020-d4bb8d256799",
   "metadata": {},
   "source": [
    "## Summary\n",
    "- Import the `requests` library.\n",
    "- Store the necessary credentials, such as API key or OAuth tokens, if the API requires them.\n",
    "- Execute a `request.get` to the desired API endpoint (the API's documentation will provide details on available endpoints).\n",
    "- The API returns a JSON response.\n",
    "- This JSON can be converted into a dataframe, or you can further explore its elements (typically a list of dictionaries)."
   ]
  },
  {
   "cell_type": "markdown",
   "id": "092ff771-4d9a-4d84-98c6-db652fe4ff72",
   "metadata": {},
   "source": [
    "## Glossary"
   ]
  },
  {
   "cell_type": "markdown",
   "id": "32ca2f95-7c09-4481-8897-0b0533dba4c9",
   "metadata": {},
   "source": [
    "* DNS: domain name system.\n",
    "* HTTP: is the protocol used to transfer data over the web.\n",
    "* API: application programming interface.\n",
    "* REST: series of rules, architectural style."
   ]
  },
  {
   "cell_type": "markdown",
   "id": "12ba250f-82d7-450b-9038-0f32013dbaf5",
   "metadata": {},
   "source": [
    "* `requests`: Python library for interacting with APIs.\n",
    "* URL: server name you want to ask information for.\n",
    "* endpoint: server service you want to ask information for.\n",
    "* parameters: extra parameters to your query.\n",
    "* headers: metadata, invisible information."
   ]
  },
  {
   "cell_type": "markdown",
   "id": "df2580ce-5fa4-4716-a1f1-3d6c8edd9673",
   "metadata": {},
   "source": [
    "## Further materials"
   ]
  },
  {
   "cell_type": "markdown",
   "id": "cdae6b8f-bed4-47f8-b9ae-3d8e24e8aba6",
   "metadata": {},
   "source": [
    "[5 Simple-To-Use APIs for Beginners](https://dev.to/alanconstantino/5-simple-to-use-apis-for-beginners-2e0n)"
   ]
  },
  {
   "cell_type": "markdown",
   "id": "3e747420-7bb6-4ea7-a5d9-e05c90fafd32",
   "metadata": {},
   "source": [
    "[RapidAPI](https://rapidapi.com/category/Sports): access thousands of APIs."
   ]
  }
 ],
 "metadata": {
  "kernelspec": {
   "display_name": ".venv",
   "language": "python",
   "name": "python3"
  },
  "language_info": {
   "codemirror_mode": {
    "name": "ipython",
    "version": 3
   },
   "file_extension": ".py",
   "mimetype": "text/x-python",
   "name": "python",
   "nbconvert_exporter": "python",
   "pygments_lexer": "ipython3",
   "version": "3.12.3"
  },
  "toc": {
   "base_numbering": 1,
   "nav_menu": {},
   "number_sections": true,
   "sideBar": true,
   "skip_h1_title": false,
   "title_cell": "Table of Contents",
   "title_sidebar": "Contents",
   "toc_cell": true,
   "toc_position": {},
   "toc_section_display": true,
   "toc_window_display": false
  }
 },
 "nbformat": 4,
 "nbformat_minor": 5
}
