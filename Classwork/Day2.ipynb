{
 "cells": [
  {
   "cell_type": "markdown",
   "metadata": {},
   "source": [
    "## task 1 \n",
    "create a prgogram that ask a user to enter age and print child if they are underage adult b/w 18 to 60 "
   ]
  },
  {
   "cell_type": "code",
   "execution_count": null,
   "metadata": {},
   "outputs": [
    {
     "name": "stdout",
     "output_type": "stream",
     "text": [
      "Enter the age of Person:  \n",
      "\n",
      "The age of person is :  67\n"
     ]
    }
   ],
   "source": [
    "#Program to find the age group of person\n",
    "\n",
    "print(\"Enter the age of Person:  \\n\")\n",
    "age = int(input())\n",
    "print(\"The age of person is : \",age)\n"
   ]
  },
  {
   "cell_type": "code",
   "execution_count": 12,
   "metadata": {},
   "outputs": [
    {
     "name": "stdout",
     "output_type": "stream",
     "text": [
      "The person is senior citizen: 67\n"
     ]
    }
   ],
   "source": [
    "#applying conditioanl statement \n",
    "if age < 18 :\n",
    "    print(\"The person is child underage (18 yrs):\",age)\n",
    "elif age>= 18 and age <60:\n",
    "    print(\"The person is adult:\",age)\n",
    "    if age <= 40:\n",
    "        print(\"The person is young adult age under 40:\",age)\n",
    "    else: \n",
    "        print(\"The person is middle-aged adult:\",age)\n",
    "else:\n",
    "    print(\"The person is senior citizen:\",age)"
   ]
  },
  {
   "cell_type": "markdown",
   "metadata": {},
   "source": [
    "For loop\n"
   ]
  },
  {
   "cell_type": "code",
   "execution_count": null,
   "metadata": {},
   "outputs": [],
   "source": [
    "#"
   ]
  }
 ],
 "metadata": {
  "kernelspec": {
   "display_name": ".venv",
   "language": "python",
   "name": "python3"
  },
  "language_info": {
   "codemirror_mode": {
    "name": "ipython",
    "version": 3
   },
   "file_extension": ".py",
   "mimetype": "text/x-python",
   "name": "python",
   "nbconvert_exporter": "python",
   "pygments_lexer": "ipython3",
   "version": "3.12.3"
  }
 },
 "nbformat": 4,
 "nbformat_minor": 2
}
