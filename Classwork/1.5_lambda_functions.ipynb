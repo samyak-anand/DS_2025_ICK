{
 "cells": [
  {
   "cell_type": "markdown",
   "id": "f0f777b0",
   "metadata": {
    "toc": true
   },
   "source": [
    "<h1>Table of Contents<span class=\"tocSkip\"></span></h1>\n",
    "<div class=\"toc\"><ul class=\"toc-item\"><li><span><a href=\"#Lambda-Functions\" data-toc-modified-id=\"Lambda-Functions-1\"><span class=\"toc-item-num\">1&nbsp;&nbsp;</span>Lambda Functions</a></span><ul class=\"toc-item\"><li><span><a href=\"#Summary\" data-toc-modified-id=\"Summary-1.1\"><span class=\"toc-item-num\">1.1&nbsp;&nbsp;</span>Summary</a></span></li></ul></li><li><span><a href=\"#Higher-Order-Functions:-Map,-Filter,-Reduce\" data-toc-modified-id=\"Higher-Order-Functions:-Map,-Filter,-Reduce-2\"><span class=\"toc-item-num\">2&nbsp;&nbsp;</span>Higher-Order Functions: Map, Filter, Reduce</a></span><ul class=\"toc-item\"><li><ul class=\"toc-item\"><li><span><a href=\"#Map\" data-toc-modified-id=\"Map-2.0.1\"><span class=\"toc-item-num\">2.0.1&nbsp;&nbsp;</span>Map</a></span><ul class=\"toc-item\"><li><span><a href=\"#Extra:-let's-do-it-with-lambda!\" data-toc-modified-id=\"Extra:-let's-do-it-with-lambda!-2.0.1.1\"><span class=\"toc-item-num\">2.0.1.1&nbsp;&nbsp;</span>Extra: let's do it with lambda!</a></span></li><li><span><a href=\"#💡-Check-for-understanding\" data-toc-modified-id=\"💡-Check-for-understanding-2.0.1.2\"><span class=\"toc-item-num\">2.0.1.2&nbsp;&nbsp;</span>💡 Check for understanding</a></span></li></ul></li><li><span><a href=\"#Filter\" data-toc-modified-id=\"Filter-2.0.2\"><span class=\"toc-item-num\">2.0.2&nbsp;&nbsp;</span>Filter</a></span><ul class=\"toc-item\"><li><span><a href=\"#💡-Check-for-understanding\" data-toc-modified-id=\"💡-Check-for-understanding-2.0.2.1\"><span class=\"toc-item-num\">2.0.2.1&nbsp;&nbsp;</span>💡 Check for understanding</a></span></li></ul></li><li><span><a href=\"#Reduce\" data-toc-modified-id=\"Reduce-2.0.3\"><span class=\"toc-item-num\">2.0.3&nbsp;&nbsp;</span>Reduce</a></span><ul class=\"toc-item\"><li><span><a href=\"#What-happened?\" data-toc-modified-id=\"What-happened?-2.0.3.1\"><span class=\"toc-item-num\">2.0.3.1&nbsp;&nbsp;</span>What happened?</a></span></li><li><span><a href=\"#💡-Check-for-understanding\" data-toc-modified-id=\"💡-Check-for-understanding-2.0.3.2\"><span class=\"toc-item-num\">2.0.3.2&nbsp;&nbsp;</span>💡 Check for understanding</a></span></li></ul></li></ul></li><li><span><a href=\"#Summary\" data-toc-modified-id=\"Summary-2.1\"><span class=\"toc-item-num\">2.1&nbsp;&nbsp;</span>Summary</a></span></li><li><span><a href=\"#Further-materials\" data-toc-modified-id=\"Further-materials-2.2\"><span class=\"toc-item-num\">2.2&nbsp;&nbsp;</span>Further materials</a></span></li></ul></li></ul></div>"
   ]
  },
  {
   "cell_type": "markdown",
   "id": "50011e88-750d-43f1-b6a4-91f427b5de03",
   "metadata": {
    "lang": "en"
   },
   "source": [
    "# Lambda Functions\n",
    "Lambda functions, also known as anonymous functions, are small, single-line functions in Python.\n",
    "\n",
    "They are created using the `lambda` keyword and are used when you need a quick and short function for a specific task without defining a formal function using the `def` keyword.\n",
    "\n",
    "**Syntax of a lambda**\n",
    "```python\n",
    "lambda arguments: expression(arguments)\n",
    "```\n",
    "\n",
    "It can also have default values:\n",
    "\n",
    "```python\n",
    "lambda param1, param2='default_value': expression(param1, param2)\n",
    "```\n",
    "\n",
    "Explanation:\n",
    "- `arguments`: The parameters (inputs) for the function, separated by commas (optional).\n",
    "- `expression`: The single expression that represents the function's logic.\n",
    "\n",
    "\n",
    "\n",
    "\n"
   ]
  },
  {
   "cell_type": "markdown",
   "id": "8e9bfbbc-6f30-4070-a774-9d6592320220",
   "metadata": {},
   "source": [
    "![](https://github.com/data-bootcamp-v4/lessons/blob/main/img/lambda.png?raw=true)"
   ]
  },
  {
   "cell_type": "markdown",
   "id": "c0684d5b-5b9d-41e8-84d2-9ccca82b86c3",
   "metadata": {},
   "source": [
    "**Lambda examples**"
   ]
  },
  {
   "cell_type": "markdown",
   "id": "761ce445-986d-44d6-a0d6-a04a2362d813",
   "metadata": {},
   "source": [
    "Example: Adding two numbers using a lambda function"
   ]
  },
  {
   "cell_type": "code",
   "execution_count": null,
   "id": "dc70ffce-9efb-4afe-88bc-b2f634d9b3f9",
   "metadata": {},
   "outputs": [],
   "source": [
    "add "
   ]
  },
  {
   "cell_type": "markdown",
   "id": "8134eb36-15d8-495c-9ce7-820906f5193e",
   "metadata": {},
   "source": [
    "Example: Sorting a list of tuples based on the second element using a lambda function"
   ]
  },
  {
   "cell_type": "code",
   "execution_count": null,
   "id": "30479827-f39e-4f7c-8dd5-9e3c7bd23bc0",
   "metadata": {},
   "outputs": [],
   "source": []
  },
  {
   "cell_type": "markdown",
   "id": "58ab0634-3e39-4f1e-beec-2af7a372e5c0",
   "metadata": {},
   "source": [
    "Example: If number greater than 5, then say \"Hi\" otherwise say \"Hello\""
   ]
  },
  {
   "cell_type": "code",
   "execution_count": null,
   "id": "9a05b634-d567-434f-b6c5-6c83dac45429",
   "metadata": {},
   "outputs": [],
   "source": []
  },
  {
   "cell_type": "markdown",
   "id": "c3da4f44-52ea-43a0-a2f0-46b2dda6ff0d",
   "metadata": {
    "jp-MarkdownHeadingCollapsed": true,
    "tags": []
   },
   "source": [
    "## Summary\n",
    "    - no name\n",
    "    - in-line\n",
    "    - on the spot\n",
    "    - not re-usable (unless you save them)\n",
    "    - they can take many parameters"
   ]
  },
  {
   "cell_type": "markdown",
   "id": "95974520-156c-4e83-853e-8997cdc93193",
   "metadata": {},
   "source": [
    "# Higher-Order Functions: Map, Filter, Reduce"
   ]
  },
  {
   "cell_type": "markdown",
   "id": "5e72efed-a030-4f6d-9d8f-74b5add4fbb5",
   "metadata": {},
   "source": [
    "Lambda functions are handy when you need a simple function for a short-lived task or as an argument to higher-order functions like map, filter, reduce and sorted."
   ]
  },
  {
   "cell_type": "markdown",
   "id": "a8a21137-95d8-4f46-8a37-4ac0c4b1406d",
   "metadata": {},
   "source": [
    "Higher-order functions are functions that take one or more functions as arguments or return a function as a result. "
   ]
  },
  {
   "cell_type": "markdown",
   "id": "e5f275cc-31bc-4f44-bb7f-5bce097407aa",
   "metadata": {},
   "source": [
    "### Map"
   ]
  },
  {
   "cell_type": "markdown",
   "id": "bd8c26fb-5ef3-448e-bbed-a075cb59eb8f",
   "metadata": {
    "lang": "en"
   },
   "source": [
    "The map() function takes a function and an iterable (such as a list) as arguments and applies the function to each element of the iterable, returning a new iterator with the results.\n",
    "\n",
    "```python\n",
    "map(function_to_apply, iterable)\n",
    "```"
   ]
  },
  {
   "cell_type": "markdown",
   "id": "14717a0d-c149-410c-9276-64d07f1b7a1a",
   "metadata": {},
   "source": [
    "```\n",
    "Note: An iterator is an object that produces values one at a time, allowing sequential access without knowing the underlying data structure. \n",
    "It can be used with loops or built-in functions like `next()` to retrieve the next value from the sequence until it is exhausted.\n",
    "```"
   ]
  },
  {
   "cell_type": "markdown",
   "id": "687c14e9-ce4a-45da-8b76-ddecc1f08057",
   "metadata": {},
   "source": [
    "![](https://github.com/data-bootcamp-v4/lessons/blob/main/img/map.png?raw=true)"
   ]
  },
  {
   "cell_type": "code",
   "execution_count": null,
   "id": "79b16b14-e834-4704-9ddd-227ddf20eb7d",
   "metadata": {},
   "outputs": [],
   "source": []
  },
  {
   "cell_type": "markdown",
   "id": "1786f90f-1123-4c63-b7ae-97eefcbe2574",
   "metadata": {},
   "source": [
    "```\n",
    "Map needs a defined function, it can be defined by me / built-in. Saves the trouble of creating a for loop!\n",
    "```"
   ]
  },
  {
   "cell_type": "markdown",
   "id": "dbc1907b-a9df-4bb6-be78-8940ec00291b",
   "metadata": {
    "lang": "en"
   },
   "source": [
    "The map function returns an iterator, so we have to use `list(map_iterator)`"
   ]
  },
  {
   "cell_type": "markdown",
   "id": "02997b68",
   "metadata": {},
   "source": [
    "##### usign the lsit \"number \", create a  new list with stirngds insrad  of integers and with a! added at the end of each string\n"
   ]
  },
  {
   "cell_type": "code",
   "execution_count": 1,
   "id": "ca479f75",
   "metadata": {},
   "outputs": [
    {
     "name": "stdout",
     "output_type": "stream",
     "text": [
      "['1!', '2!', '2!', '4!', '90!', '235!', '6!', '7!', '8!']\n"
     ]
    }
   ],
   "source": [
    "##### usign the lsit \"number \", create a  new list with stirngds insrad  of integers and with a! added at the end of each string using lambda function\n",
    "number=[1,2,2,4,90,235,6,7,8]\n",
    "new_list=list(map(lambda x: str(x)+\"!\",number))\n",
    "print(new_list)"
   ]
  },
  {
   "cell_type": "markdown",
   "id": "4f2d55b2-df16-44fa-919c-28883da77e4b",
   "metadata": {
    "lang": "en"
   },
   "source": [
    "#### Extra: let's do it with lambda!"
   ]
  },
  {
   "cell_type": "code",
   "execution_count": 10,
   "id": "d0417756-972d-4909-85ab-3ea0eeaf7290",
   "metadata": {},
   "outputs": [
    {
     "data": {
      "text/plain": [
       "[7, 8, 22]"
      ]
     },
     "execution_count": 10,
     "metadata": {},
     "output_type": "execute_result"
    }
   ],
   "source": [
    "a_dict= {\n",
    "    'a':5,\n",
    "    'v':10,\n",
    "    'c':20\n",
    "}\n",
    "list(map(lambda x:x^2,a_dict.values()))"
   ]
  },
  {
   "cell_type": "markdown",
   "id": "2571b520-439f-416b-959f-c1a231afcd9b",
   "metadata": {},
   "source": [
    "Use map and lambda to make the following list uppercase."
   ]
  },
  {
   "cell_type": "code",
   "execution_count": 13,
   "id": "3ed5cc3d-9001-412b-99a0-b891538d2a97",
   "metadata": {},
   "outputs": [
    {
     "name": "stdout",
     "output_type": "stream",
     "text": [
      "[4, 16, 32]\n",
      "[43, 66, 4443, 224, 6343]\n"
     ]
    },
    {
     "data": {
      "text/plain": [
       "[47, 82, 4475]"
      ]
     },
     "execution_count": 13,
     "metadata": {},
     "output_type": "execute_result"
    }
   ],
   "source": [
    "x=[4,16,32]\n",
    "print(x)\n",
    "y=[43,66,4443,224,6343]\n",
    "print(y)\n",
    "newlist_2_argument= list(map(lambda x,y: x+y, x,y))\n",
    "newlist_2_argument"
   ]
  },
  {
   "cell_type": "markdown",
   "id": "47e5d5b1-ee30-4ccb-add0-633129a35d33",
   "metadata": {},
   "source": [
    "We can use more than one parameter in map, but number of arguments for the function should match the number of iterables"
   ]
  },
  {
   "cell_type": "code",
   "execution_count": null,
   "id": "f3821978",
   "metadata": {},
   "outputs": [],
   "source": []
  },
  {
   "cell_type": "markdown",
   "id": "a909a9aa-4cad-495c-975d-ea17f7394912",
   "metadata": {},
   "source": [
    "#### 💡 Check for understanding"
   ]
  },
  {
   "cell_type": "markdown",
   "id": "0d79f08d-f8e1-40ef-a1a2-beff12ca9f8e",
   "metadata": {},
   "source": [
    "Do the same with lambda."
   ]
  },
  {
   "cell_type": "code",
   "execution_count": null,
   "id": "5dc238ec-2801-47fc-ae8b-bc083b4dd56e",
   "metadata": {},
   "outputs": [],
   "source": [
    "# Your code goes here"
   ]
  },
  {
   "cell_type": "markdown",
   "id": "b5139f56-04e1-4ca8-a270-9fe03307845d",
   "metadata": {},
   "source": [
    "### Filter"
   ]
  },
  {
   "cell_type": "markdown",
   "id": "c908137b-67f7-4855-899f-de29c1d0b8b8",
   "metadata": {
    "lang": "en"
   },
   "source": [
    "The filter() function takes a function and an iterable as arguments and returns an iterator with the elements for which the function returns True.\n",
    "\n",
    "```python\n",
    "filter(a_function, iterable)\n",
    "```"
   ]
  },
  {
   "cell_type": "markdown",
   "id": "a17c5120-c0b6-4844-b193-e60b775169c8",
   "metadata": {
    "lang": "en"
   },
   "source": [
    "Imagine you want to filter a list of numbers to get only even values."
   ]
  },
  {
   "cell_type": "code",
   "execution_count": null,
   "id": "58681af9-de17-4b7f-954e-6b82b21a0f06",
   "metadata": {},
   "outputs": [],
   "source": []
  },
  {
   "cell_type": "markdown",
   "id": "6ef7b41e-bcb2-4adf-8f31-eb09f406d520",
   "metadata": {},
   "source": [
    "Now, let's filter the following list of strings to only have those that start with \"B\"."
   ]
  },
  {
   "cell_type": "code",
   "execution_count": 20,
   "id": "0458413b-4073-4b6f-a413-237f3efaea14",
   "metadata": {},
   "outputs": [],
   "source": [
    "composers = [\n",
    "    \"Mozart\",\n",
    "    \"Beethoven\",\n",
    "    \"Bach\",\n",
    "    \"Tchaikovsky\",\n",
    "    \"Brahms\",\n",
    "    \"Schubert\",\n",
    "    \"Vivaldi\",\n",
    "    \"Verdi\",\n",
    "    \"Debussy\"\n",
    "]"
   ]
  },
  {
   "cell_type": "code",
   "execution_count": 23,
   "id": "3ad631bc-2b05-4a75-b5ea-23a052563382",
   "metadata": {},
   "outputs": [
    {
     "data": {
      "text/plain": [
       "['Beethoven', 'Bach', 'Brahms']"
      ]
     },
     "execution_count": 23,
     "metadata": {},
     "output_type": "execute_result"
    }
   ],
   "source": [
    "new_lsit=[]\n",
    "compose_new= list(filter(lambda x: x.title().startswith(\"B\"),composers))\n",
    "compose_new"
   ]
  },
  {
   "cell_type": "markdown",
   "id": "1ecdd328-a659-42d0-a189-e9341a19c2bd",
   "metadata": {},
   "source": [
    "#### 💡 Check for understanding"
   ]
  },
  {
   "cell_type": "markdown",
   "id": "e33feba6-5b10-4440-a706-bc4cd40791cf",
   "metadata": {},
   "source": [
    "Now do it with lambda! To make it a bit harder, also add the condition that the name is shorter than 7 characters."
   ]
  },
  {
   "cell_type": "code",
   "execution_count": 24,
   "id": "8040209d-a393-47cd-8235-6df73a6e7713",
   "metadata": {},
   "outputs": [
    {
     "data": {
      "text/plain": [
       "['Mozart',\n",
       " 'Beethoven',\n",
       " 'Bach',\n",
       " 'Tchaikovsky',\n",
       " 'Brahms',\n",
       " 'Schubert',\n",
       " 'Vivaldi',\n",
       " 'Verdi',\n",
       " 'Debussy']"
      ]
     },
     "execution_count": 24,
     "metadata": {},
     "output_type": "execute_result"
    }
   ],
   "source": [
    "# Your code goes here\n",
    "cmp_list_new = []\n",
    "cmp_list_new =list(filter(lambda x: len(composers)>7, composers))\n",
    "cmp_list_new"
   ]
  },
  {
   "cell_type": "markdown",
   "id": "94ec44d9-314b-4040-bd30-11bed2110061",
   "metadata": {
    "lang": "en"
   },
   "source": [
    "### Reduce"
   ]
  },
  {
   "cell_type": "markdown",
   "id": "be5ea359-69cf-4e80-b88d-af504cddb949",
   "metadata": {},
   "source": [
    "The reduce() function is not a built-in function in Python. It is available in the functools module, which means you must first import the functools library to use it.\n",
    "\n",
    "It applies a function cumulatively to the elements of an iterable, reducing it to a single value."
   ]
  },
  {
   "cell_type": "markdown",
   "id": "220db4b6-5e77-4078-9884-68fe085626fd",
   "metadata": {
    "lang": "en"
   },
   "source": [
    "```python\n",
    "reduce(function, iterable[, initial])\n",
    "```"
   ]
  },
  {
   "cell_type": "markdown",
   "id": "e838a99b-95b1-4581-bf8d-4b3436e9a9f3",
   "metadata": {},
   "source": [
    "![](https://github.com/data-bootcamp-v4/lessons/blob/main/img/reduce.png?raw=true)"
   ]
  },
  {
   "cell_type": "code",
   "execution_count": null,
   "id": "9a0c8981-56e2-499e-abb3-9146ee067dc3",
   "metadata": {},
   "outputs": [],
   "source": [
    "# start: list /iterable\n",
    "# finishing with a value: just one thing\n",
    "\n",
    "# map & filter -> iterable to iterable\n",
    "# reduce -> iterable to number"
   ]
  },
  {
   "cell_type": "code",
   "execution_count": 19,
   "id": "800f95c5",
   "metadata": {},
   "outputs": [
    {
     "data": {
      "text/plain": [
       "[2, 54, 40]"
      ]
     },
     "execution_count": 19,
     "metadata": {},
     "output_type": "execute_result"
    }
   ],
   "source": [
    "number=[1,2,3,5,3,54,40,23]\n",
    "iseven=list(filter(lambda x: x%2==0,number))\n",
    "iseven"
   ]
  },
  {
   "cell_type": "markdown",
   "id": "b4d4edf5-4ac7-4dfc-87ba-2f093b37944b",
   "metadata": {
    "lang": "en"
   },
   "source": [
    "⚠️ Reduce is a bit more complicated to understand than map() and filter() so let's walk through the following example ⚠️"
   ]
  },
  {
   "cell_type": "code",
   "execution_count": null,
   "id": "13222456-3f75-46f2-afe2-c829c28a6cd3",
   "metadata": {},
   "outputs": [
    {
     "data": {
      "text/plain": [
       "[1,\n",
       " 2,\n",
       " 3,\n",
       " 4,\n",
       " 5,\n",
       " 6,\n",
       " 7,\n",
       " 8,\n",
       " 9,\n",
       " 10,\n",
       " 11,\n",
       " 12,\n",
       " 13,\n",
       " 14,\n",
       " 15,\n",
       " 16,\n",
       " 17,\n",
       " 18,\n",
       " 19,\n",
       " 20,\n",
       " 21,\n",
       " 22,\n",
       " 23,\n",
       " 24,\n",
       " 25,\n",
       " 26,\n",
       " 27,\n",
       " 28,\n",
       " 29,\n",
       " 30,\n",
       " 31,\n",
       " 32,\n",
       " 33,\n",
       " 34,\n",
       " 35,\n",
       " 36,\n",
       " 37,\n",
       " 38,\n",
       " 39,\n",
       " 40,\n",
       " 41,\n",
       " 42,\n",
       " 43,\n",
       " 44,\n",
       " 45,\n",
       " 46,\n",
       " 47,\n",
       " 48,\n",
       " 49,\n",
       " 50,\n",
       " 51,\n",
       " 52,\n",
       " 53,\n",
       " 54,\n",
       " 55,\n",
       " 56,\n",
       " 57,\n",
       " 58,\n",
       " 59,\n",
       " 60,\n",
       " 61,\n",
       " 62,\n",
       " 63,\n",
       " 64,\n",
       " 65,\n",
       " 66,\n",
       " 67,\n",
       " 68,\n",
       " 69,\n",
       " 70,\n",
       " 71,\n",
       " 72,\n",
       " 73,\n",
       " 74,\n",
       " 75,\n",
       " 76,\n",
       " 77,\n",
       " 78,\n",
       " 79,\n",
       " 80,\n",
       " 81,\n",
       " 82,\n",
       " 83,\n",
       " 84,\n",
       " 85,\n",
       " 86,\n",
       " 87,\n",
       " 88,\n",
       " 89,\n",
       " 90,\n",
       " 91,\n",
       " 92,\n",
       " 93,\n",
       " 94,\n",
       " 95,\n",
       " 96,\n",
       " 97,\n",
       " 98,\n",
       " 99]"
      ]
     },
     "execution_count": 27,
     "metadata": {},
     "output_type": "execute_result"
    }
   ],
   "source": [
    "from functools import reduce\n",
    "num_list= [i for i in range (1,100)]\n",
    "num_list\n",
    "reduce()"
   ]
  },
  {
   "cell_type": "markdown",
   "id": "6f4f5db0-72ee-4144-8dfb-9bba7e612a7a",
   "metadata": {
    "lang": "en"
   },
   "source": [
    "#### What happened?\n",
    "- We start with a list [2, 4, 7, 3] and pass the function add (x, y) to reduce ( ) along with this list, without an initial value\n",
    "\n",
    "- reduce() calls add(2, 4), and add() returns 6\n",
    "\n",
    "- reduce() calls sum(6, 7) (result of the previous call to sum() and the next element in the list as parameters), and sum() returns 13\n",
    "\n",
    "- reduce() calls sum(13, 3), and sum() returns 16\n",
    "\n",
    "Since there are no more elements left in the sequence, reduce() returns 16"
   ]
  },
  {
   "cell_type": "markdown",
   "id": "d49bbb43-a3d1-4ba1-b3a8-8fdf755085c9",
   "metadata": {},
   "source": [
    "Another example:"
   ]
  },
  {
   "cell_type": "code",
   "execution_count": null,
   "id": "145179c6-ace3-4649-9e21-8fd9d9b5e3e3",
   "metadata": {},
   "outputs": [],
   "source": []
  },
  {
   "cell_type": "markdown",
   "id": "5a3cc8a1-88fd-4d65-b691-dde779e26cd6",
   "metadata": {},
   "source": [
    "This is the same as using the join method:"
   ]
  },
  {
   "cell_type": "code",
   "execution_count": null,
   "id": "2a08d68a-e711-45c0-b767-b8d9781dc489",
   "metadata": {},
   "outputs": [],
   "source": []
  },
  {
   "cell_type": "markdown",
   "id": "650ba209-890f-4dfa-9ee9-a40d59d4a196",
   "metadata": {},
   "source": [
    "#### 💡 Check for understanding"
   ]
  },
  {
   "cell_type": "markdown",
   "id": "6d44af7c-7be1-412e-b53a-5e9b7b63c60b",
   "metadata": {},
   "source": [
    "Do it with lambda!"
   ]
  },
  {
   "cell_type": "code",
   "execution_count": null,
   "id": "e151e209-aa6b-438c-bf66-60d376303360",
   "metadata": {},
   "outputs": [],
   "source": [
    "# Your code goes here"
   ]
  },
  {
   "cell_type": "markdown",
   "id": "ccfb0ed7-5856-4f97-bf7a-4c0347ba241d",
   "metadata": {
    "lang": "en"
   },
   "source": [
    "## Summary"
   ]
  },
  {
   "cell_type": "markdown",
   "id": "4ce36198-c0d3-485f-adfe-d535b3e46914",
   "metadata": {},
   "source": [
    "`map, filter, reduce` are functions that take another function as an input argument and an iterable.\n",
    "\n",
    "- Map: returns an iterator that applies the function to each element of the iterable. The iterable has the same number of elements as the input iterable.\n",
    "- Filter: returns an iterator that contains elements for which the function returns `True`. Not necessarily of the same length as the original.\n",
    "- Reduce: returns a single element (though it can be a list). Applies the function cumulatively to the elements of the iterable, reducing it to a single value\n",
    "\n",
    "Notes:\n",
    "- More efficient ways than just loops\n",
    "- Define our own functions OR we can use lambdas\n",
    "- Reduce is something you need to import\n",
    "- Makes code easier to read\n",
    "- Processing is faster because objects are returned instead of lists, which can be more memory-efficient."
   ]
  },
  {
   "cell_type": "markdown",
   "id": "415f80b0-a36c-4bb5-947a-da4d99cfa770",
   "metadata": {},
   "source": [
    "![](https://github.com/data-bootcamp-v4/lessons/blob/main/img/map-reduce-filter.jpeg?raw=true)"
   ]
  },
  {
   "cell_type": "markdown",
   "id": "a63fa49d-d754-47aa-a30e-61fba379b85e",
   "metadata": {
    "tags": []
   },
   "source": [
    "## Further materials\n",
    " "
   ]
  },
  {
   "cell_type": "markdown",
   "id": "03284a79-c543-41eb-8148-49b1fb2be9d1",
   "metadata": {
    "lang": "en"
   },
   "source": [
    "Useful links:\n",
    "\n",
    "- [Higher-Order Functions in Python — map(), filter(), and reduce() (Medium log in required)](https://medium.com/swlh/higher-order-functions-in-python-map-filter-and-reduce-34299fee1b21)\n",
    "- [Map, Filter, Reduce (learnpython.org)](https://www.learnpython.org/en/Map,_Filter,_Reduce)\n",
    "- [map(), filter(), and reduce() in Python with Examples (StackAbuse)](https://stackabuse.com/map-filter-and-reduce-in-python-with-examples)\n",
    "- [Map, Filter, Reduce (MIT Edu)](http://web.mit.edu/6.005/www/sp16/classes/25-map-filter-reduce/)"
   ]
  }
 ],
 "metadata": {
  "kernelspec": {
   "display_name": ".venv",
   "language": "python",
   "name": "python3"
  },
  "language_info": {
   "codemirror_mode": {
    "name": "ipython",
    "version": 3
   },
   "file_extension": ".py",
   "mimetype": "text/x-python",
   "name": "python",
   "nbconvert_exporter": "python",
   "pygments_lexer": "ipython3",
   "version": "3.12.3"
  },
  "toc": {
   "base_numbering": 1,
   "nav_menu": {},
   "number_sections": true,
   "sideBar": true,
   "skip_h1_title": false,
   "title_cell": "Table of Contents",
   "title_sidebar": "Contents",
   "toc_cell": true,
   "toc_position": {
    "height": "calc(100% - 180px)",
    "left": "10px",
    "top": "150px",
    "width": "261.818px"
   },
   "toc_section_display": true,
   "toc_window_display": true
  }
 },
 "nbformat": 4,
 "nbformat_minor": 5
}
