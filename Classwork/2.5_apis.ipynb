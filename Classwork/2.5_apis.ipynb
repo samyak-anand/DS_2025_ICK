{
 "cells": [
  {
   "cell_type": "markdown",
   "id": "35870f3e-1791-4fc3-ba77-6b01a78bca50",
   "metadata": {},
   "source": [
    "# APIS "
   ]
  },
  {
   "cell_type": "markdown",
   "id": "34841864-ea2a-436e-b85a-5cc871472849",
   "metadata": {},
   "source": [
    "![apis_gif](https://media.giphy.com/media/wepUQluC5smgEd4Qz4/giphy.gif)"
   ]
  },
  {
   "cell_type": "markdown",
   "id": "a6795d4c-fdfe-4f6d-ad6b-2479d9b0826d",
   "metadata": {
    "toc": true
   },
   "source": [
    "<h1>Table of Contents<span class=\"tocSkip\"></span></h1>\n",
    "<div class=\"toc\"><ul class=\"toc-item\"><li><span><a href=\"#APIS\" data-toc-modified-id=\"APIS-1\"><span class=\"toc-item-num\">1&nbsp;&nbsp;</span>APIS</a></span><ul class=\"toc-item\"><li><span><a href=\"#Internet,-DNS,-IPs\" data-toc-modified-id=\"Internet,-DNS,-IPs-1.1\"><span class=\"toc-item-num\">1.1&nbsp;&nbsp;</span>Internet, DNS, IPs</a></span></li><li><span><a href=\"#HTTP\" data-toc-modified-id=\"HTTP-1.2\"><span class=\"toc-item-num\">1.2&nbsp;&nbsp;</span>HTTP</a></span><ul class=\"toc-item\"><li><span><a href=\"#Requests\" data-toc-modified-id=\"Requests-1.2.1\"><span class=\"toc-item-num\">1.2.1&nbsp;&nbsp;</span>Requests</a></span></li><li><span><a href=\"#Response\" data-toc-modified-id=\"Response-1.2.2\"><span class=\"toc-item-num\">1.2.2&nbsp;&nbsp;</span>Response</a></span></li></ul></li><li><span><a href=\"#API\" data-toc-modified-id=\"API-1.3\"><span class=\"toc-item-num\">1.3&nbsp;&nbsp;</span>API</a></span><ul class=\"toc-item\"><li><span><a href=\"#API\" data-toc-modified-id=\"API-1.3.1\"><span class=\"toc-item-num\">1.3.1&nbsp;&nbsp;</span>API</a></span></li><li><span><a href=\"#RESTful-APIs\" data-toc-modified-id=\"RESTful-APIs-1.3.2\"><span class=\"toc-item-num\">1.3.2&nbsp;&nbsp;</span>RESTful APIs</a></span></li></ul></li><li><span><a href=\"#Requests-in-Python\" data-toc-modified-id=\"Requests-in-Python-1.4\"><span class=\"toc-item-num\">1.4&nbsp;&nbsp;</span>Requests in Python</a></span><ul class=\"toc-item\"><li><span><a href=\"#GET\" data-toc-modified-id=\"GET-1.4.1\"><span class=\"toc-item-num\">1.4.1&nbsp;&nbsp;</span>GET</a></span></li><li><span><a href=\"#JSON-response\" data-toc-modified-id=\"JSON-response-1.4.2\"><span class=\"toc-item-num\">1.4.2&nbsp;&nbsp;</span>JSON response</a></span></li><li><span><a href=\"#Parameters\" data-toc-modified-id=\"Parameters-1.4.3\"><span class=\"toc-item-num\">1.4.3&nbsp;&nbsp;</span>Parameters</a></span><ul class=\"toc-item\"><li><span><a href=\"#More-URL-params\" data-toc-modified-id=\"More-URL-params-1.4.3.1\"><span class=\"toc-item-num\">1.4.3.1&nbsp;&nbsp;</span>More URL params</a></span></li></ul></li><li><span><a href=\"#Headers\" data-toc-modified-id=\"Headers-1.4.4\"><span class=\"toc-item-num\">1.4.4&nbsp;&nbsp;</span>Headers</a></span></li><li><span><a href=\"#API-keys\" data-toc-modified-id=\"API-keys-1.4.5\"><span class=\"toc-item-num\">1.4.5&nbsp;&nbsp;</span>API keys</a></span></li></ul></li><li><span><a href=\"#Ejemplos-de-APIs\" data-toc-modified-id=\"Ejemplos-de-APIs-1.5\"><span class=\"toc-item-num\">1.5&nbsp;&nbsp;</span>Ejemplos de APIs</a></span><ul class=\"toc-item\"><li><span><a href=\"#NewsAPI-endpoints-playground\" data-toc-modified-id=\"NewsAPI-endpoints-playground-1.5.1\"><span class=\"toc-item-num\">1.5.1&nbsp;&nbsp;</span>NewsAPI endpoints playground</a></span></li><li><span><a href=\"#Another-example-API\" data-toc-modified-id=\"Another-example-API-1.5.2\"><span class=\"toc-item-num\">1.5.2&nbsp;&nbsp;</span>Another example API</a></span></li><li><span><a href=\"#Github-API-v3\" data-toc-modified-id=\"Github-API-v3-1.5.3\"><span class=\"toc-item-num\">1.5.3&nbsp;&nbsp;</span>Github API v3</a></span></li><li><span><a href=\"#Pokemon-API\" data-toc-modified-id=\"Pokemon-API-1.5.4\"><span class=\"toc-item-num\">1.5.4&nbsp;&nbsp;</span>Pokemon API</a></span></li></ul></li><li><span><a href=\"#Errors\" data-toc-modified-id=\"Errors-1.6\"><span class=\"toc-item-num\">1.6&nbsp;&nbsp;</span>Errors</a></span></li><li><span><a href=\"#Chunks\" data-toc-modified-id=\"Chunks-1.7\"><span class=\"toc-item-num\">1.7&nbsp;&nbsp;</span>Chunks</a></span></li><li><span><a href=\"#Other-HTTP-Methods\" data-toc-modified-id=\"Other-HTTP-Methods-1.8\"><span class=\"toc-item-num\">1.8&nbsp;&nbsp;</span>Other HTTP Methods</a></span></li><li><span><a href=\"#Sending-Mails\" data-toc-modified-id=\"Sending-Mails-1.9\"><span class=\"toc-item-num\">1.9&nbsp;&nbsp;</span>Sending Mails</a></span></li><li><span><a href=\"#API-Wrappers\" data-toc-modified-id=\"API-Wrappers-1.10\"><span class=\"toc-item-num\">1.10&nbsp;&nbsp;</span>API Wrappers</a></span><ul class=\"toc-item\"><li><span><a href=\"#Acceder-a-la-API-de-Twitter-con-Python\" data-toc-modified-id=\"Acceder-a-la-API-de-Twitter-con-Python-1.10.1\"><span class=\"toc-item-num\">1.10.1&nbsp;&nbsp;</span>Acceder a la API de Twitter con Python</a></span><ul class=\"toc-item\"><li><span><a href=\"#Twitter-V2-API\" data-toc-modified-id=\"Twitter-V2-API-1.10.1.1\"><span class=\"toc-item-num\">1.10.1.1&nbsp;&nbsp;</span>Twitter V2 API</a></span></li></ul></li><li><span><a href=\"#¿Almacenar-los-tweets-de-una-cuenta-abierta?\" data-toc-modified-id=\"¿Almacenar-los-tweets-de-una-cuenta-abierta?-1.10.2\"><span class=\"toc-item-num\">1.10.2&nbsp;&nbsp;</span>¿Almacenar los tweets de una cuenta abierta?</a></span></li></ul></li><li><span><a href=\"#Observaciones\" data-toc-modified-id=\"Observaciones-1.11\"><span class=\"toc-item-num\">1.11&nbsp;&nbsp;</span>Observaciones</a></span></li><li><span><a href=\"#Resumen\" data-toc-modified-id=\"Resumen-1.12\"><span class=\"toc-item-num\">1.12&nbsp;&nbsp;</span>Resumen</a></span><ul class=\"toc-item\"><li><span><a href=\"#Recorrido:\" data-toc-modified-id=\"Recorrido:-1.12.1\"><span class=\"toc-item-num\">1.12.1&nbsp;&nbsp;</span>Recorrido:</a></span></li></ul></li><li><span><a href=\"#Glosario\" data-toc-modified-id=\"Glosario-1.13\"><span class=\"toc-item-num\">1.13&nbsp;&nbsp;</span>Glosario</a></span></li><li><span><a href=\"#Further-materials\" data-toc-modified-id=\"Further-materials-1.14\"><span class=\"toc-item-num\">1.14&nbsp;&nbsp;</span>Further materials</a></span></li></ul></li></ul></div>"
   ]
  },
  {
   "cell_type": "markdown",
   "id": "78337d49-bd91-4990-b1d6-fd2d4c03e6df",
   "metadata": {},
   "source": [
    "## Web Communication Fundamentals"
   ]
  },
  {
   "cell_type": "markdown",
   "id": "1f5600c7-4e6b-4b57-986e-740538741ca9",
   "metadata": {},
   "source": [
    "![enjuto](https://www.publico.es/files/article_main/uploads//2014/12/13/548bb18f1d9ef.jpg)"
   ]
  },
  {
   "cell_type": "markdown",
   "id": "582db4b0-9f2d-4847-b52c-f11eb6ae8933",
   "metadata": {},
   "source": [
    "### DNS, IP"
   ]
  },
  {
   "cell_type": "markdown",
   "id": "1e7a9565-1961-4631-a6a1-71735dae6f16",
   "metadata": {},
   "source": [
    "[How do we connect to www.google.com?](https://www.youtube.com/watch?v=sUhEqT_HSBI&ab_channel=ProfeSang)\n",
    "* **DNS (Domain Name System)**: it's essentially the phonebook of the internet. Humans access information online through domain names, like \"google.com\". Web browsers, however, interact through Internet Protocol (IP) addresses. In this example, the DNS maps the internet address www.google.com to the server's IP: 216.58.222.196\n",
    " * **IP**: Server identification. A code that allows information to be sent and received by the correct parties\n",
    " * **Domain Providers**: Sell and purchase Internet domains"
   ]
  },
  {
   "cell_type": "markdown",
   "id": "7d42f993-6f37-42c7-8f04-4c5526c0825e",
   "metadata": {},
   "source": [
    "*When making API calls to specific domains, the DNS translates the human-readable domain name into an IP address.*"
   ]
  },
  {
   "cell_type": "markdown",
   "id": "216e4441-45eb-4a0a-b578-f4f056a724b1",
   "metadata": {},
   "source": [
    "### HTTP"
   ]
  },
  {
   "cell_type": "markdown",
   "id": "6d120e37-ac79-44c9-8fc5-3fe07f4ad7f6",
   "metadata": {},
   "source": [
    "**H**yper **T**ext **T**ransfer **P**rotocol\n",
    "- HTTP is a communications protocol that provides a structure for requests between the client and the server on a network.\n",
    "- For example, the web browser on the user's computer (the client) uses the HTTP protocol to request information from a website on a server.\n",
    "\n",
    "*We will use APIs that employ the **HTTP** protocol as transport.*"
   ]
  },
  {
   "cell_type": "markdown",
   "id": "1b9f3b1b-af11-419a-bd55-771a937b72dc",
   "metadata": {},
   "source": [
    "### URL\n",
    "Contains information about the resource being requested from the **server**."
   ]
  },
  {
   "cell_type": "markdown",
   "id": "c6a7522a-6679-4d2d-9587-6b583c41a55f",
   "metadata": {},
   "source": [
    "![](https://github.com/data-bootcamp-v4/lessons/blob/main/img/http.png?raw=true)"
   ]
  },
  {
   "cell_type": "markdown",
   "id": "246020a7-6a89-4857-98c4-8f29c1d3c827",
   "metadata": {},
   "source": [
    "Examples:\n",
    "\n",
    "- https://www.google.com/webhp?authuser=2\n",
    "- https://www.towardsdatascience.com\n",
    "- https://www.ironhack.com/\n",
    "    - Protocol: https (https == http is the same, but https is encrypted)\n",
    "    - Domain Name --> ironhack\n",
    "    - TLD (Top-Level Domain) --> .com"
   ]
  },
  {
   "cell_type": "markdown",
   "id": "dd726622-8824-4e1f-a166-bb0d7e94fd08",
   "metadata": {},
   "source": [
    "*When calling an API, you specify the URL of the API endpoint, which tells the system where to send the request.*"
   ]
  },
  {
   "cell_type": "markdown",
   "id": "5fd2c3c5-1e3e-44a2-923b-c6dc1bb19f7c",
   "metadata": {},
   "source": [
    "## HTTP Requests and Responses"
   ]
  },
  {
   "cell_type": "markdown",
   "id": "1b658ec7-5230-44ab-b10b-f8cc1c65edab",
   "metadata": {},
   "source": [
    "![](https://github.com/data-bootcamp-v4/lessons/blob/main/img/request-response.png?raw=true)"
   ]
  },
  {
   "cell_type": "markdown",
   "id": "4941c601-e2f2-41bd-a0f3-c5e33fc8e282",
   "metadata": {},
   "source": [
    "**Requests** and **responses** are fundamental components of the client-server communication model."
   ]
  },
  {
   "cell_type": "markdown",
   "id": "b75d6570-aae7-492a-bcd0-86da6d102545",
   "metadata": {},
   "source": [
    "### Requests"
   ]
  },
  {
   "cell_type": "markdown",
   "id": "6d39d707-2230-4f72-af04-8c49abeb413e",
   "metadata": {},
   "source": [
    "These are queries or calls **sent by the client** (such as a web browser or other software) **to the server** in order to receive information (a **response**). \n",
    "\n",
    "A request typically consists of:\n",
    "- A method (such as GET, POST, PUT, DELETE) that defines the action to be performed\n",
    "     * GET: read the information of the resource, without modifying it in any way. Accessing the website from the browser **gets** information.\n",
    "- The URL or endpoint specifying the resource\n",
    "- Optional additional information such as:\n",
    "    - Headers (metadata): User-Agent, Accept-Language\n",
    "    - Parameters\n",
    "    - Body content. \n",
    "    \n",
    "For example, a client might send a GET request to retrieve information from a web page or a POST request to submit form data."
   ]
  },
  {
   "cell_type": "markdown",
   "id": "03152bb9-ab13-458c-94d2-f5cb53117056",
   "metadata": {},
   "source": [
    "### Response"
   ]
  },
  {
   "cell_type": "markdown",
   "id": "fc180f91-d6bf-4cb9-bf07-443d47ba0c4f",
   "metadata": {},
   "source": [
    "These are the answers or data sent **by the server back to the client in reply to a request**. \n",
    "\n",
    "A response typically includes:\n",
    "- A status code that indicates the success or failure of the request\n",
    "- Headers with meta-information about the server's behavior\n",
    "- The actual content or data (if applicable), such as HTML, JSON (similar to a Python dictionary), images, or other media types.\n",
    "\n",
    "An important part of the **header** is the **status code**. This code is a numerical value that indicates the server's result. There are different status codes depending on whether the server has managed to carry out the request or has not managed to do anything. These are some groups of status codes:\n",
    "\n",
    "- **2xx successful**: the request was successfully received, understood, and accepted\n",
    "- **3xx redirection**: more actions are required to complete the request\n",
    "- **4xx client error**: the request contains incorrect syntax or cannot be fulfilled\n",
    "- **5xx server error**: the server has failed to complete an apparently valid request\n",
    "\n",
    "Complete list:\n",
    "https://en.wikipedia.org/wiki/List_of_HTTP_status_codes\n",
    "\n",
    "Much more fun:\n",
    "https://http.cat/"
   ]
  },
  {
   "cell_type": "markdown",
   "id": "1f1ad409-99e9-4701-b879-f81d13ece283",
   "metadata": {
    "tags": []
   },
   "source": [
    "## APIs"
   ]
  },
  {
   "cell_type": "markdown",
   "id": "492c462e-3d81-4330-828f-ff2b027989d8",
   "metadata": {},
   "source": [
    "**A**pplication **P**rogramming **I**nterface\n",
    "\n",
    "- APIs define a set of rules and protocols that allow different software applications to communicate with each other.\n",
    "- The client calls the server through an API, and the server responds.\n",
    "-  Within a project, the backend may want to share information with the frontend without access to the database."
   ]
  },
  {
   "cell_type": "markdown",
   "id": "0849403b-d633-4756-82d2-cb74ac4d254b",
   "metadata": {},
   "source": [
    "![](https://github.com/data-bootcamp-v4/lessons/blob/main/img/api.png?raw=true)"
   ]
  },
  {
   "cell_type": "markdown",
   "id": "b86f18cb-8590-4a6e-896b-c5e465e7719f",
   "metadata": {},
   "source": [
    "### RESTful APIs"
   ]
  },
  {
   "cell_type": "markdown",
   "id": "62891457-6b5c-4443-9fb5-77f901ea7571",
   "metadata": {},
   "source": [
    "As a data analyst, you often need to access data from various sources. RESTful APIs provide a **standardized way** to retrieve, update, or delete data from other systems."
   ]
  },
  {
   "cell_type": "markdown",
   "id": "5c2bea7b-f629-45f3-94b3-6cb6eac1272e",
   "metadata": {},
   "source": [
    "- Usually, **we (the client) send a request, and they (the server) return a response, often in JSON - JavaScript Object Notation - format**. While JSON looks similar to the dictionaries we're used to in Python, it's worth noting that when represented as raw text (e.g., in an API response), the entire JSON structure is a *string*. However, within that structure, JSON can represent various data types like numbers, booleans, and arrays, not just strings.\n",
    "\n",
    "- APIs always need to provide documentation for their various services: **endpoints**.  Each endpoint is a different URL.  \n",
    "- Sometimes we have to pass **parameters** to an API endpoint, similar to when we pass parameters to a Python function.\n",
    "\n",
    "At this point in the Bootcamp, **reading documentation becomes essential**, as each API will \"work\" differently, and to use it, we will need to know what it requires.\n",
    "\n",
    "[Here](https://github.com/public-apis/public-apis) is a repository where you can find several free APIs if you feel like exploring a bit."
   ]
  },
  {
   "cell_type": "markdown",
   "id": "33c6c206-715a-42b8-929c-691d9c66fe4d",
   "metadata": {},
   "source": [
    "## Requests in Python"
   ]
  },
  {
   "cell_type": "markdown",
   "id": "515484d8-81ec-48c1-abad-c778232b583f",
   "metadata": {},
   "source": [
    "You can make requests to RESTful APIs using libraries like `requests`. "
   ]
  },
  {
   "cell_type": "code",
   "execution_count": 2,
   "id": "54d23d14-7425-45c6-8ba5-74e5db2c047a",
   "metadata": {},
   "outputs": [],
   "source": [
    "import requests"
   ]
  },
  {
   "cell_type": "markdown",
   "id": "da5aff9d-8a79-4171-96b1-b7f0d2daf1cd",
   "metadata": {},
   "source": [
    "### GET"
   ]
  },
  {
   "cell_type": "markdown",
   "id": "2018fa77-7bce-437e-a806-69844737210b",
   "metadata": {},
   "source": [
    "Making a `GET request` to the API is simply a call to a `URL` that returns information when provided with the appropriate `parameters`. We will only perform **GET** requests."
   ]
  },
  {
   "cell_type": "markdown",
   "id": "718172e2-5654-4536-bd72-594d80b31f8c",
   "metadata": {},
   "source": [
    "Here is an example on how to make a request with Python:\n",
    "\n",
    "```python\n",
    "url = \"https://api.example.com/products\"\n",
    "response = requests.get(url)\n",
    "\n",
    "if response.status_code == 200:\n",
    "    products = response.json()\n",
    "    # Now you can analyze and work with the products data in Python\n",
    "```"
   ]
  },
  {
   "cell_type": "markdown",
   "id": "307395ef-cfd3-4175-99d5-a6ce6213adb1",
   "metadata": {},
   "source": [
    "#### Accessing an endpoint\n",
    "\n",
    "As we mentioned above, APIs always need to provide documentation for their various services: **endpoints**.  Each endpoint is a different URL.  \n",
    "\n",
    "**Example: ISS API**"
   ]
  },
  {
   "cell_type": "markdown",
   "id": "792140dd-3cda-4355-86bd-dd6732880803",
   "metadata": {},
   "source": [
    "Let's get information from ISS (International Space Station)! We'll start looking at the [ISS API documentation](https://wheretheiss.at/w/developer)"
   ]
  },
  {
   "cell_type": "code",
   "execution_count": 5,
   "id": "c7e303f6",
   "metadata": {},
   "outputs": [],
   "source": [
    "response=requests.get(\"https://api.wheretheiss.at/v1/satellites\")"
   ]
  },
  {
   "cell_type": "code",
   "execution_count": 7,
   "id": "9606d408",
   "metadata": {},
   "outputs": [
    {
     "data": {
      "text/plain": [
       "[{'name': 'iss', 'id': 25544}]"
      ]
     },
     "execution_count": 7,
     "metadata": {},
     "output_type": "execute_result"
    }
   ],
   "source": [
    "info= response.json()\n",
    "info"
   ]
  },
  {
   "cell_type": "code",
   "execution_count": 15,
   "id": "facc79b0",
   "metadata": {},
   "outputs": [
    {
     "data": {
      "text/plain": [
       "'iss'"
      ]
     },
     "execution_count": 15,
     "metadata": {},
     "output_type": "execute_result"
    }
   ],
   "source": [
    "info[0]['name']"
   ]
  },
  {
   "cell_type": "code",
   "execution_count": 16,
   "id": "b5f73cb9",
   "metadata": {},
   "outputs": [
    {
     "data": {
      "text/plain": [
       "list"
      ]
     },
     "execution_count": 16,
     "metadata": {},
     "output_type": "execute_result"
    }
   ],
   "source": [
    "type(info)"
   ]
  },
  {
   "cell_type": "code",
   "execution_count": 17,
   "id": "9ebf789f",
   "metadata": {},
   "outputs": [
    {
     "data": {
      "text/plain": [
       "{'Date': 'Thu, 17 Apr 2025 09:26:21 GMT', 'Server': 'Apache/2.2.22 (Ubuntu)', 'X-Powered-By': 'PHP/5.3.10-1ubuntu3.26', 'X-Rate-Limit-Limit': '350', 'X-Rate-Limit-Remaining': '349', 'X-Rate-Limit-Interval': '5 minutes', 'Access-Control-Allow-Origin': '*', 'X-Apache-Time': 'D=11164', 'Cache-Control': 'max-age=0, no-cache', 'Content-Length': '27', 'Keep-Alive': 'timeout=15, max=100', 'Connection': 'Keep-Alive', 'Content-Type': 'application/json'}"
      ]
     },
     "execution_count": 17,
     "metadata": {},
     "output_type": "execute_result"
    }
   ],
   "source": [
    "response.headers"
   ]
  },
  {
   "cell_type": "code",
   "execution_count": 19,
   "metadata": {},
   "outputs": [
    {
     "data": {
      "text/plain": [
       "[{'name': 'iss', 'id': 25544}]"
      ]
     },
     "execution_count": 19,
     "metadata": {},
     "output_type": "execute_result"
    }
   ],
   "source": [
    "response.json()"
   ]
  },
  {
   "cell_type": "code",
   "execution_count": null,
   "metadata": {},
   "outputs": [],
   "source": []
  },
  {
   "cell_type": "code",
   "execution_count": null,
   "id": "3ce610d5",
   "metadata": {},
   "outputs": [],
   "source": []
  },
  {
   "cell_type": "markdown",
   "id": "ac005926",
   "metadata": {},
   "source": [
    "type(info)"
   ]
  },
  {
   "cell_type": "markdown",
   "id": "a2be4164-137b-411d-a78c-38bdd94ce9ed",
   "metadata": {},
   "source": [
    "This API allows you to access various data related to the International Space Station (ISS), including its current, past, or future position, timezone information for specific coordinates, and more.\n",
    "\n",
    "**Key Features**\n",
    "- **Authentication**: No authentication is currently required, but future endpoints may include this.\n",
    "- **Rate Limiting**: Limited to approximately 1 request per second.\n",
    "- **Responses**: Default to JSON format, with optional parameters to modify response appearance.\n",
    "- **Endpoints**: Several endpoints provide different types of information:\n",
    "    - **satellites**: Information about satellites, including the ISS.\n",
    "    - **satellites/[id]**: Position, velocity, and related information for a satellite.\n",
    "    - **satellites/[id]/positions**: Position data for specific timestamps.\n",
    "    - **satellites/[id]/tles**: TLE (Two-Line Element Set) data in either JSON or text format.\n",
    "    - **coordinates/[lat,lon]**: Timezone information for specific coordinates.\n"
   ]
  },
  {
   "cell_type": "markdown",
   "id": "f1272582-bc6d-4f43-9e39-47d39ffd1bfd",
   "metadata": {},
   "source": [
    "**Examples**\n",
    "- Satellite details: `https://api.wheretheiss.at/v1/satellites`\n",
    "- ISS position: `https://api.wheretheiss.at/v1/satellites/25544`\n",
    "- Coordinates information: `https://api.wheretheiss.at/v1/coordinates/37.795517,-122.393693`\n",
    "\n"
   ]
  },
  {
   "cell_type": "code",
   "execution_count": 3,
   "id": "b950fdc3",
   "metadata": {},
   "outputs": [
    {
     "data": {
      "text/plain": [
       "{'name': 'iss',\n",
       " 'id': 25544,\n",
       " 'latitude': 49.891726606684,\n",
       " 'longitude': 6.7000351142164,\n",
       " 'altitude': 421.14651225108,\n",
       " 'velocity': 27597.915791104,\n",
       " 'visibility': 'daylight',\n",
       " 'footprint': 4513.2918067904,\n",
       " 'timestamp': 1744883150,\n",
       " 'daynum': 2460782.9068287,\n",
       " 'solar_lat': 10.633445485898,\n",
       " 'solar_lon': 33.424598527626,\n",
       " 'units': 'kilometers'}"
      ]
     },
     "execution_count": 3,
     "metadata": {},
     "output_type": "execute_result"
    }
   ],
   "source": [
    "re=requests.get(\"https://api.wheretheiss.at/v1/satellites/25544\")\n",
    "re.json()"
   ]
  },
  {
   "cell_type": "code",
   "execution_count": 4,
   "id": "03a878d9",
   "metadata": {},
   "outputs": [],
   "source": [
    "import time \n",
    "position=[]\n",
    "for i in range(10):\n",
    "    response= requests.get(\"https://api.wheretheiss.at/v1/satellites/25544\")\n",
    "    data=response.json()\n",
    "\n",
    "    position.append(data)\n",
    "    time.sleep(1)\n",
    "\n"
   ]
  },
  {
   "cell_type": "code",
   "execution_count": 7,
   "id": "6929c9fc",
   "metadata": {},
   "outputs": [
    {
     "data": {
      "text/plain": [
       "[{'name': 'iss',\n",
       "  'id': 25544,\n",
       "  'latitude': 49.837192011558,\n",
       "  'longitude': 6.9754925586173,\n",
       "  'altitude': 421.1434772221,\n",
       "  'velocity': 27597.883684814,\n",
       "  'visibility': 'daylight',\n",
       "  'footprint': 4513.2763901964,\n",
       "  'timestamp': 1744883153,\n",
       "  'daynum': 2460782.9068634,\n",
       "  'solar_lat': 10.633457660382,\n",
       "  'solar_lon': 33.412096624783,\n",
       "  'units': 'kilometers'},\n",
       " {'name': 'iss',\n",
       "  'id': 25544,\n",
       "  'latitude': 49.800439220597,\n",
       "  'longitude': 7.1587694720888,\n",
       "  'altitude': 421.14137792871,\n",
       "  'velocity': 27597.862258039,\n",
       "  'visibility': 'daylight',\n",
       "  'footprint': 4513.2657266844,\n",
       "  'timestamp': 1744883155,\n",
       "  'daynum': 2460782.9068866,\n",
       "  'solar_lat': 10.633465776703,\n",
       "  'solar_lon': 33.40376202289,\n",
       "  'units': 'kilometers'},\n",
       " {'name': 'iss',\n",
       "  'id': 25544,\n",
       "  'latitude': 49.76336959687,\n",
       "  'longitude': 7.3417589953687,\n",
       "  'altitude': 421.13921805471,\n",
       "  'velocity': 27597.840812595,\n",
       "  'visibility': 'daylight',\n",
       "  'footprint': 4513.2547554168,\n",
       "  'timestamp': 1744883157,\n",
       "  'daynum': 2460782.9069097,\n",
       "  'solar_lat': 10.633473893185,\n",
       "  'solar_lon': 33.395427253331,\n",
       "  'units': 'kilometers'},\n",
       " {'name': 'iss',\n",
       "  'id': 25544,\n",
       "  'latitude': 49.725985520836,\n",
       "  'longitude': 7.5244521128049,\n",
       "  'altitude': 421.13699787426,\n",
       "  'velocity': 27597.819349195,\n",
       "  'visibility': 'daylight',\n",
       "  'footprint': 4513.2434777834,\n",
       "  'timestamp': 1744883159,\n",
       "  'daynum': 2460782.9069329,\n",
       "  'solar_lat': 10.633482009503,\n",
       "  'solar_lon': 33.38709265144,\n",
       "  'units': 'kilometers'},\n",
       " {'name': 'iss',\n",
       "  'id': 25544,\n",
       "  'latitude': 49.688287143278,\n",
       "  'longitude': 7.7068508800539,\n",
       "  'altitude': 421.13471753363,\n",
       "  'velocity': 27597.797867254,\n",
       "  'visibility': 'daylight',\n",
       "  'footprint': 4513.2318945245,\n",
       "  'timestamp': 1744883161,\n",
       "  'daynum': 2460782.906956,\n",
       "  'solar_lat': 10.633490125819,\n",
       "  'solar_lon': 33.378758049549,\n",
       "  'units': 'kilometers'},\n",
       " {'name': 'iss',\n",
       "  'id': 25544,\n",
       "  'latitude': 49.65027536169,\n",
       "  'longitude': 7.8889536939004,\n",
       "  'altitude': 421.13237722376,\n",
       "  'velocity': 27597.776366618,\n",
       "  'visibility': 'daylight',\n",
       "  'footprint': 4513.220006607,\n",
       "  'timestamp': 1744883163,\n",
       "  'daynum': 2460782.9069792,\n",
       "  'solar_lat': 10.633498242131,\n",
       "  'solar_lon': 33.37042344765,\n",
       "  'units': 'kilometers'},\n",
       " {'name': 'iss',\n",
       "  'id': 25544,\n",
       "  'latitude': 49.631151455016,\n",
       "  'longitude': 7.9798972814845,\n",
       "  'altitude': 421.13118459225,\n",
       "  'velocity': 27597.765608807,\n",
       "  'visibility': 'daylight',\n",
       "  'footprint': 4513.2139484609,\n",
       "  'timestamp': 1744883164,\n",
       "  'daynum': 2460782.9069907,\n",
       "  'solar_lat': 10.633502300453,\n",
       "  'solar_lon': 33.366255979047,\n",
       "  'units': 'kilometers'},\n",
       " {'name': 'iss',\n",
       "  'id': 25544,\n",
       "  'latitude': 49.592671252847,\n",
       "  'longitude': 8.1615532081409,\n",
       "  'altitude': 421.12875468935,\n",
       "  'velocity': 27597.744079834,\n",
       "  'visibility': 'daylight',\n",
       "  'footprint': 4513.201605383,\n",
       "  'timestamp': 1744883166,\n",
       "  'daynum': 2460782.9070139,\n",
       "  'solar_lat': 10.633510416762,\n",
       "  'solar_lon': 33.357921377152,\n",
       "  'units': 'kilometers'},\n",
       " {'name': 'iss',\n",
       "  'id': 25544,\n",
       "  'latitude': 49.55387990812,\n",
       "  'longitude': 8.3429092831927,\n",
       "  'altitude': 421.12626530258,\n",
       "  'velocity': 27597.722531771,\n",
       "  'visibility': 'daylight',\n",
       "  'footprint': 4513.1889601047,\n",
       "  'timestamp': 1744883168,\n",
       "  'daynum': 2460782.907037,\n",
       "  'solar_lat': 10.633518533073,\n",
       "  'solar_lon': 33.349586775264,\n",
       "  'units': 'kilometers'},\n",
       " {'name': 'iss',\n",
       "  'id': 25544,\n",
       "  'latitude': 49.514778332272,\n",
       "  'longitude': 8.5239639912581,\n",
       "  'altitude': 421.12371662928,\n",
       "  'velocity': 27597.700964455,\n",
       "  'visibility': 'daylight',\n",
       "  'footprint': 4513.1760136253,\n",
       "  'timestamp': 1744883170,\n",
       "  'daynum': 2460782.9070602,\n",
       "  'solar_lat': 10.633526649385,\n",
       "  'solar_lon': 33.341252173384,\n",
       "  'units': 'kilometers'}]"
      ]
     },
     "execution_count": 7,
     "metadata": {},
     "output_type": "execute_result"
    }
   ],
   "source": [
    "position"
   ]
  },
  {
   "cell_type": "code",
   "execution_count": 5,
   "metadata": {},
   "outputs": [
    {
     "data": {
      "text/plain": [
       "list"
      ]
     },
     "execution_count": 5,
     "metadata": {},
     "output_type": "execute_result"
    }
   ],
   "source": [
    "type(position)"
   ]
  },
  {
   "cell_type": "code",
   "execution_count": 8,
   "id": "bb0d8c89",
   "metadata": {},
   "outputs": [
    {
     "data": {
      "text/plain": [
       "{'name': 'iss',\n",
       " 'id': 25544,\n",
       " 'latitude': 49.514778332272,\n",
       " 'longitude': 8.5239639912581,\n",
       " 'altitude': 421.12371662928,\n",
       " 'velocity': 27597.700964455,\n",
       " 'visibility': 'daylight',\n",
       " 'footprint': 4513.1760136253,\n",
       " 'timestamp': 1744883170,\n",
       " 'daynum': 2460782.9070602,\n",
       " 'solar_lat': 10.633526649385,\n",
       " 'solar_lon': 33.341252173384,\n",
       " 'units': 'kilometers'}"
      ]
     },
     "execution_count": 8,
     "metadata": {},
     "output_type": "execute_result"
    }
   ],
   "source": [
    "position[-1]"
   ]
  },
  {
   "cell_type": "code",
   "execution_count": 11,
   "id": "80f21437",
   "metadata": {},
   "outputs": [
    {
     "data": {
      "text/plain": [
       "[49.84, 49.8, 49.76, 49.73, 49.69, 49.65, 49.63, 49.59, 49.55, 49.51]"
      ]
     },
     "execution_count": 11,
     "metadata": {},
     "output_type": "execute_result"
    }
   ],
   "source": [
    "latitude = [round(p[\"latitude\"],2) for p in position]\n",
    "latitude"
   ]
  },
  {
   "cell_type": "code",
   "execution_count": null,
   "id": "e826a085",
   "metadata": {},
   "outputs": [],
   "source": [
    "import pandas as pd\n",
    "\n"
   ]
  },
  {
   "cell_type": "code",
   "execution_count": null,
   "metadata": {},
   "outputs": [],
   "source": [
    "\n"
   ]
  },
  {
   "cell_type": "code",
   "execution_count": null,
   "id": "034e34fe",
   "metadata": {},
   "outputs": [],
   "source": [
    "impo"
   ]
  },
  {
   "cell_type": "markdown",
   "id": "4f582475",
   "metadata": {},
   "source": []
  },
  {
   "cell_type": "code",
   "execution_count": 20,
   "id": "d49dd109",
   "metadata": {},
   "outputs": [],
   "source": [
    "res= requests.get(\"https://api.wheretheiss.at/v1/coordinates/37.795517,-122.393693`\")"
   ]
  },
  {
   "cell_type": "markdown",
   "id": "5ca5b7da-eec0-41ca-924b-67687f794e23",
   "metadata": {},
   "source": [
    "**Endpoint satellites**"
   ]
  },
  {
   "cell_type": "code",
   "execution_count": 21,
   "id": "db35f908-34ac-459a-804d-54a335a7b34c",
   "metadata": {},
   "outputs": [
    {
     "data": {
      "text/plain": [
       "{'error': 'Invalid coordinates', 'status': 400}"
      ]
     },
     "execution_count": 21,
     "metadata": {},
     "output_type": "execute_result"
    }
   ],
   "source": [
    "res.json()"
   ]
  },
  {
   "cell_type": "markdown",
   "id": "903f3024-0998-459d-bb20-60a639def27e",
   "metadata": {},
   "source": [
    "#### Response headers \n",
    "\n",
    "Response headers are part of the HTTP response that a server sends back to the client after a request has been made. These headers provide meta-information about the response and can affect how the client handles the response.\n",
    "\n",
    "Here are some common response headers and what they typically represent:\n",
    "\n",
    "1. **`Date`**: Represents the date and time at which the response was sent.\n",
    "\n",
    "2. **`Server`**: Provides information about the software used by the originating server.\n",
    "\n",
    "3. **`X-Rate-Limit`**: Sometimes used in APIs to inform the client about rate limiting policies, such as the number of allowed requests in a given time frame.\n",
    "\n",
    "4. **`Content-Type`**: Specifies the media type of the resource or data the server is sending back. For example, it could be `application/json` for a JSON object, `text/html` for an HTML page, or `image/png` for an image.\n",
    "\n",
    "And more."
   ]
  },
  {
   "cell_type": "code",
   "execution_count": null,
   "id": "a53d51bc-2346-4139-a23f-49a34dc3b475",
   "metadata": {},
   "outputs": [],
   "source": []
  },
  {
   "cell_type": "markdown",
   "id": "a46967a4-763f-4d4e-bca9-c3a37742f65e",
   "metadata": {},
   "source": [
    "#### Parameters"
   ]
  },
  {
   "cell_type": "markdown",
   "id": "69017232-6063-4ee5-a13c-0eb40f182b1e",
   "metadata": {},
   "source": [
    "As we mentioned above, sometimes we can pass **parameters** to an API endpoint, similar to when we pass parameters to a Python function."
   ]
  },
  {
   "cell_type": "markdown",
   "id": "4dbf1646-5953-44b9-a2e3-a7dbee7f1a4e",
   "metadata": {},
   "source": [
    "In the example above, we didn't use any parameters in the endpoint `satellites` since the [documentation](\"https://wheretheiss.at/w/developer\") said *Parameters: None*."
   ]
  },
  {
   "cell_type": "markdown",
   "id": "ed0d4cf7-fa4d-4c83-8d56-4a25accc3d01",
   "metadata": {},
   "source": [
    "API parameters are specific values that you include in a request to an API endpoint to filter, sort, or detail the data that you want to retrieve. They allow you to customize the request to get exactly the information you need."
   ]
  },
  {
   "cell_type": "markdown",
   "id": "dbf6baed-1967-46ea-908f-bff2fd59dc46",
   "metadata": {},
   "source": [
    "There are several types of parameters that can be used in API requests, such as Path Parameters, Query Parameters, Header Parameters and Request Body Parameters. Let's look at them with an example using another endpoint."
   ]
  },
  {
   "cell_type": "markdown",
   "id": "f854df58-1a0a-4759-9991-30816cf45c92",
   "metadata": {},
   "source": [
    "##### 1. **Path Parameters**\n",
    "\n",
    "These are embedded in the URL path and are used to identify a specific resource. For example, in the URL above `https://api.wheretheiss.at/v1/satellites/25544`, the number `25544` is a path parameter that identifies a specific sattelite."
   ]
  },
  {
   "cell_type": "code",
   "execution_count": null,
   "id": "3829586a",
   "metadata": {},
   "outputs": [],
   "source": []
  },
  {
   "cell_type": "markdown",
   "id": "df9a0f8c-b363-4ceb-bcc6-04128ec2bffc",
   "metadata": {
    "tags": []
   },
   "source": [
    "**Endpoint satellites/id**"
   ]
  },
  {
   "cell_type": "markdown",
   "id": "f7f1892c-1908-438d-a072-a77fc2214e52",
   "metadata": {},
   "source": [
    "Lets use endpoint satellites/[id] with the id we got from the previous endpoint.\n",
    "Important, we need to provide the whole url for the endpoint as a `string`."
   ]
  },
  {
   "cell_type": "code",
   "execution_count": null,
   "id": "3355af51-5934-43c3-8607-fcc2141470b2",
   "metadata": {},
   "outputs": [],
   "source": []
  },
  {
   "cell_type": "markdown",
   "id": "204abde8-009b-4217-8295-51fbde187742",
   "metadata": {
    "tags": []
   },
   "source": [
    "\n",
    "##### 2. **Query Parameters**\n",
    "\n",
    "These are added to the end of the URL after a question mark (`?`) and are often used to filter or sort the response. \n",
    "\n",
    "For example, in the ISS documentation, it mentions that there is a parameter `units` that can take values `miles` or `kilometers`. So in the URL `https://api.wheretheiss.at/v1/satellites/25544?units=miles`, we added `units=miles` which is a query parameter that shows the data in \"miles\". \n",
    "\n",
    "In general, we add the parameters like this `?param1=value1&param2=value2...` at the end of the URL."
   ]
  },
  {
   "cell_type": "code",
   "execution_count": null,
   "id": "b252f4b2-f739-4d78-8a14-7933b946c309",
   "metadata": {},
   "outputs": [],
   "source": []
  },
  {
   "cell_type": "markdown",
   "id": "6aea75ed-be20-475d-98c1-86f4e9d2b1fd",
   "metadata": {},
   "source": [
    "\n",
    "##### 3. **Header Parameters**\n",
    "\n",
    "These are included in the request header and can be used for various purposes, such as authentication (e.g., sending an API key or token), content negotiation (e.g., defining the response format), or custom settings defined by the API. If the API requires authentication, you might include an `Authorization` header with your API key."
   ]
  },
  {
   "cell_type": "markdown",
   "id": "78131fa0-a203-4d64-8fc2-939ee0ebf064",
   "metadata": {},
   "source": [
    "ISS API mentions that *currently there is no authentication required*. So we'll look at an example with a different API of `authentication` in `header parameters`."
   ]
  },
  {
   "cell_type": "markdown",
   "id": "69484a90-65de-44b0-87bb-b591274f27b5",
   "metadata": {},
   "source": [
    "#### Request Headers"
   ]
  },
  {
   "cell_type": "markdown",
   "id": "a5782c9a-84ad-434e-b4a5-5657f17592f1",
   "metadata": {},
   "source": [
    "Request headers are key-value pairs sent in an HTTP request to provide information about the request itself."
   ]
  },
  {
   "cell_type": "markdown",
   "id": "70c5dec7-204a-4c3b-a9e4-8c7bbf516b10",
   "metadata": {},
   "source": [
    "Some request headers are:\n",
    "\n",
    "1. **Content-Type**: Specifies the media type of the resource or data. Common examples include \"application/json\" for JSON data, \"text/html\" for HTML content, and \"application/xml\" for XML data.\n",
    "\n",
    "3. **Authorization**: Contains credentials for authenticating the client with the server, often used with tokens or other forms of authentication.\n",
    "\n",
    "4. **User-Agent**: Provides information about the client (browser or other client), including its version and operating system.\n",
    "\n",
    "\n",
    "In Python's `requests` library, you can include headers in a request by using the `headers` argument, like this:\n",
    "\n",
    "```python\n",
    "headers = {'Content-Type': 'application/json', 'Authorization': 'Bearer YOUR_TOKEN'}\n",
    "response = requests.get(url, headers=headers)\n",
    "```\n"
   ]
  },
  {
   "cell_type": "markdown",
   "id": "a5311048-ef5e-4b04-9e4b-8ed700ab3076",
   "metadata": {},
   "source": [
    "⚠️🚨 ¡Careful with the authentication token! ⚠️🚨  A token is a personal credential for accessing an API, through which your request quota to the API is managed. Therefore, the ideal procedure is to ensure security by storing the token as a variable in an .env file. This way, you can call the environment variable without having to publicly display the token."
   ]
  },
  {
   "cell_type": "markdown",
   "id": "b3cf22bc-d4e1-4e51-876e-f4df41b70f05",
   "metadata": {},
   "source": [
    "**Example: News API**"
   ]
  },
  {
   "cell_type": "markdown",
   "id": "a6b35b6f-4cb4-4b89-af23-3c9c65fb2686",
   "metadata": {},
   "source": [
    "The *News API* lets you locate articles and breaking news headlines from news sources and blogs across the web."
   ]
  },
  {
   "cell_type": "markdown",
   "id": "58123f1a-b5e4-4b20-a02d-47077a4a3635",
   "metadata": {},
   "source": [
    "- Let's look at the [NewsAPI Authentication documentation](https://newsapi.org/docs/authentication). It mentions: \n",
    "```\n",
    "You can attach your API key to a request in one of three ways:\n",
    "\n",
    "- Via the apiKey querystring parameter.\n",
    "- Via the X-Api-Key HTTP header.\n",
    "- Via the Authorization HTTP header. Including Bearer is optional, and be sure not to base 64 encode it like you may have seen in other authentication tutorials.\n",
    "We strongly recommend the either of last two so that your API key isn't visible to others in logs or via request sniffing.\n",
    "\n",
    "If you don't append your API key correctly, or your API key is invalid, you will receive a 401 - Unauthorized HTTP error.\n",
    "```\n",
    "\n",
    "- Let's look at the documentation for the endpoints to see what **parameters** they accept: [NewsAPI endpoints](https://newsapi.org/docs/endpoints). We see we have the endpoint `/v2/top-headlines` – *returns breaking news headlines for countries, categories, and singular publishers. This is perfect for use with news tickers or anywhere you want to use live up-to-date news headlines.*\n",
    "If we look at the [documentation of that endpoint](https://newsapi.org/docs/endpoints/top-headlines) we see we have more parameters we can add such as `country` or `category`."
   ]
  },
  {
   "cell_type": "code",
   "execution_count": null,
   "id": "e2853b7d-09f0-46e3-83df-c1a1b03f6b61",
   "metadata": {},
   "outputs": [],
   "source": []
  },
  {
   "cell_type": "markdown",
   "id": "a0ae416d-0215-4acd-9479-2ba49dab313b",
   "metadata": {},
   "source": [
    "##### Saving the API Key"
   ]
  },
  {
   "cell_type": "markdown",
   "id": "2c509a90-72f3-4bba-9b29-bc4316bd3111",
   "metadata": {},
   "source": [
    "Storing an API key directly in your code can expose sensitive information, especially if your code is publicly available (e.g., on a public GitHub repository). The best practice for saving and loading an API key in your code involves the following steps:\n",
    "\n",
    "1. **Storing the API Key**:\n",
    "    - **Use Environment Variables**: Store your API key in an environment variable on your system. This keeps the key out of your codebase and allows you to change it without altering your code.\n",
    "\n",
    "\n",
    "    - **Create a .env File**: If you prefer, you can create a `.env` file (just call it `.env` nothing else before the `.`) in your project directory to store the API key. Inside this file, you would have something like:\n",
    "   \n",
    "       ```\n",
    "       API_KEY=your-api-key-here\n",
    "       ```\n",
    "\n",
    "        - **Add .env to .gitignore**: If you're using a version control system like Git, make sure to add the `.env` file to your `.gitignore` file. This prevents the `.env` file (and therefore your API key) from being uploaded to any public repositories. We'll talk about Git and .gitignore in more detail soon.\n",
    "\n",
    "2. **Load the Key in Your Code**: \n",
    "\n",
    "    You can use libraries like `python-dotenv` to load the key into your code. \n",
    "    You would need to install `python-dotenv` first.\n",
    "    ```python \n",
    "    !pip install python-dotenv\n",
    "\n",
    "    from dotenv import load_dotenv\n",
    "    import os\n",
    "\n",
    "    load_dotenv()\n",
    "    api_key = os.getenv(\"API_KEY\")\n",
    "    ```\n",
    "\n",
    "       \n",
    "    Now, `api_key` contains the value of your API key, and you can use it to authenticate your requests to the API.\n",
    "       \n"
   ]
  },
  {
   "cell_type": "markdown",
   "id": "98b7f771-e230-4223-a5a7-4353ee337934",
   "metadata": {},
   "source": [
    "Lets do the second approach. Lets save it in an env file and save it in a variable."
   ]
  },
  {
   "cell_type": "markdown",
   "id": "3766f8a4-3e0a-4b18-8b16-d5e0d64c4dbd",
   "metadata": {},
   "source": [
    "`Make sure your file is named .env and not .env.txt! Is one of the most common errors. If you need, look at the document properties to make sure it doesn't have .txt at the end even if its not showing the .txt when looking at your folder.`"
   ]
  },
  {
   "cell_type": "code",
   "execution_count": null,
   "id": "eb07a572-50ca-41b0-b3b3-ec82d0cd3f5f",
   "metadata": {
    "scrolled": true
   },
   "outputs": [],
   "source": []
  },
  {
   "cell_type": "markdown",
   "id": "b6e5c398-c333-4831-b15c-230c63e7ac9c",
   "metadata": {},
   "source": [
    "## APIs examples"
   ]
  },
  {
   "cell_type": "markdown",
   "id": "99d3ab93-1f0f-4c3d-9a4d-ebdf7337641b",
   "metadata": {},
   "source": [
    "### NewsAPI"
   ]
  },
  {
   "cell_type": "code",
   "execution_count": null,
   "id": "52a61b64-8df2-4682-a17e-9ecb805c9dfb",
   "metadata": {},
   "outputs": [],
   "source": []
  },
  {
   "cell_type": "markdown",
   "id": "2dc2bab1-1cdc-4a3f-9956-b5d5eb832103",
   "metadata": {},
   "source": [
    "#### 💡 Check for understanding"
   ]
  },
  {
   "cell_type": "markdown",
   "id": "3e21fbb4-6e2d-43ef-a61e-38da7eedc5fe",
   "metadata": {},
   "source": [
    "1. What data type is the column *source*?\n",
    "2. Since the column *source* is not very useful as it is, create a column called *name* that contains only the name inside the column *source*.\n",
    "3. How many times each unique name appears in the \"name\" column?"
   ]
  },
  {
   "cell_type": "code",
   "execution_count": null,
   "id": "666fe7d0-9ba9-44c1-b66d-4bc58a9b964c",
   "metadata": {},
   "outputs": [],
   "source": []
  },
  {
   "cell_type": "markdown",
   "id": "48ca730a-10fe-4a69-ad11-01bf8759a938",
   "metadata": {},
   "source": [
    "### Pokemon API"
   ]
  },
  {
   "cell_type": "markdown",
   "id": "be8f6d65-359d-408b-aeb4-64379614377f",
   "metadata": {},
   "source": [
    "[PokeAPI](https://pokeapi.co/) is a full RESTful API linked to an extensive database detailing everything about the Pokémon main game series.\n",
    "\n",
    "In the documentation we see that we can get lot's of data. Let's look at the endpoint *pokemon*: ```https://pokeapi.co/api/v2/pokemon/{id or name}/``` "
   ]
  },
  {
   "cell_type": "code",
   "execution_count": 13,
   "id": "32e0e235-9857-4636-8bde-6d24ad68c615",
   "metadata": {},
   "outputs": [
    {
     "ename": "InvalidSchema",
     "evalue": "No connection adapters were found for '`https://pokeapi.co/api/v2/pokemon/pokemon/ditto'",
     "output_type": "error",
     "traceback": [
      "\u001b[31m---------------------------------------------------------------------------\u001b[39m",
      "\u001b[31mInvalidSchema\u001b[39m                             Traceback (most recent call last)",
      "\u001b[36mCell\u001b[39m\u001b[36m \u001b[39m\u001b[32mIn[13]\u001b[39m\u001b[32m, line 2\u001b[39m\n\u001b[32m      1\u001b[39m \u001b[38;5;28;01mimport\u001b[39;00m\u001b[38;5;250m \u001b[39m\u001b[34;01mrequests\u001b[39;00m\n\u001b[32m----> \u001b[39m\u001b[32m2\u001b[39m pokemon= \u001b[43mrequests\u001b[49m\u001b[43m.\u001b[49m\u001b[43mget\u001b[49m\u001b[43m(\u001b[49m\u001b[33;43m\"\u001b[39;49m\u001b[33;43m`https://pokeapi.co/api/v2/pokemon/pokemon/ditto\u001b[39;49m\u001b[33;43m\"\u001b[39;49m\u001b[43m)\u001b[49m\n",
      "\u001b[36mFile \u001b[39m\u001b[32m~/PycharmProjects/DS_2025_ICK/.venv/lib/python3.12/site-packages/requests/api.py:73\u001b[39m, in \u001b[36mget\u001b[39m\u001b[34m(url, params, **kwargs)\u001b[39m\n\u001b[32m     62\u001b[39m \u001b[38;5;28;01mdef\u001b[39;00m\u001b[38;5;250m \u001b[39m\u001b[34mget\u001b[39m(url, params=\u001b[38;5;28;01mNone\u001b[39;00m, **kwargs):\n\u001b[32m     63\u001b[39m \u001b[38;5;250m    \u001b[39m\u001b[33mr\u001b[39m\u001b[33;03m\"\"\"Sends a GET request.\u001b[39;00m\n\u001b[32m     64\u001b[39m \n\u001b[32m     65\u001b[39m \u001b[33;03m    :param url: URL for the new :class:`Request` object.\u001b[39;00m\n\u001b[32m   (...)\u001b[39m\u001b[32m     70\u001b[39m \u001b[33;03m    :rtype: requests.Response\u001b[39;00m\n\u001b[32m     71\u001b[39m \u001b[33;03m    \"\"\"\u001b[39;00m\n\u001b[32m---> \u001b[39m\u001b[32m73\u001b[39m     \u001b[38;5;28;01mreturn\u001b[39;00m \u001b[43mrequest\u001b[49m\u001b[43m(\u001b[49m\u001b[33;43m\"\u001b[39;49m\u001b[33;43mget\u001b[39;49m\u001b[33;43m\"\u001b[39;49m\u001b[43m,\u001b[49m\u001b[43m \u001b[49m\u001b[43murl\u001b[49m\u001b[43m,\u001b[49m\u001b[43m \u001b[49m\u001b[43mparams\u001b[49m\u001b[43m=\u001b[49m\u001b[43mparams\u001b[49m\u001b[43m,\u001b[49m\u001b[43m \u001b[49m\u001b[43m*\u001b[49m\u001b[43m*\u001b[49m\u001b[43mkwargs\u001b[49m\u001b[43m)\u001b[49m\n",
      "\u001b[36mFile \u001b[39m\u001b[32m~/PycharmProjects/DS_2025_ICK/.venv/lib/python3.12/site-packages/requests/api.py:59\u001b[39m, in \u001b[36mrequest\u001b[39m\u001b[34m(method, url, **kwargs)\u001b[39m\n\u001b[32m     55\u001b[39m \u001b[38;5;66;03m# By using the 'with' statement we are sure the session is closed, thus we\u001b[39;00m\n\u001b[32m     56\u001b[39m \u001b[38;5;66;03m# avoid leaving sockets open which can trigger a ResourceWarning in some\u001b[39;00m\n\u001b[32m     57\u001b[39m \u001b[38;5;66;03m# cases, and look like a memory leak in others.\u001b[39;00m\n\u001b[32m     58\u001b[39m \u001b[38;5;28;01mwith\u001b[39;00m sessions.Session() \u001b[38;5;28;01mas\u001b[39;00m session:\n\u001b[32m---> \u001b[39m\u001b[32m59\u001b[39m     \u001b[38;5;28;01mreturn\u001b[39;00m \u001b[43msession\u001b[49m\u001b[43m.\u001b[49m\u001b[43mrequest\u001b[49m\u001b[43m(\u001b[49m\u001b[43mmethod\u001b[49m\u001b[43m=\u001b[49m\u001b[43mmethod\u001b[49m\u001b[43m,\u001b[49m\u001b[43m \u001b[49m\u001b[43murl\u001b[49m\u001b[43m=\u001b[49m\u001b[43murl\u001b[49m\u001b[43m,\u001b[49m\u001b[43m \u001b[49m\u001b[43m*\u001b[49m\u001b[43m*\u001b[49m\u001b[43mkwargs\u001b[49m\u001b[43m)\u001b[49m\n",
      "\u001b[36mFile \u001b[39m\u001b[32m~/PycharmProjects/DS_2025_ICK/.venv/lib/python3.12/site-packages/requests/sessions.py:589\u001b[39m, in \u001b[36mSession.request\u001b[39m\u001b[34m(self, method, url, params, data, headers, cookies, files, auth, timeout, allow_redirects, proxies, hooks, stream, verify, cert, json)\u001b[39m\n\u001b[32m    584\u001b[39m send_kwargs = {\n\u001b[32m    585\u001b[39m     \u001b[33m\"\u001b[39m\u001b[33mtimeout\u001b[39m\u001b[33m\"\u001b[39m: timeout,\n\u001b[32m    586\u001b[39m     \u001b[33m\"\u001b[39m\u001b[33mallow_redirects\u001b[39m\u001b[33m\"\u001b[39m: allow_redirects,\n\u001b[32m    587\u001b[39m }\n\u001b[32m    588\u001b[39m send_kwargs.update(settings)\n\u001b[32m--> \u001b[39m\u001b[32m589\u001b[39m resp = \u001b[38;5;28;43mself\u001b[39;49m\u001b[43m.\u001b[49m\u001b[43msend\u001b[49m\u001b[43m(\u001b[49m\u001b[43mprep\u001b[49m\u001b[43m,\u001b[49m\u001b[43m \u001b[49m\u001b[43m*\u001b[49m\u001b[43m*\u001b[49m\u001b[43msend_kwargs\u001b[49m\u001b[43m)\u001b[49m\n\u001b[32m    591\u001b[39m \u001b[38;5;28;01mreturn\u001b[39;00m resp\n",
      "\u001b[36mFile \u001b[39m\u001b[32m~/PycharmProjects/DS_2025_ICK/.venv/lib/python3.12/site-packages/requests/sessions.py:697\u001b[39m, in \u001b[36mSession.send\u001b[39m\u001b[34m(self, request, **kwargs)\u001b[39m\n\u001b[32m    694\u001b[39m hooks = request.hooks\n\u001b[32m    696\u001b[39m \u001b[38;5;66;03m# Get the appropriate adapter to use\u001b[39;00m\n\u001b[32m--> \u001b[39m\u001b[32m697\u001b[39m adapter = \u001b[38;5;28;43mself\u001b[39;49m\u001b[43m.\u001b[49m\u001b[43mget_adapter\u001b[49m\u001b[43m(\u001b[49m\u001b[43murl\u001b[49m\u001b[43m=\u001b[49m\u001b[43mrequest\u001b[49m\u001b[43m.\u001b[49m\u001b[43murl\u001b[49m\u001b[43m)\u001b[49m\n\u001b[32m    699\u001b[39m \u001b[38;5;66;03m# Start time (approximately) of the request\u001b[39;00m\n\u001b[32m    700\u001b[39m start = preferred_clock()\n",
      "\u001b[36mFile \u001b[39m\u001b[32m~/PycharmProjects/DS_2025_ICK/.venv/lib/python3.12/site-packages/requests/sessions.py:792\u001b[39m, in \u001b[36mSession.get_adapter\u001b[39m\u001b[34m(self, url)\u001b[39m\n\u001b[32m    789\u001b[39m         \u001b[38;5;28;01mreturn\u001b[39;00m adapter\n\u001b[32m    791\u001b[39m \u001b[38;5;66;03m# Nothing matches :-/\u001b[39;00m\n\u001b[32m--> \u001b[39m\u001b[32m792\u001b[39m \u001b[38;5;28;01mraise\u001b[39;00m InvalidSchema(\u001b[33mf\u001b[39m\u001b[33m\"\u001b[39m\u001b[33mNo connection adapters were found for \u001b[39m\u001b[38;5;132;01m{\u001b[39;00murl\u001b[38;5;132;01m!r}\u001b[39;00m\u001b[33m\"\u001b[39m)\n",
      "\u001b[31mInvalidSchema\u001b[39m: No connection adapters were found for '`https://pokeapi.co/api/v2/pokemon/pokemon/ditto'"
     ]
    }
   ],
   "source": [
    "import requests\n",
    "pokemon= requests.get(\"`https://pokeapi.co/api/v2/pokemon/pokemon/ditto\")"
   ]
  },
  {
   "cell_type": "markdown",
   "id": "4680fda5-270d-45e9-ab0f-abebcfe09088",
   "metadata": {},
   "source": [
    "### Coincap API"
   ]
  },
  {
   "cell_type": "markdown",
   "id": "d43ce6fe-baf5-42da-9e40-d31f2c8e3b27",
   "metadata": {},
   "source": [
    "CoinCap is a useful tool for real-time pricing and market activity for over 1,000 cryptocurrencies. Check the documentation at https://docs.coincap.io/"
   ]
  },
  {
   "cell_type": "code",
   "execution_count": null,
   "id": "bdfda195-9de8-4e2c-8b01-63161db18060",
   "metadata": {},
   "outputs": [],
   "source": [
    "url = \"http://api.coincap.io/v2/assets\""
   ]
  },
  {
   "cell_type": "markdown",
   "id": "52dfaadb-dd5f-4b7d-a832-c101e4d7c80a",
   "metadata": {},
   "source": [
    "### Api Jokes\n",
    "\n",
    "JokeAPI is a REST API that serves uniformly and well formatted jokes.\n",
    "It can be used without any API token, membership, registration or payment.\n",
    "It supports a variety of filters that can be applied to get just the right jokes you need.\n",
    "Check the documentation here: https://jokeapi.dev/ "
   ]
  },
  {
   "cell_type": "code",
   "execution_count": null,
   "id": "e897b2d9-088c-47fd-9d58-fefec4332150",
   "metadata": {},
   "outputs": [],
   "source": [
    "url_random_joke = \"https://v2.jokeapi.dev/joke/dark?amount=3\""
   ]
  },
  {
   "cell_type": "markdown",
   "id": "bd07c567-1d95-428a-8ac9-9f9909457c49",
   "metadata": {
    "lang": "en"
   },
   "source": [
    "### 💡 Check for understanding\n"
   ]
  },
  {
   "cell_type": "markdown",
   "id": "08d0de37-f0e9-4249-a1f2-3e9c091f83da",
   "metadata": {},
   "source": [
    "Choose one API from the [Public APIs list](https://github.com/public-apis/public-apis). Attempt to call your selected API, either with or without parameters, and retrieve some valuable information. Document your findings."
   ]
  },
  {
   "cell_type": "code",
   "execution_count": null,
   "id": "c8f7e8a5-31b7-4444-a80f-8a94dd85e2eb",
   "metadata": {},
   "outputs": [],
   "source": [
    "# Your answer goes here"
   ]
  },
  {
   "cell_type": "markdown",
   "id": "10d38405-f1bd-464f-a319-4a5f29a4cdc2",
   "metadata": {},
   "source": [
    "## API Wrappers\n",
    "\n",
    "A Python wrapper is a Python library or module that provides a more convenient or more \"Pythonic\" interface to another software component, such as a library in another language, a system tool, or a web API. It \"wraps\" the functionality of that component in a way that abstracts away its complexities and makes it easier to use in a Python context. 🙌🏻\n",
    "\n",
    "One example is the `tweepy` library, which makes obtaining data from Twitter's API relatively straightforward."
   ]
  },
  {
   "cell_type": "markdown",
   "id": "796f214d-01cc-46d1-a020-d4bb8d256799",
   "metadata": {},
   "source": [
    "## Summary\n",
    "- Import the `requests` library.\n",
    "- Store the necessary credentials, such as API key or OAuth tokens, if the API requires them.\n",
    "- Execute a `request.get` to the desired API endpoint (the API's documentation will provide details on available endpoints).\n",
    "- The API returns a JSON response.\n",
    "- This JSON can be converted into a dataframe, or you can further explore its elements (typically a list of dictionaries)."
   ]
  },
  {
   "cell_type": "markdown",
   "id": "092ff771-4d9a-4d84-98c6-db652fe4ff72",
   "metadata": {},
   "source": [
    "## Glossary"
   ]
  },
  {
   "cell_type": "markdown",
   "id": "32ca2f95-7c09-4481-8897-0b0533dba4c9",
   "metadata": {},
   "source": [
    "* DNS: domain name system.\n",
    "* HTTP: is the protocol used to transfer data over the web.\n",
    "* API: application programming interface.\n",
    "* REST: series of rules, architectural style."
   ]
  },
  {
   "cell_type": "markdown",
   "id": "12ba250f-82d7-450b-9038-0f32013dbaf5",
   "metadata": {},
   "source": [
    "* `requests`: Python library for interacting with APIs.\n",
    "* URL: server name you want to ask information for.\n",
    "* endpoint: server service you want to ask information for.\n",
    "* parameters: extra parameters to your query.\n",
    "* headers: metadata, invisible information."
   ]
  },
  {
   "cell_type": "markdown",
   "id": "df2580ce-5fa4-4716-a1f1-3d6c8edd9673",
   "metadata": {},
   "source": [
    "## Further materials"
   ]
  },
  {
   "cell_type": "markdown",
   "id": "cdae6b8f-bed4-47f8-b9ae-3d8e24e8aba6",
   "metadata": {},
   "source": [
    "[5 Simple-To-Use APIs for Beginners](https://dev.to/alanconstantino/5-simple-to-use-apis-for-beginners-2e0n)"
   ]
  },
  {
   "cell_type": "markdown",
   "id": "3e747420-7bb6-4ea7-a5d9-e05c90fafd32",
   "metadata": {},
   "source": [
    "[RapidAPI](https://rapidapi.com/category/Sports): access thousands of APIs."
   ]
  }
 ],
 "metadata": {
  "kernelspec": {
   "display_name": ".venv",
   "language": "python",
   "name": "python3"
  },
  "language_info": {
   "codemirror_mode": {
    "name": "ipython",
    "version": 3
   },
   "file_extension": ".py",
   "mimetype": "text/x-python",
   "name": "python",
   "nbconvert_exporter": "python",
   "pygments_lexer": "ipython3",
   "version": "3.12.3"
  }
 },
 "nbformat": 4,
 "nbformat_minor": 5
}
