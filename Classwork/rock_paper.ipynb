{
 "cells": [
  {
   "cell_type": "markdown",
   "id": "441721ee",
   "metadata": {},
   "source": []
  },
  {
   "cell_type": "code",
   "execution_count": 110,
   "id": "837c744c",
   "metadata": {},
   "outputs": [],
   "source": [
    "##Rock paper Scissor Game\n",
    "\n",
    "#how many round?/how many vicoried \n",
    "#genrate a random shape from the computer\n",
    "#genrate a random input shape from the user\n",
    "#comparing shape and saying who wins the round \n",
    "\n"
   ]
  },
  {
   "cell_type": "code",
   "execution_count": 111,
   "id": "945df5d0",
   "metadata": {},
   "outputs": [],
   "source": [
    "import random \n"
   ]
  },
  {
   "cell_type": "code",
   "execution_count": 112,
   "id": "daf26bcc",
   "metadata": {},
   "outputs": [],
   "source": [
    "\n",
    "#random.choice(stdt)"
   ]
  },
  {
   "cell_type": "code",
   "execution_count": 113,
   "id": "605a0e50",
   "metadata": {},
   "outputs": [
    {
     "name": "stdout",
     "output_type": "stream",
     "text": [
      "Enter the number of rounds:  1\n"
     ]
    }
   ],
   "source": [
    "def game_round():\n",
    "    number=0 \n",
    "    print(\"Enter the number of rounds: \", int(input(number)))\n",
    "    return number\n",
    "gameround=game_round()"
   ]
  },
  {
   "cell_type": "code",
   "execution_count": 114,
   "id": "93ffdbe6",
   "metadata": {},
   "outputs": [
    {
     "data": {
      "text/plain": [
       "'rock'"
      ]
     },
     "execution_count": 114,
     "metadata": {},
     "output_type": "execute_result"
    }
   ],
   "source": [
    "def user_random_shape():\n",
    "    user_choise= input(\"Enter your choice (rock/paper/scissors): \")\n",
    "    return user_choise\n",
    "user_input=user_random_shape()\n",
    "user_input"
   ]
  },
  {
   "cell_type": "code",
   "execution_count": 115,
   "id": "4b86e28b",
   "metadata": {},
   "outputs": [
    {
     "data": {
      "text/plain": [
       "'scissor'"
      ]
     },
     "execution_count": 115,
     "metadata": {},
     "output_type": "execute_result"
    }
   ],
   "source": [
    "def auto_random_shape():\n",
    "    random_choise= ['rock','paper','scissor']\n",
    "    return random.choice(random_choise)\n",
    "\n",
    "shape_genrated=auto_random_shape()\n",
    "shape_genrated"
   ]
  },
  {
   "cell_type": "code",
   "execution_count": null,
   "id": "95ce723a",
   "metadata": {},
   "outputs": [],
   "source": [
    "def patter_check(shape_genrated,user_input):\n",
    "    if user_input== 'rock' and shape_genrated == 'scissor':\n",
    "        print(\"the user win\")\n",
    "    elif user_input =='scissor' and shape_genrated=='paper':r\n",
    "        print(\"the user win\")\n",
    "    elif user_input=='paper' and shape_genrated=='rock':\n",
    "        print(\"the user win\")\n",
    "\n",
    "    elif user_input == shape_genrated:\n",
    "        print (\"it is a tie\")\n",
    "    else:\n",
    "        print(\"the computer win\")\n",
    "    return()"
   ]
  },
  {
   "cell_type": "code",
   "execution_count": 122,
   "id": "93ff02ec",
   "metadata": {},
   "outputs": [],
   "source": [
    "def game(gameround,shape_genrated,user_input):\n",
    "    # Initialize the game state\n",
    "    for i  in gameround:\n",
    "        patter_check(shape_genrated,user_input)\n",
    "    return gameround"
   ]
  },
  {
   "cell_type": "code",
   "execution_count": null,
   "id": "c4c25038",
   "metadata": {},
   "outputs": [],
   "source": []
  },
  {
   "cell_type": "code",
   "execution_count": 124,
   "id": "8e65e237",
   "metadata": {},
   "outputs": [
    {
     "ename": "TypeError",
     "evalue": "'int' object is not iterable",
     "output_type": "error",
     "traceback": [
      "\u001b[31m---------------------------------------------------------------------------\u001b[39m",
      "\u001b[31mTypeError\u001b[39m                                 Traceback (most recent call last)",
      "\u001b[36mCell\u001b[39m\u001b[36m \u001b[39m\u001b[32mIn[124]\u001b[39m\u001b[32m, line 1\u001b[39m\n\u001b[32m----> \u001b[39m\u001b[32m1\u001b[39m \u001b[43mgame\u001b[49m\u001b[43m(\u001b[49m\u001b[43mgameround\u001b[49m\u001b[43m,\u001b[49m\u001b[43mshape_genrated\u001b[49m\u001b[43m,\u001b[49m\u001b[43muser_input\u001b[49m\u001b[43m)\u001b[49m\n",
      "\u001b[36mCell\u001b[39m\u001b[36m \u001b[39m\u001b[32mIn[122]\u001b[39m\u001b[32m, line 3\u001b[39m, in \u001b[36mgame\u001b[39m\u001b[34m(gameround, shape_genrated, user_input)\u001b[39m\n\u001b[32m      1\u001b[39m \u001b[38;5;28;01mdef\u001b[39;00m\u001b[38;5;250m \u001b[39m\u001b[34mgame\u001b[39m(gameround,shape_genrated,user_input):\n\u001b[32m      2\u001b[39m     \u001b[38;5;66;03m# Initialize the game state\u001b[39;00m\n\u001b[32m----> \u001b[39m\u001b[32m3\u001b[39m \u001b[43m    \u001b[49m\u001b[38;5;28;43;01mfor\u001b[39;49;00m\u001b[43m \u001b[49m\u001b[43mi\u001b[49m\u001b[43m  \u001b[49m\u001b[38;5;129;43;01min\u001b[39;49;00m\u001b[43m \u001b[49m\u001b[43mgameround\u001b[49m\u001b[43m:\u001b[49m\n\u001b[32m      4\u001b[39m \u001b[43m        \u001b[49m\u001b[43mpatter_check\u001b[49m\u001b[43m(\u001b[49m\u001b[43mshape_genrated\u001b[49m\u001b[43m,\u001b[49m\u001b[43muser_input\u001b[49m\u001b[43m)\u001b[49m\n\u001b[32m      5\u001b[39m     \u001b[38;5;28;01mreturn\u001b[39;00m gameround\n",
      "\u001b[31mTypeError\u001b[39m: 'int' object is not iterable"
     ]
    }
   ],
   "source": [
    "game(gameround,shape_genrated,user_input)"
   ]
  },
  {
   "cell_type": "code",
   "execution_count": null,
   "id": "b53c39f8",
   "metadata": {},
   "outputs": [],
   "source": []
  }
 ],
 "metadata": {
  "kernelspec": {
   "display_name": ".venv",
   "language": "python",
   "name": "python3"
  },
  "language_info": {
   "codemirror_mode": {
    "name": "ipython",
    "version": 3
   },
   "file_extension": ".py",
   "mimetype": "text/x-python",
   "name": "python",
   "nbconvert_exporter": "python",
   "pygments_lexer": "ipython3",
   "version": "3.12.3"
  }
 },
 "nbformat": 4,
 "nbformat_minor": 5
}
