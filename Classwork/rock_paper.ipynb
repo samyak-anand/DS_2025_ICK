{
 "cells": [
  {
   "cell_type": "markdown",
   "id": "441721ee",
   "metadata": {},
   "source": []
  },
  {
   "cell_type": "code",
   "execution_count": 18,
   "id": "837c744c",
   "metadata": {},
   "outputs": [],
   "source": [
    "##Rock paper Scissor Game\n",
    "\n",
    "#how many round?/how many vicoried \n",
    "#genrate a random shape from the computer\n",
    "#genrate a random input shape from the user\n",
    "#comparing shape and saying who wins the round \n",
    "\n"
   ]
  },
  {
   "cell_type": "code",
   "execution_count": 19,
   "id": "945df5d0",
   "metadata": {},
   "outputs": [],
   "source": [
    "import random \n"
   ]
  },
  {
   "cell_type": "code",
   "execution_count": 20,
   "id": "daf26bcc",
   "metadata": {},
   "outputs": [],
   "source": [
    "\n",
    "#random.choice(stdt)"
   ]
  },
  {
   "cell_type": "code",
   "execution_count": 21,
   "id": "605a0e50",
   "metadata": {},
   "outputs": [
    {
     "name": "stdout",
     "output_type": "stream",
     "text": [
      "Enter the number of rounds:  3\n"
     ]
    }
   ],
   "source": [
    "def get_number_of_game_round():\n",
    "    number=0 \n",
    "    print(\"Enter the number of rounds: \", int(input(number)))\n",
    "    return number\n",
    "gameround=get_number_of_game_round()"
   ]
  },
  {
   "cell_type": "code",
   "execution_count": 22,
   "id": "93ffdbe6",
   "metadata": {},
   "outputs": [],
   "source": [
    "def get_user_random_shape():\n",
    "    user_choise= input(\"Enter your choice (rock/paper/scissors): \")\n",
    "    print(\"Input value:\",user_choise)\n",
    "    return user_choise\n",
    "\n"
   ]
  },
  {
   "cell_type": "code",
   "execution_count": 23,
   "id": "4b86e28b",
   "metadata": {},
   "outputs": [],
   "source": [
    "def get_auto_random_shape():\n",
    "    comp_choise=random.choice(['rock','paper','scissor'])\n",
    "    print(\"computer choise:\",comp_choise)\n",
    "    return comp_choise\n"
   ]
  },
  {
   "cell_type": "code",
   "execution_count": 30,
   "id": "95ce723a",
   "metadata": {},
   "outputs": [],
   "source": [
    "def get_patter_check(shape_genrated,user_input):\n",
    "    if user_input== 'rock' and shape_genrated == 'scissor':\n",
    "        return(\"the user win\")\n",
    "    elif user_input =='scissor' and shape_genrated=='paper':\n",
    "        return(\"the user win\")\n",
    "    elif user_input=='paper' and shape_genrated=='rock':\n",
    "        print(\"the user win\")\n",
    "\n",
    "    elif user_input == shape_genrated:\n",
    "        return (\"it is a tie\")\n",
    "    else:\n",
    "        return(\"the computer wins\")\n",
    "    return()"
   ]
  },
  {
   "cell_type": "code",
   "execution_count": 31,
   "id": "8e65e237",
   "metadata": {},
   "outputs": [],
   "source": [
    "def play_game(gameround):\n",
    "    user_score=0\n",
    "    computer_score=0\n",
    "    rounds = get_number_of_game_round()\n",
    "    for i in range(gameround):\n",
    "        entered_value= get_user_random_shape()\n",
    "        computer_choise= get_auto_random_shape()\n",
    "        round_winner=get_patter_check(entered_value,computer_choise)\n",
    "        if round_winner == \"the computer wins\":\n",
    "            computer_score+=1\n",
    "            print(\"computer wins\",computer_score)\n",
    "        elif round_winner == \"the user win\":\n",
    "            user_score+=1\n",
    "            print(\"User wins\", user_score)\n",
    "        else: \n",
    "            continue\n",
    "            \n",
    "    print(\"User Score\",user_score)\n",
    "    print(\"Computer Score\",computer_score)\n",
    "    if user_score > computer_score:\n",
    "        print(\"User wins the game\")\n",
    "    elif user_score < computer_score:\n",
    "        print(\"Computer wins the game\")\n",
    "    else:\n",
    "        print(\"it's a tie game\")\n",
    "    \n",
    "    \n",
    "    return \n",
    "   "
   ]
  },
  {
   "cell_type": "code",
   "execution_count": 32,
   "id": "b53c39f8",
   "metadata": {},
   "outputs": [
    {
     "name": "stdout",
     "output_type": "stream",
     "text": [
      "Enter the number of rounds:  3\n",
      "User Score 0\n",
      "Computer Score 0\n",
      "it's a tie game\n"
     ]
    }
   ],
   "source": [
    "play_game(gameround)"
   ]
  },
  {
   "cell_type": "code",
   "execution_count": null,
   "id": "d8b88da7",
   "metadata": {},
   "outputs": [],
   "source": []
  }
 ],
 "metadata": {
  "kernelspec": {
   "display_name": ".venv",
   "language": "python",
   "name": "python3"
  },
  "language_info": {
   "codemirror_mode": {
    "name": "ipython",
    "version": 3
   },
   "file_extension": ".py",
   "mimetype": "text/x-python",
   "name": "python",
   "nbconvert_exporter": "python",
   "pygments_lexer": "ipython3",
   "version": "3.12.3"
  }
 },
 "nbformat": 4,
 "nbformat_minor": 5
}
